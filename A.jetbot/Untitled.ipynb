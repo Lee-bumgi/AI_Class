{
 "cells": [
  {
   "cell_type": "code",
   "execution_count": 1,
   "id": "17693605",
   "metadata": {},
   "outputs": [],
   "source": [
    "# 피보나치 수열"
   ]
  },
  {
   "cell_type": "code",
   "execution_count": 5,
   "id": "62a2cba0",
   "metadata": {},
   "outputs": [
    {
     "name": "stdout",
     "output_type": "stream",
     "text": [
      "610\n"
     ]
    }
   ],
   "source": [
    "def fibo(n):\n",
    "    if n==1 or n==2:\n",
    "        return 1\n",
    "    else:\n",
    "        return fibo(n-2) + fibo(n-1)\n",
    "    \n",
    "print(fibo(15))"
   ]
  },
  {
   "cell_type": "code",
   "execution_count": 14,
   "id": "8e56961b",
   "metadata": {},
   "outputs": [
    {
     "data": {
      "text/plain": [
       "732977"
      ]
     },
     "execution_count": 14,
     "metadata": {},
     "output_type": "execute_result"
    }
   ],
   "source": [
    "#상민 수열\n",
    "def sangmin(n):\n",
    "    if n==1:\n",
    "        return 7\n",
    "    elif n==2:\n",
    "        return 8\n",
    "    else:\n",
    "        return sangmin(n-2) * sangmin(n-1)\n",
    "    \n",
    "len(str(sangmin(30)))"
   ]
  },
  {
   "cell_type": "code",
   "execution_count": null,
   "id": "48f0f9da",
   "metadata": {},
   "outputs": [],
   "source": []
  }
 ],
 "metadata": {
  "kernelspec": {
   "display_name": "Python 3 (ipykernel)",
   "language": "python",
   "name": "python3"
  },
  "language_info": {
   "codemirror_mode": {
    "name": "ipython",
    "version": 3
   },
   "file_extension": ".py",
   "mimetype": "text/x-python",
   "name": "python",
   "nbconvert_exporter": "python",
   "pygments_lexer": "ipython3",
   "version": "3.9.12"
  },
  "toc": {
   "base_numbering": 1,
   "nav_menu": {},
   "number_sections": true,
   "sideBar": true,
   "skip_h1_title": false,
   "title_cell": "Table of Contents",
   "title_sidebar": "Contents",
   "toc_cell": false,
   "toc_position": {},
   "toc_section_display": true,
   "toc_window_display": false
  }
 },
 "nbformat": 4,
 "nbformat_minor": 5
}
