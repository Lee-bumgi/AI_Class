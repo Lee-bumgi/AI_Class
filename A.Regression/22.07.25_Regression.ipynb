{
 "cells": [
  {
   "cell_type": "markdown",
   "id": "d051ed99",
   "metadata": {},
   "source": [
    "# 선형회귀 데이터 로딩(보스턴 주택가격 데이터)"
   ]
  },
  {
   "cell_type": "code",
   "execution_count": 24,
   "id": "9af4c446",
   "metadata": {},
   "outputs": [],
   "source": [
    "from sklearn.datasets import load_boston\n",
    "import numpy as np\n",
    "import pandas as pd\n",
    "import seaborn as sb\n",
    "import matplotlib.pyplot as plt"
   ]
  },
  {
   "cell_type": "code",
   "execution_count": 25,
   "id": "544e740e",
   "metadata": {
    "collapsed": true
   },
   "outputs": [
    {
     "name": "stderr",
     "output_type": "stream",
     "text": [
      "C:\\Users\\AI\\Anaconda3\\lib\\site-packages\\sklearn\\utils\\deprecation.py:87: FutureWarning: Function load_boston is deprecated; `load_boston` is deprecated in 1.0 and will be removed in 1.2.\n",
      "\n",
      "    The Boston housing prices dataset has an ethical problem. You can refer to\n",
      "    the documentation of this function for further details.\n",
      "\n",
      "    The scikit-learn maintainers therefore strongly discourage the use of this\n",
      "    dataset unless the purpose of the code is to study and educate about\n",
      "    ethical issues in data science and machine learning.\n",
      "\n",
      "    In this special case, you can fetch the dataset from the original\n",
      "    source::\n",
      "\n",
      "        import pandas as pd\n",
      "        import numpy as np\n",
      "\n",
      "\n",
      "        data_url = \"http://lib.stat.cmu.edu/datasets/boston\"\n",
      "        raw_df = pd.read_csv(data_url, sep=\"\\s+\", skiprows=22, header=None)\n",
      "        data = np.hstack([raw_df.values[::2, :], raw_df.values[1::2, :2]])\n",
      "        target = raw_df.values[1::2, 2]\n",
      "\n",
      "    Alternative datasets include the California housing dataset (i.e.\n",
      "    :func:`~sklearn.datasets.fetch_california_housing`) and the Ames housing\n",
      "    dataset. You can load the datasets as follows::\n",
      "\n",
      "        from sklearn.datasets import fetch_california_housing\n",
      "        housing = fetch_california_housing()\n",
      "\n",
      "    for the California housing dataset and::\n",
      "\n",
      "        from sklearn.datasets import fetch_openml\n",
      "        housing = fetch_openml(name=\"house_prices\", as_frame=True)\n",
      "\n",
      "    for the Ames housing dataset.\n",
      "    \n",
      "  warnings.warn(msg, category=FutureWarning)\n"
     ]
    }
   ],
   "source": [
    "data = load_boston()"
   ]
  },
  {
   "cell_type": "markdown",
   "id": "20e6c217",
   "metadata": {},
   "source": [
    "# 모델학습"
   ]
  },
  {
   "cell_type": "code",
   "execution_count": 26,
   "id": "8feda22f",
   "metadata": {},
   "outputs": [],
   "source": [
    "X = data.data\n",
    "y = data.target\n",
    "from sklearn.model_selection import train_test_split\n",
    "X_train, X_test, y_train, y_test = train_test_split(X,y,test_size=0.2, random_state=722)"
   ]
  },
  {
   "cell_type": "code",
   "execution_count": 27,
   "id": "260f3f14",
   "metadata": {},
   "outputs": [],
   "source": [
    "from sklearn.linear_model import LinearRegression"
   ]
  },
  {
   "cell_type": "code",
   "execution_count": 28,
   "id": "924ed973",
   "metadata": {},
   "outputs": [
    {
     "data": {
      "text/plain": [
       "0.7454536557439619"
      ]
     },
     "execution_count": 28,
     "metadata": {},
     "output_type": "execute_result"
    }
   ],
   "source": [
    "model = LinearRegression()\n",
    "model.fit(X_train,y_train)\n",
    "model.score(X_test,y_test)"
   ]
  },
  {
   "cell_type": "code",
   "execution_count": 29,
   "id": "6aeaf41d",
   "metadata": {},
   "outputs": [
    {
     "name": "stdout",
     "output_type": "stream",
     "text": [
      "가중치 :  [-1.18313515e-01  5.20521053e-02  1.76355388e-02  4.11554414e+00\n",
      " -2.01952839e+01  2.93408084e+00  1.01479948e-02 -1.56497280e+00\n",
      "  3.16556945e-01 -1.25687293e-02 -1.01868234e+00  6.75071633e-03\n",
      " -5.73138231e-01]\n",
      "절편 :  45.72482696295275\n"
     ]
    }
   ],
   "source": [
    "# 학습된 가중치와 절편 확인\n",
    "print(\"가중치 : \", model.coef_)\n",
    "print(\"절편 : \", model.intercept_)"
   ]
  },
  {
   "cell_type": "code",
   "execution_count": 30,
   "id": "231252b6",
   "metadata": {},
   "outputs": [
    {
     "data": {
      "text/plain": [
       "{'CRIM': -0.118313515,\n",
       " 'ZN': 0.0520521053,\n",
       " 'INDUS': 0.0176355388,\n",
       " 'CHAS': 4.11554414,\n",
       " 'NOX': -20.1952839,\n",
       " 'RM': 2.93408084,\n",
       " 'AGE': 0.0101479948,\n",
       " 'DIS': -1.5649728,\n",
       " 'RAD': 0.316556945,\n",
       " 'TAX': -0.0125687293,\n",
       " 'PTRATIO': -1.01868234,\n",
       " 'B': 0.00675071633,\n",
       " 'LSTAT': -0.573138231}"
      ]
     },
     "execution_count": 30,
     "metadata": {},
     "output_type": "execute_result"
    }
   ],
   "source": [
    "{\n",
    "'CRIM' :-1.18313515e-01,\n",
    "'ZN' : 5.20521053e-02,\n",
    "'INDUS'  : 1.76355388e-02,\n",
    "'CHAS' : 4.11554414e+00,\n",
    "'NOX' : -2.01952839e+01,\n",
    "'RM' : 2.93408084e+00 ,\n",
    "'AGE' : 1.01479948e-02,\n",
    "'DIS' : -1.56497280e+00,\n",
    "'RAD':  3.16556945e-01,\n",
    "'TAX' : -1.25687293e-02,\n",
    "'PTRATIO' : -1.01868234e+00,\n",
    " 'B' : 6.75071633e-03,\n",
    "'LSTAT' : -5.73138231e-01\n",
    "}"
   ]
  },
  {
   "cell_type": "code",
   "execution_count": 31,
   "id": "c1f31237",
   "metadata": {},
   "outputs": [],
   "source": [
    "# 다른 평가지표 사용\n",
    "from sklearn.metrics import mean_absolute_error\n",
    "from sklearn.metrics import mean_squared_error"
   ]
  },
  {
   "cell_type": "code",
   "execution_count": 32,
   "id": "bfd152c3",
   "metadata": {},
   "outputs": [
    {
     "name": "stdout",
     "output_type": "stream",
     "text": [
      "MAE : 3.028568457448007\n",
      "MSE : 17.925235768942024\n"
     ]
    }
   ],
   "source": [
    "pre = model.predict(X_test) # 예측값 생성\n",
    "print(\"MAE :\", mean_absolute_error(y_test,pre))\n",
    "print(\"MSE :\", mean_squared_error(y_test,pre))"
   ]
  },
  {
   "cell_type": "markdown",
   "id": "f7f1a006",
   "metadata": {},
   "source": [
    "## 선형모델의 학습원리\n",
    "1. 선형모델은 최적의 가중치 (w)와 절편 (b)를 선택하기위해 MSE(평균제곱오차)를 이용해 각 가설의 적합성을 판단한다.\n",
    "2. 최적의 가중치(w)와 절편 (b)를 만들기 위해서 2가지 방식을 활용한다.\n",
    "    - 해석적 방법(Ordinary Least Squares) -> LinearRegression 클래스로 구현됨\n",
    "    - 경사하강법(Gradient Descent Algorithm) -> SGDRegressor 클래스로 구현됨\n",
    "        - 초기 가중치로부터 기울기 값을 조금씩 수정해서 찾아가는 방식\n",
    "        - 기울기가 낮아지는 방향으로 계속 업데이트하는 공식"
   ]
  },
  {
   "cell_type": "markdown",
   "id": "a796d91c",
   "metadata": {},
   "source": [
    "### 가중치 변화에 다른 MSE 변화 그래프를 그려보자"
   ]
  },
  {
   "cell_type": "code",
   "execution_count": 33,
   "id": "17cab8e2",
   "metadata": {},
   "outputs": [],
   "source": [
    "# 성적데이터 생성\n",
    "data = pd.DataFrame([[2,20], [4,40], [8,80],[9,90]],\n",
    "                     index = ['해도', '예호','형','병관'],\n",
    "                     columns=['공부시간','성적점수'])"
   ]
  },
  {
   "cell_type": "code",
   "execution_count": 34,
   "id": "3c83a306",
   "metadata": {},
   "outputs": [
    {
     "data": {
      "text/html": [
       "<div>\n",
       "<style scoped>\n",
       "    .dataframe tbody tr th:only-of-type {\n",
       "        vertical-align: middle;\n",
       "    }\n",
       "\n",
       "    .dataframe tbody tr th {\n",
       "        vertical-align: top;\n",
       "    }\n",
       "\n",
       "    .dataframe thead th {\n",
       "        text-align: right;\n",
       "    }\n",
       "</style>\n",
       "<table border=\"1\" class=\"dataframe\">\n",
       "  <thead>\n",
       "    <tr style=\"text-align: right;\">\n",
       "      <th></th>\n",
       "      <th>공부시간</th>\n",
       "      <th>성적점수</th>\n",
       "    </tr>\n",
       "  </thead>\n",
       "  <tbody>\n",
       "    <tr>\n",
       "      <th>해도</th>\n",
       "      <td>2</td>\n",
       "      <td>20</td>\n",
       "    </tr>\n",
       "    <tr>\n",
       "      <th>예호</th>\n",
       "      <td>4</td>\n",
       "      <td>40</td>\n",
       "    </tr>\n",
       "    <tr>\n",
       "      <th>형</th>\n",
       "      <td>8</td>\n",
       "      <td>80</td>\n",
       "    </tr>\n",
       "    <tr>\n",
       "      <th>병관</th>\n",
       "      <td>9</td>\n",
       "      <td>90</td>\n",
       "    </tr>\n",
       "  </tbody>\n",
       "</table>\n",
       "</div>"
      ],
      "text/plain": [
       "    공부시간  성적점수\n",
       "해도     2    20\n",
       "예호     4    40\n",
       "형      8    80\n",
       "병관     9    90"
      ]
     },
     "execution_count": 34,
     "metadata": {},
     "output_type": "execute_result"
    }
   ],
   "source": [
    "data"
   ]
  },
  {
   "cell_type": "markdown",
   "id": "b241c04d",
   "metadata": {},
   "source": [
    "### MSE 함수 생성"
   ]
  },
  {
   "cell_type": "code",
   "execution_count": 35,
   "id": "738e897f",
   "metadata": {},
   "outputs": [],
   "source": [
    "def MSE(X,y,w):\n",
    "    # 예측값 생성\n",
    "    y_pre = w * X + 0\n",
    "    # 실제값과 예측값의 차이의 제곱 평균\n",
    "    error = y- y_pre # 오차\n",
    "    return (error**2).mean()\n",
    "    print(y_pre)\n",
    "    print(error)"
   ]
  },
  {
   "cell_type": "code",
   "execution_count": 36,
   "id": "305fb599",
   "metadata": {},
   "outputs": [
    {
     "data": {
      "text/plain": [
       "0.0"
      ]
     },
     "execution_count": 36,
     "metadata": {},
     "output_type": "execute_result"
    }
   ],
   "source": [
    "MSE(data['공부시간'], data['성적점수'], 10) # 결과값이 0이 나와야함"
   ]
  },
  {
   "cell_type": "markdown",
   "id": "cc66c7dd",
   "metadata": {},
   "source": [
    "### 그래프 그리기"
   ]
  },
  {
   "cell_type": "code",
   "execution_count": 37,
   "id": "ebbbd5ff",
   "metadata": {},
   "outputs": [
    {
     "data": {
      "text/plain": [
       "array([ 1.,  2.,  3.,  4.,  5.,  6.,  7.,  8.,  9., 10., 11., 12., 13.,\n",
       "       14., 15., 16., 17., 18., 19., 20.])"
      ]
     },
     "execution_count": 37,
     "metadata": {},
     "output_type": "execute_result"
    }
   ],
   "source": [
    "# 변화하는 가중치 생성\n",
    "weights = np.linspace(1,20,num=20)\n",
    "weights"
   ]
  },
  {
   "cell_type": "code",
   "execution_count": 38,
   "id": "7487852c",
   "metadata": {},
   "outputs": [
    {
     "data": {
      "text/plain": [
       "[3341.25,\n",
       " 2640.0,\n",
       " 2021.25,\n",
       " 1485.0,\n",
       " 1031.25,\n",
       " 660.0,\n",
       " 371.25,\n",
       " 165.0,\n",
       " 41.25,\n",
       " 0.0,\n",
       " 41.25,\n",
       " 165.0,\n",
       " 371.25,\n",
       " 660.0,\n",
       " 1031.25,\n",
       " 1485.0,\n",
       " 2021.25,\n",
       " 2640.0,\n",
       " 3341.25,\n",
       " 4125.0]"
      ]
     },
     "execution_count": 38,
     "metadata": {},
     "output_type": "execute_result"
    }
   ],
   "source": [
    "mse_list = []\n",
    "for w in weights :\n",
    "    mse_list.append(MSE(data['공부시간'], data['성적점수'],w))\n",
    "\n",
    "mse_list"
   ]
  },
  {
   "cell_type": "code",
   "execution_count": 39,
   "id": "8ab60e33",
   "metadata": {},
   "outputs": [
    {
     "data": {
      "image/png": "[encoded data removed]",
      "text/plain": [
       "<Figure size 720x360 with 1 Axes>"
      ]
     },
     "metadata": {
      "needs_background": "light"
     },
     "output_type": "display_data"
    }
   ],
   "source": [
    "plt.figure(figsize=(10,5))\n",
    "plt.plot(mse_list, marker = '*')\n",
    "\n",
    "plt.ylabel(\"MSE\")\n",
    "plt.xlabel(\"W\")\n",
    "plt.show()"
   ]
  },
  {
   "cell_type": "markdown",
   "id": "84bd0ddd",
   "metadata": {},
   "source": [
    "## 경사하강법으로 구현된 SGDReressor를 사용해보자."
   ]
  },
  {
   "cell_type": "code",
   "execution_count": 40,
   "id": "0094aad5",
   "metadata": {},
   "outputs": [],
   "source": [
    "from sklearn.linear_model import SGDRegressor"
   ]
  },
  {
   "cell_type": "code",
   "execution_count": 41,
   "id": "7a5c0586",
   "metadata": {},
   "outputs": [],
   "source": [
    "sgd_model = SGDRegressor(eta0 = 0.01,    # 학습률\n",
    "                         max_iter = 6000, # 반복횟수(가중치 업데이트 횟수)\n",
    "                         epsilon = 0.001, # 최소 오차 기준값\n",
    "                         n_iter_no_change=15, # 업데이트시 오차가 변경되지 않아도 계속 \n",
    "                                              # 도전하도로 허용하는 횟수\n",
    "                         verbose=1                     \n",
    "                        ) "
   ]
  },
  {
   "cell_type": "code",
   "execution_count": 42,
   "id": "88c60ae8",
   "metadata": {},
   "outputs": [
    {
     "data": {
      "text/plain": [
       "(    공부시간\n",
       " 해도     2\n",
       " 예호     4\n",
       " 형      8\n",
       " 병관     9,\n",
       " 해도    20\n",
       " 예호    40\n",
       " 형     80\n",
       " 병관    90\n",
       " Name: 성적점수, dtype: int64)"
      ]
     },
     "execution_count": 42,
     "metadata": {},
     "output_type": "execute_result"
    }
   ],
   "source": [
    "data[['공부시간']],data['성적점수']"
   ]
  },
  {
   "cell_type": "code",
   "execution_count": 43,
   "id": "4545306c",
   "metadata": {},
   "outputs": [
    {
     "name": "stdout",
     "output_type": "stream",
     "text": [
      "-- Epoch 1\n",
      "Norm: 8.75, NNZs: 1, Bias: 1.132357, T: 4, Avg. loss: 917.002330\n",
      "Total training time: 0.00 seconds.\n",
      "-- Epoch 2\n",
      "Norm: 9.57, NNZs: 1, Bias: 1.230487, T: 8, Avg. loss: 14.708294\n",
      "Total training time: 0.00 seconds.\n",
      "-- Epoch 3\n",
      "Norm: 9.75, NNZs: 1, Bias: 1.252543, T: 12, Avg. loss: 1.014960\n",
      "Total training time: 0.00 seconds.\n",
      "-- Epoch 4\n",
      "Norm: 9.80, NNZs: 1, Bias: 1.253804, T: 16, Avg. loss: 0.253832\n",
      "Total training time: 0.00 seconds.\n",
      "-- Epoch 5\n",
      "Norm: 9.82, NNZs: 1, Bias: 1.250909, T: 20, Avg. loss: 0.182778\n",
      "Total training time: 0.00 seconds.\n",
      "-- Epoch 6\n",
      "Norm: 9.83, NNZs: 1, Bias: 1.248122, T: 24, Avg. loss: 0.166637\n",
      "Total training time: 0.00 seconds.\n",
      "-- Epoch 7\n",
      "Norm: 9.83, NNZs: 1, Bias: 1.243458, T: 28, Avg. loss: 0.164936\n",
      "Total training time: 0.00 seconds.\n",
      "-- Epoch 8\n",
      "Norm: 9.83, NNZs: 1, Bias: 1.239048, T: 32, Avg. loss: 0.162730\n",
      "Total training time: 0.00 seconds.\n",
      "-- Epoch 9\n",
      "Norm: 9.84, NNZs: 1, Bias: 1.235769, T: 36, Avg. loss: 0.160573\n",
      "Total training time: 0.00 seconds.\n",
      "-- Epoch 10\n",
      "Norm: 9.83, NNZs: 1, Bias: 1.231353, T: 40, Avg. loss: 0.160536\n",
      "Total training time: 0.00 seconds.\n",
      "-- Epoch 11\n",
      "Norm: 9.83, NNZs: 1, Bias: 1.227246, T: 44, Avg. loss: 0.158600\n",
      "Total training time: 0.00 seconds.\n",
      "-- Epoch 12\n",
      "Norm: 9.84, NNZs: 1, Bias: 1.224153, T: 48, Avg. loss: 0.156973\n",
      "Total training time: 0.00 seconds.\n",
      "-- Epoch 13\n",
      "Norm: 9.83, NNZs: 1, Bias: 1.220085, T: 52, Avg. loss: 0.156931\n",
      "Total training time: 0.00 seconds.\n",
      "-- Epoch 14\n",
      "Norm: 9.83, NNZs: 1, Bias: 1.216266, T: 56, Avg. loss: 0.155231\n",
      "Total training time: 0.00 seconds.\n",
      "-- Epoch 15\n",
      "Norm: 9.84, NNZs: 1, Bias: 1.213346, T: 60, Avg. loss: 0.153812\n",
      "Total training time: 0.00 seconds.\n",
      "-- Epoch 16\n",
      "Norm: 9.83, NNZs: 1, Bias: 1.209549, T: 64, Avg. loss: 0.153742\n",
      "Total training time: 0.00 seconds.\n",
      "-- Epoch 17\n",
      "Norm: 9.83, NNZs: 1, Bias: 1.205955, T: 68, Avg. loss: 0.152218\n",
      "Total training time: 0.00 seconds.\n",
      "-- Epoch 18\n",
      "Norm: 9.84, NNZs: 1, Bias: 1.203174, T: 72, Avg. loss: 0.150938\n",
      "Total training time: 0.00 seconds.\n",
      "-- Epoch 19\n",
      "Norm: 9.84, NNZs: 1, Bias: 1.199591, T: 76, Avg. loss: 0.150845\n",
      "Total training time: 0.00 seconds.\n",
      "-- Epoch 20\n",
      "Norm: 9.84, NNZs: 1, Bias: 1.196180, T: 80, Avg. loss: 0.149453\n",
      "Total training time: 0.00 seconds.\n",
      "-- Epoch 21\n",
      "Norm: 9.84, NNZs: 1, Bias: 1.193514, T: 84, Avg. loss: 0.148279\n",
      "Total training time: 0.00 seconds.\n",
      "-- Epoch 22\n",
      "Norm: 9.84, NNZs: 1, Bias: 1.190105, T: 88, Avg. loss: 0.148169\n",
      "Total training time: 0.00 seconds.\n",
      "-- Epoch 23\n",
      "Norm: 9.84, NNZs: 1, Bias: 1.186846, T: 92, Avg. loss: 0.146880\n",
      "Total training time: 0.00 seconds.\n",
      "-- Epoch 24\n",
      "Norm: 9.84, NNZs: 1, Bias: 1.184277, T: 96, Avg. loss: 0.145790\n",
      "Total training time: 0.00 seconds.\n",
      "-- Epoch 25\n",
      "Norm: 9.84, NNZs: 1, Bias: 1.181016, T: 100, Avg. loss: 0.145667\n",
      "Total training time: 0.00 seconds.\n",
      "-- Epoch 26\n",
      "Norm: 9.84, NNZs: 1, Bias: 1.177886, T: 104, Avg. loss: 0.144463\n",
      "Total training time: 0.00 seconds.\n",
      "-- Epoch 27\n",
      "Norm: 9.84, NNZs: 1, Bias: 1.175402, T: 108, Avg. loss: 0.143442\n",
      "Total training time: 0.00 seconds.\n",
      "-- Epoch 28\n",
      "Norm: 9.84, NNZs: 1, Bias: 1.172267, T: 112, Avg. loss: 0.143308\n",
      "Total training time: 0.00 seconds.\n",
      "-- Epoch 29\n",
      "Norm: 9.84, NNZs: 1, Bias: 1.169250, T: 116, Avg. loss: 0.142175\n",
      "Total training time: 0.00 seconds.\n",
      "-- Epoch 30\n",
      "Norm: 9.84, NNZs: 1, Bias: 1.166841, T: 120, Avg. loss: 0.141212\n",
      "Total training time: 0.00 seconds.\n",
      "-- Epoch 31\n",
      "Norm: 9.84, NNZs: 1, Bias: 1.163817, T: 124, Avg. loss: 0.141071\n",
      "Total training time: 0.00 seconds.\n",
      "-- Epoch 32\n",
      "Norm: 9.84, NNZs: 1, Bias: 1.160899, T: 128, Avg. loss: 0.139998\n",
      "Total training time: 0.00 seconds.\n",
      "-- Epoch 33\n",
      "Norm: 9.84, NNZs: 1, Bias: 1.158557, T: 132, Avg. loss: 0.139085\n",
      "Total training time: 0.00 seconds.\n",
      "-- Epoch 34\n",
      "Norm: 9.84, NNZs: 1, Bias: 1.155631, T: 136, Avg. loss: 0.138938\n",
      "Total training time: 0.00 seconds.\n",
      "-- Epoch 35\n",
      "Norm: 9.84, NNZs: 1, Bias: 1.152802, T: 140, Avg. loss: 0.137918\n",
      "Total training time: 0.00 seconds.\n",
      "-- Epoch 36\n",
      "Norm: 9.84, NNZs: 1, Bias: 1.150520, T: 144, Avg. loss: 0.137048\n",
      "Total training time: 0.00 seconds.\n",
      "-- Epoch 37\n",
      "Norm: 9.84, NNZs: 1, Bias: 1.147683, T: 148, Avg. loss: 0.136896\n",
      "Total training time: 0.00 seconds.\n",
      "-- Epoch 38\n",
      "Norm: 9.84, NNZs: 1, Bias: 1.144934, T: 152, Avg. loss: 0.135923\n",
      "Total training time: 0.00 seconds.\n",
      "-- Epoch 39\n",
      "Norm: 9.84, NNZs: 1, Bias: 1.142708, T: 156, Avg. loss: 0.135092\n",
      "Total training time: 0.00 seconds.\n",
      "-- Epoch 40\n",
      "Norm: 9.84, NNZs: 1, Bias: 1.139950, T: 160, Avg. loss: 0.134936\n",
      "Total training time: 0.00 seconds.\n",
      "-- Epoch 41\n",
      "Norm: 9.84, NNZs: 1, Bias: 1.137275, T: 164, Avg. loss: 0.134004\n",
      "Total training time: 0.00 seconds.\n",
      "-- Epoch 42\n",
      "Norm: 9.85, NNZs: 1, Bias: 1.135099, T: 168, Avg. loss: 0.133208\n",
      "Total training time: 0.00 seconds.\n",
      "-- Epoch 43\n",
      "Norm: 9.84, NNZs: 1, Bias: 1.132415, T: 172, Avg. loss: 0.133049\n",
      "Total training time: 0.00 seconds.\n",
      "-- Epoch 44\n",
      "Norm: 9.84, NNZs: 1, Bias: 1.129806, T: 176, Avg. loss: 0.132155\n",
      "Total training time: 0.00 seconds.\n",
      "-- Epoch 45\n",
      "Norm: 9.85, NNZs: 1, Bias: 1.127678, T: 180, Avg. loss: 0.131389\n",
      "Total training time: 0.00 seconds.\n",
      "-- Epoch 46\n",
      "Norm: 9.85, NNZs: 1, Bias: 1.125060, T: 184, Avg. loss: 0.131228\n",
      "Total training time: 0.00 seconds.\n",
      "-- Epoch 47\n",
      "Norm: 9.84, NNZs: 1, Bias: 1.122514, T: 188, Avg. loss: 0.130367\n",
      "Total training time: 0.00 seconds.\n",
      "-- Epoch 48\n",
      "Norm: 9.85, NNZs: 1, Bias: 1.120429, T: 192, Avg. loss: 0.129630\n",
      "Total training time: 0.00 seconds.\n",
      "-- Epoch 49\n",
      "Norm: 9.85, NNZs: 1, Bias: 1.117874, T: 196, Avg. loss: 0.129467\n",
      "Total training time: 0.01 seconds.\n",
      "-- Epoch 50\n",
      "Norm: 9.85, NNZs: 1, Bias: 1.115384, T: 200, Avg. loss: 0.128638\n",
      "Total training time: 0.01 seconds.\n",
      "Convergence after 50 epochs took 0.01 seconds\n"
     ]
    },
    {
     "data": {
      "text/plain": [
       "SGDRegressor(epsilon=0.001, max_iter=6000, n_iter_no_change=15, verbose=1)"
      ]
     },
     "execution_count": 43,
     "metadata": {},
     "output_type": "execute_result"
    }
   ],
   "source": [
    "sgd_model.fit(data[['공부시간']],data['성적점수'])"
   ]
  },
  {
   "cell_type": "code",
   "execution_count": 44,
   "id": "31e04747",
   "metadata": {},
   "outputs": [
    {
     "name": "stdout",
     "output_type": "stream",
     "text": [
      "가중치 : [9.84584703]\n",
      "절편 :  [1.11538448]\n"
     ]
    }
   ],
   "source": [
    "print(\"가중치 :\", sgd_model.coef_)\n",
    "print(\"절편 : \", sgd_model.intercept_)"
   ]
  },
  {
   "cell_type": "code",
   "execution_count": 45,
   "id": "eeff918d",
   "metadata": {},
   "outputs": [
    {
     "name": "stderr",
     "output_type": "stream",
     "text": [
      "C:\\Users\\AI\\Anaconda3\\lib\\site-packages\\sklearn\\base.py:450: UserWarning: X does not have valid feature names, but SGDRegressor was fitted with feature names\n",
      "  warnings.warn(\n"
     ]
    },
    {
     "data": {
      "text/plain": [
       "array([70.03631369, 50.34461963])"
      ]
     },
     "execution_count": 45,
     "metadata": {},
     "output_type": "execute_result"
    }
   ],
   "source": [
    "sgd_model.predict([[7],[5]])"
   ]
  },
  {
   "cell_type": "markdown",
   "id": "bf8bead1",
   "metadata": {},
   "source": [
    "- 모델 -> cost,loss function -> optimized -> 모델 (1사이클)\n",
    "- epoch : 1사이클 돌리는거"
   ]
  },
  {
   "cell_type": "code",
   "execution_count": null,
   "id": "839232c3",
   "metadata": {},
   "outputs": [],
   "source": []
  },
  {
   "cell_type": "markdown",
   "id": "b55754b0",
   "metadata": {},
   "source": [
    "### 다항 회귀\n",
    "- 선형 모델의 수식에서 입력특성에 2차항이 포함된 경우\n",
    "- 고차항이 포함되면 데이터의 특성을 더 fit하게 맞출 수 있어 성능 개선의 여지가 있다."
   ]
  },
  {
   "cell_type": "code",
   "execution_count": 62,
   "id": "51e53a3e",
   "metadata": {
    "collapsed": true
   },
   "outputs": [
    {
     "name": "stderr",
     "output_type": "stream",
     "text": [
      "C:\\Users\\AI\\Anaconda3\\lib\\site-packages\\sklearn\\utils\\deprecation.py:87: FutureWarning: Function load_boston is deprecated; `load_boston` is deprecated in 1.0 and will be removed in 1.2.\n",
      "\n",
      "    The Boston housing prices dataset has an ethical problem. You can refer to\n",
      "    the documentation of this function for further details.\n",
      "\n",
      "    The scikit-learn maintainers therefore strongly discourage the use of this\n",
      "    dataset unless the purpose of the code is to study and educate about\n",
      "    ethical issues in data science and machine learning.\n",
      "\n",
      "    In this special case, you can fetch the dataset from the original\n",
      "    source::\n",
      "\n",
      "        import pandas as pd\n",
      "        import numpy as np\n",
      "\n",
      "\n",
      "        data_url = \"http://lib.stat.cmu.edu/datasets/boston\"\n",
      "        raw_df = pd.read_csv(data_url, sep=\"\\s+\", skiprows=22, header=None)\n",
      "        data = np.hstack([raw_df.values[::2, :], raw_df.values[1::2, :2]])\n",
      "        target = raw_df.values[1::2, 2]\n",
      "\n",
      "    Alternative datasets include the California housing dataset (i.e.\n",
      "    :func:`~sklearn.datasets.fetch_california_housing`) and the Ames housing\n",
      "    dataset. You can load the datasets as follows::\n",
      "\n",
      "        from sklearn.datasets import fetch_california_housing\n",
      "        housing = fetch_california_housing()\n",
      "\n",
      "    for the California housing dataset and::\n",
      "\n",
      "        from sklearn.datasets import fetch_openml\n",
      "        housing = fetch_openml(name=\"house_prices\", as_frame=True)\n",
      "\n",
      "    for the Ames housing dataset.\n",
      "    \n",
      "  warnings.warn(msg, category=FutureWarning)\n"
     ]
    }
   ],
   "source": [
    "boston = load_boston()\n",
    "data = pd.DataFrame(boston.data, columns=boston.feature_names)"
   ]
  },
  {
   "cell_type": "code",
   "execution_count": null,
   "id": "e67812b8",
   "metadata": {},
   "outputs": [],
   "source": []
  },
  {
   "cell_type": "code",
   "execution_count": 65,
   "id": "d60dd18a",
   "metadata": {},
   "outputs": [],
   "source": [
    "X_train,X_test,y_train,y_test = train_test_split(data, boston.target, random_state=726)"
   ]
  },
  {
   "cell_type": "code",
   "execution_count": 72,
   "id": "0071f7ab",
   "metadata": {},
   "outputs": [
    {
     "data": {
      "image/png": "[encoded data removed]",
      "text/plain": [
       "<Figure size 360x360 with 1 Axes>"
      ]
     },
     "metadata": {
      "needs_background": "light"
     },
     "output_type": "display_data"
    }
   ],
   "source": [
    "plt.figure(figsize = (5,5)) # 가로,세로 크기\n",
    "plt.scatter(X_train['LSTAT'],y_train, label = 'original')\n",
    "\n",
    "# 선형모델 학습\n",
    "LSTAT_model = LinearRegression()\n",
    "LSTAT_model.fit(X_train[['LSTAT']],y_train)\n",
    "# 선형모델의 예측결과 확인\n",
    "pre = LSTAT_model.predict(X_train[['LSTAT']])\n",
    "plt.scatter(X_train[['LSTAT']], pre, label= \"predict\")\n",
    "\n",
    "plt.legend()\n",
    "plt.xlabel('LSTAT')\n",
    "plt.ylabel('PRICE')\n",
    "plt.show()"
   ]
  },
  {
   "cell_type": "markdown",
   "id": "139767e6",
   "metadata": {},
   "source": [
    "#### 다항회귀 구현하기\n",
    "- 특성확장을 통해서 다항식을 만들어준다.\n",
    "- sklearn 의 PolynomialFeatures를 이용한다. # 330P"
   ]
  },
  {
   "cell_type": "code",
   "execution_count": 74,
   "id": "e961cb0d",
   "metadata": {},
   "outputs": [],
   "source": [
    "# 특성 확장!\n",
    "X_train['LSTAT x LSTAT'] = X_train['LSTAT']**2"
   ]
  },
  {
   "cell_type": "code",
   "execution_count": 75,
   "id": "2de5ede7",
   "metadata": {},
   "outputs": [],
   "source": [
    "# 모델 학습\n",
    "LSTAT_model2 = LinearRegression()\n",
    "LSTAT_model2.fit(X_train[['LSTAT','LSTAT x LSTAT']], y_train)\n",
    "# 모델 예측\n",
    "pre2 = LSTAT_model2.predict(X_train[['LSTAT','LSTAT x LSTAT']])"
   ]
  },
  {
   "cell_type": "code",
   "execution_count": 77,
   "id": "02249860",
   "metadata": {},
   "outputs": [
    {
     "data": {
      "image/png": "[encoded data removed]",
      "text/plain": [
       "<Figure size 720x360 with 1 Axes>"
      ]
     },
     "metadata": {
      "needs_background": "light"
     },
     "output_type": "display_data"
    }
   ],
   "source": [
    "plt.figure(figsize=(10,5))\n",
    "plt.scatter(X_train['LSTAT'], y_train, label = 'original')\n",
    "plt.scatter(X_train['LSTAT'], pre2)\n",
    "\n",
    "plt.legend()\n",
    "plt.xlabel('LSTAT')\n",
    "plt.ylabel('PRICE')\n",
    "plt.show()"
   ]
  },
  {
   "cell_type": "code",
   "execution_count": null,
   "id": "883ac31c",
   "metadata": {},
   "outputs": [],
   "source": []
  },
  {
   "cell_type": "code",
   "execution_count": null,
   "id": "cf65e999",
   "metadata": {},
   "outputs": [],
   "source": []
  },
  {
   "cell_type": "code",
   "execution_count": null,
   "id": "242acc9e",
   "metadata": {},
   "outputs": [],
   "source": []
  },
  {
   "cell_type": "code",
   "execution_count": null,
   "id": "c2d9c33a",
   "metadata": {},
   "outputs": [],
   "source": []
  },
  {
   "cell_type": "code",
   "execution_count": null,
   "id": "b395f684",
   "metadata": {},
   "outputs": [],
   "source": []
  },
  {
   "cell_type": "code",
   "execution_count": null,
   "id": "3e77d771",
   "metadata": {},
   "outputs": [],
   "source": []
  },
  {
   "cell_type": "code",
   "execution_count": null,
   "id": "501e882d",
   "metadata": {},
   "outputs": [],
   "source": []
  },
  {
   "cell_type": "code",
   "execution_count": null,
   "id": "702d433e",
   "metadata": {},
   "outputs": [],
   "source": []
  },
  {
   "cell_type": "code",
   "execution_count": null,
   "id": "a18a133c",
   "metadata": {},
   "outputs": [],
   "source": []
  },
  {
   "cell_type": "code",
   "execution_count": null,
   "id": "02fcfd1f",
   "metadata": {},
   "outputs": [],
   "source": []
  },
  {
   "cell_type": "code",
   "execution_count": null,
   "id": "2dfcb265",
   "metadata": {},
   "outputs": [],
   "source": []
  },
  {
   "cell_type": "code",
   "execution_count": null,
   "id": "b94569b8",
   "metadata": {},
   "outputs": [],
   "source": []
  },
  {
   "cell_type": "code",
   "execution_count": null,
   "id": "a0d31c26",
   "metadata": {},
   "outputs": [],
   "source": []
  },
  {
   "cell_type": "code",
   "execution_count": null,
   "id": "714d44ca",
   "metadata": {},
   "outputs": [],
   "source": []
  },
  {
   "cell_type": "code",
   "execution_count": null,
   "id": "7c567693",
   "metadata": {},
   "outputs": [],
   "source": []
  },
  {
   "cell_type": "code",
   "execution_count": null,
   "id": "f9b1f771",
   "metadata": {},
   "outputs": [],
   "source": []
  },
  {
   "cell_type": "code",
   "execution_count": null,
   "id": "1a44e01f",
   "metadata": {},
   "outputs": [],
   "source": []
  },
  {
   "cell_type": "code",
   "execution_count": null,
   "id": "f4f35f9a",
   "metadata": {},
   "outputs": [],
   "source": []
  },
  {
   "cell_type": "code",
   "execution_count": null,
   "id": "9341707b",
   "metadata": {},
   "outputs": [],
   "source": []
  },
  {
   "cell_type": "code",
   "execution_count": null,
   "id": "063eaf5e",
   "metadata": {},
   "outputs": [],
   "source": []
  },
  {
   "cell_type": "code",
   "execution_count": null,
   "id": "5f5b690f",
   "metadata": {},
   "outputs": [],
   "source": []
  },
  {
   "cell_type": "code",
   "execution_count": null,
   "id": "e653c8a4",
   "metadata": {},
   "outputs": [],
   "source": []
  },
  {
   "cell_type": "code",
   "execution_count": null,
   "id": "3b449a64",
   "metadata": {},
   "outputs": [],
   "source": []
  },
  {
   "cell_type": "code",
   "execution_count": null,
   "id": "582c6f58",
   "metadata": {},
   "outputs": [],
   "source": []
  },
  {
   "cell_type": "code",
   "execution_count": null,
   "id": "bae6a8bb",
   "metadata": {},
   "outputs": [],
   "source": []
  },
  {
   "cell_type": "code",
   "execution_count": null,
   "id": "bfe0f901",
   "metadata": {},
   "outputs": [],
   "source": []
  },
  {
   "cell_type": "code",
   "execution_count": null,
   "id": "6bf04094",
   "metadata": {},
   "outputs": [],
   "source": []
  },
  {
   "cell_type": "code",
   "execution_count": null,
   "id": "80c33a9a",
   "metadata": {},
   "outputs": [],
   "source": []
  },
  {
   "cell_type": "code",
   "execution_count": null,
   "id": "87bb8516",
   "metadata": {},
   "outputs": [],
   "source": []
  },
  {
   "cell_type": "code",
   "execution_count": null,
   "id": "5054ec25",
   "metadata": {},
   "outputs": [],
   "source": []
  },
  {
   "cell_type": "code",
   "execution_count": null,
   "id": "b960680c",
   "metadata": {},
   "outputs": [],
   "source": []
  },
  {
   "cell_type": "code",
   "execution_count": null,
   "id": "0dc00213",
   "metadata": {},
   "outputs": [],
   "source": []
  }
 ],
 "metadata": {
  "kernelspec": {
   "display_name": "Python 3 (ipykernel)",
   "language": "python",
   "name": "python3"
  },
  "language_info": {
   "codemirror_mode": {
    "name": "ipython",
    "version": 3
   },
   "file_extension": ".py",
   "mimetype": "text/x-python",
   "name": "python",
   "nbconvert_exporter": "python",
   "pygments_lexer": "ipython3",
   "version": "3.9.12"
  },
  "toc": {
   "base_numbering": 1,
   "nav_menu": {},
   "number_sections": false,
   "sideBar": true,
   "skip_h1_title": false,
   "title_cell": "Table of Contents",
   "title_sidebar": "Contents",
   "toc_cell": false,
   "toc_position": {},
   "toc_section_display": true,
   "toc_window_display": true
  }
 },
 "nbformat": 4,
 "nbformat_minor": 5
}
