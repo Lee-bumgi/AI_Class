{
 "cells": [
  {
   "cell_type": "markdown",
   "id": "30d59491",
   "metadata": {},
   "source": [
    "# OOP (Object Oriented Programming)\n",
    "- 객체 지향 프로그래밍\n",
    "- 객체를 만들기 위한 설계도 : Class\n",
    "- 설계도로부터 만들어지는 개념 : Object\n",
    "- 설계도로부터 실체화된(구현화된) 객체 : Instance"
   ]
  },
  {
   "cell_type": "code",
   "execution_count": 11,
   "id": "b5fdc64a",
   "metadata": {},
   "outputs": [],
   "source": [
    "class house:\n",
    "    # class 내부 요소 : 멤버(member)\n",
    "    # 멤버 변수, 멤버 함수\n",
    "    # (특성,속성), (작동)\n",
    "    toilet = 1\n",
    "    room = 5\n",
    "    floor = 2\n",
    "    looftop = True\n",
    "    # 멤버 함수\n",
    "    def information(self):\n",
    "        print(f'toilet : {self.toilet}개')\n",
    "        print(f'room : {self.room}개')\n",
    "        print(f'floor : {self.floor}개')        \n",
    "        print(f'looftop : {self.looftop}개')        "
   ]
  },
  {
   "cell_type": "code",
   "execution_count": 14,
   "id": "224f69be",
   "metadata": {},
   "outputs": [
    {
     "name": "stdout",
     "output_type": "stream",
     "text": [
      "toilet : 1개\n",
      "room : 5개\n",
      "floor : 2개\n",
      "looftop : True개\n",
      "-------------------------\n",
      "toilet : 1개\n",
      "room : 5개\n",
      "floor : 2개\n",
      "looftop : True개\n"
     ]
    }
   ],
   "source": [
    "범기집 = house()\n",
    "범기집.information()\n",
    "print(\"-------------------------\")\n",
    "부모님집 = house()\n",
    "부모님집.information()"
   ]
  },
  {
   "cell_type": "code",
   "execution_count": 16,
   "id": "8b9f729c",
   "metadata": {},
   "outputs": [
    {
     "name": "stdout",
     "output_type": "stream",
     "text": [
      "toilet : 3개\n",
      "room : 6개\n",
      "floor : 2개\n",
      "looftop : True개\n",
      "toilet : 1개\n",
      "room : 5개\n",
      "floor : 2개\n",
      "looftop : True개\n"
     ]
    }
   ],
   "source": [
    "범기집.room = 6\n",
    "범기집.toilet = 3\n",
    "범기집.information()\n",
    "부모님집.information()"
   ]
  },
  {
   "cell_type": "code",
   "execution_count": 34,
   "id": "14b3dff4",
   "metadata": {},
   "outputs": [],
   "source": [
    "class cat:\n",
    "    # 접근 제한자(Access Modifier)\n",
    "    \n",
    "    \n",
    "    name , ffood ,pattern,color= None, None, None,None\n",
    "    \n",
    "    def crying(self):\n",
    "        print(\"Meow\")\n",
    "    def eating(self):\n",
    "        print('chew')\n",
    "    def information(self):\n",
    "        print(f'name : {self.name}\\nffood : {self.ffood}\\npattern : {self.pattern}\\ncolor : {self.color}')\n",
    "    def __init__(self, name,ffood,pattern,color):\n",
    "        self.name = name\n",
    "        self.ffood = ffood\n",
    "        self.pattern = pattern\n",
    "        self.color = color\n",
    "# 생성자(constructor)\n",
    "# 객체가 생성될 때 자동으로 호출"
   ]
  },
  {
   "cell_type": "code",
   "execution_count": 35,
   "id": "25895546",
   "metadata": {},
   "outputs": [
    {
     "name": "stdout",
     "output_type": "stream",
     "text": [
      "name : pepper\n",
      "ffood : babyfood\n",
      "pattern : clean\n",
      "color : black\n",
      "Meow\n",
      "chew\n"
     ]
    }
   ],
   "source": [
    "Nero = cat(\"Nero\",'babyfood','clean','black')\n",
    "Nero.name = \"pepper\"\n",
    "Nero.information()\n",
    "Nero.crying()\n",
    "Nero.eating()"
   ]
  },
  {
   "cell_type": "markdown",
   "id": "29cb39cc",
   "metadata": {},
   "source": [
    "## 추상화(Abstraction)\n",
    "- 객체의 공통적인 특징을 추출하는 작업\n",
    "- 단, 너무 세부적인 정보 배제\n",
    "\n",
    "## 상속(Inheritance)\n",
    "- 부모클래스의 멤버(변수,함수)를 물려받아\n",
    "- 자식클래스를 정의\n",
    "\n",
    "## 캡슐화(Encapsulation)\n",
    "- 개발자가 원하는 변수,함수만 접근할 수 있도록\n",
    "- 정보를 제한\n",
    "\n",
    "## 다형성(Polymophism)\n",
    "- 다양한 형태를 나타낼 수 있는 능력"
   ]
  },
  {
   "cell_type": "code",
   "execution_count": 36,
   "id": "544816eb",
   "metadata": {},
   "outputs": [],
   "source": [
    "class shamcat(cat):\n",
    "    color = 'twotone'\n",
    "    def __init__(self, name, ffood, pattern):\n",
    "        self.name = name\n",
    "        self.ffood = ffood\n",
    "        self.pattern = pattern"
   ]
  },
  {
   "cell_type": "code",
   "execution_count": 37,
   "id": "d7931008",
   "metadata": {},
   "outputs": [
    {
     "name": "stdout",
     "output_type": "stream",
     "text": [
      "name : shaomi\n",
      "ffood : chewr\n",
      "pattern : clear\n",
      "color : twotone\n"
     ]
    }
   ],
   "source": [
    "shaomi = shamcat('shaomi','chewr','clear')\n",
    "shaomi.information()"
   ]
  },
  {
   "cell_type": "code",
   "execution_count": 41,
   "id": "1c604e4d",
   "metadata": {},
   "outputs": [],
   "source": [
    "class calculator:\n",
    "    def add(self, num1,num2):\n",
    "        return num1+int(num2)\n",
    "    def add(self, num1,num2):\n",
    "        return num1+num2\n",
    "    "
   ]
  },
  {
   "cell_type": "code",
   "execution_count": 43,
   "id": "f315863f",
   "metadata": {},
   "outputs": [
    {
     "data": {
      "text/plain": [
       "8"
      ]
     },
     "execution_count": 43,
     "metadata": {},
     "output_type": "execute_result"
    }
   ],
   "source": [
    "calculator1 = calculator()\n",
    "calculator1.add(3,\"5\")\n",
    "calculator1.add(3,5)"
   ]
  },
  {
   "cell_type": "code",
   "execution_count": null,
   "id": "436c7728",
   "metadata": {},
   "outputs": [],
   "source": []
  },
  {
   "cell_type": "code",
   "execution_count": null,
   "id": "91bb077b",
   "metadata": {},
   "outputs": [],
   "source": []
  },
  {
   "cell_type": "code",
   "execution_count": null,
   "id": "46b5c5eb",
   "metadata": {},
   "outputs": [],
   "source": []
  },
  {
   "cell_type": "code",
   "execution_count": null,
   "id": "abd12478",
   "metadata": {},
   "outputs": [],
   "source": []
  },
  {
   "cell_type": "code",
   "execution_count": null,
   "id": "04b1e15b",
   "metadata": {},
   "outputs": [],
   "source": []
  },
  {
   "cell_type": "code",
   "execution_count": null,
   "id": "7d4939d4",
   "metadata": {},
   "outputs": [],
   "source": []
  },
  {
   "cell_type": "code",
   "execution_count": null,
   "id": "ca116d0f",
   "metadata": {},
   "outputs": [],
   "source": []
  },
  {
   "cell_type": "code",
   "execution_count": null,
   "id": "c20597a5",
   "metadata": {},
   "outputs": [],
   "source": []
  },
  {
   "cell_type": "code",
   "execution_count": null,
   "id": "e7422d70",
   "metadata": {},
   "outputs": [],
   "source": []
  },
  {
   "cell_type": "code",
   "execution_count": null,
   "id": "3804756a",
   "metadata": {},
   "outputs": [],
   "source": []
  },
  {
   "cell_type": "code",
   "execution_count": null,
   "id": "e59ca63c",
   "metadata": {},
   "outputs": [],
   "source": []
  },
  {
   "cell_type": "code",
   "execution_count": null,
   "id": "8f450cca",
   "metadata": {},
   "outputs": [],
   "source": []
  },
  {
   "cell_type": "code",
   "execution_count": null,
   "id": "2e38c2c9",
   "metadata": {},
   "outputs": [],
   "source": []
  },
  {
   "cell_type": "code",
   "execution_count": null,
   "id": "0b7cba72",
   "metadata": {},
   "outputs": [],
   "source": []
  },
  {
   "cell_type": "code",
   "execution_count": null,
   "id": "f9d989f3",
   "metadata": {},
   "outputs": [],
   "source": []
  },
  {
   "cell_type": "code",
   "execution_count": null,
   "id": "ab06bc1c",
   "metadata": {},
   "outputs": [],
   "source": []
  },
  {
   "cell_type": "code",
   "execution_count": null,
   "id": "824a5761",
   "metadata": {},
   "outputs": [],
   "source": []
  },
  {
   "cell_type": "code",
   "execution_count": null,
   "id": "8cd79bcd",
   "metadata": {},
   "outputs": [],
   "source": []
  },
  {
   "cell_type": "code",
   "execution_count": null,
   "id": "b6bebabc",
   "metadata": {},
   "outputs": [],
   "source": []
  },
  {
   "cell_type": "code",
   "execution_count": null,
   "id": "32eab7d9",
   "metadata": {},
   "outputs": [],
   "source": []
  },
  {
   "cell_type": "code",
   "execution_count": null,
   "id": "bd5387fb",
   "metadata": {},
   "outputs": [],
   "source": []
  },
  {
   "cell_type": "code",
   "execution_count": null,
   "id": "2be5488c",
   "metadata": {},
   "outputs": [],
   "source": []
  },
  {
   "cell_type": "code",
   "execution_count": null,
   "id": "3f069e3c",
   "metadata": {},
   "outputs": [],
   "source": []
  },
  {
   "cell_type": "code",
   "execution_count": null,
   "id": "23e1b46d",
   "metadata": {},
   "outputs": [],
   "source": []
  }
 ],
 "metadata": {
  "kernelspec": {
   "display_name": "Python 3.9.12 ('base')",
   "language": "python",
   "name": "python3"
  },
  "language_info": {
   "codemirror_mode": {
    "name": "ipython",
    "version": 3
   },
   "file_extension": ".py",
   "mimetype": "text/x-python",
   "name": "python",
   "nbconvert_exporter": "python",
   "pygments_lexer": "ipython3",
   "version": "3.9.12"
  },
  "toc": {
   "base_numbering": 1,
   "nav_menu": {},
   "number_sections": true,
   "sideBar": true,
   "skip_h1_title": false,
   "title_cell": "Table of Contents",
   "title_sidebar": "Contents",
   "toc_cell": false,
   "toc_position": {},
   "toc_section_display": true,
   "toc_window_display": true
  },
  "vscode": {
   "interpreter": {
    "hash": "2f28686947a9d4fa78b0dd5bfc3c39f38db6b1ea450da2221c7ede16884d8f7e"
   }
  }
 },
 "nbformat": 4,
 "nbformat_minor": 5
}
