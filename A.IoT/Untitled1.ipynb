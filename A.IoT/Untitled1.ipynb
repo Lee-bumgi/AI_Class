{
 "cells": [
  {
   "cell_type": "code",
   "execution_count": 1,
   "id": "e4328fde",
   "metadata": {},
   "outputs": [],
   "source": [
    "ip_dic = {'192.168.70.153' : '이범기'}"
   ]
  },
  {
   "cell_type": "code",
   "execution_count": 2,
   "id": "0efab0a0",
   "metadata": {},
   "outputs": [],
   "source": [
    "#!pip install cx_oracle"
   ]
  },
  {
   "cell_type": "code",
   "execution_count": 3,
   "id": "e09822f5",
   "metadata": {},
   "outputs": [],
   "source": [
    "import os\n",
    "\n",
    "# r 은 이스케이프 코드 무시\n",
    "LOCATION = r'C:\\Users\\AI\\instantclient_21_6'\n",
    "os.environ['PATH'] = LOCATION + \":\" + os.environ['PATH']"
   ]
  },
  {
   "cell_type": "code",
   "execution_count": 4,
   "id": "4a462ef8",
   "metadata": {},
   "outputs": [],
   "source": [
    "import cx_Oracle"
   ]
  },
  {
   "cell_type": "markdown",
   "id": "ffc9cd9e",
   "metadata": {},
   "source": [
    "# DB연결\n",
    " - 1) Connection\n",
    " - 2) Cursor\n",
    " - 3) Execute\n",
    " - 4) Close"
   ]
  },
  {
   "cell_type": "code",
   "execution_count": 5,
   "id": "78302e8c",
   "metadata": {},
   "outputs": [],
   "source": [
    "# 1. connection\n",
    "db_id = 'hr'\n",
    "db_pw = 'hr'\n",
    "db_url = '127.0.0.1:1521/xe'\n",
    "conn = cx_Oracle.connect(db_id,db_pw, db_url)\n",
    "# 2. cursor\n",
    "curs = conn.cursor()\n",
    "# 3. execute\n",
    "sql = 'select last_name, salary from employees where salary >= 10000'\n",
    "result = curs.execute(sql)\n",
    "result.fetchall()\n",
    "# 4. close\n",
    "# 연결통로를 닫을 때는, 역순으로 닫는다.\n",
    "if curs != None:\n",
    "    curs.close()\n",
    "if conn != None:\n",
    "    conn.close()"
   ]
  },
  {
   "cell_type": "code",
   "execution_count": 6,
   "id": "b299667d",
   "metadata": {
    "scrolled": true
   },
   "outputs": [],
   "source": [
    "import cx_Oracle\n",
    "import pandas as pd\n",
    "class DA0:\n",
    "\n",
    "    def select(self):\n",
    "        db_id = 'hr'\n",
    "        db_pw = 'hr'\n",
    "        db_url = '127.0.0.1:1521/xe'\n",
    "        conn = cx_Oracle.connect(db_id, db_pw, db_url)      \n",
    "        curs = conn.cursor()        \n",
    "        sql = 'select last_name, salary from employees where salary >= 10000'\n",
    "        result = curs.execute(sql)\n",
    "        r= result.fetchall()\n",
    "        if curs != None:\n",
    "            curs.close()\n",
    "        if conn != None:\n",
    "            conn.close()\n",
    "        return r\n",
    "    \n",
    "    def select_df(self):\n",
    "        db_id = 'hr'\n",
    "        db_pw = 'hr'\n",
    "        db_url = '127.0.0.1:1521/xe'\n",
    "        conn = cx_Oracle.connect(db_id, db_pw, db_url)    \n",
    "        df = pd.read_sql(sql, conn)\n",
    "        conn.close()\n",
    "        return df"
   ]
  },
  {
   "cell_type": "code",
   "execution_count": 7,
   "id": "dc3c7853",
   "metadata": {
    "scrolled": true
   },
   "outputs": [
    {
     "data": {
      "text/html": [
       "<div>\n",
       "<style scoped>\n",
       "    .dataframe tbody tr th:only-of-type {\n",
       "        vertical-align: middle;\n",
       "    }\n",
       "\n",
       "    .dataframe tbody tr th {\n",
       "        vertical-align: top;\n",
       "    }\n",
       "\n",
       "    .dataframe thead th {\n",
       "        text-align: right;\n",
       "    }\n",
       "</style>\n",
       "<table border=\"1\" class=\"dataframe\">\n",
       "  <thead>\n",
       "    <tr style=\"text-align: right;\">\n",
       "      <th></th>\n",
       "      <th>LAST_NAME</th>\n",
       "      <th>SALARY</th>\n",
       "    </tr>\n",
       "  </thead>\n",
       "  <tbody>\n",
       "    <tr>\n",
       "      <th>0</th>\n",
       "      <td>King</td>\n",
       "      <td>24000.0</td>\n",
       "    </tr>\n",
       "    <tr>\n",
       "      <th>1</th>\n",
       "      <td>Kochhar</td>\n",
       "      <td>17000.0</td>\n",
       "    </tr>\n",
       "    <tr>\n",
       "      <th>2</th>\n",
       "      <td>De Haan</td>\n",
       "      <td>17000.0</td>\n",
       "    </tr>\n",
       "    <tr>\n",
       "      <th>3</th>\n",
       "      <td>Greenberg</td>\n",
       "      <td>12008.0</td>\n",
       "    </tr>\n",
       "    <tr>\n",
       "      <th>4</th>\n",
       "      <td>Raphaely</td>\n",
       "      <td>11000.0</td>\n",
       "    </tr>\n",
       "    <tr>\n",
       "      <th>5</th>\n",
       "      <td>Russell</td>\n",
       "      <td>14000.0</td>\n",
       "    </tr>\n",
       "    <tr>\n",
       "      <th>6</th>\n",
       "      <td>Partners</td>\n",
       "      <td>13500.0</td>\n",
       "    </tr>\n",
       "    <tr>\n",
       "      <th>7</th>\n",
       "      <td>Errazuriz</td>\n",
       "      <td>12000.0</td>\n",
       "    </tr>\n",
       "    <tr>\n",
       "      <th>8</th>\n",
       "      <td>Cambrault</td>\n",
       "      <td>11000.0</td>\n",
       "    </tr>\n",
       "    <tr>\n",
       "      <th>9</th>\n",
       "      <td>Zlotkey</td>\n",
       "      <td>10500.0</td>\n",
       "    </tr>\n",
       "    <tr>\n",
       "      <th>10</th>\n",
       "      <td>Tucker</td>\n",
       "      <td>10000.0</td>\n",
       "    </tr>\n",
       "    <tr>\n",
       "      <th>11</th>\n",
       "      <td>King</td>\n",
       "      <td>10000.0</td>\n",
       "    </tr>\n",
       "    <tr>\n",
       "      <th>12</th>\n",
       "      <td>Vishney</td>\n",
       "      <td>10500.0</td>\n",
       "    </tr>\n",
       "    <tr>\n",
       "      <th>13</th>\n",
       "      <td>Ozer</td>\n",
       "      <td>11500.0</td>\n",
       "    </tr>\n",
       "    <tr>\n",
       "      <th>14</th>\n",
       "      <td>Bloom</td>\n",
       "      <td>10000.0</td>\n",
       "    </tr>\n",
       "    <tr>\n",
       "      <th>15</th>\n",
       "      <td>Abel</td>\n",
       "      <td>11000.0</td>\n",
       "    </tr>\n",
       "    <tr>\n",
       "      <th>16</th>\n",
       "      <td>Hartstein</td>\n",
       "      <td>13000.0</td>\n",
       "    </tr>\n",
       "    <tr>\n",
       "      <th>17</th>\n",
       "      <td>Baer</td>\n",
       "      <td>10000.0</td>\n",
       "    </tr>\n",
       "    <tr>\n",
       "      <th>18</th>\n",
       "      <td>Higgins</td>\n",
       "      <td>12008.0</td>\n",
       "    </tr>\n",
       "  </tbody>\n",
       "</table>\n",
       "</div>"
      ],
      "text/plain": [
       "    LAST_NAME   SALARY\n",
       "0        King  24000.0\n",
       "1     Kochhar  17000.0\n",
       "2     De Haan  17000.0\n",
       "3   Greenberg  12008.0\n",
       "4    Raphaely  11000.0\n",
       "5     Russell  14000.0\n",
       "6    Partners  13500.0\n",
       "7   Errazuriz  12000.0\n",
       "8   Cambrault  11000.0\n",
       "9     Zlotkey  10500.0\n",
       "10     Tucker  10000.0\n",
       "11       King  10000.0\n",
       "12    Vishney  10500.0\n",
       "13       Ozer  11500.0\n",
       "14      Bloom  10000.0\n",
       "15       Abel  11000.0\n",
       "16  Hartstein  13000.0\n",
       "17       Baer  10000.0\n",
       "18    Higgins  12008.0"
      ]
     },
     "execution_count": 7,
     "metadata": {},
     "output_type": "execute_result"
    }
   ],
   "source": [
    "dao = DA0()\n",
    "r = dao.select_df()\n",
    "r\n",
    "# for name, salary in r :\n",
    "#     print(f'name : {name} / salary : {salary}')\n",
    "\n",
    "# df[df['SALARY'] >= 10000]"
   ]
  },
  {
   "cell_type": "code",
   "execution_count": 8,
   "id": "1a99d398",
   "metadata": {},
   "outputs": [
    {
     "name": "stdout",
     "output_type": "stream",
     "text": [
      " * Serving Flask app '__main__'\n",
      " * Debug mode: off\n"
     ]
    },
    {
     "name": "stderr",
     "output_type": "stream",
     "text": [
      "WARNING: This is a development server. Do not use it in a production deployment. Use a production WSGI server instead.\n",
      " * Running on http://192.168.70.153:5050\n",
      "Press CTRL+C to quit\n",
      "192.168.70.153 - - [22/Sep/2022 12:42:12] \"GET / HTTP/1.1\" 200 -\n",
      "192.168.70.153 - - [22/Sep/2022 12:42:26] \"GET /sel_emp HTTP/1.1\" 200 -\n"
     ]
    }
   ],
   "source": [
    "from flask import Flask, redirect\n",
    "app = Flask(__name__)\n",
    "@app.route('/')\n",
    "def index():\n",
    "#     url = 'http://bumgiv.dothome.co.kr/'\n",
    "#     return redirect(url)\n",
    "    return 'hello world'\n",
    "\n",
    "@app.route('/sel_emp')\n",
    "def sel_emp():\n",
    "    dao = DA0()\n",
    "    r = dao.select()\n",
    "    result = '</br>'.join(map(str, r))\n",
    "    return result\n",
    "    \n",
    "if __name__ == '__main__':\n",
    "    app.run(host='192.168.70.153', port=5050)"
   ]
  },
  {
   "cell_type": "code",
   "execution_count": null,
   "id": "2a9d8f2c",
   "metadata": {},
   "outputs": [],
   "source": []
  },
  {
   "cell_type": "code",
   "execution_count": null,
   "id": "76c2ce00",
   "metadata": {},
   "outputs": [],
   "source": []
  },
  {
   "cell_type": "code",
   "execution_count": null,
   "id": "44a92fae",
   "metadata": {},
   "outputs": [],
   "source": []
  },
  {
   "cell_type": "code",
   "execution_count": 9,
   "id": "44d30d9b",
   "metadata": {},
   "outputs": [],
   "source": [
    "# score = 100\n",
    "\n",
    "# name = '이범기'\n",
    "\n"
   ]
  },
  {
   "cell_type": "code",
   "execution_count": 10,
   "id": "6a74f937",
   "metadata": {},
   "outputs": [],
   "source": [
    "class scores:\n",
    "    name = ''\n",
    "    score = 0\n",
    "    \n",
    "    def print_info(self):\n",
    "        print('이름 : {} / 점수 : {}'.format(self.name, self.score))"
   ]
  },
  {
   "cell_type": "code",
   "execution_count": null,
   "id": "9f0e5bd4",
   "metadata": {},
   "outputs": [],
   "source": [
    "\n"
   ]
  }
 ],
 "metadata": {
  "kernelspec": {
   "display_name": "Python 3 (ipykernel)",
   "language": "python",
   "name": "python3"
  },
  "language_info": {
   "codemirror_mode": {
    "name": "ipython",
    "version": 3
   },
   "file_extension": ".py",
   "mimetype": "text/x-python",
   "name": "python",
   "nbconvert_exporter": "python",
   "pygments_lexer": "ipython3",
   "version": "3.7.13"
  },
  "toc": {
   "base_numbering": 1,
   "nav_menu": {},
   "number_sections": true,
   "sideBar": true,
   "skip_h1_title": false,
   "title_cell": "Table of Contents",
   "title_sidebar": "Contents",
   "toc_cell": false,
   "toc_position": {},
   "toc_section_display": true,
   "toc_window_display": false
  }
 },
 "nbformat": 4,
 "nbformat_minor": 5
}
