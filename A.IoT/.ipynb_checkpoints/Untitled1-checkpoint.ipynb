{
 "cells": [
  {
   "cell_type": "code",
   "execution_count": 1,
   "id": "00ce0217",
   "metadata": {},
   "outputs": [],
   "source": [
    "ip_dic = {'192.168.70.153' : '이범기'}"
   ]
  },
  {
   "cell_type": "code",
   "execution_count": 2,
   "id": "5df7ab8e",
   "metadata": {},
   "outputs": [
    {
     "name": "stdout",
     "output_type": "stream",
     "text": [
      " * Serving Flask app '__main__'\n",
      " * Debug mode: off\n"
     ]
    },
    {
     "name": "stderr",
     "output_type": "stream",
     "text": [
      "WARNING: This is a development server. Do not use it in a production deployment. Use a production WSGI server instead.\n",
      " * Running on http://192.168.70.153:5050\n",
      "Press CTRL+C to quit\n",
      "192.168.70.153 - - [22/Sep/2022 12:01:07] \"GET / HTTP/1.1\" 302 -\n",
      "192.168.70.153 - - [22/Sep/2022 12:01:13] \"GET / HTTP/1.1\" 302 -\n"
     ]
    }
   ],
   "source": [
    "from flask import Flask, redirect\n",
    "app = Flask(__name__)\n",
    "@app.route('/')\n",
    "def index():\n",
    "#     url = 'http://bumgiv.dothome.co.kr/'\n",
    "#     return redirect(url)\n",
    "\n",
    "@app.route('/sel_emp')\n",
    "def sel_emp():\n",
    "    dao = DA0()\n",
    "    r = dao.select()\n",
    "    return r\n",
    "    \n",
    "if __name__ == '__main__':\n",
    "    app.run(host='192.168.70.153', port=5050)"
   ]
  },
  {
   "cell_type": "code",
   "execution_count": null,
   "id": "f847c8f8",
   "metadata": {},
   "outputs": [],
   "source": [
    "!pip install cx_oracle"
   ]
  },
  {
   "cell_type": "code",
   "execution_count": 6,
   "id": "130c6fb7",
   "metadata": {},
   "outputs": [],
   "source": [
    "import os\n",
    "\n",
    "# r 은 이스케이프 코드 무시\n",
    "LOCATION = r'C:\\Users\\AI\\instantclient_21_6'\n",
    "os.environ['PATH'] = LOCATION + \":\" + os.environ['PATH']"
   ]
  },
  {
   "cell_type": "code",
   "execution_count": 7,
   "id": "a94aed8e",
   "metadata": {},
   "outputs": [],
   "source": [
    "import cx_Oracle"
   ]
  },
  {
   "cell_type": "markdown",
   "id": "a5ad3c02",
   "metadata": {},
   "source": [
    "# DB연결\n",
    " - 1) Connection\n",
    " - 2) Cursor\n",
    " - 3) Execute\n",
    " - 4) Close"
   ]
  },
  {
   "cell_type": "code",
   "execution_count": 20,
   "id": "7ca27b26",
   "metadata": {},
   "outputs": [],
   "source": [
    "# 1. connection\n",
    "db_id = 'hr'\n",
    "db_pw = 'hr'\n",
    "db_url = '127.0.0.1:1521/xe'\n",
    "conn = cx_Oracle.connect(db_id,db_pw, db_url)\n",
    "# 2. cursor\n",
    "curs = conn.cursor()\n",
    "# 3. execute\n",
    "sql = 'select last_name, salary from employees'\n",
    "result = curs.execute(sql)\n",
    "result.fetchall()\n",
    "# 4. close\n",
    "# 연결통로를 닫을 때는, 역순으로 닫는다.\n",
    "if curs != None:\n",
    "    curs.close()\n",
    "if conn != None:\n",
    "    conn.close()"
   ]
  },
  {
   "cell_type": "code",
   "execution_count": 21,
   "id": "cdfae87a",
   "metadata": {
    "scrolled": true
   },
   "outputs": [],
   "source": [
    "class DA0:\n",
    "    import cx_Oracle\n",
    "    def select(self):\n",
    "        db_id = 'hr'\n",
    "        db_pw = 'hr'\n",
    "        db_url = '127.0.0.1:1521/xe'\n",
    "        conn = cx_Oracle.connect(db_id, db_pw, db_url)\n",
    "        \n",
    "        curs = conn.cursor()\n",
    "        \n",
    "        sql = 'select last_name, salary from employees'\n",
    "        result = curs.execute(sql)\n",
    "        r= result.fetchall()\n",
    "        if curs != None:\n",
    "            curs.close()\n",
    "        if conn != None:\n",
    "            conn.close()\n",
    "        \n",
    "        return r\n",
    "        "
   ]
  },
  {
   "cell_type": "code",
   "execution_count": 27,
   "id": "f1cb6eb2",
   "metadata": {},
   "outputs": [
    {
     "name": "stdout",
     "output_type": "stream",
     "text": [
      "name : King / salary : 24000.0\n",
      "name : Kochhar / salary : 17000.0\n",
      "name : De Haan / salary : 17000.0\n",
      "name : Hunold / salary : 9000.0\n",
      "name : Ernst / salary : 6000.0\n",
      "name : Austin / salary : 4800.0\n",
      "name : Pataballa / salary : 4800.0\n",
      "name : Lorentz / salary : 4200.0\n",
      "name : Greenberg / salary : 12008.0\n",
      "name : Faviet / salary : 9000.0\n",
      "name : Chen / salary : 8200.0\n",
      "name : Sciarra / salary : 7700.0\n",
      "name : Urman / salary : 7800.0\n",
      "name : Popp / salary : 6900.0\n",
      "name : Raphaely / salary : 11000.0\n",
      "name : Khoo / salary : 3100.0\n",
      "name : Baida / salary : 2900.0\n",
      "name : Tobias / salary : 2800.0\n",
      "name : Himuro / salary : 2600.0\n",
      "name : Colmenares / salary : 2500.0\n",
      "name : Weiss / salary : 8000.0\n",
      "name : Fripp / salary : 8200.0\n",
      "name : Kaufling / salary : 7900.0\n",
      "name : Vollman / salary : 6500.0\n",
      "name : Mourgos / salary : 5800.0\n",
      "name : Nayer / salary : 3200.0\n",
      "name : Mikkilineni / salary : 2700.0\n",
      "name : Landry / salary : 2400.0\n",
      "name : Markle / salary : 2200.0\n",
      "name : Bissot / salary : 3300.0\n",
      "name : Atkinson / salary : 2800.0\n",
      "name : Marlow / salary : 2500.0\n",
      "name : Olson / salary : 2100.0\n",
      "name : Mallin / salary : 3300.0\n",
      "name : Rogers / salary : 2900.0\n",
      "name : Gee / salary : 2400.0\n",
      "name : Philtanker / salary : 2200.0\n",
      "name : Ladwig / salary : 3600.0\n",
      "name : Stiles / salary : 3200.0\n",
      "name : Seo / salary : 2700.0\n",
      "name : Patel / salary : 2500.0\n",
      "name : Rajs / salary : 3500.0\n",
      "name : Davies / salary : 3100.0\n",
      "name : Matos / salary : 2600.0\n",
      "name : Vargas / salary : 2500.0\n",
      "name : Russell / salary : 14000.0\n",
      "name : Partners / salary : 13500.0\n",
      "name : Errazuriz / salary : 12000.0\n",
      "name : Cambrault / salary : 11000.0\n",
      "name : Zlotkey / salary : 10500.0\n",
      "name : Tucker / salary : 10000.0\n",
      "name : Bernstein / salary : 9500.0\n",
      "name : Hall / salary : 9000.0\n",
      "name : Olsen / salary : 8000.0\n",
      "name : Cambrault / salary : 7500.0\n",
      "name : Tuvault / salary : 7000.0\n",
      "name : King / salary : 10000.0\n",
      "name : Sully / salary : 9500.0\n",
      "name : McEwen / salary : 9000.0\n",
      "name : Smith / salary : 8000.0\n",
      "name : Doran / salary : 7500.0\n",
      "name : Sewall / salary : 7000.0\n",
      "name : Vishney / salary : 10500.0\n",
      "name : Greene / salary : 9500.0\n",
      "name : Marvins / salary : 7200.0\n",
      "name : Lee / salary : 6800.0\n",
      "name : Ande / salary : 6400.0\n",
      "name : Banda / salary : 6200.0\n",
      "name : Ozer / salary : 11500.0\n",
      "name : Bloom / salary : 10000.0\n",
      "name : Fox / salary : 9600.0\n",
      "name : Smith / salary : 7400.0\n",
      "name : Bates / salary : 7300.0\n",
      "name : Kumar / salary : 6100.0\n",
      "name : Abel / salary : 11000.0\n",
      "name : Hutton / salary : 8800.0\n",
      "name : Taylor / salary : 8600.0\n",
      "name : Livingston / salary : 8400.0\n",
      "name : Grant / salary : 7000.0\n",
      "name : Johnson / salary : 6200.0\n",
      "name : Taylor / salary : 3200.0\n",
      "name : Fleaur / salary : 3100.0\n",
      "name : Sullivan / salary : 2500.0\n",
      "name : Geoni / salary : 2800.0\n",
      "name : Sarchand / salary : 4200.0\n",
      "name : Bull / salary : 4100.0\n",
      "name : Dellinger / salary : 3400.0\n",
      "name : Cabrio / salary : 3000.0\n",
      "name : Chung / salary : 3800.0\n",
      "name : Dilly / salary : 3600.0\n",
      "name : Gates / salary : 2900.0\n",
      "name : Perkins / salary : 2500.0\n",
      "name : Bell / salary : 4000.0\n",
      "name : Everett / salary : 3900.0\n",
      "name : McCain / salary : 3200.0\n",
      "name : Jones / salary : 2800.0\n",
      "name : Walsh / salary : 3100.0\n",
      "name : Feeney / salary : 3000.0\n",
      "name : OConnell / salary : 2600.0\n",
      "name : Grant / salary : 2600.0\n",
      "name : Whalen / salary : 4400.0\n",
      "name : Hartstein / salary : 13000.0\n",
      "name : Fay / salary : 6000.0\n",
      "name : Mavris / salary : 6500.0\n",
      "name : Baer / salary : 10000.0\n",
      "name : Higgins / salary : 12008.0\n",
      "name : Gietz / salary : 8300.0\n"
     ]
    }
   ],
   "source": [
    "dao = DA0()\n",
    "r = dao.select()\n",
    "\n",
    "# for name, salary in r :\n",
    "#     print(f'name : {name} / salary : {salary}')"
   ]
  },
  {
   "cell_type": "code",
   "execution_count": null,
   "id": "07e9ea0e",
   "metadata": {},
   "outputs": [],
   "source": [
    "score = 100\n",
    "\n",
    "name = '이범기'\n",
    "\n"
   ]
  },
  {
   "cell_type": "code",
   "execution_count": null,
   "id": "b62a21c7",
   "metadata": {},
   "outputs": [],
   "source": [
    "class scores:\n",
    "    name = ''\n",
    "    score = 0\n",
    "    \n",
    "    def print_info(self):\n",
    "        print('이름 : {} / 점수 : {}'.format(self.name, self.score))"
   ]
  },
  {
   "cell_type": "code",
   "execution_count": null,
   "id": "48726e68",
   "metadata": {},
   "outputs": [],
   "source": [
    "\n"
   ]
  }
 ],
 "metadata": {
  "kernelspec": {
   "display_name": "Python 3 (ipykernel)",
   "language": "python",
   "name": "python3"
  },
  "language_info": {
   "codemirror_mode": {
    "name": "ipython",
    "version": 3
   },
   "file_extension": ".py",
   "mimetype": "text/x-python",
   "name": "python",
   "nbconvert_exporter": "python",
   "pygments_lexer": "ipython3",
   "version": "3.7.13"
  },
  "toc": {
   "base_numbering": 1,
   "nav_menu": {},
   "number_sections": true,
   "sideBar": true,
   "skip_h1_title": false,
   "title_cell": "Table of Contents",
   "title_sidebar": "Contents",
   "toc_cell": false,
   "toc_position": {},
   "toc_section_display": true,
   "toc_window_display": false
  }
 },
 "nbformat": 4,
 "nbformat_minor": 5
}
