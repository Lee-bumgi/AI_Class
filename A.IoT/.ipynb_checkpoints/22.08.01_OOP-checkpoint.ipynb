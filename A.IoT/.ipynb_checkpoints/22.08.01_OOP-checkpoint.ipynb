{
 "cells": [
  {
   "cell_type": "markdown",
   "id": "c7f125be",
   "metadata": {},
   "source": [
    "# OOP (Object Oriented Programming)\n",
    "- 객체 지향 프로그래밍\n",
    "- 객체를 만들기 위한 설계도 : Class\n",
    "- 설계도로부터 만들어지는 개념 : Object\n",
    "- 설계도로부터 실체화된(구현화된) 객체 : Instance"
   ]
  },
  {
   "cell_type": "code",
   "execution_count": 11,
   "id": "b1c5437a",
   "metadata": {},
   "outputs": [],
   "source": [
    "class house:\n",
    "    # class 내부 요소 : 멤버(member)\n",
    "    # 멤버 변수, 멤버 함수\n",
    "    # (특성,속성), (작동)\n",
    "    toilet = 1\n",
    "    room = 5\n",
    "    floor = 2\n",
    "    looftop = True\n",
    "    # 멤버 함수\n",
    "    def information(self):\n",
    "        print(f'toilet : {self.toilet}개')\n",
    "        print(f'room : {self.room}개')\n",
    "        print(f'floor : {self.floor}개')        \n",
    "        print(f'looftop : {self.looftop}개')        "
   ]
  },
  {
   "cell_type": "code",
   "execution_count": 14,
   "id": "0fa8fa99",
   "metadata": {},
   "outputs": [
    {
     "name": "stdout",
     "output_type": "stream",
     "text": [
      "toilet : 1개\n",
      "room : 5개\n",
      "floor : 2개\n",
      "looftop : True개\n",
      "-------------------------\n",
      "toilet : 1개\n",
      "room : 5개\n",
      "floor : 2개\n",
      "looftop : True개\n"
     ]
    }
   ],
   "source": [
    "범기집 = house()\n",
    "범기집.information()\n",
    "print(\"-------------------------\")\n",
    "부모님집 = house()\n",
    "부모님집.information()"
   ]
  },
  {
   "cell_type": "code",
   "execution_count": 16,
   "id": "bb4427b0",
   "metadata": {},
   "outputs": [
    {
     "name": "stdout",
     "output_type": "stream",
     "text": [
      "toilet : 3개\n",
      "room : 6개\n",
      "floor : 2개\n",
      "looftop : True개\n",
      "toilet : 1개\n",
      "room : 5개\n",
      "floor : 2개\n",
      "looftop : True개\n"
     ]
    }
   ],
   "source": [
    "범기집.room = 6\n",
    "범기집.toilet = 3\n",
    "범기집.information()\n",
    "부모님집.information()"
   ]
  },
  {
   "cell_type": "code",
   "execution_count": 34,
   "id": "80a21abc",
   "metadata": {},
   "outputs": [],
   "source": [
    "class cat:\n",
    "    # 접근 제한자(Access Modifier)\n",
    "    \n",
    "    \n",
    "    name , ffood ,pattern,color= None, None, None,None\n",
    "    \n",
    "    def crying(self):\n",
    "        print(\"Meow\")\n",
    "    def eating(self):\n",
    "        print('chew')\n",
    "    def information(self):\n",
    "        print(f'name : {self.name}\\nffood : {self.ffood}\\npattern : {self.pattern}\\ncolor : {self.color}')\n",
    "    def __init__(self, name,ffood,pattern,color):\n",
    "        self.name = name\n",
    "        self.ffood = ffood\n",
    "        self.pattern = pattern\n",
    "        self.color = color\n",
    "# 생성자(constructor)\n",
    "# 객체가 생성될 때 자동으로 호출"
   ]
  },
  {
   "cell_type": "code",
   "execution_count": 35,
   "id": "4924c3b3",
   "metadata": {},
   "outputs": [
    {
     "name": "stdout",
     "output_type": "stream",
     "text": [
      "name : pepper\n",
      "ffood : babyfood\n",
      "pattern : clean\n",
      "color : black\n",
      "Meow\n",
      "chew\n"
     ]
    }
   ],
   "source": [
    "Nero = cat(\"Nero\",'babyfood','clean','black')\n",
    "Nero.name = \"pepper\"\n",
    "Nero.information()\n",
    "Nero.crying()\n",
    "Nero.eating()"
   ]
  },
  {
   "cell_type": "markdown",
   "id": "dda43f0b",
   "metadata": {},
   "source": [
    "## 추상화(Abstraction)\n",
    "- 객체의 공통적인 특징을 추출하는 작업\n",
    "- 단, 너무 세부적인 정보 배제\n",
    "\n",
    "## 상속(Inheritance)\n",
    "- 부모클래스의 멤버(변수,함수)를 물려받아\n",
    "- 자식클래스를 정의\n",
    "\n",
    "## 캡슐화(Encapsulation)\n",
    "- 개발자가 원하는 변수,함수만 접근할 수 있도록\n",
    "- 정보를 제한\n",
    "\n",
    "## 다형성(Polymophism)\n",
    "- 다양한 형태를 나타낼 수 있는 능력"
   ]
  },
  {
   "cell_type": "code",
   "execution_count": 36,
   "id": "e893ff9e",
   "metadata": {},
   "outputs": [],
   "source": [
    "class shamcat(cat):\n",
    "    color = 'twotone'\n",
    "    def __init__(self, name, ffood, pattern):\n",
    "        self.name = name\n",
    "        self.ffood = ffood\n",
    "        self.pattern = pattern"
   ]
  },
  {
   "cell_type": "code",
   "execution_count": 37,
   "id": "599a44db",
   "metadata": {},
   "outputs": [
    {
     "name": "stdout",
     "output_type": "stream",
     "text": [
      "name : shaomi\n",
      "ffood : chewr\n",
      "pattern : clear\n",
      "color : twotone\n"
     ]
    }
   ],
   "source": [
    "shaomi = shamcat('shaomi','chewr','clear')\n",
    "shaomi.information()"
   ]
  },
  {
   "cell_type": "code",
   "execution_count": 41,
   "id": "607e85c7",
   "metadata": {},
   "outputs": [],
   "source": [
    "class calculator:\n",
    "    def add(self, num1,num2):\n",
    "        return num1+int(num2)\n",
    "    def add(self, num1,num2):\n",
    "        return num1+num2\n",
    "    "
   ]
  },
  {
   "cell_type": "code",
   "execution_count": 43,
   "id": "c536eb31",
   "metadata": {},
   "outputs": [
    {
     "data": {
      "text/plain": [
       "8"
      ]
     },
     "execution_count": 43,
     "metadata": {},
     "output_type": "execute_result"
    }
   ],
   "source": [
    "calculator1 = calculator()\n",
    "calculator1.add(3,\"5\")\n",
    "calculator1.add(3,5)"
   ]
  },
  {
   "cell_type": "code",
   "execution_count": null,
   "id": "271e850b",
   "metadata": {},
   "outputs": [],
   "source": []
  },
  {
   "cell_type": "code",
   "execution_count": null,
   "id": "16914c64",
   "metadata": {},
   "outputs": [],
   "source": []
  },
  {
   "cell_type": "code",
   "execution_count": null,
   "id": "248501df",
   "metadata": {},
   "outputs": [],
   "source": []
  },
  {
   "cell_type": "code",
   "execution_count": null,
   "id": "535e29c5",
   "metadata": {},
   "outputs": [],
   "source": []
  },
  {
   "cell_type": "code",
   "execution_count": null,
   "id": "4f41a74e",
   "metadata": {},
   "outputs": [],
   "source": []
  },
  {
   "cell_type": "code",
   "execution_count": null,
   "id": "f167982d",
   "metadata": {},
   "outputs": [],
   "source": []
  },
  {
   "cell_type": "code",
   "execution_count": null,
   "id": "cb506d00",
   "metadata": {},
   "outputs": [],
   "source": []
  },
  {
   "cell_type": "code",
   "execution_count": null,
   "id": "a1c40b2b",
   "metadata": {},
   "outputs": [],
   "source": []
  },
  {
   "cell_type": "code",
   "execution_count": null,
   "id": "266e1054",
   "metadata": {},
   "outputs": [],
   "source": []
  },
  {
   "cell_type": "code",
   "execution_count": null,
   "id": "c207a6b7",
   "metadata": {},
   "outputs": [],
   "source": []
  },
  {
   "cell_type": "code",
   "execution_count": null,
   "id": "a5863de9",
   "metadata": {},
   "outputs": [],
   "source": []
  },
  {
   "cell_type": "code",
   "execution_count": null,
   "id": "e3946e93",
   "metadata": {},
   "outputs": [],
   "source": []
  },
  {
   "cell_type": "code",
   "execution_count": null,
   "id": "ddba8c40",
   "metadata": {},
   "outputs": [],
   "source": []
  },
  {
   "cell_type": "code",
   "execution_count": null,
   "id": "6fb632f9",
   "metadata": {},
   "outputs": [],
   "source": []
  },
  {
   "cell_type": "code",
   "execution_count": null,
   "id": "4e514dd2",
   "metadata": {},
   "outputs": [],
   "source": []
  },
  {
   "cell_type": "code",
   "execution_count": null,
   "id": "85c717eb",
   "metadata": {},
   "outputs": [],
   "source": []
  },
  {
   "cell_type": "code",
   "execution_count": null,
   "id": "449cc557",
   "metadata": {},
   "outputs": [],
   "source": []
  },
  {
   "cell_type": "code",
   "execution_count": null,
   "id": "9c90a47c",
   "metadata": {},
   "outputs": [],
   "source": []
  },
  {
   "cell_type": "code",
   "execution_count": null,
   "id": "6d8560db",
   "metadata": {},
   "outputs": [],
   "source": []
  },
  {
   "cell_type": "code",
   "execution_count": null,
   "id": "8334ce94",
   "metadata": {},
   "outputs": [],
   "source": []
  },
  {
   "cell_type": "code",
   "execution_count": null,
   "id": "7d834d09",
   "metadata": {},
   "outputs": [],
   "source": []
  },
  {
   "cell_type": "code",
   "execution_count": null,
   "id": "5ccf1dcd",
   "metadata": {},
   "outputs": [],
   "source": []
  },
  {
   "cell_type": "code",
   "execution_count": null,
   "id": "cf01ddb7",
   "metadata": {},
   "outputs": [],
   "source": []
  },
  {
   "cell_type": "code",
   "execution_count": null,
   "id": "9c46fb8f",
   "metadata": {},
   "outputs": [],
   "source": []
  }
 ],
 "metadata": {
  "kernelspec": {
   "display_name": "Python 3 (ipykernel)",
   "language": "python",
   "name": "python3"
  },
  "language_info": {
   "codemirror_mode": {
    "name": "ipython",
    "version": 3
   },
   "file_extension": ".py",
   "mimetype": "text/x-python",
   "name": "python",
   "nbconvert_exporter": "python",
   "pygments_lexer": "ipython3",
   "version": "3.9.12"
  },
  "toc": {
   "base_numbering": 1,
   "nav_menu": {},
   "number_sections": true,
   "sideBar": true,
   "skip_h1_title": false,
   "title_cell": "Table of Contents",
   "title_sidebar": "Contents",
   "toc_cell": false,
   "toc_position": {},
   "toc_section_display": true,
   "toc_window_display": true
  }
 },
 "nbformat": 4,
 "nbformat_minor": 5
}
