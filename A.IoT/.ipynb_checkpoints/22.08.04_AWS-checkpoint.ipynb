{
 "cells": [
  {
   "cell_type": "code",
   "execution_count": 1,
   "id": "b7814174",
   "metadata": {
    "collapsed": true
   },
   "outputs": [
    {
     "name": "stdout",
     "output_type": "stream",
     "text": [
      "Requirement already satisfied: boto3 in c:\\users\\ai\\anaconda3\\lib\\site-packages (1.21.32)\n",
      "Requirement already satisfied: s3transfer<0.6.0,>=0.5.0 in c:\\users\\ai\\anaconda3\\lib\\site-packages (from boto3) (0.5.0)\n",
      "Requirement already satisfied: botocore<1.25.0,>=1.24.32 in c:\\users\\ai\\anaconda3\\lib\\site-packages (from boto3) (1.24.32)\n",
      "Requirement already satisfied: jmespath<2.0.0,>=0.7.1 in c:\\users\\ai\\anaconda3\\lib\\site-packages (from boto3) (0.10.0)\n",
      "Requirement already satisfied: urllib3<1.27,>=1.25.4 in c:\\users\\ai\\anaconda3\\lib\\site-packages (from botocore<1.25.0,>=1.24.32->boto3) (1.26.9)\n",
      "Requirement already satisfied: python-dateutil<3.0.0,>=2.1 in c:\\users\\ai\\anaconda3\\lib\\site-packages (from botocore<1.25.0,>=1.24.32->boto3) (2.8.2)\n",
      "Requirement already satisfied: six>=1.5 in c:\\users\\ai\\anaconda3\\lib\\site-packages (from python-dateutil<3.0.0,>=2.1->botocore<1.25.0,>=1.24.32->boto3) (1.16.0)\n"
     ]
    }
   ],
   "source": [
    "!pip install boto3"
   ]
  },
  {
   "cell_type": "code",
   "execution_count": 15,
   "id": "871a1c66",
   "metadata": {},
   "outputs": [
    {
     "name": "stdout",
     "output_type": "stream",
     "text": [
      "Detected labels in dog.jpg\n",
      "강아지일 확률은 94.95%입니다\n",
      "Labels detected: 6\n"
     ]
    }
   ],
   "source": [
    "import boto3\n",
    "def detect_labels_local_file(photo):\n",
    "    client=boto3.client('rekognition')\n",
    "    with open(photo, 'rb') as image:\n",
    "        response = client.detect_labels(Image={'Bytes': image.read()})\n",
    "    print('Detected labels in ' + photo)\n",
    "    # print(response)\n",
    "    \n",
    "    check = True \n",
    "    for label in response['Labels']:\n",
    "        if label['Name'] =='Dog':\n",
    "            print('강아지일 확률은 {0:.2f}%입니다'.format(label['Confidence']))\n",
    "            check = False\n",
    "        # print (label['Name'] + ' : ' + str(label['Confidence']))\n",
    "        \n",
    "        # 강아지가 아닌 사진을 넣었을 때 (즉,. label중에 'Dog'가 없을 때)\n",
    "        # 강아지가 아닙니다 출력\n",
    "    if check == True:\n",
    "        print(\"강아지가 아닙니다\")\n",
    "    return len(response['Labels'])\n",
    "\n",
    "def main():\n",
    "    photo='dog.jpg'\n",
    "    label_count=detect_labels_local_file(photo)\n",
    "    print(\"Labels detected: \" + str(label_count))\n",
    "if __name__ == \"__main__\":\n",
    "    main()"
   ]
  },
  {
   "cell_type": "markdown",
   "id": "ed13d000",
   "metadata": {},
   "source": [
    "# 인물비교"
   ]
  },
  {
   "cell_type": "code",
   "execution_count": 21,
   "id": "58284a48",
   "metadata": {},
   "outputs": [
    {
     "name": "stdout",
     "output_type": "stream",
     "text": [
      "동일 인물일 확률은 0.04%입니다\n",
      "Face matches: 1\n"
     ]
    }
   ],
   "source": [
    "import boto3\n",
    "def compare_faces(sourceFile, targetFile):\n",
    "    client=boto3.client('rekognition')\n",
    "    imageSource=open(sourceFile,'rb')\n",
    "    imageTarget=open(targetFile,'rb')\n",
    "    response=client.compare_faces(SimilarityThreshold=0,\n",
    "                                  SourceImage={'Bytes': imageSource.read()},\n",
    "                                  TargetImage={'Bytes': imageTarget.read()})\n",
    "    for faceMatch in response['FaceMatches']:\n",
    "        position = faceMatch['Face']['BoundingBox']\n",
    "        \n",
    "        print(\"동일 인물일 확률은 {:.2f}%입니다\".format(faceMatch['Similarity']))\n",
    "        \n",
    "#         similarity = str(faceMatch['Similarity'])\n",
    "#         print('The face at ' +\n",
    "#                str(position['Left']) + ' ' +\n",
    "#                str(position['Top']) +\n",
    "#                ' matches with ' + similarity + '% confidence')\n",
    "    imageSource.close()\n",
    "    imageTarget.close()\n",
    "    return len(response['FaceMatches'])\n",
    "def main():\n",
    "    source_file='bumgi.jpg'\n",
    "    target_file='정우성.png'\n",
    "    face_matches=compare_faces(source_file, target_file)\n",
    "    print(\"Face matches: \" + str(face_matches))\n",
    "if __name__ == \"__main__\":\n",
    "    main()"
   ]
  },
  {
   "cell_type": "markdown",
   "id": "714287f4",
   "metadata": {},
   "source": [
    "# 비슷한 selebrity찾기"
   ]
  },
  {
   "cell_type": "code",
   "execution_count": 24,
   "id": "5ce5ac0b",
   "metadata": {},
   "outputs": [
    {
     "name": "stdout",
     "output_type": "stream",
     "text": [
      "Detected faces for bumgi3.jpg\n",
      "Celebrities detected: 0\n"
     ]
    }
   ],
   "source": [
    "import boto3\n",
    "import json\n",
    "def recognize_celebrities(photo):\n",
    "    client=boto3.client('rekognition')\n",
    "    with open(photo, 'rb') as image:\n",
    "        response = client.recognize_celebrities(Image={'Bytes': image.read()})\n",
    "    print('Detected faces for ' + photo)\n",
    "    for celebrity in response['CelebrityFaces']:\n",
    "        print ('Name: ' + celebrity['Name'])\n",
    "        print ('Id: ' + celebrity['Id'])\n",
    "        print ('KnownGender: ' + celebrity['KnownGender'])\n",
    "        print ('Smile: ' + celebrity['Smile'])\n",
    "        print ('Position:')\n",
    "        print ('   Left: ' + '{:.2f}'.format(celebrity['Face']['BoundingBox']['Height']))\n",
    "        print ('   Top: ' + '{:.2f}'.format(celebrity['Face']['BoundingBox']['Top']))\n",
    "        print ('Info')\n",
    "        for url in celebrity['Urls']:\n",
    "            print ('   ' + url)\n",
    "        print\n",
    "    return len(response['CelebrityFaces'])\n",
    "def main():\n",
    "    photo='bumgi3.jpg'\n",
    "    celeb_count=recognize_celebrities(photo)\n",
    "    print(\"Celebrities detected: \" + str(celeb_count))\n",
    "if __name__ == \"__main__\":\n",
    "    main()"
   ]
  },
  {
   "cell_type": "code",
   "execution_count": 34,
   "id": "0604e872",
   "metadata": {},
   "outputs": [
    {
     "name": "stdout",
     "output_type": "stream",
     "text": [
      "Detected faces for one.jpg\n",
      "Name: Won Bin\n",
      "Celebrities detected: 1\n"
     ]
    }
   ],
   "source": [
    "import boto3\n",
    "import json\n",
    "def recognize_celebrities(photo):\n",
    "    client=boto3.client('rekognition')\n",
    "    with open(photo, 'rb') as image:\n",
    "        response = client.recognize_celebrities(Image={'Bytes': image.read()})\n",
    "    print('Detected faces for ' + photo)\n",
    "    for celebrity in response['CelebrityFaces']:\n",
    "        print ('Name: ' + celebrity['Name'])\n",
    "    return len(response['CelebrityFaces'])\n",
    "def main():\n",
    "    photo='one.jpg'\n",
    "    celeb_count=recognize_celebrities(photo)\n",
    "    print(\"Celebrities detected: \" + str(celeb_count))\n",
    "if __name__ == \"__main__\":\n",
    "    main()"
   ]
  },
  {
   "cell_type": "markdown",
   "id": "9e46c51d",
   "metadata": {},
   "source": [
    "# 연예인 데이터베이스 추가"
   ]
  },
  {
   "cell_type": "code",
   "execution_count": 43,
   "id": "54f06e03",
   "metadata": {},
   "outputs": [
    {
     "name": "stdout",
     "output_type": "stream",
     "text": [
      "Detected faces for one.jpg\n",
      "Name: Won Bin\n",
      "확률은 98.59%입니다\n",
      "Celebrities detected: 1\n"
     ]
    }
   ],
   "source": [
    "import boto3\n",
    "import json\n",
    "def recognize_celebrities(photo):\n",
    "    client=boto3.client('rekognition')\n",
    "    with open(photo, 'rb') as image:\n",
    "        response = client.recognize_celebrities(Image={'Bytes': image.read()})\n",
    "#     print(response)\n",
    "    print('Detected faces for ' + photo)\n",
    "    for celebrity in response['CelebrityFaces']:\n",
    "        print ('Name: ' + celebrity['Name'])\n",
    "        print('확률은 {:.2f}%입니다'.format(celebrity['MatchConfidence']))\n",
    "    return len(response['CelebrityFaces'])\n",
    "def main():\n",
    "    photo='one.jpg'\n",
    "    celeb_count=recognize_celebrities(photo)\n",
    "    print(\"Celebrities detected: \" + str(celeb_count))\n",
    "if __name__ == \"__main__\":\n",
    "    main()"
   ]
  },
  {
   "cell_type": "code",
   "execution_count": null,
   "id": "7b4926a0",
   "metadata": {},
   "outputs": [],
   "source": []
  },
  {
   "cell_type": "markdown",
   "id": "f099ee2f",
   "metadata": {},
   "source": [
    "# 나이,감정 나옴"
   ]
  },
  {
   "cell_type": "code",
   "execution_count": 41,
   "id": "89d31cc2",
   "metadata": {
    "scrolled": true
   },
   "outputs": [
    {
     "name": "stdout",
     "output_type": "stream",
     "text": [
      "Detected faces for one.jpg\n",
      "The detected face is between 19 and 27 years old\n",
      "Gender: {'Value': 'Male', 'Confidence': 99.96070861816406}\n",
      "Smile: {'Value': False, 'Confidence': 58.85551071166992}\n",
      "Eyeglasses: {'Value': False, 'Confidence': 97.69833374023438}\n",
      "Emotions: {'Type': 'HAPPY', 'Confidence': 72.44749450683594}\n",
      "Faces detected: 1\n"
     ]
    }
   ],
   "source": [
    "import boto3\n",
    "import json\n",
    "def detect_faces(photo):\n",
    "    client=boto3.client('rekognition')\n",
    "    with open(photo, 'rb') as image:\n",
    "        response = client.detect_faces(Image={'Bytes': image.read()},Attributes=['ALL'])\n",
    "    print('Detected faces for ' + photo)\n",
    "    for faceDetail in response['FaceDetails']:\n",
    "        print('The detected face is between ' + str(faceDetail['AgeRange']['Low'])\n",
    "              + ' and ' + str(faceDetail['AgeRange']['High']) + ' years old')\n",
    "\t\t# Access predictions for individual face details and print them\n",
    "        print(\"Gender: \" + str(faceDetail['Gender']))\n",
    "        print(\"Smile: \" + str(faceDetail['Smile']))\n",
    "        print(\"Eyeglasses: \" + str(faceDetail['Eyeglasses']))\n",
    "        print(\"Emotions: \" + str(faceDetail['Emotions'][0]))\n",
    "    return len(response['FaceDetails'])\n",
    "def main():\n",
    "    photo='one.jpg'\n",
    "    face_count=detect_faces(photo)\n",
    "    print(\"Faces detected: \" + str(face_count))\n",
    "if __name__ == \"__main__\":\n",
    "    main()"
   ]
  },
  {
   "cell_type": "code",
   "execution_count": null,
   "id": "5a6ceb4e",
   "metadata": {},
   "outputs": [],
   "source": []
  }
 ],
 "metadata": {
  "kernelspec": {
   "display_name": "Python 3 (ipykernel)",
   "language": "python",
   "name": "python3"
  },
  "language_info": {
   "codemirror_mode": {
    "name": "ipython",
    "version": 3
   },
   "file_extension": ".py",
   "mimetype": "text/x-python",
   "name": "python",
   "nbconvert_exporter": "python",
   "pygments_lexer": "ipython3",
   "version": "3.9.12"
  },
  "toc": {
   "base_numbering": 1,
   "nav_menu": {},
   "number_sections": true,
   "sideBar": true,
   "skip_h1_title": false,
   "title_cell": "Table of Contents",
   "title_sidebar": "Contents",
   "toc_cell": false,
   "toc_position": {},
   "toc_section_display": true,
   "toc_window_display": false
  }
 },
 "nbformat": 4,
 "nbformat_minor": 5
}
