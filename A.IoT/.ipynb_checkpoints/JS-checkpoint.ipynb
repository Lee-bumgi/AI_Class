{
 "cells": [
  {
   "cell_type": "markdown",
   "id": "d46c8724",
   "metadata": {},
   "source": [
    "# Server란?\n",
    " - flask Server\n",
    " #### 웹 마이크로 프레임워크"
   ]
  },
  {
   "cell_type": "code",
   "execution_count": 1,
   "id": "7b27c10d",
   "metadata": {},
   "outputs": [],
   "source": [
    "from flask import Flask, render_template\n",
    "from flask import request"
   ]
  },
  {
   "cell_type": "code",
   "execution_count": 2,
   "id": "f9532203",
   "metadata": {},
   "outputs": [],
   "source": [
    "# render_template\n",
    "# 현재 실행되고 있는 파일과 같은 경로에 있는 \n",
    "# templates폴더 내 html 문서를 불러온다"
   ]
  },
  {
   "cell_type": "markdown",
   "id": "7a53d375",
   "metadata": {},
   "source": [
    "IPv4 127.0.0.0~255 -32bit\n",
    "IPv6 128bit"
   ]
  },
  {
   "cell_type": "code",
   "execution_count": 7,
   "id": "67bc9dcc",
   "metadata": {},
   "outputs": [
    {
     "name": "stdout",
     "output_type": "stream",
     "text": [
      " * Serving Flask app \"__main__\" (lazy loading)\n",
      " * Environment: production\n",
      "\u001b[31m   WARNING: This is a development server. Do not use it in a production deployment.\u001b[0m\n",
      "\u001b[2m   Use a production WSGI server instead.\u001b[0m\n",
      " * Debug mode: off\n"
     ]
    },
    {
     "name": "stderr",
     "output_type": "stream",
     "text": [
      " * Running on http://192.168.31.164:5055/ (Press CTRL+C to quit)\n",
      "192.168.31.164 - - [20/Jul/2022 16:43:29] \"GET / HTTP/1.1\" 200 -\n",
      "192.168.31.164 - - [20/Jul/2022 16:43:33] \"POST /cal HTTP/1.1\" 200 -\n",
      "192.168.31.164 - - [20/Jul/2022 16:43:37] \"GET /cal?num1=1&num2=2 HTTP/1.1\" 200 -\n",
      "192.168.31.164 - - [20/Jul/2022 16:43:47] \"GET /cal?num1=1&num2=2 HTTP/1.1\" 200 -\n",
      "192.168.31.164 - - [20/Jul/2022 16:43:49] \"POST /cal HTTP/1.1\" 200 -\n"
     ]
    }
   ],
   "source": [
    "app = Flask(__name__)\n",
    "\n",
    "@app.route('/')\n",
    "def index():\n",
    "    return render_template('main.html')\n",
    "\n",
    "@app.route('/cal',methods = ['GET', 'POST'])\n",
    "def cal():\n",
    "    if request.method == 'GET':\n",
    "        num1 = request.args['num1']\n",
    "        num2 = request.args['num2']\n",
    "        result = int(num1) + int(num2)\n",
    "        result = str(result)\n",
    "        return f'계산 완료 : {result}'\n",
    "\n",
    "    elif request.method =='POST':\n",
    "        num1 = request.form['num1']\n",
    "        num2 = request.form['num2']\n",
    "        result = int(num1) + int(num2)\n",
    "        result = str(result)  \n",
    "        return f'POST 계산 완료 : {result}'\n",
    "    \n",
    "\n",
    "if __name__ == '__main__':\n",
    "    app.run(host='192.168.31.164', port = 5055)"
   ]
  },
  {
   "cell_type": "code",
   "execution_count": 8,
   "id": "75f3e753",
   "metadata": {},
   "outputs": [],
   "source": [
    "movie = {\"boxOfficeResult\":{\"boxofficeType\":\"일별 박스오피스\",\"showRange\":\"20211011~20211011\",\"dailyBoxOfficeList\":[{\"rnum\":\"1\",\"rank\":\"1\",\"rankInten\":\"0\",\"rankOldAndNew\":\"OLD\",\"movieCd\":\"20191061\",\"movieNm\":\"007 노 타임 투 다이\",\"openDt\":\"2021-09-29\",\"salesAmt\":\"681264980\",\"salesShare\":\"45.9\",\"salesInten\":\"-307660690\",\"salesChange\":\"-31.1\",\"salesAcc\":\"10264884390\",\"audiCnt\":\"67512\",\"audiInten\":\"-28478\",\"audiChange\":\"-29.7\",\"audiAcc\":\"1048707\",\"scrnCnt\":\"1722\",\"showCnt\":\"5283\"},{\"rnum\":\"2\",\"rank\":\"2\",\"rankInten\":\"0\",\"rankOldAndNew\":\"OLD\",\"movieCd\":\"20190815\",\"movieNm\":\"보이스\",\"openDt\":\"2021-09-15\",\"salesAmt\":\"280055590\",\"salesShare\":\"18.9\",\"salesInten\":\"-98954570\",\"salesChange\":\"-26.1\",\"salesAcc\":\"12826803890\",\"audiCnt\":\"28027\",\"audiInten\":\"-8976\",\"audiChange\":\"-24.3\",\"audiAcc\":\"1298439\",\"scrnCnt\":\"855\",\"showCnt\":\"2484\"},{\"rnum\":\"3\",\"rank\":\"3\",\"rankInten\":\"0\",\"rankOldAndNew\":\"OLD\",\"movieCd\":\"20200474\",\"movieNm\":\"기적\",\"openDt\":\"2021-09-15\",\"salesAmt\":\"149807000\",\"salesShare\":\"10.1\",\"salesInten\":\"-30014470\",\"salesChange\":\"-16.7\",\"salesAcc\":\"5894028300\",\"audiCnt\":\"15401\",\"audiInten\":\"-2993\",\"audiChange\":\"-16.3\",\"audiAcc\":\"625402\",\"scrnCnt\":\"699\",\"showCnt\":\"1533\"},{\"rnum\":\"4\",\"rank\":\"4\",\"rankInten\":\"0\",\"rankOldAndNew\":\"OLD\",\"movieCd\":\"20218604\",\"movieNm\":\"극장판 짱구는 못말려: 격돌! 낙서왕국과 얼추 네 명의 용사들\",\"openDt\":\"2021-09-15\",\"salesAmt\":\"74009130\",\"salesShare\":\"5.0\",\"salesInten\":\"8487350\",\"salesChange\":\"13\",\"salesAcc\":\"1701868140\",\"audiCnt\":\"7781\",\"audiInten\":\"1045\",\"audiChange\":\"15.5\",\"audiAcc\":\"179170\",\"scrnCnt\":\"290\",\"showCnt\":\"411\"},{\"rnum\":\"5\",\"rank\":\"5\",\"rankInten\":\"1\",\"rankOldAndNew\":\"OLD\",\"movieCd\":\"20216801\",\"movieNm\":\"극장판 포켓몬스터: 정글의 아이, 코코\",\"openDt\":\"2021-09-15\",\"salesAmt\":\"54520120\",\"salesShare\":\"3.7\",\"salesInten\":\"8976520\",\"salesChange\":\"19.7\",\"salesAcc\":\"1837585460\",\"audiCnt\":\"5898\",\"audiInten\":\"1101\",\"audiChange\":\"23\",\"audiAcc\":\"202400\",\"scrnCnt\":\"251\",\"showCnt\":\"323\"},{\"rnum\":\"6\",\"rank\":\"6\",\"rankInten\":\"-1\",\"rankOldAndNew\":\"OLD\",\"movieCd\":\"20217742\",\"movieNm\":\"샹치와 텐 링즈의 전설\",\"openDt\":\"2021-09-01\",\"salesAmt\":\"42927130\",\"salesShare\":\"2.9\",\"salesInten\":\"-12858360\",\"salesChange\":\"-23\",\"salesAcc\":\"17659317620\",\"audiCnt\":\"4095\",\"audiInten\":\"-1112\",\"audiChange\":\"-21.4\",\"audiAcc\":\"1734132\",\"scrnCnt\":\"314\",\"showCnt\":\"408\"},{\"rnum\":\"7\",\"rank\":\"7\",\"rankInten\":\"0\",\"rankOldAndNew\":\"OLD\",\"movieCd\":\"20219826\",\"movieNm\":\"용과 주근깨 공주\",\"openDt\":\"2021-09-29\",\"salesAmt\":\"38064800\",\"salesShare\":\"2.6\",\"salesInten\":\"-9845000\",\"salesChange\":\"-20.5\",\"salesAcc\":\"502194200\",\"audiCnt\":\"3876\",\"audiInten\":\"-887\",\"audiChange\":\"-18.6\",\"audiAcc\":\"51680\",\"scrnCnt\":\"196\",\"showCnt\":\"367\"},{\"rnum\":\"8\",\"rank\":\"8\",\"rankInten\":\"0\",\"rankOldAndNew\":\"OLD\",\"movieCd\":\"20204117\",\"movieNm\":\"모가디슈\",\"openDt\":\"2021-07-28\",\"salesAmt\":\"25806120\",\"salesShare\":\"1.7\",\"salesInten\":\"-7254400\",\"salesChange\":\"-21.9\",\"salesAcc\":\"34451262670\",\"audiCnt\":\"2550\",\"audiInten\":\"-627\",\"audiChange\":\"-19.7\",\"audiAcc\":\"3600259\",\"scrnCnt\":\"226\",\"showCnt\":\"303\"},{\"rnum\":\"9\",\"rank\":\"9\",\"rankInten\":\"2\",\"rankOldAndNew\":\"OLD\",\"movieCd\":\"20210182\",\"movieNm\":\"매직 스쿨: 초보마법사 아우라의 대모험\",\"openDt\":\"2021-10-07\",\"salesAmt\":\"21775240\",\"salesShare\":\"1.5\",\"salesInten\":\"2677990\",\"salesChange\":\"14\",\"salesAcc\":\"67310990\",\"audiCnt\":\"2525\",\"audiInten\":\"274\",\"audiChange\":\"12.2\",\"audiAcc\":\"7903\",\"scrnCnt\":\"206\",\"showCnt\":\"230\"},{\"rnum\":\"10\",\"rank\":\"10\",\"rankInten\":\"0\",\"rankOldAndNew\":\"OLD\",\"movieCd\":\"20210142\",\"movieNm\":\"스틸워터\",\"openDt\":\"2021-10-06\",\"salesAmt\":\"19088770\",\"salesShare\":\"1.3\",\"salesInten\":\"-5578710\",\"salesChange\":\"-22.6\",\"salesAcc\":\"140969890\",\"audiCnt\":\"1991\",\"audiInten\":\"-536\",\"audiChange\":\"-21.2\",\"audiAcc\":\"15418\",\"scrnCnt\":\"327\",\"showCnt\":\"469\"}]}}"
   ]
  },
  {
   "cell_type": "code",
   "execution_count": 10,
   "id": "6e15c6d8",
   "metadata": {
    "collapsed": true
   },
   "outputs": [
    {
     "data": {
      "text/plain": [
       "{'boxofficeType': '일별 박스오피스',\n",
       " 'showRange': '20211011~20211011',\n",
       " 'dailyBoxOfficeList': [{'rnum': '1',\n",
       "   'rank': '1',\n",
       "   'rankInten': '0',\n",
       "   'rankOldAndNew': 'OLD',\n",
       "   'movieCd': '20191061',\n",
       "   'movieNm': '007 노 타임 투 다이',\n",
       "   'openDt': '2021-09-29',\n",
       "   'salesAmt': '681264980',\n",
       "   'salesShare': '45.9',\n",
       "   'salesInten': '-307660690',\n",
       "   'salesChange': '-31.1',\n",
       "   'salesAcc': '10264884390',\n",
       "   'audiCnt': '67512',\n",
       "   'audiInten': '-28478',\n",
       "   'audiChange': '-29.7',\n",
       "   'audiAcc': '1048707',\n",
       "   'scrnCnt': '1722',\n",
       "   'showCnt': '5283'},\n",
       "  {'rnum': '2',\n",
       "   'rank': '2',\n",
       "   'rankInten': '0',\n",
       "   'rankOldAndNew': 'OLD',\n",
       "   'movieCd': '20190815',\n",
       "   'movieNm': '보이스',\n",
       "   'openDt': '2021-09-15',\n",
       "   'salesAmt': '280055590',\n",
       "   'salesShare': '18.9',\n",
       "   'salesInten': '-98954570',\n",
       "   'salesChange': '-26.1',\n",
       "   'salesAcc': '12826803890',\n",
       "   'audiCnt': '28027',\n",
       "   'audiInten': '-8976',\n",
       "   'audiChange': '-24.3',\n",
       "   'audiAcc': '1298439',\n",
       "   'scrnCnt': '855',\n",
       "   'showCnt': '2484'},\n",
       "  {'rnum': '3',\n",
       "   'rank': '3',\n",
       "   'rankInten': '0',\n",
       "   'rankOldAndNew': 'OLD',\n",
       "   'movieCd': '20200474',\n",
       "   'movieNm': '기적',\n",
       "   'openDt': '2021-09-15',\n",
       "   'salesAmt': '149807000',\n",
       "   'salesShare': '10.1',\n",
       "   'salesInten': '-30014470',\n",
       "   'salesChange': '-16.7',\n",
       "   'salesAcc': '5894028300',\n",
       "   'audiCnt': '15401',\n",
       "   'audiInten': '-2993',\n",
       "   'audiChange': '-16.3',\n",
       "   'audiAcc': '625402',\n",
       "   'scrnCnt': '699',\n",
       "   'showCnt': '1533'},\n",
       "  {'rnum': '4',\n",
       "   'rank': '4',\n",
       "   'rankInten': '0',\n",
       "   'rankOldAndNew': 'OLD',\n",
       "   'movieCd': '20218604',\n",
       "   'movieNm': '극장판 짱구는 못말려: 격돌! 낙서왕국과 얼추 네 명의 용사들',\n",
       "   'openDt': '2021-09-15',\n",
       "   'salesAmt': '74009130',\n",
       "   'salesShare': '5.0',\n",
       "   'salesInten': '8487350',\n",
       "   'salesChange': '13',\n",
       "   'salesAcc': '1701868140',\n",
       "   'audiCnt': '7781',\n",
       "   'audiInten': '1045',\n",
       "   'audiChange': '15.5',\n",
       "   'audiAcc': '179170',\n",
       "   'scrnCnt': '290',\n",
       "   'showCnt': '411'},\n",
       "  {'rnum': '5',\n",
       "   'rank': '5',\n",
       "   'rankInten': '1',\n",
       "   'rankOldAndNew': 'OLD',\n",
       "   'movieCd': '20216801',\n",
       "   'movieNm': '극장판 포켓몬스터: 정글의 아이, 코코',\n",
       "   'openDt': '2021-09-15',\n",
       "   'salesAmt': '54520120',\n",
       "   'salesShare': '3.7',\n",
       "   'salesInten': '8976520',\n",
       "   'salesChange': '19.7',\n",
       "   'salesAcc': '1837585460',\n",
       "   'audiCnt': '5898',\n",
       "   'audiInten': '1101',\n",
       "   'audiChange': '23',\n",
       "   'audiAcc': '202400',\n",
       "   'scrnCnt': '251',\n",
       "   'showCnt': '323'},\n",
       "  {'rnum': '6',\n",
       "   'rank': '6',\n",
       "   'rankInten': '-1',\n",
       "   'rankOldAndNew': 'OLD',\n",
       "   'movieCd': '20217742',\n",
       "   'movieNm': '샹치와 텐 링즈의 전설',\n",
       "   'openDt': '2021-09-01',\n",
       "   'salesAmt': '42927130',\n",
       "   'salesShare': '2.9',\n",
       "   'salesInten': '-12858360',\n",
       "   'salesChange': '-23',\n",
       "   'salesAcc': '17659317620',\n",
       "   'audiCnt': '4095',\n",
       "   'audiInten': '-1112',\n",
       "   'audiChange': '-21.4',\n",
       "   'audiAcc': '1734132',\n",
       "   'scrnCnt': '314',\n",
       "   'showCnt': '408'},\n",
       "  {'rnum': '7',\n",
       "   'rank': '7',\n",
       "   'rankInten': '0',\n",
       "   'rankOldAndNew': 'OLD',\n",
       "   'movieCd': '20219826',\n",
       "   'movieNm': '용과 주근깨 공주',\n",
       "   'openDt': '2021-09-29',\n",
       "   'salesAmt': '38064800',\n",
       "   'salesShare': '2.6',\n",
       "   'salesInten': '-9845000',\n",
       "   'salesChange': '-20.5',\n",
       "   'salesAcc': '502194200',\n",
       "   'audiCnt': '3876',\n",
       "   'audiInten': '-887',\n",
       "   'audiChange': '-18.6',\n",
       "   'audiAcc': '51680',\n",
       "   'scrnCnt': '196',\n",
       "   'showCnt': '367'},\n",
       "  {'rnum': '8',\n",
       "   'rank': '8',\n",
       "   'rankInten': '0',\n",
       "   'rankOldAndNew': 'OLD',\n",
       "   'movieCd': '20204117',\n",
       "   'movieNm': '모가디슈',\n",
       "   'openDt': '2021-07-28',\n",
       "   'salesAmt': '25806120',\n",
       "   'salesShare': '1.7',\n",
       "   'salesInten': '-7254400',\n",
       "   'salesChange': '-21.9',\n",
       "   'salesAcc': '34451262670',\n",
       "   'audiCnt': '2550',\n",
       "   'audiInten': '-627',\n",
       "   'audiChange': '-19.7',\n",
       "   'audiAcc': '3600259',\n",
       "   'scrnCnt': '226',\n",
       "   'showCnt': '303'},\n",
       "  {'rnum': '9',\n",
       "   'rank': '9',\n",
       "   'rankInten': '2',\n",
       "   'rankOldAndNew': 'OLD',\n",
       "   'movieCd': '20210182',\n",
       "   'movieNm': '매직 스쿨: 초보마법사 아우라의 대모험',\n",
       "   'openDt': '2021-10-07',\n",
       "   'salesAmt': '21775240',\n",
       "   'salesShare': '1.5',\n",
       "   'salesInten': '2677990',\n",
       "   'salesChange': '14',\n",
       "   'salesAcc': '67310990',\n",
       "   'audiCnt': '2525',\n",
       "   'audiInten': '274',\n",
       "   'audiChange': '12.2',\n",
       "   'audiAcc': '7903',\n",
       "   'scrnCnt': '206',\n",
       "   'showCnt': '230'},\n",
       "  {'rnum': '10',\n",
       "   'rank': '10',\n",
       "   'rankInten': '0',\n",
       "   'rankOldAndNew': 'OLD',\n",
       "   'movieCd': '20210142',\n",
       "   'movieNm': '스틸워터',\n",
       "   'openDt': '2021-10-06',\n",
       "   'salesAmt': '19088770',\n",
       "   'salesShare': '1.3',\n",
       "   'salesInten': '-5578710',\n",
       "   'salesChange': '-22.6',\n",
       "   'salesAcc': '140969890',\n",
       "   'audiCnt': '1991',\n",
       "   'audiInten': '-536',\n",
       "   'audiChange': '-21.2',\n",
       "   'audiAcc': '15418',\n",
       "   'scrnCnt': '327',\n",
       "   'showCnt': '469'}]}"
      ]
     },
     "execution_count": 10,
     "metadata": {},
     "output_type": "execute_result"
    }
   ],
   "source": [
    "result1 = movie['boxOfficeResult']\n",
    "result1"
   ]
  },
  {
   "cell_type": "code",
   "execution_count": 15,
   "id": "6af3c437",
   "metadata": {},
   "outputs": [
    {
     "data": {
      "text/plain": [
       "'67512'"
      ]
     },
     "execution_count": 15,
     "metadata": {},
     "output_type": "execute_result"
    }
   ],
   "source": [
    "result2 = result1['dailyBoxOfficeList']\n",
    "result2[0]['audiCnt']"
   ]
  },
  {
   "cell_type": "code",
   "execution_count": 19,
   "id": "9179b1f5",
   "metadata": {},
   "outputs": [
    {
     "name": "stdout",
     "output_type": "stream",
     "text": [
      "139656\n"
     ]
    }
   ],
   "source": [
    "result3 =0\n",
    "for i in range(10):\n",
    "    result3 += int(result2[i]['audiCnt'])\n",
    "print(result3)\n",
    "    "
   ]
  },
  {
   "cell_type": "code",
   "execution_count": null,
   "id": "d24c3312",
   "metadata": {},
   "outputs": [],
   "source": []
  }
 ],
 "metadata": {
  "kernelspec": {
   "display_name": "Python 3 (ipykernel)",
   "language": "python",
   "name": "python3"
  },
  "language_info": {
   "codemirror_mode": {
    "name": "ipython",
    "version": 3
   },
   "file_extension": ".py",
   "mimetype": "text/x-python",
   "name": "python",
   "nbconvert_exporter": "python",
   "pygments_lexer": "ipython3",
   "version": "3.9.12"
  },
  "toc": {
   "base_numbering": 1,
   "nav_menu": {},
   "number_sections": false,
   "sideBar": true,
   "skip_h1_title": false,
   "title_cell": "Table of Contents",
   "title_sidebar": "Contents",
   "toc_cell": false,
   "toc_position": {},
   "toc_section_display": true,
   "toc_window_display": true
  }
 },
 "nbformat": 4,
 "nbformat_minor": 5
}
