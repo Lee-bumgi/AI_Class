{
 "cells": [
  {
   "cell_type": "markdown",
   "metadata": {},
   "source": [
    "<img src=\"./lecture_image/00_title.png\">"
   ]
  },
  {
   "cell_type": "markdown",
   "metadata": {},
   "source": [
    "<table border=1 width=100%>\n",
    "    <tr><td style=\"border: 1px solid black; width:600px; height:30px; text-align: center;\"><font size=4 color=blue><b>[7차시] 학습목표</b></font></td></tr>       \n",
    "    <tr><td style=\"border: 1px solid black; text-align: left;\"><font size=3>\n",
    "○ HSV 색상공간을 이해하고 원하는 색상을 추출하는 방법을 학습한다.<br><br>\n",
    "○ 이미지 필터링 방법에 대해 학습한다.<br><br>\n",
    "○ 모폴로지 연산 방법에 대해 학습한다.      \n",
    "        </font></td></tr>   \n",
    "</table>"
   ]
  },
  {
   "cell_type": "markdown",
   "metadata": {},
   "source": [
    "# 색상공간 (Color Space) 이해하기\n",
    "\n",
    "- RGB : Red, Green, Blue로 구성된 색상공간 - PC의 모니터에 주로 사용\n",
    "  - 가산혼합 : 색을 섞을수록 명도가 높아지는 혼합\n",
    "<img src=\"./lecture_image/07_color_space2.png\" width=40%>\n",
    "\n",
    "\n",
    "- CMYK : Cyan, Magenta, Yellow, Black으로 구성된 색상공간 - 인쇄용으로 주로 사용\n",
    "  - 감산혼합 : 색을 섞을수록 명도가 낮아지는 혼합\n",
    "<img src=\"./lecture_image/07_color_space3.png\" width=40%>  \n",
    "\n",
    "\n",
    "- HSV : Hue(색상), Saturation(채도), Value(명도)로 변환한 색상공간 \n",
    "  - 직관적으로 색상 파악이 용이\n",
    "\n",
    "<img src=\"./lecture_image/07_color_space.png\" width=50%>\n",
    "\n",
    "- YUV : Y (밝기, 휘도), U, V (색상)을 이용해서 색상을 표현하는 색상공간\n",
    "  - U축 : 파란색에서 밝기 성분을 뺀 값 (U = B - Y)\n",
    "  - V축 : 빨간색에서 밝기 성분을 뺀 값 (V = R - Y)\n",
    "  - 아날로그 컬러신호 변환에 주로 사용\n",
    "  - TV나 비디오카메라에 주로 사용\n",
    "  \n",
    "  \n",
    "- YCbCr : Y (밝기, 휘도), Cb (청색 크로마 성분), Cr (적색 크로마 성분)을 이용해서 색상을 표현하는 색상공간\n",
    "   - YUV와 유사한 형태로 RGB 색공간과는 다르게 별도의 명암을 구분하는 U(Cb), V(Cr) 사용\n",
    "   - 디지털 텔레비전, 비디오, 디지털 사진에서 사용하는 색공간\n",
    "   \n",
    "<img src=\"./lecture_image/07_color_space4.png\" width=20%>   \n",
    "\n",
    "\n",
    "- CIE : 인간의 색채 인지에 대한 연구와 측정을 바탕으로 수학적으로 정의된 색상 공간\n",
    "  - XYZ : 적색(X), 녹색(Y), 청색(Z) 계열의 반응정도값을 적용 \n",
    "  - Lab : 색오차와 근소한 색차이를 표현하기 위해 변환된 색상 공간\n",
    "  - Luv : 지각적 분균등성을 해소한 균등 색상 공간 (3차원 직교좌표를 이용하는 색상 공간)\n",
    "  \n",
    "<img src=\"./lecture_image/07_color_space5.png\" width=30%>    "
   ]
  },
  {
   "cell_type": "markdown",
   "metadata": {
    "id": "ej2Z7srhcJzo"
   },
   "source": [
    "- HSV 색상공간의 구성\n",
    " \n",
    " <img src=\"./lecture_image/hsv.png\" width=70%>\n",
    "\n",
    "\n",
    "- 색상 값 \n",
    "  - Hue 값은 0-179 범위로 설정\n",
    "  - 만약 Hue 값을 -로 설정하면 뒤쪽부터 인덱싱됨\n",
    "\n",
    "<img src=\"./lecture_image/hsv2.png\" width=50%>\n",
    "\n",
    "<table style=\"border-collapse: collapse; width: 100%; height: 140px;\" border=\"1\" data-ke-align=\"alignLeft\" data-ke-style=\"style12\">\n",
    "<tbody>\n",
    "<tr style=\"height: 20px;\">\n",
    "<td style=\"width: 13.6047%; text-align: center; height: 20px;\"><b>명칭</b></td>\n",
    "<td style=\"width: 11.5115%; text-align: center; height: 20px;\"><b>값의 범위</b></td>\n",
    "<td style=\"width: 49.8837%; text-align: center; height: 20px;\"><b>참고</b></td>\n",
    "</tr>\n",
    "<tr style=\"height: 40px;\">\n",
    "<td style=\"width: 13.6047%; height: 40px; text-align: center;\"><b>색상(H)</b></td>\n",
    "<td style=\"width: 11.5115%; height: 40px; text-align: center;\">0 ~ 180</td>\n",
    "<td style=\"width: 49.8837%; height: 40px;\">원래 0~360범위이지만 OpenCV에서는 1/2 범위이다</td>\n",
    "</tr>\n",
    "<tr style=\"height: 40px;\">\n",
    "<td style=\"width: 13.6047%; height: 40px; text-align: center;\"><b>채도(S)</b></td>\n",
    "<td style=\"width: 11.5115%; height: 40px; text-align: center;\">0 ~ 255</td>\n",
    "<td style=\"width: 49.8837%; height: 40px;\">값이 0에 가까우면 하얀색, 255에 가까울수록 H의 색상이 된다.</td>\n",
    "</tr>\n",
    "<tr style=\"height: 40px;\">\n",
    "<td style=\"width: 13.6047%; height: 40px; text-align: center;\"><b>명도(V)</b></td>\n",
    "<td style=\"width: 11.5115%; height: 40px; text-align: center;\">0 ~ 255</td>\n",
    "<td style=\"width: 49.8837%; height: 40px;\">값이 0에 가까우면 검은색, 255에 가까울수록 &nbsp;H의 색상이 된다.</td>\n",
    "</tr>\n",
    "</tbody>"
   ]
  },
  {
   "cell_type": "code",
   "execution_count": 1,
   "metadata": {},
   "outputs": [],
   "source": [
    "#실습"
   ]
  },
  {
   "cell_type": "code",
   "execution_count": 2,
   "metadata": {
    "id": "gCiGv-1OhIng"
   },
   "outputs": [],
   "source": [
    "#실습"
   ]
  },
  {
   "cell_type": "markdown",
   "metadata": {},
   "source": [
    "<table border=1 width=100%>\n",
    "    <tr><td style=\"border: 1px solid black; width:600px; text-align: left;\"><font size=4 color=red><b>실습문제</b></font><br><br>\n",
    "        <font size=4>○ 다음과 같이 이미지에서 원하는 색상을 추출해보자.</font></td></tr>       \n",
    "    <tr><td style=\"border: 1px solid black; text-align: left;\">\n",
    "        <img src=\"./lecture_image/07_extract_color.png\" width=60%></td></tr>   \n",
    "</table>"
   ]
  },
  {
   "cell_type": "markdown",
   "metadata": {
    "id": "CUyHILbCcJzs"
   },
   "source": [
    "# 이미지 연산\n",
    "\n",
    "\n",
    "## 이미지 필터링 - blur\n",
    "\n",
    "- <font color=red>cv2.filter2D(img, -1, kernel)</font>\n",
    "  - 이미지와 필터를 컨볼루션 연산 수행\n",
    "  - 2번째 파라미터는 색의 깊이 (몇 비트)로 -1이면 원본 이미지와 동일\n",
    "  - kernel : 적용할 2차원 필터\n",
    "  \n",
    " <img src=\"./lecture_image/07_filter2d.png\" width=60%></td></tr>    "
   ]
  },
  {
   "cell_type": "code",
   "execution_count": 3,
   "metadata": {
    "id": "ejvEFhDOhInj"
   },
   "outputs": [],
   "source": [
    "#실습"
   ]
  },
  {
   "cell_type": "markdown",
   "metadata": {
    "id": "G-rFigrqcJzw"
   },
   "source": [
    "## 모폴로지 - 침식과 팽창 \n",
    "\n",
    "- Morphology : 영상의 형태학적 측면을 다루는 기법으로 전처리 등에 사용\n",
    "\n",
    "\n",
    "- Erosion (침식) : 이미지의 경계부분을 배경 픽셀로 변경하는 작업 (1이 0으로 변경)\n",
    "- Dilation (팽창) : 이미지의 배경부분을 전경 픽셀로 변경하는 작업 (0이 1로 변경)\n",
    "  - iterations = 1 : 반복 적용 회수 (회수가 많아지면 침식과 팽창의 효과가 커짐)\n",
    "  \n",
    " <img src=\"./lecture_image/07_mophology.png\" width=60%></td></tr>    "
   ]
  },
  {
   "cell_type": "code",
   "execution_count": 4,
   "metadata": {
    "id": "liyWhhsuhInm"
   },
   "outputs": [],
   "source": [
    "#실습"
   ]
  },
  {
   "cell_type": "markdown",
   "metadata": {},
   "source": [
    "<table border=1 width=100%>\n",
    "    <tr><td style=\"border: 1px solid black; width:600px; text-align: left;\"><font size=4 color=red><b>실습문제</b></font><br><br>\n",
    "        <font size=4>○ 다음과 같이 열림과 팽창 연산을 수행해보자.</font></td></tr>       \n",
    "    <tr><td style=\"border: 1px solid black; text-align: left;\">\n",
    "        <img src=\"./lecture_image/07_mophology1.png\" width=60%></td></tr>   \n",
    "</table>"
   ]
  },
  {
   "cell_type": "markdown",
   "metadata": {
    "id": "teSumv1kcJzz"
   },
   "source": [
    "## Opening과 Closing\n",
    "\n",
    "- Opening : erosion 수행 후에 바로 dilate을 수행하여 원래 이미지 크기로 돌려 놓는 것\n",
    "\n",
    "<img src=\"./lecture_image/07_mophology3.png\" width=40%>\n",
    "\n",
    "\n",
    "- Closing : dilate 수행 후에 바로 erosion을 수행하여 원래 이미지 크기로 돌려 놓는 것\n",
    "\n",
    "<img src=\"./lecture_image/07_mophology4.png\" width=40%>  "
   ]
  },
  {
   "cell_type": "code",
   "execution_count": 5,
   "metadata": {
    "id": "a_ZZ0deXhInp",
    "scrolled": false
   },
   "outputs": [],
   "source": [
    "#실습"
   ]
  },
  {
   "cell_type": "code",
   "execution_count": 6,
   "metadata": {},
   "outputs": [],
   "source": [
    "#실습"
   ]
  },
  {
   "cell_type": "markdown",
   "metadata": {},
   "source": [
    "<table border=1 width=100%>\n",
    "    <tr><td style=\"border: 1px solid black; width:600px; text-align: left;\"><font size=4 color=red><b>실습문제</b></font><br><br>\n",
    "        <font size=4>○ 다음과 같이 모폴로지 연산을 이용하여 이미지를 필터링 해보자.</font></td></tr>       \n",
    "    <tr><td style=\"border: 1px solid black; text-align: left;\">\n",
    "        <img src=\"./lecture_image/07_mophology5.png\" width=80%></td></tr>   \n",
    "</table>"
   ]
  },
  {
   "cell_type": "markdown",
   "metadata": {},
   "source": [
    "<table border=1 width=100%>\n",
    "    <tr><td style=\"border: 1px solid black; width:600px; height:40px; text-align: center;\"><font size=4 color=blue><b>[7차시] 정리하기</b></font></td></tr>       \n",
    "    <tr><td style=\"border: 1px solid black; text-align: left;\"><font size=2>\n",
    "\n",
    "○ 색상공간의 종류 : RGB, CYMK, HSV, YUV, YCbCr, CIE 등\n",
    "        \n",
    "○ HSV 색공간  : H(색상), S(채도), V(명도)\n",
    "\n",
    "○ <font color=red>cv2.filter2D(img, -1, kernel)</font> : 이미지와 필터를 컨볼루션 연산 수행\n",
    "\n",
    "○ 모폴로지 연산 : 영상의 형태학적 측면을 다루는 기법으로 전처리 등에 사용\n",
    "        \n",
    "- Erosion (침식) : 이미지의 경계부분을 배경 픽셀로 변경하는 작업 (1이 0으로 변경)        \n",
    "- Dilation (팽창) : 이미지의 배경부분을 전경 픽셀로 변경하는 작업 (0이 1로 변경)        \n",
    "- Opening : erosion 수행 후에 바로 dilate을 수행하여 원래 이미지 크기로 돌려 놓는 것        \n",
    "- Closing : dilate 수행 후에 바로 erosion을 수행하여 원래 이미지 크기로 돌려 놓는 것          \n",
    "       \n",
    "</font></td></tr>   \n",
    "</table>\n"
   ]
  }
 ],
 "metadata": {
  "colab": {
   "collapsed_sections": [
    "LTU9kbKtcJ0a"
   ],
   "name": "DL008_02_OpenCV.ipynb",
   "provenance": []
  },
  "hide_input": false,
  "kernelspec": {
   "display_name": "Python 3 (ipykernel)",
   "language": "python",
   "name": "python3"
  },
  "language_info": {
   "codemirror_mode": {
    "name": "ipython",
    "version": 3
   },
   "file_extension": ".py",
   "mimetype": "text/x-python",
   "name": "python",
   "nbconvert_exporter": "python",
   "pygments_lexer": "ipython3",
   "version": "3.7.13"
  },
  "toc": {
   "base_numbering": 1,
   "nav_menu": {},
   "number_sections": true,
   "sideBar": true,
   "skip_h1_title": false,
   "title_cell": "Table of Contents",
   "title_sidebar": "Contents",
   "toc_cell": false,
   "toc_position": {},
   "toc_section_display": true,
   "toc_window_display": true
  }
 },
 "nbformat": 4,
 "nbformat_minor": 1
}
