{
 "cells": [
  {
   "cell_type": "markdown",
   "metadata": {},
   "source": [
    "<img src=\"./lecture_image/00_title.png\">"
   ]
  },
  {
   "cell_type": "markdown",
   "metadata": {},
   "source": [
    "<table border=1 width=100%>\n",
    "    <tr><td style=\"border: 1px solid black; width:600px; height:40px; text-align: center;\"><font size=4 color=blue><b>[4차시] 학습목표</b></font></td></tr>       \n",
    "    <tr><td style=\"border: 1px solid black; text-align: left;\"><font size=3>\n",
    "        \n",
    "○ 기본적인 FastAPI 사용법 학습하기<br>\n",
    "○ 웹 화면에 카메라 영상 출력하기<br>\n",
    "○ 웹 출력 영상을 Gray 이미지로 출력하기        \n",
    "</font></td></tr>   \n",
    "</table>"
   ]
  },
  {
   "cell_type": "markdown",
   "metadata": {},
   "source": [
    "# FastAPI 설치 및 서버 실행하기\n",
    "\n",
    "- <font color=red>FastAPI</font> : Sebastián Ramírez란 사람이 만든 파이썬 기반 오픈소스 웹 프레임워크\n",
    "  - 파이썬 3.6 이상 \n",
    "  - 빠른(고성능) API 서버 웹 프레임워크\n",
    "  - Flask나 Django보다 단순하고 배우기 쉬움 \n",
    "  - GitHub : https://github.com/tiangolo/fastapi\n",
    "  - 튜토리얼 : https://fastapi.tiangolo.com/ko/\n",
    "  - 다양한 형태의 Response : https://fastapi.tiangolo.com/ko/advanced/custom-response/\n",
    "\n",
    "\n",
    "- ASGI(Asynchronous Server Gateway Interface) : 비동기 Python 웹 서버  \n",
    "  - 동기(synchronous) 처리 : 특정 작업이 끝나면 다음 작업을 처리하는 순차처리 방식\n",
    "    - 파이썬은 기본적으로 동기 방식으로 동작하는 - \n",
    "  - 비동기(asynchronous) 처리 : 여러 작업을 처리하도록 예약한 뒤 작업이 끝나면 결과를 받는 방식\n",
    "    - 스레드 하나로 동시 처리를 하기 위한 것\n",
    "\n",
    "  <img src=\"./lecture_image/04_fastapi06.png\" width=50%>  \n",
    "  \n",
    "\n",
    "- <font color=red>pyngrok</font> : 방화벽을 넘어서 외부에서 로컬에 접속 가능하게 하는 터널 프로그램\n",
    "\n",
    "\n",
    "- <font color=red>asyncio</font> : Python 표준 라이브러리와 함께 제공되는 비동기 I/O 프레임워크로 파이썬 3.4에서 추가\n",
    "\n",
    "\n",
    "- <font color=red>async / await</font> : 비동기(Asynchronous) 처리를 위해 파이썬 3.5에서 추가한 구문\n",
    "  - async : 비동기 함수를 생성하는 명령\n",
    "  - await : 비동기 함수를 호출하는 명령\n",
    "  \n",
    "  \n",
    "- <font color=red>nest_asyncio</font> : 비동기 방식에서 이벤트가 중첩되는 것을 허용하는 기능을 제공하는 라이브러리\n",
    "  \n",
    "  \n",
    "- <font color=red>uvloop</font> : asyncio를 대체하기 위해 제작\n",
    "  - 동기 함수 내에서 비동기 함수를 호출하려면 asyncio 라이브러리의 이벤트 루프를 이용하는 데 이를 대신하는 기능\n",
    "  \n",
    "  - Cython으로 작성\n",
    "  - libuv 위에 구축 (libuv : nodejs에서 사용하는 고성능 다중 플랫폼 비동기 I / O 라이브러리)\n",
    "  - 성능상에서 nodejs, gevent 및 기타 Python 비동기 프레임 워크보다 2배 이상 빠름\n",
    "    \n",
    "  \n",
    "- <font color=red>uvicorn</font> : uvloop 및 httptools를 사용하여 만든 빠른 ASGI (Asynchronous Server Gateway Inteface) 서버\n",
    "  - 다양한 관리 기능으로 fastapi와 함께 사용\n",
    "  - HTTP / 1.1 및 WebSocket을 지원"
   ]
  },
  {
   "cell_type": "markdown",
   "metadata": {},
   "source": [
    "## 동기 프로그래밍"
   ]
  },
  {
   "cell_type": "code",
   "execution_count": 1,
   "metadata": {},
   "outputs": [],
   "source": [
    "#실습"
   ]
  },
  {
   "cell_type": "markdown",
   "metadata": {},
   "source": [
    "- 3개의 요청을 동기 처리"
   ]
  },
  {
   "cell_type": "code",
   "execution_count": 2,
   "metadata": {},
   "outputs": [],
   "source": [
    "#실습"
   ]
  },
  {
   "cell_type": "markdown",
   "metadata": {},
   "source": [
    "## 비동기 프로그래밍"
   ]
  },
  {
   "cell_type": "code",
   "execution_count": 3,
   "metadata": {},
   "outputs": [],
   "source": [
    "#실습"
   ]
  },
  {
   "cell_type": "code",
   "execution_count": 4,
   "metadata": {},
   "outputs": [],
   "source": [
    "#실습"
   ]
  },
  {
   "cell_type": "markdown",
   "metadata": {},
   "source": [
    "##  FastAPI 설치하기"
   ]
  },
  {
   "cell_type": "code",
   "execution_count": null,
   "metadata": {},
   "outputs": [],
   "source": [
    "!pip install fastapi uvicorn pyngrok nest_asyncio"
   ]
  },
  {
   "cell_type": "markdown",
   "metadata": {},
   "source": [
    "## FastAPI 서버 실행하기\n",
    "\n",
    "- 참고 : https://blog.naver.com/PostView.naver?blogId=duqrlwjddns1&logNo=222268635237&parentCategoryNo=&categoryNo=&viewDate=&isShowPopularPosts=false&from=postView\n",
    "\n",
    "\n",
    "- 비동기 처리(asyncio)는 Jupyter Notebook 환경에서 지원하지 않음\n",
    "\n",
    "\n",
    "- <font color=red>app = FastAPI()</font> : FastAPI 객체를 app 변수에 할당\n",
    "- <font color=red>nest_asyncio.apply()</font> : 이벤트 루프\n",
    "- <font color=red>@app.get(\"/\")</font> : GET 메소드로 root url을 접속하는 경우\n",
    "- <font color=red>async def root()</font> : root() 비동기 함수 (native coroutine)을 만듬\n",
    "- <font color=red>return {\"message\": \"Hello World\"}</font> : message 변수로 해당 값을 JSON 형태로 반환\n",
    "- <font color=red>uvicorn.run(app, host=\"127.0.0.1\", port=8000)</font> : app 객체에 IP와 Port 설정\n",
    "\n",
    "<img src=\"./lecture_image/04_fastapi01.png\" width=50%> "
   ]
  },
  {
   "cell_type": "code",
   "execution_count": 5,
   "metadata": {
    "scrolled": true
   },
   "outputs": [],
   "source": [
    "#실습"
   ]
  },
  {
   "cell_type": "markdown",
   "metadata": {},
   "source": [
    "### URL를 함수로 연결하기\n",
    "\n",
    "- <font color=red>@app.get(\"/hello\")</font>\n",
    "  - URL에  함수명을 설정\n",
    "  - 브라우저에서 IP와 포트로 서버 접속하고 URL로 함수명을 넘김\n",
    "  \n",
    "  <img src=\"./lecture_image/04_fastapi02.png\" width=50%> "
   ]
  },
  {
   "cell_type": "code",
   "execution_count": 6,
   "metadata": {},
   "outputs": [],
   "source": [
    "#실습"
   ]
  },
  {
   "cell_type": "markdown",
   "metadata": {},
   "source": [
    "### URL을 변수로 사용하기\n",
    "\n",
    "- <font color=red>@app.get(\"/hello/{value}\")</font> \n",
    "  - URL에  value 값을 설정\n",
    "  - 브라우저에서 IP와 포트로 서버 접속하고 URL로 100을 넘김\n",
    "    \n",
    "  <img src=\"./lecture_image/04_fastapi03.png\" width=50%>     "
   ]
  },
  {
   "cell_type": "code",
   "execution_count": 7,
   "metadata": {},
   "outputs": [],
   "source": [
    "#실습"
   ]
  },
  {
   "cell_type": "markdown",
   "metadata": {},
   "source": [
    "### html 문서를 반환하기\n",
    "\n",
    "#### 코드 형태로 반환하기\n",
    "\n",
    "- <font color=red>@app.get(\"/\", response_class=HTMLResponse)</font>\n",
    "  - HTML 문서를 반환\n",
    "\n",
    "- 브라우저에서 IP와 포트로 서버 접속\n",
    "\n",
    "  <img src=\"./lecture_image/04_fastapi04.png\" width=50%>  "
   ]
  },
  {
   "cell_type": "code",
   "execution_count": 8,
   "metadata": {},
   "outputs": [],
   "source": [
    "#실습"
   ]
  },
  {
   "cell_type": "markdown",
   "metadata": {},
   "source": [
    "#### 파일 형태로 반환하기\n",
    "\n",
    "- <font color=red>@app.get(\"/\", response_class=FileResponse)</font>\n",
    "  - 파일 문서를 반환"
   ]
  },
  {
   "cell_type": "code",
   "execution_count": 9,
   "metadata": {},
   "outputs": [],
   "source": [
    "#실습"
   ]
  },
  {
   "cell_type": "code",
   "execution_count": 10,
   "metadata": {},
   "outputs": [],
   "source": [
    "#실습"
   ]
  },
  {
   "cell_type": "markdown",
   "metadata": {},
   "source": [
    "### 이미지가 포함된 HTML 문서 반환하기\n",
    "\n",
    "- static 폴더 : 자원을 담아 놓는 폴더\n",
    "- static 폴더에 이미지 폴더를 만들고 출력할 이미지를 저장"
   ]
  },
  {
   "cell_type": "code",
   "execution_count": 31,
   "metadata": {},
   "outputs": [
    {
     "name": "stdout",
     "output_type": "stream",
     "text": [
      "Requirement already satisfied: jinja2 in d:\\anaconda3\\envs\\opencv\\lib\\site-packages (3.0.3)\n",
      "Requirement already satisfied: MarkupSafe>=2.0 in d:\\anaconda3\\envs\\opencv\\lib\\site-packages (from jinja2) (2.1.1)\n"
     ]
    },
    {
     "name": "stderr",
     "output_type": "stream",
     "text": [
      "WARNING: Ignoring invalid distribution -umpy (d:\\anaconda3\\envs\\opencv\\lib\\site-packages)\n",
      "WARNING: Ignoring invalid distribution -umpy (d:\\anaconda3\\envs\\opencv\\lib\\site-packages)\n",
      "WARNING: Ignoring invalid distribution -umpy (d:\\anaconda3\\envs\\opencv\\lib\\site-packages)\n",
      "WARNING: Ignoring invalid distribution -umpy (d:\\anaconda3\\envs\\opencv\\lib\\site-packages)\n",
      "WARNING: Ignoring invalid distribution -umpy (d:\\anaconda3\\envs\\opencv\\lib\\site-packages)\n",
      "WARNING: Ignoring invalid distribution -umpy (d:\\anaconda3\\envs\\opencv\\lib\\site-packages)\n"
     ]
    }
   ],
   "source": [
    "!pip install jinja2"
   ]
  },
  {
   "cell_type": "code",
   "execution_count": 11,
   "metadata": {},
   "outputs": [],
   "source": [
    "#실습"
   ]
  },
  {
   "cell_type": "markdown",
   "metadata": {},
   "source": [
    "- <font color=red>Jinja2Templates(directory=\"templates/\")</font>\n",
    "\n",
    "  - Jinja2 템플릿 사용\n",
    "  \n",
    "  \n",
    "- <font color=red>app.mount(\"/static\", StaticFiles(directory=\"static\", html=True), name=\"static\")</font>  \n",
    "\n",
    "  - \"/static\" : 마운트할 경로 \n",
    "  - directory=\"static\" : 정적파일이 들어 있는 폴더명\n",
    "  - html=True : HTML 문서 여부\n",
    "  - name=\"static\" : FastAPI에서 내부적으로 사용할 이름\n",
    "  \n",
    "  \n",
    "- <font color=red>templates.TemplateResponse(\"imgdisp2.html\", {\"request\": request})  </font>  \n",
    "\n",
    "  - Jinja 템플릿으로 구성된 HTML 문서를 request한 위치로 반환"
   ]
  },
  {
   "cell_type": "code",
   "execution_count": 12,
   "metadata": {},
   "outputs": [],
   "source": [
    "#실습"
   ]
  },
  {
   "cell_type": "markdown",
   "metadata": {},
   "source": [
    "# 데이터 스트리밍 구현\n",
    "\n",
    "## 구현 방법\n",
    "\n",
    "- <font color=red>StreamingResponse(test())</font>\n",
    "  - 스트리밍 함수로 test()를 실행\n",
    "  \n",
    "  <img src=\"./lecture_image/04_fastapi05.png\" width=50%>  "
   ]
  },
  {
   "cell_type": "code",
   "execution_count": 13,
   "metadata": {},
   "outputs": [],
   "source": [
    "#실습"
   ]
  },
  {
   "cell_type": "markdown",
   "metadata": {},
   "source": [
    "- yield() 함수 배우기\n",
    "\n",
    "  \n",
    "  <img src=\"./lecture_image/04_yield.png\" width=70%>  "
   ]
  },
  {
   "cell_type": "code",
   "execution_count": 14,
   "metadata": {},
   "outputs": [],
   "source": [
    "#실습"
   ]
  },
  {
   "cell_type": "code",
   "execution_count": 15,
   "metadata": {},
   "outputs": [],
   "source": [
    "#실습 "
   ]
  },
  {
   "cell_type": "markdown",
   "metadata": {},
   "source": [
    "## 웹 브라우저에 카메라 영상 출력하기"
   ]
  },
  {
   "cell_type": "markdown",
   "metadata": {},
   "source": [
    "- index.html를 작성하고 templates 폴더에 저장\n",
    "  - video_feed : 실행할 함수명\n",
    "  \n",
    "  \n",
    "- Jinja 템플릿\n",
    "    - 간단한 문법으로 html에서 {}, {{}} 등의 규칙을 이용하여 python 프로그래밍이 가능\n",
    "    - 데이터를 담은 변수를 return값으로 html과 함께 넘겨준 뒤, html에서 jinja 템플릿 규칙에 따라 화면에 표현할 수 있음\n",
    "    - Jinja 템플릿 html에서 주석은 {# 주석으로 처리할 내용 #}으로 표시\n",
    "    - Jinja2 Tempaltes 변수 넘기기 : {{ 변수명 }}\n",
    "    \n",
    "  - 참고 \n",
    "    - https://velog.io/@jewon119/01.Flask-기초-Jinja-template \n",
    "    - https://jinja.palletsprojects.com/en/2.11.x/templates/\n",
    "  \n",
    "  \n",
    "- <font color=red>url_for()</font> : URL 주소값을 가져온다"
   ]
  },
  {
   "cell_type": "code",
   "execution_count": 16,
   "metadata": {},
   "outputs": [],
   "source": [
    "#실습"
   ]
  },
  {
   "cell_type": "markdown",
   "metadata": {},
   "source": [
    "- <font color=red>ret, buffer = cv2.imencode('.jpg', frame)</font> : frame 이미지를 jpg로 인코딩\n",
    "\n",
    "- <font color=red>frame = buffer.tobytes()</font> : 전송을 위해 인코딩된 이미지를 byte 형식으로 변환\n",
    "\n",
    "\n",
    "- <font color=red>yield (b'--frame\\r\\n' b'Content-Type: image/jpeg\\r\\n\\r\\n' + frame + b'\\r\\n') </font>\n",
    "\n",
    "  - b : byte 형식임을 의미\n",
    "  - --frame : 프레임을 표시\n",
    "  - Content-Type: image/jpeg : 문서가 jpg 이미지임을 표시\n",
    "  \n",
    "  \n",
    "- <font color=red>StreamingResponse(get_frames(), media_type=\"multipart/x-mixed-replace; boundary=frame\")</font>\n",
    "\n",
    "  - get_frames() : 호출할 함수명\n",
    "  - mimetype : 클라이언트에게 전송된 문서의 타입을 알려주기 위한 파라미터 (type/subtype)\n",
    "  - multipart : 복합문서 타입 (파일, 영상 등)을 의미\n",
    "  - x-mixed-replace : x (추가적인 확장 형식), mixed (복합문서), repalce (subtype을 다음 메시지로 대체)\n",
    "  - boundary : 복합문서 내의 각 문서들을 구분하는 분리자 (동영상이므로 frame으로 구분)"
   ]
  },
  {
   "cell_type": "markdown",
   "metadata": {},
   "source": [
    "- 이미지 전송 부분을 동기방식으로 구현하는 경우"
   ]
  },
  {
   "cell_type": "code",
   "execution_count": 17,
   "metadata": {},
   "outputs": [],
   "source": [
    "#실습"
   ]
  },
  {
   "cell_type": "markdown",
   "metadata": {},
   "source": [
    "- 이미지 전송 부분을 비동기 방식으로 구현한 경우"
   ]
  },
  {
   "cell_type": "code",
   "execution_count": 20,
   "metadata": {},
   "outputs": [],
   "source": [
    "#실습"
   ]
  },
  {
   "cell_type": "markdown",
   "metadata": {},
   "source": [
    "## 웹 출력 영상을 Gray 이미지로 출력하기"
   ]
  },
  {
   "cell_type": "code",
   "execution_count": 1,
   "metadata": {},
   "outputs": [],
   "source": [
    "#실습"
   ]
  },
  {
   "cell_type": "code",
   "execution_count": 21,
   "metadata": {},
   "outputs": [],
   "source": [
    "#실습"
   ]
  },
  {
   "cell_type": "markdown",
   "metadata": {},
   "source": [
    "<table border=1 width=100%>\n",
    "    <tr><td style=\"border: 1px solid black; width:600px; text-align: left;\"><font size=4 color=red><b>실습문제</b></font><br><br>\n",
    "        <font size=4>\n",
    "○ 이진 이미지를 출력하는 웹 카메라 만들기<br>\n",
    "   - threshold() 함수 적용<br>\n",
    "   - OTSU 이진화 알고리즘 적용<br>\n",
    "   - 적응형 thresholding 적용</font></td></tr>       \n",
    "    <tr><td style=\"border: 1px solid black; text-align: left;\">\n",
    "        <img src=\"./lecture_image/04_flask06.png\" width=30%><img src=\"./lecture_image/04_flask07.png\" width=30%></td></tr>   \n",
    "</table>"
   ]
  },
  {
   "cell_type": "markdown",
   "metadata": {},
   "source": [
    "<table border=1 width=100%>\n",
    "    <tr><td style=\"border: 1px solid black; width:600px; height:40px; text-align: center;\"><font size=4 color=blue><b>[4차시] 학습요약</b></font></td></tr>       \n",
    "    <tr><td style=\"border: 1px solid black; text-align: left;\"><font size=3>\n",
    "        \n",
    "○ <font color=red>ret, buffer = cv2.imencode()</font> : 영상 인코딩 함수<br>\n",
    "○ yield() : 반복 실행 중에 중간 과정을 반환할 때 사용<br>\n",
    "\n",
    "○ FastAPI : 파이썬으로 제작된 웹 프레임워크 (DJango의 축소 버전)<br>\n",
    "        \n",
    "○ <font color=red>app = FastAPI()</font> : FastAPI 객체를 app 변수에 할당<br>\n",
    "○ <font color=red>nest_asyncio.apply()</font> : FastAPI와 uvicorn 연결<br>\n",
    "○ <font color=red>@app.get(\"/\")</font> : FastAPI에게 어떤 URL이 get방식으로 해당 함수를 실행하는지 알려줌<br>\n",
    "○ <font color=red>@app.get(\"/hello\")</font> : 서버 주소에 추가적인 URL을 설정<br>\n",
    "○ <font color=red>@app.get(\"/hello/{value}\")</font> : URL에 value 값을 설정<br>\n",
    "○ <font color=red>uvicorn.run(app, host=\"127.0.0.1\", port=9600)</font> : 서버 IP, 포트 등을 설정하고 서버를 실행<br>\n",
    "\n",
    "○ <font color=red>HTMLResponse()</font> : html 문서를 반환하기<br>\n",
    "○ <font color=red>FileResponse()</font> : 파일로 된 문서를 반환하기<br>\n",
    "○ <font color=red>TemplateResponse()</font> : 템플릿 형태로 된 문서를 반환하기<br>\n",
    "○ <font color=red>StreamingResponse(stream_with_context())</font> : 데이터 스트리밍을 반환하기\n",
    "        \n",
    "</font></td></tr>   \n",
    "</table>"
   ]
  }
 ],
 "metadata": {
  "colab": {
   "name": "DL008_01_OpenCV.ipynb",
   "provenance": []
  },
  "hide_input": false,
  "kernelspec": {
   "display_name": "Python 3 (ipykernel)",
   "language": "python",
   "name": "python3"
  },
  "language_info": {
   "codemirror_mode": {
    "name": "ipython",
    "version": 3
   },
   "file_extension": ".py",
   "mimetype": "text/x-python",
   "name": "python",
   "nbconvert_exporter": "python",
   "pygments_lexer": "ipython3",
   "version": "3.7.13"
  },
  "toc": {
   "base_numbering": 1,
   "nav_menu": {},
   "number_sections": true,
   "sideBar": true,
   "skip_h1_title": false,
   "title_cell": "Table of Contents",
   "title_sidebar": "Contents",
   "toc_cell": false,
   "toc_position": {
    "height": "calc(100% - 180px)",
    "left": "10px",
    "top": "150px",
    "width": "165px"
   },
   "toc_section_display": true,
   "toc_window_display": true
  }
 },
 "nbformat": 4,
 "nbformat_minor": 1
}
