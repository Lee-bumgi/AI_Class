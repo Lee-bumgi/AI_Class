{
 "cells": [
  {
   "cell_type": "markdown",
   "metadata": {},
   "source": [
    "<img src=\"./lecture_image/00_title.png\">"
   ]
  },
  {
   "cell_type": "markdown",
   "metadata": {},
   "source": [
    "<table border=1 width=100%>\n",
    "    <tr><td style=\"border: 1px solid black; width:600px; height:30px; text-align: center;\"><font size=4 color=blue><b>[8차시] 학습목표</b></font></td></tr>       \n",
    "    <tr><td style=\"border: 1px solid black; text-align: left;\"><font size=3>○ 에지 추출 방법에 대해 학습한다.<br><br>\n",
    "○ 이미지 필터링 방법에 대해 학습한다.\n",
    "</font></td></tr>   \n",
    "</table>        "
   ]
  },
  {
   "cell_type": "markdown",
   "metadata": {
    "id": "KkgUzFPLcJz2"
   },
   "source": [
    "# 에지 개념 및 종류\n",
    "\n",
    "## 에지 개념\n",
    "\n",
    "- 에지 (Edge) : 이미지에서 픽셀값 (밝기)가 급격하게 변하는 부분 - 경계선, 윤곽선 (Contour)\n",
    "\n",
    "<img src=\"./lecture_image/08_edge01.png\" width=60%>\n",
    "\n",
    "\n",
    "- 에지 검출 방법\n",
    "  - 1차 미분 : Sobel 에지 추출기, Prewitt 에지 추출기, Robert 에지 추출기\n",
    "  - 2차 미분 : 라플라시안 에지 추출기, LoG, DoG\n",
    "  - Canny 에지 추출기\n",
    "  - Line 에지 추출기\n",
    "\n",
    "\n",
    "- 에지의 용도 : 물체의 모양, 위치, 크기 등에 대한 정보"
   ]
  },
  {
   "cell_type": "markdown",
   "metadata": {},
   "source": [
    "## Sobel 에지 추출기\n",
    "\n",
    "- 에지 추출의 가장 대표적인 1차 미분 연산자 중 하나\n",
    "- 모든 방향의 에지를 추출\n",
    "- 잡음에 대체적으로 강하지만 대각선 방향의 에지에 더 민감하게 반응\n",
    "- 소벨 마스크의 모양\n",
    "\n",
    "<img src=\"./lecture_image/08_edge02.png\" width=40%>\n",
    "\n",
    "- <font color=red>cv2.Sobel(src, depth, dx, dy, ksize)</font>\n",
    "    - depth : 출력 이미지의 데이터 타입 (-1 이면 입력과 동일), 출력 이미지의 정밀도\n",
    "    - dx : x 방향 미분 차수\n",
    "    - dy : y 방향 미분 차수\n",
    "    - ksize : 커널 크기 (홀수 값을 사용하며, 최대 31까지 설정)\n",
    "    \n",
    "    \n",
    "- <font color=red>return = cv2.addWeighted(x, a, y, b, c)</font>   \n",
    "  - 두 이미지를 각각 가중치를 주어 합침\n",
    "  - 가중치의 값이 큰 이미지가 좀더 선명하게 나타남 \n",
    "  - result = x * a + y * b + c"
   ]
  },
  {
   "cell_type": "code",
   "execution_count": 1,
   "metadata": {},
   "outputs": [],
   "source": [
    "#실습"
   ]
  },
  {
   "cell_type": "markdown",
   "metadata": {},
   "source": [
    "## Canny 에지 추출기\n",
    "\n",
    "- <font color=red>cv2.Canny(src, minVal maxVal)</font>   \n",
    "  - minVal : 인접한 에지와 연결 여부를 판단하는 임계값 - 작으면 에지와 에지를 더 많이 연결\n",
    "  - maxVal : 에지 여부 판단하는 임계값 - 작으면 에지가 더 많이 검출\n",
    "  \n",
    "  \n",
    "- Canny 연산자는 픽셀의 변화분이 maxVal이상이면 에지 (강한 에지)로 \n",
    "- 사이값이면 연결성으로 에지로 판단 (약한 에지)하고 \n",
    "- 픽셀의 변화분이 minVal 이하이면 에지가 아니라고 판단 "
   ]
  },
  {
   "cell_type": "code",
   "execution_count": 2,
   "metadata": {
    "id": "7ErJE0LMhInr"
   },
   "outputs": [],
   "source": [
    "#실습"
   ]
  },
  {
   "cell_type": "markdown",
   "metadata": {},
   "source": [
    "<table border=1 width=100%>\n",
    "    <tr><td style=\"border: 1px solid black; width:600px; text-align: left;\"><font size=4 color=red><b>실습문제</b></font><br><br>\n",
    "        <font size=4>○ 다른 에지 검출기를 사용하여 에지 구하기<br><img src=\"./lecture_image/08_edge04.png\" width=30%></font></td></tr>       \n",
    "    <tr><td style=\"border: 1px solid black; text-align: left;\">\n",
    "        <img src=\"./lecture_image/08_edge03.png\" width=60%></td></tr>   \n",
    "</table>"
   ]
  },
  {
   "cell_type": "markdown",
   "metadata": {},
   "source": [
    "## 이미지 선명도 분석\n",
    "\n",
    "### Laplacian 필터 이용\n",
    "\n",
    "- <font color=red>Laplacian(src, dst, depth, ksize)</font>\n",
    "  - src : 입력 영상\n",
    "  - dst : 결과 영상\n",
    "  - ddepth : 출력영상 데이터 타입, -1이면 입력 영상과 같은 데이터 타입 사용.\n",
    "  - ksize : 커널 크기\n",
    "  \n",
    "- 필터의 형태\n",
    "\n",
    "<img src=\"./lecture_image/08_edge05.png\" width=60%>"
   ]
  },
  {
   "cell_type": "code",
   "execution_count": 3,
   "metadata": {},
   "outputs": [],
   "source": [
    "#실습"
   ]
  },
  {
   "cell_type": "markdown",
   "metadata": {},
   "source": [
    "### 다른 선명도 계산법"
   ]
  },
  {
   "cell_type": "code",
   "execution_count": 4,
   "metadata": {},
   "outputs": [],
   "source": [
    "#실습"
   ]
  },
  {
   "cell_type": "markdown",
   "metadata": {},
   "source": [
    "<table border=1 width=100%>\n",
    "    <tr><td style=\"border: 1px solid black; width:600px; text-align: left;\"><font size=4 color=red><b>실습문제</b></font><br><br>\n",
    "        <font size=4>○ 소벨 에지 검출기를 사용하여 선명도 구하기</font></td></tr>       \n",
    "    <tr><td style=\"border: 1px solid black; text-align: left;\">\n",
    "        <img src=\"./lecture_image/08_edge06.png\" width=70%></td></tr>   \n",
    "</table>"
   ]
  },
  {
   "cell_type": "markdown",
   "metadata": {},
   "source": [
    "# 이미지 필터"
   ]
  },
  {
   "cell_type": "markdown",
   "metadata": {},
   "source": [
    "## motion blur \n",
    "  - 특정한 방향으로 움직이는 형상을 표현\n",
    "<img src=\"./lecture_image/blur.png\" width=20%>"
   ]
  },
  {
   "cell_type": "code",
   "execution_count": 5,
   "metadata": {},
   "outputs": [],
   "source": [
    "#실습"
   ]
  },
  {
   "cell_type": "code",
   "execution_count": 6,
   "metadata": {},
   "outputs": [],
   "source": [
    "#실습"
   ]
  },
  {
   "cell_type": "markdown",
   "metadata": {},
   "source": [
    "## 엠보싱(embossing) 필터\n",
    "\n",
    "  - 블록 뛰어나오는 듯한 느낌을 주는 효과\n",
    "<img src=\"./lecture_image/embossing.png\" width=20%>"
   ]
  },
  {
   "cell_type": "code",
   "execution_count": 7,
   "metadata": {},
   "outputs": [],
   "source": [
    "#실습"
   ]
  },
  {
   "cell_type": "code",
   "execution_count": 8,
   "metadata": {},
   "outputs": [],
   "source": [
    "#실습"
   ]
  },
  {
   "cell_type": "markdown",
   "metadata": {},
   "source": [
    "## 샤프닝 (sharpnin) 필터\n",
    "  \n",
    "  - 이미지의 에지 성분을 날카롭게 하는 효과\n",
    "\n",
    "<img src=\"./lecture_image/sharpning.png\" width=20%>"
   ]
  },
  {
   "cell_type": "code",
   "execution_count": 9,
   "metadata": {
    "scrolled": true
   },
   "outputs": [],
   "source": [
    "#실습"
   ]
  },
  {
   "cell_type": "markdown",
   "metadata": {},
   "source": [
    "## 감마(Gamma) 보정\n",
    "  - 이미지가 너무 어둡거나 밝은 경우, 픽셀 값의 변화를 통해 밝기를 보정하는 작업\n",
    "  - gamma > 1 : 어두운 영역의 변화폭은 크고 밝은 영역의 변화폭은 작음 → 어두웠던 영역만 잘 보이게 됨\n",
    "\n",
    "  - 반대로 gamma < 1 : 밝은 영역의 변화폭이 크고 어두운 영역의 변화폭은 작음 → 밝은 영역만 잘 보이게 됨. \n",
    "  <img src=\"./lecture_image/gamma_eq.png\" width=40%>\n",
    "  <img src=\"./lecture_image/gamma.png\" width=40%>"
   ]
  },
  {
   "cell_type": "code",
   "execution_count": 10,
   "metadata": {},
   "outputs": [],
   "source": [
    "#실습"
   ]
  },
  {
   "cell_type": "markdown",
   "metadata": {},
   "source": [
    "<table border=1 width=100%>\n",
    "    <tr><td style=\"border: 1px solid black; width:600px; height:40px; text-align: center;\"><font size=4 color=blue><b>[8차시] 정리하기</b></font></td></tr>       \n",
    "    <tr><td style=\"border: 1px solid black; text-align: left;\"><font size=3>\n",
    "        \n",
    "○ 에지 (Edge) : 이미지에서 픽셀값 (밝기)가 급격하게 변하는 부분\n",
    "        \n",
    "○ 에지 검출 방법\n",
    "  - 1차 미분 : Sobel 에지 추출기, Prewitt 에지 추출기, Robert 에지 추출기\n",
    "  - 2차 미분 : 라플라시안 에지 추출기, LoG, DoG\n",
    "  - Canny 에지 추출기\n",
    "  - Line 에지 추출기\n",
    "○ 에지의 용도 : 물체의 모양, 위치, 크기 등에 대한 정보\n",
    "\n",
    "\n",
    "○ 이미지 필터\n",
    "  - motion blur : 특정한 방향으로 움직이는 형상을 표현\n",
    "  - 엠보싱(embossing) 필터 : 블록 뛰어나오는 듯한 느낌을 주는 효과\n",
    "  - 샤프닝 (sharpnin) 필터 : 이미지의 에지 성분을 날카롭게 하는 효과\n",
    "\n",
    "○ 감마(Gamma) 보정 : 이미지가 너무 어둡거나 밝은 경우, 픽셀 값의 변화를 통해 밝기를 보정하는 작업\n",
    "  - gamma > 1 : 어두운 영역의 변화폭은 크고 밝은 영역의 변화폭은 작음 → 어두웠던 영역만 잘 보이게 됨\n",
    "  - gamma < 1 : 밝은 영역의 변화폭이 크고 어두운 영역의 변화폭은 작음 → 밝은 영역만 잘 보이게 됨.      \n",
    "        \n",
    "        \n",
    "</font></td></tr>   \n",
    "</table>\n"
   ]
  }
 ],
 "metadata": {
  "colab": {
   "collapsed_sections": [
    "LTU9kbKtcJ0a"
   ],
   "name": "DL008_02_OpenCV.ipynb",
   "provenance": []
  },
  "hide_input": false,
  "kernelspec": {
   "display_name": "Python 3 (ipykernel)",
   "language": "python",
   "name": "python3"
  },
  "language_info": {
   "codemirror_mode": {
    "name": "ipython",
    "version": 3
   },
   "file_extension": ".py",
   "mimetype": "text/x-python",
   "name": "python",
   "nbconvert_exporter": "python",
   "pygments_lexer": "ipython3",
   "version": "3.7.13"
  },
  "toc": {
   "base_numbering": 1,
   "nav_menu": {},
   "number_sections": true,
   "sideBar": true,
   "skip_h1_title": false,
   "title_cell": "Table of Contents",
   "title_sidebar": "Contents",
   "toc_cell": false,
   "toc_position": {},
   "toc_section_display": true,
   "toc_window_display": true
  }
 },
 "nbformat": 4,
 "nbformat_minor": 1
}
