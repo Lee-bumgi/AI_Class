{
 "cells": [
  {
   "cell_type": "code",
   "execution_count": 1,
   "id": "a46ef30b",
   "metadata": {},
   "outputs": [
    {
     "name": "stdout",
     "output_type": "stream",
     "text": [
      "Overwriting ./templates/index.html\n"
     ]
    }
   ],
   "source": [
    "%%writefile ./templates/index.html\n",
    "<html>\n",
    "<body>\n",
    "<div class=\"container\">\n",
    "    <div class=\"row\">\n",
    "        <div class=\"col-lg-8  offset-lg-2\">\n",
    "            <h3 class=\"mt-5\">Live Streaming</h3>\n",
    "            <img src=\"{{ url_for('video_feed') }}\" width=\"50%\">\n",
    "            <img src=\"{{ url_for('video_feed2') }}\" width=\"50%\">\n",
    "        </div>\n",
    "    </div>\n",
    "</div>\n",
    "</body>\n",
    "</html>"
   ]
  },
  {
   "cell_type": "code",
   "execution_count": 2,
   "id": "ea02ff2a",
   "metadata": {},
   "outputs": [
    {
     "name": "stdout",
     "output_type": "stream",
     "text": [
      " * Serving Flask app '__main__'\n",
      " * Debug mode: off\n"
     ]
    },
    {
     "name": "stderr",
     "output_type": "stream",
     "text": [
      "WARNING: This is a development server. Do not use it in a production deployment. Use a production WSGI server instead.\n",
      " * Running on http://127.0.0.1:9000\n",
      "Press CTRL+C to quit\n",
      "127.0.0.1 - - [19/Sep/2022 15:36:21] \"GET / HTTP/1.1\" 200 -\n",
      "127.0.0.1 - - [19/Sep/2022 15:36:21] \"GET /video_feed HTTP/1.1\" 200 -\n",
      "127.0.0.1 - - [19/Sep/2022 15:36:21] \"GET /video_feed2 HTTP/1.1\" 200 -\n",
      "127.0.0.1 - - [19/Sep/2022 15:36:21] \"GET /favicon.ico HTTP/1.1\" 404 -\n",
      "127.0.0.1 - - [19/Sep/2022 15:36:22] \"GET / HTTP/1.1\" 200 -\n",
      "127.0.0.1 - - [19/Sep/2022 15:36:23] \"GET /video_feed HTTP/1.1\" 200 -\n",
      "127.0.0.1 - - [19/Sep/2022 15:36:23] \"GET /video_feed2 HTTP/1.1\" 200 -\n"
     ]
    }
   ],
   "source": [
    "\n",
    "import cv2\n",
    "# 9 X 9\n",
    "block_size = 21\n",
    "# 결과값에서 빼는 수치\n",
    "C = 8\n",
    "cap = cv2.VideoCapture(0)\n",
    "# 이미지를 읽어서 한프레임씩 바로 전송하는 스트리밍 함수\n",
    "def get_frames() :\n",
    "    while True :\n",
    "        ret, frame = cap.read()\n",
    "        # 현재 프레임이미지를 읽지 못했다면 다음 프레임이미지를 읽는다\n",
    "        if not ret :\n",
    "            continue\n",
    "        else :\n",
    "            ret1, buffer = cv2.imencode(\".jpg\", frame)\n",
    "            # 전송하기 위해 바이트로 변환\n",
    "            frame = buffer.tobytes()\n",
    "            # 전송\n",
    "            yield (b'--frame\\r\\n' b'Content-Type: image/jpeg\\r\\n\\r\\n' + frame + b'\\r\\n')\n",
    "def get_frames2() :\n",
    "    while True :\n",
    "        ret, frame = cap.read()\n",
    "        frame=cv2.cvtColor(frame, cv2.COLOR_RGB2GRAY)\n",
    "        frame = cv2.adaptiveThreshold(frame, 255, cv2.ADAPTIVE_THRESH_GAUSSIAN_C,\n",
    "                               cv2.THRESH_BINARY, block_size, C)\n",
    "        # 현재 프레임이미지를 읽지 못했다면 다음 프레임이미지를 읽는다\n",
    "        if not ret :\n",
    "            continue\n",
    "        else :\n",
    "            ret1, buffer = cv2.imencode(\".jpg\", frame)\n",
    "            # 전송하기 위해 바이트로 변환\n",
    "            frame = buffer.tobytes()\n",
    "            # 전송\n",
    "            yield (b'--frame\\r\\n' b'Content-Type: image/jpeg\\r\\n\\r\\n' + frame + b'\\r\\n')\n",
    "from flask import Flask, render_template, Response\n",
    "app = Flask(__name__)\n",
    "# 초기화면\n",
    "@app.route(\"/\")\n",
    "def index() :\n",
    "    return render_template(\"index.html\")\n",
    "@app.route(\"/video_feed\")\n",
    "def video_feed() :\n",
    "    return Response(get_frames(),\n",
    "                   mimetype='multipart/x-mixed-replace; boundary=frame')\n",
    "@app.route(\"/video_feed2\")\n",
    "def video_feed2() :\n",
    "    return Response(get_frames2(),\n",
    "                   mimetype='multipart/x-mixed-replace; boundary=frame')\n",
    "if __name__ == \"__main__\" :\n",
    "    app.run(host=\"127.0.0.1\", port=9000)"
   ]
  },
  {
   "cell_type": "code",
   "execution_count": null,
   "id": "abd47e40",
   "metadata": {},
   "outputs": [],
   "source": []
  }
 ],
 "metadata": {
  "kernelspec": {
   "display_name": "Python 3 (ipykernel)",
   "language": "python",
   "name": "python3"
  },
  "language_info": {
   "codemirror_mode": {
    "name": "ipython",
    "version": 3
   },
   "file_extension": ".py",
   "mimetype": "text/x-python",
   "name": "python",
   "nbconvert_exporter": "python",
   "pygments_lexer": "ipython3",
   "version": "3.7.13"
  },
  "toc": {
   "base_numbering": 1,
   "nav_menu": {},
   "number_sections": true,
   "sideBar": true,
   "skip_h1_title": false,
   "title_cell": "Table of Contents",
   "title_sidebar": "Contents",
   "toc_cell": false,
   "toc_position": {},
   "toc_section_display": true,
   "toc_window_display": false
  }
 },
 "nbformat": 4,
 "nbformat_minor": 5
}
