{
 "cells": [
  {
   "cell_type": "markdown",
   "metadata": {},
   "source": [
    "<img src=\"./lecture_image/00_title.png\">"
   ]
  },
  {
   "cell_type": "markdown",
   "metadata": {},
   "source": [
    "<table border=1 width=100%>\n",
    "    <tr><td style=\"border: 1px solid black; width:600px; height:40px; text-align: center;\"><font size=4 color=blue><b>[5차시] 학습목표</b></font></td></tr>       \n",
    "    <tr><td style=\"border: 1px solid black; text-align: left;\"><font size=3>\n",
    "        \n",
    "○ OpenCV를 활용한 이미지 처리 방법에 대해 학습한다.<br>\n",
    "○ 칼라/흑백/이진 이미지의 픽셀값을 출력하고 픽셀값을 변경해본다.<br>\n",
    "○ RGB 채널을 분리하고 병합해본다.\n",
    "</font></td></tr>   \n",
    "</table>"
   ]
  },
  {
   "cell_type": "markdown",
   "metadata": {},
   "source": [
    "# 이미지 처리 기초\n",
    "\n",
    "- 픽셀 기반 처리 : 이미지를 픽셀 단위로 처리하는 방법\n",
    "  - 이미지의 특성으로 표현하는 데 한계가 있음, 이미지 처리 속도가 느림\n",
    "- 블록 기반 처리 : 이미지를 블록 (픽셀을 그룹화한 것)  단위로 처리하는 방법\n",
    "  - 이미지의 지역적 특성을 잘 표현, 이미지 속도가  빠름  필터링\n",
    "- 주파수 기반 처리 : 이미지를  주파수 영역으로 변환하여 처리하는 방법\n",
    "  - 이미지의 전역적 특성으로 잘 표현 - FFT, DCT, WT 등\n",
    "  \n",
    "  \n",
    "- 픽셀 (pixel : picture cell)\n",
    "  - 이미지를 구성하는 최소 단위 \n",
    "  - 0-255의 값으로 구성 (검정색 0, 흰색 255)\n",
    "  \n",
    "  <img src=\"./lecture_image/05_pixel.png\">\n",
    "  \n",
    "  \n",
    "- 블럭 (block)\n",
    "  - 근방의 픽셀을 그룹핑한 것  \n",
    "  - 근방의 픽셀은 유사한 특성을 가진다는 것을 가정\n",
    "  - 일반적으로 블럭간에 중복을 시켜서 처리 – 블럭간의 Locality반영\n",
    "  \n",
    "    <img src=\"./lecture_image/05_block.png\" width=70%>\n",
    "    \n",
    "    \n",
    "- 주파수 (frequency)\n",
    "  -  주파수 (frequency) : 이미지 픽셀값들을 픽셀값의 변화분으로 변환한 것\n",
    "  - 이미지에서 주파수 : 픽셀의 변화량\n",
    "    - 고주파 성분 : 픽셀값의 변화가 큰 부분 (에지)\n",
    "    - 저주파 성분 : 픽셀값의 변화가 작은 부분\n",
    "  - 일반적인 이미지는 주로 저주파 성분으로 구성되어 있음\n",
    "  - 이미지의 중요한 특성은 주로 고주파 성분에 존재\n",
    "\n",
    "    <img src=\"./lecture_image/05_frequency.png\" width=70%>"
   ]
  },
  {
   "cell_type": "markdown",
   "metadata": {
    "id": "SVmb5bb7cJy9"
   },
   "source": [
    "## 이미지 픽셀 값 출력\n",
    "\n",
    "### 이진 이미지 픽셀 값 출력"
   ]
  },
  {
   "cell_type": "code",
   "execution_count": 420,
   "metadata": {},
   "outputs": [
    {
     "data": {
      "text/plain": [
       "<matplotlib.image.AxesImage at 0x244aab056a0>"
      ]
     },
     "execution_count": 420,
     "metadata": {},
     "output_type": "execute_result"
    },
    {
     "data": {
      "image/png": "[encoded data removed]",
      "text/plain": [
       "<Figure size 432x288 with 1 Axes>"
      ]
     },
     "metadata": {},
     "output_type": "display_data"
    }
   ],
   "source": [
    "#실습"
   ]
  },
  {
   "cell_type": "markdown",
   "metadata": {},
   "source": [
    "- 이미지의 픽셀값은 0-255 사이 값으로 구성 (8bit 양의 정수 형태)\n",
    "- 검정색은 0, 흰색은 255"
   ]
  },
  {
   "cell_type": "code",
   "execution_count": 1,
   "metadata": {
    "scrolled": true
   },
   "outputs": [],
   "source": [
    "#실습"
   ]
  },
  {
   "cell_type": "markdown",
   "metadata": {},
   "source": [
    "### 그레이 이미지 픽셀 값 출력"
   ]
  },
  {
   "cell_type": "code",
   "execution_count": 2,
   "metadata": {},
   "outputs": [],
   "source": [
    "#실습"
   ]
  },
  {
   "cell_type": "code",
   "execution_count": 3,
   "metadata": {
    "scrolled": false
   },
   "outputs": [],
   "source": [
    "#실습"
   ]
  },
  {
   "cell_type": "markdown",
   "metadata": {},
   "source": [
    "### 칼라 이미지 픽셀 값 출력\n",
    "\n",
    "- 픽셀값 접근/변경\n",
    "   -  픽셀값은 numpy 배열 형태로 접근하고 변경\n",
    "     - img[200, 100] : 픽셀의 좌표\n",
    "     - Red, Green, Blue 순으로 출력"
   ]
  },
  {
   "cell_type": "code",
   "execution_count": 4,
   "metadata": {},
   "outputs": [],
   "source": [
    "#실습"
   ]
  },
  {
   "cell_type": "code",
   "execution_count": 5,
   "metadata": {
    "id": "sYbUG6QjhInH",
    "outputId": "021f7dfe-22e1-4b7a-97c7-62e574e5794b"
   },
   "outputs": [],
   "source": [
    "#실습"
   ]
  },
  {
   "cell_type": "markdown",
   "metadata": {},
   "source": [
    "<table border=1 width=100%>\n",
    "    <tr><td style=\"border: 1px solid black; width:600px; text-align: left;\"><font size=4 color=red><b>실습문제</b></font><br><br>\n",
    "        <font size=4>\n",
    "○ 다른 이미지의 픽셀값을 출력해 보자.<br>\n",
    "   </td></tr>   \n",
    "</table>"
   ]
  },
  {
   "cell_type": "markdown",
   "metadata": {
    "id": "vCtmaISpcJzD"
   },
   "source": [
    "## 픽셀값 변경"
   ]
  },
  {
   "cell_type": "code",
   "execution_count": 6,
   "metadata": {
    "id": "2gjsiaHRhInQ"
   },
   "outputs": [],
   "source": [
    "#실습"
   ]
  },
  {
   "cell_type": "markdown",
   "metadata": {},
   "source": [
    "<table border=1 width=100%>\n",
    "    <tr><td style=\"border: 1px solid black; width:600px; text-align: left;\"><font size=4 color=red><b>실습문제</b></font><br><br>\n",
    "        <font size=4>\n",
    "○ 다른 이미지의 픽셀값을 변경해 보자.<br>\n",
    "   </td></tr>   \n",
    "</table>"
   ]
  },
  {
   "cell_type": "markdown",
   "metadata": {
    "id": "LjYOOULscJzS"
   },
   "source": [
    "# RGB 채널 다루기\n",
    "\n",
    "- 이미지 채널\n",
    "     - 흑백은 1개의 채널 이미지로 구성되고, 칼라는 Red, Green, Blue 3개의 채널 이미지로 구성\n",
    "\n",
    "    <img src=\"./lecture_image/05_image_channel.png\" width=50%>"
   ]
  },
  {
   "cell_type": "markdown",
   "metadata": {},
   "source": [
    "## RGB 채널 분리하기\n",
    "\n",
    "- <font color=red>변수 = img[:, :, 채널번호]</font>\n",
    "\n",
    "  - img[:, :, 0] : red 채널\n",
    "  - img[:, :, 1] : green 채널\n",
    "  - img[:, :, 2] : blue 채널"
   ]
  },
  {
   "cell_type": "code",
   "execution_count": 7,
   "metadata": {
    "id": "EIC_KwaLhInc"
   },
   "outputs": [],
   "source": [
    "#실습"
   ]
  },
  {
   "cell_type": "markdown",
   "metadata": {},
   "source": [
    "- 흰색이 가까울수록 픽셀 수가 많다는 것을 의미"
   ]
  },
  {
   "cell_type": "markdown",
   "metadata": {
    "id": "5DC21U8fcJzV"
   },
   "source": [
    "## RGB 채널 합치기"
   ]
  },
  {
   "cell_type": "markdown",
   "metadata": {
    "id": "OrZ8mjulhIng"
   },
   "source": [
    "- cv2.merge((r, g, b) : RGB 각 채널을 합침"
   ]
  },
  {
   "cell_type": "code",
   "execution_count": 8,
   "metadata": {
    "id": "krGnPPhhhIne"
   },
   "outputs": [],
   "source": [
    "#실습"
   ]
  },
  {
   "cell_type": "markdown",
   "metadata": {
    "id": "1IZ6XgEUcJzG"
   },
   "source": [
    "## 픽셀값을 RGB 채널 값을 이용해서 변경하기\n",
    "\n",
    "- <font color=red>img.itemset((x, y, 0), 0)</font>\n",
    "  - itemset((픽셀y위치, 픽셀x위치, 채널), 색상레벨)\n",
    "  - 채널 (0 : Red, 1 : Green, 2 : Blue)  \n",
    "  - 0번 채널의 (x, y) 픽셀의 값을 0으로 변경  "
   ]
  },
  {
   "cell_type": "code",
   "execution_count": 9,
   "metadata": {
    "id": "esFOpRMWhInT"
   },
   "outputs": [],
   "source": [
    "#실습"
   ]
  },
  {
   "cell_type": "markdown",
   "metadata": {},
   "source": [
    "<table border=1 width=100%>\n",
    "    <tr><td style=\"border: 1px solid black; width:600px; text-align: left;\"><font size=4 color=red><b>실습문제</b></font><br><br>\n",
    "        <font size=4>\n",
    "○ 다른 채널의 픽셀값을 변경해 보자.<br>\n",
    "   </td></tr>   \n",
    "</table>"
   ]
  },
  {
   "cell_type": "markdown",
   "metadata": {
    "id": "xpewff3WcJzL"
   },
   "source": [
    "# 이미지의 속성 출력\n",
    "\n",
    "- img.shape : 이미지의 크기 및 채널 \n",
    "- img.size : 이미지의 전체 픽셀 수\n",
    "- img.dtype : 데이터 타입"
   ]
  },
  {
   "cell_type": "code",
   "execution_count": 10,
   "metadata": {
    "id": "gFcfIROQhInW",
    "outputId": "113bc165-e42c-4da9-fd9a-cc8ef07474d3"
   },
   "outputs": [],
   "source": [
    "#실습"
   ]
  },
  {
   "cell_type": "markdown",
   "metadata": {},
   "source": [
    "<table border=1 width=100%>\n",
    "    <tr><td style=\"border: 1px solid black; width:600px; height:40px; text-align: center;\"><font size=4 color=blue><b>[5차시] 학습요약</b></font></td></tr>       \n",
    "    <tr><td style=\"border: 1px solid black; text-align: left;\"><font size=3>\n",
    "        \n",
    "○ 이미지 처리 방법 : 픽셀기반, 블록기반, 주파수 기반 처리<br>\n",
    "○ 이미지의 픽셀값은 0-255 사이 값으로 구성 (8bit 양의 정수 형태) - 검정색은 0, 흰색은 255<br>\n",
    "○ 픽셀값은 3차원 배열 형태로 접근 ([x축, y축, 채널])<br>\n",
    "○ <font color=red>itemset((x축, y축, 채널), 값)</font> : 해당 채널의 픽셀값을 변경<br><br>\n",
    "\n",
    "○ <font color=red>img.shape</font> : 이미지 크기<br>\n",
    "○ <font color=red>img.size</font> : 전체 픽셀 수<br>\n",
    "○ <font color=red>img.dtype</font> : 데이터 타입\n",
    "        \n",
    "</font></td></tr>   \n",
    "</table>"
   ]
  }
 ],
 "metadata": {
  "colab": {
   "collapsed_sections": [
    "LTU9kbKtcJ0a"
   ],
   "name": "DL008_02_OpenCV.ipynb",
   "provenance": []
  },
  "hide_input": false,
  "kernelspec": {
   "display_name": "Python 3 (ipykernel)",
   "language": "python",
   "name": "python3"
  },
  "language_info": {
   "codemirror_mode": {
    "name": "ipython",
    "version": 3
   },
   "file_extension": ".py",
   "mimetype": "text/x-python",
   "name": "python",
   "nbconvert_exporter": "python",
   "pygments_lexer": "ipython3",
   "version": "3.7.13"
  },
  "toc": {
   "base_numbering": 1,
   "nav_menu": {},
   "number_sections": true,
   "sideBar": true,
   "skip_h1_title": false,
   "title_cell": "Table of Contents",
   "title_sidebar": "Contents",
   "toc_cell": false,
   "toc_position": {},
   "toc_section_display": true,
   "toc_window_display": true
  }
 },
 "nbformat": 4,
 "nbformat_minor": 1
}
