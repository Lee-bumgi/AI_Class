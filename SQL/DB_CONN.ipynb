{
 "cells": [
  {
   "cell_type": "code",
   "execution_count": null,
   "id": "14023f7a",
   "metadata": {},
   "outputs": [],
   "source": [
    "ip_dic = {'192.168.0.38':'나예호', '192.168.70.160':'이명기'}"
   ]
  },
  {
   "cell_type": "code",
   "execution_count": 4,
   "id": "db9f119a",
   "metadata": {},
   "outputs": [
    {
     "name": "stdout",
     "output_type": "stream",
     "text": [
      " * Serving Flask app \"__main__\" (lazy loading)\n",
      " * Environment: production\n",
      "\u001b[31m   WARNING: This is a development server. Do not use it in a production deployment.\u001b[0m\n",
      "\u001b[2m   Use a production WSGI server instead.\u001b[0m\n",
      " * Debug mode: off\n"
     ]
    },
    {
     "name": "stderr",
     "output_type": "stream",
     "text": [
      " * Running on http://192.168.0.38:5021/ (Press CTRL+C to quit)\n",
      "192.168.0.38 - - [22/Sep/2022 12:28:06] \"GET / HTTP/1.1\" 200 -\n",
      "192.168.0.38 - - [22/Sep/2022 12:28:10] \"GET /sel_emp HTTP/1.1\" 200 -\n"
     ]
    }
   ],
   "source": [
    "from flask import Flask, redirect\n",
    "\n",
    "app = Flask(__name__)\n",
    "\n",
    "@app.route('/')\n",
    "def index():\n",
    "    return 'Hello World'\n",
    "\n",
    "@app.route('/sel_emp')\n",
    "def sel_emp():\n",
    "    dao = DAO()\n",
    "    r = dao.select()\n",
    "    result = '</br>'.join(map(str, r))\n",
    "    \n",
    "    return result\n",
    "\n",
    "if __name__ == '__main__':\n",
    "    app.run(host='192.168.0.38', port=5021)"
   ]
  },
  {
   "cell_type": "markdown",
   "id": "b86db75c",
   "metadata": {},
   "source": [
    "#### Oracle - Python 연결 Lib 설치"
   ]
  },
  {
   "cell_type": "code",
   "execution_count": null,
   "id": "bcc85341",
   "metadata": {
    "scrolled": true
   },
   "outputs": [],
   "source": [
    "!pip install cx_Oracle"
   ]
  },
  {
   "cell_type": "markdown",
   "id": "ec0f3f80",
   "metadata": {},
   "source": [
    "#### Instant Client 설치\n",
    "- https://www.oracle.com/kr/database/technologies/instant-client/winx64-64-downloads.html"
   ]
  },
  {
   "cell_type": "code",
   "execution_count": null,
   "id": "60be3446",
   "metadata": {},
   "outputs": [],
   "source": [
    "import os\n",
    "LOCATION = r\"C:\\Users\\user\\instantclient_21_6\"\n",
    "os.environ[\"PATH\"] = LOCATION + \";\" + os.environ[\"PATH\"]"
   ]
  },
  {
   "cell_type": "code",
   "execution_count": null,
   "id": "14de5e11",
   "metadata": {},
   "outputs": [],
   "source": [
    "import cx_Oracle"
   ]
  },
  {
   "cell_type": "markdown",
   "id": "9e314556",
   "metadata": {},
   "source": [
    "# DB 연결\n",
    "- 1) Connection\n",
    "- 2) Cursor\n",
    "- 3) Execute\n",
    "- 4) Close"
   ]
  },
  {
   "cell_type": "code",
   "execution_count": null,
   "id": "bd3e7cb4",
   "metadata": {},
   "outputs": [],
   "source": [
    "# 1. Connection\n",
    "db_id = 'hr'\n",
    "db_pw = 'hr'\n",
    "db_url = '127.0.0.1:1521/xe'\n",
    "conn = cx_Oracle.connect(db_id, db_pw, db_url)\n",
    "\n",
    "# 2. Cursor\n",
    "curs = conn.cursor()\n",
    "\n",
    "# 3. Execute\n",
    "sql = 'select last_name, salary from employees'\n",
    "result = curs.execute(sql)\n",
    "result.fetchall()\n",
    "\n",
    "# 4. Close\n",
    "# 연결 통로를 닫을 때는, 열었던 역순으로 닫는다\n",
    "if curs != None:\n",
    "    curs.close()\n",
    "if conn != None:\n",
    "    conn.close()"
   ]
  },
  {
   "cell_type": "code",
   "execution_count": 9,
   "id": "c99ec443",
   "metadata": {},
   "outputs": [],
   "source": [
    "import cx_Oracle\n",
    "import pandas as pd\n",
    "class DAO:\n",
    "    def select(self):\n",
    "        db_id = 'hr'\n",
    "        db_pw = 'hr'\n",
    "        db_url = '127.0.0.1:1521/xe'\n",
    "        conn = cx_Oracle.connect(db_id, db_pw, db_url)\n",
    "        \n",
    "        curs = conn.cursor()\n",
    "        \n",
    "        sql = 'select last_name, salary from employees'\n",
    "        result = curs.execute(sql)\n",
    "        r = result.fetchall()\n",
    "        \n",
    "        if curs != None:\n",
    "            curs.close()\n",
    "        if conn != None:\n",
    "            conn.close()\n",
    "        \n",
    "        return r\n",
    "    \n",
    "    def select_df(self):\n",
    "        db_id = 'hr'\n",
    "        db_pw = 'hr'\n",
    "        db_url = '127.0.0.1:1521/xe'\n",
    "        conn = cx_Oracle.connect(db_id, db_pw, db_url)\n",
    "        \n",
    "        sql = 'select last_name, salary from employees'\n",
    "        df = pd.read_sql(sql, conn)\n",
    "        conn.close()\n",
    "        return df\n",
    "        \n",
    "    "
   ]
  },
  {
   "cell_type": "code",
   "execution_count": 19,
   "id": "c6b61884",
   "metadata": {
    "collapsed": true
   },
   "outputs": [
    {
     "name": "stderr",
     "output_type": "stream",
     "text": [
      "C:\\Users\\user\\anaconda3\\lib\\site-packages\\pandas\\io\\sql.py:761: UserWarning: pandas only support SQLAlchemy connectable(engine/connection) ordatabase string URI or sqlite3 DBAPI2 connectionother DBAPI2 objects are not tested, please consider using SQLAlchemy\n",
      "  warnings.warn(\n"
     ]
    },
    {
     "data": {
      "text/html": [
       "<div>\n",
       "<style scoped>\n",
       "    .dataframe tbody tr th:only-of-type {\n",
       "        vertical-align: middle;\n",
       "    }\n",
       "\n",
       "    .dataframe tbody tr th {\n",
       "        vertical-align: top;\n",
       "    }\n",
       "\n",
       "    .dataframe thead th {\n",
       "        text-align: right;\n",
       "    }\n",
       "</style>\n",
       "<table border=\"1\" class=\"dataframe\">\n",
       "  <thead>\n",
       "    <tr style=\"text-align: right;\">\n",
       "      <th></th>\n",
       "      <th>LAST_NAME</th>\n",
       "      <th>SALARY</th>\n",
       "    </tr>\n",
       "  </thead>\n",
       "  <tbody>\n",
       "    <tr>\n",
       "      <th>0</th>\n",
       "      <td>King</td>\n",
       "      <td>24000.0</td>\n",
       "    </tr>\n",
       "    <tr>\n",
       "      <th>1</th>\n",
       "      <td>Kochhar</td>\n",
       "      <td>17000.0</td>\n",
       "    </tr>\n",
       "    <tr>\n",
       "      <th>2</th>\n",
       "      <td>De Haan</td>\n",
       "      <td>17000.0</td>\n",
       "    </tr>\n",
       "    <tr>\n",
       "      <th>8</th>\n",
       "      <td>Greenberg</td>\n",
       "      <td>12008.0</td>\n",
       "    </tr>\n",
       "    <tr>\n",
       "      <th>14</th>\n",
       "      <td>Raphaely</td>\n",
       "      <td>11000.0</td>\n",
       "    </tr>\n",
       "    <tr>\n",
       "      <th>45</th>\n",
       "      <td>Russell</td>\n",
       "      <td>14000.0</td>\n",
       "    </tr>\n",
       "    <tr>\n",
       "      <th>46</th>\n",
       "      <td>Partners</td>\n",
       "      <td>13500.0</td>\n",
       "    </tr>\n",
       "    <tr>\n",
       "      <th>47</th>\n",
       "      <td>Errazuriz</td>\n",
       "      <td>12000.0</td>\n",
       "    </tr>\n",
       "    <tr>\n",
       "      <th>48</th>\n",
       "      <td>Cambrault</td>\n",
       "      <td>11000.0</td>\n",
       "    </tr>\n",
       "    <tr>\n",
       "      <th>49</th>\n",
       "      <td>Zlotkey</td>\n",
       "      <td>10500.0</td>\n",
       "    </tr>\n",
       "    <tr>\n",
       "      <th>50</th>\n",
       "      <td>Tucker</td>\n",
       "      <td>10000.0</td>\n",
       "    </tr>\n",
       "    <tr>\n",
       "      <th>56</th>\n",
       "      <td>King</td>\n",
       "      <td>10000.0</td>\n",
       "    </tr>\n",
       "    <tr>\n",
       "      <th>62</th>\n",
       "      <td>Vishney</td>\n",
       "      <td>10500.0</td>\n",
       "    </tr>\n",
       "    <tr>\n",
       "      <th>68</th>\n",
       "      <td>Ozer</td>\n",
       "      <td>11500.0</td>\n",
       "    </tr>\n",
       "    <tr>\n",
       "      <th>69</th>\n",
       "      <td>Bloom</td>\n",
       "      <td>10000.0</td>\n",
       "    </tr>\n",
       "    <tr>\n",
       "      <th>74</th>\n",
       "      <td>Abel</td>\n",
       "      <td>11000.0</td>\n",
       "    </tr>\n",
       "    <tr>\n",
       "      <th>101</th>\n",
       "      <td>Hartstein</td>\n",
       "      <td>13000.0</td>\n",
       "    </tr>\n",
       "    <tr>\n",
       "      <th>104</th>\n",
       "      <td>Baer</td>\n",
       "      <td>10000.0</td>\n",
       "    </tr>\n",
       "    <tr>\n",
       "      <th>105</th>\n",
       "      <td>Higgins</td>\n",
       "      <td>12008.0</td>\n",
       "    </tr>\n",
       "  </tbody>\n",
       "</table>\n",
       "</div>"
      ],
      "text/plain": [
       "     LAST_NAME   SALARY\n",
       "0         King  24000.0\n",
       "1      Kochhar  17000.0\n",
       "2      De Haan  17000.0\n",
       "8    Greenberg  12008.0\n",
       "14    Raphaely  11000.0\n",
       "45     Russell  14000.0\n",
       "46    Partners  13500.0\n",
       "47   Errazuriz  12000.0\n",
       "48   Cambrault  11000.0\n",
       "49     Zlotkey  10500.0\n",
       "50      Tucker  10000.0\n",
       "56        King  10000.0\n",
       "62     Vishney  10500.0\n",
       "68        Ozer  11500.0\n",
       "69       Bloom  10000.0\n",
       "74        Abel  11000.0\n",
       "101  Hartstein  13000.0\n",
       "104       Baer  10000.0\n",
       "105    Higgins  12008.0"
      ]
     },
     "execution_count": 19,
     "metadata": {},
     "output_type": "execute_result"
    }
   ],
   "source": [
    "dao = DAO()\n",
    "df = dao.select_df()\n",
    "\n",
    "df[df['SALARY'] >= 10000]"
   ]
  },
  {
   "cell_type": "code",
   "execution_count": null,
   "id": "2e15d819",
   "metadata": {},
   "outputs": [],
   "source": [
    "dao = DAO()\n",
    "r = dao.select()\n",
    "'</br>'.join(map(str, r))\n",
    "\n",
    "# for name, salary in r:\n",
    "#     print('name : {} / salary : {}'.format(name, salary))\n"
   ]
  },
  {
   "cell_type": "code",
   "execution_count": null,
   "id": "f6948c90",
   "metadata": {},
   "outputs": [],
   "source": [
    "# Python 점수를 저장하려고 함\n",
    "score = 100\n",
    "#score의 타입은????\n",
    "type(score)\n",
    "\n",
    "# 이름을 저장하려고 함\n",
    "name = '나예호'\n",
    "\n",
    "type(name)\n",
    "\n",
    "# 나예호와 Python점수를 동시에 저장\n",
    "# class를 사용!!"
   ]
  },
  {
   "cell_type": "code",
   "execution_count": null,
   "id": "80f23dbb",
   "metadata": {},
   "outputs": [],
   "source": [
    "# VO(Value Object)\n",
    "# 사용자 정의 데이터 타입\n",
    "\n",
    "# Design Pattern\n",
    "# 코드를 작성\n",
    "# Refactoring\n",
    "\n",
    "# 가장 보편적, 가장 많이 사용하는 약속된 Design\n",
    "# MVC : Model, View, Controller"
   ]
  },
  {
   "cell_type": "code",
   "execution_count": null,
   "id": "2f99fe8f",
   "metadata": {},
   "outputs": [],
   "source": []
  },
  {
   "cell_type": "code",
   "execution_count": null,
   "id": "b8d9ddc0",
   "metadata": {},
   "outputs": [],
   "source": []
  },
  {
   "cell_type": "code",
   "execution_count": null,
   "id": "6305eda0",
   "metadata": {},
   "outputs": [],
   "source": []
  },
  {
   "cell_type": "code",
   "execution_count": null,
   "id": "89b5de63",
   "metadata": {},
   "outputs": [],
   "source": []
  },
  {
   "cell_type": "code",
   "execution_count": null,
   "id": "17d1902e",
   "metadata": {},
   "outputs": [],
   "source": [
    "num = 6\n",
    "print(num + 5)\n",
    "print(num * 5)\n",
    "print(num / 5)\n",
    "print(num % 5)"
   ]
  },
  {
   "cell_type": "code",
   "execution_count": null,
   "id": "04c44733",
   "metadata": {},
   "outputs": [],
   "source": [
    "class Scores:\n",
    "    \n",
    "    name = ''\n",
    "    score = 0\n",
    "    \n",
    "    def print_info(self):\n",
    "        print('이름 : {} / 점수: {}'.format(self.name, self.score))\n",
    "    "
   ]
  },
  {
   "cell_type": "code",
   "execution_count": null,
   "id": "d4e6846f",
   "metadata": {},
   "outputs": [],
   "source": [
    "s1 = Scores()\n",
    "s1.name = '나예호'\n",
    "s1.score = 100\n",
    "\n",
    "s1.print_info()"
   ]
  },
  {
   "cell_type": "code",
   "execution_count": null,
   "id": "1e2d7375",
   "metadata": {},
   "outputs": [],
   "source": [
    "from flask import Flask, request\n",
    "\n",
    "#app : Server실행, 경로를 잡아주는 객체\n",
    "app = Flask(__name__)\n",
    "\n",
    "@app.route('/')\n",
    "def index():\n",
    "    \n",
    "    ip = request.remote_addr\n",
    "    \n",
    "    if ip == '접속ㅎ':\n",
    "        return '인수씨 방가방가'\n",
    "    else:\n",
    "        return '<h1>Hello World</h1>'\n",
    "\n",
    "if __name__ == '__main__':\n",
    "    app.run(host='내 IP', port=5021)"
   ]
  }
 ],
 "metadata": {
  "kernelspec": {
   "display_name": "Python 3 (ipykernel)",
   "language": "python",
   "name": "python3"
  },
  "language_info": {
   "codemirror_mode": {
    "name": "ipython",
    "version": 3
   },
   "file_extension": ".py",
   "mimetype": "text/x-python",
   "name": "python",
   "nbconvert_exporter": "python",
   "pygments_lexer": "ipython3",
   "version": "3.9.12"
  },
  "toc": {
   "base_numbering": 1,
   "nav_menu": {},
   "number_sections": true,
   "sideBar": true,
   "skip_h1_title": false,
   "title_cell": "Table of Contents",
   "title_sidebar": "Contents",
   "toc_cell": false,
   "toc_position": {},
   "toc_section_display": true,
   "toc_window_display": false
  }
 },
 "nbformat": 4,
 "nbformat_minor": 5
}
