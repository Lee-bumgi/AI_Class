{
 "cells": [
  {
   "cell_type": "markdown",
   "id": "caac2f53",
   "metadata": {},
   "source": [
    "# Matplotlib"
   ]
  },
  {
   "cell_type": "markdown",
   "id": "ddf46ce7",
   "metadata": {},
   "source": [
    "- 폰트 설정"
   ]
  },
  {
   "cell_type": "code",
   "execution_count": 1,
   "id": "abc7bc66",
   "metadata": {},
   "outputs": [],
   "source": [
    "# 한글로 출력하기 위해서 폰트 지정하기!\n",
    "from matplotlib import rc\n",
    "rc('font', family = 'Malgun Gothic')"
   ]
  },
  {
   "cell_type": "code",
   "execution_count": null,
   "id": "8995a6c0",
   "metadata": {},
   "outputs": [],
   "source": [
    "import matplotlib.font_manager as fm\n",
    "font_list = fm.findSystemFonts(fontpaths=None, fontext='ttf')\n",
    "font_list"
   ]
  }
 ],
 "metadata": {
  "kernelspec": {
   "display_name": "Python 3 (ipykernel)",
   "language": "python",
   "name": "python3"
  },
  "language_info": {
   "codemirror_mode": {
    "name": "ipython",
    "version": 3
   },
   "file_extension": ".py",
   "mimetype": "text/x-python",
   "name": "python",
   "nbconvert_exporter": "python",
   "pygments_lexer": "ipython3",
   "version": "3.9.12"
  },
  "toc": {
   "base_numbering": 1,
   "nav_menu": {},
   "number_sections": true,
   "sideBar": true,
   "skip_h1_title": false,
   "title_cell": "Table of Contents",
   "title_sidebar": "Contents",
   "toc_cell": false,
   "toc_position": {},
   "toc_section_display": true,
   "toc_window_display": false
  }
 },
 "nbformat": 4,
 "nbformat_minor": 5
}
