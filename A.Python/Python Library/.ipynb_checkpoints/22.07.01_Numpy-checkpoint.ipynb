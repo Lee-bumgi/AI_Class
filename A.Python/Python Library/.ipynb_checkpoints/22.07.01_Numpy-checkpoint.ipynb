{
 "cells": [
  {
   "cell_type": "markdown",
   "id": "ee8147d2",
   "metadata": {},
   "source": [
    "# Numerical Python의 약자"
   ]
  },
  {
   "cell_type": "code",
   "execution_count": null,
   "id": "751f5fd6",
   "metadata": {},
   "outputs": [],
   "source": [
    "# 파이썬의 수치계산 및 해석의 라이브러리"
   ]
  },
  {
   "cell_type": "code",
   "execution_count": null,
   "id": "dd6eb9de",
   "metadata": {},
   "outputs": [],
   "source": [
    "# 배열 : '같은 자료형'의 데이터들이 연속된 형태로 구성된 자료 구조로 다량의 데이터를 '그룹'으로 관리하며 '손쉽게 계산'하기 위해 사용"
   ]
  },
  {
   "cell_type": "code",
   "execution_count": null,
   "id": "53f3181c",
   "metadata": {},
   "outputs": [],
   "source": [
    "# sqrt : square root (제곱근)\n",
    "# std : standard (표준편차)\n",
    "\n",
    "numpy 다양한 함수들\n",
    "사이트 참조 : https://codetorial.net/numpy/functions/index.html"
   ]
  },
  {
   "cell_type": "code",
   "execution_count": 1,
   "id": "d4dc1bb0",
   "metadata": {},
   "outputs": [],
   "source": [
    "# ndarray : n-dimension\n",
    "# list와 유사하게 N차원 형태로 구성이 가능\n",
    "# index가 있다"
   ]
  },
  {
   "cell_type": "markdown",
   "id": "81b000ec",
   "metadata": {},
   "source": [
    "### Numpy 라이브러리"
   ]
  },
  {
   "cell_type": "markdown",
   "id": "e523144b",
   "metadata": {},
   "source": [
    "- 빅데이터의 수학적, 과학적 계산을 위해 만들어진 라이브러리\n",
    "- 반복문 없이 전체 데이터의 연산이 가능한 표준 수학 함수들을 제공\n",
    "- ※배열 : 같은 자료형의 값들이 연속적인 형태로 구성된 자료 구조로 대량의 데이터를 그룹으로 관리하고 계산하기 위해 사용"
   ]
  },
  {
   "cell_type": "code",
   "execution_count": 3,
   "id": "c0bd1262",
   "metadata": {},
   "outputs": [],
   "source": [
    "import numpy as np"
   ]
  },
  {
   "cell_type": "code",
   "execution_count": 4,
   "id": "36c20ef3",
   "metadata": {},
   "outputs": [
    {
     "name": "stdout",
     "output_type": "stream",
     "text": [
      "[1, 2, 3, 4, 5]\n"
     ]
    }
   ],
   "source": [
    "list1 = [1,2,3,4,5]\n",
    "print(list1)"
   ]
  },
  {
   "cell_type": "code",
   "execution_count": 6,
   "id": "52fd5b5c",
   "metadata": {},
   "outputs": [
    {
     "data": {
      "text/plain": [
       "list"
      ]
     },
     "execution_count": 6,
     "metadata": {},
     "output_type": "execute_result"
    }
   ],
   "source": [
    "type(list1)"
   ]
  },
  {
   "cell_type": "code",
   "execution_count": 8,
   "id": "b70bd804",
   "metadata": {},
   "outputs": [
    {
     "name": "stdout",
     "output_type": "stream",
     "text": [
      "[1 2 3 4 5]\n"
     ]
    }
   ],
   "source": [
    "arr = np.array(list1)\n",
    "print(arr)"
   ]
  },
  {
   "cell_type": "code",
   "execution_count": 9,
   "id": "62174ac7",
   "metadata": {},
   "outputs": [
    {
     "data": {
      "text/plain": [
       "numpy.ndarray"
      ]
     },
     "execution_count": 9,
     "metadata": {},
     "output_type": "execute_result"
    }
   ],
   "source": [
    "type(arr)"
   ]
  },
  {
   "cell_type": "markdown",
   "id": "03a51cd4",
   "metadata": {},
   "source": [
    "#### 1차원 배열"
   ]
  },
  {
   "cell_type": "code",
   "execution_count": 11,
   "id": "0f185561",
   "metadata": {},
   "outputs": [
    {
     "name": "stdout",
     "output_type": "stream",
     "text": [
      "[1.  2.  3.5]\n"
     ]
    }
   ],
   "source": [
    "arr = np.array([1,2,3.5])\n",
    "print(arr)"
   ]
  },
  {
   "cell_type": "code",
   "execution_count": 12,
   "id": "ad79bfd0",
   "metadata": {},
   "outputs": [
    {
     "name": "stdout",
     "output_type": "stream",
     "text": [
      "['1' '2' '야호!']\n"
     ]
    }
   ],
   "source": [
    "arr = np.array([1,2,'야호!'])\n",
    "print(arr)"
   ]
  },
  {
   "cell_type": "code",
   "execution_count": 13,
   "id": "53f6ab1f",
   "metadata": {},
   "outputs": [
    {
     "data": {
      "text/plain": [
       "array(['1', '2', '야호!'], dtype='<U11')"
      ]
     },
     "execution_count": 13,
     "metadata": {},
     "output_type": "execute_result"
    }
   ],
   "source": [
    "arr"
   ]
  },
  {
   "cell_type": "markdown",
   "id": "61649eaf",
   "metadata": {},
   "source": [
    "#### 2차원 배열"
   ]
  },
  {
   "cell_type": "code",
   "execution_count": 15,
   "id": "9208efff",
   "metadata": {},
   "outputs": [
    {
     "data": {
      "text/plain": [
       "array([[1, 2, 3],\n",
       "       [4, 5, 6]])"
      ]
     },
     "execution_count": 15,
     "metadata": {},
     "output_type": "execute_result"
    }
   ],
   "source": [
    "arr2 = np.array([[1,2,3],[4,5,6]])\n",
    "arr2"
   ]
  },
  {
   "cell_type": "code",
   "execution_count": 16,
   "id": "f775c09e",
   "metadata": {},
   "outputs": [
    {
     "data": {
      "text/plain": [
       "(2, 3)"
      ]
     },
     "execution_count": 16,
     "metadata": {},
     "output_type": "execute_result"
    }
   ],
   "source": [
    "# 배열의 형태 확인 (행, 열)\n",
    "arr2.shape"
   ]
  },
  {
   "cell_type": "code",
   "execution_count": 18,
   "id": "25d1dade",
   "metadata": {},
   "outputs": [
    {
     "data": {
      "text/plain": [
       "6"
      ]
     },
     "execution_count": 18,
     "metadata": {},
     "output_type": "execute_result"
    }
   ],
   "source": [
    "# 배열의 요소 전체 개수\n",
    "arr2.size"
   ]
  },
  {
   "cell_type": "code",
   "execution_count": 19,
   "id": "dac6f496",
   "metadata": {},
   "outputs": [
    {
     "data": {
      "text/plain": [
       "dtype('int32')"
      ]
     },
     "execution_count": 19,
     "metadata": {},
     "output_type": "execute_result"
    }
   ],
   "source": [
    "# 배열의 데이터 타입(자료형 확인)\n",
    "arr2.dtype"
   ]
  },
  {
   "cell_type": "code",
   "execution_count": 20,
   "id": "9d1dde99",
   "metadata": {},
   "outputs": [],
   "source": [
    "#32는 bit를 뜻함(기계가 표현할 수 잇는 범위) -> 2^32\n",
    "# int8 => 1비트당 2개의 숫자를 표현할 수 있음 = 256개 표현 가능(-128 ~127)\n",
    "# int32=> -2,147,483,648 ~ 2,147,483,647"
   ]
  },
  {
   "cell_type": "code",
   "execution_count": 21,
   "id": "0e53db09",
   "metadata": {},
   "outputs": [
    {
     "data": {
      "text/plain": [
       "2"
      ]
     },
     "execution_count": 21,
     "metadata": {},
     "output_type": "execute_result"
    }
   ],
   "source": [
    "# 배열의 차원 확인\n",
    "arr2.ndim"
   ]
  },
  {
   "cell_type": "code",
   "execution_count": 27,
   "id": "1e79f56e",
   "metadata": {},
   "outputs": [
    {
     "data": {
      "text/plain": [
       "array([[[1, 2, 3],\n",
       "        [3, 4, 5]],\n",
       "\n",
       "       [[4, 5, 6],\n",
       "        [7, 8, 9]]])"
      ]
     },
     "execution_count": 27,
     "metadata": {},
     "output_type": "execute_result"
    }
   ],
   "source": [
    "arr3 = np.array([[[1,2,3],[3,4,5]],[[4,5,6],[7,8,9]]])\n",
    "arr3"
   ]
  },
  {
   "cell_type": "code",
   "execution_count": 28,
   "id": "64e0a886",
   "metadata": {},
   "outputs": [
    {
     "name": "stdout",
     "output_type": "stream",
     "text": [
      "배열의 형태 :  (2, 2, 3)\n",
      "배열의 차원 :  3\n",
      "배열의 전체요소개수 :  12\n"
     ]
    }
   ],
   "source": [
    "print(\"배열의 형태 : \", arr3.shape) # 2행 3열이 2개 (개수, 행수, 열수)\n",
    "print(\"배열의 차원 : \", arr3.ndim)\n",
    "print(\"배열의 전체요소개수 : \", arr3.size)"
   ]
  },
  {
   "cell_type": "code",
   "execution_count": 29,
   "id": "35d69eba",
   "metadata": {},
   "outputs": [
    {
     "data": {
      "text/plain": [
       "array([[0., 0., 0., 0.],\n",
       "       [0., 0., 0., 0.],\n",
       "       [0., 0., 0., 0.]])"
      ]
     },
     "execution_count": 29,
     "metadata": {},
     "output_type": "execute_result"
    }
   ],
   "source": [
    "# 0으로 배열 생성\n",
    "arr_zeros = np.zeros((3,4))\n",
    "arr_zeros"
   ]
  },
  {
   "cell_type": "code",
   "execution_count": 30,
   "id": "43ddd05c",
   "metadata": {},
   "outputs": [
    {
     "data": {
      "text/plain": [
       "array([[[1., 1., 1.],\n",
       "        [1., 1., 1.],\n",
       "        [1., 1., 1.],\n",
       "        [1., 1., 1.]],\n",
       "\n",
       "       [[1., 1., 1.],\n",
       "        [1., 1., 1.],\n",
       "        [1., 1., 1.],\n",
       "        [1., 1., 1.]]])"
      ]
     },
     "execution_count": 30,
     "metadata": {},
     "output_type": "execute_result"
    }
   ],
   "source": [
    "# 1로 배열 생성\n",
    "arr_ones = np.ones((2,4,3))\n",
    "arr_ones"
   ]
  },
  {
   "cell_type": "code",
   "execution_count": 33,
   "id": "aba958f8",
   "metadata": {},
   "outputs": [
    {
     "data": {
      "text/plain": [
       "array([[[2, 2, 2, 2, 2],\n",
       "        [2, 2, 2, 2, 2],\n",
       "        [2, 2, 2, 2, 2],\n",
       "        [2, 2, 2, 2, 2],\n",
       "        [2, 2, 2, 2, 2]],\n",
       "\n",
       "       [[2, 2, 2, 2, 2],\n",
       "        [2, 2, 2, 2, 2],\n",
       "        [2, 2, 2, 2, 2],\n",
       "        [2, 2, 2, 2, 2],\n",
       "        [2, 2, 2, 2, 2]]])"
      ]
     },
     "execution_count": 33,
     "metadata": {},
     "output_type": "execute_result"
    }
   ],
   "source": [
    "# 특정값으로 배열 생성하기\n",
    "arr_full = np.full((2,5,5),2) # 5행 5열의 배열을 2로 채워준다.\n",
    "arr_full"
   ]
  },
  {
   "cell_type": "markdown",
   "id": "38c884e0",
   "metadata": {},
   "source": [
    "#### 다차원배열 생성에 유용한 함수\n",
    "- arange함수로 배열을 생성하고 reshape함수로 배열의 형태를 바꾸보자!"
   ]
  },
  {
   "cell_type": "code",
   "execution_count": 37,
   "id": "ec3e3368",
   "metadata": {},
   "outputs": [
    {
     "name": "stdout",
     "output_type": "stream",
     "text": [
      "[1, 2, 3, 4, 5, 6, 7, 8, 9, 10, 11, 12, 13, 14, 15, 16, 17, 18, 19, 20, 21, 22, 23, 24, 25, 26, 27, 28, 29, 30, 31, 32, 33, 34, 35, 36, 37, 38, 39, 40, 41, 42, 43, 44, 45, 46, 47, 48, 49, 50]\n"
     ]
    },
    {
     "data": {
      "text/plain": [
       "array([ 1,  2,  3,  4,  5,  6,  7,  8,  9, 10, 11, 12, 13, 14, 15, 16, 17,\n",
       "       18, 19, 20, 21, 22, 23, 24, 25, 26, 27, 28, 29, 30, 31, 32, 33, 34,\n",
       "       35, 36, 37, 38, 39, 40, 41, 42, 43, 44, 45, 46, 47, 48, 49, 50])"
      ]
     },
     "execution_count": 37,
     "metadata": {},
     "output_type": "execute_result"
    }
   ],
   "source": [
    "# 1부터 50까지 1씩 증가하는 값들로 리스트를 만들어보자\n",
    "a=[]\n",
    "for i in range(1,51):\n",
    "    a.append(i)\n",
    "print(a)\n",
    "\n",
    "# 만든 리스트로 배열 생성\n",
    "np.array(a)"
   ]
  },
  {
   "cell_type": "code",
   "execution_count": 38,
   "id": "d35f6395",
   "metadata": {},
   "outputs": [
    {
     "data": {
      "text/plain": [
       "array([ 1,  2,  3,  4,  5,  6,  7,  8,  9, 10, 11, 12, 13, 14, 15, 16, 17,\n",
       "       18, 19, 20, 21, 22, 23, 24, 25, 26, 27, 28, 29, 30, 31, 32, 33, 34,\n",
       "       35, 36, 37, 38, 39, 40, 41, 42, 43, 44, 45, 46, 47, 48, 49, 50])"
      ]
     },
     "execution_count": 38,
     "metadata": {},
     "output_type": "execute_result"
    }
   ],
   "source": [
    "# 반복문을 활용하지 않고 배열 생성\n",
    "arr5 = np.arange(1,51,1)\n",
    "arr5"
   ]
  },
  {
   "cell_type": "code",
   "execution_count": 39,
   "id": "8bbe13ed",
   "metadata": {},
   "outputs": [
    {
     "data": {
      "text/plain": [
       "array([ 1, 11, 21, 31, 41])"
      ]
     },
     "execution_count": 39,
     "metadata": {},
     "output_type": "execute_result"
    }
   ],
   "source": [
    "# 1부터 51까지 중에서 1,11,21,31,41로 배열을 생성해보자\n",
    "arr6 = np.arange(1,51,10)\n",
    "arr6"
   ]
  },
  {
   "cell_type": "code",
   "execution_count": 40,
   "id": "53dc8941",
   "metadata": {},
   "outputs": [
    {
     "data": {
      "text/plain": [
       "array([ 1,  2,  3,  4,  5,  6,  7,  8,  9, 10, 11, 12, 13, 14, 15, 16, 17,\n",
       "       18, 19, 20, 21, 22, 23, 24, 25, 26, 27, 28, 29, 30, 31, 32, 33, 34,\n",
       "       35, 36, 37, 38, 39, 40, 41, 42, 43, 44, 45, 46, 47, 48, 49, 50])"
      ]
     },
     "execution_count": 40,
     "metadata": {},
     "output_type": "execute_result"
    }
   ],
   "source": [
    "arr7 = np.arange(1,51,1)\n",
    "arr7"
   ]
  },
  {
   "cell_type": "code",
   "execution_count": 41,
   "id": "c797c132",
   "metadata": {},
   "outputs": [
    {
     "data": {
      "text/plain": [
       "array([[ 1,  2,  3,  4,  5,  6,  7,  8,  9, 10],\n",
       "       [11, 12, 13, 14, 15, 16, 17, 18, 19, 20],\n",
       "       [21, 22, 23, 24, 25, 26, 27, 28, 29, 30],\n",
       "       [31, 32, 33, 34, 35, 36, 37, 38, 39, 40],\n",
       "       [41, 42, 43, 44, 45, 46, 47, 48, 49, 50]])"
      ]
     },
     "execution_count": 41,
     "metadata": {},
     "output_type": "execute_result"
    }
   ],
   "source": [
    "# reshape : 배열의 행과 열을 변경시켜주는 명령\n",
    "arr7.reshape(5,10)"
   ]
  },
  {
   "cell_type": "code",
   "execution_count": 42,
   "id": "be06c86c",
   "metadata": {},
   "outputs": [
    {
     "ename": "ValueError",
     "evalue": "cannot reshape array of size 50 into shape (5,11)",
     "output_type": "error",
     "traceback": [
      "\u001b[1;31m---------------------------------------------------------------------------\u001b[0m",
      "\u001b[1;31mValueError\u001b[0m                                Traceback (most recent call last)",
      "Input \u001b[1;32mIn [42]\u001b[0m, in \u001b[0;36m<cell line: 1>\u001b[1;34m()\u001b[0m\n\u001b[1;32m----> 1\u001b[0m \u001b[43marr7\u001b[49m\u001b[38;5;241;43m.\u001b[39;49m\u001b[43mreshape\u001b[49m\u001b[43m(\u001b[49m\u001b[38;5;241;43m5\u001b[39;49m\u001b[43m,\u001b[49m\u001b[38;5;241;43m11\u001b[39;49m\u001b[43m)\u001b[49m\n",
      "\u001b[1;31mValueError\u001b[0m: cannot reshape array of size 50 into shape (5,11)"
     ]
    }
   ],
   "source": [
    "arr7.reshape(5,11)"
   ]
  },
  {
   "cell_type": "code",
   "execution_count": 43,
   "id": "005211ea",
   "metadata": {},
   "outputs": [
    {
     "data": {
      "text/plain": [
       "array([[ 1,  2,  3,  4,  5],\n",
       "       [ 6,  7,  8,  9, 10],\n",
       "       [11, 12, 13, 14, 15],\n",
       "       [16, 17, 18, 19, 20],\n",
       "       [21, 22, 23, 24, 25],\n",
       "       [26, 27, 28, 29, 30],\n",
       "       [31, 32, 33, 34, 35],\n",
       "       [36, 37, 38, 39, 40],\n",
       "       [41, 42, 43, 44, 45],\n",
       "       [46, 47, 48, 49, 50]])"
      ]
     },
     "execution_count": 43,
     "metadata": {},
     "output_type": "execute_result"
    }
   ],
   "source": [
    "arr7.reshape(10,5)"
   ]
  },
  {
   "cell_type": "code",
   "execution_count": 44,
   "id": "1f971130",
   "metadata": {},
   "outputs": [
    {
     "data": {
      "text/plain": [
       "array([ 1,  2,  3,  4,  5,  6,  7,  8,  9, 10, 11, 12, 13, 14, 15, 16, 17,\n",
       "       18, 19, 20, 21, 22, 23, 24, 25, 26, 27, 28, 29, 30, 31, 32, 33, 34,\n",
       "       35, 36, 37, 38, 39, 40, 41, 42, 43, 44, 45, 46, 47, 48, 49, 50])"
      ]
     },
     "execution_count": 44,
     "metadata": {},
     "output_type": "execute_result"
    }
   ],
   "source": [
    "arr7"
   ]
  },
  {
   "cell_type": "code",
   "execution_count": 45,
   "id": "79cd04f7",
   "metadata": {},
   "outputs": [],
   "source": [
    "arr7 = arr7.reshape(5,10)"
   ]
  },
  {
   "cell_type": "code",
   "execution_count": 46,
   "id": "3e5d9043",
   "metadata": {},
   "outputs": [
    {
     "data": {
      "text/plain": [
       "array([[ 1,  2,  3,  4,  5,  6,  7,  8,  9, 10],\n",
       "       [11, 12, 13, 14, 15, 16, 17, 18, 19, 20],\n",
       "       [21, 22, 23, 24, 25, 26, 27, 28, 29, 30],\n",
       "       [31, 32, 33, 34, 35, 36, 37, 38, 39, 40],\n",
       "       [41, 42, 43, 44, 45, 46, 47, 48, 49, 50]])"
      ]
     },
     "execution_count": 46,
     "metadata": {},
     "output_type": "execute_result"
    }
   ],
   "source": [
    "arr7"
   ]
  },
  {
   "cell_type": "code",
   "execution_count": 47,
   "id": "94479a54",
   "metadata": {},
   "outputs": [
    {
     "data": {
      "text/plain": [
       "array([1.2, 2.3, 3.4])"
      ]
     },
     "execution_count": 47,
     "metadata": {},
     "output_type": "execute_result"
    }
   ],
   "source": [
    "arr8 = np.array([1.2,2.3,3.4])\n",
    "arr8"
   ]
  },
  {
   "cell_type": "code",
   "execution_count": 48,
   "id": "e7bf6b8f",
   "metadata": {},
   "outputs": [
    {
     "data": {
      "text/plain": [
       "array([1, 2, 3], dtype=int64)"
      ]
     },
     "execution_count": 48,
     "metadata": {},
     "output_type": "execute_result"
    }
   ],
   "source": [
    "# 배열의 자료형을 정수형으로 변경!\n",
    "arr8 = np.array([1.2,2.3,3.4], dtype=np.int64)\n",
    "arr8"
   ]
  },
  {
   "cell_type": "code",
   "execution_count": 49,
   "id": "39b4ef17",
   "metadata": {},
   "outputs": [
    {
     "data": {
      "text/plain": [
       "array([1, 2, 3], dtype=int64)"
      ]
     },
     "execution_count": 49,
     "metadata": {},
     "output_type": "execute_result"
    }
   ],
   "source": [
    "arr9 = np.array(['1','2','3'],dtype = np.int64)\n",
    "arr9"
   ]
  },
  {
   "cell_type": "markdown",
   "id": "50277180",
   "metadata": {},
   "source": [
    "#### 랜덤(난수)값 생성!"
   ]
  },
  {
   "cell_type": "code",
   "execution_count": 57,
   "id": "7d6d7fe1",
   "metadata": {},
   "outputs": [
    {
     "data": {
      "text/plain": [
       "array([[0.13352189, 0.95484975, 0.20111399],\n",
       "       [0.02848738, 0.18791507, 0.44916789]])"
      ]
     },
     "execution_count": 57,
     "metadata": {},
     "output_type": "execute_result"
    }
   ],
   "source": [
    "arr10 = np.random.rand(2,3)\n",
    "arr10"
   ]
  },
  {
   "cell_type": "code",
   "execution_count": 110,
   "id": "2ae67944",
   "metadata": {},
   "outputs": [
    {
     "data": {
      "text/plain": [
       "0"
      ]
     },
     "execution_count": 110,
     "metadata": {},
     "output_type": "execute_result"
    }
   ],
   "source": [
    "# 랜덤 정수 값 출력하기!\n",
    "np.random.randint(10) # 0~9까지의 10개 숫자 중에서 랜덤으로 정수 생성\n"
   ]
  },
  {
   "cell_type": "code",
   "execution_count": 111,
   "id": "a1a3a7e2",
   "metadata": {},
   "outputs": [
    {
     "data": {
      "text/plain": [
       "array([2, 0, 3, 3, 4, 3, 4, 0, 4, 1])"
      ]
     },
     "execution_count": 111,
     "metadata": {},
     "output_type": "execute_result"
    }
   ],
   "source": [
    "# 랜덤값 정수형 배열 생성하기\n",
    "np.random.randint(5,size = 10)"
   ]
  },
  {
   "cell_type": "code",
   "execution_count": 118,
   "id": "c3ca9a66",
   "metadata": {},
   "outputs": [
    {
     "data": {
      "text/plain": [
       "array([[4, 0, 3],\n",
       "       [1, 4, 0]])"
      ]
     },
     "execution_count": 118,
     "metadata": {},
     "output_type": "execute_result"
    }
   ],
   "source": [
    "np.random.randint(5,size = (2,3))"
   ]
  },
  {
   "cell_type": "markdown",
   "id": "5205ee64",
   "metadata": {},
   "source": [
    "#### array 연산"
   ]
  },
  {
   "cell_type": "code",
   "execution_count": 120,
   "id": "f3f32b21",
   "metadata": {},
   "outputs": [
    {
     "data": {
      "text/plain": [
       "array([[1, 2],\n",
       "       [3, 4]])"
      ]
     },
     "execution_count": 120,
     "metadata": {},
     "output_type": "execute_result"
    }
   ],
   "source": [
    "arr14 = np.array([[1,2],[3,4]])\n",
    "arr14"
   ]
  },
  {
   "cell_type": "code",
   "execution_count": 122,
   "id": "c7364f58",
   "metadata": {},
   "outputs": [
    {
     "data": {
      "text/plain": [
       "array([[2, 4],\n",
       "       [6, 8]])"
      ]
     },
     "execution_count": 122,
     "metadata": {},
     "output_type": "execute_result"
    }
   ],
   "source": [
    "arr14+ arr14"
   ]
  },
  {
   "cell_type": "code",
   "execution_count": 123,
   "id": "9d294e18",
   "metadata": {},
   "outputs": [
    {
     "data": {
      "text/plain": [
       "[[1, 2], [3, 4]]"
      ]
     },
     "execution_count": 123,
     "metadata": {},
     "output_type": "execute_result"
    }
   ],
   "source": [
    "list14 = [[1,2],[3,4]]\n",
    "list14"
   ]
  },
  {
   "cell_type": "code",
   "execution_count": 124,
   "id": "b926a19c",
   "metadata": {},
   "outputs": [
    {
     "data": {
      "text/plain": [
       "[[1, 2], [3, 4], [1, 2], [3, 4]]"
      ]
     },
     "execution_count": 124,
     "metadata": {},
     "output_type": "execute_result"
    }
   ],
   "source": [
    "list14 + list14"
   ]
  },
  {
   "cell_type": "code",
   "execution_count": 125,
   "id": "88580bec",
   "metadata": {},
   "outputs": [
    {
     "data": {
      "text/plain": [
       "array([[ 1,  4],\n",
       "       [ 9, 16]])"
      ]
     },
     "execution_count": 125,
     "metadata": {},
     "output_type": "execute_result"
    }
   ],
   "source": [
    "arr14 * arr14"
   ]
  },
  {
   "cell_type": "code",
   "execution_count": 126,
   "id": "f403419b",
   "metadata": {},
   "outputs": [
    {
     "data": {
      "text/plain": [
       "array([[0, 0],\n",
       "       [0, 0]], dtype=int32)"
      ]
     },
     "execution_count": 126,
     "metadata": {},
     "output_type": "execute_result"
    }
   ],
   "source": [
    "arr14 % arr14"
   ]
  },
  {
   "cell_type": "code",
   "execution_count": 127,
   "id": "1f1ebab5",
   "metadata": {},
   "outputs": [
    {
     "data": {
      "text/plain": [
       "array([[2, 4],\n",
       "       [6, 8]])"
      ]
     },
     "execution_count": 127,
     "metadata": {},
     "output_type": "execute_result"
    }
   ],
   "source": [
    "arr14 *2"
   ]
  },
  {
   "cell_type": "markdown",
   "id": "afbd959e",
   "metadata": {},
   "source": [
    "### numpy 배열의 접근은 어떻게 할까?\n",
    "- 리스트와 마찬가지로 인덱싱, 슬라이싱을 지원함!"
   ]
  },
  {
   "cell_type": "markdown",
   "id": "14014f47",
   "metadata": {},
   "source": [
    "#### numpy 배열 인덱싱\n",
    "- 배열 중 하나의 인덱스 값에 있는 데이터를 가져오는 것"
   ]
  },
  {
   "cell_type": "code",
   "execution_count": 128,
   "id": "7ef76384",
   "metadata": {},
   "outputs": [
    {
     "data": {
      "text/plain": [
       "array([[1, 2, 3],\n",
       "       [4, 5, 6]])"
      ]
     },
     "execution_count": 128,
     "metadata": {},
     "output_type": "execute_result"
    }
   ],
   "source": [
    "arr16 = np.array([[1,2,3],[4,5,6]])\n",
    "arr16"
   ]
  },
  {
   "cell_type": "code",
   "execution_count": 129,
   "id": "4cbb80cb",
   "metadata": {},
   "outputs": [
    {
     "data": {
      "text/plain": [
       "array([1, 2, 3])"
      ]
     },
     "execution_count": 129,
     "metadata": {},
     "output_type": "execute_result"
    }
   ],
   "source": [
    "arr16[0]"
   ]
  },
  {
   "cell_type": "code",
   "execution_count": 131,
   "id": "54e0d8a7",
   "metadata": {},
   "outputs": [
    {
     "data": {
      "text/plain": [
       "2"
      ]
     },
     "execution_count": 131,
     "metadata": {},
     "output_type": "execute_result"
    }
   ],
   "source": [
    "arr16[0][1]"
   ]
  },
  {
   "cell_type": "markdown",
   "id": "a3fa8bc9",
   "metadata": {},
   "source": [
    "#### numpy 슬라이싱\n",
    "- 배열의 범위를 지정하여 여러개의 데이터를 가져오는 것"
   ]
  },
  {
   "cell_type": "code",
   "execution_count": 132,
   "id": "75c284ea",
   "metadata": {},
   "outputs": [
    {
     "data": {
      "text/plain": [
       "array([0, 1, 2, 3, 4, 5, 6, 7, 8, 9])"
      ]
     },
     "execution_count": 132,
     "metadata": {},
     "output_type": "execute_result"
    }
   ],
   "source": [
    "arr17=np.arange(10)\n",
    "arr17"
   ]
  },
  {
   "cell_type": "code",
   "execution_count": 133,
   "id": "5339b27a",
   "metadata": {},
   "outputs": [
    {
     "data": {
      "text/plain": [
       "array([3, 4, 5, 6, 7])"
      ]
     },
     "execution_count": 133,
     "metadata": {},
     "output_type": "execute_result"
    }
   ],
   "source": [
    "arr17[3:8]"
   ]
  },
  {
   "cell_type": "code",
   "execution_count": 134,
   "id": "c95bc1a8",
   "metadata": {},
   "outputs": [
    {
     "data": {
      "text/plain": [
       "array([3, 4, 5, 6, 7])"
      ]
     },
     "execution_count": 134,
     "metadata": {},
     "output_type": "execute_result"
    }
   ],
   "source": [
    "arr17[3:8]"
   ]
  },
  {
   "cell_type": "code",
   "execution_count": 135,
   "id": "8b5ffa38",
   "metadata": {},
   "outputs": [
    {
     "data": {
      "text/plain": [
       "array([[ 0,  1,  2,  3,  4,  5,  6,  7,  8,  9],\n",
       "       [10, 11, 12, 13, 14, 15, 16, 17, 18, 19],\n",
       "       [20, 21, 22, 23, 24, 25, 26, 27, 28, 29],\n",
       "       [30, 31, 32, 33, 34, 35, 36, 37, 38, 39],\n",
       "       [40, 41, 42, 43, 44, 45, 46, 47, 48, 49]])"
      ]
     },
     "execution_count": 135,
     "metadata": {},
     "output_type": "execute_result"
    }
   ],
   "source": [
    "arr18 = np.arange(50).reshape(5,10)\n",
    "arr18"
   ]
  },
  {
   "cell_type": "code",
   "execution_count": 136,
   "id": "d80a4aa3",
   "metadata": {},
   "outputs": [
    {
     "data": {
      "text/plain": [
       "array([[ 0,  1,  2,  3,  4,  5,  6,  7,  8,  9],\n",
       "       [10, 11, 12, 13, 14, 15, 16, 17, 18, 19]])"
      ]
     },
     "execution_count": 136,
     "metadata": {},
     "output_type": "execute_result"
    }
   ],
   "source": [
    "# 0번,1번 인덱스 행의 모든 열을 출력(arr18[행의 범위, 열의 범위])\n",
    "arr18[0:2,:]"
   ]
  },
  {
   "cell_type": "code",
   "execution_count": 137,
   "id": "7810db50",
   "metadata": {},
   "outputs": [
    {
     "data": {
      "text/plain": [
       "array([ 0, 10, 20, 30, 40])"
      ]
     },
     "execution_count": 137,
     "metadata": {},
     "output_type": "execute_result"
    }
   ],
   "source": [
    "# 모든 행의 0번 인덱스를 출력\n",
    "arr18[:,0]"
   ]
  },
  {
   "cell_type": "code",
   "execution_count": 138,
   "id": "63560df7",
   "metadata": {},
   "outputs": [
    {
     "name": "stdout",
     "output_type": "stream",
     "text": [
      "[ 0 10 20 30 40]\n"
     ]
    }
   ],
   "source": [
    "print(arr18[:,0])"
   ]
  },
  {
   "cell_type": "code",
   "execution_count": 139,
   "id": "46722290",
   "metadata": {},
   "outputs": [
    {
     "data": {
      "text/plain": [
       "array([[ 0],\n",
       "       [10],\n",
       "       [20],\n",
       "       [30],\n",
       "       [40]])"
      ]
     },
     "execution_count": 139,
     "metadata": {},
     "output_type": "execute_result"
    }
   ],
   "source": [
    "arr18[:,0:1]"
   ]
  },
  {
   "cell_type": "code",
   "execution_count": 140,
   "id": "4d4df007",
   "metadata": {},
   "outputs": [
    {
     "data": {
      "text/plain": [
       "array([[ 0,  1],\n",
       "       [10, 11],\n",
       "       [20, 21],\n",
       "       [30, 31],\n",
       "       [40, 41]])"
      ]
     },
     "execution_count": 140,
     "metadata": {},
     "output_type": "execute_result"
    }
   ],
   "source": [
    "arr18[:,0:2]"
   ]
  },
  {
   "cell_type": "code",
   "execution_count": 141,
   "id": "325f6d3e",
   "metadata": {},
   "outputs": [
    {
     "data": {
      "text/plain": [
       "array([[ 0,  1,  2,  3,  4],\n",
       "       [10, 11, 12, 13, 14],\n",
       "       [20, 21, 22, 23, 24],\n",
       "       [30, 31, 32, 33, 34]])"
      ]
     },
     "execution_count": 141,
     "metadata": {},
     "output_type": "execute_result"
    }
   ],
   "source": [
    "arr18[:4,:5]"
   ]
  },
  {
   "cell_type": "code",
   "execution_count": 142,
   "id": "721bd8b5",
   "metadata": {},
   "outputs": [
    {
     "data": {
      "text/plain": [
       "array([[ 0,  1,  2,  3,  4,  5],\n",
       "       [ 6,  7,  8,  9, 10, 11],\n",
       "       [12, 13, 14, 15, 16, 17]])"
      ]
     },
     "execution_count": 142,
     "metadata": {},
     "output_type": "execute_result"
    }
   ],
   "source": [
    "arr19 = np.arange(18).reshape(3,6)\n",
    "arr19"
   ]
  },
  {
   "cell_type": "code",
   "execution_count": 144,
   "id": "b1778699",
   "metadata": {},
   "outputs": [
    {
     "data": {
      "text/plain": [
       "array([ 7, 13])"
      ]
     },
     "execution_count": 144,
     "metadata": {},
     "output_type": "execute_result"
    }
   ],
   "source": [
    "arr19[1:,1]"
   ]
  },
  {
   "cell_type": "code",
   "execution_count": 146,
   "id": "627ba8c8",
   "metadata": {
    "scrolled": true
   },
   "outputs": [
    {
     "ename": "SyntaxError",
     "evalue": "invalid syntax (1557959822.py, line 1)",
     "output_type": "error",
     "traceback": [
      "\u001b[1;36m  Input \u001b[1;32mIn [146]\u001b[1;36m\u001b[0m\n\u001b[1;33m    for i in range(1:):\u001b[0m\n\u001b[1;37m                    ^\u001b[0m\n\u001b[1;31mSyntaxError\u001b[0m\u001b[1;31m:\u001b[0m invalid syntax\n"
     ]
    }
   ],
   "source": [
    "for i in range(1:):\n",
    "    for j in range(2,6,2):\n",
    "        arr19[i,j]"
   ]
  },
  {
   "cell_type": "code",
   "execution_count": 147,
   "id": "ebc010d9",
   "metadata": {},
   "outputs": [
    {
     "data": {
      "text/plain": [
       "array([[ 7,  9, 11],\n",
       "       [13, 15, 17]])"
      ]
     },
     "execution_count": 147,
     "metadata": {},
     "output_type": "execute_result"
    }
   ],
   "source": [
    "# 방법1\n",
    "arr19[1:, [1,3,5]]"
   ]
  },
  {
   "cell_type": "code",
   "execution_count": 150,
   "id": "bd66bc01",
   "metadata": {},
   "outputs": [
    {
     "data": {
      "text/plain": [
       "array([[ 7,  9, 11],\n",
       "       [13, 15, 17]])"
      ]
     },
     "execution_count": 150,
     "metadata": {},
     "output_type": "execute_result"
    }
   ],
   "source": [
    "# 방법2 - 1: :2 뜻은 1부터 끝까지 증감량2만큼 뽑는다 (시작인덱스 : 끝 인덱스 : 증감량)\n",
    "arr19[1:, 1: :2]"
   ]
  },
  {
   "cell_type": "code",
   "execution_count": 151,
   "id": "2ebd5db0",
   "metadata": {},
   "outputs": [
    {
     "data": {
      "text/plain": [
       "array([[ 0,  1,  2,  3,  4,  5],\n",
       "       [ 6,  7,  8,  9, 10, 11],\n",
       "       [12, 13, 14, 15, 16, 17]])"
      ]
     },
     "execution_count": 151,
     "metadata": {},
     "output_type": "execute_result"
    }
   ],
   "source": [
    "arr19"
   ]
  },
  {
   "cell_type": "code",
   "execution_count": 152,
   "id": "f3e73ca5",
   "metadata": {},
   "outputs": [
    {
     "data": {
      "text/plain": [
       "array([[ 0,  6, 12],\n",
       "       [ 1,  7, 13],\n",
       "       [ 2,  8, 14],\n",
       "       [ 3,  9, 15],\n",
       "       [ 4, 10, 16],\n",
       "       [ 5, 11, 17]])"
      ]
     },
     "execution_count": 152,
     "metadata": {},
     "output_type": "execute_result"
    }
   ],
   "source": [
    "arr19.T"
   ]
  },
  {
   "cell_type": "code",
   "execution_count": 153,
   "id": "4b81d212",
   "metadata": {},
   "outputs": [],
   "source": [
    "# arr.T 는 전치 (TransPosition)\n",
    "# 배열의 행과 열을 바꿔주는 역할"
   ]
  },
  {
   "cell_type": "code",
   "execution_count": null,
   "id": "a74c2977",
   "metadata": {},
   "outputs": [],
   "source": []
  }
 ],
 "metadata": {
  "kernelspec": {
   "display_name": "Python 3 (ipykernel)",
   "language": "python",
   "name": "python3"
  },
  "language_info": {
   "codemirror_mode": {
    "name": "ipython",
    "version": 3
   },
   "file_extension": ".py",
   "mimetype": "text/x-python",
   "name": "python",
   "nbconvert_exporter": "python",
   "pygments_lexer": "ipython3",
   "version": "3.9.12"
  }
 },
 "nbformat": 4,
 "nbformat_minor": 5
}
