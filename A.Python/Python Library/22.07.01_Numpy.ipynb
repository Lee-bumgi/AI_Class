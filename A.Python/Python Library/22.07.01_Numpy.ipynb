{
 "cells": [
  {
   "cell_type": "markdown",
   "id": "ee8147d2",
   "metadata": {},
   "source": [
    "# Numerical Python의 약자"
   ]
  },
  {
   "cell_type": "code",
   "execution_count": 1,
   "id": "751f5fd6",
   "metadata": {},
   "outputs": [],
   "source": [
    "# 파이썬의 수치계산 및 해석의 라이브러리"
   ]
  },
  {
   "cell_type": "code",
   "execution_count": 2,
   "id": "dd6eb9de",
   "metadata": {},
   "outputs": [],
   "source": [
    "# 배열 : '같은 자료형'의 데이터들이 연속된 형태로 구성된 자료 구조로 다량의 데이터를 '그룹'으로 관리하며 '손쉽게 계산'하기 위해 사용"
   ]
  },
  {
   "cell_type": "code",
   "execution_count": 3,
   "id": "53f3181c",
   "metadata": {},
   "outputs": [
    {
     "ename": "SyntaxError",
     "evalue": "invalid syntax (48101824.py, line 4)",
     "output_type": "error",
     "traceback": [
      "\u001b[1;36m  Input \u001b[1;32mIn [3]\u001b[1;36m\u001b[0m\n\u001b[1;33m    numpy 다양한 함수들\u001b[0m\n\u001b[1;37m          ^\u001b[0m\n\u001b[1;31mSyntaxError\u001b[0m\u001b[1;31m:\u001b[0m invalid syntax\n"
     ]
    }
   ],
   "source": [
    "# sqrt : square root (제곱근)\n",
    "# std : standard (표준편차)\n",
    "\n",
    "numpy 다양한 함수들\n",
    "사이트 참조 : https://codetorial.net/numpy/functions/index.html"
   ]
  },
  {
   "cell_type": "code",
   "execution_count": null,
   "id": "d4dc1bb0",
   "metadata": {},
   "outputs": [],
   "source": [
    "# ndarray : n-dimension\n",
    "# list와 유사하게 N차원 형태로 구성이 가능\n",
    "# index가 있다"
   ]
  },
  {
   "cell_type": "markdown",
   "id": "81b000ec",
   "metadata": {},
   "source": [
    "### Numpy 라이브러리"
   ]
  },
  {
   "cell_type": "markdown",
   "id": "e523144b",
   "metadata": {},
   "source": [
    "- 빅데이터의 수학적, 과학적 계산을 위해 만들어진 라이브러리\n",
    "- 반복문 없이 전체 데이터의 연산이 가능한 표준 수학 함수들을 제공\n",
    "- ※배열 : 같은 자료형의 값들이 연속적인 형태로 구성된 자료 구조로 대량의 데이터를 그룹으로 관리하고 계산하기 위해 사용"
   ]
  },
  {
   "cell_type": "code",
   "execution_count": 5,
   "id": "c0bd1262",
   "metadata": {},
   "outputs": [],
   "source": [
    "import numpy as np"
   ]
  },
  {
   "cell_type": "code",
   "execution_count": null,
   "id": "36c20ef3",
   "metadata": {},
   "outputs": [],
   "source": [
    "list1 = [1,2,3,4,5]\n",
    "print(list1)"
   ]
  },
  {
   "cell_type": "code",
   "execution_count": null,
   "id": "52fd5b5c",
   "metadata": {},
   "outputs": [],
   "source": [
    "type(list1)"
   ]
  },
  {
   "cell_type": "code",
   "execution_count": null,
   "id": "b70bd804",
   "metadata": {},
   "outputs": [],
   "source": [
    "arr = np.array(list1)\n",
    "print(arr)"
   ]
  },
  {
   "cell_type": "code",
   "execution_count": null,
   "id": "62174ac7",
   "metadata": {},
   "outputs": [],
   "source": [
    "type(arr)"
   ]
  },
  {
   "cell_type": "markdown",
   "id": "03a51cd4",
   "metadata": {},
   "source": [
    "#### 1차원 배열"
   ]
  },
  {
   "cell_type": "code",
   "execution_count": null,
   "id": "0f185561",
   "metadata": {},
   "outputs": [],
   "source": [
    "arr = np.array([1,2,3.5])\n",
    "print(arr)"
   ]
  },
  {
   "cell_type": "code",
   "execution_count": null,
   "id": "ad79bfd0",
   "metadata": {},
   "outputs": [],
   "source": [
    "arr = np.array([1,2,'야호!'])\n",
    "print(arr)"
   ]
  },
  {
   "cell_type": "code",
   "execution_count": null,
   "id": "53f6ab1f",
   "metadata": {},
   "outputs": [],
   "source": [
    "arr"
   ]
  },
  {
   "cell_type": "markdown",
   "id": "61649eaf",
   "metadata": {},
   "source": [
    "#### 2차원 배열"
   ]
  },
  {
   "cell_type": "code",
   "execution_count": null,
   "id": "9208efff",
   "metadata": {},
   "outputs": [],
   "source": [
    "arr2 = np.array([[1,2,3],[4,5,6]])\n",
    "arr2"
   ]
  },
  {
   "cell_type": "code",
   "execution_count": null,
   "id": "f775c09e",
   "metadata": {},
   "outputs": [],
   "source": [
    "# 배열의 형태 확인 (행, 열)\n",
    "arr2.shape"
   ]
  },
  {
   "cell_type": "code",
   "execution_count": null,
   "id": "25d1dade",
   "metadata": {},
   "outputs": [],
   "source": [
    "# 배열의 요소 전체 개수\n",
    "arr2.size"
   ]
  },
  {
   "cell_type": "code",
   "execution_count": null,
   "id": "dac6f496",
   "metadata": {},
   "outputs": [],
   "source": [
    "# 배열의 데이터 타입(자료형 확인)\n",
    "arr2.dtype"
   ]
  },
  {
   "cell_type": "code",
   "execution_count": null,
   "id": "9d1dde99",
   "metadata": {},
   "outputs": [],
   "source": [
    "#32는 bit를 뜻함(기계가 표현할 수 잇는 범위) -> 2^32\n",
    "# int8 => 1비트당 2개의 숫자를 표현할 수 있음 = 256개 표현 가능(-128 ~127)\n",
    "# int32=> -2,147,483,648 ~ 2,147,483,647"
   ]
  },
  {
   "cell_type": "code",
   "execution_count": null,
   "id": "0e53db09",
   "metadata": {},
   "outputs": [],
   "source": [
    "# 배열의 차원 확인\n",
    "arr2.ndim"
   ]
  },
  {
   "cell_type": "code",
   "execution_count": 6,
   "id": "1e79f56e",
   "metadata": {},
   "outputs": [
    {
     "data": {
      "text/plain": [
       "array([[[1, 2, 3],\n",
       "        [3, 4, 5]],\n",
       "\n",
       "       [[4, 5, 6],\n",
       "        [7, 8, 9]]])"
      ]
     },
     "execution_count": 6,
     "metadata": {},
     "output_type": "execute_result"
    }
   ],
   "source": [
    "arr3 = np.array([[[1,2,3],[3,4,5]],[[4,5,6],[7,8,9]]])\n",
    "arr3"
   ]
  },
  {
   "cell_type": "code",
   "execution_count": null,
   "id": "64e0a886",
   "metadata": {},
   "outputs": [],
   "source": [
    "print(\"배열의 형태 : \", arr3.shape) # 2행 3열이 2개 (개수, 행수, 열수)\n",
    "print(\"배열의 차원 : \", arr3.ndim)\n",
    "print(\"배열의 전체요소개수 : \", arr3.size)"
   ]
  },
  {
   "cell_type": "code",
   "execution_count": null,
   "id": "35d69eba",
   "metadata": {},
   "outputs": [],
   "source": [
    "# 0으로 배열 생성\n",
    "arr_zeros = np.zeros((3,4))\n",
    "arr_zeros"
   ]
  },
  {
   "cell_type": "code",
   "execution_count": null,
   "id": "43ddd05c",
   "metadata": {},
   "outputs": [],
   "source": [
    "# 1로 배열 생성\n",
    "arr_ones = np.ones((2,4,3))\n",
    "arr_ones"
   ]
  },
  {
   "cell_type": "code",
   "execution_count": null,
   "id": "aba958f8",
   "metadata": {},
   "outputs": [],
   "source": [
    "# 특정값으로 배열 생성하기\n",
    "arr_full = np.full((2,5,5),2) # 5행 5열의 배열을 2로 채워준다.\n",
    "arr_full"
   ]
  },
  {
   "cell_type": "markdown",
   "id": "38c884e0",
   "metadata": {},
   "source": [
    "#### 다차원배열 생성에 유용한 함수\n",
    "- arange함수로 배열을 생성하고 reshape함수로 배열의 형태를 바꾸보자!"
   ]
  },
  {
   "cell_type": "code",
   "execution_count": null,
   "id": "ec3e3368",
   "metadata": {},
   "outputs": [],
   "source": [
    "# 1부터 50까지 1씩 증가하는 값들로 리스트를 만들어보자\n",
    "a=[]\n",
    "for i in range(1,51):\n",
    "    a.append(i)\n",
    "print(a)\n",
    "\n",
    "# 만든 리스트로 배열 생성\n",
    "np.array(a)"
   ]
  },
  {
   "cell_type": "code",
   "execution_count": null,
   "id": "d35f6395",
   "metadata": {},
   "outputs": [],
   "source": [
    "# 반복문을 활용하지 않고 배열 생성\n",
    "arr5 = np.arange(1,51,1)\n",
    "arr5"
   ]
  },
  {
   "cell_type": "code",
   "execution_count": null,
   "id": "8bbe13ed",
   "metadata": {},
   "outputs": [],
   "source": [
    "# 1부터 51까지 중에서 1,11,21,31,41로 배열을 생성해보자\n",
    "arr6 = np.arange(1,51,10)\n",
    "arr6"
   ]
  },
  {
   "cell_type": "code",
   "execution_count": null,
   "id": "53dc8941",
   "metadata": {},
   "outputs": [],
   "source": [
    "arr7 = np.arange(1,51,1)\n",
    "arr7"
   ]
  },
  {
   "cell_type": "code",
   "execution_count": null,
   "id": "c797c132",
   "metadata": {},
   "outputs": [],
   "source": [
    "# reshape : 배열의 행과 열을 변경시켜주는 명령\n",
    "arr7.reshape(5,10)"
   ]
  },
  {
   "cell_type": "code",
   "execution_count": null,
   "id": "be06c86c",
   "metadata": {},
   "outputs": [],
   "source": [
    "arr7.reshape(5,11)"
   ]
  },
  {
   "cell_type": "code",
   "execution_count": null,
   "id": "005211ea",
   "metadata": {},
   "outputs": [],
   "source": [
    "arr7.reshape(10,5)"
   ]
  },
  {
   "cell_type": "code",
   "execution_count": null,
   "id": "1f971130",
   "metadata": {},
   "outputs": [],
   "source": [
    "arr7"
   ]
  },
  {
   "cell_type": "code",
   "execution_count": null,
   "id": "79cd04f7",
   "metadata": {},
   "outputs": [],
   "source": [
    "arr7 = arr7.reshape(5,10)"
   ]
  },
  {
   "cell_type": "code",
   "execution_count": null,
   "id": "3e5d9043",
   "metadata": {},
   "outputs": [],
   "source": [
    "arr7"
   ]
  },
  {
   "cell_type": "code",
   "execution_count": null,
   "id": "94479a54",
   "metadata": {},
   "outputs": [],
   "source": [
    "arr8 = np.array([1.2,2.3,3.4])\n",
    "arr8"
   ]
  },
  {
   "cell_type": "code",
   "execution_count": null,
   "id": "e7bf6b8f",
   "metadata": {},
   "outputs": [],
   "source": [
    "# 배열의 자료형을 정수형으로 변경!\n",
    "arr8 = np.array([1.2,2.3,3.4], dtype=np.int64)\n",
    "arr8"
   ]
  },
  {
   "cell_type": "code",
   "execution_count": null,
   "id": "39b4ef17",
   "metadata": {},
   "outputs": [],
   "source": [
    "arr9 = np.array(['1','2','3'],dtype = np.int64)\n",
    "arr9"
   ]
  },
  {
   "cell_type": "markdown",
   "id": "50277180",
   "metadata": {},
   "source": [
    "#### 랜덤(난수)값 생성!"
   ]
  },
  {
   "cell_type": "code",
   "execution_count": null,
   "id": "7d6d7fe1",
   "metadata": {},
   "outputs": [],
   "source": [
    "arr10 = np.random.rand(2,3)\n",
    "arr10"
   ]
  },
  {
   "cell_type": "code",
   "execution_count": null,
   "id": "2ae67944",
   "metadata": {},
   "outputs": [],
   "source": [
    "# 랜덤 정수 값 출력하기!\n",
    "np.random.randint(10) # 0~9까지의 10개 숫자 중에서 랜덤으로 정수 생성\n"
   ]
  },
  {
   "cell_type": "code",
   "execution_count": null,
   "id": "a1a3a7e2",
   "metadata": {},
   "outputs": [],
   "source": [
    "# 랜덤값 정수형 배열 생성하기\n",
    "np.random.randint(5,size = 10)"
   ]
  },
  {
   "cell_type": "code",
   "execution_count": null,
   "id": "c3ca9a66",
   "metadata": {},
   "outputs": [],
   "source": [
    "np.random.randint(5,size = (2,3))"
   ]
  },
  {
   "cell_type": "markdown",
   "id": "5205ee64",
   "metadata": {},
   "source": [
    "#### array 연산"
   ]
  },
  {
   "cell_type": "code",
   "execution_count": null,
   "id": "f3f32b21",
   "metadata": {},
   "outputs": [],
   "source": [
    "arr14 = np.array([[1,2],[3,4]])\n",
    "arr14"
   ]
  },
  {
   "cell_type": "code",
   "execution_count": null,
   "id": "c7364f58",
   "metadata": {},
   "outputs": [],
   "source": [
    "arr14+ arr14"
   ]
  },
  {
   "cell_type": "code",
   "execution_count": null,
   "id": "9d294e18",
   "metadata": {},
   "outputs": [],
   "source": [
    "list14 = [[1,2],[3,4]]\n",
    "list14"
   ]
  },
  {
   "cell_type": "code",
   "execution_count": null,
   "id": "b926a19c",
   "metadata": {},
   "outputs": [],
   "source": [
    "list14 + list14"
   ]
  },
  {
   "cell_type": "code",
   "execution_count": null,
   "id": "88580bec",
   "metadata": {},
   "outputs": [],
   "source": [
    "arr14 * arr14"
   ]
  },
  {
   "cell_type": "code",
   "execution_count": null,
   "id": "f403419b",
   "metadata": {},
   "outputs": [],
   "source": [
    "arr14 % arr14"
   ]
  },
  {
   "cell_type": "code",
   "execution_count": null,
   "id": "1f1ebab5",
   "metadata": {},
   "outputs": [],
   "source": [
    "arr14 *2"
   ]
  },
  {
   "cell_type": "markdown",
   "id": "afbd959e",
   "metadata": {},
   "source": [
    "### numpy 배열의 접근은 어떻게 할까?\n",
    "- 리스트와 마찬가지로 인덱싱, 슬라이싱을 지원함!"
   ]
  },
  {
   "cell_type": "markdown",
   "id": "14014f47",
   "metadata": {},
   "source": [
    "#### numpy 배열 인덱싱\n",
    "- 배열 중 하나의 인덱스 값에 있는 데이터를 가져오는 것"
   ]
  },
  {
   "cell_type": "code",
   "execution_count": 1,
   "id": "7ef76384",
   "metadata": {},
   "outputs": [
    {
     "ename": "NameError",
     "evalue": "name 'np' is not defined",
     "output_type": "error",
     "traceback": [
      "\u001b[1;31m---------------------------------------------------------------------------\u001b[0m",
      "\u001b[1;31mNameError\u001b[0m                                 Traceback (most recent call last)",
      "Input \u001b[1;32mIn [1]\u001b[0m, in \u001b[0;36m<cell line: 1>\u001b[1;34m()\u001b[0m\n\u001b[1;32m----> 1\u001b[0m arr16 \u001b[38;5;241m=\u001b[39m \u001b[43mnp\u001b[49m\u001b[38;5;241m.\u001b[39marray([[\u001b[38;5;241m1\u001b[39m,\u001b[38;5;241m2\u001b[39m,\u001b[38;5;241m3\u001b[39m],[\u001b[38;5;241m4\u001b[39m,\u001b[38;5;241m5\u001b[39m,\u001b[38;5;241m6\u001b[39m]])\n\u001b[0;32m      2\u001b[0m arr16\n",
      "\u001b[1;31mNameError\u001b[0m: name 'np' is not defined"
     ]
    }
   ],
   "source": [
    "arr16 = np.array([[1,2,3],[4,5,6]])\n",
    "arr16"
   ]
  },
  {
   "cell_type": "code",
   "execution_count": 2,
   "id": "4cbb80cb",
   "metadata": {},
   "outputs": [
    {
     "ename": "NameError",
     "evalue": "name 'arr16' is not defined",
     "output_type": "error",
     "traceback": [
      "\u001b[1;31m---------------------------------------------------------------------------\u001b[0m",
      "\u001b[1;31mNameError\u001b[0m                                 Traceback (most recent call last)",
      "Input \u001b[1;32mIn [2]\u001b[0m, in \u001b[0;36m<cell line: 1>\u001b[1;34m()\u001b[0m\n\u001b[1;32m----> 1\u001b[0m \u001b[43marr16\u001b[49m[\u001b[38;5;241m0\u001b[39m]\n",
      "\u001b[1;31mNameError\u001b[0m: name 'arr16' is not defined"
     ]
    }
   ],
   "source": [
    "arr16[0]"
   ]
  },
  {
   "cell_type": "code",
   "execution_count": null,
   "id": "54e0d8a7",
   "metadata": {},
   "outputs": [],
   "source": [
    "arr16[0][1]"
   ]
  },
  {
   "cell_type": "markdown",
   "id": "a3fa8bc9",
   "metadata": {},
   "source": [
    "#### numpy 슬라이싱\n",
    "- 배열의 범위를 지정하여 여러개의 데이터를 가져오는 것"
   ]
  },
  {
   "cell_type": "code",
   "execution_count": null,
   "id": "75c284ea",
   "metadata": {},
   "outputs": [],
   "source": [
    "arr17=np.arange(10)\n",
    "arr17"
   ]
  },
  {
   "cell_type": "code",
   "execution_count": null,
   "id": "5339b27a",
   "metadata": {},
   "outputs": [],
   "source": [
    "arr17[3:8]"
   ]
  },
  {
   "cell_type": "code",
   "execution_count": null,
   "id": "c95bc1a8",
   "metadata": {},
   "outputs": [],
   "source": [
    "arr17[3:8]"
   ]
  },
  {
   "cell_type": "code",
   "execution_count": null,
   "id": "8b5ffa38",
   "metadata": {},
   "outputs": [],
   "source": [
    "arr18 = np.arange(50).reshape(5,10)\n",
    "arr18"
   ]
  },
  {
   "cell_type": "code",
   "execution_count": null,
   "id": "d80a4aa3",
   "metadata": {},
   "outputs": [],
   "source": [
    "# 0번,1번 인덱스 행의 모든 열을 출력(arr18[행의 범위, 열의 범위])\n",
    "arr18[0:2,:]"
   ]
  },
  {
   "cell_type": "code",
   "execution_count": null,
   "id": "7810db50",
   "metadata": {},
   "outputs": [],
   "source": [
    "# 모든 행의 0번 인덱스를 출력\n",
    "arr18[:,0]"
   ]
  },
  {
   "cell_type": "code",
   "execution_count": null,
   "id": "63560df7",
   "metadata": {},
   "outputs": [],
   "source": [
    "print(arr18[:,0])"
   ]
  },
  {
   "cell_type": "code",
   "execution_count": null,
   "id": "46722290",
   "metadata": {},
   "outputs": [],
   "source": [
    "arr18[:,0:1]"
   ]
  },
  {
   "cell_type": "code",
   "execution_count": null,
   "id": "4d4df007",
   "metadata": {},
   "outputs": [],
   "source": [
    "arr18[:,0:2]"
   ]
  },
  {
   "cell_type": "code",
   "execution_count": null,
   "id": "325f6d3e",
   "metadata": {},
   "outputs": [],
   "source": [
    "arr18[:4,:5]"
   ]
  },
  {
   "cell_type": "code",
   "execution_count": 9,
   "id": "721bd8b5",
   "metadata": {},
   "outputs": [
    {
     "data": {
      "text/plain": [
       "array([[ 0,  1,  2,  3,  4,  5],\n",
       "       [ 6,  7,  8,  9, 10, 11],\n",
       "       [12, 13, 14, 15, 16, 17]])"
      ]
     },
     "execution_count": 9,
     "metadata": {},
     "output_type": "execute_result"
    }
   ],
   "source": [
    "arr19 = np.arange(18).reshape(3,6)\n",
    "arr19"
   ]
  },
  {
   "cell_type": "code",
   "execution_count": null,
   "id": "b1778699",
   "metadata": {},
   "outputs": [],
   "source": [
    "arr19[1:,1]"
   ]
  },
  {
   "cell_type": "code",
   "execution_count": 10,
   "id": "627ba8c8",
   "metadata": {
    "scrolled": true
   },
   "outputs": [
    {
     "ename": "SyntaxError",
     "evalue": "invalid syntax (1557959822.py, line 1)",
     "output_type": "error",
     "traceback": [
      "\u001b[1;36m  Input \u001b[1;32mIn [10]\u001b[1;36m\u001b[0m\n\u001b[1;33m    for i in range(1:):\u001b[0m\n\u001b[1;37m                    ^\u001b[0m\n\u001b[1;31mSyntaxError\u001b[0m\u001b[1;31m:\u001b[0m invalid syntax\n"
     ]
    }
   ],
   "source": [
    "for i in range(1:):\n",
    "    for j in range(2,6,2):\n",
    "        arr19[i,j]"
   ]
  },
  {
   "cell_type": "code",
   "execution_count": 11,
   "id": "ebc010d9",
   "metadata": {},
   "outputs": [
    {
     "data": {
      "text/plain": [
       "array([[ 7,  9, 11],\n",
       "       [13, 15, 17]])"
      ]
     },
     "execution_count": 11,
     "metadata": {},
     "output_type": "execute_result"
    }
   ],
   "source": [
    "# 방법1\n",
    "arr19[1:, [1,3,5]]"
   ]
  },
  {
   "cell_type": "code",
   "execution_count": null,
   "id": "bd66bc01",
   "metadata": {},
   "outputs": [],
   "source": [
    "# 방법2 - 1: :2 뜻은 1부터 끝까지 증감량2만큼 뽑는다 (시작인덱스 : 끝 인덱스 : 증감량)\n",
    "arr19[1:, 1: :2]"
   ]
  },
  {
   "cell_type": "code",
   "execution_count": null,
   "id": "2ebd5db0",
   "metadata": {},
   "outputs": [],
   "source": [
    "arr19"
   ]
  },
  {
   "cell_type": "code",
   "execution_count": null,
   "id": "f3e73ca5",
   "metadata": {},
   "outputs": [],
   "source": [
    "arr19.T"
   ]
  },
  {
   "cell_type": "code",
   "execution_count": null,
   "id": "4b81d212",
   "metadata": {},
   "outputs": [],
   "source": [
    "# arr.T 는 전치 (TransPosition)\n",
    "# 배열의 행과 열을 바꿔주는 역할"
   ]
  },
  {
   "cell_type": "code",
   "execution_count": null,
   "id": "a74c2977",
   "metadata": {},
   "outputs": [],
   "source": []
  },
  {
   "cell_type": "code",
   "execution_count": null,
   "id": "306cb5ca",
   "metadata": {},
   "outputs": [],
   "source": []
  }
 ],
 "metadata": {
  "kernelspec": {
   "display_name": "Python 3 (ipykernel)",
   "language": "python",
   "name": "python3"
  },
  "language_info": {
   "codemirror_mode": {
    "name": "ipython",
    "version": 3
   },
   "file_extension": ".py",
   "mimetype": "text/x-python",
   "name": "python",
   "nbconvert_exporter": "python",
   "pygments_lexer": "ipython3",
   "version": "3.9.12"
  },
  "toc": {
   "base_numbering": 1,
   "nav_menu": {},
   "number_sections": false,
   "sideBar": true,
   "skip_h1_title": false,
   "title_cell": "Table of Contents",
   "title_sidebar": "Contents",
   "toc_cell": false,
   "toc_position": {},
   "toc_section_display": true,
   "toc_window_display": true
  }
 },
 "nbformat": 4,
 "nbformat_minor": 5
}
