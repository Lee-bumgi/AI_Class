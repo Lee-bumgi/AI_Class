{
 "cells": [
  {
   "cell_type": "code",
   "execution_count": 39,
   "id": "4dd998ab",
   "metadata": {},
   "outputs": [],
   "source": [
    "# AI 사물. 컴퓨터가 코딩하는 것을 다루는 것을 최소한 이해하게 하는 정도는 되야된다 - 파이썬 배워야 하는 이유"
   ]
  },
  {
   "cell_type": "code",
   "execution_count": null,
   "id": "7d60d51b",
   "metadata": {},
   "outputs": [],
   "source": [
    "# 파일 가져가는 법 : File 에서 Download as -> notebook(ipynb)"
   ]
  },
  {
   "cell_type": "code",
   "execution_count": null,
   "id": "0520855f",
   "metadata": {},
   "outputs": [],
   "source": [
    "# 마크다운 셀로 바꾸기 : M\n",
    "# 커맨드 셀로 바꾸기 : Y\n",
    "\n",
    "# a: 윗줄 하나 추가\n",
    "# b: 아래줄 하나 추가\n",
    "# dd: 삭제 (x로 사용하는게 편하다!)\n",
    "# x: 잘라내기\n",
    "# v: 붙여넣기\n",
    "# c: 복사하기"
   ]
  },
  {
   "cell_type": "code",
   "execution_count": null,
   "id": "ea0685c3",
   "metadata": {},
   "outputs": [],
   "source": [
    "# Ctrl + d : 커서가 있는 한줄 삭제\n",
    "# Ctrl + enter : 해당 셀 실행\n",
    "# Shift + enter : 해당 셀 실행 후 한 줄 추가\n",
    "# 전체 라인 드래그 : Ctrl + A\n",
    "# 되돌리기 취소 : Ctrl + Y"
   ]
  },
  {
   "cell_type": "code",
   "execution_count": null,
   "id": "039e11a2",
   "metadata": {},
   "outputs": [],
   "source": [
    "# 문자 바꾸기 : 커맨드 모드에서 F 를 클릭하면 문자열 검색이 나오고 Replace 기능 사용가능\n",
    "# 데이터가 긴 경우 : 셀을 왼쪽을 더블클릭 하면 줄어든다."
   ]
  },
  {
   "cell_type": "code",
   "execution_count": null,
   "id": "9c2ee8b2",
   "metadata": {},
   "outputs": [],
   "source": []
  },
  {
   "cell_type": "code",
   "execution_count": null,
   "id": "8aa5d252",
   "metadata": {},
   "outputs": [],
   "source": [
    "num= 3\n",
    "print(num)"
   ]
  },
  {
   "cell_type": "code",
   "execution_count": null,
   "id": "25c741ff",
   "metadata": {},
   "outputs": [],
   "source": [
    "num1 = 13\n",
    "num2 = 25\n",
    "num2 = 77\n",
    "print(num1)\n",
    "print(num2)\n",
    "print(type(num2))\n",
    "type(num2)"
   ]
  },
  {
   "cell_type": "code",
   "execution_count": null,
   "id": "af76ec71",
   "metadata": {},
   "outputs": [],
   "source": [
    "num3 = 3.1425\n",
    "num3"
   ]
  },
  {
   "cell_type": "code",
   "execution_count": null,
   "id": "b7f74d04",
   "metadata": {},
   "outputs": [],
   "source": [
    "num4 = 1.25\n",
    "num4"
   ]
  },
  {
   "cell_type": "code",
   "execution_count": null,
   "id": "a07e3434",
   "metadata": {},
   "outputs": [],
   "source": [
    "num4 = 3.12\n",
    "num4"
   ]
  },
  {
   "cell_type": "code",
   "execution_count": null,
   "id": "dfb8660d",
   "metadata": {},
   "outputs": [],
   "source": [
    "type(num4)"
   ]
  },
  {
   "cell_type": "code",
   "execution_count": null,
   "id": "2b9f4450",
   "metadata": {},
   "outputs": [],
   "source": [
    "str1 = \"Funny Python\"\n",
    "print(str1)"
   ]
  },
  {
   "cell_type": "code",
   "execution_count": null,
   "id": "ec907cb0",
   "metadata": {},
   "outputs": [],
   "source": [
    "str2 = 'Easy python'\n",
    "print(str2)"
   ]
  },
  {
   "cell_type": "code",
   "execution_count": null,
   "id": "caac598d",
   "metadata": {},
   "outputs": [],
   "source": [
    "print(type(str2))"
   ]
  },
  {
   "cell_type": "code",
   "execution_count": null,
   "id": "f18368ad",
   "metadata": {},
   "outputs": [],
   "source": [
    "number = 10\n",
    "Number = 20\n",
    "print(\"number :\",number)\n",
    "print(\"Number :\",Number)"
   ]
  },
  {
   "cell_type": "code",
   "execution_count": null,
   "id": "d0a104da",
   "metadata": {},
   "outputs": [],
   "source": [
    "1a = 10"
   ]
  },
  {
   "cell_type": "code",
   "execution_count": null,
   "id": "c7cac536",
   "metadata": {},
   "outputs": [],
   "source": [
    "# 짙은 색 글자\n",
    "# for, if , class, def 같은 경우 : 예약어\n",
    "\n",
    "# 옅은 색 글자 \n",
    "# sum, max, min 같은 경우 : 명령어\n",
    "# 명령어는 변수로 사용은 가능 하지만 원래 기능이 사라지기 때문에 사용하지 않아야 한다."
   ]
  },
  {
   "cell_type": "code",
   "execution_count": null,
   "id": "76099722",
   "metadata": {},
   "outputs": [],
   "source": [
    "# 예약어 확인 방법\n",
    "# import keyword\n",
    "# keyword.kwlist\n"
   ]
  },
  {
   "cell_type": "code",
   "execution_count": null,
   "id": "63ec7aca",
   "metadata": {},
   "outputs": [],
   "source": [
    "import keyword\n",
    "keyword.kwlist\n"
   ]
  },
  {
   "cell_type": "code",
   "execution_count": null,
   "id": "d598c72d",
   "metadata": {},
   "outputs": [],
   "source": [
    "# 카멜 표기법 : numberList\n",
    "# 파스칼 표기법 : NumberList\n",
    "# 스네이크 표기법 : number_list"
   ]
  },
  {
   "cell_type": "code",
   "execution_count": null,
   "id": "42dab476",
   "metadata": {},
   "outputs": [],
   "source": [
    "a = 10\n",
    "b = 15\n",
    "print(a)\n",
    "print(b)"
   ]
  },
  {
   "cell_type": "code",
   "execution_count": null,
   "id": "034abc2b",
   "metadata": {},
   "outputs": [],
   "source": [
    "a, b = 20, 50\n",
    "print(a)\n",
    "print(b)"
   ]
  },
  {
   "cell_type": "code",
   "execution_count": null,
   "id": "56aec708",
   "metadata": {},
   "outputs": [],
   "source": [
    "str1 = str2 = \"python\"\n",
    "print(str1)\n",
    "print(str2)"
   ]
  },
  {
   "cell_type": "code",
   "execution_count": null,
   "id": "b6c98311",
   "metadata": {},
   "outputs": [],
   "source": [
    "x = 100\n",
    "y = 200\n",
    "# sum = x + y\n",
    "# print(sum)\n",
    "# 조심해야 한다. sum은 명령어이기 때문에 기능을 상실하게 된다."
   ]
  },
  {
   "cell_type": "code",
   "execution_count": 1,
   "id": "286e3e70",
   "metadata": {},
   "outputs": [],
   "source": [
    "# 이 때는 위에 Kernel 에서 Restart & Clear Output을 눌러준다.\n",
    "# 모든 결과 값이 사라진다.\n",
    "# 기능이 잘 작동하지 않을 때 이 기능 사용해보자"
   ]
  },
  {
   "cell_type": "code",
   "execution_count": null,
   "id": "d7326776",
   "metadata": {},
   "outputs": [],
   "source": []
  },
  {
   "cell_type": "code",
   "execution_count": 6,
   "id": "ca62284b",
   "metadata": {},
   "outputs": [
    {
     "name": "stdout",
     "output_type": "stream",
     "text": [
      "she's gone\n"
     ]
    }
   ],
   "source": [
    "# 문자열 안에 작은 따옴표나 큰따옴표를 포함시키고 싶을 때 - 보이는 거 그대로 출력\n",
    "s = '''she's gone'''\n",
    "print(s)"
   ]
  },
  {
   "cell_type": "code",
   "execution_count": 3,
   "id": "620031f4",
   "metadata": {},
   "outputs": [
    {
     "name": "stdout",
     "output_type": "stream",
     "text": [
      "she's gone\n",
      "she's gone\n"
     ]
    }
   ],
   "source": [
    "s1 = \"she's gone\"\n",
    "s2 = \"she\\'s gone\"\n",
    "print(s1)\n",
    "print(s2)"
   ]
  },
  {
   "cell_type": "code",
   "execution_count": 4,
   "id": "d429cb8c",
   "metadata": {},
   "outputs": [
    {
     "name": "stdout",
     "output_type": "stream",
     "text": [
      "he said that \"she is gone\"\n",
      "he said that \"she is gone\"\n"
     ]
    }
   ],
   "source": [
    "s1 = 'he said that \"she is gone\"'\n",
    "s2 = \"he said that \\\"she is gone\\\"\"\n",
    "print(s1)\n",
    "print(s2)"
   ]
  },
  {
   "cell_type": "code",
   "execution_count": 5,
   "id": "d11b615a",
   "metadata": {},
   "outputs": [
    {
     "name": "stdout",
     "output_type": "stream",
     "text": [
      "여러줄로 구성된 \n",
      "문자열을 하나로 대입할 때\n"
     ]
    }
   ],
   "source": [
    "s = \"여러줄로 구성된 \\n문자열을 하나로 대입할 때\"\n",
    "print(s)"
   ]
  },
  {
   "cell_type": "code",
   "execution_count": 8,
   "id": "3f5e8f09",
   "metadata": {},
   "outputs": [
    {
     "name": "stdout",
     "output_type": "stream",
     "text": [
      "여러줄로 구성된\n",
      "문자열을 하나로 대입할 때\n"
     ]
    }
   ],
   "source": [
    "s= '''여러줄로 구성된\n",
    "문자열을 하나로 대입할 때'''\n",
    "print(s)"
   ]
  },
  {
   "cell_type": "code",
   "execution_count": 9,
   "id": "65af287f",
   "metadata": {},
   "outputs": [
    {
     "name": "stdout",
     "output_type": "stream",
     "text": [
      "여러줄로 구성된\n",
      "문자열을 하나로\n",
      "대입할 때\n"
     ]
    }
   ],
   "source": [
    "s = \"\"\"여러줄로 구성된\n",
    "문자열을 하나로\n",
    "대입할 때\"\"\"\n",
    "print(s)"
   ]
  },
  {
   "cell_type": "code",
   "execution_count": null,
   "id": "3be3f114",
   "metadata": {},
   "outputs": [],
   "source": [
    "# 이스케이프 코드\n",
    "## \\n : 개행(줄바꿈)\n",
    "## \\t : 수평 탭\n",
    "## \\\\ : 문자 \"\\\"\n",
    "## \\' : 작은 따옴표\n",
    "## \\\" : 큰 따옴표"
   ]
  },
  {
   "cell_type": "code",
   "execution_count": 11,
   "id": "3f9fb8f2",
   "metadata": {},
   "outputs": [
    {
     "name": "stdout",
     "output_type": "stream",
     "text": [
      "여러줄로 구성된\n",
      "문자열을 \t하나로\n",
      "대입할 때\n"
     ]
    }
   ],
   "source": [
    "s = \"\"\"여러줄로 구성된\n",
    "문자열을 \\t하나로\n",
    "대입할 때\"\"\"\n",
    "print(s)"
   ]
  },
  {
   "cell_type": "markdown",
   "id": "1edfd1b3",
   "metadata": {},
   "source": [
    "# 인덱싱과 슬라이싱"
   ]
  },
  {
   "cell_type": "code",
   "execution_count": 13,
   "id": "204b0b81",
   "metadata": {},
   "outputs": [
    {
     "name": "stdout",
     "output_type": "stream",
     "text": [
      "M\n",
      " \n",
      "i\n"
     ]
    }
   ],
   "source": [
    "s = \"My name is BG\"\n",
    "print(s[0])\n",
    "print(s[7])\n",
    "print(s[8])"
   ]
  },
  {
   "cell_type": "code",
   "execution_count": 14,
   "id": "55c4d34a",
   "metadata": {},
   "outputs": [
    {
     "name": "stdout",
     "output_type": "stream",
     "text": [
      "G\n",
      "B\n"
     ]
    }
   ],
   "source": [
    "print(s[-1])\n",
    "print(s[-2])"
   ]
  },
  {
   "cell_type": "code",
   "execution_count": 38,
   "id": "3b93791d",
   "metadata": {},
   "outputs": [
    {
     "name": "stdout",
     "output_type": "stream",
     "text": [
      "1\n",
      "5\n",
      "3\n"
     ]
    }
   ],
   "source": [
    "list1 = [\"사랑\",\"냉정\",\"사랑\",\"사랑\",\"사랑\",\"열정\"]\n",
    "a = list1.index(\"냉정\")\n",
    "b = list1.index(\"열정\") \n",
    "print(a)\n",
    "print(b)\n",
    "#냉정과 열정 사이의 사랑의 개수 찾기\n",
    "print(b-a-1)"
   ]
  },
  {
   "cell_type": "code",
   "execution_count": 16,
   "id": "f8dd3b09",
   "metadata": {},
   "outputs": [
    {
     "name": "stdout",
     "output_type": "stream",
     "text": [
      "My\n",
      "name\n",
      "is\n",
      "BG\n"
     ]
    }
   ],
   "source": [
    "s = \"My name is BG\"\n",
    "print(s[0:2])\n",
    "print(s[3:7])\n",
    "print(s[8:10])\n",
    "print(s[11:13])"
   ]
  },
  {
   "cell_type": "code",
   "execution_count": 18,
   "id": "31801bce",
   "metadata": {},
   "outputs": [
    {
     "name": "stdout",
     "output_type": "stream",
     "text": [
      "My name\n",
      "My name\n"
     ]
    }
   ],
   "source": [
    "print(s[0:7])\n",
    "print(s[:7])"
   ]
  },
  {
   "cell_type": "code",
   "execution_count": 22,
   "id": "8c8f8e57",
   "metadata": {},
   "outputs": [
    {
     "name": "stdout",
     "output_type": "stream",
     "text": [
      "is BG\n",
      "is BG\n",
      "is BG\n"
     ]
    }
   ],
   "source": [
    "print(s[8:13])\n",
    "print(s[-5:])\n",
    "print(s[8:])"
   ]
  },
  {
   "cell_type": "code",
   "execution_count": 26,
   "id": "eb5f2c92",
   "metadata": {},
   "outputs": [
    {
     "name": "stdout",
     "output_type": "stream",
     "text": [
      "My name is BG\n",
      "My name is BG\n",
      "My name is BG\n"
     ]
    }
   ],
   "source": [
    "print(s)\n",
    "print(s[0:])\n",
    "print(s[:])"
   ]
  },
  {
   "cell_type": "code",
   "execution_count": 31,
   "id": "d56daa28",
   "metadata": {},
   "outputs": [
    {
     "name": "stdout",
     "output_type": "stream",
     "text": [
      "날짜 : 2020년 3월 3일\n",
      "날씨 : 맑음\n"
     ]
    }
   ],
   "source": [
    "s = \"2020년 3월 3일의 날씨는 맑음입니다.\"\n",
    "print(\"날짜 :\",s[0:11])\n",
    "print(\"날씨 :\",s[17:19])"
   ]
  },
  {
   "cell_type": "code",
   "execution_count": 2,
   "id": "3cd05c6b",
   "metadata": {},
   "outputs": [
    {
     "name": "stdout",
     "output_type": "stream",
     "text": [
      "a < b\n",
      "a\n",
      "<\n",
      "b\n"
     ]
    }
   ],
   "source": [
    "a,b,c = input().split()\n",
    "print(a)\n",
    "print(b)\n",
    "print(c)\n"
   ]
  },
  {
   "cell_type": "code",
   "execution_count": null,
   "id": "f23b705d",
   "metadata": {},
   "outputs": [],
   "source": []
  }
 ],
 "metadata": {
  "kernelspec": {
   "display_name": "Python 3 (ipykernel)",
   "language": "python",
   "name": "python3"
  },
  "language_info": {
   "codemirror_mode": {
    "name": "ipython",
    "version": 3
   },
   "file_extension": ".py",
   "mimetype": "text/x-python",
   "name": "python",
   "nbconvert_exporter": "python",
   "pygments_lexer": "ipython3",
   "version": "3.9.12"
  }
 },
 "nbformat": 4,
 "nbformat_minor": 5
}
