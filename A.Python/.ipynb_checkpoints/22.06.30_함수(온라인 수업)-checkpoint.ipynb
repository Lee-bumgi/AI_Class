{
 "cells": [
  {
   "cell_type": "code",
   "execution_count": null,
   "id": "d8f1bcf3",
   "metadata": {},
   "outputs": [],
   "source": [
    "def number_minus(num1, num2) :\n",
    "    result = 0\n",
    "    if num1 > num2 :\n",
    "        result = num1 - num2\n",
    "    else :\n",
    "        result = num2 - num1\n",
    "    return result\n",
    "\n",
    "num1 = int(input(\"첫 번째 정수 입력 >> \"))\n",
    "num2 = int(input(\"두 번째 정수 입력 >> \"))\n",
    "result = number_minus(num1, num2)\n",
    "result"
   ]
  },
  {
   "cell_type": "code",
   "execution_count": null,
   "id": "e9c8c7f2",
   "metadata": {},
   "outputs": [],
   "source": [
    "def s_replace(arg):\n",
    "    if 'ㅋ' in arg:\n",
    "        result=arg.replace('ㅋ','')\n",
    "    return result\n",
    "s=input(\"들어갈 입력값을 입력하시오>>\")\n",
    "result= s_replace(s)\n",
    "result"
   ]
  },
  {
   "cell_type": "code",
   "execution_count": null,
   "id": "21b16b1b",
   "metadata": {},
   "outputs": [],
   "source": [
    "def divisor(num):\n",
    "    for i in range(1,num+1):\n",
    "        if num % i == 0:\n",
    "            print(i, end= \" \")\n",
    "divisor(10)"
   ]
  },
  {
   "cell_type": "code",
   "execution_count": null,
   "id": "fea89ddd",
   "metadata": {},
   "outputs": [],
   "source": [
    "def cal(num1, num2,op):\n",
    "    if op=='+':\n",
    "        result=num1+num2\n",
    "    elif op=='-' and num1>=num2:\n",
    "        result=num1-num2\n",
    "    elif op=='-' and num2>num2:\n",
    "        result=num2-num1\n",
    "    return result\n",
    "num1 = int(input(\"첫 번째 정수 입력 >> \"))\n",
    "num2 = int(input(\"두 번째 정수 입력 >> \"))\n",
    "op = input(\"연산자 입력(+,-)) >> \")\n",
    "result = cal(num1, num2,op)\n",
    "print(f\"결과 : {result}\")"
   ]
  },
  {
   "cell_type": "code",
   "execution_count": null,
   "id": "fcfeb368",
   "metadata": {},
   "outputs": [],
   "source": []
  }
 ],
 "metadata": {
  "kernelspec": {
   "display_name": "Python 3 (ipykernel)",
   "language": "python",
   "name": "python3"
  },
  "language_info": {
   "codemirror_mode": {
    "name": "ipython",
    "version": 3
   },
   "file_extension": ".py",
   "mimetype": "text/x-python",
   "name": "python",
   "nbconvert_exporter": "python",
   "pygments_lexer": "ipython3",
   "version": "3.9.12"
  }
 },
 "nbformat": 4,
 "nbformat_minor": 5
}
