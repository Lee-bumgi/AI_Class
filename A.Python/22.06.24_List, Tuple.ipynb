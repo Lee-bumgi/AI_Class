{
 "cells": [
  {
   "cell_type": "markdown",
   "id": "360ee81e",
   "metadata": {},
   "source": [
    "# list"
   ]
  },
  {
   "cell_type": "code",
   "execution_count": 1,
   "id": "c9dc8819",
   "metadata": {},
   "outputs": [
    {
     "name": "stdout",
     "output_type": "stream",
     "text": [
      "2\n",
      "9\n",
      "17\n"
     ]
    }
   ],
   "source": [
    "list1 = [2,5,7,9,10]\n",
    "print(list1[0])\n",
    "print(list1[3])\n",
    "print(list1[2]+list1[-1])"
   ]
  },
  {
   "cell_type": "code",
   "execution_count": 2,
   "id": "1bca27f5",
   "metadata": {},
   "outputs": [
    {
     "name": "stdout",
     "output_type": "stream",
     "text": [
      "['a', 'b', 'c']\n"
     ]
    },
    {
     "data": {
      "text/plain": [
       "'b'"
      ]
     },
     "execution_count": 2,
     "metadata": {},
     "output_type": "execute_result"
    }
   ],
   "source": [
    "list2 = [1,2,3,['a','b','c']]\n",
    "temp = list2[3]\n",
    "print(temp)\n",
    "list2[3][1]"
   ]
  },
  {
   "cell_type": "code",
   "execution_count": 3,
   "id": "94fb3702",
   "metadata": {},
   "outputs": [
    {
     "name": "stdout",
     "output_type": "stream",
     "text": [
      "b\n"
     ]
    }
   ],
   "source": [
    "print(temp[1])"
   ]
  },
  {
   "cell_type": "code",
   "execution_count": 6,
   "id": "c149c6c6",
   "metadata": {},
   "outputs": [
    {
     "name": "stdout",
     "output_type": "stream",
     "text": [
      "[1, 2]\n",
      "[0, 1]\n",
      "[3, 4]\n",
      "[3]\n"
     ]
    }
   ],
   "source": [
    "list3 = [0,1,2,3,4]\n",
    "print(list3[1:3])\n",
    "print(list3[:2])\n",
    "print(list3[3:])\n",
    "print(list3[3:4])"
   ]
  },
  {
   "cell_type": "code",
   "execution_count": 7,
   "id": "30bc6a9f",
   "metadata": {
    "scrolled": true
   },
   "outputs": [
    {
     "data": {
      "text/plain": [
       "[1, 2, 3, 3, 4, 5, 6]"
      ]
     },
     "execution_count": 7,
     "metadata": {},
     "output_type": "execute_result"
    }
   ],
   "source": [
    "list4 = [1,2,3]\n",
    "list5 = [3,4,5,6]\n",
    "list4 + list5"
   ]
  },
  {
   "cell_type": "code",
   "execution_count": 1,
   "id": "d98512ea",
   "metadata": {},
   "outputs": [
    {
     "data": {
      "text/plain": [
       "[4, 5, 6, 1, 2, 3]"
      ]
     },
     "execution_count": 1,
     "metadata": {},
     "output_type": "execute_result"
    }
   ],
   "source": [
    "list1=[4,5,6]\n",
    "list2=[1,2,3]\n",
    "list1+list2"
   ]
  },
  {
   "cell_type": "markdown",
   "id": "77ff8c8b",
   "metadata": {},
   "source": [
    "### list값 추가 - append"
   ]
  },
  {
   "cell_type": "code",
   "execution_count": 9,
   "id": "1b1334df",
   "metadata": {},
   "outputs": [
    {
     "name": "stdout",
     "output_type": "stream",
     "text": [
      "[0, 1, 2, 3, 4, 5]\n",
      "[0, 1, 2, 3, 4, 5, 6]\n"
     ]
    }
   ],
   "source": [
    "list5 = [0,1,2,3,4]\n",
    "list5.append(5)\n",
    "print(list5)\n",
    "list5.append(6)\n",
    "print(list5)"
   ]
  },
  {
   "cell_type": "code",
   "execution_count": 12,
   "id": "e186225c",
   "metadata": {},
   "outputs": [
    {
     "name": "stdout",
     "output_type": "stream",
     "text": [
      "['사과', '오렌지', '수박']\n"
     ]
    }
   ],
   "source": [
    "list_ = ['사과','포도',['수박','멜론'],'복숭아','딸기','오렌지']\n",
    "apple = list_[0]\n",
    "watermelon = list_[2][0]\n",
    "orange = list_[5]\n",
    "\n",
    "choice_list = []\n",
    "choice_list.append(apple)\n",
    "choice_list.append(orange)\n",
    "choice_list.append(watermelon)\n",
    "print(choice_list)"
   ]
  },
  {
   "cell_type": "markdown",
   "id": "87a747f8",
   "metadata": {},
   "source": [
    "### list값 추가 - insert"
   ]
  },
  {
   "cell_type": "code",
   "execution_count": 14,
   "id": "91821b22",
   "metadata": {},
   "outputs": [
    {
     "name": "stdout",
     "output_type": "stream",
     "text": [
      "[0, 5, 1, 2, 3, 4]\n",
      "[0, 5, 1, 2, 3, 6, 4]\n"
     ]
    }
   ],
   "source": [
    "list5 = [0,1,2,3,4]\n",
    "list5.insert(1,5)\n",
    "print(list5)\n",
    "list5.insert(5,6)\n",
    "print(list5)"
   ]
  },
  {
   "cell_type": "code",
   "execution_count": 32,
   "id": "dcacbcaa",
   "metadata": {},
   "outputs": [
    {
     "name": "stdout",
     "output_type": "stream",
     "text": [
      "[['LOVE DIVE', '아이브'], ['TOMBOY', '(여자)아이들'], ['That That', '싸이']]\n",
      "[['LOVE DIVE', '아이브'], ['사랑인가봐', '멜로망스'], ['TOMBOY', '(여자)아이들'], ['봄여름가을겨울', '빅뱅'], ['That That', '싸이']]\n"
     ]
    },
    {
     "data": {
      "text/plain": [
       "[['LOVE DIVE', '아이브'],\n",
       " ['사랑인가봐', '멜로망스'],\n",
       " ['TOMBOY', '(여자)아이들'],\n",
       " ['봄여름가을겨울', '빅뱅'],\n",
       " ['That That', '싸이']]"
      ]
     },
     "execution_count": 32,
     "metadata": {},
     "output_type": "execute_result"
    }
   ],
   "source": [
    "music_list = [[\"LOVE DIVE\",\"아이브\"],\n",
    "             [\"TOMBOY\",\"(여자)아이들\"],\n",
    "             [\"That That\",\"싸이\"]]\n",
    "print(music_list)\n",
    "music_list.insert(1,[\"사랑인가봐\",\"멜로망스\"])\n",
    "music_list.insert(3,[\"봄여름가을겨울\",\"빅뱅\"])\n",
    "print(music_list)\n",
    "music_list"
   ]
  },
  {
   "cell_type": "code",
   "execution_count": 33,
   "id": "3631e549",
   "metadata": {},
   "outputs": [
    {
     "name": "stdout",
     "output_type": "stream",
     "text": [
      "[['LOVE DIVE', '아이브'], ['사랑인가봐', '멜로망스'], ['TOMBOY', '(여자)아이들'], ['봄여름가을겨울', '빅뱅'], ['That That', '싸이']]\n",
      "4\n",
      "나의X에게\n",
      "경서\n",
      "[['LOVE DIVE', '아이브'], ['사랑인가봐', '멜로망스'], ['TOMBOY', '(여자)아이들'], ['봄여름가을겨울', '빅뱅'], ['나의X에게', '경서'], ['That That', '싸이']]\n"
     ]
    }
   ],
   "source": [
    "print(music_list)\n",
    "index_value = int(input())\n",
    "song = input()\n",
    "singer = input()\n",
    "music_list.insert(index_value,[song,singer])\n",
    "print(music_list)"
   ]
  },
  {
   "cell_type": "code",
   "execution_count": 4,
   "id": "aca7f119",
   "metadata": {},
   "outputs": [
    {
     "name": "stdout",
     "output_type": "stream",
     "text": [
      "[0, 1, 2, 3, 4]\n",
      "수정 전 :  1\n",
      "수정 후 :  7\n",
      "[0, 7, 2, 3, 4]\n"
     ]
    }
   ],
   "source": [
    "list6 = [0,1,2,3,4]\n",
    "print(list6)\n",
    "print(\"수정 전 : \",list6[1])\n",
    "list6[1] = 7\n",
    "print(\"수정 후 : \",list6[1])\n",
    "print(list6)"
   ]
  },
  {
   "cell_type": "markdown",
   "id": "2f13e5c2",
   "metadata": {},
   "source": [
    "##### list범위자체를 바꾸는것"
   ]
  },
  {
   "cell_type": "code",
   "execution_count": 5,
   "id": "8d9c80cf",
   "metadata": {},
   "outputs": [
    {
     "name": "stdout",
     "output_type": "stream",
     "text": [
      "[0, 7, 2, 3, 4]\n",
      "[0, 7, 7, 4]\n"
     ]
    }
   ],
   "source": [
    "print(list6)\n",
    "list6[2:4]= [7]\n",
    "print(list6)"
   ]
  },
  {
   "cell_type": "markdown",
   "id": "412ded61",
   "metadata": {},
   "source": [
    "##### list값 하나만 바꿀때 - [ ]를 씌워줄 필요가 없다"
   ]
  },
  {
   "cell_type": "code",
   "execution_count": 9,
   "id": "e5cb990e",
   "metadata": {},
   "outputs": [
    {
     "name": "stdout",
     "output_type": "stream",
     "text": [
      "[1, 2, 3, 4, 7]\n"
     ]
    }
   ],
   "source": [
    "array = [1,2,3,4,5]\n",
    "array[4] = 7\n",
    "print(array)"
   ]
  },
  {
   "cell_type": "code",
   "execution_count": 10,
   "id": "0ec96831",
   "metadata": {},
   "outputs": [
    {
     "name": "stdout",
     "output_type": "stream",
     "text": [
      "[1, 2, 3, 4, 7]\n",
      "[1, ['a', 'b', 'c'], 3, 4, 7]\n"
     ]
    }
   ],
   "source": [
    "# 안에다가 리스트를 넣어줄때는 [ ]를 씌워준다\n",
    "print(array)\n",
    "array[1]=['a','b','c']\n",
    "print(array)"
   ]
  },
  {
   "cell_type": "code",
   "execution_count": 14,
   "id": "27ae88d4",
   "metadata": {},
   "outputs": [
    {
     "name": "stdout",
     "output_type": "stream",
     "text": [
      "[1, ['a', 'b', 'c'], 3, 'd', 'e', 'f', 'g']\n"
     ]
    }
   ],
   "source": [
    "array = [1,2,3,4,5]\n",
    "array[-1]=7\n",
    "array[1]=['a','b','c']\n",
    "array[3:]=['d','e','f','g']\n",
    "print(array)"
   ]
  },
  {
   "cell_type": "code",
   "execution_count": 17,
   "id": "2af80f33",
   "metadata": {},
   "outputs": [
    {
     "name": "stdout",
     "output_type": "stream",
     "text": [
      "['h', 'i', 'j', ['a', 'b', 'c'], 3, 'd', 'e', 'f', 'g']\n"
     ]
    }
   ],
   "source": [
    "array = [1,2,3,4,5]\n",
    "array[-1]=7\n",
    "array[1]=['a','b','c']\n",
    "array[3:]=['d','e','f','g']\n",
    "# [0]으로하면 ['h','i','j'] , [0:1]로 하면 'h','i','j'이렇게 들어간다.\n",
    "array[0:1] = ['h','i','j']\n",
    "print(array)"
   ]
  },
  {
   "cell_type": "markdown",
   "id": "c0ecaaae",
   "metadata": {},
   "source": [
    "##### list del - 인덱스(index)에 접근 후 삭제"
   ]
  },
  {
   "cell_type": "code",
   "execution_count": 20,
   "id": "350866aa",
   "metadata": {},
   "outputs": [
    {
     "name": "stdout",
     "output_type": "stream",
     "text": [
      "[0, 2, 3, 4, 5]\n",
      "[0, 2, 5]\n"
     ]
    }
   ],
   "source": [
    "list7 = [0,1,2,3,4,5]\n",
    "del list7[1]\n",
    "print(list7)\n",
    "del list7[2:4]\n",
    "print(list7)"
   ]
  },
  {
   "cell_type": "markdown",
   "id": "66d45616",
   "metadata": {},
   "source": [
    "##### list remove - 값(Value)에 접근 후 삭제"
   ]
  },
  {
   "cell_type": "code",
   "execution_count": 19,
   "id": "f622544c",
   "metadata": {},
   "outputs": [
    {
     "name": "stdout",
     "output_type": "stream",
     "text": [
      "['a', 'c', 'd', 'e']\n"
     ]
    }
   ],
   "source": [
    "list8 = ['a','b','c','d','e']\n",
    "list8.remove('b')\n",
    "print(list8)"
   ]
  },
  {
   "cell_type": "markdown",
   "id": "e08886f9",
   "metadata": {},
   "source": [
    "### list sorting!"
   ]
  },
  {
   "cell_type": "code",
   "execution_count": 21,
   "id": "72dc75a3",
   "metadata": {},
   "outputs": [
    {
     "name": "stdout",
     "output_type": "stream",
     "text": [
      "[9, 77, 13, 51, 100, 3]\n",
      "[3, 9, 13, 51, 77, 100]\n"
     ]
    }
   ],
   "source": [
    "list9 = [9,77,13,51,100,3]\n",
    "print(list9)\n",
    "list9.sort()\n",
    "print(list9)"
   ]
  },
  {
   "cell_type": "code",
   "execution_count": 26,
   "id": "5af3639a",
   "metadata": {
    "scrolled": true
   },
   "outputs": [
    {
     "name": "stdout",
     "output_type": "stream",
     "text": [
      "[9, 77, 13, 51, 100, 3]\n",
      "-----------------------\n",
      "[3, 9, 13, 51, 77, 100]\n",
      "-----------------------\n",
      "[100, 77, 51, 13, 9, 3]\n"
     ]
    }
   ],
   "source": [
    "# 내림차순은 먼저 sort하고 reverse를 하면 내림차순으로 정렬 가능!\n",
    "list9 = [9,77,13,51,100,3]\n",
    "print(list9)\n",
    "print(\"-----------------------\")\n",
    "list9.sort()\n",
    "print(list9)\n",
    "print(\"-----------------------\")\n",
    "list9.reverse()\n",
    "print(list9)"
   ]
  },
  {
   "cell_type": "code",
   "execution_count": 27,
   "id": "709bb6c0",
   "metadata": {},
   "outputs": [
    {
     "data": {
      "text/plain": [
       "[100, 77, 51, 13, 9, 3]"
      ]
     },
     "execution_count": 27,
     "metadata": {},
     "output_type": "execute_result"
    }
   ],
   "source": [
    "# 한 번에 reverse해주서 내림차순하는 법\n",
    "list10 = [9,77,13,51,100,3]\n",
    "list10.sort(reverse=True)\n",
    "list10"
   ]
  },
  {
   "cell_type": "markdown",
   "id": "9ecef27a",
   "metadata": {},
   "source": [
    "### list 값 위치 출력 및 제거"
   ]
  },
  {
   "cell_type": "code",
   "execution_count": 36,
   "id": "f343c8f7",
   "metadata": {},
   "outputs": [
    {
     "name": "stdout",
     "output_type": "stream",
     "text": [
      "2\n",
      "2\n"
     ]
    }
   ],
   "source": [
    "list11 = ['a','b','c','d','e','f','c']\n",
    "print(list11.index('c'))\n",
    "print(list11.index('c'))\n"
   ]
  },
  {
   "cell_type": "code",
   "execution_count": 32,
   "id": "4d420413",
   "metadata": {},
   "outputs": [
    {
     "name": "stdout",
     "output_type": "stream",
     "text": [
      "f\n",
      "['a', 'b', 'c', 'd']\n"
     ]
    }
   ],
   "source": [
    "# pop()을 사용하면 마지막 값을 빼낸다. --- 출력 후 리스트에서 제거\n",
    "list12 = ['a','b','c','d','e','f']\n",
    "print(list12.pop())\n",
    "list12.pop()\n",
    "print(list12)"
   ]
  },
  {
   "cell_type": "code",
   "execution_count": 33,
   "id": "cffe3a7a",
   "metadata": {},
   "outputs": [
    {
     "data": {
      "text/plain": [
       "3"
      ]
     },
     "execution_count": 33,
     "metadata": {},
     "output_type": "execute_result"
    }
   ],
   "source": [
    "list13 = [0,1,2]\n",
    "len(list13)"
   ]
  },
  {
   "cell_type": "code",
   "execution_count": 34,
   "id": "04efb0e7",
   "metadata": {},
   "outputs": [
    {
     "name": "stdout",
     "output_type": "stream",
     "text": [
      "6\n"
     ]
    }
   ],
   "source": [
    "list14 = ['a','b','c','d','e','f']\n",
    "print(len(list14))"
   ]
  },
  {
   "cell_type": "markdown",
   "id": "ed5fa2cf",
   "metadata": {},
   "source": [
    "# Tuple"
   ]
  },
  {
   "cell_type": "markdown",
   "id": "f436eeea",
   "metadata": {},
   "source": [
    "-소괄호()로 작성되면 내부값은 ,로 구분\n",
    "---추가, 수정, 삭제 불가능"
   ]
  },
  {
   "cell_type": "markdown",
   "id": "15f8fce1",
   "metadata": {},
   "source": [
    "##### In , not in"
   ]
  },
  {
   "cell_type": "code",
   "execution_count": 38,
   "id": "4e46e0e6",
   "metadata": {},
   "outputs": [
    {
     "name": "stdout",
     "output_type": "stream",
     "text": [
      "True\n",
      "False\n"
     ]
    }
   ],
   "source": [
    "str1 = \"파이썬 최고\"\n",
    "print(\"파이썬\" in str1)\n",
    "list1 = [77,38,10]\n",
    "print(33 in list1)"
   ]
  },
  {
   "cell_type": "markdown",
   "id": "1e8a4d50",
   "metadata": {},
   "source": [
    "# 개수 세는 것 -> .count() 명령어를 사용하자!"
   ]
  },
  {
   "cell_type": "code",
   "execution_count": 45,
   "id": "d424ba2b",
   "metadata": {},
   "outputs": [
    {
     "name": "stdout",
     "output_type": "stream",
     "text": [
      "검색할 문자를 입력하세요 : i\n",
      "i는 3번 들어있네요!\n"
     ]
    }
   ],
   "source": [
    "sentence = \"Hi, My name is bumgi\"\n",
    "a = input(\"검색할 문자를 입력하세요 : \")\n",
    "\n",
    "if a in sentence:\n",
    "    print(f\"{a}는 {sentence.count(a)}번 들어있네요!\")\n",
    "else:\n",
    "    print(f\"{a}는 들어있지 않네요!\")"
   ]
  },
  {
   "cell_type": "code",
   "execution_count": null,
   "id": "8308ae0c",
   "metadata": {},
   "outputs": [],
   "source": [
    "list1 = [1,2,3,4,5]\n",
    "[1,2,3,4,5]"
   ]
  },
  {
   "cell_type": "code",
   "execution_count": null,
   "id": "36723b91",
   "metadata": {},
   "outputs": [],
   "source": []
  }
 ],
 "metadata": {
  "kernelspec": {
   "display_name": "Python 3 (ipykernel)",
   "language": "python",
   "name": "python3"
  },
  "language_info": {
   "codemirror_mode": {
    "name": "ipython",
    "version": 3
   },
   "file_extension": ".py",
   "mimetype": "text/x-python",
   "name": "python",
   "nbconvert_exporter": "python",
   "pygments_lexer": "ipython3",
   "version": "3.9.12"
  },
  "toc": {
   "base_numbering": 1,
   "nav_menu": {},
   "number_sections": true,
   "sideBar": true,
   "skip_h1_title": false,
   "title_cell": "Table of Contents",
   "title_sidebar": "Contents",
   "toc_cell": false,
   "toc_position": {},
   "toc_section_display": true,
   "toc_window_display": true
  }
 },
 "nbformat": 4,
 "nbformat_minor": 5
}
