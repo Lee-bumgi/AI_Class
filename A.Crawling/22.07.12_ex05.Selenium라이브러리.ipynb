{
 "cells": [
  {
   "cell_type": "markdown",
   "id": "763c2259",
   "metadata": {},
   "source": [
    "# Selenium 라이브러리\n",
    "- 웹 브라우저를 자동으로 제어하기 위한 라이브러리\n",
    "- 반드시 한번 설치가 필요!\n",
    "- webdriver : 브라우저의 역할\n",
    "- Keys : 컴퓨터용 키보드 역할|"
   ]
  },
  {
   "cell_type": "code",
   "execution_count": 2,
   "id": "ee0fb5e4",
   "metadata": {
    "collapsed": true
   },
   "outputs": [
    {
     "name": "stdout",
     "output_type": "stream",
     "text": [
      "Requirement already satisfied: selenium in c:\\users\\ai\\anaconda3\\lib\\site-packages (4.3.0)\n",
      "Requirement already satisfied: urllib3[secure,socks]~=1.26 in c:\\users\\ai\\anaconda3\\lib\\site-packages (from selenium) (1.26.9)\n",
      "Requirement already satisfied: trio~=0.17 in c:\\users\\ai\\anaconda3\\lib\\site-packages (from selenium) (0.21.0)\n",
      "Requirement already satisfied: trio-websocket~=0.9 in c:\\users\\ai\\anaconda3\\lib\\site-packages (from selenium) (0.9.2)\n",
      "Requirement already satisfied: sortedcontainers in c:\\users\\ai\\anaconda3\\lib\\site-packages (from trio~=0.17->selenium) (2.4.0)\n",
      "Requirement already satisfied: async-generator>=1.9 in c:\\users\\ai\\anaconda3\\lib\\site-packages (from trio~=0.17->selenium) (1.10)\n",
      "Requirement already satisfied: idna in c:\\users\\ai\\anaconda3\\lib\\site-packages (from trio~=0.17->selenium) (3.3)\n",
      "Requirement already satisfied: sniffio in c:\\users\\ai\\anaconda3\\lib\\site-packages (from trio~=0.17->selenium) (1.2.0)\n",
      "Requirement already satisfied: cffi>=1.14 in c:\\users\\ai\\anaconda3\\lib\\site-packages (from trio~=0.17->selenium) (1.15.0)\n",
      "Requirement already satisfied: outcome in c:\\users\\ai\\anaconda3\\lib\\site-packages (from trio~=0.17->selenium) (1.2.0)\n",
      "Requirement already satisfied: attrs>=19.2.0 in c:\\users\\ai\\anaconda3\\lib\\site-packages (from trio~=0.17->selenium) (21.4.0)\n",
      "Requirement already satisfied: pycparser in c:\\users\\ai\\anaconda3\\lib\\site-packages (from cffi>=1.14->trio~=0.17->selenium) (2.21)\n",
      "Requirement already satisfied: wsproto>=0.14 in c:\\users\\ai\\anaconda3\\lib\\site-packages (from trio-websocket~=0.9->selenium) (1.1.0)\n",
      "Requirement already satisfied: PySocks!=1.5.7,<2.0,>=1.5.6 in c:\\users\\ai\\anaconda3\\lib\\site-packages (from urllib3[secure,socks]~=1.26->selenium) (1.7.1)\n",
      "Requirement already satisfied: pyOpenSSL>=0.14 in c:\\users\\ai\\anaconda3\\lib\\site-packages (from urllib3[secure,socks]~=1.26->selenium) (21.0.0)\n",
      "Requirement already satisfied: cryptography>=1.3.4 in c:\\users\\ai\\anaconda3\\lib\\site-packages (from urllib3[secure,socks]~=1.26->selenium) (3.4.8)\n",
      "Requirement already satisfied: certifi in c:\\users\\ai\\anaconda3\\lib\\site-packages (from urllib3[secure,socks]~=1.26->selenium) (2021.10.8)\n",
      "Requirement already satisfied: six>=1.5.2 in c:\\users\\ai\\anaconda3\\lib\\site-packages (from pyOpenSSL>=0.14->urllib3[secure,socks]~=1.26->selenium) (1.16.0)\n",
      "Requirement already satisfied: h11<1,>=0.9.0 in c:\\users\\ai\\anaconda3\\lib\\site-packages (from wsproto>=0.14->trio-websocket~=0.9->selenium) (0.13.0)\n"
     ]
    }
   ],
   "source": [
    "!pip install selenium"
   ]
  },
  {
   "cell_type": "code",
   "execution_count": 22,
   "id": "e8f951f3",
   "metadata": {},
   "outputs": [],
   "source": [
    "# webdriver = 브라우저\n",
    "from selenium import webdriver as wb\n",
    "# Keys = 키보드\n",
    "from selenium.webdriver.common.keys import Keys\n",
    "from selenium.webdriver.common.by import By"
   ]
  },
  {
   "cell_type": "code",
   "execution_count": null,
   "id": "dc63333d",
   "metadata": {},
   "outputs": [],
   "source": [
    "# 크롬 실행하기 위해 크롬드라이버 설치\n",
    "# 사용자가 사용하는 크롬과 같은 버전을 설치해야 한다.\n",
    "# 브라우저가 업데이트되면 크롬드라이버도 업데이트해야함.\n",
    "# 작업중인 파일과 크롬드라이버를 같은 경로에 배치하는 걸 추천"
   ]
  },
  {
   "cell_type": "code",
   "execution_count": 11,
   "id": "6d8cb0e6",
   "metadata": {},
   "outputs": [],
   "source": [
    "# 크롬창을 시작\n",
    "# 웹드라이버야 크롬 좀 실행 시켜줘~\n",
    "# Chrome()괄호안은 비워둔다. 같은 경로니깐\n",
    "# 원래라면 wb.Chrome(\"크롬드라이버 경로/chromedriver.exe\")\n",
    "driver = wb.Chrome()\n",
    "driver.get(\"http://www.naver.com\")"
   ]
  },
  {
   "cell_type": "code",
   "execution_count": 10,
   "id": "77604ad9",
   "metadata": {},
   "outputs": [],
   "source": [
    "# .get(\"url\") = 페이지 정보를 요청\n",
    "driver.get(\"http://www.google.com\")"
   ]
  },
  {
   "cell_type": "code",
   "execution_count": 29,
   "id": "dc8621ad",
   "metadata": {},
   "outputs": [],
   "source": [
    "# 검색창을 찾아오라고 명령!\n",
    "# 검사를 두번한다.\n",
    "# 아이디가 query인 요소좀 찾아와줘!\n",
    "search = driver.find_element(By.ID, \"query\")"
   ]
  },
  {
   "cell_type": "code",
   "execution_count": 30,
   "id": "20015e6c",
   "metadata": {},
   "outputs": [],
   "source": [
    "search.send_keys('광주날씨')"
   ]
  },
  {
   "cell_type": "code",
   "execution_count": 31,
   "id": "814ac72f",
   "metadata": {},
   "outputs": [],
   "source": [
    "# enter키 입력\n",
    "search.send_keys(Keys.ENTER)"
   ]
  },
  {
   "cell_type": "code",
   "execution_count": 32,
   "id": "0506f612",
   "metadata": {},
   "outputs": [],
   "source": [
    "# 페이지 뒤로가기\n",
    "driver.back()"
   ]
  },
  {
   "cell_type": "code",
   "execution_count": 39,
   "id": "9923014f",
   "metadata": {},
   "outputs": [],
   "source": [
    "# 화면이 바뀌면 요소를 매번 탐색해줘야한다.\n",
    "search = driver.find_element(By.ID, \"query\")\n",
    "search.send_keys('서울날씨')"
   ]
  },
  {
   "cell_type": "code",
   "execution_count": 40,
   "id": "18eb38c8",
   "metadata": {},
   "outputs": [],
   "source": [
    "btn = driver.find_element(By.ID,'search_btn')"
   ]
  },
  {
   "cell_type": "code",
   "execution_count": 41,
   "id": "dfc547bb",
   "metadata": {},
   "outputs": [],
   "source": [
    "btn.click()"
   ]
  },
  {
   "cell_type": "code",
   "execution_count": 42,
   "id": "44d8ac07",
   "metadata": {},
   "outputs": [],
   "source": [
    "# 창을 종료할 때\n",
    "driver.close()"
   ]
  },
  {
   "cell_type": "code",
   "execution_count": null,
   "id": "72a3faf7",
   "metadata": {},
   "outputs": [],
   "source": []
  },
  {
   "cell_type": "code",
   "execution_count": null,
   "id": "e31efed5",
   "metadata": {},
   "outputs": [],
   "source": []
  }
 ],
 "metadata": {
  "kernelspec": {
   "display_name": "Python 3 (ipykernel)",
   "language": "python",
   "name": "python3"
  },
  "language_info": {
   "codemirror_mode": {
    "name": "ipython",
    "version": 3
   },
   "file_extension": ".py",
   "mimetype": "text/x-python",
   "name": "python",
   "nbconvert_exporter": "python",
   "pygments_lexer": "ipython3",
   "version": "3.9.12"
  },
  "toc": {
   "base_numbering": 1,
   "nav_menu": {},
   "number_sections": true,
   "sideBar": true,
   "skip_h1_title": false,
   "title_cell": "Table of Contents",
   "title_sidebar": "Contents",
   "toc_cell": false,
   "toc_position": {},
   "toc_section_display": true,
   "toc_window_display": false
  }
 },
 "nbformat": 4,
 "nbformat_minor": 5
}
