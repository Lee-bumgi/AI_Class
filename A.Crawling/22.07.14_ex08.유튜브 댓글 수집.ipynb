{
 "cells": [
  {
   "cell_type": "code",
   "execution_count": 1,
   "id": "46662b48",
   "metadata": {},
   "outputs": [],
   "source": [
    "from selenium import webdriver as wb\n",
    "from selenium.webdriver.common.keys import Keys\n",
    "from selenium.webdriver.common.by import By\n",
    "import time"
   ]
  },
  {
   "cell_type": "code",
   "execution_count": 3,
   "id": "5f90de61",
   "metadata": {},
   "outputs": [],
   "source": [
    "# 1. 브라우저를 실행 > 유튜브채널 사이트로!\n",
    "driver = wb.Chrome()\n",
    "driver.get(\"https://www.youtube.com/watch?v=nrftV_34owk\")"
   ]
  },
  {
   "cell_type": "code",
   "execution_count": 9,
   "id": "23059e3b",
   "metadata": {},
   "outputs": [
    {
     "name": "stdout",
     "output_type": "stream",
     "text": [
      "1번님이 진짜 스타트가 너무 좋았음ㅋㅋㅋㅋ 여성분의 반응도 너무 웃겼고 이게 진짜 고백으로 혼내주기 ㅋㅋㅋㅋㅋㅋㅋㅋ\n",
      "똥치킨 족마신은 꼭 풀버전도 보세요 진짜 커플컨텐츠중에 제일웃겼음ㅋㅋㅋ 뒷풀이도 개재밌었음\n",
      "족마신님 왁굳님이 뽑은 이유를 알겠네요 ㅋㅋㅋ 왁굳님이 원하는 그림 진짜 잘 뽑아주신듯 ㅋㅋ 전에 콘텐츠에서 혜지 코스프레 하신것도 그렇고 캐릭터성 엄청 일관적이라 웃기네요 ㅋㅋㅋ\n",
      "+잘못하면 소개팅 콘텐츠처럼 흘러갈뻔 했는데 차별점이 너무 잘잡힘 ㅋㅋ\n",
      "추남살인마 족마신님이 ㄹㅇ 개웃겼음ㅋㅋㅋㅋㅋ무호흡으로 패고 빠구없이 디스하는게 진짜 남자분들이 안쓰러울정도로 맞았는데 이런 빠꾸없는 분은 또 처음이라 너무 재밌었음 ㅋㅋㅋㅋㅋ\n",
      "똥치킨님이 \"똥 참았다가 싸면 쾌감 지리잖아요\" 라고 한 걸 잊을 수가 없었다...\n",
      "나만 기억할 순 없지.....\n",
      "그걸 듣고도 고백을 받아줘서 ㄹㅈㄷㅋㅋㅋㅋㅋㅋㅋㅋㅋㅋㅋ\n",
      "고혼 컨텐츠는 후열이 메인이지만 족마신님, 똥치킨님은 진짜 미친듯이 웃으면서 봤네ㅋㅋㅋㅋㅋㅋㅋㅋ\n",
      "이거 생방때 진짜 존잼이었음ㅋㅋㅋㅋㅋㅋㅋㅋㅋ다 봐야 돼 ㅠㅠㅠㅠㅋㅋㅋㅋㅋㅋㅋㅋㅋㅋㅋㅋㅋㅋㅋ후열까지 알차고 나중에 똥치킨-족마신 커플 후기까지 나왔을때 개웃겼음ㅋㅋㅋㅋㅋ\n",
      "똥마신 듀오는 전설이다 진짴ㅋㅋㅋㅋㅋㅋ\n",
      "이 커플 최근 후일담도 쥰내 웃김ㅋㅋㅋ 편집본으로 나왔으면 좋겠다 ㅋㅋㅋㅋㅋ\n",
      "왁굳형 방송에서 이어폰 던지고 방송 본건 처음이었던ㅋㅋㅋㅋㅋㅋㅋㅋㅋㅋㅋ\n",
      "웃기면서도 오글거려서 진짜 재밌게 봤음\n",
      "똥치킨님이 말을 더듬지만 유도리있게 말해서 제일 괜찮았는데 족마신님 성격이 너무 좋아서 제일 좋았다 ㅋㅋ어 킹-아~\n",
      "진짜 다시봐도 추남살인마 족마신은 레전드다ㅋㅋㅋㅋㅋ  후열이 진짜 재밌었는데 궁금하신분들은 다시보기로 봐보세요ㅋㅋㅋ\n",
      "족마신님이랑 똥치킨님 끝나고 뒷풀이때 똥치킨님이 게속 철벽치다가 마지막에 점점 족마신님한테 풀리는 모습이 보기 좋았읍니다 ㅋㅋㅋㅋ 족마신님도 똥치킨님이 게속 철벽치시는데 게속 들어오는거도 진짜 대단하셨음 ㅋㅋ 똥치킨님이랑 족마신님 오래가시길 ! 개인적으로 가장 응원합니다 킹아 !\n",
      "우왁굳피셜) 이 영상 편집이 매우 재미있으니 옆에 있는 친구들에게도 추천하고, 엄마에게도 추천해라\n",
      "10:46 편집에선 잘렸는데 진짜 장미 고백부분 생방 풀로 보셔야함 둘이 덤앤더머 모먼트 진짜 개웃겼음 최근에 언제 또 이렇게 웃어봤었나 할정도로ㅋㅋㅋㅋ\n",
      "1번으로 출격해서 빛보다 빠르게 차여버린 비스무르락끼촉 이라고 합니다\n",
      "\n",
      "비록 이후에 많이 부족했었지만 자신감을 잃지않고 강하게 반성하여 더욱 강해지겠습니다\n",
      "\n",
      "좋은 기회 만들어주셔서 정말 감사드립니다 왁굳님\n",
      "\n",
      "나 사나이다\n",
      "왁굳님 항상 감사드립니다\n",
      "정말 즐거웠습니다\n",
      "똥치킨 족마신 둘이 개잘맞음 티키타카 존나 잘되고 ㅋㅋㅋㅋㅋㅋ 여자퍈 뒷풀이때는 진짜 너무 웃겨서 계속 빵터짐\n",
      "족마신님 너무 웃겨ㅋㅋㅋㅋㅋㅋ 반응이 너무 재밋으셔서.. 생방에서 분위기 제일 잘 살리신 분이 아닐까\n",
      "생방도 진짜 재밌게 봤었는데 ㅋㅋㅋㅋㅋㅋㅋㅋㅋㅋㅋ 하나하나가 레전드\n",
      "편집도 개재밌는데 진짜 생방이 올타임 레전드라 진짜 다시보기 꼭 추천드려요 ㅋㅋㅋㅋㅋㅋㅋ\n",
      "역시 커플시리즈물이 제일 재미있네요\n",
      "이번 고백으로 혼내주기 컨텐츠도 재미있지만\n",
      "후열이 겁나 알찼어요\n",
      "모두 뒷풀이까지 정주행해보세요 개꿀잼 ^^\n",
      "생방에서 왁굳형이 아무리 봐도 고멤 빌드업이라고 하는게 개웃김 ㅋㅋㅋㅋㅋ\n",
      "개같이 상황극하는 거 개웃겼는데ㅋㅋㅋㅋ 이건 진짜 무조건 풀영상 봐야 해..\n",
      "키야... 진짜 다시봐도 너무 웃긴거같아요 ㅋㅋㅋㅋㅋ \n",
      " 진짜 세상엔 정말 별의 별사람 다양한 매력을 가진 사람들이 있구나 라는것을 다시한번 느껴보네요 캬캬 :D\n",
      "전혀 예상 못한 커플 탄생해서 너무 재밌었음ㅋㅋㅋㅋ\n",
      "(싸우지 말고 병먹금 해주세요ㅠㅠ)\n",
      "생방 보신분은 아실테지만 똥마신커플 올타임 레전드로 개웃겨서 저 둘 나온 방송은 사람들 전부 새벽4시까지 보고있었음 ㅋㅋㅋ\n",
      "락끼촉님 준비도 많이 하시고 재밌고 구성도 괜찮았어서 마음 아픔 ㅜㅋㅋㅋㅋㅋㅋ 여자편에서도... ㅠㅠㅠ 응원해요...\n",
      "생방용 컨텐츠인데 편집도 이렇게 재밌게 나올 정도 ㅋㅋㅋㅋㅋㅋㅋ 진짜 풀버전으로 보면 레전드임\n",
      "이건 남자편이든 여자편이든 고정컨텐츠로 해도 될 정도로 너무 꿀잼이었어요 ㅋㅋ\n",
      "이런 소개팅류 컨텐츠는 매번 레전드고 그 후열은 본편을 씹어먹는다ㅋㅋㅋㅋㅋㅋㅋㅋㅋ\n",
      "이런 소개팅 컨텐츠는 무조건 봐야지ㅋㅋㅋㅋ\n",
      "풀영상으로 또 봐줘야하는데\n",
      "ㅋㅋㅋ 똥치킨쪽은 오히려 고백을 시도한 사람이 혼난거같은데\n",
      "\n",
      "아예 실패를 가정하고 스토리 짠거같은데 갑자기 성사되니까 엄청 당황하고 어! 실제론 안만나도 되죠?  이러시네 ㅋㅋㅋㅋㅋ\n",
      "이거는 여자편 후열이 진짜 진또배기임. 막장드라마도 이렇게 시나리오쓰면 욕 뒤지게 먹을정도로 개쩌는 대서사시의 반전에 반전에 반전. 그러나 흑막은 언제나 우리의 왁굳형...ㅋㅋ\n",
      "생방으로도 봤었는데 역시 또 봐도 재밌네 ㅋㅋㅋㅋㅋㅋㅋㅋ 레전드편 나왔다 꽉잡아~~\n",
      "이거 풀버전 보는 시간 ㄹㅇ 안아쉽고 거의 안건너뛸 정도로 다 재밌었음ㅋㅋㅋ\n",
      "진짜 너무 웃겼음 ㅋㅋㅋㅋㅋㅋㅋㅋ ㅠ 빨리 다음편 나왔으면 ㅠㅠㅜㅠㅠ\n",
      "진짜 생방때 시간 가는 줄 모르고 봤었음 너무 꿀잼ㅋㅋㅋㅋㅋㅋㅋ 중간에 상황극 나와서 극 노잼 되기는 했지만 그래도 킹아\n",
      "이번 컨텐츠는 진짜 역대급으로 웃깁니다..\n",
      "기대컨 박살나도 좋습니다\n",
      "그 긴 분량을 13분으로 압축한 것 편집자님도 대단하다 ㄹㅇ\n",
      "ㅋㅋㅋㅋㅋㅋㅋ 와 진짜 생방도 레전드인데 편집 미쳤다 ㅋㅋㅋㅋㅋ\n"
     ]
    }
   ],
   "source": [
    "# 2. 댓글정보를 수집\n",
    "review = driver.find_elements(By.ID,\"content-text\")\n",
    "for i in review:\n",
    "    print(i.text)"
   ]
  },
  {
   "cell_type": "code",
   "execution_count": 10,
   "id": "2048fb9b",
   "metadata": {},
   "outputs": [
    {
     "data": {
      "text/plain": [
       "40"
      ]
     },
     "execution_count": 10,
     "metadata": {},
     "output_type": "execute_result"
    }
   ],
   "source": [
    "len(review)"
   ]
  },
  {
   "cell_type": "markdown",
   "id": "084c9d76",
   "metadata": {},
   "source": [
    "### 1. 스크롤 내리는 방법\n",
    "- 키보드의 END키를 활용!\n",
    "- 전체 페이지를 움직이기 때문에 body태그를 접근\n",
    "- body 태그에게 키보드의 END값을 전달\n",
    "- [주의점]\n",
    "- 반복 작업시 while문은 사용금지! > body는 계속 존재 > 무한 루프\n",
    "- for 문을 활용해서 많은 양의 반복을 통해 진행 추천!"
   ]
  },
  {
   "cell_type": "code",
   "execution_count": 41,
   "id": "8ebe1963",
   "metadata": {
    "collapsed": true
   },
   "outputs": [
    {
     "ename": "KeyboardInterrupt",
     "evalue": "",
     "output_type": "error",
     "traceback": [
      "\u001b[1;31m---------------------------------------------------------------------------\u001b[0m",
      "\u001b[1;31mKeyboardInterrupt\u001b[0m                         Traceback (most recent call last)",
      "Input \u001b[1;32mIn [41]\u001b[0m, in \u001b[0;36m<cell line: 2>\u001b[1;34m()\u001b[0m\n\u001b[0;32m      2\u001b[0m body \u001b[38;5;241m=\u001b[39m driver\u001b[38;5;241m.\u001b[39mfind_element(By\u001b[38;5;241m.\u001b[39mTAG_NAME,\u001b[38;5;124m\"\u001b[39m\u001b[38;5;124mbody\u001b[39m\u001b[38;5;124m\"\u001b[39m)\n\u001b[0;32m      3\u001b[0m body\u001b[38;5;241m.\u001b[39msend_keys(Keys\u001b[38;5;241m.\u001b[39mEND)\n\u001b[1;32m----> 4\u001b[0m \u001b[43mtime\u001b[49m\u001b[38;5;241;43m.\u001b[39;49m\u001b[43msleep\u001b[49m\u001b[43m(\u001b[49m\u001b[38;5;241;43m0.5\u001b[39;49m\u001b[43m)\u001b[49m\n",
      "\u001b[1;31mKeyboardInterrupt\u001b[0m: "
     ]
    }
   ],
   "source": [
    "while True:\n",
    "    body = driver.find_element(By.TAG_NAME,\"body\")\n",
    "    body.send_keys(Keys.END)\n",
    "    time.sleep(0.5)"
   ]
  },
  {
   "cell_type": "code",
   "execution_count": null,
   "id": "2228d68f",
   "metadata": {},
   "outputs": [],
   "source": [
    "for i in range(100):\n",
    "    body = driver.find_element(By.TAG_NAME,\"body\")\n",
    "    body.send_keys(Keys.END)\n",
    "    time.sleep(0.5)"
   ]
  },
  {
   "cell_type": "code",
   "execution_count": 43,
   "id": "c51ad854",
   "metadata": {},
   "outputs": [],
   "source": [
    "last_page_height = driver.execute_script(\"return document.documentElement.scrollHeight\")\n",
    "while True:\n",
    "    driver.execute_script(\"window.scrollTo(0,document.documentElement.scrollHeight);\")\n",
    "    time.sleep(1)\n",
    "    new_page_height = driver.execute_script(\"return document.documentElement.scrollHeight\")\n",
    "    if new_page_height == last_page_height:\n",
    "        break\n",
    "    last_page_height = new_page_height\n",
    "review = driver.find_elements(By.ID, \"content-text\")"
   ]
  },
  {
   "cell_type": "code",
   "execution_count": null,
   "id": "eecb40c0",
   "metadata": {},
   "outputs": [],
   "source": []
  }
 ],
 "metadata": {
  "kernelspec": {
   "display_name": "Python 3 (ipykernel)",
   "language": "python",
   "name": "python3"
  },
  "language_info": {
   "codemirror_mode": {
    "name": "ipython",
    "version": 3
   },
   "file_extension": ".py",
   "mimetype": "text/x-python",
   "name": "python",
   "nbconvert_exporter": "python",
   "pygments_lexer": "ipython3",
   "version": "3.9.12"
  },
  "toc": {
   "base_numbering": 1,
   "nav_menu": {},
   "number_sections": true,
   "sideBar": true,
   "skip_h1_title": false,
   "title_cell": "Table of Contents",
   "title_sidebar": "Contents",
   "toc_cell": false,
   "toc_position": {},
   "toc_section_display": true,
   "toc_window_display": false
  }
 },
 "nbformat": 4,
 "nbformat_minor": 5
}
