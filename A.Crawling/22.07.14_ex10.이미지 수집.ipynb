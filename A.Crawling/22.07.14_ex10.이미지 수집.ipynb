{
 "cells": [
  {
   "cell_type": "code",
   "execution_count": 1,
   "id": "ca18efbd",
   "metadata": {},
   "outputs": [],
   "source": [
    "from selenium import webdriver as wb\n",
    "from selenium.webdriver.common.keys import Keys\n",
    "from selenium.webdriver.common.by import By\n",
    "import time\n",
    "# 파일 시스템을 위한 라이브러리(파일이나 폴더를 생성,삭제)\n",
    "import os\n",
    "# 이미지의 url값을 파일로 변형시켜주는 라이브러리\n",
    "from urllib.request import urlretrieve"
   ]
  },
  {
   "cell_type": "code",
   "execution_count": 2,
   "id": "c8dc4bb7",
   "metadata": {},
   "outputs": [],
   "source": [
    "driver = wb.Chrome()\n",
    "driver.get(\"https://www.naver.com/\")\n",
    "driver.maximize_window()"
   ]
  },
  {
   "cell_type": "code",
   "execution_count": 3,
   "id": "edff5f84",
   "metadata": {},
   "outputs": [],
   "source": [
    "search = driver.find_element(By.ID, \"query\")\n",
    "search.send_keys(\"손흥민\")\n",
    "search.send_keys(Keys.ENTER)"
   ]
  },
  {
   "cell_type": "code",
   "execution_count": 4,
   "id": "cc7ebd91",
   "metadata": {},
   "outputs": [],
   "source": [
    "driver.find_element(By.CSS_SELECTOR,\"#lnb > div.lnb_group > div > ul > li:nth-child(2) > a\").click()"
   ]
  },
  {
   "cell_type": "code",
   "execution_count": null,
   "id": "ddf341e5",
   "metadata": {},
   "outputs": [],
   "source": [
    "# 스크롤 작동코드를 여기다가 넣어주면 더 많은 데이터 수집 가능"
   ]
  },
  {
   "cell_type": "code",
   "execution_count": 8,
   "id": "6ce58846",
   "metadata": {},
   "outputs": [],
   "source": [
    "img = driver.find_elements(By.CLASS_NAME,\"_image._listImage\")\n",
    "#driver.find_elements(By.CSS_SELECTOR,\"._image._listImage\")"
   ]
  },
  {
   "cell_type": "code",
   "execution_count": 9,
   "id": "e1cdef1b",
   "metadata": {},
   "outputs": [],
   "source": [
    "# img 리스트의 0번째 데이터에서 src속성을 가져다줘!\n",
    "# img[0].get_attribute(\"src\")"
   ]
  },
  {
   "cell_type": "code",
   "execution_count": 10,
   "id": "473398fa",
   "metadata": {},
   "outputs": [],
   "source": [
    "# src 만 담아줄 리스트 새로 제작\n",
    "srcList = []\n",
    "for i in img:\n",
    "    srcList.append(i.get_attribute(\"src\"))"
   ]
  },
  {
   "cell_type": "code",
   "execution_count": 12,
   "id": "8a112837",
   "metadata": {},
   "outputs": [],
   "source": [
    "# 이미지 저장!\n",
    "# 바탕화면에 이미지 폴더를 생성\n",
    "# 바탕화면에 이미지라는 폴더가 없다면, 바탕화면에 이미지 폴더 만들어줘~\n",
    "if not os.path.isdir(\"C:/Users/AI/Desktop/이미지\") :\n",
    "    os.mkdir(\"C:/Users/AI/Desktop/이미지\")"
   ]
  },
  {
   "cell_type": "code",
   "execution_count": 13,
   "id": "cb4dd179",
   "metadata": {},
   "outputs": [
    {
     "ename": "KeyboardInterrupt",
     "evalue": "",
     "output_type": "error",
     "traceback": [
      "\u001b[1;31m---------------------------------------------------------------------------\u001b[0m",
      "\u001b[1;31mKeyboardInterrupt\u001b[0m                         Traceback (most recent call last)",
      "Input \u001b[1;32mIn [13]\u001b[0m, in \u001b[0;36m<cell line: 3>\u001b[1;34m()\u001b[0m\n\u001b[0;32m      4\u001b[0m urlretrieve(i,\u001b[38;5;124m'\u001b[39m\u001b[38;5;124mC:/Users/AI/Desktop/이미지/\u001b[39m\u001b[38;5;124m'\u001b[39m \u001b[38;5;241m+\u001b[39m \u001b[38;5;28mstr\u001b[39m(cnt)\u001b[38;5;241m+\u001b[39m \u001b[38;5;124m\"\u001b[39m\u001b[38;5;124m.jpg\u001b[39m\u001b[38;5;124m\"\u001b[39m)\n\u001b[0;32m      5\u001b[0m cnt \u001b[38;5;241m=\u001b[39m cnt \u001b[38;5;241m+\u001b[39m \u001b[38;5;241m1\u001b[39m\n\u001b[1;32m----> 6\u001b[0m \u001b[43mtime\u001b[49m\u001b[38;5;241;43m.\u001b[39;49m\u001b[43msleep\u001b[49m\u001b[43m(\u001b[49m\u001b[38;5;241;43m2\u001b[39;49m\u001b[43m)\u001b[49m\n",
      "\u001b[1;31mKeyboardInterrupt\u001b[0m: "
     ]
    }
   ],
   "source": [
    "# url 값을 이미지 폴더에 저장\n",
    "cnt = 0\n",
    "for i in srcList:\n",
    "    urlretrieve(i,'C:/Users/AI/Desktop/이미지/' + str(cnt)+ \".jpg\")\n",
    "    cnt = cnt + 1\n",
    "    time.sleep(2)"
   ]
  },
  {
   "cell_type": "markdown",
   "id": "e49830f9",
   "metadata": {},
   "source": [
    "# 이미지가 중간에 깨지는 이유는>\n",
    "- 이미지는 텍스트 파일보다 크기가 더 크기 때문에\n",
    "- 화면상에 스크롤을 통해서 더 많이 로딩을 받아야함\n",
    "- 1. 크롬실행\n",
    "- 2. 스크롤을 충분히 진행    //화면구성\n",
    "- 3. img태그를 수집          //태그수집\n",
    "- 4. img태그 속 src만 추출   //데이터가공\n",
    "- 5. 파일로 저장             //파일저장"
   ]
  },
  {
   "cell_type": "code",
   "execution_count": null,
   "id": "f947ad8b",
   "metadata": {},
   "outputs": [],
   "source": []
  }
 ],
 "metadata": {
  "kernelspec": {
   "display_name": "Python 3 (ipykernel)",
   "language": "python",
   "name": "python3"
  },
  "language_info": {
   "codemirror_mode": {
    "name": "ipython",
    "version": 3
   },
   "file_extension": ".py",
   "mimetype": "text/x-python",
   "name": "python",
   "nbconvert_exporter": "python",
   "pygments_lexer": "ipython3",
   "version": "3.9.12"
  },
  "toc": {
   "base_numbering": 1,
   "nav_menu": {},
   "number_sections": true,
   "sideBar": true,
   "skip_h1_title": false,
   "title_cell": "Table of Contents",
   "title_sidebar": "Contents",
   "toc_cell": false,
   "toc_position": {},
   "toc_section_display": true,
   "toc_window_display": false
  }
 },
 "nbformat": 4,
 "nbformat_minor": 5
}
