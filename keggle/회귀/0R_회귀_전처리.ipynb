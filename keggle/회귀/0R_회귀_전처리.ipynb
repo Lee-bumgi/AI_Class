{
 "cells": [
  {
   "cell_type": "code",
   "execution_count": null,
   "id": "d94d2d65",
   "metadata": {},
   "outputs": [],
   "source": [
    "# train.drop(['ADDRESS'],axis=1,inplace=True)\n",
    "# test.drop(['ADDRESS'],axis=1,inplace=True)"
   ]
  },
  {
   "cell_type": "markdown",
   "id": "c8485498",
   "metadata": {},
   "source": [
    "# 데이터 불러오기"
   ]
  },
  {
   "cell_type": "markdown",
   "id": "f9fe83fe",
   "metadata": {},
   "source": [
    "- ID - 각 집의 고유한 번호\n",
    "- ADDRESS - 집의 주소\n",
    "- SUBURB - 동네 이름\n",
    "- PRICE - 가격\n",
    "- BEDROOMS - 침실의 갯수\n",
    "- BATHROOMS - 욕실의 갯수\n",
    "- GARAGE - 차고의 수\n",
    "- LAND_AREA - 토지 면적\n",
    "- FLOOR_AREA - 건물 면적\n",
    "- BUILD_YEAR - 건축년도\n",
    "- CBD_DIST - Central business district까지의 거리\n",
    "- NEAREST_STN - 근처 역 정보\n",
    "- NEAREST_STN_DIST - 근처 역까지 거리\n",
    "- DATE_SOLD - 판매된 날짜\n",
    "- POSTCODE - 우편번호\n",
    "- LATITUDE - 위도\n",
    "- LONGITUDE - 경도\n",
    "- NEAREST_SCH - 근교의 학교\n",
    "- NEAREST_SCH_DIST - 근교의 학교까지의 거리\n",
    "- NEAREST_SCH_RANK - 근교의 학교까지의 랭킹"
   ]
  },
  {
   "cell_type": "code",
   "execution_count": null,
   "id": "d78d1451",
   "metadata": {},
   "outputs": [],
   "source": [
    "# pd.options.display.float_format = '{:.5f}'.format\n",
    "\n",
    "import pandas as pd\n",
    "import numpy as np\n",
    "import seaborn as sns\n",
    "import matplotlib.pyplot as plt\n",
    "\n",
    "from sklearn.neighbors import KNeighborsRegressor\n",
    "from sklearn.tree import DecisionTreeRegressor\n",
    "from sklearn.ensemble import RandomForestRegressor\n",
    "from xgboost import XGBRegressor\n",
    "import lightgbm as lgb\n",
    "from catboost import CatBoostRegressor\n",
    "\n",
    "from sklearn.preprocessing import StandardScaler\n",
    "from sklearn.model_selection import train_test_split\n",
    "from sklearn.model_selection import cross_val_score\n",
    "from sklearn.model_selection import GridSearchCV\n",
    "\n",
    "train = pd.read_csv(\"./data/kaggle_r/train.csv\",index_col='ID')\n",
    "test = pd.read_csv(\"./data/kaggle_r/test.csv\",index_col='ID')\n",
    "submission = pd.read_csv(\"./data/kaggle_r/sample_submission.csv\",index_col='ID')\n"
   ]
  },
  {
   "cell_type": "code",
   "execution_count": null,
   "id": "e77fe9ee",
   "metadata": {},
   "outputs": [],
   "source": [
    "train.head()"
   ]
  },
  {
   "cell_type": "code",
   "execution_count": null,
   "id": "e89dc9dc",
   "metadata": {},
   "outputs": [],
   "source": [
    "test.head()"
   ]
  },
  {
   "cell_type": "code",
   "execution_count": null,
   "id": "44cec638",
   "metadata": {},
   "outputs": [],
   "source": [
    "submission.head()"
   ]
  },
  {
   "cell_type": "markdown",
   "id": "21b5cf62",
   "metadata": {},
   "source": [
    "### 데이터불러오기 끝"
   ]
  },
  {
   "cell_type": "markdown",
   "id": "155595c0",
   "metadata": {},
   "source": [
    "# 데이터 이해"
   ]
  },
  {
   "cell_type": "code",
   "execution_count": null,
   "id": "1ae8a509",
   "metadata": {},
   "outputs": [],
   "source": [
    "train.columns"
   ]
  },
  {
   "cell_type": "code",
   "execution_count": null,
   "id": "288431fb",
   "metadata": {},
   "outputs": [],
   "source": [
    "test.columns"
   ]
  },
  {
   "cell_type": "markdown",
   "id": "fd77a335",
   "metadata": {},
   "source": [
    "- PRICE 는 라벨데이터"
   ]
  },
  {
   "cell_type": "code",
   "execution_count": null,
   "id": "006df66c",
   "metadata": {},
   "outputs": [],
   "source": [
    "set(train.columns)-set(test.columns)"
   ]
  },
  {
   "cell_type": "code",
   "execution_count": null,
   "id": "4c8137bf",
   "metadata": {},
   "outputs": [],
   "source": [
    "train.info()"
   ]
  },
  {
   "cell_type": "code",
   "execution_count": null,
   "id": "a2bd21c4",
   "metadata": {},
   "outputs": [],
   "source": [
    "train.select_dtypes(object).columns"
   ]
  },
  {
   "cell_type": "code",
   "execution_count": null,
   "id": "4d752395",
   "metadata": {},
   "outputs": [],
   "source": [
    "test.info()"
   ]
  },
  {
   "cell_type": "markdown",
   "id": "77a37f8e",
   "metadata": {},
   "source": [
    "## 데이터 접근\n",
    "- 'ADDRESS', 'SUBURB', 'NEAREST_STN', 'DATE_SOLD', 'NEAREST_SCH'  범주형\n",
    "\n",
    "\n",
    "- train 결측치 : NEAREST_SCH_RANK, BUILD_YEAR, GARAGE\n",
    "- test 결측치 : NEAREST_SCH_RANK, BUILD_YEAR, GARAGE\n",
    "    - NEAREST_SCH_RANK : 결측치 6000개 30%의 결측치\n",
    "    - BUILD_YEAR : 결측치 1728개 10%정도의 결측치\n",
    "\n",
    "- 상관관계\n",
    "    - LAND_AREA:0.04678\n",
    "    - NEAREST_STN_DIST:-0.09937\n",
    "    - LATITUDE:0.04672\n",
    "    - NEAREST_SCH_DIST:-0.02403"
   ]
  },
  {
   "cell_type": "code",
   "execution_count": null,
   "id": "f7e24c48",
   "metadata": {},
   "outputs": [],
   "source": [
    "train.info()"
   ]
  },
  {
   "cell_type": "code",
   "execution_count": null,
   "id": "8fe6364d",
   "metadata": {},
   "outputs": [],
   "source": [
    "train.corr()"
   ]
  },
  {
   "cell_type": "markdown",
   "id": "7259f8a9",
   "metadata": {},
   "source": [
    "## PRICE 가격 라벨데이터"
   ]
  },
  {
   "cell_type": "code",
   "execution_count": null,
   "id": "fc4c095d",
   "metadata": {},
   "outputs": [],
   "source": [
    "train.PRICE.info()"
   ]
  },
  {
   "cell_type": "code",
   "execution_count": null,
   "id": "7c98b13d",
   "metadata": {},
   "outputs": [],
   "source": [
    "train[['PRICE']].describe()"
   ]
  },
  {
   "cell_type": "code",
   "execution_count": null,
   "id": "255fe749",
   "metadata": {},
   "outputs": [],
   "source": [
    "train.PRICE.skew()"
   ]
  },
  {
   "cell_type": "code",
   "execution_count": null,
   "id": "52c872d5",
   "metadata": {},
   "outputs": [],
   "source": [
    "sns.kdeplot(data=train,x='PRICE')"
   ]
  },
  {
   "cell_type": "code",
   "execution_count": null,
   "id": "7aa27ea9",
   "metadata": {},
   "outputs": [],
   "source": [
    "sns.histplot(data=train,x='PRICE',bins=500)"
   ]
  },
  {
   "cell_type": "code",
   "execution_count": null,
   "id": "ff00b194",
   "metadata": {},
   "outputs": [],
   "source": []
  },
  {
   "cell_type": "markdown",
   "id": "126613b8",
   "metadata": {},
   "source": [
    "## ADDRESS 집의 주소"
   ]
  },
  {
   "cell_type": "code",
   "execution_count": null,
   "id": "5322d4e2",
   "metadata": {},
   "outputs": [],
   "source": [
    "train[['ADDRESS']].describe()"
   ]
  },
  {
   "cell_type": "code",
   "execution_count": null,
   "id": "5dd2acdb",
   "metadata": {},
   "outputs": [],
   "source": [
    "train['ADDRESS'].value_counts()"
   ]
  },
  {
   "cell_type": "markdown",
   "id": "ce4d90b3",
   "metadata": {},
   "source": [
    "### ADDRESS 끝\n",
    "- 총 data 가 18510 개 이지만 unique 값이 18491이므로 drop"
   ]
  },
  {
   "cell_type": "code",
   "execution_count": null,
   "id": "ee87c456",
   "metadata": {},
   "outputs": [],
   "source": [
    "# # ADDRESS 드랍\n",
    "# train = train.drop(['ADDRESS'], axis=1)\n",
    "# test = test.drop(['ADDRESS'], axis=1)"
   ]
  },
  {
   "cell_type": "markdown",
   "id": "e71152ef",
   "metadata": {},
   "source": [
    "## SUBURB 동네 이름\n",
    "- 클래스는 318개 이니만 분포는 고른것으로 추정"
   ]
  },
  {
   "cell_type": "code",
   "execution_count": null,
   "id": "bb373e58",
   "metadata": {},
   "outputs": [],
   "source": [
    "train[['SUBURB']].describe()"
   ]
  },
  {
   "cell_type": "code",
   "execution_count": null,
   "id": "ebeeecbe",
   "metadata": {},
   "outputs": [],
   "source": [
    "train.SUBURB.unique()"
   ]
  },
  {
   "cell_type": "code",
   "execution_count": null,
   "id": "168ab38c",
   "metadata": {
    "scrolled": true
   },
   "outputs": [],
   "source": [
    "a = train['SUBURB'].values\n",
    "a= set(a)\n",
    "len(a)\n",
    "a= list(a)\n",
    "len(a)"
   ]
  },
  {
   "cell_type": "code",
   "execution_count": null,
   "id": "8d55530a",
   "metadata": {},
   "outputs": [],
   "source": [
    "# for i in a:\n",
    "    \n",
    "#     sns.kdeplot(data=train[train['SUBURB']==i],x='PRICE',hue='SUBURB')\n",
    "# #     plt.show()\n",
    "    "
   ]
  },
  {
   "cell_type": "code",
   "execution_count": null,
   "id": "733d38c6",
   "metadata": {},
   "outputs": [],
   "source": [
    "b = train['SUBURB'].value_counts()"
   ]
  },
  {
   "cell_type": "code",
   "execution_count": null,
   "id": "a2e0ca0e",
   "metadata": {},
   "outputs": [],
   "source": [
    "pd.DataFrame(b).head(10)"
   ]
  },
  {
   "cell_type": "code",
   "execution_count": null,
   "id": "880cd785",
   "metadata": {},
   "outputs": [],
   "source": [
    "# plt.figure(figsize=(15,5))\n",
    "sns.histplot(data=train[train['SUBURB']=='Bertram'],x='PRICE',hue='SUBURB')"
   ]
  },
  {
   "cell_type": "markdown",
   "id": "53b3f478",
   "metadata": {},
   "source": [
    "### SUBURB 끝\n",
    "- 위도와 경도와 겹칠것으로 판단\n",
    "- 드랍"
   ]
  },
  {
   "cell_type": "code",
   "execution_count": null,
   "id": "0e3953ff",
   "metadata": {},
   "outputs": [],
   "source": [
    "# # SUBURB 드랍\n",
    "# train = train.drop(['SUBURB'], axis=1)\n",
    "# test = test.drop(['SUBURB'], axis=1)"
   ]
  },
  {
   "cell_type": "markdown",
   "id": "32de04dd",
   "metadata": {},
   "source": [
    "## BEDROOMS 침실 개수\n",
    "- 방이 많을 수록 비싸지만 방개수는 3,4개가 많음"
   ]
  },
  {
   "cell_type": "code",
   "execution_count": null,
   "id": "b7a80fe1",
   "metadata": {},
   "outputs": [],
   "source": [
    "train[['BEDROOMS']].describe()"
   ]
  },
  {
   "cell_type": "code",
   "execution_count": null,
   "id": "b0beb08b",
   "metadata": {},
   "outputs": [],
   "source": [
    "train['BEDROOMS'].info()"
   ]
  },
  {
   "cell_type": "code",
   "execution_count": null,
   "id": "1fb13838",
   "metadata": {},
   "outputs": [],
   "source": [
    "train['BEDROOMS'].unique()"
   ]
  },
  {
   "cell_type": "code",
   "execution_count": null,
   "id": "7093cddc",
   "metadata": {},
   "outputs": [],
   "source": [
    "train['BEDROOMS'].value_counts()"
   ]
  },
  {
   "cell_type": "code",
   "execution_count": null,
   "id": "3806530a",
   "metadata": {},
   "outputs": [],
   "source": [
    "sns.lineplot(y=train.PRICE,x=train.BEDROOMS)"
   ]
  },
  {
   "cell_type": "code",
   "execution_count": null,
   "id": "e6e51022",
   "metadata": {},
   "outputs": [],
   "source": [
    "sns.countplot(data=train,x=train.BEDROOMS)"
   ]
  },
  {
   "cell_type": "code",
   "execution_count": null,
   "id": "b3cb73f7",
   "metadata": {},
   "outputs": [],
   "source": [
    "sns.kdeplot(data=train,x=\"BEDROOMS\")"
   ]
  },
  {
   "cell_type": "code",
   "execution_count": null,
   "id": "5c74e467",
   "metadata": {},
   "outputs": [],
   "source": [
    "train.BEDROOMS.skew()"
   ]
  },
  {
   "cell_type": "markdown",
   "id": "7d5c4f73",
   "metadata": {},
   "source": [
    "### BEDROOMS 끝\n",
    "- 분포도 고르고 편향도 거의 없어서 나두기"
   ]
  },
  {
   "cell_type": "markdown",
   "id": "7ab8b9ab",
   "metadata": {},
   "source": [
    "## GARAGE 차고의수 결측치있음"
   ]
  },
  {
   "cell_type": "code",
   "execution_count": null,
   "id": "52e76860",
   "metadata": {},
   "outputs": [],
   "source": [
    "train.GARAGE.info()"
   ]
  },
  {
   "cell_type": "code",
   "execution_count": null,
   "id": "454b53bf",
   "metadata": {},
   "outputs": [],
   "source": [
    "train.GARAGE = train.GARAGE.fillna(0)"
   ]
  },
  {
   "cell_type": "code",
   "execution_count": null,
   "id": "273922aa",
   "metadata": {},
   "outputs": [],
   "source": [
    "train.GARAGE.astype('int64')"
   ]
  },
  {
   "cell_type": "code",
   "execution_count": null,
   "id": "cc39feae",
   "metadata": {},
   "outputs": [],
   "source": [
    "train[['GARAGE']].describe()\n",
    "# 평균,중간값 비슷하지만 최대값과 차이남"
   ]
  },
  {
   "cell_type": "code",
   "execution_count": null,
   "id": "6f8abd3e",
   "metadata": {},
   "outputs": [],
   "source": [
    "train.GARAGE.value_counts()"
   ]
  },
  {
   "cell_type": "code",
   "execution_count": null,
   "id": "944a32a9",
   "metadata": {},
   "outputs": [],
   "source": [
    "train[train['GARAGE']==99]"
   ]
  },
  {
   "cell_type": "code",
   "execution_count": null,
   "id": "0ea5055b",
   "metadata": {},
   "outputs": [],
   "source": [
    "train['GARAGE'].replace(99,2,inplace=True)"
   ]
  },
  {
   "cell_type": "code",
   "execution_count": null,
   "id": "6dfa1fa0",
   "metadata": {},
   "outputs": [],
   "source": [
    "train.GARAGE.value_counts()"
   ]
  },
  {
   "cell_type": "code",
   "execution_count": null,
   "id": "39351c2f",
   "metadata": {},
   "outputs": [],
   "source": [
    "train.GARAGE.info()"
   ]
  },
  {
   "cell_type": "code",
   "execution_count": null,
   "id": "c0a3b650",
   "metadata": {},
   "outputs": [],
   "source": [
    "sns.distplot(x=train[\"GARAGE\"])"
   ]
  },
  {
   "cell_type": "code",
   "execution_count": null,
   "id": "de866524",
   "metadata": {},
   "outputs": [],
   "source": [
    "train.GARAGE.skew()"
   ]
  },
  {
   "cell_type": "code",
   "execution_count": null,
   "id": "47636738",
   "metadata": {},
   "outputs": [],
   "source": [
    "plt.xticks(rotation = 90 )\n",
    "sns.countplot(data=train,x=train.GARAGE)"
   ]
  },
  {
   "cell_type": "markdown",
   "id": "236407ef",
   "metadata": {},
   "source": [
    "### GARAGE 끝\n",
    "- 차고가 없는것이 잇을수잇으므로 결측치 0으로\n",
    "- 99는 이상치로 판단하며, 개수가 1개이므로 가장많은 2에 편입"
   ]
  },
  {
   "cell_type": "code",
   "execution_count": null,
   "id": "3447e021",
   "metadata": {},
   "outputs": [],
   "source": [
    "# # GARAGE 결측치 처리\n",
    "# train['GARAGE'] = train['GARAGE'].fillna(0)\n",
    "# test['GARAGE'] = test['GARAGE'].fillna(0)\n",
    "\n",
    "# train['GARAGE'].replace(99,2,inplace=True) # test에는 99없음"
   ]
  },
  {
   "cell_type": "markdown",
   "id": "af1f659a",
   "metadata": {},
   "source": [
    "## LAND_AREA  토지 면적"
   ]
  },
  {
   "cell_type": "code",
   "execution_count": null,
   "id": "84ef33b4",
   "metadata": {},
   "outputs": [],
   "source": [
    "train[['LAND_AREA']].describe()"
   ]
  },
  {
   "cell_type": "code",
   "execution_count": null,
   "id": "4a0b0c65",
   "metadata": {},
   "outputs": [],
   "source": [
    "train[['LAND_AREA']].value_counts()"
   ]
  },
  {
   "cell_type": "code",
   "execution_count": null,
   "id": "655f83c5",
   "metadata": {},
   "outputs": [],
   "source": [
    "LAND_uni = test.LAND_AREA.unique()\n",
    "LAND_uni = list(a)\n",
    "LAND_uni.sort(reverse=True)\n",
    "LAND_uni"
   ]
  },
  {
   "cell_type": "code",
   "execution_count": null,
   "id": "a0060ec7",
   "metadata": {},
   "outputs": [],
   "source": [
    "LAND_uni = train.LAND_AREA.unique()\n",
    "LAND_uni = list(a)\n",
    "LAND_uni.sort(reverse=True)\n",
    "LAND_uni"
   ]
  },
  {
   "cell_type": "code",
   "execution_count": null,
   "id": "059a4f79",
   "metadata": {},
   "outputs": [],
   "source": []
  },
  {
   "cell_type": "code",
   "execution_count": null,
   "id": "f595be0c",
   "metadata": {},
   "outputs": [],
   "source": [
    "train[train['LAND_AREA']==999999]"
   ]
  },
  {
   "cell_type": "code",
   "execution_count": null,
   "id": "0fa4f110",
   "metadata": {},
   "outputs": [],
   "source": [
    "train[train['LAND_AREA']==983690]"
   ]
  },
  {
   "cell_type": "code",
   "execution_count": null,
   "id": "92145535",
   "metadata": {},
   "outputs": [],
   "source": [
    "train[train['PRICE']==545000][['LAND_AREA']].value_counts()"
   ]
  },
  {
   "cell_type": "code",
   "execution_count": null,
   "id": "3803c4b7",
   "metadata": {
    "scrolled": true
   },
   "outputs": [],
   "source": [
    "train[(365000<=train['PRICE'])&(train['PRICE']<=385000)][['LAND_AREA']].value_counts()"
   ]
  },
  {
   "cell_type": "code",
   "execution_count": null,
   "id": "aa1a18ea",
   "metadata": {
    "scrolled": true
   },
   "outputs": [],
   "source": [
    "# sns.lineplot(data=train,x=\"LAND_AREA\",y='PRICE')"
   ]
  },
  {
   "cell_type": "markdown",
   "id": "602103ce",
   "metadata": {},
   "source": [
    "### LAND_AREA 끝\n",
    "- 999999, 983690 두개 이상치로 추정 비슷한 가격대의 값으로 편입\n",
    "- 999999,983690->692\n",
    "\n",
    "\n",
    "- 스케일링,정규화 필요\n",
    "\n",
    "\n",
    "- test,train 값이 거의 비슷하던데 확인필요?"
   ]
  },
  {
   "cell_type": "code",
   "execution_count": null,
   "id": "6d2f678c",
   "metadata": {},
   "outputs": [],
   "source": [
    "# # LAND_AREA 이상치 처리\n",
    "# train['LAND_AREA'].replace(999999,692,inplace=True)\n",
    "# train['LAND_AREA'].replace(983690,692,inplace=True)\n",
    "\n",
    "# test['LAND_AREA'].replace(999999,692,inplace=True)\n",
    "# test['LAND_AREA'].replace(983690,692,inplace=True)\n",
    "\n",
    "# train['LAND_AREA'] = np.log(train['LAND_AREA'] + 1)\n",
    "# test['LAND_AREA'] = np.log(test['LAND_AREA'] + 1)"
   ]
  },
  {
   "cell_type": "code",
   "execution_count": null,
   "id": "e2b7633e",
   "metadata": {},
   "outputs": [],
   "source": [
    "train.LAND_AREA.skew()"
   ]
  },
  {
   "cell_type": "code",
   "execution_count": null,
   "id": "700b5e0f",
   "metadata": {},
   "outputs": [],
   "source": [
    "test.LAND_AREA.skew()"
   ]
  },
  {
   "cell_type": "markdown",
   "id": "87f2a44b",
   "metadata": {},
   "source": [
    "## FLOOR_AREA 건물면적"
   ]
  },
  {
   "cell_type": "code",
   "execution_count": null,
   "id": "acbe0666",
   "metadata": {},
   "outputs": [],
   "source": [
    "train[['FLOOR_AREA']].describe()"
   ]
  },
  {
   "cell_type": "code",
   "execution_count": null,
   "id": "5ecf9f1c",
   "metadata": {},
   "outputs": [],
   "source": [
    "train.FLOOR_AREA.value_counts()"
   ]
  },
  {
   "cell_type": "code",
   "execution_count": null,
   "id": "36636bba",
   "metadata": {},
   "outputs": [],
   "source": [
    "sns.scatterplot(x=train.FLOOR_AREA,y=train.PRICE)"
   ]
  },
  {
   "cell_type": "code",
   "execution_count": null,
   "id": "26c2d56c",
   "metadata": {},
   "outputs": [],
   "source": [
    "sns.boxplot(data=train,x='FLOOR_AREA')"
   ]
  },
  {
   "cell_type": "code",
   "execution_count": null,
   "id": "2e84775c",
   "metadata": {},
   "outputs": [],
   "source": [
    "train.FLOOR_AREA.skew()"
   ]
  },
  {
   "cell_type": "markdown",
   "id": "8689dbde",
   "metadata": {},
   "source": [
    "### FLOOR_AREA 끝\n",
    "- 이상치 처리가 필요해보이나 일단 방법을 모르므로 패스"
   ]
  },
  {
   "cell_type": "markdown",
   "id": "e21388ec",
   "metadata": {},
   "source": [
    "## BUILD_YEAR 건축년도 결측치 있음"
   ]
  },
  {
   "cell_type": "code",
   "execution_count": null,
   "id": "bdc44922",
   "metadata": {},
   "outputs": [],
   "source": [
    "train.BUILD_YEAR.info"
   ]
  },
  {
   "cell_type": "code",
   "execution_count": null,
   "id": "f32e841b",
   "metadata": {},
   "outputs": [],
   "source": [
    "train[['BUILD_YEAR']].describe()"
   ]
  },
  {
   "cell_type": "code",
   "execution_count": null,
   "id": "999a4f2a",
   "metadata": {},
   "outputs": [],
   "source": [
    "train.BUILD_YEAR.value_counts()"
   ]
  },
  {
   "cell_type": "code",
   "execution_count": null,
   "id": "081f5ae0",
   "metadata": {},
   "outputs": [],
   "source": [
    "train.BUILD_YEAR.unique()"
   ]
  },
  {
   "cell_type": "code",
   "execution_count": null,
   "id": "10c4c55f",
   "metadata": {},
   "outputs": [],
   "source": [
    "train.BUILD_YEAR = train.BUILD_YEAR.fillna(9999)"
   ]
  },
  {
   "cell_type": "code",
   "execution_count": null,
   "id": "42c0551a",
   "metadata": {},
   "outputs": [],
   "source": [
    "train.BUILD_YEAR.info()"
   ]
  },
  {
   "cell_type": "code",
   "execution_count": null,
   "id": "967b497d",
   "metadata": {},
   "outputs": [],
   "source": [
    "train.info()"
   ]
  },
  {
   "cell_type": "code",
   "execution_count": null,
   "id": "d421a481",
   "metadata": {},
   "outputs": [],
   "source": [
    "plt.figure(figsize=(20,5))\n",
    "plt.xticks(rotation=90)\n",
    "sns.countplot(data=train,x=\"BUILD_YEAR\")"
   ]
  },
  {
   "cell_type": "code",
   "execution_count": null,
   "id": "695c8594",
   "metadata": {},
   "outputs": [],
   "source": [
    "train.groupby(['BUILD_YEAR']).mean()['PRICE']"
   ]
  },
  {
   "cell_type": "code",
   "execution_count": null,
   "id": "34af9d82",
   "metadata": {},
   "outputs": [],
   "source": []
  },
  {
   "cell_type": "code",
   "execution_count": null,
   "id": "d872688d",
   "metadata": {},
   "outputs": [],
   "source": [
    "# sns.kdeplot(data=train,x='BUILD_YEAR',hue='PRICE')"
   ]
  },
  {
   "cell_type": "markdown",
   "id": "270a5b4f",
   "metadata": {},
   "source": [
    "### BUILD_YEAR 끝\n",
    "- 결측치 제거 방법도 잘모르겠음 일단 드랍?"
   ]
  },
  {
   "cell_type": "code",
   "execution_count": null,
   "id": "b56763c2",
   "metadata": {},
   "outputs": [],
   "source": [
    "# # BUILD_YEAR 드랍\n",
    "# train = train.drop(['BUILD_YEAR'], axis=1)\n",
    "# test = test.drop(['BUILD_YEAR'], axis=1)"
   ]
  },
  {
   "cell_type": "markdown",
   "id": "79ae873b",
   "metadata": {},
   "source": [
    "## CBD_DIST Central business district까지의 거리"
   ]
  },
  {
   "cell_type": "code",
   "execution_count": null,
   "id": "baeca3e0",
   "metadata": {},
   "outputs": [],
   "source": [
    "train[['CBD_DIST']].describe()"
   ]
  },
  {
   "cell_type": "code",
   "execution_count": null,
   "id": "6c5101b8",
   "metadata": {},
   "outputs": [],
   "source": [
    "train.CBD_DIST.skew()"
   ]
  },
  {
   "cell_type": "code",
   "execution_count": null,
   "id": "52f6b166",
   "metadata": {},
   "outputs": [],
   "source": [
    "sns.boxplot(data=train,x='CBD_DIST')"
   ]
  },
  {
   "cell_type": "markdown",
   "id": "0710ba07",
   "metadata": {},
   "source": [
    "### CBD_DIST 끝\n",
    "- 이상치가 존재하는지는 잘모르겠으며 처리가 필요한지 판단이 안서므로 일단 그냥 사용"
   ]
  },
  {
   "cell_type": "markdown",
   "id": "e0d3d256",
   "metadata": {},
   "source": [
    "## NEAREST_STN - 근처 역 정보"
   ]
  },
  {
   "cell_type": "code",
   "execution_count": null,
   "id": "1b3795ee",
   "metadata": {},
   "outputs": [],
   "source": [
    "train[['NEAREST_STN']].describe()"
   ]
  },
  {
   "cell_type": "code",
   "execution_count": null,
   "id": "2107660a",
   "metadata": {},
   "outputs": [],
   "source": [
    "train.NEAREST_STN.value_counts()"
   ]
  },
  {
   "cell_type": "code",
   "execution_count": null,
   "id": "81d07bdc",
   "metadata": {},
   "outputs": [],
   "source": [
    "sns.scatterplot(data=train,x='NEAREST_STN',y='SUBURB')"
   ]
  },
  {
   "cell_type": "markdown",
   "id": "4309e131",
   "metadata": {},
   "source": [
    "### NEAREST_STN 끝\n",
    "- 모르겠음 드랍"
   ]
  },
  {
   "cell_type": "code",
   "execution_count": null,
   "id": "c0e0c961",
   "metadata": {},
   "outputs": [],
   "source": [
    "# # NEAREST_STN 드랍\n",
    "# train = train.drop(['NEAREST_STN'], axis=1)\n",
    "# test = test.drop(['NEAREST_STN'], axis=1)"
   ]
  },
  {
   "cell_type": "markdown",
   "id": "7366bce0",
   "metadata": {},
   "source": [
    "## NEAREST_STN_DIST - 근처 역까지 거리"
   ]
  },
  {
   "cell_type": "code",
   "execution_count": null,
   "id": "c87b684f",
   "metadata": {},
   "outputs": [],
   "source": [
    "train[['NEAREST_STN_DIST']].describe()"
   ]
  },
  {
   "cell_type": "code",
   "execution_count": null,
   "id": "c402d274",
   "metadata": {},
   "outputs": [],
   "source": [
    "train.NEAREST_STN_DIST.skew()"
   ]
  },
  {
   "cell_type": "code",
   "execution_count": null,
   "id": "c29ab03f",
   "metadata": {},
   "outputs": [],
   "source": [
    "sns.boxplot(data=train,x='NEAREST_STN_DIST')"
   ]
  },
  {
   "cell_type": "markdown",
   "id": "62c01e45",
   "metadata": {},
   "source": [
    "### NEAREST_STN_DIST\n",
    "- 모르겠음"
   ]
  },
  {
   "cell_type": "code",
   "execution_count": null,
   "id": "5b0c2a02",
   "metadata": {},
   "outputs": [],
   "source": [
    "# # NEAREST_STN_DIST 드랍\n",
    "# train = train.drop(['NEAREST_STN_DIST'], axis=1)\n",
    "# test = test.drop(['NEAREST_STN_DIST'], axis=1)"
   ]
  },
  {
   "cell_type": "markdown",
   "id": "f738a108",
   "metadata": {},
   "source": [
    "## DATE_SOLD - 판매된 날짜"
   ]
  },
  {
   "cell_type": "code",
   "execution_count": null,
   "id": "c9bb4c60",
   "metadata": {},
   "outputs": [],
   "source": [
    "train[['DATE_SOLD']].describe()"
   ]
  },
  {
   "cell_type": "code",
   "execution_count": null,
   "id": "51e3a4c9",
   "metadata": {},
   "outputs": [],
   "source": [
    "def split_m(row):\n",
    "    for i in range(train['DATE_SOLD'].size):\n",
    "        row = row[i][:7]\n",
    "        month, year = row.split('-')\n",
    "        return int(year+month)\n",
    "\n",
    "# train['DATE_SOLD'] = train[['DATE_SOLD']].apply(split_m,axis=1)\n",
    "# test['DATE_SOLD'] = test[['DATE_SOLD']].apply(split_m,axis=1)"
   ]
  },
  {
   "cell_type": "code",
   "execution_count": null,
   "id": "d2ec02a3",
   "metadata": {},
   "outputs": [],
   "source": [
    "# train['DATE_SOLD'] = train[['DATE_SOLD']].apply(split_m,axis=1)"
   ]
  },
  {
   "cell_type": "code",
   "execution_count": null,
   "id": "f379a02f",
   "metadata": {},
   "outputs": [],
   "source": [
    "train['DATE_SOLD'].info()"
   ]
  },
  {
   "cell_type": "code",
   "execution_count": null,
   "id": "53fbff37",
   "metadata": {},
   "outputs": [],
   "source": [
    "train[['DATE_SOLD']].describe()"
   ]
  },
  {
   "cell_type": "code",
   "execution_count": null,
   "id": "b1099984",
   "metadata": {},
   "outputs": [],
   "source": [
    "train.DATE_SOLD.value_counts()"
   ]
  },
  {
   "cell_type": "markdown",
   "id": "c2d76799",
   "metadata": {},
   "source": [
    "#### DATE_SOLD 끝\n",
    "- 쓸모없는 문자열 숫자로 바꿔 순서가있는 범주형으로 변경"
   ]
  },
  {
   "cell_type": "code",
   "execution_count": null,
   "id": "935f26aa",
   "metadata": {},
   "outputs": [],
   "source": [
    "# # DATE_SOLD 문자열 -> 정수형\n",
    "# def split_m(row):\n",
    "#     for i in range(train['DATE_SOLD'].size):\n",
    "#         row = row[i][:7]\n",
    "#         month, year = row.split('-')\n",
    "#         return int(year+month)\n",
    "\n",
    "# train['DATE_SOLD'] = train[['DATE_SOLD']].apply(split_m,axis=1)\n",
    "# test['DATE_SOLD'] = test[['DATE_SOLD']].apply(split_m,axis=1)"
   ]
  },
  {
   "cell_type": "markdown",
   "id": "74197d50",
   "metadata": {},
   "source": [
    "## POSTCODE - 우편번호"
   ]
  },
  {
   "cell_type": "code",
   "execution_count": null,
   "id": "5ff6eb7b",
   "metadata": {},
   "outputs": [],
   "source": [
    "train['POSTCODE']=train['POSTCODE'].astype('object')"
   ]
  },
  {
   "cell_type": "code",
   "execution_count": null,
   "id": "d1ff1e7a",
   "metadata": {},
   "outputs": [],
   "source": [
    "train[['POSTCODE']].describe()"
   ]
  },
  {
   "cell_type": "code",
   "execution_count": null,
   "id": "848a6615",
   "metadata": {},
   "outputs": [],
   "source": [
    "train.POSTCODE.value_counts()"
   ]
  },
  {
   "cell_type": "markdown",
   "id": "b85c1370",
   "metadata": {},
   "source": [
    "### POSTCODE 끝\n",
    "- 위도와 경도와 거의 겹침 드랍"
   ]
  },
  {
   "cell_type": "code",
   "execution_count": null,
   "id": "d60fd589",
   "metadata": {},
   "outputs": [],
   "source": [
    "# # POSTCODE 드랍\n",
    "# train = train.drop(['POSTCODE'], axis=1)\n",
    "# test = test.drop(['POSTCODE'], axis=1)"
   ]
  },
  {
   "cell_type": "markdown",
   "id": "448b8332",
   "metadata": {},
   "source": [
    "## LATITUDE - 위도"
   ]
  },
  {
   "cell_type": "code",
   "execution_count": null,
   "id": "7e8b8f44",
   "metadata": {
    "scrolled": true
   },
   "outputs": [],
   "source": [
    "train[['LATITUDE']].describe()"
   ]
  },
  {
   "cell_type": "code",
   "execution_count": null,
   "id": "c7a17e9f",
   "metadata": {},
   "outputs": [],
   "source": [
    "sns.histplot(data=train,x='LATITUDE',bins=20)"
   ]
  },
  {
   "cell_type": "markdown",
   "id": "060b39ca",
   "metadata": {},
   "source": [
    "### LATITUDE 끝\n",
    "- 상관관계도 낮은데 표준편차가 거의 0\n",
    "- 분포를 높여서 사용하는것 고려"
   ]
  },
  {
   "cell_type": "markdown",
   "id": "b141d28b",
   "metadata": {},
   "source": [
    "## LONGITUDE - 경도"
   ]
  },
  {
   "cell_type": "code",
   "execution_count": null,
   "id": "0c786b5b",
   "metadata": {},
   "outputs": [],
   "source": [
    "train[['LONGITUDE']].describe()"
   ]
  },
  {
   "cell_type": "markdown",
   "id": "50e537fa",
   "metadata": {},
   "source": [
    "### LONGITUDE 끝\n",
    "- 상관관계도 낮은데 표준편차가 거의 0\n",
    "- 분포를 높여서 사용하는것 고려"
   ]
  },
  {
   "cell_type": "markdown",
   "id": "507058c7",
   "metadata": {},
   "source": [
    "## NEAREST_SCH - 근교의 학교"
   ]
  },
  {
   "cell_type": "code",
   "execution_count": null,
   "id": "6adfb90d",
   "metadata": {},
   "outputs": [],
   "source": [
    "train[['NEAREST_SCH']].describe()"
   ]
  },
  {
   "cell_type": "code",
   "execution_count": null,
   "id": "8f0b36a7",
   "metadata": {},
   "outputs": [],
   "source": [
    "train.NEAREST_SCH.value_counts()"
   ]
  },
  {
   "cell_type": "markdown",
   "id": "5cd377b7",
   "metadata": {},
   "source": [
    "### NEAREST_SCH 끝\n",
    "- 근교의 학교까지의 거리가 상관관계가 0과 가까운데 근교의 학교가 상관이 거의 없을것으로 판단\n",
    "- 범주가 너무많아 분류도 힘듬\n",
    "- 드랍"
   ]
  },
  {
   "cell_type": "code",
   "execution_count": null,
   "id": "44aff3ab",
   "metadata": {},
   "outputs": [],
   "source": [
    "# # NEAREST_SCH 드랍\n",
    "# train = train.drop(['NEAREST_SCH'], axis=1)\n",
    "# test = test.drop(['NEAREST_SCH'], axis=1)"
   ]
  },
  {
   "cell_type": "markdown",
   "id": "a829d340",
   "metadata": {},
   "source": [
    "## NEAREST_SCH_DIST - 근교의 학교까지의 거리"
   ]
  },
  {
   "cell_type": "code",
   "execution_count": null,
   "id": "54cacee0",
   "metadata": {},
   "outputs": [],
   "source": [
    "train.corr()"
   ]
  },
  {
   "cell_type": "markdown",
   "id": "87cdef4b",
   "metadata": {},
   "source": [
    "#### NEAREST_SCH_DIST 끝\n",
    "- corr -0.02403 드랍"
   ]
  },
  {
   "cell_type": "code",
   "execution_count": null,
   "id": "cdbb0133",
   "metadata": {},
   "outputs": [],
   "source": [
    "# # NEAREST_SCH_DIST 드랍\n",
    "# train = train.drop(['NEAREST_SCH_DIST'], axis=1)\n",
    "# test = test.drop(['NEAREST_SCH_DIST'], axis=1)"
   ]
  },
  {
   "cell_type": "markdown",
   "id": "b567a139",
   "metadata": {},
   "source": [
    "## NEAREST_SCH_RANK - 근교의 학교까지의 랭킹"
   ]
  },
  {
   "cell_type": "code",
   "execution_count": null,
   "id": "d461c292",
   "metadata": {},
   "outputs": [],
   "source": [
    "train.NEAREST_SCH_RANK.unique()"
   ]
  },
  {
   "cell_type": "code",
   "execution_count": null,
   "id": "dc93f154",
   "metadata": {},
   "outputs": [],
   "source": [
    "sns.scatterplot(x=train.NEAREST_SCH_RANK,y=train.PRICE)"
   ]
  },
  {
   "cell_type": "code",
   "execution_count": null,
   "id": "5f798d5e",
   "metadata": {},
   "outputs": [],
   "source": [
    "train[['NEAREST_SCH_RANK']].describe()"
   ]
  },
  {
   "cell_type": "markdown",
   "id": "565b2eb8",
   "metadata": {},
   "source": [
    "#### NEAREST_SCH_RANK 끝\n",
    "- 드랍 결측치 30퍼 회생불가"
   ]
  },
  {
   "cell_type": "code",
   "execution_count": null,
   "id": "c3a4134c",
   "metadata": {},
   "outputs": [],
   "source": [
    "# # NEAREST_SCH_RANK 드랍\n",
    "# train = train.drop(['NEAREST_SCH_RANK'], axis=1)\n",
    "# test = test.drop(['NEAREST_SCH_RANK'], axis=1)"
   ]
  },
  {
   "cell_type": "markdown",
   "id": "ad2da189",
   "metadata": {},
   "source": [
    "# 전처리 완료 코드모음"
   ]
  },
  {
   "cell_type": "code",
   "execution_count": null,
   "id": "d034a854",
   "metadata": {},
   "outputs": [],
   "source": [
    "# ADDRESS 드랍\n",
    "train = train.drop(['ADDRESS'], axis=1)\n",
    "test = test.drop(['ADDRESS'], axis=1)\n",
    "# SUBURB 드랍\n",
    "train = train.drop(['SUBURB'], axis=1)\n",
    "test = test.drop(['SUBURB'], axis=1)\n",
    "# BUILD_YEAR 드랍\n",
    "train = train.drop(['BUILD_YEAR'], axis=1)\n",
    "test = test.drop(['BUILD_YEAR'], axis=1)\n",
    "# NEAREST_STN 드랍\n",
    "train = train.drop(['NEAREST_STN'], axis=1)\n",
    "test = test.drop(['NEAREST_STN'], axis=1)\n",
    "# NEAREST_STN_DIST 드랍\n",
    "train = train.drop(['NEAREST_STN_DIST'], axis=1)\n",
    "test = test.drop(['NEAREST_STN_DIST'], axis=1)\n",
    "# POSTCODE 드랍\n",
    "train = train.drop(['POSTCODE'], axis=1)\n",
    "test = test.drop(['POSTCODE'], axis=1)\n",
    "# NEAREST_SCH 드랍\n",
    "train = train.drop(['NEAREST_SCH'], axis=1)\n",
    "test = test.drop(['NEAREST_SCH'], axis=1)\n",
    "# NEAREST_SCH_DIST 드랍\n",
    "train = train.drop(['NEAREST_SCH_DIST'], axis=1)\n",
    "test = test.drop(['NEAREST_SCH_DIST'], axis=1)\n",
    "# NEAREST_SCH_RANK 드랍\n",
    "train = train.drop(['NEAREST_SCH_RANK'], axis=1)\n",
    "test = test.drop(['NEAREST_SCH_RANK'], axis=1)\n",
    "\n",
    "# GARAGE 결측치 처리\n",
    "train['GARAGE'] = train['GARAGE'].fillna(0)\n",
    "test['GARAGE'] = test['GARAGE'].fillna(0)\n",
    "train['GARAGE'].replace(99,2,inplace=True) # test에는 99없음\n",
    "\n",
    "\n",
    "# LAND_AREA 이상치 처리\n",
    "train['LAND_AREA'].replace(999999,692,inplace=True)\n",
    "train['LAND_AREA'].replace(983690,692,inplace=True)\n",
    "test['LAND_AREA'].replace(999999,692,inplace=True)\n",
    "test['LAND_AREA'].replace(983690,692,inplace=True)\n",
    "train['LAND_AREA'] = np.log(train['LAND_AREA'] + 1)\n",
    "test['LAND_AREA'] = np.log(test['LAND_AREA'] + 1)\n",
    "\n",
    "# DATE_SOLD 문자열 -> 정수형\n",
    "def split_m(row):\n",
    "    for i in range(train['DATE_SOLD'].size):\n",
    "        row = row[i][:7]\n",
    "        month, year = row.split('-')\n",
    "        return int(year+month)\n",
    "train['DATE_SOLD'] = train[['DATE_SOLD']].apply(split_m,axis=1)\n",
    "test['DATE_SOLD'] = test[['DATE_SOLD']].apply(split_m,axis=1)"
   ]
  },
  {
   "cell_type": "code",
   "execution_count": null,
   "id": "4d8a1a34",
   "metadata": {},
   "outputs": [],
   "source": [
    "train.info()"
   ]
  },
  {
   "cell_type": "code",
   "execution_count": null,
   "id": "6bae3da4",
   "metadata": {},
   "outputs": [],
   "source": [
    "test.info()"
   ]
  },
  {
   "cell_type": "code",
   "execution_count": null,
   "id": "b6cc2456",
   "metadata": {},
   "outputs": [],
   "source": [
    "train.shape, test.shape"
   ]
  },
  {
   "cell_type": "markdown",
   "id": "0f878f7e",
   "metadata": {},
   "source": [
    "# 특성 라벨 분리"
   ]
  },
  {
   "cell_type": "code",
   "execution_count": null,
   "id": "327064b8",
   "metadata": {},
   "outputs": [],
   "source": [
    "X_train = train.drop('PRICE',axis=1)\n",
    "y_train = train['PRICE']\n",
    "X_train.shape,y_train.shape"
   ]
  },
  {
   "cell_type": "code",
   "execution_count": null,
   "id": "33e12a3f",
   "metadata": {},
   "outputs": [],
   "source": [
    "test.shape"
   ]
  },
  {
   "cell_type": "markdown",
   "id": "5562226c",
   "metadata": {},
   "source": [
    "# 스케일링 전부 적용"
   ]
  },
  {
   "cell_type": "code",
   "execution_count": null,
   "id": "f6d16267",
   "metadata": {},
   "outputs": [],
   "source": [
    "from sklearn.preprocessing import StandardScaler"
   ]
  },
  {
   "cell_type": "code",
   "execution_count": null,
   "id": "d886ea9f",
   "metadata": {},
   "outputs": [],
   "source": [
    "# 스케일러 생성 (평균과 표준편차)\n",
    "std_scaler = StandardScaler()"
   ]
  },
  {
   "cell_type": "code",
   "execution_count": null,
   "id": "17f54f03",
   "metadata": {},
   "outputs": [],
   "source": [
    "# 기준값 생성 (평균,표준편차)\n",
    "# 항상 2차원으로 넣어야함(DataFrame 형태)\n",
    "std_scaler.fit(X_train)"
   ]
  },
  {
   "cell_type": "code",
   "execution_count": null,
   "id": "b750b410",
   "metadata": {},
   "outputs": [],
   "source": [
    "X_train_scale = std_scaler.transform(X_train)\n",
    "X_test_scale = std_scaler.transform(test)"
   ]
  },
  {
   "cell_type": "markdown",
   "id": "ca927d33",
   "metadata": {},
   "source": [
    "# 모델"
   ]
  },
  {
   "cell_type": "code",
   "execution_count": null,
   "id": "44f34372",
   "metadata": {},
   "outputs": [],
   "source": [
    "import math\n",
    "import time\n",
    "\n",
    "def code_s():\n",
    "    start = time.time()\n",
    "    math.factorial(100000)\n",
    "    end = time.time()\n",
    "    print(f\"{end - start:.5f} sec\")"
   ]
  },
  {
   "cell_type": "code",
   "execution_count": null,
   "id": "1fd81cea",
   "metadata": {},
   "outputs": [],
   "source": [
    "xgb = XGBRegressor(random_state=128,\n",
    "                   learning_rate=0.1,\n",
    "                   n_jobs=-1\n",
    "                  )"
   ]
  },
  {
   "cell_type": "code",
   "execution_count": null,
   "id": "8cbb32b1",
   "metadata": {},
   "outputs": [],
   "source": [
    "param_grid = {\n",
    "\"n_estimators\": range(100, 501, 100),\n",
    "\"max_depth\": range(1,6,1)\n",
    "}\n",
    "\n",
    "# return_train_score : 훈련 폴드(cv)의 점수를 받을지 여부를 설정\n",
    "# scoring : 분류 (accuracy, f1), 회귀 (neg_mean_squared_error, r2)\n",
    "# n_jobs : 병렬처리 수 (CPU 코어 수가 충분하다면 설정, 디폴트 1) - 내부적으로 멀티프로세스 동작 -> 속도 증가\n",
    "#grid_search = GridSearchCV(SVC(), param_grid, cv=5, return_train_score=True, scoring='f1_micro', n_jobs=2)\n",
    "grid_search = GridSearchCV(xgb, param_grid, cv=5)\n",
    "\n",
    "# grid_search.fit(X_train, y_train)"
   ]
  },
  {
   "cell_type": "code",
   "execution_count": null,
   "id": "38f77093",
   "metadata": {},
   "outputs": [],
   "source": [
    "# grid_search.best_score_"
   ]
  },
  {
   "cell_type": "code",
   "execution_count": null,
   "id": "f3bf0c87",
   "metadata": {},
   "outputs": [],
   "source": [
    "# grid_search.best_params_"
   ]
  },
  {
   "cell_type": "code",
   "execution_count": null,
   "id": "23e9dbf5",
   "metadata": {},
   "outputs": [],
   "source": [
    "xgb = XGBRegressor(random_state=128,\n",
    "                   n_jobs=-1,\n",
    "                   learning_rate=0.1,\n",
    "                   n_estimators=500,\n",
    "                   max_depth = 5\n",
    "                  )"
   ]
  },
  {
   "cell_type": "code",
   "execution_count": null,
   "id": "cc978615",
   "metadata": {},
   "outputs": [],
   "source": [
    "cros = cross_val_score(xgb,X_train_scale,y_train,cv=5)\n",
    "cros.mean()\n",
    "\n",
    "code_s()"
   ]
  },
  {
   "cell_type": "code",
   "execution_count": null,
   "id": "63688e99",
   "metadata": {},
   "outputs": [],
   "source": [
    "cros.mean()"
   ]
  },
  {
   "cell_type": "code",
   "execution_count": null,
   "id": "7a647325",
   "metadata": {},
   "outputs": [],
   "source": [
    "xgb.fit(X_train_scale,y_train)\n",
    "code_s()"
   ]
  },
  {
   "cell_type": "code",
   "execution_count": null,
   "id": "cc01efff",
   "metadata": {},
   "outputs": [],
   "source": [
    "pre = xgb.predict(X_test_scale)"
   ]
  },
  {
   "cell_type": "code",
   "execution_count": null,
   "id": "d8c83014",
   "metadata": {},
   "outputs": [],
   "source": [
    "submission[\"PRICE\"] = pre\n",
    "submission.to_csv('data/XGB_R_0723_R02.csv')"
   ]
  }
 ],
 "metadata": {
  "kernelspec": {
   "display_name": "Python 3 (ipykernel)",
   "language": "python",
   "name": "python3"
  },
  "language_info": {
   "codemirror_mode": {
    "name": "ipython",
    "version": 3
   },
   "file_extension": ".py",
   "mimetype": "text/x-python",
   "name": "python",
   "nbconvert_exporter": "python",
   "pygments_lexer": "ipython3",
   "version": "3.9.12"
  },
  "toc": {
   "base_numbering": 1,
   "nav_menu": {},
   "number_sections": true,
   "sideBar": true,
   "skip_h1_title": false,
   "title_cell": "Table of Contents",
   "title_sidebar": "Contents",
   "toc_cell": false,
   "toc_position": {
    "height": "calc(100% - 180px)",
    "left": "10px",
    "top": "150px",
    "width": "276px"
   },
   "toc_section_display": true,
   "toc_window_display": true
  }
 },
 "nbformat": 4,
 "nbformat_minor": 5
}
