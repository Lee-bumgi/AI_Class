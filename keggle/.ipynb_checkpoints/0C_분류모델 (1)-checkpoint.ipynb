{
 "cells": [
  {
   "cell_type": "code",
   "execution_count": 1,
   "id": "041f1734",
   "metadata": {},
   "outputs": [],
   "source": [
    "import pandas as pd\n",
    "import numpy as np\n",
    "import seaborn as sns\n",
    "import matplotlib.pyplot as plt\n",
    "\n",
    "from sklearn.neighbors import KNeighborsClassifier \n",
    "from sklearn.tree import DecisionTreeClassifier\n",
    "from sklearn.preprocessing import StandardScaler\n",
    "from sklearn.model_selection import train_test_split\n",
    "from sklearn.model_selection import cross_val_score\n",
    "\n",
    "from sklearn.ensemble import RandomForestClassifier\n",
    "from xgboost import XGBClassifier\n",
    "from sklearn.model_selection import GridSearchCV # CV -crossvalueation약자(교차검증약자)\n",
    "\n",
    "train = pd.read_csv(\"./data/train.csv\",index_col=\"no\")\n",
    "test = pd.read_csv(\"./data/test.csv\",index_col=\"no\")\n",
    "submission = pd.read_csv(\"./data/sample_submission.csv\",index_col=\"no\")\n",
    "\n",
    "\n",
    "\n",
    "def strip_title(row):\n",
    "    return row.strip()\n",
    "\n",
    "# train 공백제거\n",
    "# except pass 는 수치형나오면 오류나는거를 pass한것\n",
    "for i in range(len(train.columns)):\n",
    "    try:\n",
    "        train.iloc[:,i] = train.iloc[:,i].apply(strip_title)\n",
    "    except:\n",
    "        pass\n",
    "# test 공백제거\n",
    "for i in range(len(test.columns)):\n",
    "    try:\n",
    "        test.iloc[:,i] = test.iloc[:,i].apply(strip_title)\n",
    "    except:\n",
    "        pass\n",
    "    "
   ]
  },
  {
   "cell_type": "code",
   "execution_count": 2,
   "id": "52110694",
   "metadata": {},
   "outputs": [
    {
     "data": {
      "text/html": [
       "<div>\n",
       "<style scoped>\n",
       "    .dataframe tbody tr th:only-of-type {\n",
       "        vertical-align: middle;\n",
       "    }\n",
       "\n",
       "    .dataframe tbody tr th {\n",
       "        vertical-align: top;\n",
       "    }\n",
       "\n",
       "    .dataframe thead th {\n",
       "        text-align: right;\n",
       "    }\n",
       "</style>\n",
       "<table border=\"1\" class=\"dataframe\">\n",
       "  <thead>\n",
       "    <tr style=\"text-align: right;\">\n",
       "      <th></th>\n",
       "      <th>income</th>\n",
       "    </tr>\n",
       "    <tr>\n",
       "      <th>no</th>\n",
       "      <th></th>\n",
       "    </tr>\n",
       "  </thead>\n",
       "  <tbody>\n",
       "    <tr>\n",
       "      <th>29306</th>\n",
       "      <td>0</td>\n",
       "    </tr>\n",
       "    <tr>\n",
       "      <th>29307</th>\n",
       "      <td>0</td>\n",
       "    </tr>\n",
       "    <tr>\n",
       "      <th>29308</th>\n",
       "      <td>0</td>\n",
       "    </tr>\n",
       "    <tr>\n",
       "      <th>29309</th>\n",
       "      <td>0</td>\n",
       "    </tr>\n",
       "    <tr>\n",
       "      <th>29310</th>\n",
       "      <td>0</td>\n",
       "    </tr>\n",
       "  </tbody>\n",
       "</table>\n",
       "</div>"
      ],
      "text/plain": [
       "       income\n",
       "no           \n",
       "29306       0\n",
       "29307       0\n",
       "29308       0\n",
       "29309       0\n",
       "29310       0"
      ]
     },
     "execution_count": 2,
     "metadata": {},
     "output_type": "execute_result"
    }
   ],
   "source": [
    "submission.head()"
   ]
  },
  {
   "cell_type": "code",
   "execution_count": 3,
   "id": "3bbc5b23",
   "metadata": {},
   "outputs": [],
   "source": [
    "# ?을 other로 변환\n",
    "train['occupation'] = train['occupation'].replace('?','other')\n",
    "train['workclass'] = train['workclass'].replace('?','other')\n",
    "train['native-country'] = train['native-country'].replace('?','United-States')\n",
    "\n",
    "# ?을 other로 변환\n",
    "test['occupation'] = test['occupation'].replace('?','other')\n",
    "test['workclass'] = test['workclass'].replace('?','other')\n",
    "test['native-country'] = test['native-country'].replace('?','United-States')"
   ]
  },
  {
   "cell_type": "markdown",
   "id": "fac731cd",
   "metadata": {},
   "source": [
    "# 맵핑"
   ]
  },
  {
   "cell_type": "markdown",
   "id": "555e1fb3",
   "metadata": {},
   "source": [
    "## 맵핑 dic"
   ]
  },
  {
   "cell_type": "markdown",
   "id": "3b4e8ccf",
   "metadata": {},
   "source": [
    "### workclass"
   ]
  },
  {
   "cell_type": "code",
   "execution_count": 4,
   "id": "33dd640b",
   "metadata": {},
   "outputs": [],
   "source": [
    "# workclass\n",
    "w_dic = {\n",
    "'Private': 'Private', \n",
    "'Self-emp-not-inc': 'Self-emp-not-inc', \n",
    "'Local-gov': 'gov', \n",
    "'other': 'other',\n",
    "'State-gov':'gov' ,\n",
    "'Self-emp-inc':'Self-emp-inc' ,\n",
    "'Federal-gov':'gov' ,\n",
    "'Without-pay': 'Private',\n",
    "'Never-worked': 'Private'\n",
    "}\n",
    "train['workclass'] = train['workclass'].map(w_dic)\n",
    "test['workclass'] = test['workclass'].map(w_dic)"
   ]
  },
  {
   "cell_type": "markdown",
   "id": "dbb79571",
   "metadata": {},
   "source": [
    "### education-num"
   ]
  },
  {
   "cell_type": "code",
   "execution_count": 5,
   "id": "495c7717",
   "metadata": {},
   "outputs": [],
   "source": [
    "# education-num\n",
    "en_dic={\n",
    "    1 : 1,\n",
    "    2: 1,\n",
    "    3: 1,\n",
    "    4: 1,\n",
    "    5: 1,\n",
    "    6: 1,\n",
    "    7: 1,\n",
    "    8: 1,\n",
    "    9: 2,\n",
    "    10: 2,\n",
    "    11:3,\n",
    "    12:3,\n",
    "    13:3,\n",
    "    14:4,\n",
    "    15:4,\n",
    "    16:4\n",
    "}\n",
    "train['education-num_label'] = train['education-num'].map(en_dic)\n",
    "test['education-num_label'] = test['education-num'].map(en_dic)"
   ]
  },
  {
   "cell_type": "markdown",
   "id": "2cb8980f",
   "metadata": {},
   "source": [
    "### marital-status"
   ]
  },
  {
   "cell_type": "code",
   "execution_count": 6,
   "id": "848d41db",
   "metadata": {},
   "outputs": [],
   "source": [
    "\n",
    "ms_dic = {\n",
    "'Divorced':'Divorced',\n",
    "'Never-married':'Never-married',\n",
    "'Married-civ-spouse':'Married-civ-spouse',\n",
    "'Separated': 'Other',\n",
    "'Married-spouse-absent':'Other',\n",
    "'Widowed':'Other',\n",
    "'Married-AF-spouse':'Other'\n",
    "}\n",
    "train['marital-status']=train['marital-status'].map(ms_dic)\n",
    "test['marital-status']=test['marital-status'].map(ms_dic)"
   ]
  },
  {
   "cell_type": "markdown",
   "id": "be286e22",
   "metadata": {},
   "source": [
    "### occupation"
   ]
  },
  {
   "cell_type": "code",
   "execution_count": 7,
   "id": "eecda73d",
   "metadata": {},
   "outputs": [],
   "source": [
    "oc_dic={\n",
    "'Machine-op-inspct': 'a',\n",
    "'Other-service':'b',\n",
    "'Handlers-cleaners':'b',\n",
    "'Tech-support':'c',\n",
    "'Transport-moving':'d',\n",
    "'Farming-fishing':'e',\n",
    "'Prof-specialty':'f',\n",
    "'Priv-house-serv':'b',\n",
    "'Adm-clerical':'a',\n",
    "'Protective-serv':'c',\n",
    " 'Exec-managerial':'f',\n",
    " '?':'e',\n",
    " 'Craft-repair':'d',\n",
    " 'Sales':'c',\n",
    " 'Armed-Forces':'c'\n",
    "}\n",
    "train['occupation']=train['occupation'].map(oc_dic)\n",
    "test['occupation']=test['occupation'].map(oc_dic)"
   ]
  },
  {
   "cell_type": "markdown",
   "id": "8658193a",
   "metadata": {},
   "source": [
    "### relationship"
   ]
  },
  {
   "cell_type": "code",
   "execution_count": 8,
   "id": "225b44c6",
   "metadata": {},
   "outputs": [],
   "source": [
    "\n",
    "re_dic={\n",
    "'Not-in-family':'Not-in-family',\n",
    "'Husband':'Husband',\n",
    "'Unmarried':'m',\n",
    "'Other-relative':'m',\n",
    "'Own-child':'m',\n",
    "'Wife':'Wife'\n",
    "}\n",
    "train['relationship']=train['relationship'].map(re_dic)\n",
    "test['relationship']=test['relationship'].map(re_dic)"
   ]
  },
  {
   "cell_type": "markdown",
   "id": "68ff97b6",
   "metadata": {},
   "source": [
    "### race"
   ]
  },
  {
   "cell_type": "code",
   "execution_count": 9,
   "id": "7445f792",
   "metadata": {},
   "outputs": [],
   "source": [
    "# race\n",
    "\n",
    "ra_dic = {\n",
    "    'White': 'White',\n",
    "    'Black' : 'Black',\n",
    "    'Asian-Pac-Islander':'other',\n",
    "    'Amer-Indian-Eskimo': 'other',\n",
    "    'Other' : 'other'\n",
    "}\n",
    "train['race']=train['race'].map(ra_dic)\n",
    "test['race']=test['race'].map(ra_dic)"
   ]
  },
  {
   "cell_type": "markdown",
   "id": "d35bfe5b",
   "metadata": {},
   "source": [
    "### native-country"
   ]
  },
  {
   "cell_type": "code",
   "execution_count": 10,
   "id": "9cea759a",
   "metadata": {},
   "outputs": [],
   "source": [
    "# native-country\n",
    "\n",
    "train['native-country'] = train['native-country'].map({'United-States':'United-States'})\n",
    "train['native-country'].fillna(\"other-country\",inplace=True)\n",
    "test['native-country'] = test['native-country'].map({'United-States':'United-States'})\n",
    "test['native-country'].fillna(\"other-country\",inplace=True)"
   ]
  },
  {
   "cell_type": "markdown",
   "id": "261bcd2e",
   "metadata": {},
   "source": [
    "# 스케일링"
   ]
  },
  {
   "cell_type": "code",
   "execution_count": 11,
   "id": "8ca22354",
   "metadata": {},
   "outputs": [],
   "source": [
    "from sklearn.preprocessing import StandardScaler\n",
    "# 스케일러 생성 (평균과 표준편차)\n",
    "std_scaler = StandardScaler()\n",
    "# 기준값 생성 (평균,표준편차)"
   ]
  },
  {
   "cell_type": "markdown",
   "id": "88209237",
   "metadata": {},
   "source": [
    "## fnlwgt"
   ]
  },
  {
   "cell_type": "code",
   "execution_count": 12,
   "id": "feb48d94",
   "metadata": {},
   "outputs": [],
   "source": [
    "# 항상 2차원으로 넣어야함(DataFrame 형태)\n",
    "std_scaler.fit(train[[\"fnlwgt\"]])\n",
    "# 데이터변형\n",
    "scaled_fnlwgt_train = std_scaler.transform(train[[\"fnlwgt\"]])\n",
    "scaled_fnlwgt_test = std_scaler.transform(test[[\"fnlwgt\"]])\n",
    "train['scaled_fnlwgt']=scaled_fnlwgt_train\n",
    "test['scaled_fnlwgt']=scaled_fnlwgt_test"
   ]
  },
  {
   "cell_type": "markdown",
   "id": "e2b154f8",
   "metadata": {},
   "source": [
    "# CUT 수치->범주"
   ]
  },
  {
   "cell_type": "markdown",
   "id": "2ea9a2aa",
   "metadata": {},
   "source": [
    "## age"
   ]
  },
  {
   "cell_type": "code",
   "execution_count": 13,
   "id": "713d99ef",
   "metadata": {},
   "outputs": [],
   "source": [
    "# bins = [0,20,40,60,80,100]\n",
    "# # 데이터를 잘라낼 구간정보 설정 -1~0 1구간,(0+1)~3 2구간 (3+1)~20 3구간\n",
    "# labels = [\"1\",\"2\",\"3\",'4','5'] # 구간별 범주 이름\n",
    "# cut_result_train = pd.cut(x=train['age'], # 구간화할 데이터 설정\n",
    "#                    bins=bins, # 잘라낼 구간정보 설정\n",
    "#                    labels=labels) # 구간별 범주 이름 설정\n",
    "\n",
    "# cut_result_test = pd.cut(x=test['age'], # 구간화할 데이터 설정\n",
    "#                    bins=bins, # 잘라낼 구간정보 설정\n",
    "#                    labels=labels) # 구간별 범주 이름 설정\n",
    "\n",
    "\n",
    "# train['age_b']=cut_result_train.astype('int')\n",
    "# test['age_b']=cut_result_test.astype('int')\n"
   ]
  },
  {
   "cell_type": "code",
   "execution_count": 14,
   "id": "8ead5fb2",
   "metadata": {},
   "outputs": [],
   "source": [
    "# train['age_b']"
   ]
  },
  {
   "cell_type": "markdown",
   "id": "6362aa5f",
   "metadata": {},
   "source": [
    "# 인코딩전 드랍"
   ]
  },
  {
   "cell_type": "code",
   "execution_count": 15,
   "id": "4a14dff9",
   "metadata": {},
   "outputs": [],
   "source": [
    "## fnlwgt -> 스케일정규화 후 컬럼추가 scaled_fnlwgt\n",
    "train.drop('fnlwgt',axis=1,inplace=True)\n",
    "test.drop('fnlwgt',axis=1,inplace=True)\n",
    "\n",
    "# train.drop('scaled_fnlwgt',axis=1,inplace=True)\n",
    "# test.drop('scaled_fnlwgt',axis=1,inplace=True)\n",
    "\n",
    "# train.drop('capital-gain',axis=1,inplace=True)\n",
    "# test.drop('capital-gain',axis=1,inplace=True)\n",
    "\n",
    "# train.drop('capital-loss',axis=1,inplace=True)\n",
    "# test.drop('capital-loss',axis=1,inplace=True)\n",
    "\n",
    "## education 과 상관관계가 높아서 드랍\n",
    "train.drop('education',axis=1,inplace=True)\n",
    "test.drop('education',axis=1,inplace=True)\n",
    "\n",
    "## education-num -> 구간별 합친후 education-num_label\n",
    "# train.drop('education-num',axis=1,inplace=True)\n",
    "# test.drop('education-num',axis=1,inplace=True)\n",
    "\n",
    "## age -> cut 함수 이용후 수치->범주 age_b\n",
    "# train.drop('age',axis=1,inplace=True)\n",
    "# test.drop('age',axis=1,inplace=True)"
   ]
  },
  {
   "cell_type": "code",
   "execution_count": 16,
   "id": "03910caa",
   "metadata": {
    "scrolled": true
   },
   "outputs": [
    {
     "data": {
      "text/html": [
       "<div>\n",
       "<style scoped>\n",
       "    .dataframe tbody tr th:only-of-type {\n",
       "        vertical-align: middle;\n",
       "    }\n",
       "\n",
       "    .dataframe tbody tr th {\n",
       "        vertical-align: top;\n",
       "    }\n",
       "\n",
       "    .dataframe thead th {\n",
       "        text-align: right;\n",
       "    }\n",
       "</style>\n",
       "<table border=\"1\" class=\"dataframe\">\n",
       "  <thead>\n",
       "    <tr style=\"text-align: right;\">\n",
       "      <th></th>\n",
       "      <th>age</th>\n",
       "      <th>workclass</th>\n",
       "      <th>education-num</th>\n",
       "      <th>marital-status</th>\n",
       "      <th>occupation</th>\n",
       "      <th>relationship</th>\n",
       "      <th>race</th>\n",
       "      <th>sex</th>\n",
       "      <th>capital-gain</th>\n",
       "      <th>capital-loss</th>\n",
       "      <th>hours-per-week</th>\n",
       "      <th>native-country</th>\n",
       "      <th>income</th>\n",
       "      <th>education-num_label</th>\n",
       "      <th>scaled_fnlwgt</th>\n",
       "    </tr>\n",
       "    <tr>\n",
       "      <th>no</th>\n",
       "      <th></th>\n",
       "      <th></th>\n",
       "      <th></th>\n",
       "      <th></th>\n",
       "      <th></th>\n",
       "      <th></th>\n",
       "      <th></th>\n",
       "      <th></th>\n",
       "      <th></th>\n",
       "      <th></th>\n",
       "      <th></th>\n",
       "      <th></th>\n",
       "      <th></th>\n",
       "      <th></th>\n",
       "      <th></th>\n",
       "    </tr>\n",
       "  </thead>\n",
       "  <tbody>\n",
       "    <tr>\n",
       "      <th>1</th>\n",
       "      <td>25</td>\n",
       "      <td>Private</td>\n",
       "      <td>7</td>\n",
       "      <td>Divorced</td>\n",
       "      <td>a</td>\n",
       "      <td>Not-in-family</td>\n",
       "      <td>White</td>\n",
       "      <td>Male</td>\n",
       "      <td>0</td>\n",
       "      <td>0</td>\n",
       "      <td>40</td>\n",
       "      <td>United-States</td>\n",
       "      <td>0</td>\n",
       "      <td>1</td>\n",
       "      <td>0.278922</td>\n",
       "    </tr>\n",
       "    <tr>\n",
       "      <th>2</th>\n",
       "      <td>39</td>\n",
       "      <td>Private</td>\n",
       "      <td>10</td>\n",
       "      <td>Divorced</td>\n",
       "      <td>b</td>\n",
       "      <td>Not-in-family</td>\n",
       "      <td>White</td>\n",
       "      <td>Female</td>\n",
       "      <td>0</td>\n",
       "      <td>1721</td>\n",
       "      <td>55</td>\n",
       "      <td>United-States</td>\n",
       "      <td>0</td>\n",
       "      <td>2</td>\n",
       "      <td>-1.294649</td>\n",
       "    </tr>\n",
       "    <tr>\n",
       "      <th>3</th>\n",
       "      <td>35</td>\n",
       "      <td>Private</td>\n",
       "      <td>13</td>\n",
       "      <td>Never-married</td>\n",
       "      <td>b</td>\n",
       "      <td>Not-in-family</td>\n",
       "      <td>other</td>\n",
       "      <td>Female</td>\n",
       "      <td>0</td>\n",
       "      <td>0</td>\n",
       "      <td>50</td>\n",
       "      <td>other-country</td>\n",
       "      <td>0</td>\n",
       "      <td>3</td>\n",
       "      <td>0.067813</td>\n",
       "    </tr>\n",
       "    <tr>\n",
       "      <th>4</th>\n",
       "      <td>64</td>\n",
       "      <td>Private</td>\n",
       "      <td>11</td>\n",
       "      <td>Divorced</td>\n",
       "      <td>c</td>\n",
       "      <td>Not-in-family</td>\n",
       "      <td>White</td>\n",
       "      <td>Female</td>\n",
       "      <td>0</td>\n",
       "      <td>0</td>\n",
       "      <td>40</td>\n",
       "      <td>United-States</td>\n",
       "      <td>0</td>\n",
       "      <td>3</td>\n",
       "      <td>-0.513179</td>\n",
       "    </tr>\n",
       "    <tr>\n",
       "      <th>5</th>\n",
       "      <td>24</td>\n",
       "      <td>Private</td>\n",
       "      <td>10</td>\n",
       "      <td>Married-civ-spouse</td>\n",
       "      <td>d</td>\n",
       "      <td>Husband</td>\n",
       "      <td>White</td>\n",
       "      <td>Male</td>\n",
       "      <td>0</td>\n",
       "      <td>0</td>\n",
       "      <td>70</td>\n",
       "      <td>United-States</td>\n",
       "      <td>1</td>\n",
       "      <td>2</td>\n",
       "      <td>-1.220761</td>\n",
       "    </tr>\n",
       "  </tbody>\n",
       "</table>\n",
       "</div>"
      ],
      "text/plain": [
       "    age workclass  education-num      marital-status occupation  \\\n",
       "no                                                                \n",
       "1    25   Private              7            Divorced          a   \n",
       "2    39   Private             10            Divorced          b   \n",
       "3    35   Private             13       Never-married          b   \n",
       "4    64   Private             11            Divorced          c   \n",
       "5    24   Private             10  Married-civ-spouse          d   \n",
       "\n",
       "     relationship   race     sex  capital-gain  capital-loss  hours-per-week  \\\n",
       "no                                                                             \n",
       "1   Not-in-family  White    Male             0             0              40   \n",
       "2   Not-in-family  White  Female             0          1721              55   \n",
       "3   Not-in-family  other  Female             0             0              50   \n",
       "4   Not-in-family  White  Female             0             0              40   \n",
       "5         Husband  White    Male             0             0              70   \n",
       "\n",
       "   native-country  income  education-num_label  scaled_fnlwgt  \n",
       "no                                                             \n",
       "1   United-States       0                    1       0.278922  \n",
       "2   United-States       0                    2      -1.294649  \n",
       "3   other-country       0                    3       0.067813  \n",
       "4   United-States       0                    3      -0.513179  \n",
       "5   United-States       1                    2      -1.220761  "
      ]
     },
     "execution_count": 16,
     "metadata": {},
     "output_type": "execute_result"
    }
   ],
   "source": [
    "train.head()"
   ]
  },
  {
   "cell_type": "code",
   "execution_count": 17,
   "id": "c6d343f5",
   "metadata": {},
   "outputs": [
    {
     "data": {
      "text/html": [
       "<div>\n",
       "<style scoped>\n",
       "    .dataframe tbody tr th:only-of-type {\n",
       "        vertical-align: middle;\n",
       "    }\n",
       "\n",
       "    .dataframe tbody tr th {\n",
       "        vertical-align: top;\n",
       "    }\n",
       "\n",
       "    .dataframe thead th {\n",
       "        text-align: right;\n",
       "    }\n",
       "</style>\n",
       "<table border=\"1\" class=\"dataframe\">\n",
       "  <thead>\n",
       "    <tr style=\"text-align: right;\">\n",
       "      <th></th>\n",
       "      <th>age</th>\n",
       "      <th>workclass</th>\n",
       "      <th>education-num</th>\n",
       "      <th>marital-status</th>\n",
       "      <th>occupation</th>\n",
       "      <th>relationship</th>\n",
       "      <th>race</th>\n",
       "      <th>sex</th>\n",
       "      <th>capital-gain</th>\n",
       "      <th>capital-loss</th>\n",
       "      <th>hours-per-week</th>\n",
       "      <th>native-country</th>\n",
       "      <th>education-num_label</th>\n",
       "      <th>scaled_fnlwgt</th>\n",
       "    </tr>\n",
       "    <tr>\n",
       "      <th>no</th>\n",
       "      <th></th>\n",
       "      <th></th>\n",
       "      <th></th>\n",
       "      <th></th>\n",
       "      <th></th>\n",
       "      <th></th>\n",
       "      <th></th>\n",
       "      <th></th>\n",
       "      <th></th>\n",
       "      <th></th>\n",
       "      <th></th>\n",
       "      <th></th>\n",
       "      <th></th>\n",
       "      <th></th>\n",
       "    </tr>\n",
       "  </thead>\n",
       "  <tbody>\n",
       "    <tr>\n",
       "      <th>29306</th>\n",
       "      <td>18</td>\n",
       "      <td>other</td>\n",
       "      <td>10</td>\n",
       "      <td>Never-married</td>\n",
       "      <td>NaN</td>\n",
       "      <td>m</td>\n",
       "      <td>White</td>\n",
       "      <td>Male</td>\n",
       "      <td>0</td>\n",
       "      <td>0</td>\n",
       "      <td>16</td>\n",
       "      <td>United-States</td>\n",
       "      <td>2</td>\n",
       "      <td>0.525767</td>\n",
       "    </tr>\n",
       "    <tr>\n",
       "      <th>29307</th>\n",
       "      <td>29</td>\n",
       "      <td>Private</td>\n",
       "      <td>9</td>\n",
       "      <td>Married-civ-spouse</td>\n",
       "      <td>b</td>\n",
       "      <td>Wife</td>\n",
       "      <td>White</td>\n",
       "      <td>Female</td>\n",
       "      <td>0</td>\n",
       "      <td>0</td>\n",
       "      <td>40</td>\n",
       "      <td>United-States</td>\n",
       "      <td>2</td>\n",
       "      <td>-1.010410</td>\n",
       "    </tr>\n",
       "    <tr>\n",
       "      <th>29308</th>\n",
       "      <td>45</td>\n",
       "      <td>Private</td>\n",
       "      <td>13</td>\n",
       "      <td>Married-civ-spouse</td>\n",
       "      <td>c</td>\n",
       "      <td>Husband</td>\n",
       "      <td>Black</td>\n",
       "      <td>Male</td>\n",
       "      <td>0</td>\n",
       "      <td>0</td>\n",
       "      <td>40</td>\n",
       "      <td>United-States</td>\n",
       "      <td>3</td>\n",
       "      <td>-1.463555</td>\n",
       "    </tr>\n",
       "    <tr>\n",
       "      <th>29309</th>\n",
       "      <td>42</td>\n",
       "      <td>Self-emp-not-inc</td>\n",
       "      <td>13</td>\n",
       "      <td>Married-civ-spouse</td>\n",
       "      <td>f</td>\n",
       "      <td>Husband</td>\n",
       "      <td>White</td>\n",
       "      <td>Male</td>\n",
       "      <td>0</td>\n",
       "      <td>0</td>\n",
       "      <td>40</td>\n",
       "      <td>United-States</td>\n",
       "      <td>3</td>\n",
       "      <td>-1.184333</td>\n",
       "    </tr>\n",
       "    <tr>\n",
       "      <th>29310</th>\n",
       "      <td>41</td>\n",
       "      <td>Private</td>\n",
       "      <td>16</td>\n",
       "      <td>Married-civ-spouse</td>\n",
       "      <td>f</td>\n",
       "      <td>Wife</td>\n",
       "      <td>White</td>\n",
       "      <td>Female</td>\n",
       "      <td>0</td>\n",
       "      <td>1902</td>\n",
       "      <td>40</td>\n",
       "      <td>United-States</td>\n",
       "      <td>4</td>\n",
       "      <td>0.057608</td>\n",
       "    </tr>\n",
       "  </tbody>\n",
       "</table>\n",
       "</div>"
      ],
      "text/plain": [
       "       age         workclass  education-num      marital-status occupation  \\\n",
       "no                                                                           \n",
       "29306   18             other             10       Never-married        NaN   \n",
       "29307   29           Private              9  Married-civ-spouse          b   \n",
       "29308   45           Private             13  Married-civ-spouse          c   \n",
       "29309   42  Self-emp-not-inc             13  Married-civ-spouse          f   \n",
       "29310   41           Private             16  Married-civ-spouse          f   \n",
       "\n",
       "      relationship   race     sex  capital-gain  capital-loss  hours-per-week  \\\n",
       "no                                                                              \n",
       "29306            m  White    Male             0             0              16   \n",
       "29307         Wife  White  Female             0             0              40   \n",
       "29308      Husband  Black    Male             0             0              40   \n",
       "29309      Husband  White    Male             0             0              40   \n",
       "29310         Wife  White  Female             0          1902              40   \n",
       "\n",
       "      native-country  education-num_label  scaled_fnlwgt  \n",
       "no                                                        \n",
       "29306  United-States                    2       0.525767  \n",
       "29307  United-States                    2      -1.010410  \n",
       "29308  United-States                    3      -1.463555  \n",
       "29309  United-States                    3      -1.184333  \n",
       "29310  United-States                    4       0.057608  "
      ]
     },
     "execution_count": 17,
     "metadata": {},
     "output_type": "execute_result"
    }
   ],
   "source": [
    "test.head()"
   ]
  },
  {
   "cell_type": "code",
   "execution_count": 18,
   "id": "fe5df3ed",
   "metadata": {},
   "outputs": [
    {
     "data": {
      "text/plain": [
       "Index(['age', 'workclass', 'education-num', 'marital-status', 'occupation',\n",
       "       'relationship', 'race', 'sex', 'capital-gain', 'capital-loss',\n",
       "       'hours-per-week', 'native-country', 'income', 'education-num_label',\n",
       "       'scaled_fnlwgt'],\n",
       "      dtype='object')"
      ]
     },
     "execution_count": 18,
     "metadata": {},
     "output_type": "execute_result"
    }
   ],
   "source": [
    "train.columns"
   ]
  },
  {
   "cell_type": "code",
   "execution_count": 19,
   "id": "184224f4",
   "metadata": {},
   "outputs": [
    {
     "data": {
      "text/plain": [
       "Index(['age', 'workclass', 'education-num', 'marital-status', 'occupation',\n",
       "       'relationship', 'race', 'sex', 'capital-gain', 'capital-loss',\n",
       "       'hours-per-week', 'native-country', 'education-num_label',\n",
       "       'scaled_fnlwgt'],\n",
       "      dtype='object')"
      ]
     },
     "execution_count": 19,
     "metadata": {},
     "output_type": "execute_result"
    }
   ],
   "source": [
    "test.columns"
   ]
  },
  {
   "cell_type": "code",
   "execution_count": 20,
   "id": "89eeae49",
   "metadata": {},
   "outputs": [
    {
     "data": {
      "text/plain": [
       "{'income'}"
      ]
     },
     "execution_count": 20,
     "metadata": {},
     "output_type": "execute_result"
    }
   ],
   "source": [
    "set(train.columns)-set(test.columns)"
   ]
  },
  {
   "cell_type": "code",
   "execution_count": 21,
   "id": "c3cb7de9",
   "metadata": {
    "scrolled": true
   },
   "outputs": [
    {
     "name": "stdout",
     "output_type": "stream",
     "text": [
      "<class 'pandas.core.frame.DataFrame'>\n",
      "Int64Index: 29305 entries, 1 to 29305\n",
      "Data columns (total 15 columns):\n",
      " #   Column               Non-Null Count  Dtype  \n",
      "---  ------               --------------  -----  \n",
      " 0   age                  29305 non-null  int64  \n",
      " 1   workclass            29305 non-null  object \n",
      " 2   education-num        29305 non-null  int64  \n",
      " 3   marital-status       29305 non-null  object \n",
      " 4   occupation           27637 non-null  object \n",
      " 5   relationship         29305 non-null  object \n",
      " 6   race                 29305 non-null  object \n",
      " 7   sex                  29305 non-null  object \n",
      " 8   capital-gain         29305 non-null  int64  \n",
      " 9   capital-loss         29305 non-null  int64  \n",
      " 10  hours-per-week       29305 non-null  int64  \n",
      " 11  native-country       29305 non-null  object \n",
      " 12  income               29305 non-null  int64  \n",
      " 13  education-num_label  29305 non-null  int64  \n",
      " 14  scaled_fnlwgt        29305 non-null  float64\n",
      "dtypes: float64(1), int64(7), object(7)\n",
      "memory usage: 3.6+ MB\n"
     ]
    }
   ],
   "source": [
    "train.info()"
   ]
  },
  {
   "cell_type": "code",
   "execution_count": 22,
   "id": "82ba3a63",
   "metadata": {},
   "outputs": [
    {
     "data": {
      "text/plain": [
       "Index(['workclass', 'marital-status', 'occupation', 'relationship', 'race',\n",
       "       'sex', 'native-country'],\n",
       "      dtype='object')"
      ]
     },
     "execution_count": 22,
     "metadata": {},
     "output_type": "execute_result"
    }
   ],
   "source": [
    "train.select_dtypes(object).columns"
   ]
  },
  {
   "cell_type": "markdown",
   "id": "3276455f",
   "metadata": {},
   "source": [
    "# 인코딩"
   ]
  },
  {
   "cell_type": "code",
   "execution_count": 23,
   "id": "47132ea2",
   "metadata": {},
   "outputs": [
    {
     "name": "stdout",
     "output_type": "stream",
     "text": [
      "<class 'pandas.core.frame.DataFrame'>\n",
      "Int64Index: 29305 entries, 1 to 29305\n",
      "Data columns (total 15 columns):\n",
      " #   Column               Non-Null Count  Dtype  \n",
      "---  ------               --------------  -----  \n",
      " 0   age                  29305 non-null  int64  \n",
      " 1   workclass            29305 non-null  object \n",
      " 2   education-num        29305 non-null  int64  \n",
      " 3   marital-status       29305 non-null  object \n",
      " 4   occupation           27637 non-null  object \n",
      " 5   relationship         29305 non-null  object \n",
      " 6   race                 29305 non-null  object \n",
      " 7   sex                  29305 non-null  object \n",
      " 8   capital-gain         29305 non-null  int64  \n",
      " 9   capital-loss         29305 non-null  int64  \n",
      " 10  hours-per-week       29305 non-null  int64  \n",
      " 11  native-country       29305 non-null  object \n",
      " 12  income               29305 non-null  int64  \n",
      " 13  education-num_label  29305 non-null  int64  \n",
      " 14  scaled_fnlwgt        29305 non-null  float64\n",
      "dtypes: float64(1), int64(7), object(7)\n",
      "memory usage: 3.6+ MB\n"
     ]
    }
   ],
   "source": [
    "train.info()"
   ]
  },
  {
   "cell_type": "code",
   "execution_count": 24,
   "id": "45e35d7c",
   "metadata": {},
   "outputs": [
    {
     "data": {
      "text/plain": [
       "Index(['workclass', 'marital-status', 'occupation', 'relationship', 'race',\n",
       "       'sex', 'native-country'],\n",
       "      dtype='object')"
      ]
     },
     "execution_count": 24,
     "metadata": {},
     "output_type": "execute_result"
    }
   ],
   "source": [
    "# object 컬럼만 가져오기\n",
    "train.select_dtypes(object).columns"
   ]
  },
  {
   "cell_type": "code",
   "execution_count": 25,
   "id": "b0c31feb",
   "metadata": {},
   "outputs": [],
   "source": [
    "# categorical_features = [\"workclass\",\"marital-status\",\"occupation\",\"relationship\",\"race\",'sex','native-country']\n",
    "categorical_features = train.select_dtypes(object).columns"
   ]
  },
  {
   "cell_type": "code",
   "execution_count": 26,
   "id": "119e75e2",
   "metadata": {},
   "outputs": [],
   "source": [
    "# 반복문으로 인코딩하기\n",
    "for feature_name in categorical_features :\n",
    "    one_hot = pd.get_dummies(train[feature_name], prefix=feature_name) \n",
    "    # prefix : 컬럼명 앞에 라벨(똑같은 클래스가 있으면 중복되기때문)\n",
    "    train = pd.concat([train,one_hot],axis=1) # 기존 데이터 끝에 one_hot을 붙임\n",
    "    train.drop(feature_name,axis=1,inplace=True) # 기존 글자컬럼을 삭제"
   ]
  },
  {
   "cell_type": "code",
   "execution_count": 27,
   "id": "f2d9cc3d",
   "metadata": {},
   "outputs": [],
   "source": [
    "# test 도 똑같이적용\n",
    "for feature_name in categorical_features :\n",
    "    one_hot = pd.get_dummies(test[feature_name], prefix=feature_name) \n",
    "    # prefix : 컬럼명 앞에 라벨(똑같은 클래스가 있으면 중복되기때문)\n",
    "    test = pd.concat([test,one_hot],axis=1) # 기존 데이터 끝에 one_hot을 붙임\n",
    "    test.drop(feature_name,axis=1,inplace=True) # 기존 글자컬럼을 삭제"
   ]
  },
  {
   "cell_type": "code",
   "execution_count": 28,
   "id": "dd21bca9",
   "metadata": {},
   "outputs": [
    {
     "data": {
      "text/plain": [
       "Index(['age', 'education-num', 'capital-gain', 'capital-loss',\n",
       "       'hours-per-week', 'income', 'education-num_label', 'scaled_fnlwgt',\n",
       "       'workclass_Private', 'workclass_Self-emp-inc',\n",
       "       'workclass_Self-emp-not-inc', 'workclass_gov', 'workclass_other',\n",
       "       'marital-status_Divorced', 'marital-status_Married-civ-spouse',\n",
       "       'marital-status_Never-married', 'marital-status_Other', 'occupation_a',\n",
       "       'occupation_b', 'occupation_c', 'occupation_d', 'occupation_e',\n",
       "       'occupation_f', 'relationship_Husband', 'relationship_Not-in-family',\n",
       "       'relationship_Wife', 'relationship_m', 'race_Black', 'race_White',\n",
       "       'race_other', 'sex_Female', 'sex_Male', 'native-country_United-States',\n",
       "       'native-country_other-country'],\n",
       "      dtype='object')"
      ]
     },
     "execution_count": 28,
     "metadata": {},
     "output_type": "execute_result"
    }
   ],
   "source": [
    "train.columns"
   ]
  },
  {
   "cell_type": "code",
   "execution_count": 29,
   "id": "fd199453",
   "metadata": {},
   "outputs": [
    {
     "data": {
      "text/plain": [
       "((29305, 34), (19537, 33))"
      ]
     },
     "execution_count": 29,
     "metadata": {},
     "output_type": "execute_result"
    }
   ],
   "source": [
    "train.shape, test.shape"
   ]
  },
  {
   "cell_type": "markdown",
   "id": "ea28c049",
   "metadata": {},
   "source": [
    "# 인코딩 후 드랍"
   ]
  },
  {
   "cell_type": "code",
   "execution_count": 30,
   "id": "c0caca57",
   "metadata": {},
   "outputs": [],
   "source": [
    "train.drop('workclass_other',axis=1,inplace=True)\n",
    "test.drop('workclass_other',axis=1,inplace=True)"
   ]
  },
  {
   "cell_type": "markdown",
   "id": "ae3da35c",
   "metadata": {},
   "source": [
    "# 특성 라벨 분리"
   ]
  },
  {
   "cell_type": "code",
   "execution_count": 31,
   "id": "82276b72",
   "metadata": {},
   "outputs": [],
   "source": [
    "X_train = train.drop(\"income\",axis=1)\n",
    "y_train = train['income']"
   ]
  },
  {
   "cell_type": "code",
   "execution_count": 32,
   "id": "96a8be8e",
   "metadata": {},
   "outputs": [
    {
     "data": {
      "text/plain": [
       "((29305, 32), (29305,))"
      ]
     },
     "execution_count": 32,
     "metadata": {},
     "output_type": "execute_result"
    }
   ],
   "source": [
    "X_train.shape, y_train.shape"
   ]
  },
  {
   "cell_type": "markdown",
   "id": "f91a3da1",
   "metadata": {},
   "source": [
    "# 앙상블 랜덤포레스트"
   ]
  },
  {
   "cell_type": "code",
   "execution_count": 33,
   "id": "0e7040a9",
   "metadata": {},
   "outputs": [],
   "source": [
    "# 0.8609793550588638\n",
    "\n",
    "# rf_model = RandomForestClassifier(n_estimators=200, # 배깅할 모델 갯수\n",
    "#                                   max_features=0.7, # 각 모델이 랜덤하게 사용할 특성수(비율),만약 너무 높다면 다양한 의견이 줄어들수있음\n",
    "#                                   max_depth=15, # 각 모델의 최대 깊이(기본 DecisionTree에서 사용되는 파라미터를 다 사용가능)\n",
    "#                                   min_samples_leaf=20,\n",
    "#                                   random_state=721 #난수고정\n",
    "#                                  )\n",
    "# # 앙상블 모델은 파라미터를 전부 고려해서 튜닝을 해줘야함 (예를들어 4중 for문 필요 그래서 그리드서치 사용)"
   ]
  },
  {
   "cell_type": "code",
   "execution_count": 34,
   "id": "5d6fff05",
   "metadata": {},
   "outputs": [],
   "source": [
    "# 0.8616277085821531\n",
    "\n",
    "# rf_model = RandomForestClassifier(n_estimators=200, # 배깅할 모델 갯수\n",
    "#                                   max_features=0.5, # 각 모델이 랜덤하게 사용할 특성수(비율),만약 너무 높다면 다양한 의견이 줄어들수있음\n",
    "#                                   max_depth=15, # 각 모델의 최대 깊이(기본 DecisionTree에서 사용되는 파라미터를 다 사용가능)\n",
    "#                                   min_samples_leaf=20,\n",
    "#                                   random_state=721 #난수고정\n",
    "#                                  )\n",
    "# # 앙상블 모델은 파라미터를 전부 고려해서 튜닝을 해줘야함 (예를들어 4중 for문 필요 그래서 그리드서치 사용)"
   ]
  },
  {
   "cell_type": "code",
   "execution_count": 35,
   "id": "20fbcad7",
   "metadata": {},
   "outputs": [],
   "source": [
    "# # 0.86650 캐글 점수\n",
    "# rf_model = RandomForestClassifier(n_estimators=200, # 배깅할 모델 갯수\n",
    "#                                   max_features=0.5, # 각 모델이 랜덤하게 사용할 특성수(비율),만약 너무 높다면 다양한 의견이 줄어들수있음\n",
    "#                                   max_depth=15, # 각 모델의 최대 깊이(기본 DecisionTree에서 사용되는 파라미터를 다 사용가능)\n",
    "#                                   min_samples_leaf=20,\n",
    "#                                   random_state=721 #난수고정\n",
    "#                                  )\n",
    "# # 앙상블 모델은 파라미터를 전부 고려해서 튜닝을 해줘야함 (예를들어 4중 for문 필요 그래서 그리드서치 사용)"
   ]
  },
  {
   "cell_type": "code",
   "execution_count": 36,
   "id": "397d0467",
   "metadata": {},
   "outputs": [],
   "source": [
    "# rf_rs = cross_val_score(rf_model,X_train,y_train,cv=5)"
   ]
  },
  {
   "cell_type": "code",
   "execution_count": 37,
   "id": "fe140a0f",
   "metadata": {},
   "outputs": [],
   "source": [
    "# rf_rs"
   ]
  },
  {
   "cell_type": "code",
   "execution_count": 38,
   "id": "16267c31",
   "metadata": {},
   "outputs": [],
   "source": [
    "# rf_model.fit(X_train,y_train)"
   ]
  },
  {
   "cell_type": "code",
   "execution_count": 39,
   "id": "9585605c",
   "metadata": {},
   "outputs": [],
   "source": [
    "# pre = rf_model.predict(test)"
   ]
  },
  {
   "cell_type": "code",
   "execution_count": 40,
   "id": "e86f6d10",
   "metadata": {},
   "outputs": [],
   "source": [
    "# submission[\"income\"] = pre\n",
    "# submission.to_csv('data/no1_pre.csv')"
   ]
  },
  {
   "cell_type": "markdown",
   "id": "c3f5af6d",
   "metadata": {},
   "source": [
    "# XGB부스트"
   ]
  },
  {
   "cell_type": "markdown",
   "id": "93ef47c9",
   "metadata": {},
   "source": [
    "## 0721 전처리 전 실행"
   ]
  },
  {
   "cell_type": "code",
   "execution_count": 41,
   "id": "2669a770",
   "metadata": {},
   "outputs": [],
   "source": [
    "# 0.8692714553830404\n",
    "\n",
    "# xgb_model = XGBClassifier(booster='gbtree', # 모델의 종류 (이 값은 고정)\n",
    "#                           n_estimators=200, # 앙상블 모델 갯수\n",
    "#                           learning_rate=0.3, # 학습률\n",
    "#                           max_depth = 4, # 최대깊이(일반적으로 깊게 설정x)\n",
    "#                           gamma = 0.2 # 리프노드를 어떻게 나눌것이냐(값이 크면 모델 단순, 작아지면 모델이 복잡)\n",
    "#                          )"
   ]
  },
  {
   "cell_type": "code",
   "execution_count": 42,
   "id": "b6900c29",
   "metadata": {},
   "outputs": [],
   "source": [
    "# 0.8710117727350282\n",
    "\n",
    "# xgb_model = XGBClassifier(booster='gbtree', # 모델의 종류 (이 값은 고정)\n",
    "#                           n_estimators=200, # 앙상블 모델 갯수\n",
    "#                           learning_rate=0.1, # 학습률\n",
    "#                           max_depth = 4, # 최대깊이(일반적으로 깊게 설정x)\n",
    "#                           gamma = 0.2 # 리프노드를 어떻게 나눌것이냐(값이 크면 모델 단순, 작아지면 모델이 복잡)\n",
    "#                          )"
   ]
  },
  {
   "cell_type": "code",
   "execution_count": 43,
   "id": "de715db0",
   "metadata": {},
   "outputs": [],
   "source": [
    "# 0.8643576181538986\n",
    "\n",
    "# xgb_model = XGBClassifier(booster='gbtree', # 모델의 종류 (이 값은 고정)\n",
    "#                           n_estimators=500, # 앙상블 모델 갯수\n",
    "#                           learning_rate=0.1, # 학습률\n",
    "#                           max_depth = 10, # 최대깊이(일반적으로 깊게 설정x)\n",
    "#                           gamma = 0.2 # 리프노드를 어떻게 나눌것이냐(값이 크면 모델 단순, 작아지면 모델이 복잡)\n",
    "#                          )"
   ]
  },
  {
   "cell_type": "code",
   "execution_count": 44,
   "id": "31735d9f",
   "metadata": {},
   "outputs": [],
   "source": [
    "# 0.8701245521242109\n",
    "\n",
    "# xgb_model = XGBClassifier(booster='gbtree', # 모델의 종류 (이 값은 고정)\n",
    "#                           n_estimators=500, # 앙상블 모델 갯수\n",
    "#                           learning_rate=0.1, # 학습률\n",
    "#                           max_depth = 5, # 최대깊이(일반적으로 깊게 설정x)\n",
    "#                           gamma = 0.2 # 리프노드를 어떻게 나눌것이냐(값이 크면 모델 단순, 작아지면 모델이 복잡)\n",
    "#                          )"
   ]
  },
  {
   "cell_type": "code",
   "execution_count": 45,
   "id": "1b4a6640",
   "metadata": {},
   "outputs": [],
   "source": [
    "# 0.8708752772564408\n",
    "\n",
    "# xgb_model = XGBClassifier(booster='gbtree', # 모델의 종류 (이 값은 고정)\n",
    "#                           n_estimators=500, # 앙상블 모델 갯수\n",
    "#                           learning_rate=0.1, # 학습률\n",
    "#                           max_depth = 5, # 최대깊이(일반적으로 깊게 설정x)\n",
    "#                           gamma = 0.4 # 리프노드를 어떻게 나눌것이냐(값이 크면 모델 단순, 작아지면 모델이 복잡)\n",
    "#                          )"
   ]
  },
  {
   "cell_type": "code",
   "execution_count": 46,
   "id": "b2699e24",
   "metadata": {},
   "outputs": [],
   "source": [
    "# 0.8716260023886709\n",
    "\n",
    "# xgb_model = XGBClassifier(booster='gbtree', # 모델의 종류 (이 값은 고정)\n",
    "#                           n_estimators=500, # 앙상블 모델 갯수\n",
    "#                           learning_rate=0.1, # 학습률\n",
    "#                           max_depth = 4, # 최대깊이(일반적으로 깊게 설정x)\n",
    "#                           gamma = 0.5 # 리프노드를 어떻게 나눌것이냐(값이 크면 모델 단순, 작아지면 모델이 복잡)\n",
    "#                          )"
   ]
  },
  {
   "cell_type": "code",
   "execution_count": 47,
   "id": "acbc7e23",
   "metadata": {},
   "outputs": [],
   "source": [
    "# 0.8716260023886709\n",
    "\n",
    "# xgb_model = XGBClassifier(booster='gbtree', # 모델의 종류 (이 값은 고정)\n",
    "#                           n_estimators=1000, # 앙상블 모델 갯수\n",
    "#                           learning_rate=0.1, # 학습률\n",
    "#                           max_depth = 4, # 최대깊이(일반적으로 깊게 설정x)\n",
    "#                           gamma = 0.5 # 리프노드를 어떻게 나눌것이냐(값이 크면 모델 단순, 작아지면 모델이 복잡)\n",
    "#                          )"
   ]
  },
  {
   "cell_type": "code",
   "execution_count": 48,
   "id": "5607264a",
   "metadata": {},
   "outputs": [],
   "source": [
    "# 0.870090428254564\n",
    "\n",
    "# xgb_model = XGBClassifier(booster='gbtree', # 모델의 종류 (이 값은 고정)\n",
    "#                           n_estimators=1000, # 앙상블 모델 갯수\n",
    "#                           learning_rate=0.3, # 학습률\n",
    "#                       a    max_depth = 4, # 최대깊이(일반적으로 깊게 설정x)\n",
    "#                           gamma = 0.5 # 리프노드를 어떻게 나눌것이냐(값이 크면 모델 단순, 작아지면 모델이 복잡)\n",
    "#                          )"
   ]
  },
  {
   "cell_type": "code",
   "execution_count": 49,
   "id": "3ee0f347",
   "metadata": {},
   "outputs": [],
   "source": [
    "# 0.871796621736905\n",
    "\n",
    "# xgb_model = XGBClassifier(booster='gbtree', # 모델의 종류 (이 값은 고정)\n",
    "#                           n_estimators=1000, # 앙상블 모델 갯수\n",
    "#                           learning_rate=0.1, # 학습률\n",
    "#                           max_depth = 3, # 최대깊이(일반적으로 깊게 설정x)\n",
    "#                           gamma = 0.5 # 리프노드를 어떻게 나눌것이냐(값이 크면 모델 단순, 작아지면 모델이 복잡)\n",
    "#                          )"
   ]
  },
  {
   "cell_type": "code",
   "execution_count": 50,
   "id": "c905d8f3",
   "metadata": {},
   "outputs": [],
   "source": [
    "# 0.8724449752601945\n",
    "\n",
    "# xgb_model = XGBClassifier(booster='gbtree', # 모델의 종류 (이 값은 고정)\n",
    "#                           n_estimators=1000, # 앙상블 모델 갯수\n",
    "#                           learning_rate=0.1, # 학습률\n",
    "#                           max_depth = 3, # 최대깊이(일반적으로 깊게 설정x)\n",
    "#                           gamma = 0.7 # 리프노드를 어떻게 나눌것이냐(값이 크면 모델 단순, 작아지면 모델이 복잡)\n",
    "#                          )"
   ]
  },
  {
   "cell_type": "code",
   "execution_count": 51,
   "id": "53054c0a",
   "metadata": {},
   "outputs": [],
   "source": [
    "# 0.871796621736905\n",
    "\n",
    "# xgb_model = XGBClassifier(booster='gbtree', # 모델의 종류 (이 값은 고정)\n",
    "#                           n_estimators=1000, # 앙상블 모델 갯수\n",
    "#                           learning_rate=0.1, # 학습률\n",
    "#                           max_depth = 3, # 최대깊이(일반적으로 깊게 설정x)\n",
    "#                           gamma = 0.2 # 리프노드를 어떻게 나눌것이냐(값이 크면 모델 단순, 작아지면 모델이 복잡)\n",
    "#                          )"
   ]
  },
  {
   "cell_type": "code",
   "execution_count": 52,
   "id": "a8882891",
   "metadata": {},
   "outputs": [],
   "source": [
    "# 0.8712847636922026\n",
    "\n",
    "# xgb_model = XGBClassifier(booster='gbtree', # 모델의 종류 (이 값은 고정)\n",
    "#                           n_estimators=1000, # 앙상블 모델 갯수\n",
    "#                           learning_rate=0.1, # 학습률\n",
    "#                           max_depth = 4, # 최대깊이(일반적으로 깊게 설정x)\n",
    "#                           gamma = 0.7 # 리프노드를 어떻게 나눌것이냐(값이 크면 모델 단순, 작아지면 모델이 복잡)\n",
    "#                          )"
   ]
  },
  {
   "cell_type": "code",
   "execution_count": 53,
   "id": "980bfc40",
   "metadata": {},
   "outputs": [],
   "source": [
    "# 0.8712847636922026\n",
    "\n",
    "# xgb_model = XGBClassifier(booster='gbtree', # 모델의 종류 (이 값은 고정)\n",
    "#                           n_estimators=1000, # 앙상블 모델 갯수\n",
    "#                           learning_rate=0.1, # 학습률\n",
    "#                           max_depth = 3, # 최대깊이(일반적으로 깊게 설정x)\n",
    "#                           gamma = 0.2 # 리프노드를 어떻게 나눌것이냐(값이 크면 모델 단순, 작아지면 모델이 복잡)\n",
    "#                          )"
   ]
  },
  {
   "cell_type": "code",
   "execution_count": 54,
   "id": "dbc1a5e2",
   "metadata": {},
   "outputs": [],
   "source": [
    "# 0.8724449752601945\n",
    "\n",
    "# xgb_model = XGBClassifier(booster='gbtree', # 모델의 종류 (이 값은 고정)\n",
    "#                           n_estimators=1000, # 앙상블 모델 갯수\n",
    "#                           learning_rate=0.1, # 학습률\n",
    "#                           max_depth = 3, # 최대깊이(일반적으로 깊게 설정x)\n",
    "#                           gamma = 0.7, # 리프노드를 어떻게 나눌것이냐(값이 크면 모델 단순, 작아지면 모델이 복잡)\n",
    "#                           random_state = 721\n",
    "#                          )"
   ]
  },
  {
   "cell_type": "code",
   "execution_count": 55,
   "id": "9c5194bb",
   "metadata": {},
   "outputs": [],
   "source": [
    "# xgb_model = XGBClassifier(booster='gbtree', # 모델의 종류 (이 값은 고정)\n",
    "#                           n_estimators=1000, # 앙상블 모델 갯수\n",
    "#                           learning_rate=0.1, # 학습률\n",
    "#                           max_depth = 3, # 최대깊이(일반적으로 깊게 설정x)\n",
    "#                           gamma = 0.2 # 리프노드를 어떻게 나눌것이냐(값이 크면 모델 단순, 작아지면 모델이 복잡)\n",
    "#                          )"
   ]
  },
  {
   "cell_type": "code",
   "execution_count": 56,
   "id": "f7b9f97c",
   "metadata": {},
   "outputs": [],
   "source": [
    "# xgb_model = XGBClassifier(booster='gbtree', # 모델의 종류 (이 값은 고정)\n",
    "#                          )"
   ]
  },
  {
   "cell_type": "code",
   "execution_count": 57,
   "id": "8f3c20c1",
   "metadata": {},
   "outputs": [],
   "source": [
    "# param_grid = {\n",
    "#     'max_depth' : [3,4,5],\n",
    "#     'learning_rate' : [0.1,0.2,0.3],\n",
    "#     'n_estimators' : [500,850,1000],\n",
    "#     'gamma' : [0.2,0.4,0.8]\n",
    "# }\n",
    "\n",
    "# # 튜닝할 모델, 사용할 파라미터, 교차검증 횟수\n",
    "# grid = GridSearchCV(xgb_model,param_grid,cv=5)\n",
    "# # n_jobs : cpu 코어수가 많으면 n_jobs로 지정해서 여러 코어 사용가능 -1을 하면 모든 리소르를 끌어옴"
   ]
  },
  {
   "cell_type": "code",
   "execution_count": 58,
   "id": "64f024f0",
   "metadata": {},
   "outputs": [],
   "source": [
    "# # 튜닝할 모델, 사용할 파라미터, 교차검증 횟수\n",
    "# grid = GridSearchCV(xgb_model,param_grid,cv=5)\n",
    "# # n_jobs : cpu 코어수가 많으면 n_jobs로 지정해서 여러 코어 사용가능 -1을 하면 모든 리소르를 끌어옴"
   ]
  },
  {
   "cell_type": "code",
   "execution_count": 59,
   "id": "9df20614",
   "metadata": {},
   "outputs": [],
   "source": [
    "# grid.fit(X_train,y_train)"
   ]
  },
  {
   "cell_type": "code",
   "execution_count": 60,
   "id": "8b2240fd",
   "metadata": {},
   "outputs": [],
   "source": [
    "# grid.best_estimator_"
   ]
  },
  {
   "cell_type": "code",
   "execution_count": 61,
   "id": "f16acffa",
   "metadata": {},
   "outputs": [],
   "source": [
    "# grid.best_index_"
   ]
  },
  {
   "cell_type": "code",
   "execution_count": 62,
   "id": "ce9570ba",
   "metadata": {},
   "outputs": [],
   "source": [
    "# grid.best_params_"
   ]
  },
  {
   "cell_type": "code",
   "execution_count": 63,
   "id": "21e42a21",
   "metadata": {},
   "outputs": [],
   "source": [
    "# grid.best_score_"
   ]
  },
  {
   "cell_type": "code",
   "execution_count": 64,
   "id": "cb2409ee",
   "metadata": {},
   "outputs": [],
   "source": [
    "# xgb_model = XGBClassifier(booster='gbtree', # 모델의 종류 (이 값은 고정)\n",
    "#                           n_estimators=500, # 앙상블 모델 갯수\n",
    "#                           learning_rate=0.1, # 학습률\n",
    "#                           max_depth = 3, # 최대깊이(일반적으로 깊게 설정x)\n",
    "#                           gamma = 0.2, # 리프노드를 어떻게 나눌것이냐(값이 크면 모델 단순, 작아지면 모델이 복잡)\n",
    "#                           random_state = 721\n",
    "#                          )"
   ]
  },
  {
   "cell_type": "code",
   "execution_count": 65,
   "id": "913d2464",
   "metadata": {},
   "outputs": [],
   "source": [
    "# xgb_model.fit(X_train,y_train)"
   ]
  },
  {
   "cell_type": "code",
   "execution_count": 66,
   "id": "f907d8d8",
   "metadata": {},
   "outputs": [],
   "source": [
    "# grid.best_estimator_"
   ]
  },
  {
   "cell_type": "code",
   "execution_count": 67,
   "id": "31e965d7",
   "metadata": {},
   "outputs": [],
   "source": [
    "# best_model = grid.best_estimator_\n",
    "# pre = best_model.predict(X_test)"
   ]
  },
  {
   "cell_type": "code",
   "execution_count": 68,
   "id": "89425d8d",
   "metadata": {},
   "outputs": [],
   "source": [
    "# xgb_cv = cross_val_score(xgb_model,X_train,y_train,cv=5)\n",
    "# xgb_cv.mean()"
   ]
  },
  {
   "cell_type": "code",
   "execution_count": 69,
   "id": "a6f215e7",
   "metadata": {},
   "outputs": [],
   "source": [
    "# xgb_cv"
   ]
  },
  {
   "cell_type": "code",
   "execution_count": 70,
   "id": "610a06aa",
   "metadata": {},
   "outputs": [],
   "source": [
    "# xgb_model.fit(X_train,y_train)"
   ]
  },
  {
   "cell_type": "code",
   "execution_count": 71,
   "id": "1de1abe3",
   "metadata": {},
   "outputs": [],
   "source": [
    "# pre = xgb_model.predict(test)"
   ]
  },
  {
   "cell_type": "code",
   "execution_count": 72,
   "id": "f321a03b",
   "metadata": {},
   "outputs": [],
   "source": [
    "# submission[\"income\"] = pre\n",
    "# submission.to_csv('data/xgb_model_r02_pre.csv')"
   ]
  },
  {
   "cell_type": "markdown",
   "id": "167376c1",
   "metadata": {},
   "source": [
    "-\n",
    "-xgb_model = XGBClassifier(booster='gbtree', # 모델의 종류 (이 값은 고정)\n",
    "-                          n_estimators=500, # 앙상블 모델 갯수\n",
    "-                          learning_rate=0.1, # 학습률\n",
    "-                          max_depth = 3, # 최대깊이(일반적으로 깊게 설정x)\n",
    "-                          gamma = 0.2, # 리프노드를 어떻게 나눌것이냐(값이 크면 모델 단순, 작아지면 모델이 복잡)\n",
    "-                          random_state = 721\n",
    "-                         )\n",
    "-\n",
    "\n",
    "    - 0.87755 best(캐글), 0.872444975260194(스코어)"
   ]
  },
  {
   "cell_type": "markdown",
   "id": "ca76cfa5",
   "metadata": {},
   "source": [
    "## 0722 실행"
   ]
  },
  {
   "cell_type": "code",
   "execution_count": 73,
   "id": "6d616d27",
   "metadata": {},
   "outputs": [],
   "source": [
    "from sklearn.model_selection import GridSearchCV"
   ]
  },
  {
   "cell_type": "code",
   "execution_count": 111,
   "id": "325483b2",
   "metadata": {},
   "outputs": [],
   "source": [
    "param_grid= {\n",
    "    'max_depth' : [10,12,14],\n",
    "    'n_estimators' : [100,120,150],\n",
    "    'max_features' : [0.6,0.7,0.75],\n",
    "    'min_samples_leaf' : [6,7,9]\n",
    "}"
   ]
  },
  {
   "cell_type": "code",
   "execution_count": 112,
   "id": "3f359d64",
   "metadata": {},
   "outputs": [],
   "source": [
    "model = RandomForestClassifier(random_state=917)\n",
    "grid = GridSearchCV(model, param_grid, cv=6, n_jobs = -1) "
   ]
  },
  {
   "cell_type": "code",
   "execution_count": 113,
   "id": "ce8291b0",
   "metadata": {},
   "outputs": [
    {
     "data": {
      "text/plain": [
       "GridSearchCV(cv=6, estimator=RandomForestClassifier(random_state=917),\n",
       "             n_jobs=-1,\n",
       "             param_grid={'max_depth': [10, 12, 14],\n",
       "                         'max_features': [0.6, 0.7, 0.75],\n",
       "                         'min_samples_leaf': [6, 7, 9],\n",
       "                         'n_estimators': [100, 120, 150]})"
      ]
     },
     "execution_count": 113,
     "metadata": {},
     "output_type": "execute_result"
    }
   ],
   "source": [
    "grid.fit(X_train,y_train)"
   ]
  },
  {
   "cell_type": "code",
   "execution_count": 114,
   "id": "43836800",
   "metadata": {
    "scrolled": true
   },
   "outputs": [
    {
     "data": {
      "text/plain": [
       "{'max_depth': 12,\n",
       " 'max_features': 0.75,\n",
       " 'min_samples_leaf': 6,\n",
       " 'n_estimators': 100}"
      ]
     },
     "execution_count": 114,
     "metadata": {},
     "output_type": "execute_result"
    }
   ],
   "source": [
    "grid.best_params_"
   ]
  },
  {
   "cell_type": "code",
   "execution_count": 115,
   "id": "b15fdce0",
   "metadata": {},
   "outputs": [
    {
     "data": {
      "text/plain": [
       "0.8647670514098355"
      ]
     },
     "execution_count": 115,
     "metadata": {},
     "output_type": "execute_result"
    }
   ],
   "source": [
    "grid.best_score_"
   ]
  },
  {
   "cell_type": "code",
   "execution_count": null,
   "id": "20973e5d",
   "metadata": {},
   "outputs": [],
   "source": []
  },
  {
   "cell_type": "code",
   "execution_count": 79,
   "id": "0734e3f9",
   "metadata": {},
   "outputs": [],
   "source": [
    "# xgb_model = XGBClassifier(booster='gbtree', # 모델의 종류 (이 값은 고정)\n",
    "#                           n_estimators=500, # 앙상블 모델 갯수\n",
    "#                           learning_rate=0.1, # 학습률\n",
    "#                           max_depth = 3, # 최대깊이(일반적으로 깊게 설정x)\n",
    "#                           gamma = 0.2, # 리프노드를 어떻게 나눌것이냐(값이 크면 모델 단순, 작아지면 모델이 복잡)\n",
    "#                           random_state = 721\n",
    "#                          )"
   ]
  },
  {
   "cell_type": "code",
   "execution_count": 80,
   "id": "3fd4da8f",
   "metadata": {},
   "outputs": [],
   "source": [
    "# xgb_model.fit(X_train,y_train)"
   ]
  },
  {
   "cell_type": "code",
   "execution_count": 81,
   "id": "37021061",
   "metadata": {},
   "outputs": [],
   "source": [
    "xgb_model = XGBClassifier(booster='gbtree', # 모델의 종류 (이 값은 고정)\n",
    "                          n_estimators=800, # 앙상블 모델 갯수\n",
    "                          learning_rate=0.22, # 학습률\n",
    "                          max_depth = 3, # 최대깊이(일반적으로 깊게 설정x)\n",
    "                          gamma = 0.5, # 리프노드를 어떻게 나눌것이냐(값이 크면 모델 단순, 작아지면 모델이 복잡)\n",
    "                          random_state =791\n",
    "                         )"
   ]
  },
  {
   "cell_type": "code",
   "execution_count": 82,
   "id": "42197944",
   "metadata": {},
   "outputs": [],
   "source": [
    "pre= cross_val_score(xgb_model,X_train,y_train)"
   ]
  },
  {
   "cell_type": "code",
   "execution_count": 83,
   "id": "bfc957a1",
   "metadata": {},
   "outputs": [
    {
     "data": {
      "text/plain": [
       "0.8690325882955128"
      ]
     },
     "execution_count": 83,
     "metadata": {},
     "output_type": "execute_result"
    }
   ],
   "source": [
    "pre.mean()"
   ]
  },
  {
   "cell_type": "code",
   "execution_count": 84,
   "id": "2773d49b",
   "metadata": {},
   "outputs": [],
   "source": [
    "# xgb_model.fit(X_train,y_train)"
   ]
  },
  {
   "cell_type": "code",
   "execution_count": 85,
   "id": "fa44da42",
   "metadata": {},
   "outputs": [],
   "source": [
    "# xgb_model = XGBClassifier(booster='gbtree',\n",
    "#                           random_state = 721)"
   ]
  },
  {
   "cell_type": "code",
   "execution_count": 86,
   "id": "31d25ab8",
   "metadata": {},
   "outputs": [],
   "source": [
    "param_grid = {\n",
    "    'max_depth' : [3,4,5,6],\n",
    "    'learning_rate' : [0.1],\n",
    "    'n_estimators' : [500,200],\n",
    "    'gamma' : [0.2,0.4,0.1]\n",
    "}\n"
   ]
  },
  {
   "cell_type": "code",
   "execution_count": 87,
   "id": "c4457ab9",
   "metadata": {},
   "outputs": [],
   "source": [
    "# 튜닝할 모델, 사용할 파라미터, 교차검증 횟수\n",
    "# grid = GridSearchCV(xgb_model,param_grid,cv=5)\n",
    "# n_jobs : cpu 코어수가 많으면 n_jobs로 지정해서 여러 코어 사용가능 -1을 하면 모든 리소르를 끌어옴"
   ]
  },
  {
   "cell_type": "code",
   "execution_count": 88,
   "id": "e5a6a2d3",
   "metadata": {},
   "outputs": [],
   "source": [
    "# grid.fit(X_train,y_train)"
   ]
  },
  {
   "cell_type": "code",
   "execution_count": 89,
   "id": "190d7c27",
   "metadata": {},
   "outputs": [],
   "source": [
    "# grid.best_params_"
   ]
  },
  {
   "cell_type": "markdown",
   "id": "8bf5b671",
   "metadata": {},
   "source": [
    "- grid.best_params {'gamma': 0.2, 'learning_rate': 0.1, 'max_depth': 5, 'n_estimators': 200}"
   ]
  },
  {
   "cell_type": "code",
   "execution_count": 90,
   "id": "e49ade60",
   "metadata": {},
   "outputs": [],
   "source": [
    "# grid.best_score_"
   ]
  },
  {
   "cell_type": "code",
   "execution_count": null,
   "id": "cf6b01f2",
   "metadata": {},
   "outputs": [],
   "source": []
  },
  {
   "cell_type": "code",
   "execution_count": null,
   "id": "f675761d",
   "metadata": {},
   "outputs": [],
   "source": []
  },
  {
   "cell_type": "code",
   "execution_count": null,
   "id": "83570f7e",
   "metadata": {},
   "outputs": [],
   "source": []
  },
  {
   "cell_type": "code",
   "execution_count": null,
   "id": "736087a9",
   "metadata": {},
   "outputs": [],
   "source": []
  },
  {
   "cell_type": "code",
   "execution_count": null,
   "id": "6cb9e01c",
   "metadata": {},
   "outputs": [],
   "source": []
  },
  {
   "cell_type": "code",
   "execution_count": null,
   "id": "7b420c2a",
   "metadata": {},
   "outputs": [],
   "source": []
  },
  {
   "cell_type": "code",
   "execution_count": null,
   "id": "beaefb7d",
   "metadata": {},
   "outputs": [],
   "source": []
  },
  {
   "cell_type": "code",
   "execution_count": null,
   "id": "6200e436",
   "metadata": {},
   "outputs": [],
   "source": []
  },
  {
   "cell_type": "code",
   "execution_count": 91,
   "id": "f1a355cc",
   "metadata": {},
   "outputs": [],
   "source": [
    "# # 탐색하고 싶은 하이퍼파라미터 조합을 딕셔너리로 생성\n",
    "# param_grid = {\n",
    "#     'max_depth' : [i for i in range(1,21,3)],\n",
    "#     'n_estimators' : [i for i in range(100,201,100)],\n",
    "#     'max_features' : [0.5,0.7],\n",
    "#     'min_samples_leaf' : [i for i in range(100,201,100)]\n",
    "# }"
   ]
  },
  {
   "cell_type": "code",
   "execution_count": 92,
   "id": "cfb930a1",
   "metadata": {},
   "outputs": [],
   "source": [
    "# model = RandomForestClassifier(random_state=721)\n",
    "# # 튜닝할 모델, 사용할 파라미터, 교차검증 횟수\n",
    "# grid = GridSearchCV(model,param_grid,cv=3, n_jobs=-1)\n",
    "# # n_jobs : cpu 코어수가 많으면 n_jobs로 지정해서 여러 코어 사용가능 -1을 하면 모든 리소르를 끌어옴"
   ]
  },
  {
   "cell_type": "code",
   "execution_count": 93,
   "id": "a45afa36",
   "metadata": {},
   "outputs": [],
   "source": [
    "# grid.fit(X_train,y_train)"
   ]
  },
  {
   "cell_type": "code",
   "execution_count": null,
   "id": "a96c6cee",
   "metadata": {},
   "outputs": [],
   "source": []
  },
  {
   "cell_type": "code",
   "execution_count": null,
   "id": "b9128498",
   "metadata": {},
   "outputs": [],
   "source": []
  },
  {
   "cell_type": "code",
   "execution_count": null,
   "id": "f653e884",
   "metadata": {},
   "outputs": [],
   "source": []
  },
  {
   "cell_type": "code",
   "execution_count": null,
   "id": "8591ccbd",
   "metadata": {},
   "outputs": [],
   "source": []
  },
  {
   "cell_type": "code",
   "execution_count": null,
   "id": "13aa7309",
   "metadata": {},
   "outputs": [],
   "source": []
  }
 ],
 "metadata": {
  "kernelspec": {
   "display_name": "Python 3 (ipykernel)",
   "language": "python",
   "name": "python3"
  },
  "language_info": {
   "codemirror_mode": {
    "name": "ipython",
    "version": 3
   },
   "file_extension": ".py",
   "mimetype": "text/x-python",
   "name": "python",
   "nbconvert_exporter": "python",
   "pygments_lexer": "ipython3",
   "version": "3.9.12"
  },
  "toc": {
   "base_numbering": 1,
   "nav_menu": {},
   "number_sections": true,
   "sideBar": true,
   "skip_h1_title": false,
   "title_cell": "Table of Contents",
   "title_sidebar": "Contents",
   "toc_cell": false,
   "toc_position": {
    "height": "calc(100% - 180px)",
    "left": "10px",
    "top": "150px",
    "width": "212.003px"
   },
   "toc_section_display": true,
   "toc_window_display": true
  }
 },
 "nbformat": 4,
 "nbformat_minor": 5
}
