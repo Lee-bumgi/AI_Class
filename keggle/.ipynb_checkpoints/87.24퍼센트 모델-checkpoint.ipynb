{
 "cells": [
  {
   "cell_type": "code",
   "execution_count": 1,
   "id": "8feba768",
   "metadata": {},
   "outputs": [],
   "source": [
    "import pandas as pd\n",
    "import numpy as np\n",
    "import seaborn as sns\n",
    "import matplotlib.pyplot as plt\n",
    "from sklearn.neighbors import KNeighborsClassifier\n",
    "from sklearn.tree import DecisionTreeClassifier\n",
    "from sklearn.preprocessing import StandardScaler\n",
    "from sklearn.model_selection import train_test_split\n",
    "from sklearn.model_selection import cross_val_score\n",
    "from sklearn.ensemble import RandomForestClassifier\n",
    "from sklearn.model_selection import GridSearchCV\n",
    "from xgboost import XGBClassifier\n",
    "\n",
    "train = pd.read_csv('./data/train.csv', index_col='no')\n",
    "test = pd.read_csv('./data/test.csv', index_col='no')\n",
    "\n",
    "def strip_title(row):\n",
    "    return row.strip()\n",
    "\n",
    "# train 공백제거\n",
    "# except pass 는 수치형나오면 오류나는거를 pass한것\n",
    "for i in range(len(train.columns)):\n",
    "    try:\n",
    "        train.iloc[:,i] = train.iloc[:,i].apply(strip_title)\n",
    "    except:\n",
    "        pass\n",
    "# test 공백제거\n",
    "for i in range(len(test.columns)):\n",
    "    try:\n",
    "        test.iloc[:,i] = test.iloc[:,i].apply(strip_title)\n",
    "    except:\n",
    "        pass\n",
    "\n",
    "\n",
    "# ?을 other로 변환\n",
    "train['occupation'] = train['occupation'].replace('?','other')\n",
    "train['workclass'] = train['workclass'].replace('?','other')\n",
    "train['native-country'] = train['native-country'].replace('?','other')\n",
    "\n",
    "# ?을 other로 변환\n",
    "test['occupation'] = test['occupation'].replace('?','other')\n",
    "test['workclass'] = test['workclass'].replace('?','other')\n",
    "test['native-country'] = test['native-country'].replace('?','other')\n",
    "\n",
    "# train.drop(['fnlwgt','capital-gain', 'capital-loss','education'],axis=1,inplace=True)\n",
    "# test.drop(['fnlwgt','capital-gain', 'capital-loss','education'],axis=1,inplace=True)\n",
    "\n",
    "train.drop(['fnlwgt','education'],axis=1,inplace=True)\n",
    "test.drop(['fnlwgt','education'],axis=1,inplace=True)\n",
    "\n",
    "train['native-country'] = train['native-country'].map({'United-States':'United-States',\"other\":'United-States'})\n",
    "train['native-country'].fillna(\"other-country\",inplace=True)\n",
    "test['native-country'] = test['native-country'].map({'United-States':'United-States',\"other\":'United-States'})\n",
    "test['native-country'].fillna(\"other-country\",inplace=True)\n"
   ]
  },
  {
   "cell_type": "code",
   "execution_count": 2,
   "id": "8e0d4d13",
   "metadata": {},
   "outputs": [],
   "source": [
    "# 인코딩할 컬럼명만 선택\n",
    "categorical_features = ['workclass', 'marital-status', 'occupation', 'relationship', 'race', 'sex', 'native-country']\n",
    "# categorical_features = ['workclass','occupation']\n",
    "# 반복문으로 인코딩하기\n",
    "for feature_name in categorical_features:\n",
    "    one_hot = pd.get_dummies(train[feature_name], prefix = feature_name)\n",
    "    train = pd.concat([train,one_hot], axis=1) # 기존 데이터 끝에 one_hot을 붙임.\n",
    "    train.drop(feature_name, axis=1, inplace=True) # 기존 글자컬럼을 삭제\n",
    "    \n",
    "for feature_name in categorical_features:\n",
    "    one_hot = pd.get_dummies(test[feature_name], prefix = feature_name)\n",
    "    test = pd.concat([test,one_hot], axis=1) # 기존 데이터 끝에 one_hot을 붙임.\n",
    "    test.drop(feature_name, axis=1, inplace=True) # 기존 글자컬럼을 삭제"
   ]
  },
  {
   "cell_type": "code",
   "execution_count": 3,
   "id": "954593e8",
   "metadata": {},
   "outputs": [
    {
     "data": {
      "text/plain": [
       "(29305, 52)"
      ]
     },
     "execution_count": 3,
     "metadata": {},
     "output_type": "execute_result"
    }
   ],
   "source": [
    "train.shape"
   ]
  },
  {
   "cell_type": "code",
   "execution_count": 4,
   "id": "7c2282d5",
   "metadata": {},
   "outputs": [
    {
     "data": {
      "text/plain": [
       "(19537, 51)"
      ]
     },
     "execution_count": 4,
     "metadata": {},
     "output_type": "execute_result"
    }
   ],
   "source": [
    "test.shape"
   ]
  },
  {
   "cell_type": "code",
   "execution_count": 5,
   "id": "7cf13fed",
   "metadata": {},
   "outputs": [],
   "source": [
    "train.drop(\"workclass_other\", axis = 1, inplace = True)\n",
    "test.drop(\"workclass_other\", axis = 1, inplace = True)"
   ]
  },
  {
   "cell_type": "code",
   "execution_count": 6,
   "id": "c70af374",
   "metadata": {},
   "outputs": [],
   "source": [
    "\n",
    "train.sort_index(axis=1, inplace=True)\n",
    "test.sort_index(axis=1, inplace=True)\n",
    "X_train = train.drop(['income'], axis=1)\n",
    "y_train = train.income\n",
    "X_test=test\n",
    "X_train.sort_index(axis=1, inplace=True)\n",
    "X_test.sort_index(axis=1, inplace=True)\n"
   ]
  },
  {
   "cell_type": "code",
   "execution_count": null,
   "id": "ab6a5bbe",
   "metadata": {},
   "outputs": [],
   "source": [
    "xgb_model = XGBClassifier(booster='gbtree', # 모델의 종류 (이 값은 고정)\n",
    "                          n_estimators=650, # 앙상블 모델 갯수\n",
    "                          learning_rate=0.14, # 학습률\n",
    "                          max_depth = 4, # 최대깊이(일반적으로 깊게 설정x)\n",
    "                          gamma = 0.3, # 리프노드를 어떻게 나눌것이냐(값이 크면 모델 단순, 작아지면 모델이 복잡) \n",
    "                          random_state=721\n",
    "                         )\n",
    "xgb = cross_val_score(xgb_model,X_train,y_train,cv=6)\n",
    "print (xgb.mean())"
   ]
  },
  {
   "cell_type": "code",
   "execution_count": null,
   "id": "459d2b39",
   "metadata": {},
   "outputs": [],
   "source": []
  }
 ],
 "metadata": {
  "kernelspec": {
   "display_name": "Python 3 (ipykernel)",
   "language": "python",
   "name": "python3"
  },
  "language_info": {
   "codemirror_mode": {
    "name": "ipython",
    "version": 3
   },
   "file_extension": ".py",
   "mimetype": "text/x-python",
   "name": "python",
   "nbconvert_exporter": "python",
   "pygments_lexer": "ipython3",
   "version": "3.9.12"
  },
  "toc": {
   "base_numbering": 1,
   "nav_menu": {},
   "number_sections": true,
   "sideBar": true,
   "skip_h1_title": false,
   "title_cell": "Table of Contents",
   "title_sidebar": "Contents",
   "toc_cell": false,
   "toc_position": {},
   "toc_section_display": true,
   "toc_window_display": true
  }
 },
 "nbformat": 4,
 "nbformat_minor": 5
}
