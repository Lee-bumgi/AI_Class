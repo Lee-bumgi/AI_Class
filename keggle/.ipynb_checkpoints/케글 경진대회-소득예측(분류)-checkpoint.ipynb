{
 "cells": [
  {
   "cell_type": "code",
   "execution_count": 1,
   "id": "c639d1be",
   "metadata": {},
   "outputs": [],
   "source": [
    "import pandas as pd\n",
    "import numpy as np\n",
    "import seaborn as sns\n",
    "import matplotlib.pyplot as plt\n",
    "from sklearn.neighbors import KNeighborsClassifier\n",
    "from sklearn.tree import DecisionTreeClassifier\n",
    "from sklearn.preprocessing import StandardScaler\n",
    "from sklearn.model_selection import train_test_split\n",
    "\n",
    "train = pd.read_csv('./data/train.csv', index_col='no')\n",
    "test = pd.read_csv('./data/test.csv', index_col='no')\n",
    "\n",
    "def strip_title(row):\n",
    "    return row.strip()\n",
    "\n",
    "# train 공백제거\n",
    "# except pass 는 수치형나오면 오류나는거를 pass한것\n",
    "for i in range(len(train.columns)):\n",
    "    try:\n",
    "        train.iloc[:,i] = train.iloc[:,i].apply(strip_title)\n",
    "    except:\n",
    "        pass\n",
    "# test 공백제거\n",
    "for i in range(len(test.columns)):\n",
    "    try:\n",
    "        test.iloc[:,i] = test.iloc[:,i].apply(strip_title)\n",
    "    except:\n",
    "        pass\n",
    "    "
   ]
  },
  {
   "cell_type": "code",
   "execution_count": 2,
   "id": "1a8f4ea8",
   "metadata": {},
   "outputs": [],
   "source": [
    "# ?을 other로 변환\n",
    "train['occupation'] = train['occupation'].replace('?','other')\n",
    "train['workclass'] = train['workclass'].replace('?','other')\n",
    "train['native-country'] = train['native-country'].replace('?','other')\n",
    "\n",
    "# ?을 other로 변환\n",
    "test['occupation'] = test['occupation'].replace('?','other')\n",
    "test['workclass'] = test['workclass'].replace('?','other')\n",
    "test['native-country'] = test['native-country'].replace('?','other')"
   ]
  },
  {
   "cell_type": "code",
   "execution_count": 3,
   "id": "b1a84fb0",
   "metadata": {},
   "outputs": [],
   "source": [
    "train = train.drop('fnlwgt' , axis = 1)\n",
    "test = test.drop('fnlwgt', axis =1)\n",
    "train.drop(\"education\", axis = 1, inplace = True)\n",
    "test.drop(\"education\", axis = 1, inplace = True)\n"
   ]
  },
  {
   "cell_type": "code",
   "execution_count": null,
   "id": "6ad7dbab",
   "metadata": {},
   "outputs": [],
   "source": []
  }
 ],
 "metadata": {
  "kernelspec": {
   "display_name": "Python 3 (ipykernel)",
   "language": "python",
   "name": "python3"
  },
  "language_info": {
   "codemirror_mode": {
    "name": "ipython",
    "version": 3
   },
   "file_extension": ".py",
   "mimetype": "text/x-python",
   "name": "python",
   "nbconvert_exporter": "python",
   "pygments_lexer": "ipython3",
   "version": "3.9.12"
  },
  "toc": {
   "base_numbering": 1,
   "nav_menu": {},
   "number_sections": true,
   "sideBar": true,
   "skip_h1_title": false,
   "title_cell": "Table of Contents",
   "title_sidebar": "Contents",
   "toc_cell": false,
   "toc_position": {},
   "toc_section_display": true,
   "toc_window_display": false
  }
 },
 "nbformat": 4,
 "nbformat_minor": 5
}
