{
 "cells": [
  {
   "cell_type": "code",
   "execution_count": 249,
   "id": "041f1734",
   "metadata": {},
   "outputs": [],
   "source": [
    "import pandas as pd\n",
    "import numpy as np\n",
    "import seaborn as sns\n",
    "import matplotlib.pyplot as plt\n",
    "\n",
    "from sklearn.neighbors import KNeighborsClassifier \n",
    "from sklearn.tree import DecisionTreeClassifier\n",
    "from sklearn.preprocessing import StandardScaler\n",
    "from sklearn.model_selection import train_test_split\n",
    "from sklearn.model_selection import cross_val_score\n",
    "\n",
    "from sklearn.ensemble import RandomForestClassifier\n",
    "from xgboost import XGBClassifier\n",
    "from sklearn.model_selection import GridSearchCV # CV -crossvalueation약자(교차검증약자)\n",
    "\n",
    "train = pd.read_csv(\"./data/train.csv\",index_col=\"no\")\n",
    "test = pd.read_csv(\"./data/test.csv\",index_col=\"no\")\n",
    "submission = pd.read_csv(\"./data/sample_submission.csv\",index_col=\"no\")\n",
    "\n",
    "\n",
    "\n",
    "def strip_title(row):\n",
    "    return row.strip()\n",
    "\n",
    "# train 공백제거\n",
    "# except pass 는 수치형나오면 오류나는거를 pass한것\n",
    "for i in range(len(train.columns)):\n",
    "    try:\n",
    "        train.iloc[:,i] = train.iloc[:,i].apply(strip_title)\n",
    "    except:\n",
    "        pass\n",
    "# test 공백제거\n",
    "for i in range(len(test.columns)):\n",
    "    try:\n",
    "        test.iloc[:,i] = test.iloc[:,i].apply(strip_title)\n",
    "    except:\n",
    "        pass\n",
    "    "
   ]
  },
  {
   "cell_type": "code",
   "execution_count": 164,
   "id": "3bbc5b23",
   "metadata": {},
   "outputs": [],
   "source": [
    "# ?을 other로 변환\n",
    "train['occupation'] = train['occupation'].replace('?','other')\n",
    "train['workclass'] = train['workclass'].replace('?','other')\n",
    "train['native-country'] = train['native-country'].replace('?','United-States')\n",
    "\n",
    "# ?을 other로 변환\n",
    "test['occupation'] = test['occupation'].replace('?','other')\n",
    "test['workclass'] = test['workclass'].replace('?','other')\n",
    "test['native-country'] = test['native-country'].replace('?','United-States')"
   ]
  },
  {
   "cell_type": "markdown",
   "id": "fac731cd",
   "metadata": {},
   "source": [
    "# 맵핑"
   ]
  },
  {
   "cell_type": "markdown",
   "id": "555e1fb3",
   "metadata": {},
   "source": [
    "## 맵핑 dic"
   ]
  },
  {
   "cell_type": "markdown",
   "id": "3b4e8ccf",
   "metadata": {},
   "source": [
    "### workclass"
   ]
  },
  {
   "cell_type": "code",
   "execution_count": 165,
   "id": "33dd640b",
   "metadata": {},
   "outputs": [],
   "source": [
    "# workclass\n",
    "w_dic = {\n",
    "'Private': 'Private', \n",
    "'Self-emp-not-inc': 'Self-emp-not-inc', \n",
    "'Local-gov': 'gov', \n",
    "'other': 'other',\n",
    "'State-gov':'gov' ,\n",
    "'Self-emp-inc':'Self-emp-inc' ,\n",
    "'Federal-gov':'gov' ,\n",
    "'Without-pay': 'Private',\n",
    "'Never-worked': 'Private'\n",
    "}\n",
    "train['workclass'] = train['workclass'].map(w_dic)\n",
    "test['workclass'] = test['workclass'].map(w_dic)"
   ]
  },
  {
   "cell_type": "markdown",
   "id": "b2039c81",
   "metadata": {},
   "source": [
    "### education"
   ]
  },
  {
   "cell_type": "code",
   "execution_count": null,
   "id": "330dac82",
   "metadata": {},
   "outputs": [],
   "source": [
    "ed_dic={\n",
    "    'HS-grad' : 1,\n",
    "    'Some-college': 2,\n",
    "    'Bachelors': 3,\n",
    "    'Masters': 4,\n",
    "    'Assoc-voc': 5,\n",
    "    '11th': 6,\n",
    "    'Assoc-acdm': 7,\n",
    "    '10th': 8,\n",
    "    '7th-8th':9,\n",
    "    'Prof-school': 10,\n",
    "    '9th':11,\n",
    "    '12th':12,\n",
    "    '5th-6th':13,\n",
    "    'Doctorate':14,\n",
    "    '1st-4th':15,\n",
    "    'Preschool':16\n",
    "}\n",
    "X_train['education'] = X_train['education'].map(ed_dic)\n",
    "X_test['education'] = X_test['education'].map(ed_dic)"
   ]
  },
  {
   "cell_type": "markdown",
   "id": "dbb79571",
   "metadata": {},
   "source": [
    "### education-num"
   ]
  },
  {
   "cell_type": "code",
   "execution_count": 166,
   "id": "495c7717",
   "metadata": {},
   "outputs": [],
   "source": [
    "# education-num\n",
    "en_dic={\n",
    "    1 : 1,\n",
    "    2: 1,\n",
    "    3: 1,\n",
    "    4: 1,\n",
    "    5: 1,\n",
    "    6: 1,\n",
    "    7: 1,\n",
    "    8: 1,\n",
    "    9: 2,\n",
    "    10: 2,\n",
    "    11:3,\n",
    "    12:3,\n",
    "    13:3,\n",
    "    14:4,\n",
    "    15:4,\n",
    "    16:4\n",
    "}\n",
    "train['education-num_label'] = train['education-num'].map(en_dic)\n",
    "test['education-num_label'] = test['education-num'].map(en_dic)"
   ]
  },
  {
   "cell_type": "markdown",
   "id": "2cb8980f",
   "metadata": {},
   "source": [
    "### marital-status"
   ]
  },
  {
   "cell_type": "code",
   "execution_count": 167,
   "id": "848d41db",
   "metadata": {},
   "outputs": [],
   "source": [
    "\n",
    "ms_dic = {\n",
    "'Divorced':'Divorced',\n",
    "'Never-married':'Never-married',\n",
    "'Married-civ-spouse':'Married-civ-spouse',\n",
    "'Separated': 'Other',\n",
    "'Married-spouse-absent':'Other',\n",
    "'Widowed':'Other',\n",
    "'Married-AF-spouse':'Other'\n",
    "}\n",
    "train['marital-status']=train['marital-status'].map(ms_dic)\n",
    "test['marital-status']=test['marital-status'].map(ms_dic)"
   ]
  },
  {
   "cell_type": "markdown",
   "id": "be286e22",
   "metadata": {},
   "source": [
    "### occupation"
   ]
  },
  {
   "cell_type": "code",
   "execution_count": 168,
   "id": "eecda73d",
   "metadata": {},
   "outputs": [],
   "source": [
    "oc_dic={\n",
    "'Machine-op-inspct': 'a',\n",
    "'Other-service':'b',\n",
    "'Handlers-cleaners':'b',\n",
    "'Tech-support':'c',\n",
    "'Transport-moving':'d',\n",
    "'Farming-fishing':'e',\n",
    "'Prof-specialty':'f',\n",
    "'Priv-house-serv':'b',\n",
    "'Adm-clerical':'a',\n",
    "'Protective-serv':'c',\n",
    " 'Exec-managerial':'f',\n",
    " '?':'e',\n",
    " 'Craft-repair':'d',\n",
    " 'Sales':'c',\n",
    " 'Armed-Forces':'c'\n",
    "}\n",
    "train['occupation']=train['occupation'].map(oc_dic)\n",
    "test['occupation']=test['occupation'].map(oc_dic)"
   ]
  },
  {
   "cell_type": "markdown",
   "id": "8658193a",
   "metadata": {},
   "source": [
    "### relationship"
   ]
  },
  {
   "cell_type": "code",
   "execution_count": 169,
   "id": "225b44c6",
   "metadata": {},
   "outputs": [],
   "source": [
    "\n",
    "re_dic={\n",
    "'Not-in-family':'Not-in-family',\n",
    "'Husband':'Husband',\n",
    "'Unmarried':'m',\n",
    "'Other-relative':'m',\n",
    "'Own-child':'m',\n",
    "'Wife':'Wife'\n",
    "}\n",
    "train['relationship']=train['relationship'].map(re_dic)\n",
    "test['relationship']=test['relationship'].map(re_dic)"
   ]
  },
  {
   "cell_type": "markdown",
   "id": "68ff97b6",
   "metadata": {},
   "source": [
    "### race"
   ]
  },
  {
   "cell_type": "code",
   "execution_count": 170,
   "id": "7445f792",
   "metadata": {},
   "outputs": [],
   "source": [
    "# race\n",
    "\n",
    "ra_dic = {\n",
    "    'White': 'White',\n",
    "    'Black' : 'Black',\n",
    "    'Asian-Pac-Islander':'other',\n",
    "    'Amer-Indian-Eskimo': 'other',\n",
    "    'Other' : 'other'\n",
    "}\n",
    "train['race']=train['race'].map(ra_dic)\n",
    "test['race']=test['race'].map(ra_dic)"
   ]
  },
  {
   "cell_type": "markdown",
   "id": "d35bfe5b",
   "metadata": {},
   "source": [
    "### native-country"
   ]
  },
  {
   "cell_type": "code",
   "execution_count": 171,
   "id": "9cea759a",
   "metadata": {},
   "outputs": [],
   "source": [
    "# native-country\n",
    "\n",
    "train['native-country'] = train['native-country'].map({'United-States':'United-States'})\n",
    "train['native-country'].fillna(\"other-country\",inplace=True)\n",
    "test['native-country'] = test['native-country'].map({'United-States':'United-States'})\n",
    "test['native-country'].fillna(\"other-country\",inplace=True)"
   ]
  },
  {
   "cell_type": "markdown",
   "id": "261bcd2e",
   "metadata": {},
   "source": [
    "# 스케일링"
   ]
  },
  {
   "cell_type": "code",
   "execution_count": 172,
   "id": "8ca22354",
   "metadata": {},
   "outputs": [],
   "source": [
    "from sklearn.preprocessing import StandardScaler\n",
    "# 스케일러 생성 (평균과 표준편차)\n",
    "std_scaler = StandardScaler()\n",
    "# 기준값 생성 (평균,표준편차)"
   ]
  },
  {
   "cell_type": "markdown",
   "id": "88209237",
   "metadata": {},
   "source": [
    "## fnlwgt"
   ]
  },
  {
   "cell_type": "code",
   "execution_count": 173,
   "id": "feb48d94",
   "metadata": {},
   "outputs": [],
   "source": [
    "# 항상 2차원으로 넣어야함(DataFrame 형태)\n",
    "std_scaler.fit(train[[\"fnlwgt\"]])\n",
    "# 데이터변형\n",
    "scaled_fnlwgt_train = std_scaler.transform(train[[\"fnlwgt\"]])\n",
    "scaled_fnlwgt_test = std_scaler.transform(test[[\"fnlwgt\"]])\n",
    "train['scaled_fnlwgt']=scaled_fnlwgt_train\n",
    "test['scaled_fnlwgt']=scaled_fnlwgt_test"
   ]
  },
  {
   "cell_type": "markdown",
   "id": "e2b154f8",
   "metadata": {},
   "source": [
    "# CUT 수치->범주"
   ]
  },
  {
   "cell_type": "markdown",
   "id": "2ea9a2aa",
   "metadata": {},
   "source": [
    "## age"
   ]
  },
  {
   "cell_type": "code",
   "execution_count": 174,
   "id": "713d99ef",
   "metadata": {},
   "outputs": [],
   "source": [
    "# bins = [0,20,40,60,80,100]\n",
    "# # 데이터를 잘라낼 구간정보 설정 -1~0 1구간,(0+1)~3 2구간 (3+1)~20 3구간\n",
    "# labels = [\"1\",\"2\",\"3\",'4','5'] # 구간별 범주 이름\n",
    "# cut_result_train = pd.cut(x=train['age'], # 구간화할 데이터 설정\n",
    "#                    bins=bins, # 잘라낼 구간정보 설정\n",
    "#                    labels=labels) # 구간별 범주 이름 설정\n",
    "\n",
    "# cut_result_test = pd.cut(x=test['age'], # 구간화할 데이터 설정\n",
    "#                    bins=bins, # 잘라낼 구간정보 설정\n",
    "#                    labels=labels) # 구간별 범주 이름 설정\n",
    "\n",
    "\n",
    "# train['age_b']=cut_result_train.astype('int')\n",
    "# test['age_b']=cut_result_test.astype('int')\n"
   ]
  },
  {
   "cell_type": "code",
   "execution_count": 175,
   "id": "8ead5fb2",
   "metadata": {},
   "outputs": [],
   "source": [
    "# train['age_b']"
   ]
  },
  {
   "cell_type": "markdown",
   "id": "6362aa5f",
   "metadata": {},
   "source": [
    "# 인코딩전 드랍"
   ]
  },
  {
   "cell_type": "code",
   "execution_count": 176,
   "id": "4a14dff9",
   "metadata": {},
   "outputs": [],
   "source": [
    "## fnlwgt -> 스케일정규화 후 컬럼추가 scaled_fnlwgt\n",
    "train.drop('fnlwgt',axis=1,inplace=True)\n",
    "test.drop('fnlwgt',axis=1,inplace=True)\n",
    "\n",
    "# train.drop('scaled_fnlwgt',axis=1,inplace=True)\n",
    "# test.drop('scaled_fnlwgt',axis=1,inplace=True)\n",
    "\n",
    "# train.drop('capital-gain',axis=1,inplace=True)\n",
    "# test.drop('capital-gain',axis=1,inplace=True)\n",
    "\n",
    "# train.drop('capital-loss',axis=1,inplace=True)\n",
    "# test.drop('capital-loss',axis=1,inplace=True)\n",
    "\n",
    "## education 과 상관관계가 높아서 드랍\n",
    "train.drop('education',axis=1,inplace=True)\n",
    "test.drop('education',axis=1,inplace=True)\n",
    "\n",
    "## education-num -> 구간별 합친후 education-num_label\n",
    "# train.drop('education-num',axis=1,inplace=True)\n",
    "# test.drop('education-num',axis=1,inplace=True)\n",
    "\n",
    "## age -> cut 함수 이용후 수치->범주 age_b\n",
    "# train.drop('age',axis=1,inplace=True)\n",
    "# test.drop('age',axis=1,inplace=True)"
   ]
  },
  {
   "cell_type": "code",
   "execution_count": 177,
   "id": "03910caa",
   "metadata": {
    "scrolled": true
   },
   "outputs": [
    {
     "data": {
      "text/html": [
       "<div>\n",
       "<style scoped>\n",
       "    .dataframe tbody tr th:only-of-type {\n",
       "        vertical-align: middle;\n",
       "    }\n",
       "\n",
       "    .dataframe tbody tr th {\n",
       "        vertical-align: top;\n",
       "    }\n",
       "\n",
       "    .dataframe thead th {\n",
       "        text-align: right;\n",
       "    }\n",
       "</style>\n",
       "<table border=\"1\" class=\"dataframe\">\n",
       "  <thead>\n",
       "    <tr style=\"text-align: right;\">\n",
       "      <th></th>\n",
       "      <th>age</th>\n",
       "      <th>workclass</th>\n",
       "      <th>education-num</th>\n",
       "      <th>marital-status</th>\n",
       "      <th>occupation</th>\n",
       "      <th>relationship</th>\n",
       "      <th>race</th>\n",
       "      <th>sex</th>\n",
       "      <th>capital-gain</th>\n",
       "      <th>capital-loss</th>\n",
       "      <th>hours-per-week</th>\n",
       "      <th>native-country</th>\n",
       "      <th>income</th>\n",
       "      <th>education-num_label</th>\n",
       "      <th>scaled_fnlwgt</th>\n",
       "    </tr>\n",
       "    <tr>\n",
       "      <th>no</th>\n",
       "      <th></th>\n",
       "      <th></th>\n",
       "      <th></th>\n",
       "      <th></th>\n",
       "      <th></th>\n",
       "      <th></th>\n",
       "      <th></th>\n",
       "      <th></th>\n",
       "      <th></th>\n",
       "      <th></th>\n",
       "      <th></th>\n",
       "      <th></th>\n",
       "      <th></th>\n",
       "      <th></th>\n",
       "      <th></th>\n",
       "    </tr>\n",
       "  </thead>\n",
       "  <tbody>\n",
       "    <tr>\n",
       "      <th>1</th>\n",
       "      <td>25</td>\n",
       "      <td>Private</td>\n",
       "      <td>7</td>\n",
       "      <td>Divorced</td>\n",
       "      <td>a</td>\n",
       "      <td>Not-in-family</td>\n",
       "      <td>White</td>\n",
       "      <td>Male</td>\n",
       "      <td>0</td>\n",
       "      <td>0</td>\n",
       "      <td>40</td>\n",
       "      <td>United-States</td>\n",
       "      <td>0</td>\n",
       "      <td>1</td>\n",
       "      <td>0.278922</td>\n",
       "    </tr>\n",
       "    <tr>\n",
       "      <th>2</th>\n",
       "      <td>39</td>\n",
       "      <td>Private</td>\n",
       "      <td>10</td>\n",
       "      <td>Divorced</td>\n",
       "      <td>b</td>\n",
       "      <td>Not-in-family</td>\n",
       "      <td>White</td>\n",
       "      <td>Female</td>\n",
       "      <td>0</td>\n",
       "      <td>1721</td>\n",
       "      <td>55</td>\n",
       "      <td>United-States</td>\n",
       "      <td>0</td>\n",
       "      <td>2</td>\n",
       "      <td>-1.294649</td>\n",
       "    </tr>\n",
       "    <tr>\n",
       "      <th>3</th>\n",
       "      <td>35</td>\n",
       "      <td>Private</td>\n",
       "      <td>13</td>\n",
       "      <td>Never-married</td>\n",
       "      <td>b</td>\n",
       "      <td>Not-in-family</td>\n",
       "      <td>other</td>\n",
       "      <td>Female</td>\n",
       "      <td>0</td>\n",
       "      <td>0</td>\n",
       "      <td>50</td>\n",
       "      <td>other-country</td>\n",
       "      <td>0</td>\n",
       "      <td>3</td>\n",
       "      <td>0.067813</td>\n",
       "    </tr>\n",
       "    <tr>\n",
       "      <th>4</th>\n",
       "      <td>64</td>\n",
       "      <td>Private</td>\n",
       "      <td>11</td>\n",
       "      <td>Divorced</td>\n",
       "      <td>c</td>\n",
       "      <td>Not-in-family</td>\n",
       "      <td>White</td>\n",
       "      <td>Female</td>\n",
       "      <td>0</td>\n",
       "      <td>0</td>\n",
       "      <td>40</td>\n",
       "      <td>United-States</td>\n",
       "      <td>0</td>\n",
       "      <td>3</td>\n",
       "      <td>-0.513179</td>\n",
       "    </tr>\n",
       "    <tr>\n",
       "      <th>5</th>\n",
       "      <td>24</td>\n",
       "      <td>Private</td>\n",
       "      <td>10</td>\n",
       "      <td>Married-civ-spouse</td>\n",
       "      <td>d</td>\n",
       "      <td>Husband</td>\n",
       "      <td>White</td>\n",
       "      <td>Male</td>\n",
       "      <td>0</td>\n",
       "      <td>0</td>\n",
       "      <td>70</td>\n",
       "      <td>United-States</td>\n",
       "      <td>1</td>\n",
       "      <td>2</td>\n",
       "      <td>-1.220761</td>\n",
       "    </tr>\n",
       "  </tbody>\n",
       "</table>\n",
       "</div>"
      ],
      "text/plain": [
       "    age workclass  education-num      marital-status occupation  \\\n",
       "no                                                                \n",
       "1    25   Private              7            Divorced          a   \n",
       "2    39   Private             10            Divorced          b   \n",
       "3    35   Private             13       Never-married          b   \n",
       "4    64   Private             11            Divorced          c   \n",
       "5    24   Private             10  Married-civ-spouse          d   \n",
       "\n",
       "     relationship   race     sex  capital-gain  capital-loss  hours-per-week  \\\n",
       "no                                                                             \n",
       "1   Not-in-family  White    Male             0             0              40   \n",
       "2   Not-in-family  White  Female             0          1721              55   \n",
       "3   Not-in-family  other  Female             0             0              50   \n",
       "4   Not-in-family  White  Female             0             0              40   \n",
       "5         Husband  White    Male             0             0              70   \n",
       "\n",
       "   native-country  income  education-num_label  scaled_fnlwgt  \n",
       "no                                                             \n",
       "1   United-States       0                    1       0.278922  \n",
       "2   United-States       0                    2      -1.294649  \n",
       "3   other-country       0                    3       0.067813  \n",
       "4   United-States       0                    3      -0.513179  \n",
       "5   United-States       1                    2      -1.220761  "
      ]
     },
     "execution_count": 177,
     "metadata": {},
     "output_type": "execute_result"
    }
   ],
   "source": [
    "train.head()"
   ]
  },
  {
   "cell_type": "code",
   "execution_count": 178,
   "id": "c6d343f5",
   "metadata": {},
   "outputs": [
    {
     "data": {
      "text/html": [
       "<div>\n",
       "<style scoped>\n",
       "    .dataframe tbody tr th:only-of-type {\n",
       "        vertical-align: middle;\n",
       "    }\n",
       "\n",
       "    .dataframe tbody tr th {\n",
       "        vertical-align: top;\n",
       "    }\n",
       "\n",
       "    .dataframe thead th {\n",
       "        text-align: right;\n",
       "    }\n",
       "</style>\n",
       "<table border=\"1\" class=\"dataframe\">\n",
       "  <thead>\n",
       "    <tr style=\"text-align: right;\">\n",
       "      <th></th>\n",
       "      <th>age</th>\n",
       "      <th>workclass</th>\n",
       "      <th>education-num</th>\n",
       "      <th>marital-status</th>\n",
       "      <th>occupation</th>\n",
       "      <th>relationship</th>\n",
       "      <th>race</th>\n",
       "      <th>sex</th>\n",
       "      <th>capital-gain</th>\n",
       "      <th>capital-loss</th>\n",
       "      <th>hours-per-week</th>\n",
       "      <th>native-country</th>\n",
       "      <th>education-num_label</th>\n",
       "      <th>scaled_fnlwgt</th>\n",
       "    </tr>\n",
       "    <tr>\n",
       "      <th>no</th>\n",
       "      <th></th>\n",
       "      <th></th>\n",
       "      <th></th>\n",
       "      <th></th>\n",
       "      <th></th>\n",
       "      <th></th>\n",
       "      <th></th>\n",
       "      <th></th>\n",
       "      <th></th>\n",
       "      <th></th>\n",
       "      <th></th>\n",
       "      <th></th>\n",
       "      <th></th>\n",
       "      <th></th>\n",
       "    </tr>\n",
       "  </thead>\n",
       "  <tbody>\n",
       "    <tr>\n",
       "      <th>29306</th>\n",
       "      <td>18</td>\n",
       "      <td>other</td>\n",
       "      <td>10</td>\n",
       "      <td>Never-married</td>\n",
       "      <td>NaN</td>\n",
       "      <td>m</td>\n",
       "      <td>White</td>\n",
       "      <td>Male</td>\n",
       "      <td>0</td>\n",
       "      <td>0</td>\n",
       "      <td>16</td>\n",
       "      <td>United-States</td>\n",
       "      <td>2</td>\n",
       "      <td>0.525767</td>\n",
       "    </tr>\n",
       "    <tr>\n",
       "      <th>29307</th>\n",
       "      <td>29</td>\n",
       "      <td>Private</td>\n",
       "      <td>9</td>\n",
       "      <td>Married-civ-spouse</td>\n",
       "      <td>b</td>\n",
       "      <td>Wife</td>\n",
       "      <td>White</td>\n",
       "      <td>Female</td>\n",
       "      <td>0</td>\n",
       "      <td>0</td>\n",
       "      <td>40</td>\n",
       "      <td>United-States</td>\n",
       "      <td>2</td>\n",
       "      <td>-1.010410</td>\n",
       "    </tr>\n",
       "    <tr>\n",
       "      <th>29308</th>\n",
       "      <td>45</td>\n",
       "      <td>Private</td>\n",
       "      <td>13</td>\n",
       "      <td>Married-civ-spouse</td>\n",
       "      <td>c</td>\n",
       "      <td>Husband</td>\n",
       "      <td>Black</td>\n",
       "      <td>Male</td>\n",
       "      <td>0</td>\n",
       "      <td>0</td>\n",
       "      <td>40</td>\n",
       "      <td>United-States</td>\n",
       "      <td>3</td>\n",
       "      <td>-1.463555</td>\n",
       "    </tr>\n",
       "    <tr>\n",
       "      <th>29309</th>\n",
       "      <td>42</td>\n",
       "      <td>Self-emp-not-inc</td>\n",
       "      <td>13</td>\n",
       "      <td>Married-civ-spouse</td>\n",
       "      <td>f</td>\n",
       "      <td>Husband</td>\n",
       "      <td>White</td>\n",
       "      <td>Male</td>\n",
       "      <td>0</td>\n",
       "      <td>0</td>\n",
       "      <td>40</td>\n",
       "      <td>United-States</td>\n",
       "      <td>3</td>\n",
       "      <td>-1.184333</td>\n",
       "    </tr>\n",
       "    <tr>\n",
       "      <th>29310</th>\n",
       "      <td>41</td>\n",
       "      <td>Private</td>\n",
       "      <td>16</td>\n",
       "      <td>Married-civ-spouse</td>\n",
       "      <td>f</td>\n",
       "      <td>Wife</td>\n",
       "      <td>White</td>\n",
       "      <td>Female</td>\n",
       "      <td>0</td>\n",
       "      <td>1902</td>\n",
       "      <td>40</td>\n",
       "      <td>United-States</td>\n",
       "      <td>4</td>\n",
       "      <td>0.057608</td>\n",
       "    </tr>\n",
       "  </tbody>\n",
       "</table>\n",
       "</div>"
      ],
      "text/plain": [
       "       age         workclass  education-num      marital-status occupation  \\\n",
       "no                                                                           \n",
       "29306   18             other             10       Never-married        NaN   \n",
       "29307   29           Private              9  Married-civ-spouse          b   \n",
       "29308   45           Private             13  Married-civ-spouse          c   \n",
       "29309   42  Self-emp-not-inc             13  Married-civ-spouse          f   \n",
       "29310   41           Private             16  Married-civ-spouse          f   \n",
       "\n",
       "      relationship   race     sex  capital-gain  capital-loss  hours-per-week  \\\n",
       "no                                                                              \n",
       "29306            m  White    Male             0             0              16   \n",
       "29307         Wife  White  Female             0             0              40   \n",
       "29308      Husband  Black    Male             0             0              40   \n",
       "29309      Husband  White    Male             0             0              40   \n",
       "29310         Wife  White  Female             0          1902              40   \n",
       "\n",
       "      native-country  education-num_label  scaled_fnlwgt  \n",
       "no                                                        \n",
       "29306  United-States                    2       0.525767  \n",
       "29307  United-States                    2      -1.010410  \n",
       "29308  United-States                    3      -1.463555  \n",
       "29309  United-States                    3      -1.184333  \n",
       "29310  United-States                    4       0.057608  "
      ]
     },
     "execution_count": 178,
     "metadata": {},
     "output_type": "execute_result"
    }
   ],
   "source": [
    "test.head()"
   ]
  },
  {
   "cell_type": "code",
   "execution_count": 179,
   "id": "fe5df3ed",
   "metadata": {},
   "outputs": [
    {
     "data": {
      "text/plain": [
       "Index(['age', 'workclass', 'education-num', 'marital-status', 'occupation',\n",
       "       'relationship', 'race', 'sex', 'capital-gain', 'capital-loss',\n",
       "       'hours-per-week', 'native-country', 'income', 'education-num_label',\n",
       "       'scaled_fnlwgt'],\n",
       "      dtype='object')"
      ]
     },
     "execution_count": 179,
     "metadata": {},
     "output_type": "execute_result"
    }
   ],
   "source": [
    "train.columns"
   ]
  },
  {
   "cell_type": "code",
   "execution_count": 180,
   "id": "184224f4",
   "metadata": {},
   "outputs": [
    {
     "data": {
      "text/plain": [
       "Index(['age', 'workclass', 'education-num', 'marital-status', 'occupation',\n",
       "       'relationship', 'race', 'sex', 'capital-gain', 'capital-loss',\n",
       "       'hours-per-week', 'native-country', 'education-num_label',\n",
       "       'scaled_fnlwgt'],\n",
       "      dtype='object')"
      ]
     },
     "execution_count": 180,
     "metadata": {},
     "output_type": "execute_result"
    }
   ],
   "source": [
    "test.columns"
   ]
  },
  {
   "cell_type": "code",
   "execution_count": 181,
   "id": "89eeae49",
   "metadata": {},
   "outputs": [
    {
     "data": {
      "text/plain": [
       "{'income'}"
      ]
     },
     "execution_count": 181,
     "metadata": {},
     "output_type": "execute_result"
    }
   ],
   "source": [
    "set(train.columns)-set(test.columns)"
   ]
  },
  {
   "cell_type": "code",
   "execution_count": 182,
   "id": "c3cb7de9",
   "metadata": {
    "scrolled": true
   },
   "outputs": [
    {
     "name": "stdout",
     "output_type": "stream",
     "text": [
      "<class 'pandas.core.frame.DataFrame'>\n",
      "Int64Index: 29305 entries, 1 to 29305\n",
      "Data columns (total 15 columns):\n",
      " #   Column               Non-Null Count  Dtype  \n",
      "---  ------               --------------  -----  \n",
      " 0   age                  29305 non-null  int64  \n",
      " 1   workclass            29305 non-null  object \n",
      " 2   education-num        29305 non-null  int64  \n",
      " 3   marital-status       29305 non-null  object \n",
      " 4   occupation           27637 non-null  object \n",
      " 5   relationship         29305 non-null  object \n",
      " 6   race                 29305 non-null  object \n",
      " 7   sex                  29305 non-null  object \n",
      " 8   capital-gain         29305 non-null  int64  \n",
      " 9   capital-loss         29305 non-null  int64  \n",
      " 10  hours-per-week       29305 non-null  int64  \n",
      " 11  native-country       29305 non-null  object \n",
      " 12  income               29305 non-null  int64  \n",
      " 13  education-num_label  29305 non-null  int64  \n",
      " 14  scaled_fnlwgt        29305 non-null  float64\n",
      "dtypes: float64(1), int64(7), object(7)\n",
      "memory usage: 3.6+ MB\n"
     ]
    }
   ],
   "source": [
    "train.info()"
   ]
  },
  {
   "cell_type": "code",
   "execution_count": 183,
   "id": "82ba3a63",
   "metadata": {},
   "outputs": [
    {
     "data": {
      "text/plain": [
       "Index(['workclass', 'marital-status', 'occupation', 'relationship', 'race',\n",
       "       'sex', 'native-country'],\n",
       "      dtype='object')"
      ]
     },
     "execution_count": 183,
     "metadata": {},
     "output_type": "execute_result"
    }
   ],
   "source": [
    "train.select_dtypes(object).columns"
   ]
  },
  {
   "cell_type": "markdown",
   "id": "3276455f",
   "metadata": {},
   "source": [
    "# 인코딩"
   ]
  },
  {
   "cell_type": "code",
   "execution_count": 184,
   "id": "47132ea2",
   "metadata": {},
   "outputs": [
    {
     "name": "stdout",
     "output_type": "stream",
     "text": [
      "<class 'pandas.core.frame.DataFrame'>\n",
      "Int64Index: 29305 entries, 1 to 29305\n",
      "Data columns (total 15 columns):\n",
      " #   Column               Non-Null Count  Dtype  \n",
      "---  ------               --------------  -----  \n",
      " 0   age                  29305 non-null  int64  \n",
      " 1   workclass            29305 non-null  object \n",
      " 2   education-num        29305 non-null  int64  \n",
      " 3   marital-status       29305 non-null  object \n",
      " 4   occupation           27637 non-null  object \n",
      " 5   relationship         29305 non-null  object \n",
      " 6   race                 29305 non-null  object \n",
      " 7   sex                  29305 non-null  object \n",
      " 8   capital-gain         29305 non-null  int64  \n",
      " 9   capital-loss         29305 non-null  int64  \n",
      " 10  hours-per-week       29305 non-null  int64  \n",
      " 11  native-country       29305 non-null  object \n",
      " 12  income               29305 non-null  int64  \n",
      " 13  education-num_label  29305 non-null  int64  \n",
      " 14  scaled_fnlwgt        29305 non-null  float64\n",
      "dtypes: float64(1), int64(7), object(7)\n",
      "memory usage: 3.6+ MB\n"
     ]
    }
   ],
   "source": [
    "train.info()"
   ]
  },
  {
   "cell_type": "code",
   "execution_count": 185,
   "id": "45e35d7c",
   "metadata": {},
   "outputs": [
    {
     "data": {
      "text/plain": [
       "Index(['workclass', 'marital-status', 'occupation', 'relationship', 'race',\n",
       "       'sex', 'native-country'],\n",
       "      dtype='object')"
      ]
     },
     "execution_count": 185,
     "metadata": {},
     "output_type": "execute_result"
    }
   ],
   "source": [
    "# object 컬럼만 가져오기\n",
    "train.select_dtypes(object).columns"
   ]
  },
  {
   "cell_type": "code",
   "execution_count": 186,
   "id": "b0c31feb",
   "metadata": {},
   "outputs": [],
   "source": [
    "# categorical_features = [\"workclass\",\"marital-status\",\"occupation\",\"relationship\",\"race\",'sex','native-country']\n",
    "categorical_features = train.select_dtypes(object).columns"
   ]
  },
  {
   "cell_type": "code",
   "execution_count": 187,
   "id": "119e75e2",
   "metadata": {},
   "outputs": [],
   "source": [
    "# 반복문으로 인코딩하기\n",
    "for feature_name in categorical_features :\n",
    "    one_hot = pd.get_dummies(train[feature_name], prefix=feature_name) \n",
    "    # prefix : 컬럼명 앞에 라벨(똑같은 클래스가 있으면 중복되기때문)\n",
    "    train = pd.concat([train,one_hot],axis=1) # 기존 데이터 끝에 one_hot을 붙임\n",
    "    train.drop(feature_name,axis=1,inplace=True) # 기존 글자컬럼을 삭제"
   ]
  },
  {
   "cell_type": "code",
   "execution_count": 188,
   "id": "f2d9cc3d",
   "metadata": {},
   "outputs": [],
   "source": [
    "# test 도 똑같이적용\n",
    "for feature_name in categorical_features :\n",
    "    one_hot = pd.get_dummies(test[feature_name], prefix=feature_name) \n",
    "    # prefix : 컬럼명 앞에 라벨(똑같은 클래스가 있으면 중복되기때문)\n",
    "    test = pd.concat([test,one_hot],axis=1) # 기존 데이터 끝에 one_hot을 붙임\n",
    "    test.drop(feature_name,axis=1,inplace=True) # 기존 글자컬럼을 삭제"
   ]
  },
  {
   "cell_type": "code",
   "execution_count": 189,
   "id": "dd21bca9",
   "metadata": {},
   "outputs": [
    {
     "data": {
      "text/plain": [
       "Index(['age', 'education-num', 'capital-gain', 'capital-loss',\n",
       "       'hours-per-week', 'income', 'education-num_label', 'scaled_fnlwgt',\n",
       "       'workclass_Private', 'workclass_Self-emp-inc',\n",
       "       'workclass_Self-emp-not-inc', 'workclass_gov', 'workclass_other',\n",
       "       'marital-status_Divorced', 'marital-status_Married-civ-spouse',\n",
       "       'marital-status_Never-married', 'marital-status_Other', 'occupation_a',\n",
       "       'occupation_b', 'occupation_c', 'occupation_d', 'occupation_e',\n",
       "       'occupation_f', 'relationship_Husband', 'relationship_Not-in-family',\n",
       "       'relationship_Wife', 'relationship_m', 'race_Black', 'race_White',\n",
       "       'race_other', 'sex_Female', 'sex_Male', 'native-country_United-States',\n",
       "       'native-country_other-country'],\n",
       "      dtype='object')"
      ]
     },
     "execution_count": 189,
     "metadata": {},
     "output_type": "execute_result"
    }
   ],
   "source": [
    "train.columns"
   ]
  },
  {
   "cell_type": "code",
   "execution_count": 190,
   "id": "fd199453",
   "metadata": {},
   "outputs": [
    {
     "data": {
      "text/plain": [
       "((29305, 34), (19537, 33))"
      ]
     },
     "execution_count": 190,
     "metadata": {},
     "output_type": "execute_result"
    }
   ],
   "source": [
    "train.shape, test.shape"
   ]
  },
  {
   "cell_type": "markdown",
   "id": "ea28c049",
   "metadata": {},
   "source": [
    "# 인코딩 후 드랍"
   ]
  },
  {
   "cell_type": "code",
   "execution_count": 191,
   "id": "c0caca57",
   "metadata": {},
   "outputs": [],
   "source": [
    "train.drop('workclass_other',axis=1,inplace=True)\n",
    "test.drop('workclass_other',axis=1,inplace=True)"
   ]
  },
  {
   "cell_type": "markdown",
   "id": "ae3da35c",
   "metadata": {},
   "source": [
    "# 특성 라벨 분리"
   ]
  },
  {
   "cell_type": "code",
   "execution_count": 192,
   "id": "82276b72",
   "metadata": {},
   "outputs": [],
   "source": [
    "X_train = train.drop(\"income\",axis=1)\n",
    "y_train = train['income']"
   ]
  },
  {
   "cell_type": "code",
   "execution_count": 193,
   "id": "96a8be8e",
   "metadata": {},
   "outputs": [
    {
     "data": {
      "text/plain": [
       "((29305, 32), (29305,))"
      ]
     },
     "execution_count": 193,
     "metadata": {},
     "output_type": "execute_result"
    }
   ],
   "source": [
    "X_train.shape, y_train.shape"
   ]
  },
  {
   "cell_type": "markdown",
   "id": "f91a3da1",
   "metadata": {},
   "source": [
    "# 앙상블 랜덤포레스트"
   ]
  },
  {
   "cell_type": "code",
   "execution_count": 194,
   "id": "0e7040a9",
   "metadata": {},
   "outputs": [],
   "source": [
    "# 0.8609793550588638\n",
    "\n",
    "# rf_model = RandomForestClassifier(n_estimators=200, # 배깅할 모델 갯수\n",
    "#                                   max_features=0.7, # 각 모델이 랜덤하게 사용할 특성수(비율),만약 너무 높다면 다양한 의견이 줄어들수있음\n",
    "#                                   max_depth=15, # 각 모델의 최대 깊이(기본 DecisionTree에서 사용되는 파라미터를 다 사용가능)\n",
    "#                                   min_samples_leaf=20,\n",
    "#                                   random_state=721 #난수고정\n",
    "#                                  )\n",
    "# # 앙상블 모델은 파라미터를 전부 고려해서 튜닝을 해줘야함 (예를들어 4중 for문 필요 그래서 그리드서치 사용)"
   ]
  },
  {
   "cell_type": "code",
   "execution_count": 195,
   "id": "5d6fff05",
   "metadata": {},
   "outputs": [],
   "source": [
    "# 0.8616277085821531\n",
    "\n",
    "# rf_model = RandomForestClassifier(n_estimators=200, # 배깅할 모델 갯수\n",
    "#                                   max_features=0.5, # 각 모델이 랜덤하게 사용할 특성수(비율),만약 너무 높다면 다양한 의견이 줄어들수있음\n",
    "#                                   max_depth=15, # 각 모델의 최대 깊이(기본 DecisionTree에서 사용되는 파라미터를 다 사용가능)\n",
    "#                                   min_samples_leaf=20,\n",
    "#                                   random_state=721 #난수고정\n",
    "#                                  )\n",
    "# # 앙상블 모델은 파라미터를 전부 고려해서 튜닝을 해줘야함 (예를들어 4중 for문 필요 그래서 그리드서치 사용)"
   ]
  },
  {
   "cell_type": "code",
   "execution_count": 196,
   "id": "20fbcad7",
   "metadata": {},
   "outputs": [],
   "source": [
    "# # 0.86650 캐글 점수\n",
    "# rf_model = RandomForestClassifier(n_estimators=200, # 배깅할 모델 갯수\n",
    "#                                   max_features=0.5, # 각 모델이 랜덤하게 사용할 특성수(비율),만약 너무 높다면 다양한 의견이 줄어들수있음\n",
    "#                                   max_depth=15, # 각 모델의 최대 깊이(기본 DecisionTree에서 사용되는 파라미터를 다 사용가능)\n",
    "#                                   min_samples_leaf=20,\n",
    "#                                   random_state=721 #난수고정\n",
    "#                                  )\n",
    "# # 앙상블 모델은 파라미터를 전부 고려해서 튜닝을 해줘야함 (예를들어 4중 for문 필요 그래서 그리드서치 사용)"
   ]
  },
  {
   "cell_type": "code",
   "execution_count": 197,
   "id": "397d0467",
   "metadata": {},
   "outputs": [],
   "source": [
    "# rf_rs = cross_val_score(rf_model,X_train,y_train,cv=5)"
   ]
  },
  {
   "cell_type": "code",
   "execution_count": 198,
   "id": "fe140a0f",
   "metadata": {},
   "outputs": [],
   "source": [
    "# rf_rs"
   ]
  },
  {
   "cell_type": "code",
   "execution_count": 199,
   "id": "16267c31",
   "metadata": {},
   "outputs": [],
   "source": [
    "# rf_model.fit(X_train,y_train)"
   ]
  },
  {
   "cell_type": "code",
   "execution_count": 200,
   "id": "9585605c",
   "metadata": {},
   "outputs": [],
   "source": [
    "# pre = rf_model.predict(test)"
   ]
  },
  {
   "cell_type": "code",
   "execution_count": 201,
   "id": "e86f6d10",
   "metadata": {},
   "outputs": [],
   "source": [
    "# submission[\"income\"] = pre\n",
    "# submission.to_csv('data/no1_pre.csv')"
   ]
  },
  {
   "cell_type": "markdown",
   "id": "c3f5af6d",
   "metadata": {},
   "source": [
    "# XGB부스트"
   ]
  },
  {
   "cell_type": "markdown",
   "id": "93ef47c9",
   "metadata": {},
   "source": [
    "## 0721 전처리 전 실행"
   ]
  },
  {
   "cell_type": "code",
   "execution_count": 202,
   "id": "2669a770",
   "metadata": {},
   "outputs": [],
   "source": [
    "# 0.8692714553830404\n",
    "\n",
    "# xgb_model = XGBClassifier(booster='gbtree', # 모델의 종류 (이 값은 고정)\n",
    "#                           n_estimators=200, # 앙상블 모델 갯수\n",
    "#                           learning_rate=0.3, # 학습률\n",
    "#                           max_depth = 4, # 최대깊이(일반적으로 깊게 설정x)\n",
    "#                           gamma = 0.2 # 리프노드를 어떻게 나눌것이냐(값이 크면 모델 단순, 작아지면 모델이 복잡)\n",
    "#                          )"
   ]
  },
  {
   "cell_type": "code",
   "execution_count": 203,
   "id": "b6900c29",
   "metadata": {},
   "outputs": [],
   "source": [
    "# 0.8710117727350282\n",
    "\n",
    "# xgb_model = XGBClassifier(booster='gbtree', # 모델의 종류 (이 값은 고정)\n",
    "#                           n_estimators=200, # 앙상블 모델 갯수\n",
    "#                           learning_rate=0.1, # 학습률\n",
    "#                           max_depth = 4, # 최대깊이(일반적으로 깊게 설정x)\n",
    "#                           gamma = 0.2 # 리프노드를 어떻게 나눌것이냐(값이 크면 모델 단순, 작아지면 모델이 복잡)\n",
    "#                          )"
   ]
  },
  {
   "cell_type": "code",
   "execution_count": 204,
   "id": "de715db0",
   "metadata": {},
   "outputs": [],
   "source": [
    "# 0.8643576181538986\n",
    "\n",
    "# xgb_model = XGBClassifier(booster='gbtree', # 모델의 종류 (이 값은 고정)\n",
    "#                           n_estimators=500, # 앙상블 모델 갯수\n",
    "#                           learning_rate=0.1, # 학습률\n",
    "#                           max_depth = 10, # 최대깊이(일반적으로 깊게 설정x)\n",
    "#                           gamma = 0.2 # 리프노드를 어떻게 나눌것이냐(값이 크면 모델 단순, 작아지면 모델이 복잡)\n",
    "#                          )"
   ]
  },
  {
   "cell_type": "code",
   "execution_count": 205,
   "id": "31735d9f",
   "metadata": {},
   "outputs": [],
   "source": [
    "# 0.8701245521242109\n",
    "\n",
    "# xgb_model = XGBClassifier(booster='gbtree', # 모델의 종류 (이 값은 고정)\n",
    "#                           n_estimators=500, # 앙상블 모델 갯수\n",
    "#                           learning_rate=0.1, # 학습률\n",
    "#                           max_depth = 5, # 최대깊이(일반적으로 깊게 설정x)\n",
    "#                           gamma = 0.2 # 리프노드를 어떻게 나눌것이냐(값이 크면 모델 단순, 작아지면 모델이 복잡)\n",
    "#                          )"
   ]
  },
  {
   "cell_type": "code",
   "execution_count": 206,
   "id": "1b4a6640",
   "metadata": {},
   "outputs": [],
   "source": [
    "# 0.8708752772564408\n",
    "\n",
    "# xgb_model = XGBClassifier(booster='gbtree', # 모델의 종류 (이 값은 고정)\n",
    "#                           n_estimators=500, # 앙상블 모델 갯수\n",
    "#                           learning_rate=0.1, # 학습률\n",
    "#                           max_depth = 5, # 최대깊이(일반적으로 깊게 설정x)\n",
    "#                           gamma = 0.4 # 리프노드를 어떻게 나눌것이냐(값이 크면 모델 단순, 작아지면 모델이 복잡)\n",
    "#                          )"
   ]
  },
  {
   "cell_type": "code",
   "execution_count": 207,
   "id": "b2699e24",
   "metadata": {},
   "outputs": [],
   "source": [
    "# 0.8716260023886709\n",
    "\n",
    "# xgb_model = XGBClassifier(booster='gbtree', # 모델의 종류 (이 값은 고정)\n",
    "#                           n_estimators=500, # 앙상블 모델 갯수\n",
    "#                           learning_rate=0.1, # 학습률\n",
    "#                           max_depth = 4, # 최대깊이(일반적으로 깊게 설정x)\n",
    "#                           gamma = 0.5 # 리프노드를 어떻게 나눌것이냐(값이 크면 모델 단순, 작아지면 모델이 복잡)\n",
    "#                          )"
   ]
  },
  {
   "cell_type": "code",
   "execution_count": 208,
   "id": "acbc7e23",
   "metadata": {},
   "outputs": [],
   "source": [
    "# 0.8716260023886709\n",
    "\n",
    "# xgb_model = XGBClassifier(booster='gbtree', # 모델의 종류 (이 값은 고정)\n",
    "#                           n_estimators=1000, # 앙상블 모델 갯수\n",
    "#                           learning_rate=0.1, # 학습률\n",
    "#                           max_depth = 4, # 최대깊이(일반적으로 깊게 설정x)\n",
    "#                           gamma = 0.5 # 리프노드를 어떻게 나눌것이냐(값이 크면 모델 단순, 작아지면 모델이 복잡)\n",
    "#                          )"
   ]
  },
  {
   "cell_type": "code",
   "execution_count": 209,
   "id": "5607264a",
   "metadata": {},
   "outputs": [],
   "source": [
    "# 0.870090428254564\n",
    "\n",
    "# xgb_model = XGBClassifier(booster='gbtree', # 모델의 종류 (이 값은 고정)\n",
    "#                           n_estimators=1000, # 앙상블 모델 갯수\n",
    "#                           learning_rate=0.3, # 학습률\n",
    "#                       a    max_depth = 4, # 최대깊이(일반적으로 깊게 설정x)\n",
    "#                           gamma = 0.5 # 리프노드를 어떻게 나눌것이냐(값이 크면 모델 단순, 작아지면 모델이 복잡)\n",
    "#                          )"
   ]
  },
  {
   "cell_type": "code",
   "execution_count": 210,
   "id": "3ee0f347",
   "metadata": {},
   "outputs": [],
   "source": [
    "# 0.871796621736905\n",
    "\n",
    "# xgb_model = XGBClassifier(booster='gbtree', # 모델의 종류 (이 값은 고정)\n",
    "#                           n_estimators=1000, # 앙상블 모델 갯수\n",
    "#                           learning_rate=0.1, # 학습률\n",
    "#                           max_depth = 3, # 최대깊이(일반적으로 깊게 설정x)\n",
    "#                           gamma = 0.5 # 리프노드를 어떻게 나눌것이냐(값이 크면 모델 단순, 작아지면 모델이 복잡)\n",
    "#                          )"
   ]
  },
  {
   "cell_type": "code",
   "execution_count": 211,
   "id": "c905d8f3",
   "metadata": {},
   "outputs": [],
   "source": [
    "# 0.8724449752601945\n",
    "\n",
    "# xgb_model = XGBClassifier(booster='gbtree', # 모델의 종류 (이 값은 고정)\n",
    "#                           n_estimators=1000, # 앙상블 모델 갯수\n",
    "#                           learning_rate=0.1, # 학습률\n",
    "#                           max_depth = 3, # 최대깊이(일반적으로 깊게 설정x)\n",
    "#                           gamma = 0.7 # 리프노드를 어떻게 나눌것이냐(값이 크면 모델 단순, 작아지면 모델이 복잡)\n",
    "#                          )"
   ]
  },
  {
   "cell_type": "code",
   "execution_count": 212,
   "id": "53054c0a",
   "metadata": {},
   "outputs": [],
   "source": [
    "# 0.871796621736905\n",
    "\n",
    "# xgb_model = XGBClassifier(booster='gbtree', # 모델의 종류 (이 값은 고정)\n",
    "#                           n_estimators=1000, # 앙상블 모델 갯수\n",
    "#                           learning_rate=0.1, # 학습률\n",
    "#                           max_depth = 3, # 최대깊이(일반적으로 깊게 설정x)\n",
    "#                           gamma = 0.2 # 리프노드를 어떻게 나눌것이냐(값이 크면 모델 단순, 작아지면 모델이 복잡)\n",
    "#                          )"
   ]
  },
  {
   "cell_type": "code",
   "execution_count": 213,
   "id": "a8882891",
   "metadata": {},
   "outputs": [],
   "source": [
    "# 0.8712847636922026\n",
    "\n",
    "# xgb_model = XGBClassifier(booster='gbtree', # 모델의 종류 (이 값은 고정)\n",
    "#                           n_estimators=1000, # 앙상블 모델 갯수\n",
    "#                           learning_rate=0.1, # 학습률\n",
    "#                           max_depth = 4, # 최대깊이(일반적으로 깊게 설정x)\n",
    "#                           gamma = 0.7 # 리프노드를 어떻게 나눌것이냐(값이 크면 모델 단순, 작아지면 모델이 복잡)\n",
    "#                          )"
   ]
  },
  {
   "cell_type": "code",
   "execution_count": 214,
   "id": "980bfc40",
   "metadata": {},
   "outputs": [],
   "source": [
    "# 0.8712847636922026\n",
    "\n",
    "# xgb_model = XGBClassifier(booster='gbtree', # 모델의 종류 (이 값은 고정)\n",
    "#                           n_estimators=1000, # 앙상블 모델 갯수\n",
    "#                           learning_rate=0.1, # 학습률\n",
    "#                           max_depth = 3, # 최대깊이(일반적으로 깊게 설정x)\n",
    "#                           gamma = 0.2 # 리프노드를 어떻게 나눌것이냐(값이 크면 모델 단순, 작아지면 모델이 복잡)\n",
    "#                          )"
   ]
  },
  {
   "cell_type": "code",
   "execution_count": 215,
   "id": "dbc1a5e2",
   "metadata": {},
   "outputs": [],
   "source": [
    "# 0.8724449752601945\n",
    "\n",
    "# xgb_model = XGBClassifier(booster='gbtree', # 모델의 종류 (이 값은 고정)\n",
    "#                           n_estimators=1000, # 앙상블 모델 갯수\n",
    "#                           learning_rate=0.1, # 학습률\n",
    "#                           max_depth = 3, # 최대깊이(일반적으로 깊게 설정x)\n",
    "#                           gamma = 0.7, # 리프노드를 어떻게 나눌것이냐(값이 크면 모델 단순, 작아지면 모델이 복잡)\n",
    "#                           random_state = 721\n",
    "#                          )"
   ]
  },
  {
   "cell_type": "code",
   "execution_count": 216,
   "id": "9c5194bb",
   "metadata": {},
   "outputs": [],
   "source": [
    "# xgb_model = XGBClassifier(booster='gbtree', # 모델의 종류 (이 값은 고정)\n",
    "#                           n_estimators=1000, # 앙상블 모델 갯수\n",
    "#                           learning_rate=0.1, # 학습률\n",
    "#                           max_depth = 3, # 최대깊이(일반적으로 깊게 설정x)\n",
    "#                           gamma = 0.2 # 리프노드를 어떻게 나눌것이냐(값이 크면 모델 단순, 작아지면 모델이 복잡)\n",
    "#                          )"
   ]
  },
  {
   "cell_type": "code",
   "execution_count": 217,
   "id": "f7b9f97c",
   "metadata": {},
   "outputs": [],
   "source": [
    "# xgb_model = XGBClassifier(booster='gbtree', # 모델의 종류 (이 값은 고정)\n",
    "#                          )"
   ]
  },
  {
   "cell_type": "code",
   "execution_count": 218,
   "id": "8f3c20c1",
   "metadata": {},
   "outputs": [],
   "source": [
    "# param_grid = {\n",
    "#     'max_depth' : [3,4,5],\n",
    "#     'learning_rate' : [0.1,0.2,0.3],\n",
    "#     'n_estimators' : [500,850,1000],\n",
    "#     'gamma' : [0.2,0.4,0.8]\n",
    "# }\n",
    "\n",
    "# # 튜닝할 모델, 사용할 파라미터, 교차검증 횟수\n",
    "# grid = GridSearchCV(xgb_model,param_grid,cv=5)\n",
    "# # n_jobs : cpu 코어수가 많으면 n_jobs로 지정해서 여러 코어 사용가능 -1을 하면 모든 리소르를 끌어옴"
   ]
  },
  {
   "cell_type": "code",
   "execution_count": 219,
   "id": "64f024f0",
   "metadata": {},
   "outputs": [],
   "source": [
    "# # 튜닝할 모델, 사용할 파라미터, 교차검증 횟수\n",
    "# grid = GridSearchCV(xgb_model,param_grid,cv=5)\n",
    "# # n_jobs : cpu 코어수가 많으면 n_jobs로 지정해서 여러 코어 사용가능 -1을 하면 모든 리소르를 끌어옴"
   ]
  },
  {
   "cell_type": "code",
   "execution_count": 220,
   "id": "9df20614",
   "metadata": {},
   "outputs": [],
   "source": [
    "# grid.fit(X_train,y_train)"
   ]
  },
  {
   "cell_type": "code",
   "execution_count": 221,
   "id": "8b2240fd",
   "metadata": {},
   "outputs": [],
   "source": [
    "# grid.best_estimator_"
   ]
  },
  {
   "cell_type": "code",
   "execution_count": 222,
   "id": "f16acffa",
   "metadata": {},
   "outputs": [],
   "source": [
    "# grid.best_index_"
   ]
  },
  {
   "cell_type": "code",
   "execution_count": 223,
   "id": "ce9570ba",
   "metadata": {},
   "outputs": [],
   "source": [
    "# grid.best_params_"
   ]
  },
  {
   "cell_type": "code",
   "execution_count": 224,
   "id": "21e42a21",
   "metadata": {},
   "outputs": [],
   "source": [
    "# grid.best_score_"
   ]
  },
  {
   "cell_type": "code",
   "execution_count": 225,
   "id": "cb2409ee",
   "metadata": {},
   "outputs": [],
   "source": [
    "# xgb_model = XGBClassifier(booster='gbtree', # 모델의 종류 (이 값은 고정)\n",
    "#                           n_estimators=500, # 앙상블 모델 갯수\n",
    "#                           learning_rate=0.1, # 학습률\n",
    "#                           max_depth = 3, # 최대깊이(일반적으로 깊게 설정x)\n",
    "#                           gamma = 0.2, # 리프노드를 어떻게 나눌것이냐(값이 크면 모델 단순, 작아지면 모델이 복잡)\n",
    "#                           random_state = 721\n",
    "#                          )"
   ]
  },
  {
   "cell_type": "code",
   "execution_count": 226,
   "id": "913d2464",
   "metadata": {},
   "outputs": [],
   "source": [
    "# xgb_model.fit(X_train,y_train)"
   ]
  },
  {
   "cell_type": "code",
   "execution_count": 227,
   "id": "f907d8d8",
   "metadata": {},
   "outputs": [],
   "source": [
    "# grid.best_estimator_"
   ]
  },
  {
   "cell_type": "code",
   "execution_count": 228,
   "id": "31e965d7",
   "metadata": {},
   "outputs": [],
   "source": [
    "# best_model = grid.best_estimator_\n",
    "# pre = best_model.predict(X_test)"
   ]
  },
  {
   "cell_type": "code",
   "execution_count": 229,
   "id": "89425d8d",
   "metadata": {},
   "outputs": [],
   "source": [
    "# xgb_cv = cross_val_score(xgb_model,X_train,y_train,cv=5)\n",
    "# xgb_cv.mean()"
   ]
  },
  {
   "cell_type": "code",
   "execution_count": 230,
   "id": "a6f215e7",
   "metadata": {},
   "outputs": [],
   "source": [
    "# xgb_cv"
   ]
  },
  {
   "cell_type": "code",
   "execution_count": 231,
   "id": "610a06aa",
   "metadata": {},
   "outputs": [],
   "source": [
    "# xgb_model.fit(X_train,y_train)"
   ]
  },
  {
   "cell_type": "code",
   "execution_count": 232,
   "id": "1de1abe3",
   "metadata": {},
   "outputs": [],
   "source": [
    "# pre = xgb_model.predict(test)"
   ]
  },
  {
   "cell_type": "code",
   "execution_count": 233,
   "id": "f321a03b",
   "metadata": {},
   "outputs": [],
   "source": [
    "# submission[\"income\"] = pre\n",
    "# submission.to_csv('data/xgb_model_r02_pre.csv')"
   ]
  },
  {
   "cell_type": "markdown",
   "id": "167376c1",
   "metadata": {},
   "source": [
    "-\n",
    "-xgb_model = XGBClassifier(booster='gbtree', # 모델의 종류 (이 값은 고정)\n",
    "-                          n_estimators=500, # 앙상블 모델 갯수\n",
    "-                          learning_rate=0.1, # 학습률\n",
    "-                          max_depth = 3, # 최대깊이(일반적으로 깊게 설정x)\n",
    "-                          gamma = 0.2, # 리프노드를 어떻게 나눌것이냐(값이 크면 모델 단순, 작아지면 모델이 복잡)\n",
    "-                          random_state = 721\n",
    "-                         )\n",
    "-\n",
    "\n",
    "    - 0.87755 best(캐글), 0.872444975260194(스코어)"
   ]
  },
  {
   "cell_type": "markdown",
   "id": "ca76cfa5",
   "metadata": {},
   "source": [
    "## 0722 실행"
   ]
  },
  {
   "cell_type": "code",
   "execution_count": 234,
   "id": "6d616d27",
   "metadata": {},
   "outputs": [],
   "source": [
    "from sklearn.model_selection import GridSearchCV"
   ]
  },
  {
   "cell_type": "code",
   "execution_count": 235,
   "id": "325483b2",
   "metadata": {},
   "outputs": [],
   "source": [
    "param_grid= {\n",
    "    'max_depth' : [10,12,14],\n",
    "    'n_estimators' : [100,120,150],\n",
    "    'max_features' : [0.6,0.7,0.75],\n",
    "    'min_samples_leaf' : [6,7,9]\n",
    "}"
   ]
  },
  {
   "cell_type": "code",
   "execution_count": 236,
   "id": "3f359d64",
   "metadata": {},
   "outputs": [],
   "source": [
    "model = RandomForestClassifier(random_state=917)\n",
    "grid = GridSearchCV(model, param_grid, cv=6, n_jobs = -1) "
   ]
  },
  {
   "cell_type": "code",
   "execution_count": 237,
   "id": "ce8291b0",
   "metadata": {},
   "outputs": [
    {
     "ename": "KeyboardInterrupt",
     "evalue": "",
     "output_type": "error",
     "traceback": [
      "\u001b[1;31m---------------------------------------------------------------------------\u001b[0m",
      "\u001b[1;31mKeyboardInterrupt\u001b[0m                         Traceback (most recent call last)",
      "Input \u001b[1;32mIn [237]\u001b[0m, in \u001b[0;36m<cell line: 1>\u001b[1;34m()\u001b[0m\n\u001b[1;32m----> 1\u001b[0m \u001b[43mgrid\u001b[49m\u001b[38;5;241;43m.\u001b[39;49m\u001b[43mfit\u001b[49m\u001b[43m(\u001b[49m\u001b[43mX_train\u001b[49m\u001b[43m,\u001b[49m\u001b[43my_train\u001b[49m\u001b[43m)\u001b[49m\n",
      "File \u001b[1;32m~\\Anaconda3\\lib\\site-packages\\sklearn\\model_selection\\_search.py:891\u001b[0m, in \u001b[0;36mBaseSearchCV.fit\u001b[1;34m(self, X, y, groups, **fit_params)\u001b[0m\n\u001b[0;32m    885\u001b[0m     results \u001b[38;5;241m=\u001b[39m \u001b[38;5;28mself\u001b[39m\u001b[38;5;241m.\u001b[39m_format_results(\n\u001b[0;32m    886\u001b[0m         all_candidate_params, n_splits, all_out, all_more_results\n\u001b[0;32m    887\u001b[0m     )\n\u001b[0;32m    889\u001b[0m     \u001b[38;5;28;01mreturn\u001b[39;00m results\n\u001b[1;32m--> 891\u001b[0m \u001b[38;5;28;43mself\u001b[39;49m\u001b[38;5;241;43m.\u001b[39;49m\u001b[43m_run_search\u001b[49m\u001b[43m(\u001b[49m\u001b[43mevaluate_candidates\u001b[49m\u001b[43m)\u001b[49m\n\u001b[0;32m    893\u001b[0m \u001b[38;5;66;03m# multimetric is determined here because in the case of a callable\u001b[39;00m\n\u001b[0;32m    894\u001b[0m \u001b[38;5;66;03m# self.scoring the return type is only known after calling\u001b[39;00m\n\u001b[0;32m    895\u001b[0m first_test_score \u001b[38;5;241m=\u001b[39m all_out[\u001b[38;5;241m0\u001b[39m][\u001b[38;5;124m\"\u001b[39m\u001b[38;5;124mtest_scores\u001b[39m\u001b[38;5;124m\"\u001b[39m]\n",
      "File \u001b[1;32m~\\Anaconda3\\lib\\site-packages\\sklearn\\model_selection\\_search.py:1392\u001b[0m, in \u001b[0;36mGridSearchCV._run_search\u001b[1;34m(self, evaluate_candidates)\u001b[0m\n\u001b[0;32m   1390\u001b[0m \u001b[38;5;28;01mdef\u001b[39;00m \u001b[38;5;21m_run_search\u001b[39m(\u001b[38;5;28mself\u001b[39m, evaluate_candidates):\n\u001b[0;32m   1391\u001b[0m     \u001b[38;5;124;03m\"\"\"Search all candidates in param_grid\"\"\"\u001b[39;00m\n\u001b[1;32m-> 1392\u001b[0m     \u001b[43mevaluate_candidates\u001b[49m\u001b[43m(\u001b[49m\u001b[43mParameterGrid\u001b[49m\u001b[43m(\u001b[49m\u001b[38;5;28;43mself\u001b[39;49m\u001b[38;5;241;43m.\u001b[39;49m\u001b[43mparam_grid\u001b[49m\u001b[43m)\u001b[49m\u001b[43m)\u001b[49m\n",
      "File \u001b[1;32m~\\Anaconda3\\lib\\site-packages\\sklearn\\model_selection\\_search.py:838\u001b[0m, in \u001b[0;36mBaseSearchCV.fit.<locals>.evaluate_candidates\u001b[1;34m(candidate_params, cv, more_results)\u001b[0m\n\u001b[0;32m    830\u001b[0m \u001b[38;5;28;01mif\u001b[39;00m \u001b[38;5;28mself\u001b[39m\u001b[38;5;241m.\u001b[39mverbose \u001b[38;5;241m>\u001b[39m \u001b[38;5;241m0\u001b[39m:\n\u001b[0;32m    831\u001b[0m     \u001b[38;5;28mprint\u001b[39m(\n\u001b[0;32m    832\u001b[0m         \u001b[38;5;124m\"\u001b[39m\u001b[38;5;124mFitting \u001b[39m\u001b[38;5;132;01m{0}\u001b[39;00m\u001b[38;5;124m folds for each of \u001b[39m\u001b[38;5;132;01m{1}\u001b[39;00m\u001b[38;5;124m candidates,\u001b[39m\u001b[38;5;124m\"\u001b[39m\n\u001b[0;32m    833\u001b[0m         \u001b[38;5;124m\"\u001b[39m\u001b[38;5;124m totalling \u001b[39m\u001b[38;5;132;01m{2}\u001b[39;00m\u001b[38;5;124m fits\u001b[39m\u001b[38;5;124m\"\u001b[39m\u001b[38;5;241m.\u001b[39mformat(\n\u001b[0;32m    834\u001b[0m             n_splits, n_candidates, n_candidates \u001b[38;5;241m*\u001b[39m n_splits\n\u001b[0;32m    835\u001b[0m         )\n\u001b[0;32m    836\u001b[0m     )\n\u001b[1;32m--> 838\u001b[0m out \u001b[38;5;241m=\u001b[39m \u001b[43mparallel\u001b[49m\u001b[43m(\u001b[49m\n\u001b[0;32m    839\u001b[0m \u001b[43m    \u001b[49m\u001b[43mdelayed\u001b[49m\u001b[43m(\u001b[49m\u001b[43m_fit_and_score\u001b[49m\u001b[43m)\u001b[49m\u001b[43m(\u001b[49m\n\u001b[0;32m    840\u001b[0m \u001b[43m        \u001b[49m\u001b[43mclone\u001b[49m\u001b[43m(\u001b[49m\u001b[43mbase_estimator\u001b[49m\u001b[43m)\u001b[49m\u001b[43m,\u001b[49m\n\u001b[0;32m    841\u001b[0m \u001b[43m        \u001b[49m\u001b[43mX\u001b[49m\u001b[43m,\u001b[49m\n\u001b[0;32m    842\u001b[0m \u001b[43m        \u001b[49m\u001b[43my\u001b[49m\u001b[43m,\u001b[49m\n\u001b[0;32m    843\u001b[0m \u001b[43m        \u001b[49m\u001b[43mtrain\u001b[49m\u001b[38;5;241;43m=\u001b[39;49m\u001b[43mtrain\u001b[49m\u001b[43m,\u001b[49m\n\u001b[0;32m    844\u001b[0m \u001b[43m        \u001b[49m\u001b[43mtest\u001b[49m\u001b[38;5;241;43m=\u001b[39;49m\u001b[43mtest\u001b[49m\u001b[43m,\u001b[49m\n\u001b[0;32m    845\u001b[0m \u001b[43m        \u001b[49m\u001b[43mparameters\u001b[49m\u001b[38;5;241;43m=\u001b[39;49m\u001b[43mparameters\u001b[49m\u001b[43m,\u001b[49m\n\u001b[0;32m    846\u001b[0m \u001b[43m        \u001b[49m\u001b[43msplit_progress\u001b[49m\u001b[38;5;241;43m=\u001b[39;49m\u001b[43m(\u001b[49m\u001b[43msplit_idx\u001b[49m\u001b[43m,\u001b[49m\u001b[43m \u001b[49m\u001b[43mn_splits\u001b[49m\u001b[43m)\u001b[49m\u001b[43m,\u001b[49m\n\u001b[0;32m    847\u001b[0m \u001b[43m        \u001b[49m\u001b[43mcandidate_progress\u001b[49m\u001b[38;5;241;43m=\u001b[39;49m\u001b[43m(\u001b[49m\u001b[43mcand_idx\u001b[49m\u001b[43m,\u001b[49m\u001b[43m \u001b[49m\u001b[43mn_candidates\u001b[49m\u001b[43m)\u001b[49m\u001b[43m,\u001b[49m\n\u001b[0;32m    848\u001b[0m \u001b[43m        \u001b[49m\u001b[38;5;241;43m*\u001b[39;49m\u001b[38;5;241;43m*\u001b[39;49m\u001b[43mfit_and_score_kwargs\u001b[49m\u001b[43m,\u001b[49m\n\u001b[0;32m    849\u001b[0m \u001b[43m    \u001b[49m\u001b[43m)\u001b[49m\n\u001b[0;32m    850\u001b[0m \u001b[43m    \u001b[49m\u001b[38;5;28;43;01mfor\u001b[39;49;00m\u001b[43m \u001b[49m\u001b[43m(\u001b[49m\u001b[43mcand_idx\u001b[49m\u001b[43m,\u001b[49m\u001b[43m \u001b[49m\u001b[43mparameters\u001b[49m\u001b[43m)\u001b[49m\u001b[43m,\u001b[49m\u001b[43m \u001b[49m\u001b[43m(\u001b[49m\u001b[43msplit_idx\u001b[49m\u001b[43m,\u001b[49m\u001b[43m \u001b[49m\u001b[43m(\u001b[49m\u001b[43mtrain\u001b[49m\u001b[43m,\u001b[49m\u001b[43m \u001b[49m\u001b[43mtest\u001b[49m\u001b[43m)\u001b[49m\u001b[43m)\u001b[49m\u001b[43m \u001b[49m\u001b[38;5;129;43;01min\u001b[39;49;00m\u001b[43m \u001b[49m\u001b[43mproduct\u001b[49m\u001b[43m(\u001b[49m\n\u001b[0;32m    851\u001b[0m \u001b[43m        \u001b[49m\u001b[38;5;28;43menumerate\u001b[39;49m\u001b[43m(\u001b[49m\u001b[43mcandidate_params\u001b[49m\u001b[43m)\u001b[49m\u001b[43m,\u001b[49m\u001b[43m \u001b[49m\u001b[38;5;28;43menumerate\u001b[39;49m\u001b[43m(\u001b[49m\u001b[43mcv\u001b[49m\u001b[38;5;241;43m.\u001b[39;49m\u001b[43msplit\u001b[49m\u001b[43m(\u001b[49m\u001b[43mX\u001b[49m\u001b[43m,\u001b[49m\u001b[43m \u001b[49m\u001b[43my\u001b[49m\u001b[43m,\u001b[49m\u001b[43m \u001b[49m\u001b[43mgroups\u001b[49m\u001b[43m)\u001b[49m\u001b[43m)\u001b[49m\n\u001b[0;32m    852\u001b[0m \u001b[43m    \u001b[49m\u001b[43m)\u001b[49m\n\u001b[0;32m    853\u001b[0m \u001b[43m\u001b[49m\u001b[43m)\u001b[49m\n\u001b[0;32m    855\u001b[0m \u001b[38;5;28;01mif\u001b[39;00m \u001b[38;5;28mlen\u001b[39m(out) \u001b[38;5;241m<\u001b[39m \u001b[38;5;241m1\u001b[39m:\n\u001b[0;32m    856\u001b[0m     \u001b[38;5;28;01mraise\u001b[39;00m \u001b[38;5;167;01mValueError\u001b[39;00m(\n\u001b[0;32m    857\u001b[0m         \u001b[38;5;124m\"\u001b[39m\u001b[38;5;124mNo fits were performed. \u001b[39m\u001b[38;5;124m\"\u001b[39m\n\u001b[0;32m    858\u001b[0m         \u001b[38;5;124m\"\u001b[39m\u001b[38;5;124mWas the CV iterator empty? \u001b[39m\u001b[38;5;124m\"\u001b[39m\n\u001b[0;32m    859\u001b[0m         \u001b[38;5;124m\"\u001b[39m\u001b[38;5;124mWere there no candidates?\u001b[39m\u001b[38;5;124m\"\u001b[39m\n\u001b[0;32m    860\u001b[0m     )\n",
      "File \u001b[1;32m~\\Anaconda3\\lib\\site-packages\\joblib\\parallel.py:1056\u001b[0m, in \u001b[0;36mParallel.__call__\u001b[1;34m(self, iterable)\u001b[0m\n\u001b[0;32m   1053\u001b[0m     \u001b[38;5;28mself\u001b[39m\u001b[38;5;241m.\u001b[39m_iterating \u001b[38;5;241m=\u001b[39m \u001b[38;5;28;01mFalse\u001b[39;00m\n\u001b[0;32m   1055\u001b[0m \u001b[38;5;28;01mwith\u001b[39;00m \u001b[38;5;28mself\u001b[39m\u001b[38;5;241m.\u001b[39m_backend\u001b[38;5;241m.\u001b[39mretrieval_context():\n\u001b[1;32m-> 1056\u001b[0m     \u001b[38;5;28;43mself\u001b[39;49m\u001b[38;5;241;43m.\u001b[39;49m\u001b[43mretrieve\u001b[49m\u001b[43m(\u001b[49m\u001b[43m)\u001b[49m\n\u001b[0;32m   1057\u001b[0m \u001b[38;5;66;03m# Make sure that we get a last message telling us we are done\u001b[39;00m\n\u001b[0;32m   1058\u001b[0m elapsed_time \u001b[38;5;241m=\u001b[39m time\u001b[38;5;241m.\u001b[39mtime() \u001b[38;5;241m-\u001b[39m \u001b[38;5;28mself\u001b[39m\u001b[38;5;241m.\u001b[39m_start_time\n",
      "File \u001b[1;32m~\\Anaconda3\\lib\\site-packages\\joblib\\parallel.py:935\u001b[0m, in \u001b[0;36mParallel.retrieve\u001b[1;34m(self)\u001b[0m\n\u001b[0;32m    933\u001b[0m \u001b[38;5;28;01mtry\u001b[39;00m:\n\u001b[0;32m    934\u001b[0m     \u001b[38;5;28;01mif\u001b[39;00m \u001b[38;5;28mgetattr\u001b[39m(\u001b[38;5;28mself\u001b[39m\u001b[38;5;241m.\u001b[39m_backend, \u001b[38;5;124m'\u001b[39m\u001b[38;5;124msupports_timeout\u001b[39m\u001b[38;5;124m'\u001b[39m, \u001b[38;5;28;01mFalse\u001b[39;00m):\n\u001b[1;32m--> 935\u001b[0m         \u001b[38;5;28mself\u001b[39m\u001b[38;5;241m.\u001b[39m_output\u001b[38;5;241m.\u001b[39mextend(\u001b[43mjob\u001b[49m\u001b[38;5;241;43m.\u001b[39;49m\u001b[43mget\u001b[49m\u001b[43m(\u001b[49m\u001b[43mtimeout\u001b[49m\u001b[38;5;241;43m=\u001b[39;49m\u001b[38;5;28;43mself\u001b[39;49m\u001b[38;5;241;43m.\u001b[39;49m\u001b[43mtimeout\u001b[49m\u001b[43m)\u001b[49m)\n\u001b[0;32m    936\u001b[0m     \u001b[38;5;28;01melse\u001b[39;00m:\n\u001b[0;32m    937\u001b[0m         \u001b[38;5;28mself\u001b[39m\u001b[38;5;241m.\u001b[39m_output\u001b[38;5;241m.\u001b[39mextend(job\u001b[38;5;241m.\u001b[39mget())\n",
      "File \u001b[1;32m~\\Anaconda3\\lib\\site-packages\\joblib\\_parallel_backends.py:542\u001b[0m, in \u001b[0;36mLokyBackend.wrap_future_result\u001b[1;34m(future, timeout)\u001b[0m\n\u001b[0;32m    539\u001b[0m \u001b[38;5;124;03m\"\"\"Wrapper for Future.result to implement the same behaviour as\u001b[39;00m\n\u001b[0;32m    540\u001b[0m \u001b[38;5;124;03mAsyncResults.get from multiprocessing.\"\"\"\u001b[39;00m\n\u001b[0;32m    541\u001b[0m \u001b[38;5;28;01mtry\u001b[39;00m:\n\u001b[1;32m--> 542\u001b[0m     \u001b[38;5;28;01mreturn\u001b[39;00m \u001b[43mfuture\u001b[49m\u001b[38;5;241;43m.\u001b[39;49m\u001b[43mresult\u001b[49m\u001b[43m(\u001b[49m\u001b[43mtimeout\u001b[49m\u001b[38;5;241;43m=\u001b[39;49m\u001b[43mtimeout\u001b[49m\u001b[43m)\u001b[49m\n\u001b[0;32m    543\u001b[0m \u001b[38;5;28;01mexcept\u001b[39;00m CfTimeoutError \u001b[38;5;28;01mas\u001b[39;00m e:\n\u001b[0;32m    544\u001b[0m     \u001b[38;5;28;01mraise\u001b[39;00m \u001b[38;5;167;01mTimeoutError\u001b[39;00m \u001b[38;5;28;01mfrom\u001b[39;00m \u001b[38;5;21;01me\u001b[39;00m\n",
      "File \u001b[1;32m~\\Anaconda3\\lib\\concurrent\\futures\\_base.py:441\u001b[0m, in \u001b[0;36mFuture.result\u001b[1;34m(self, timeout)\u001b[0m\n\u001b[0;32m    438\u001b[0m \u001b[38;5;28;01melif\u001b[39;00m \u001b[38;5;28mself\u001b[39m\u001b[38;5;241m.\u001b[39m_state \u001b[38;5;241m==\u001b[39m FINISHED:\n\u001b[0;32m    439\u001b[0m     \u001b[38;5;28;01mreturn\u001b[39;00m \u001b[38;5;28mself\u001b[39m\u001b[38;5;241m.\u001b[39m__get_result()\n\u001b[1;32m--> 441\u001b[0m \u001b[38;5;28;43mself\u001b[39;49m\u001b[38;5;241;43m.\u001b[39;49m\u001b[43m_condition\u001b[49m\u001b[38;5;241;43m.\u001b[39;49m\u001b[43mwait\u001b[49m\u001b[43m(\u001b[49m\u001b[43mtimeout\u001b[49m\u001b[43m)\u001b[49m\n\u001b[0;32m    443\u001b[0m \u001b[38;5;28;01mif\u001b[39;00m \u001b[38;5;28mself\u001b[39m\u001b[38;5;241m.\u001b[39m_state \u001b[38;5;129;01min\u001b[39;00m [CANCELLED, CANCELLED_AND_NOTIFIED]:\n\u001b[0;32m    444\u001b[0m     \u001b[38;5;28;01mraise\u001b[39;00m CancelledError()\n",
      "File \u001b[1;32m~\\Anaconda3\\lib\\threading.py:312\u001b[0m, in \u001b[0;36mCondition.wait\u001b[1;34m(self, timeout)\u001b[0m\n\u001b[0;32m    310\u001b[0m \u001b[38;5;28;01mtry\u001b[39;00m:    \u001b[38;5;66;03m# restore state no matter what (e.g., KeyboardInterrupt)\u001b[39;00m\n\u001b[0;32m    311\u001b[0m     \u001b[38;5;28;01mif\u001b[39;00m timeout \u001b[38;5;129;01mis\u001b[39;00m \u001b[38;5;28;01mNone\u001b[39;00m:\n\u001b[1;32m--> 312\u001b[0m         \u001b[43mwaiter\u001b[49m\u001b[38;5;241;43m.\u001b[39;49m\u001b[43macquire\u001b[49m\u001b[43m(\u001b[49m\u001b[43m)\u001b[49m\n\u001b[0;32m    313\u001b[0m         gotit \u001b[38;5;241m=\u001b[39m \u001b[38;5;28;01mTrue\u001b[39;00m\n\u001b[0;32m    314\u001b[0m     \u001b[38;5;28;01melse\u001b[39;00m:\n",
      "\u001b[1;31mKeyboardInterrupt\u001b[0m: "
     ]
    }
   ],
   "source": [
    "grid.fit(X_train,y_train)"
   ]
  },
  {
   "cell_type": "code",
   "execution_count": null,
   "id": "43836800",
   "metadata": {
    "scrolled": true
   },
   "outputs": [],
   "source": [
    "grid.best_params_"
   ]
  },
  {
   "cell_type": "code",
   "execution_count": null,
   "id": "b15fdce0",
   "metadata": {},
   "outputs": [],
   "source": [
    "grid.best_score_"
   ]
  },
  {
   "cell_type": "code",
   "execution_count": null,
   "id": "20973e5d",
   "metadata": {},
   "outputs": [],
   "source": []
  },
  {
   "cell_type": "code",
   "execution_count": null,
   "id": "0734e3f9",
   "metadata": {},
   "outputs": [],
   "source": [
    "# xgb_model = XGBClassifier(booster='gbtree', # 모델의 종류 (이 값은 고정)\n",
    "#                           n_estimators=500, # 앙상블 모델 갯수\n",
    "#                           learning_rate=0.1, # 학습률\n",
    "#                           max_depth = 3, # 최대깊이(일반적으로 깊게 설정x)\n",
    "#                           gamma = 0.2, # 리프노드를 어떻게 나눌것이냐(값이 크면 모델 단순, 작아지면 모델이 복잡)\n",
    "#                           random_state = 721\n",
    "#                          )"
   ]
  },
  {
   "cell_type": "code",
   "execution_count": null,
   "id": "3fd4da8f",
   "metadata": {},
   "outputs": [],
   "source": [
    "# xgb_model.fit(X_train,y_train)"
   ]
  },
  {
   "cell_type": "code",
   "execution_count": 238,
   "id": "37021061",
   "metadata": {},
   "outputs": [
    {
     "ename": "KeyboardInterrupt",
     "evalue": "",
     "output_type": "error",
     "traceback": [
      "\u001b[1;31m---------------------------------------------------------------------------\u001b[0m",
      "\u001b[1;31mKeyboardInterrupt\u001b[0m                         Traceback (most recent call last)",
      "Input \u001b[1;32mIn [238]\u001b[0m, in \u001b[0;36m<cell line: 9>\u001b[1;34m()\u001b[0m\n\u001b[0;32m      1\u001b[0m xgb_model \u001b[38;5;241m=\u001b[39m XGBClassifier(booster\u001b[38;5;241m=\u001b[39m\u001b[38;5;124m'\u001b[39m\u001b[38;5;124mgbtree\u001b[39m\u001b[38;5;124m'\u001b[39m, \u001b[38;5;66;03m# 모델의 종류 (이 값은 고정)\u001b[39;00m\n\u001b[0;32m      2\u001b[0m                           n_estimators\u001b[38;5;241m=\u001b[39m\u001b[38;5;241m600\u001b[39m, \u001b[38;5;66;03m# 앙상블 모델 갯수\u001b[39;00m\n\u001b[0;32m      3\u001b[0m                           learning_rate\u001b[38;5;241m=\u001b[39m\u001b[38;5;241m0.15\u001b[39m, \u001b[38;5;66;03m# 학습률\u001b[39;00m\n\u001b[1;32m   (...)\u001b[0m\n\u001b[0;32m      7\u001b[0m                           min_child_weight\u001b[38;5;241m=\u001b[39m\u001b[38;5;241m0.9\u001b[39m\n\u001b[0;32m      8\u001b[0m                          )\n\u001b[1;32m----> 9\u001b[0m pre\u001b[38;5;241m=\u001b[39m \u001b[43mcross_val_score\u001b[49m\u001b[43m(\u001b[49m\u001b[43mxgb_model\u001b[49m\u001b[43m,\u001b[49m\u001b[43mX_train\u001b[49m\u001b[43m,\u001b[49m\u001b[43my_train\u001b[49m\u001b[43m)\u001b[49m\n\u001b[0;32m     10\u001b[0m pre\u001b[38;5;241m.\u001b[39mmean()\n",
      "File \u001b[1;32m~\\Anaconda3\\lib\\site-packages\\sklearn\\model_selection\\_validation.py:509\u001b[0m, in \u001b[0;36mcross_val_score\u001b[1;34m(estimator, X, y, groups, scoring, cv, n_jobs, verbose, fit_params, pre_dispatch, error_score)\u001b[0m\n\u001b[0;32m    506\u001b[0m \u001b[38;5;66;03m# To ensure multimetric format is not supported\u001b[39;00m\n\u001b[0;32m    507\u001b[0m scorer \u001b[38;5;241m=\u001b[39m check_scoring(estimator, scoring\u001b[38;5;241m=\u001b[39mscoring)\n\u001b[1;32m--> 509\u001b[0m cv_results \u001b[38;5;241m=\u001b[39m \u001b[43mcross_validate\u001b[49m\u001b[43m(\u001b[49m\n\u001b[0;32m    510\u001b[0m \u001b[43m    \u001b[49m\u001b[43mestimator\u001b[49m\u001b[38;5;241;43m=\u001b[39;49m\u001b[43mestimator\u001b[49m\u001b[43m,\u001b[49m\n\u001b[0;32m    511\u001b[0m \u001b[43m    \u001b[49m\u001b[43mX\u001b[49m\u001b[38;5;241;43m=\u001b[39;49m\u001b[43mX\u001b[49m\u001b[43m,\u001b[49m\n\u001b[0;32m    512\u001b[0m \u001b[43m    \u001b[49m\u001b[43my\u001b[49m\u001b[38;5;241;43m=\u001b[39;49m\u001b[43my\u001b[49m\u001b[43m,\u001b[49m\n\u001b[0;32m    513\u001b[0m \u001b[43m    \u001b[49m\u001b[43mgroups\u001b[49m\u001b[38;5;241;43m=\u001b[39;49m\u001b[43mgroups\u001b[49m\u001b[43m,\u001b[49m\n\u001b[0;32m    514\u001b[0m \u001b[43m    \u001b[49m\u001b[43mscoring\u001b[49m\u001b[38;5;241;43m=\u001b[39;49m\u001b[43m{\u001b[49m\u001b[38;5;124;43m\"\u001b[39;49m\u001b[38;5;124;43mscore\u001b[39;49m\u001b[38;5;124;43m\"\u001b[39;49m\u001b[43m:\u001b[49m\u001b[43m \u001b[49m\u001b[43mscorer\u001b[49m\u001b[43m}\u001b[49m\u001b[43m,\u001b[49m\n\u001b[0;32m    515\u001b[0m \u001b[43m    \u001b[49m\u001b[43mcv\u001b[49m\u001b[38;5;241;43m=\u001b[39;49m\u001b[43mcv\u001b[49m\u001b[43m,\u001b[49m\n\u001b[0;32m    516\u001b[0m \u001b[43m    \u001b[49m\u001b[43mn_jobs\u001b[49m\u001b[38;5;241;43m=\u001b[39;49m\u001b[43mn_jobs\u001b[49m\u001b[43m,\u001b[49m\n\u001b[0;32m    517\u001b[0m \u001b[43m    \u001b[49m\u001b[43mverbose\u001b[49m\u001b[38;5;241;43m=\u001b[39;49m\u001b[43mverbose\u001b[49m\u001b[43m,\u001b[49m\n\u001b[0;32m    518\u001b[0m \u001b[43m    \u001b[49m\u001b[43mfit_params\u001b[49m\u001b[38;5;241;43m=\u001b[39;49m\u001b[43mfit_params\u001b[49m\u001b[43m,\u001b[49m\n\u001b[0;32m    519\u001b[0m \u001b[43m    \u001b[49m\u001b[43mpre_dispatch\u001b[49m\u001b[38;5;241;43m=\u001b[39;49m\u001b[43mpre_dispatch\u001b[49m\u001b[43m,\u001b[49m\n\u001b[0;32m    520\u001b[0m \u001b[43m    \u001b[49m\u001b[43merror_score\u001b[49m\u001b[38;5;241;43m=\u001b[39;49m\u001b[43merror_score\u001b[49m\u001b[43m,\u001b[49m\n\u001b[0;32m    521\u001b[0m \u001b[43m\u001b[49m\u001b[43m)\u001b[49m\n\u001b[0;32m    522\u001b[0m \u001b[38;5;28;01mreturn\u001b[39;00m cv_results[\u001b[38;5;124m\"\u001b[39m\u001b[38;5;124mtest_score\u001b[39m\u001b[38;5;124m\"\u001b[39m]\n",
      "File \u001b[1;32m~\\Anaconda3\\lib\\site-packages\\sklearn\\model_selection\\_validation.py:267\u001b[0m, in \u001b[0;36mcross_validate\u001b[1;34m(estimator, X, y, groups, scoring, cv, n_jobs, verbose, fit_params, pre_dispatch, return_train_score, return_estimator, error_score)\u001b[0m\n\u001b[0;32m    264\u001b[0m \u001b[38;5;66;03m# We clone the estimator to make sure that all the folds are\u001b[39;00m\n\u001b[0;32m    265\u001b[0m \u001b[38;5;66;03m# independent, and that it is pickle-able.\u001b[39;00m\n\u001b[0;32m    266\u001b[0m parallel \u001b[38;5;241m=\u001b[39m Parallel(n_jobs\u001b[38;5;241m=\u001b[39mn_jobs, verbose\u001b[38;5;241m=\u001b[39mverbose, pre_dispatch\u001b[38;5;241m=\u001b[39mpre_dispatch)\n\u001b[1;32m--> 267\u001b[0m results \u001b[38;5;241m=\u001b[39m \u001b[43mparallel\u001b[49m\u001b[43m(\u001b[49m\n\u001b[0;32m    268\u001b[0m \u001b[43m    \u001b[49m\u001b[43mdelayed\u001b[49m\u001b[43m(\u001b[49m\u001b[43m_fit_and_score\u001b[49m\u001b[43m)\u001b[49m\u001b[43m(\u001b[49m\n\u001b[0;32m    269\u001b[0m \u001b[43m        \u001b[49m\u001b[43mclone\u001b[49m\u001b[43m(\u001b[49m\u001b[43mestimator\u001b[49m\u001b[43m)\u001b[49m\u001b[43m,\u001b[49m\n\u001b[0;32m    270\u001b[0m \u001b[43m        \u001b[49m\u001b[43mX\u001b[49m\u001b[43m,\u001b[49m\n\u001b[0;32m    271\u001b[0m \u001b[43m        \u001b[49m\u001b[43my\u001b[49m\u001b[43m,\u001b[49m\n\u001b[0;32m    272\u001b[0m \u001b[43m        \u001b[49m\u001b[43mscorers\u001b[49m\u001b[43m,\u001b[49m\n\u001b[0;32m    273\u001b[0m \u001b[43m        \u001b[49m\u001b[43mtrain\u001b[49m\u001b[43m,\u001b[49m\n\u001b[0;32m    274\u001b[0m \u001b[43m        \u001b[49m\u001b[43mtest\u001b[49m\u001b[43m,\u001b[49m\n\u001b[0;32m    275\u001b[0m \u001b[43m        \u001b[49m\u001b[43mverbose\u001b[49m\u001b[43m,\u001b[49m\n\u001b[0;32m    276\u001b[0m \u001b[43m        \u001b[49m\u001b[38;5;28;43;01mNone\u001b[39;49;00m\u001b[43m,\u001b[49m\n\u001b[0;32m    277\u001b[0m \u001b[43m        \u001b[49m\u001b[43mfit_params\u001b[49m\u001b[43m,\u001b[49m\n\u001b[0;32m    278\u001b[0m \u001b[43m        \u001b[49m\u001b[43mreturn_train_score\u001b[49m\u001b[38;5;241;43m=\u001b[39;49m\u001b[43mreturn_train_score\u001b[49m\u001b[43m,\u001b[49m\n\u001b[0;32m    279\u001b[0m \u001b[43m        \u001b[49m\u001b[43mreturn_times\u001b[49m\u001b[38;5;241;43m=\u001b[39;49m\u001b[38;5;28;43;01mTrue\u001b[39;49;00m\u001b[43m,\u001b[49m\n\u001b[0;32m    280\u001b[0m \u001b[43m        \u001b[49m\u001b[43mreturn_estimator\u001b[49m\u001b[38;5;241;43m=\u001b[39;49m\u001b[43mreturn_estimator\u001b[49m\u001b[43m,\u001b[49m\n\u001b[0;32m    281\u001b[0m \u001b[43m        \u001b[49m\u001b[43merror_score\u001b[49m\u001b[38;5;241;43m=\u001b[39;49m\u001b[43merror_score\u001b[49m\u001b[43m,\u001b[49m\n\u001b[0;32m    282\u001b[0m \u001b[43m    \u001b[49m\u001b[43m)\u001b[49m\n\u001b[0;32m    283\u001b[0m \u001b[43m    \u001b[49m\u001b[38;5;28;43;01mfor\u001b[39;49;00m\u001b[43m \u001b[49m\u001b[43mtrain\u001b[49m\u001b[43m,\u001b[49m\u001b[43m \u001b[49m\u001b[43mtest\u001b[49m\u001b[43m \u001b[49m\u001b[38;5;129;43;01min\u001b[39;49;00m\u001b[43m \u001b[49m\u001b[43mcv\u001b[49m\u001b[38;5;241;43m.\u001b[39;49m\u001b[43msplit\u001b[49m\u001b[43m(\u001b[49m\u001b[43mX\u001b[49m\u001b[43m,\u001b[49m\u001b[43m \u001b[49m\u001b[43my\u001b[49m\u001b[43m,\u001b[49m\u001b[43m \u001b[49m\u001b[43mgroups\u001b[49m\u001b[43m)\u001b[49m\n\u001b[0;32m    284\u001b[0m \u001b[43m\u001b[49m\u001b[43m)\u001b[49m\n\u001b[0;32m    286\u001b[0m _warn_about_fit_failures(results, error_score)\n\u001b[0;32m    288\u001b[0m \u001b[38;5;66;03m# For callabe scoring, the return type is only know after calling. If the\u001b[39;00m\n\u001b[0;32m    289\u001b[0m \u001b[38;5;66;03m# return type is a dictionary, the error scores can now be inserted with\u001b[39;00m\n\u001b[0;32m    290\u001b[0m \u001b[38;5;66;03m# the correct key.\u001b[39;00m\n",
      "File \u001b[1;32m~\\Anaconda3\\lib\\site-packages\\joblib\\parallel.py:1046\u001b[0m, in \u001b[0;36mParallel.__call__\u001b[1;34m(self, iterable)\u001b[0m\n\u001b[0;32m   1043\u001b[0m \u001b[38;5;28;01mif\u001b[39;00m \u001b[38;5;28mself\u001b[39m\u001b[38;5;241m.\u001b[39mdispatch_one_batch(iterator):\n\u001b[0;32m   1044\u001b[0m     \u001b[38;5;28mself\u001b[39m\u001b[38;5;241m.\u001b[39m_iterating \u001b[38;5;241m=\u001b[39m \u001b[38;5;28mself\u001b[39m\u001b[38;5;241m.\u001b[39m_original_iterator \u001b[38;5;129;01mis\u001b[39;00m \u001b[38;5;129;01mnot\u001b[39;00m \u001b[38;5;28;01mNone\u001b[39;00m\n\u001b[1;32m-> 1046\u001b[0m \u001b[38;5;28;01mwhile\u001b[39;00m \u001b[38;5;28;43mself\u001b[39;49m\u001b[38;5;241;43m.\u001b[39;49m\u001b[43mdispatch_one_batch\u001b[49m\u001b[43m(\u001b[49m\u001b[43miterator\u001b[49m\u001b[43m)\u001b[49m:\n\u001b[0;32m   1047\u001b[0m     \u001b[38;5;28;01mpass\u001b[39;00m\n\u001b[0;32m   1049\u001b[0m \u001b[38;5;28;01mif\u001b[39;00m pre_dispatch \u001b[38;5;241m==\u001b[39m \u001b[38;5;124m\"\u001b[39m\u001b[38;5;124mall\u001b[39m\u001b[38;5;124m\"\u001b[39m \u001b[38;5;129;01mor\u001b[39;00m n_jobs \u001b[38;5;241m==\u001b[39m \u001b[38;5;241m1\u001b[39m:\n\u001b[0;32m   1050\u001b[0m     \u001b[38;5;66;03m# The iterable was consumed all at once by the above for loop.\u001b[39;00m\n\u001b[0;32m   1051\u001b[0m     \u001b[38;5;66;03m# No need to wait for async callbacks to trigger to\u001b[39;00m\n\u001b[0;32m   1052\u001b[0m     \u001b[38;5;66;03m# consumption.\u001b[39;00m\n",
      "File \u001b[1;32m~\\Anaconda3\\lib\\site-packages\\joblib\\parallel.py:861\u001b[0m, in \u001b[0;36mParallel.dispatch_one_batch\u001b[1;34m(self, iterator)\u001b[0m\n\u001b[0;32m    859\u001b[0m     \u001b[38;5;28;01mreturn\u001b[39;00m \u001b[38;5;28;01mFalse\u001b[39;00m\n\u001b[0;32m    860\u001b[0m \u001b[38;5;28;01melse\u001b[39;00m:\n\u001b[1;32m--> 861\u001b[0m     \u001b[38;5;28;43mself\u001b[39;49m\u001b[38;5;241;43m.\u001b[39;49m\u001b[43m_dispatch\u001b[49m\u001b[43m(\u001b[49m\u001b[43mtasks\u001b[49m\u001b[43m)\u001b[49m\n\u001b[0;32m    862\u001b[0m     \u001b[38;5;28;01mreturn\u001b[39;00m \u001b[38;5;28;01mTrue\u001b[39;00m\n",
      "File \u001b[1;32m~\\Anaconda3\\lib\\site-packages\\joblib\\parallel.py:779\u001b[0m, in \u001b[0;36mParallel._dispatch\u001b[1;34m(self, batch)\u001b[0m\n\u001b[0;32m    777\u001b[0m \u001b[38;5;28;01mwith\u001b[39;00m \u001b[38;5;28mself\u001b[39m\u001b[38;5;241m.\u001b[39m_lock:\n\u001b[0;32m    778\u001b[0m     job_idx \u001b[38;5;241m=\u001b[39m \u001b[38;5;28mlen\u001b[39m(\u001b[38;5;28mself\u001b[39m\u001b[38;5;241m.\u001b[39m_jobs)\n\u001b[1;32m--> 779\u001b[0m     job \u001b[38;5;241m=\u001b[39m \u001b[38;5;28;43mself\u001b[39;49m\u001b[38;5;241;43m.\u001b[39;49m\u001b[43m_backend\u001b[49m\u001b[38;5;241;43m.\u001b[39;49m\u001b[43mapply_async\u001b[49m\u001b[43m(\u001b[49m\u001b[43mbatch\u001b[49m\u001b[43m,\u001b[49m\u001b[43m \u001b[49m\u001b[43mcallback\u001b[49m\u001b[38;5;241;43m=\u001b[39;49m\u001b[43mcb\u001b[49m\u001b[43m)\u001b[49m\n\u001b[0;32m    780\u001b[0m     \u001b[38;5;66;03m# A job can complete so quickly than its callback is\u001b[39;00m\n\u001b[0;32m    781\u001b[0m     \u001b[38;5;66;03m# called before we get here, causing self._jobs to\u001b[39;00m\n\u001b[0;32m    782\u001b[0m     \u001b[38;5;66;03m# grow. To ensure correct results ordering, .insert is\u001b[39;00m\n\u001b[0;32m    783\u001b[0m     \u001b[38;5;66;03m# used (rather than .append) in the following line\u001b[39;00m\n\u001b[0;32m    784\u001b[0m     \u001b[38;5;28mself\u001b[39m\u001b[38;5;241m.\u001b[39m_jobs\u001b[38;5;241m.\u001b[39minsert(job_idx, job)\n",
      "File \u001b[1;32m~\\Anaconda3\\lib\\site-packages\\joblib\\_parallel_backends.py:208\u001b[0m, in \u001b[0;36mSequentialBackend.apply_async\u001b[1;34m(self, func, callback)\u001b[0m\n\u001b[0;32m    206\u001b[0m \u001b[38;5;28;01mdef\u001b[39;00m \u001b[38;5;21mapply_async\u001b[39m(\u001b[38;5;28mself\u001b[39m, func, callback\u001b[38;5;241m=\u001b[39m\u001b[38;5;28;01mNone\u001b[39;00m):\n\u001b[0;32m    207\u001b[0m     \u001b[38;5;124;03m\"\"\"Schedule a func to be run\"\"\"\u001b[39;00m\n\u001b[1;32m--> 208\u001b[0m     result \u001b[38;5;241m=\u001b[39m \u001b[43mImmediateResult\u001b[49m\u001b[43m(\u001b[49m\u001b[43mfunc\u001b[49m\u001b[43m)\u001b[49m\n\u001b[0;32m    209\u001b[0m     \u001b[38;5;28;01mif\u001b[39;00m callback:\n\u001b[0;32m    210\u001b[0m         callback(result)\n",
      "File \u001b[1;32m~\\Anaconda3\\lib\\site-packages\\joblib\\_parallel_backends.py:572\u001b[0m, in \u001b[0;36mImmediateResult.__init__\u001b[1;34m(self, batch)\u001b[0m\n\u001b[0;32m    569\u001b[0m \u001b[38;5;28;01mdef\u001b[39;00m \u001b[38;5;21m__init__\u001b[39m(\u001b[38;5;28mself\u001b[39m, batch):\n\u001b[0;32m    570\u001b[0m     \u001b[38;5;66;03m# Don't delay the application, to avoid keeping the input\u001b[39;00m\n\u001b[0;32m    571\u001b[0m     \u001b[38;5;66;03m# arguments in memory\u001b[39;00m\n\u001b[1;32m--> 572\u001b[0m     \u001b[38;5;28mself\u001b[39m\u001b[38;5;241m.\u001b[39mresults \u001b[38;5;241m=\u001b[39m \u001b[43mbatch\u001b[49m\u001b[43m(\u001b[49m\u001b[43m)\u001b[49m\n",
      "File \u001b[1;32m~\\Anaconda3\\lib\\site-packages\\joblib\\parallel.py:262\u001b[0m, in \u001b[0;36mBatchedCalls.__call__\u001b[1;34m(self)\u001b[0m\n\u001b[0;32m    258\u001b[0m \u001b[38;5;28;01mdef\u001b[39;00m \u001b[38;5;21m__call__\u001b[39m(\u001b[38;5;28mself\u001b[39m):\n\u001b[0;32m    259\u001b[0m     \u001b[38;5;66;03m# Set the default nested backend to self._backend but do not set the\u001b[39;00m\n\u001b[0;32m    260\u001b[0m     \u001b[38;5;66;03m# change the default number of processes to -1\u001b[39;00m\n\u001b[0;32m    261\u001b[0m     \u001b[38;5;28;01mwith\u001b[39;00m parallel_backend(\u001b[38;5;28mself\u001b[39m\u001b[38;5;241m.\u001b[39m_backend, n_jobs\u001b[38;5;241m=\u001b[39m\u001b[38;5;28mself\u001b[39m\u001b[38;5;241m.\u001b[39m_n_jobs):\n\u001b[1;32m--> 262\u001b[0m         \u001b[38;5;28;01mreturn\u001b[39;00m [func(\u001b[38;5;241m*\u001b[39margs, \u001b[38;5;241m*\u001b[39m\u001b[38;5;241m*\u001b[39mkwargs)\n\u001b[0;32m    263\u001b[0m                 \u001b[38;5;28;01mfor\u001b[39;00m func, args, kwargs \u001b[38;5;129;01min\u001b[39;00m \u001b[38;5;28mself\u001b[39m\u001b[38;5;241m.\u001b[39mitems]\n",
      "File \u001b[1;32m~\\Anaconda3\\lib\\site-packages\\joblib\\parallel.py:262\u001b[0m, in \u001b[0;36m<listcomp>\u001b[1;34m(.0)\u001b[0m\n\u001b[0;32m    258\u001b[0m \u001b[38;5;28;01mdef\u001b[39;00m \u001b[38;5;21m__call__\u001b[39m(\u001b[38;5;28mself\u001b[39m):\n\u001b[0;32m    259\u001b[0m     \u001b[38;5;66;03m# Set the default nested backend to self._backend but do not set the\u001b[39;00m\n\u001b[0;32m    260\u001b[0m     \u001b[38;5;66;03m# change the default number of processes to -1\u001b[39;00m\n\u001b[0;32m    261\u001b[0m     \u001b[38;5;28;01mwith\u001b[39;00m parallel_backend(\u001b[38;5;28mself\u001b[39m\u001b[38;5;241m.\u001b[39m_backend, n_jobs\u001b[38;5;241m=\u001b[39m\u001b[38;5;28mself\u001b[39m\u001b[38;5;241m.\u001b[39m_n_jobs):\n\u001b[1;32m--> 262\u001b[0m         \u001b[38;5;28;01mreturn\u001b[39;00m [func(\u001b[38;5;241m*\u001b[39margs, \u001b[38;5;241m*\u001b[39m\u001b[38;5;241m*\u001b[39mkwargs)\n\u001b[0;32m    263\u001b[0m                 \u001b[38;5;28;01mfor\u001b[39;00m func, args, kwargs \u001b[38;5;129;01min\u001b[39;00m \u001b[38;5;28mself\u001b[39m\u001b[38;5;241m.\u001b[39mitems]\n",
      "File \u001b[1;32m~\\Anaconda3\\lib\\site-packages\\sklearn\\utils\\fixes.py:216\u001b[0m, in \u001b[0;36m_FuncWrapper.__call__\u001b[1;34m(self, *args, **kwargs)\u001b[0m\n\u001b[0;32m    214\u001b[0m \u001b[38;5;28;01mdef\u001b[39;00m \u001b[38;5;21m__call__\u001b[39m(\u001b[38;5;28mself\u001b[39m, \u001b[38;5;241m*\u001b[39margs, \u001b[38;5;241m*\u001b[39m\u001b[38;5;241m*\u001b[39mkwargs):\n\u001b[0;32m    215\u001b[0m     \u001b[38;5;28;01mwith\u001b[39;00m config_context(\u001b[38;5;241m*\u001b[39m\u001b[38;5;241m*\u001b[39m\u001b[38;5;28mself\u001b[39m\u001b[38;5;241m.\u001b[39mconfig):\n\u001b[1;32m--> 216\u001b[0m         \u001b[38;5;28;01mreturn\u001b[39;00m \u001b[38;5;28mself\u001b[39m\u001b[38;5;241m.\u001b[39mfunction(\u001b[38;5;241m*\u001b[39margs, \u001b[38;5;241m*\u001b[39m\u001b[38;5;241m*\u001b[39mkwargs)\n",
      "File \u001b[1;32m~\\Anaconda3\\lib\\site-packages\\sklearn\\model_selection\\_validation.py:680\u001b[0m, in \u001b[0;36m_fit_and_score\u001b[1;34m(estimator, X, y, scorer, train, test, verbose, parameters, fit_params, return_train_score, return_parameters, return_n_test_samples, return_times, return_estimator, split_progress, candidate_progress, error_score)\u001b[0m\n\u001b[0;32m    678\u001b[0m         estimator\u001b[38;5;241m.\u001b[39mfit(X_train, \u001b[38;5;241m*\u001b[39m\u001b[38;5;241m*\u001b[39mfit_params)\n\u001b[0;32m    679\u001b[0m     \u001b[38;5;28;01melse\u001b[39;00m:\n\u001b[1;32m--> 680\u001b[0m         estimator\u001b[38;5;241m.\u001b[39mfit(X_train, y_train, \u001b[38;5;241m*\u001b[39m\u001b[38;5;241m*\u001b[39mfit_params)\n\u001b[0;32m    682\u001b[0m \u001b[38;5;28;01mexcept\u001b[39;00m \u001b[38;5;167;01mException\u001b[39;00m:\n\u001b[0;32m    683\u001b[0m     \u001b[38;5;66;03m# Note fit time as time until error\u001b[39;00m\n\u001b[0;32m    684\u001b[0m     fit_time \u001b[38;5;241m=\u001b[39m time\u001b[38;5;241m.\u001b[39mtime() \u001b[38;5;241m-\u001b[39m start_time\n",
      "File \u001b[1;32m~\\Anaconda3\\lib\\site-packages\\xgboost\\core.py:532\u001b[0m, in \u001b[0;36m_deprecate_positional_args.<locals>.inner_f\u001b[1;34m(*args, **kwargs)\u001b[0m\n\u001b[0;32m    530\u001b[0m \u001b[38;5;28;01mfor\u001b[39;00m k, arg \u001b[38;5;129;01min\u001b[39;00m \u001b[38;5;28mzip\u001b[39m(sig\u001b[38;5;241m.\u001b[39mparameters, args):\n\u001b[0;32m    531\u001b[0m     kwargs[k] \u001b[38;5;241m=\u001b[39m arg\n\u001b[1;32m--> 532\u001b[0m \u001b[38;5;28;01mreturn\u001b[39;00m f(\u001b[38;5;241m*\u001b[39m\u001b[38;5;241m*\u001b[39mkwargs)\n",
      "File \u001b[1;32m~\\Anaconda3\\lib\\site-packages\\xgboost\\sklearn.py:1400\u001b[0m, in \u001b[0;36mXGBClassifier.fit\u001b[1;34m(self, X, y, sample_weight, base_margin, eval_set, eval_metric, early_stopping_rounds, verbose, xgb_model, sample_weight_eval_set, base_margin_eval_set, feature_weights, callbacks)\u001b[0m\n\u001b[0;32m   1379\u001b[0m model, metric, params, early_stopping_rounds, callbacks \u001b[38;5;241m=\u001b[39m \u001b[38;5;28mself\u001b[39m\u001b[38;5;241m.\u001b[39m_configure_fit(\n\u001b[0;32m   1380\u001b[0m     xgb_model, eval_metric, params, early_stopping_rounds, callbacks\n\u001b[0;32m   1381\u001b[0m )\n\u001b[0;32m   1382\u001b[0m train_dmatrix, evals \u001b[38;5;241m=\u001b[39m _wrap_evaluation_matrices(\n\u001b[0;32m   1383\u001b[0m     missing\u001b[38;5;241m=\u001b[39m\u001b[38;5;28mself\u001b[39m\u001b[38;5;241m.\u001b[39mmissing,\n\u001b[0;32m   1384\u001b[0m     X\u001b[38;5;241m=\u001b[39mX,\n\u001b[1;32m   (...)\u001b[0m\n\u001b[0;32m   1397\u001b[0m     enable_categorical\u001b[38;5;241m=\u001b[39m\u001b[38;5;28mself\u001b[39m\u001b[38;5;241m.\u001b[39menable_categorical,\n\u001b[0;32m   1398\u001b[0m )\n\u001b[1;32m-> 1400\u001b[0m \u001b[38;5;28mself\u001b[39m\u001b[38;5;241m.\u001b[39m_Booster \u001b[38;5;241m=\u001b[39m \u001b[43mtrain\u001b[49m\u001b[43m(\u001b[49m\n\u001b[0;32m   1401\u001b[0m \u001b[43m    \u001b[49m\u001b[43mparams\u001b[49m\u001b[43m,\u001b[49m\n\u001b[0;32m   1402\u001b[0m \u001b[43m    \u001b[49m\u001b[43mtrain_dmatrix\u001b[49m\u001b[43m,\u001b[49m\n\u001b[0;32m   1403\u001b[0m \u001b[43m    \u001b[49m\u001b[38;5;28;43mself\u001b[39;49m\u001b[38;5;241;43m.\u001b[39;49m\u001b[43mget_num_boosting_rounds\u001b[49m\u001b[43m(\u001b[49m\u001b[43m)\u001b[49m\u001b[43m,\u001b[49m\n\u001b[0;32m   1404\u001b[0m \u001b[43m    \u001b[49m\u001b[43mevals\u001b[49m\u001b[38;5;241;43m=\u001b[39;49m\u001b[43mevals\u001b[49m\u001b[43m,\u001b[49m\n\u001b[0;32m   1405\u001b[0m \u001b[43m    \u001b[49m\u001b[43mearly_stopping_rounds\u001b[49m\u001b[38;5;241;43m=\u001b[39;49m\u001b[43mearly_stopping_rounds\u001b[49m\u001b[43m,\u001b[49m\n\u001b[0;32m   1406\u001b[0m \u001b[43m    \u001b[49m\u001b[43mevals_result\u001b[49m\u001b[38;5;241;43m=\u001b[39;49m\u001b[43mevals_result\u001b[49m\u001b[43m,\u001b[49m\n\u001b[0;32m   1407\u001b[0m \u001b[43m    \u001b[49m\u001b[43mobj\u001b[49m\u001b[38;5;241;43m=\u001b[39;49m\u001b[43mobj\u001b[49m\u001b[43m,\u001b[49m\n\u001b[0;32m   1408\u001b[0m \u001b[43m    \u001b[49m\u001b[43mcustom_metric\u001b[49m\u001b[38;5;241;43m=\u001b[39;49m\u001b[43mmetric\u001b[49m\u001b[43m,\u001b[49m\n\u001b[0;32m   1409\u001b[0m \u001b[43m    \u001b[49m\u001b[43mverbose_eval\u001b[49m\u001b[38;5;241;43m=\u001b[39;49m\u001b[43mverbose\u001b[49m\u001b[43m,\u001b[49m\n\u001b[0;32m   1410\u001b[0m \u001b[43m    \u001b[49m\u001b[43mxgb_model\u001b[49m\u001b[38;5;241;43m=\u001b[39;49m\u001b[43mmodel\u001b[49m\u001b[43m,\u001b[49m\n\u001b[0;32m   1411\u001b[0m \u001b[43m    \u001b[49m\u001b[43mcallbacks\u001b[49m\u001b[38;5;241;43m=\u001b[39;49m\u001b[43mcallbacks\u001b[49m\u001b[43m,\u001b[49m\n\u001b[0;32m   1412\u001b[0m \u001b[43m\u001b[49m\u001b[43m)\u001b[49m\n\u001b[0;32m   1414\u001b[0m \u001b[38;5;28;01mif\u001b[39;00m \u001b[38;5;129;01mnot\u001b[39;00m callable(\u001b[38;5;28mself\u001b[39m\u001b[38;5;241m.\u001b[39mobjective):\n\u001b[0;32m   1415\u001b[0m     \u001b[38;5;28mself\u001b[39m\u001b[38;5;241m.\u001b[39mobjective \u001b[38;5;241m=\u001b[39m params[\u001b[38;5;124m\"\u001b[39m\u001b[38;5;124mobjective\u001b[39m\u001b[38;5;124m\"\u001b[39m]\n",
      "File \u001b[1;32m~\\Anaconda3\\lib\\site-packages\\xgboost\\core.py:532\u001b[0m, in \u001b[0;36m_deprecate_positional_args.<locals>.inner_f\u001b[1;34m(*args, **kwargs)\u001b[0m\n\u001b[0;32m    530\u001b[0m \u001b[38;5;28;01mfor\u001b[39;00m k, arg \u001b[38;5;129;01min\u001b[39;00m \u001b[38;5;28mzip\u001b[39m(sig\u001b[38;5;241m.\u001b[39mparameters, args):\n\u001b[0;32m    531\u001b[0m     kwargs[k] \u001b[38;5;241m=\u001b[39m arg\n\u001b[1;32m--> 532\u001b[0m \u001b[38;5;28;01mreturn\u001b[39;00m f(\u001b[38;5;241m*\u001b[39m\u001b[38;5;241m*\u001b[39mkwargs)\n",
      "File \u001b[1;32m~\\Anaconda3\\lib\\site-packages\\xgboost\\training.py:181\u001b[0m, in \u001b[0;36mtrain\u001b[1;34m(params, dtrain, num_boost_round, evals, obj, feval, maximize, early_stopping_rounds, evals_result, verbose_eval, xgb_model, callbacks, custom_metric)\u001b[0m\n\u001b[0;32m    179\u001b[0m \u001b[38;5;28;01mif\u001b[39;00m cb_container\u001b[38;5;241m.\u001b[39mbefore_iteration(bst, i, dtrain, evals):\n\u001b[0;32m    180\u001b[0m     \u001b[38;5;28;01mbreak\u001b[39;00m\n\u001b[1;32m--> 181\u001b[0m \u001b[43mbst\u001b[49m\u001b[38;5;241;43m.\u001b[39;49m\u001b[43mupdate\u001b[49m\u001b[43m(\u001b[49m\u001b[43mdtrain\u001b[49m\u001b[43m,\u001b[49m\u001b[43m \u001b[49m\u001b[43mi\u001b[49m\u001b[43m,\u001b[49m\u001b[43m \u001b[49m\u001b[43mobj\u001b[49m\u001b[43m)\u001b[49m\n\u001b[0;32m    182\u001b[0m \u001b[38;5;28;01mif\u001b[39;00m cb_container\u001b[38;5;241m.\u001b[39mafter_iteration(bst, i, dtrain, evals):\n\u001b[0;32m    183\u001b[0m     \u001b[38;5;28;01mbreak\u001b[39;00m\n",
      "File \u001b[1;32m~\\Anaconda3\\lib\\site-packages\\xgboost\\core.py:1733\u001b[0m, in \u001b[0;36mBooster.update\u001b[1;34m(self, dtrain, iteration, fobj)\u001b[0m\n\u001b[0;32m   1730\u001b[0m \u001b[38;5;28mself\u001b[39m\u001b[38;5;241m.\u001b[39m_validate_features(dtrain)\n\u001b[0;32m   1732\u001b[0m \u001b[38;5;28;01mif\u001b[39;00m fobj \u001b[38;5;129;01mis\u001b[39;00m \u001b[38;5;28;01mNone\u001b[39;00m:\n\u001b[1;32m-> 1733\u001b[0m     _check_call(\u001b[43m_LIB\u001b[49m\u001b[38;5;241;43m.\u001b[39;49m\u001b[43mXGBoosterUpdateOneIter\u001b[49m\u001b[43m(\u001b[49m\u001b[38;5;28;43mself\u001b[39;49m\u001b[38;5;241;43m.\u001b[39;49m\u001b[43mhandle\u001b[49m\u001b[43m,\u001b[49m\n\u001b[0;32m   1734\u001b[0m \u001b[43m                                            \u001b[49m\u001b[43mctypes\u001b[49m\u001b[38;5;241;43m.\u001b[39;49m\u001b[43mc_int\u001b[49m\u001b[43m(\u001b[49m\u001b[43miteration\u001b[49m\u001b[43m)\u001b[49m\u001b[43m,\u001b[49m\n\u001b[0;32m   1735\u001b[0m \u001b[43m                                            \u001b[49m\u001b[43mdtrain\u001b[49m\u001b[38;5;241;43m.\u001b[39;49m\u001b[43mhandle\u001b[49m\u001b[43m)\u001b[49m)\n\u001b[0;32m   1736\u001b[0m \u001b[38;5;28;01melse\u001b[39;00m:\n\u001b[0;32m   1737\u001b[0m     pred \u001b[38;5;241m=\u001b[39m \u001b[38;5;28mself\u001b[39m\u001b[38;5;241m.\u001b[39mpredict(dtrain, output_margin\u001b[38;5;241m=\u001b[39m\u001b[38;5;28;01mTrue\u001b[39;00m, training\u001b[38;5;241m=\u001b[39m\u001b[38;5;28;01mTrue\u001b[39;00m)\n",
      "\u001b[1;31mKeyboardInterrupt\u001b[0m: "
     ]
    }
   ],
   "source": [
    "xgb_model = XGBClassifier(booster='gbtree', # 모델의 종류 (이 값은 고정)\n",
    "                          n_estimators=600, # 앙상블 모델 갯수\n",
    "                          learning_rate=0.15, # 학습률\n",
    "                          max_depth = 4, # 최대깊이(일반적으로 깊게 설정x)\n",
    "                          gamma = 0.8, # 리프노드를 어떻게 나눌것이냐(값이 크면 모델 단순, 작아지면 모델이 복잡)\n",
    "                          random_state =791,\n",
    "                          min_child_weight=0.9\n",
    "                         )\n",
    "pre= cross_val_score(xgb_model,X_train,y_train)\n",
    "pre.mean()"
   ]
  },
  {
   "cell_type": "code",
   "execution_count": 239,
   "id": "42197944",
   "metadata": {},
   "outputs": [
    {
     "data": {
      "text/plain": [
       "0.8712847636922028"
      ]
     },
     "execution_count": 239,
     "metadata": {},
     "output_type": "execute_result"
    }
   ],
   "source": [
    "xgb_model = XGBClassifier(booster='gbtree', # 모델의 종류 (이 값은 고정)\n",
    "                          n_estimators=400, # 앙상블 모델 갯수\n",
    "                          learning_rate=0.2, # 학습률\n",
    "                          max_depth = 4, # 최대깊이(일반적으로 깊게 설정x)\n",
    "                          gamma = 0.6, # 리프노드를 어떻게 나눌것이냐(값이 크면 모델 단순, 작아지면 모델이 복잡)\n",
    "                          random_state =791,\n",
    "                          min_child_weight=2\n",
    "                         )\n",
    "pre= cross_val_score(xgb_model,X_train,y_train)\n",
    "pre.mean()"
   ]
  },
  {
   "cell_type": "code",
   "execution_count": null,
   "id": "24234fec",
   "metadata": {},
   "outputs": [],
   "source": [
    "xgb_model = XGBClassifier(booster='gbtree', # 모델의 종류 (이 값은 고정)\n",
    "                          n_estimators=1000, # 앙상블 모델 갯수\n",
    "                          learning_rate=0.22, # 학습률\n",
    "                          max_depth = 4, # 최대깊이(일반적으로 깊게 설정x)\n",
    "                          gamma = 0.7, # 리프노드를 어떻게 나눌것이냐(값이 크면 모델 단순, 작아지면 모델이 복잡)\n",
    "                          random_state =791,\n",
    "                          min_child_weight=1.8\n",
    "                         )\n",
    "pre= cross_val_score(xgb_model,X_train,y_train)\n",
    "pre.mean()"
   ]
  },
  {
   "cell_type": "code",
   "execution_count": 241,
   "id": "901a1000",
   "metadata": {},
   "outputs": [
    {
     "data": {
      "text/plain": [
       "XGBClassifier(base_score=0.5, booster='gbtree', callbacks=None,\n",
       "              colsample_bylevel=1, colsample_bynode=1, colsample_bytree=1,\n",
       "              early_stopping_rounds=None, enable_categorical=False,\n",
       "              eval_metric=None, gamma=0.6, gpu_id=-1, grow_policy='depthwise',\n",
       "              importance_type=None, interaction_constraints='',\n",
       "              learning_rate=0.2, max_bin=256, max_cat_to_onehot=4,\n",
       "              max_delta_step=0, max_depth=4, max_leaves=0, min_child_weight=2,\n",
       "              missing=nan, monotone_constraints='()', n_estimators=400,\n",
       "              n_jobs=0, num_parallel_tree=1, predictor='auto', random_state=791,\n",
       "              reg_alpha=0, reg_lambda=1, ...)"
      ]
     },
     "execution_count": 241,
     "metadata": {},
     "output_type": "execute_result"
    }
   ],
   "source": [
    "xgb_model.fit(X_train,y_train)"
   ]
  },
  {
   "cell_type": "code",
   "execution_count": 242,
   "id": "0246aa82",
   "metadata": {
    "scrolled": true
   },
   "outputs": [],
   "source": [
    "pre = xgb_model.predict(test)"
   ]
  },
  {
   "cell_type": "code",
   "execution_count": 248,
   "id": "1180e14d",
   "metadata": {},
   "outputs": [
    {
     "data": {
      "text/plain": [
       "no\n",
       "1        0\n",
       "2        0\n",
       "3        0\n",
       "4        0\n",
       "5        1\n",
       "        ..\n",
       "29301    0\n",
       "29302    0\n",
       "29303    0\n",
       "29304    0\n",
       "29305    0\n",
       "Name: income, Length: 29305, dtype: int64"
      ]
     },
     "execution_count": 248,
     "metadata": {},
     "output_type": "execute_result"
    }
   ],
   "source": [
    "y_train"
   ]
  },
  {
   "cell_type": "code",
   "execution_count": null,
   "id": "2773d49b",
   "metadata": {},
   "outputs": [],
   "source": [
    "# xgb_model.fit(X_train,y_train)"
   ]
  },
  {
   "cell_type": "code",
   "execution_count": null,
   "id": "fa44da42",
   "metadata": {},
   "outputs": [],
   "source": [
    "# xgb_model = XGBClassifier(booster='gbtree',\n",
    "#                           random_state = 721)"
   ]
  },
  {
   "cell_type": "code",
   "execution_count": null,
   "id": "31d25ab8",
   "metadata": {},
   "outputs": [],
   "source": [
    "param_grid = {\n",
    "    'max_depth' : [3,4,5,6],\n",
    "    'learning_rate' : [0.1],\n",
    "    'n_estimators' : [500,200],\n",
    "    'gamma' : [0.2,0.4,0.1]\n",
    "}\n"
   ]
  },
  {
   "cell_type": "code",
   "execution_count": null,
   "id": "c4457ab9",
   "metadata": {},
   "outputs": [],
   "source": [
    "# 튜닝할 모델, 사용할 파라미터, 교차검증 횟수\n",
    "# grid = GridSearchCV(xgb_model,param_grid,cv=5)\n",
    "# n_jobs : cpu 코어수가 많으면 n_jobs로 지정해서 여러 코어 사용가능 -1을 하면 모든 리소르를 끌어옴"
   ]
  },
  {
   "cell_type": "code",
   "execution_count": null,
   "id": "e5a6a2d3",
   "metadata": {},
   "outputs": [],
   "source": [
    "# grid.fit(X_train,y_train)"
   ]
  },
  {
   "cell_type": "code",
   "execution_count": null,
   "id": "190d7c27",
   "metadata": {},
   "outputs": [],
   "source": [
    "# grid.best_params_"
   ]
  },
  {
   "cell_type": "markdown",
   "id": "8bf5b671",
   "metadata": {},
   "source": [
    "- grid.best_params {'gamma': 0.2, 'learning_rate': 0.1, 'max_depth': 5, 'n_estimators': 200}"
   ]
  },
  {
   "cell_type": "code",
   "execution_count": null,
   "id": "e49ade60",
   "metadata": {},
   "outputs": [],
   "source": [
    "# grid.best_score_"
   ]
  },
  {
   "cell_type": "code",
   "execution_count": null,
   "id": "cf6b01f2",
   "metadata": {},
   "outputs": [],
   "source": []
  },
  {
   "cell_type": "code",
   "execution_count": null,
   "id": "f675761d",
   "metadata": {},
   "outputs": [],
   "source": []
  },
  {
   "cell_type": "code",
   "execution_count": null,
   "id": "83570f7e",
   "metadata": {},
   "outputs": [],
   "source": []
  },
  {
   "cell_type": "code",
   "execution_count": null,
   "id": "736087a9",
   "metadata": {},
   "outputs": [],
   "source": []
  },
  {
   "cell_type": "code",
   "execution_count": null,
   "id": "6cb9e01c",
   "metadata": {},
   "outputs": [],
   "source": []
  },
  {
   "cell_type": "code",
   "execution_count": null,
   "id": "7b420c2a",
   "metadata": {},
   "outputs": [],
   "source": []
  },
  {
   "cell_type": "code",
   "execution_count": null,
   "id": "beaefb7d",
   "metadata": {},
   "outputs": [],
   "source": []
  },
  {
   "cell_type": "code",
   "execution_count": null,
   "id": "6200e436",
   "metadata": {},
   "outputs": [],
   "source": []
  },
  {
   "cell_type": "code",
   "execution_count": null,
   "id": "f1a355cc",
   "metadata": {},
   "outputs": [],
   "source": [
    "# # 탐색하고 싶은 하이퍼파라미터 조합을 딕셔너리로 생성\n",
    "# param_grid = {\n",
    "#     'max_depth' : [i for i in range(1,21,3)],\n",
    "#     'n_estimators' : [i for i in range(100,201,100)],\n",
    "#     'max_features' : [0.5,0.7],\n",
    "#     'min_samples_leaf' : [i for i in range(100,201,100)]\n",
    "# }"
   ]
  },
  {
   "cell_type": "code",
   "execution_count": null,
   "id": "cfb930a1",
   "metadata": {},
   "outputs": [],
   "source": [
    "# model = RandomForestClassifier(random_state=721)\n",
    "# # 튜닝할 모델, 사용할 파라미터, 교차검증 횟수\n",
    "# grid = GridSearchCV(model,param_grid,cv=3, n_jobs=-1)\n",
    "# # n_jobs : cpu 코어수가 많으면 n_jobs로 지정해서 여러 코어 사용가능 -1을 하면 모든 리소르를 끌어옴"
   ]
  },
  {
   "cell_type": "code",
   "execution_count": null,
   "id": "a45afa36",
   "metadata": {},
   "outputs": [],
   "source": [
    "# grid.fit(X_train,y_train)"
   ]
  },
  {
   "cell_type": "code",
   "execution_count": null,
   "id": "a96c6cee",
   "metadata": {},
   "outputs": [],
   "source": []
  },
  {
   "cell_type": "code",
   "execution_count": null,
   "id": "b9128498",
   "metadata": {},
   "outputs": [],
   "source": []
  },
  {
   "cell_type": "code",
   "execution_count": null,
   "id": "f653e884",
   "metadata": {},
   "outputs": [],
   "source": []
  },
  {
   "cell_type": "code",
   "execution_count": null,
   "id": "8591ccbd",
   "metadata": {},
   "outputs": [],
   "source": []
  },
  {
   "cell_type": "code",
   "execution_count": null,
   "id": "13aa7309",
   "metadata": {},
   "outputs": [],
   "source": []
  }
 ],
 "metadata": {
  "kernelspec": {
   "display_name": "Python 3 (ipykernel)",
   "language": "python",
   "name": "python3"
  },
  "language_info": {
   "codemirror_mode": {
    "name": "ipython",
    "version": 3
   },
   "file_extension": ".py",
   "mimetype": "text/x-python",
   "name": "python",
   "nbconvert_exporter": "python",
   "pygments_lexer": "ipython3",
   "version": "3.9.12"
  },
  "toc": {
   "base_numbering": 1,
   "nav_menu": {},
   "number_sections": true,
   "sideBar": true,
   "skip_h1_title": false,
   "title_cell": "Table of Contents",
   "title_sidebar": "Contents",
   "toc_cell": false,
   "toc_position": {
    "height": "calc(100% - 180px)",
    "left": "10px",
    "top": "150px",
    "width": "212.003px"
   },
   "toc_section_display": true,
   "toc_window_display": true
  }
 },
 "nbformat": 4,
 "nbformat_minor": 5
}
