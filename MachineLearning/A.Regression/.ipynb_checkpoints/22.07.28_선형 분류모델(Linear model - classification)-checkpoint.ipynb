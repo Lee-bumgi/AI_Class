{
 "cells": [
  {
   "cell_type": "markdown",
   "id": "c59563a1",
   "metadata": {},
   "source": [
    "# 목표\n",
    "- 손글씨를 분류하는 모델을 만들어보자.\n",
    "- 예측의 불확실성\n",
    "- 이미지 데이터의 형태를 이해.\n",
    "- 다양한 분류평가지표를 이해하자"
   ]
  },
  {
   "cell_type": "markdown",
   "id": "1c7c8e17",
   "metadata": {},
   "source": [
    "# 데이터 로딩"
   ]
  },
  {
   "cell_type": "code",
   "execution_count": 1,
   "id": "e05ad6d8",
   "metadata": {},
   "outputs": [],
   "source": [
    "import numpy as np\n",
    "import pandas as pd\n",
    "import matplotlib.pyplot as plt\n",
    "from sklearn.model_selection import train_test_split"
   ]
  },
  {
   "cell_type": "code",
   "execution_count": 2,
   "id": "c8407f4c",
   "metadata": {},
   "outputs": [
    {
     "data": {
      "text/html": [
       "<div>\n",
       "<style scoped>\n",
       "    .dataframe tbody tr th:only-of-type {\n",
       "        vertical-align: middle;\n",
       "    }\n",
       "\n",
       "    .dataframe tbody tr th {\n",
       "        vertical-align: top;\n",
       "    }\n",
       "\n",
       "    .dataframe thead th {\n",
       "        text-align: right;\n",
       "    }\n",
       "</style>\n",
       "<table border=\"1\" class=\"dataframe\">\n",
       "  <thead>\n",
       "    <tr style=\"text-align: right;\">\n",
       "      <th></th>\n",
       "      <th>label</th>\n",
       "      <th>pixel0</th>\n",
       "      <th>pixel1</th>\n",
       "      <th>pixel2</th>\n",
       "      <th>pixel3</th>\n",
       "      <th>pixel4</th>\n",
       "      <th>pixel5</th>\n",
       "      <th>pixel6</th>\n",
       "      <th>pixel7</th>\n",
       "      <th>pixel8</th>\n",
       "      <th>...</th>\n",
       "      <th>pixel774</th>\n",
       "      <th>pixel775</th>\n",
       "      <th>pixel776</th>\n",
       "      <th>pixel777</th>\n",
       "      <th>pixel778</th>\n",
       "      <th>pixel779</th>\n",
       "      <th>pixel780</th>\n",
       "      <th>pixel781</th>\n",
       "      <th>pixel782</th>\n",
       "      <th>pixel783</th>\n",
       "    </tr>\n",
       "  </thead>\n",
       "  <tbody>\n",
       "    <tr>\n",
       "      <th>0</th>\n",
       "      <td>1</td>\n",
       "      <td>0</td>\n",
       "      <td>0</td>\n",
       "      <td>0</td>\n",
       "      <td>0</td>\n",
       "      <td>0</td>\n",
       "      <td>0</td>\n",
       "      <td>0</td>\n",
       "      <td>0</td>\n",
       "      <td>0</td>\n",
       "      <td>...</td>\n",
       "      <td>0</td>\n",
       "      <td>0</td>\n",
       "      <td>0</td>\n",
       "      <td>0</td>\n",
       "      <td>0</td>\n",
       "      <td>0</td>\n",
       "      <td>0</td>\n",
       "      <td>0</td>\n",
       "      <td>0</td>\n",
       "      <td>0</td>\n",
       "    </tr>\n",
       "    <tr>\n",
       "      <th>1</th>\n",
       "      <td>0</td>\n",
       "      <td>0</td>\n",
       "      <td>0</td>\n",
       "      <td>0</td>\n",
       "      <td>0</td>\n",
       "      <td>0</td>\n",
       "      <td>0</td>\n",
       "      <td>0</td>\n",
       "      <td>0</td>\n",
       "      <td>0</td>\n",
       "      <td>...</td>\n",
       "      <td>0</td>\n",
       "      <td>0</td>\n",
       "      <td>0</td>\n",
       "      <td>0</td>\n",
       "      <td>0</td>\n",
       "      <td>0</td>\n",
       "      <td>0</td>\n",
       "      <td>0</td>\n",
       "      <td>0</td>\n",
       "      <td>0</td>\n",
       "    </tr>\n",
       "    <tr>\n",
       "      <th>2</th>\n",
       "      <td>1</td>\n",
       "      <td>0</td>\n",
       "      <td>0</td>\n",
       "      <td>0</td>\n",
       "      <td>0</td>\n",
       "      <td>0</td>\n",
       "      <td>0</td>\n",
       "      <td>0</td>\n",
       "      <td>0</td>\n",
       "      <td>0</td>\n",
       "      <td>...</td>\n",
       "      <td>0</td>\n",
       "      <td>0</td>\n",
       "      <td>0</td>\n",
       "      <td>0</td>\n",
       "      <td>0</td>\n",
       "      <td>0</td>\n",
       "      <td>0</td>\n",
       "      <td>0</td>\n",
       "      <td>0</td>\n",
       "      <td>0</td>\n",
       "    </tr>\n",
       "    <tr>\n",
       "      <th>3</th>\n",
       "      <td>4</td>\n",
       "      <td>0</td>\n",
       "      <td>0</td>\n",
       "      <td>0</td>\n",
       "      <td>0</td>\n",
       "      <td>0</td>\n",
       "      <td>0</td>\n",
       "      <td>0</td>\n",
       "      <td>0</td>\n",
       "      <td>0</td>\n",
       "      <td>...</td>\n",
       "      <td>0</td>\n",
       "      <td>0</td>\n",
       "      <td>0</td>\n",
       "      <td>0</td>\n",
       "      <td>0</td>\n",
       "      <td>0</td>\n",
       "      <td>0</td>\n",
       "      <td>0</td>\n",
       "      <td>0</td>\n",
       "      <td>0</td>\n",
       "    </tr>\n",
       "    <tr>\n",
       "      <th>4</th>\n",
       "      <td>0</td>\n",
       "      <td>0</td>\n",
       "      <td>0</td>\n",
       "      <td>0</td>\n",
       "      <td>0</td>\n",
       "      <td>0</td>\n",
       "      <td>0</td>\n",
       "      <td>0</td>\n",
       "      <td>0</td>\n",
       "      <td>0</td>\n",
       "      <td>...</td>\n",
       "      <td>0</td>\n",
       "      <td>0</td>\n",
       "      <td>0</td>\n",
       "      <td>0</td>\n",
       "      <td>0</td>\n",
       "      <td>0</td>\n",
       "      <td>0</td>\n",
       "      <td>0</td>\n",
       "      <td>0</td>\n",
       "      <td>0</td>\n",
       "    </tr>\n",
       "  </tbody>\n",
       "</table>\n",
       "<p>5 rows × 785 columns</p>\n",
       "</div>"
      ],
      "text/plain": [
       "   label  pixel0  pixel1  pixel2  pixel3  pixel4  pixel5  pixel6  pixel7  \\\n",
       "0      1       0       0       0       0       0       0       0       0   \n",
       "1      0       0       0       0       0       0       0       0       0   \n",
       "2      1       0       0       0       0       0       0       0       0   \n",
       "3      4       0       0       0       0       0       0       0       0   \n",
       "4      0       0       0       0       0       0       0       0       0   \n",
       "\n",
       "   pixel8  ...  pixel774  pixel775  pixel776  pixel777  pixel778  pixel779  \\\n",
       "0       0  ...         0         0         0         0         0         0   \n",
       "1       0  ...         0         0         0         0         0         0   \n",
       "2       0  ...         0         0         0         0         0         0   \n",
       "3       0  ...         0         0         0         0         0         0   \n",
       "4       0  ...         0         0         0         0         0         0   \n",
       "\n",
       "   pixel780  pixel781  pixel782  pixel783  \n",
       "0         0         0         0         0  \n",
       "1         0         0         0         0  \n",
       "2         0         0         0         0  \n",
       "3         0         0         0         0  \n",
       "4         0         0         0         0  \n",
       "\n",
       "[5 rows x 785 columns]"
      ]
     },
     "execution_count": 2,
     "metadata": {},
     "output_type": "execute_result"
    }
   ],
   "source": [
    "digit_train = pd.read_csv('data/digit_train.csv')\n",
    "digit_test = pd.read_csv('data/digit_test.csv')\n",
    "digit_train.head()"
   ]
  },
  {
   "cell_type": "code",
   "execution_count": 3,
   "id": "b60511c8",
   "metadata": {},
   "outputs": [
    {
     "data": {
      "text/plain": [
       "<matplotlib.image.AxesImage at 0x290db849e50>"
      ]
     },
     "execution_count": 3,
     "metadata": {},
     "output_type": "execute_result"
    },
    {
     "data": {
      "image/png": "[encoded data removed]",
      "text/plain": [
       "<Figure size 432x288 with 1 Axes>"
      ]
     },
     "metadata": {
      "needs_background": "light"
     },
     "output_type": "display_data"
    }
   ],
   "source": [
    "# 이미지 확인\n",
    "img = digit_train.iloc[11310, 1:]\n",
    "img_reshape = img.values.reshape(28,28) # 시리즈를 넘파이로 그 뒤에 reshape\n",
    "plt.imshow(img_reshape ,cmap='gray')"
   ]
  },
  {
   "cell_type": "code",
   "execution_count": 4,
   "id": "534a083c",
   "metadata": {},
   "outputs": [
    {
     "data": {
      "image/png": "[encoded data removed]",
      "text/plain": [
       "<Figure size 432x288 with 1 Axes>"
      ]
     },
     "metadata": {
      "needs_background": "light"
     },
     "output_type": "display_data"
    }
   ],
   "source": [
    "# 데이터 분포 확인\n",
    "# 검은색은 다 0, rgb값 255에 가깝게 분포하는 것까지 \n",
    "plt.hist(img)\n",
    "plt.show()"
   ]
  },
  {
   "cell_type": "code",
   "execution_count": 5,
   "id": "09e3e99b",
   "metadata": {},
   "outputs": [
    {
     "data": {
      "text/plain": [
       "1    4684\n",
       "7    4401\n",
       "3    4351\n",
       "9    4188\n",
       "2    4177\n",
       "6    4137\n",
       "0    4132\n",
       "4    4072\n",
       "8    4063\n",
       "5    3795\n",
       "Name: label, dtype: int64"
      ]
     },
     "execution_count": 5,
     "metadata": {},
     "output_type": "execute_result"
    }
   ],
   "source": [
    "# 손글씨(정답) 종류\n",
    "digit_train['label'].value_counts()"
   ]
  },
  {
   "cell_type": "code",
   "execution_count": 6,
   "id": "b92bafe6",
   "metadata": {},
   "outputs": [
    {
     "data": {
      "text/plain": [
       "0.026479251883621324"
      ]
     },
     "execution_count": 6,
     "metadata": {},
     "output_type": "execute_result"
    }
   ],
   "source": [
    "digit_train['label'].skew()"
   ]
  },
  {
   "cell_type": "markdown",
   "id": "665fcc82",
   "metadata": {},
   "source": [
    "## 훈련용 데이터와 검증용 데이터 분리"
   ]
  },
  {
   "cell_type": "code",
   "execution_count": 7,
   "id": "4233093c",
   "metadata": {},
   "outputs": [],
   "source": [
    "X = digit_train.drop(['label'],axis = 1)\n",
    "y = digit_train['label']\n",
    "X_train,X_val,y_train,y_val = train_test_split(X,y,random_state=728, test_size=0.3)\n"
   ]
  },
  {
   "cell_type": "code",
   "execution_count": 8,
   "id": "505181b3",
   "metadata": {},
   "outputs": [
    {
     "data": {
      "text/plain": [
       "((29400, 784), (29400,))"
      ]
     },
     "execution_count": 8,
     "metadata": {},
     "output_type": "execute_result"
    }
   ],
   "source": [
    "X_train.shape, y_train.shape"
   ]
  },
  {
   "cell_type": "code",
   "execution_count": 9,
   "id": "aa4ecf90",
   "metadata": {},
   "outputs": [
    {
     "data": {
      "text/plain": [
       "((12600, 784), (12600,))"
      ]
     },
     "execution_count": 9,
     "metadata": {},
     "output_type": "execute_result"
    }
   ],
   "source": [
    "X_val.shape, y_val.shape"
   ]
  },
  {
   "cell_type": "markdown",
   "id": "fa431023",
   "metadata": {},
   "source": [
    "## 모델링\n",
    "- KNN\n",
    "- DecisionTree\n",
    "- LogisticRegression\n",
    "- SVM"
   ]
  },
  {
   "cell_type": "code",
   "execution_count": 10,
   "id": "a9f03eee",
   "metadata": {},
   "outputs": [],
   "source": [
    "from sklearn.neighbors import KNeighborsClassifier\n",
    "from sklearn.tree import DecisionTreeClassifier\n",
    "from sklearn.linear_model import LogisticRegression\n",
    "from sklearn.svm import LinearSVC # 분류용 SVM모델\n",
    "from sklearn.linear_model import SGDClassifier # 경사하강법 적용 선형분류모델"
   ]
  },
  {
   "cell_type": "code",
   "execution_count": 12,
   "id": "d8383b3a",
   "metadata": {},
   "outputs": [],
   "source": [
    "# knn = KNeighborsClassifier()\n",
    "# tree = DecisionTreeClassifier()\n",
    "# lr = LogisticRegression(max_iter=10000)\n",
    "# svc = LinearSVC()\n",
    "# sgd = SGDClassifier()\n",
    "\n",
    "# knn.fit(X_train, y_train)\n",
    "# tree.fit(X_train,y_train)\n",
    "# lr.fit(X_train, y_train)\n",
    "# svc.fit(X_train,y_train)\n",
    "# sgd.fit(X_train,y_train)\n",
    "\n",
    "# knn_score = knn.score(X_val,y_val)\n",
    "# tree_score = tree.score(X_val,y_val)\n",
    "# lr_score = lr.score(X_val,y_val)\n",
    "# svc_score = svc.score(X_val,y_val)\n",
    "# sgd_score = sgd.score(X_val,y_val)\n",
    "\n",
    "# print('knn모델 결과 : ', knn_score)\n",
    "# print('tree모델 결과 : ', tree_score)\n",
    "# print('lr모델 결과 : ', lr_score)\n",
    "# print('svc모델 결과 : ', svc_score)\n",
    "# print('sgd모델 결과 : ', sgd_score)\n"
   ]
  },
  {
   "cell_type": "code",
   "execution_count": 13,
   "id": "bd3c9f71",
   "metadata": {},
   "outputs": [
    {
     "name": "stdout",
     "output_type": "stream",
     "text": [
      "knn모델 결과 :  0.9671428571428572\n"
     ]
    }
   ],
   "source": [
    "knn = KNeighborsClassifier()\n",
    "knn.fit(X_train, y_train)\n",
    "knn_score = knn.score(X_val,y_val)\n",
    "print('knn모델 결과 : ', knn_score)"
   ]
  },
  {
   "cell_type": "code",
   "execution_count": 14,
   "id": "facf0848",
   "metadata": {},
   "outputs": [
    {
     "name": "stdout",
     "output_type": "stream",
     "text": [
      "tree모델 결과 :  0.8475396825396826\n"
     ]
    }
   ],
   "source": [
    "tree = DecisionTreeClassifier()\n",
    "tree.fit(X_train,y_train)\n",
    "tree_score = tree.score(X_val,y_val)\n",
    "print('tree모델 결과 : ', tree_score)"
   ]
  },
  {
   "cell_type": "code",
   "execution_count": 16,
   "id": "4251565e",
   "metadata": {},
   "outputs": [
    {
     "name": "stdout",
     "output_type": "stream",
     "text": [
      "lr모델 결과 :  0.9137301587301587\n"
     ]
    },
    {
     "name": "stderr",
     "output_type": "stream",
     "text": [
      "C:\\Users\\AI\\Anaconda3\\lib\\site-packages\\sklearn\\linear_model\\_logistic.py:814: ConvergenceWarning: lbfgs failed to converge (status=1):\n",
      "STOP: TOTAL NO. of ITERATIONS REACHED LIMIT.\n",
      "\n",
      "Increase the number of iterations (max_iter) or scale the data as shown in:\n",
      "    https://scikit-learn.org/stable/modules/preprocessing.html\n",
      "Please also refer to the documentation for alternative solver options:\n",
      "    https://scikit-learn.org/stable/modules/linear_model.html#logistic-regression\n",
      "  n_iter_i = _check_optimize_result(\n"
     ]
    }
   ],
   "source": [
    "lr = LogisticRegression()\n",
    "lr.fit(X_train, y_train)\n",
    "lr_score = lr.score(X_val,y_val)\n",
    "print('lr모델 결과 : ', lr_score)"
   ]
  },
  {
   "cell_type": "code",
   "execution_count": 17,
   "id": "28e1497f",
   "metadata": {},
   "outputs": [
    {
     "name": "stdout",
     "output_type": "stream",
     "text": [
      "svc모델 결과 :  0.8386507936507936\n"
     ]
    },
    {
     "name": "stderr",
     "output_type": "stream",
     "text": [
      "C:\\Users\\AI\\Anaconda3\\lib\\site-packages\\sklearn\\svm\\_base.py:1206: ConvergenceWarning: Liblinear failed to converge, increase the number of iterations.\n",
      "  warnings.warn(\n"
     ]
    }
   ],
   "source": [
    "svc = LinearSVC()\n",
    "svc.fit(X_train,y_train)\n",
    "svc_score = svc.score(X_val,y_val)\n",
    "print('svc모델 결과 : ', svc_score)"
   ]
  },
  {
   "cell_type": "code",
   "execution_count": 18,
   "id": "99b800f2",
   "metadata": {
    "scrolled": true
   },
   "outputs": [
    {
     "name": "stdout",
     "output_type": "stream",
     "text": [
      "sgd모델 결과 :  0.873968253968254\n"
     ]
    }
   ],
   "source": [
    "sgd = SGDClassifier()\n",
    "sgd.fit(X_train,y_train)\n",
    "sgd_score = sgd.score(X_val,y_val)\n",
    "print('sgd모델 결과 : ', sgd_score)"
   ]
  },
  {
   "cell_type": "code",
   "execution_count": 24,
   "id": "296f1e4f",
   "metadata": {},
   "outputs": [
    {
     "name": "stdout",
     "output_type": "stream",
     "text": [
      "knn모델 결과 :  0.9671428571428572\n",
      "tree모델 결과 :  0.8475396825396826\n",
      "lr모델 결과 :  0.9137301587301587\n",
      "svc모델 결과 :  0.8386507936507936\n",
      "sgd모델 결과 :  0.873968253968254\n"
     ]
    }
   ],
   "source": [
    "print('knn모델 결과 : ', knn_score)\n",
    "print('tree모델 결과 : ', tree_score)\n",
    "print('lr모델 결과 : ', lr_score)\n",
    "print('svc모델 결과 : ', svc_score)\n",
    "print('sgd모델 결과 : ', sgd_score)"
   ]
  },
  {
   "cell_type": "markdown",
   "id": "7b1006d0",
   "metadata": {},
   "source": [
    "## 교차검증 활용 점수 확인"
   ]
  },
  {
   "cell_type": "code",
   "execution_count": 28,
   "id": "71ee88d5",
   "metadata": {},
   "outputs": [
    {
     "name": "stderr",
     "output_type": "stream",
     "text": [
      "C:\\Users\\AI\\Anaconda3\\lib\\site-packages\\sklearn\\linear_model\\_logistic.py:814: ConvergenceWarning: lbfgs failed to converge (status=1):\n",
      "STOP: TOTAL NO. of ITERATIONS REACHED LIMIT.\n",
      "\n",
      "Increase the number of iterations (max_iter) or scale the data as shown in:\n",
      "    https://scikit-learn.org/stable/modules/preprocessing.html\n",
      "Please also refer to the documentation for alternative solver options:\n",
      "    https://scikit-learn.org/stable/modules/linear_model.html#logistic-regression\n",
      "  n_iter_i = _check_optimize_result(\n",
      "C:\\Users\\AI\\Anaconda3\\lib\\site-packages\\sklearn\\linear_model\\_logistic.py:814: ConvergenceWarning: lbfgs failed to converge (status=1):\n",
      "STOP: TOTAL NO. of ITERATIONS REACHED LIMIT.\n",
      "\n",
      "Increase the number of iterations (max_iter) or scale the data as shown in:\n",
      "    https://scikit-learn.org/stable/modules/preprocessing.html\n",
      "Please also refer to the documentation for alternative solver options:\n",
      "    https://scikit-learn.org/stable/modules/linear_model.html#logistic-regression\n",
      "  n_iter_i = _check_optimize_result(\n",
      "C:\\Users\\AI\\Anaconda3\\lib\\site-packages\\sklearn\\linear_model\\_logistic.py:814: ConvergenceWarning: lbfgs failed to converge (status=1):\n",
      "STOP: TOTAL NO. of ITERATIONS REACHED LIMIT.\n",
      "\n",
      "Increase the number of iterations (max_iter) or scale the data as shown in:\n",
      "    https://scikit-learn.org/stable/modules/preprocessing.html\n",
      "Please also refer to the documentation for alternative solver options:\n",
      "    https://scikit-learn.org/stable/modules/linear_model.html#logistic-regression\n",
      "  n_iter_i = _check_optimize_result(\n",
      "C:\\Users\\AI\\Anaconda3\\lib\\site-packages\\sklearn\\svm\\_base.py:1206: ConvergenceWarning: Liblinear failed to converge, increase the number of iterations.\n",
      "  warnings.warn(\n",
      "C:\\Users\\AI\\Anaconda3\\lib\\site-packages\\sklearn\\svm\\_base.py:1206: ConvergenceWarning: Liblinear failed to converge, increase the number of iterations.\n",
      "  warnings.warn(\n",
      "C:\\Users\\AI\\Anaconda3\\lib\\site-packages\\sklearn\\svm\\_base.py:1206: ConvergenceWarning: Liblinear failed to converge, increase the number of iterations.\n",
      "  warnings.warn(\n"
     ]
    }
   ],
   "source": [
    "from sklearn.model_selection import cross_val_score\n",
    "\n",
    "knn2 = KNeighborsClassifier()\n",
    "tree2 = DecisionTreeClassifier()\n",
    "lr2 = LogisticRegression()\n",
    "svc2 = LinearSVC()\n",
    "sgd2 = SGDClassifier()\n",
    "\n",
    "knn2_score =cross_val_score(knn2,X, y, cv=3)\n",
    "tree2_score = cross_val_score(tree2,X, y, cv=3)\n",
    "lr2_score = cross_val_score(lr2,X, y, cv=3)\n",
    "svc2_score = cross_val_score(svc2,X, y, cv=3)\n",
    "sgd2_score = cross_val_score(sgd2,X, y, cv=3)\n"
   ]
  },
  {
   "cell_type": "code",
   "execution_count": 31,
   "id": "7e984b5c",
   "metadata": {},
   "outputs": [
    {
     "name": "stdout",
     "output_type": "stream",
     "text": [
      "knn 교차검증 :  0.9642142857142857\n",
      "tree 교차검증 :  0.8456904761904762\n",
      "lr 교차검증 :  0.9128095238095238\n",
      "svc 교차검증 :  0.8631428571428571\n",
      "sgd 교차검증 :  0.8763095238095239\n"
     ]
    }
   ],
   "source": [
    "print('knn 교차검증 : ', knn2_score.mean())\n",
    "print('tree 교차검증 : ', tree2_score.mean())\n",
    "print('lr 교차검증 : ', lr2_score.mean())\n",
    "print('svc 교차검증 : ', svc2_score.mean())\n",
    "print('sgd 교차검증 : ', sgd2_score.mean())"
   ]
  },
  {
   "cell_type": "markdown",
   "id": "a2535555",
   "metadata": {},
   "source": [
    "### 스케일링 추가\n",
    "- minmax 스케일러 활용"
   ]
  },
  {
   "cell_type": "code",
   "execution_count": 13,
   "id": "842f4d82",
   "metadata": {},
   "outputs": [
    {
     "data": {
      "text/plain": [
       "MinMaxScaler()"
      ]
     },
     "execution_count": 13,
     "metadata": {},
     "output_type": "execute_result"
    }
   ],
   "source": [
    "from sklearn.preprocessing import MinMaxScaler\n",
    "scaler = MinMaxScaler() # 스케일러 객체생성\n",
    "scaler.fit(X) # 스케일링 기준값 찾기"
   ]
  },
  {
   "cell_type": "code",
   "execution_count": 14,
   "id": "1c86c6d7",
   "metadata": {},
   "outputs": [],
   "source": [
    "X_scaled = scaler.transform(X) # 스케일링 실시"
   ]
  },
  {
   "cell_type": "code",
   "execution_count": 15,
   "id": "9ab35f11",
   "metadata": {},
   "outputs": [],
   "source": [
    "knn3 = KNeighborsClassifier()\n",
    "tree3 = DecisionTreeClassifier()\n",
    "lr3 = LogisticRegression()\n",
    "svc3 = LinearSVC()\n",
    "sgd3 = SGDClassifier()"
   ]
  },
  {
   "cell_type": "code",
   "execution_count": 16,
   "id": "2f323531",
   "metadata": {},
   "outputs": [
    {
     "ename": "NameError",
     "evalue": "name 'cross_val_score' is not defined",
     "output_type": "error",
     "traceback": [
      "\u001b[1;31m---------------------------------------------------------------------------\u001b[0m",
      "\u001b[1;31mNameError\u001b[0m                                 Traceback (most recent call last)",
      "Input \u001b[1;32mIn [16]\u001b[0m, in \u001b[0;36m<cell line: 1>\u001b[1;34m()\u001b[0m\n\u001b[1;32m----> 1\u001b[0m knn3_score \u001b[38;5;241m=\u001b[39m\u001b[43mcross_val_score\u001b[49m(knn3,X_scaled, y, cv\u001b[38;5;241m=\u001b[39m\u001b[38;5;241m3\u001b[39m)\n\u001b[0;32m      2\u001b[0m tree3_score \u001b[38;5;241m=\u001b[39m cross_val_score(tree3,X_scaled, y, cv\u001b[38;5;241m=\u001b[39m\u001b[38;5;241m3\u001b[39m)\n\u001b[0;32m      3\u001b[0m lr3_score \u001b[38;5;241m=\u001b[39m cross_val_score(lr3,X_scaled, y, cv\u001b[38;5;241m=\u001b[39m\u001b[38;5;241m3\u001b[39m)\n",
      "\u001b[1;31mNameError\u001b[0m: name 'cross_val_score' is not defined"
     ]
    }
   ],
   "source": [
    "knn3_score =cross_val_score(knn3,X_scaled, y, cv=3)\n",
    "tree3_score = cross_val_score(tree3,X_scaled, y, cv=3)\n",
    "lr3_score = cross_val_score(lr3,X_scaled, y, cv=3)\n",
    "svc3_score = cross_val_score(svc3,X_scaled, y, cv=3)\n",
    "sgd3_score = cross_val_score(sgd3,X_scaled, y, cv=3)"
   ]
  },
  {
   "cell_type": "code",
   "execution_count": 17,
   "id": "442c518c",
   "metadata": {},
   "outputs": [
    {
     "ename": "NameError",
     "evalue": "name 'knn2_score' is not defined",
     "output_type": "error",
     "traceback": [
      "\u001b[1;31m---------------------------------------------------------------------------\u001b[0m",
      "\u001b[1;31mNameError\u001b[0m                                 Traceback (most recent call last)",
      "Input \u001b[1;32mIn [17]\u001b[0m, in \u001b[0;36m<cell line: 1>\u001b[1;34m()\u001b[0m\n\u001b[1;32m----> 1\u001b[0m \u001b[38;5;28mprint\u001b[39m(\u001b[38;5;124m'\u001b[39m\u001b[38;5;124mknn 교차검증 : \u001b[39m\u001b[38;5;124m'\u001b[39m, \u001b[43mknn2_score\u001b[49m\u001b[38;5;241m.\u001b[39mmean())\n\u001b[0;32m      2\u001b[0m \u001b[38;5;28mprint\u001b[39m(\u001b[38;5;124m'\u001b[39m\u001b[38;5;124mtree 교차검증 : \u001b[39m\u001b[38;5;124m'\u001b[39m, tree2_score\u001b[38;5;241m.\u001b[39mmean())\n\u001b[0;32m      3\u001b[0m \u001b[38;5;28mprint\u001b[39m(\u001b[38;5;124m'\u001b[39m\u001b[38;5;124mlr 교차검증 : \u001b[39m\u001b[38;5;124m'\u001b[39m, lr2_score\u001b[38;5;241m.\u001b[39mmean())\n",
      "\u001b[1;31mNameError\u001b[0m: name 'knn2_score' is not defined"
     ]
    }
   ],
   "source": [
    "print('knn 교차검증 : ', knn2_score.mean())\n",
    "print('tree 교차검증 : ', tree2_score.mean())\n",
    "print('lr 교차검증 : ', lr2_score.mean())\n",
    "print('svc 교차검증 : ', svc2_score.mean())\n",
    "print('sgd 교차검증 : ', sgd2_score.mean())"
   ]
  },
  {
   "cell_type": "code",
   "execution_count": 18,
   "id": "abbfc847",
   "metadata": {},
   "outputs": [
    {
     "ename": "NameError",
     "evalue": "name 'knn3_score' is not defined",
     "output_type": "error",
     "traceback": [
      "\u001b[1;31m---------------------------------------------------------------------------\u001b[0m",
      "\u001b[1;31mNameError\u001b[0m                                 Traceback (most recent call last)",
      "Input \u001b[1;32mIn [18]\u001b[0m, in \u001b[0;36m<cell line: 1>\u001b[1;34m()\u001b[0m\n\u001b[1;32m----> 1\u001b[0m \u001b[38;5;28mprint\u001b[39m(\u001b[38;5;124m'\u001b[39m\u001b[38;5;124mknn 교차검증 : \u001b[39m\u001b[38;5;124m'\u001b[39m, \u001b[43mknn3_score\u001b[49m\u001b[38;5;241m.\u001b[39mmean())\n\u001b[0;32m      2\u001b[0m \u001b[38;5;28mprint\u001b[39m(\u001b[38;5;124m'\u001b[39m\u001b[38;5;124mtree 교차검증 : \u001b[39m\u001b[38;5;124m'\u001b[39m, tree3_score\u001b[38;5;241m.\u001b[39mmean())\n\u001b[0;32m      3\u001b[0m \u001b[38;5;28mprint\u001b[39m(\u001b[38;5;124m'\u001b[39m\u001b[38;5;124mlr 교차검증 : \u001b[39m\u001b[38;5;124m'\u001b[39m, lr3_score\u001b[38;5;241m.\u001b[39mmean())\n",
      "\u001b[1;31mNameError\u001b[0m: name 'knn3_score' is not defined"
     ]
    }
   ],
   "source": [
    "print('knn 교차검증 : ', knn3_score.mean())\n",
    "print('tree 교차검증 : ', tree3_score.mean())\n",
    "print('lr 교차검증 : ', lr3_score.mean())\n",
    "print('svc 교차검증 : ', svc3_score.mean())\n",
    "print('sgd 교차검증 : ', sgd3_score.mean())"
   ]
  },
  {
   "cell_type": "markdown",
   "id": "b7b67721",
   "metadata": {},
   "source": [
    "### 예측의 불확실성 확인\n",
    "- 분류모델들은 예측 결과를 정하기전에 항상 확률을 계산한다.\n",
    "- 분류모델이 예측한 값이 같더라도 확신의 정도(불확실성)가 전부 다르다."
   ]
  },
  {
   "cell_type": "code",
   "execution_count": 19,
   "id": "489f8126",
   "metadata": {},
   "outputs": [
    {
     "name": "stderr",
     "output_type": "stream",
     "text": [
      "C:\\Users\\AI\\Anaconda3\\lib\\site-packages\\sklearn\\linear_model\\_logistic.py:814: ConvergenceWarning: lbfgs failed to converge (status=1):\n",
      "STOP: TOTAL NO. of ITERATIONS REACHED LIMIT.\n",
      "\n",
      "Increase the number of iterations (max_iter) or scale the data as shown in:\n",
      "    https://scikit-learn.org/stable/modules/preprocessing.html\n",
      "Please also refer to the documentation for alternative solver options:\n",
      "    https://scikit-learn.org/stable/modules/linear_model.html#logistic-regression\n",
      "  n_iter_i = _check_optimize_result(\n"
     ]
    }
   ],
   "source": [
    "logi_model4 = LogisticRegression()\n",
    "logi_model4.fit(X_train,y_train)\n",
    "pre = logi_model4.predict(X_val)\n"
   ]
  },
  {
   "cell_type": "code",
   "execution_count": 20,
   "id": "f651dd0c",
   "metadata": {},
   "outputs": [
    {
     "data": {
      "text/plain": [
       "array([7, 8, 0, ..., 1, 8, 6], dtype=int64)"
      ]
     },
     "execution_count": 20,
     "metadata": {},
     "output_type": "execute_result"
    }
   ],
   "source": [
    "pre"
   ]
  },
  {
   "cell_type": "code",
   "execution_count": 21,
   "id": "e9a85f29",
   "metadata": {},
   "outputs": [],
   "source": [
    "pre_proba = logi_model4.predict_proba(X_val)"
   ]
  },
  {
   "cell_type": "code",
   "execution_count": 22,
   "id": "323c3287",
   "metadata": {},
   "outputs": [
    {
     "data": {
      "text/plain": [
       "array([9.93676716e-01, 7.85719654e-12, 2.97069321e-06, 4.60621897e-05,\n",
       "       3.35098681e-09, 5.65470362e-03, 7.40868203e-08, 6.97362287e-07,\n",
       "       6.17105892e-04, 1.66634160e-06])"
      ]
     },
     "execution_count": 22,
     "metadata": {},
     "output_type": "execute_result"
    }
   ],
   "source": [
    "pre_proba[2]"
   ]
  },
  {
   "cell_type": "code",
   "execution_count": 23,
   "id": "5bf2485a",
   "metadata": {},
   "outputs": [
    {
     "data": {
      "text/plain": [
       "<matplotlib.image.AxesImage at 0x290808b3f40>"
      ]
     },
     "execution_count": 23,
     "metadata": {},
     "output_type": "execute_result"
    },
    {
     "data": {
      "image/png": "[encoded data removed]",
      "text/plain": [
       "<Figure size 432x288 with 1 Axes>"
      ]
     },
     "metadata": {
      "needs_background": "light"
     },
     "output_type": "display_data"
    }
   ],
   "source": [
    "plt.imshow(X_val.iloc[2].values.reshape(28,28), cmap='gray')"
   ]
  },
  {
   "cell_type": "markdown",
   "id": "fd7d4e39",
   "metadata": {},
   "source": [
    "## 모델 활용하기"
   ]
  },
  {
   "cell_type": "code",
   "execution_count": 53,
   "id": "0b90f202",
   "metadata": {},
   "outputs": [
    {
     "name": "stdout",
     "output_type": "stream",
     "text": [
      "Requirement already satisfied: pillow in c:\\users\\ai\\anaconda3\\lib\\site-packages (9.0.1)\n"
     ]
    }
   ],
   "source": [
    "!pip install pillow"
   ]
  },
  {
   "cell_type": "code",
   "execution_count": 12,
   "id": "7ead67b8",
   "metadata": {},
   "outputs": [],
   "source": [
    "from PIL import Image # Python Image Library"
   ]
  },
  {
   "cell_type": "code",
   "execution_count": 56,
   "id": "ca9748af",
   "metadata": {},
   "outputs": [],
   "source": [
    "img = Image.open('data/4.png').convert(\"L\") # 사진을 열어서 흑백채널로 변경"
   ]
  },
  {
   "cell_type": "code",
   "execution_count": 62,
   "id": "d208c018",
   "metadata": {},
   "outputs": [
    {
     "data": {
      "image/png": "[encoded data removed]",
      "text/plain": [
       "<PIL.Image.Image image mode=L size=28x28 at 0x2067FC4CFD0>"
      ]
     },
     "execution_count": 62,
     "metadata": {},
     "output_type": "execute_result"
    }
   ],
   "source": [
    "img"
   ]
  },
  {
   "cell_type": "code",
   "execution_count": 61,
   "id": "48f04626",
   "metadata": {},
   "outputs": [
    {
     "data": {
      "text/plain": [
       "(28, 28)"
      ]
     },
     "execution_count": 61,
     "metadata": {},
     "output_type": "execute_result"
    }
   ],
   "source": [
    "np_img = np.array(img) # 모델에 넣을수 있도록 numpy배열로 변경\n",
    "np_img.shape"
   ]
  },
  {
   "cell_type": "code",
   "execution_count": 59,
   "id": "6eddd82b",
   "metadata": {},
   "outputs": [
    {
     "name": "stderr",
     "output_type": "stream",
     "text": [
      "C:\\Users\\AI\\Anaconda3\\lib\\site-packages\\sklearn\\base.py:450: UserWarning: X does not have valid feature names, but LogisticRegression was fitted with feature names\n",
      "  warnings.warn(\n"
     ]
    },
    {
     "data": {
      "text/plain": [
       "array([4], dtype=int64)"
      ]
     },
     "execution_count": 59,
     "metadata": {},
     "output_type": "execute_result"
    }
   ],
   "source": [
    "logi_model4.predict(np_img.reshape(1,784)) # 학습데이터처럼 1차원으로 사진 펴주기"
   ]
  },
  {
   "cell_type": "markdown",
   "id": "a585ca9d",
   "metadata": {},
   "source": [
    "## 모델 평가 \n",
    "- 정확도\n",
    "- 오차행렬\n",
    "- 정밀도\n",
    "- 재현율 \n",
    "- F1 스코어\n",
    "- ROC AUC"
   ]
  },
  {
   "cell_type": "code",
   "execution_count": 24,
   "id": "0c647d5e",
   "metadata": {},
   "outputs": [],
   "source": [
    "from sklearn.metrics import confusion_matrix # 오차행렬\n",
    "from sklearn.metrics import classification_report # 분류평가 지표를 리포팅"
   ]
  },
  {
   "cell_type": "code",
   "execution_count": 26,
   "id": "597d7f64",
   "metadata": {},
   "outputs": [
    {
     "data": {
      "text/plain": [
       "array([[1160,    1,    2,    4,    0,    7,   14,    4,    2,    1],\n",
       "       [   0, 1374,    1,    5,    1,    3,    2,    2,   19,    1],\n",
       "       [   9,   23, 1140,   29,   12,    4,   12,    9,   35,   12],\n",
       "       [   4,    2,   38, 1194,    0,   34,    2,   12,   32,   16],\n",
       "       [   4,    3,   11,    2, 1091,    2,   10,    5,   13,   50],\n",
       "       [  19,    3,    5,   43,    8,  939,   26,   10,   37,   16],\n",
       "       [  12,    2,   11,    1,   12,   16, 1198,    0,    6,    1],\n",
       "       [   3,    2,   18,    7,   12,    1,    3, 1275,    4,   47],\n",
       "       [  19,   28,   11,   31,   12,   36,    4,    9, 1074,   23],\n",
       "       [  10,    3,    2,   15,   36,    8,    0,   49,   12, 1068]],\n",
       "      dtype=int64)"
      ]
     },
     "execution_count": 26,
     "metadata": {},
     "output_type": "execute_result"
    }
   ],
   "source": [
    "# confusion_matrix (실제정답, 예측값)\n",
    "confusion_matrix(y_val, pre)"
   ]
  },
  {
   "cell_type": "code",
   "execution_count": 28,
   "id": "9791ddfb",
   "metadata": {},
   "outputs": [
    {
     "name": "stdout",
     "output_type": "stream",
     "text": [
      "              precision    recall  f1-score   support\n",
      "\n",
      "           0       0.94      0.97      0.95      1195\n",
      "           1       0.95      0.98      0.96      1408\n",
      "           2       0.92      0.89      0.90      1285\n",
      "           3       0.90      0.90      0.90      1334\n",
      "           4       0.92      0.92      0.92      1191\n",
      "           5       0.89      0.85      0.87      1106\n",
      "           6       0.94      0.95      0.95      1259\n",
      "           7       0.93      0.93      0.93      1372\n",
      "           8       0.87      0.86      0.87      1247\n",
      "           9       0.86      0.89      0.88      1203\n",
      "\n",
      "    accuracy                           0.91     12600\n",
      "   macro avg       0.91      0.91      0.91     12600\n",
      "weighted avg       0.91      0.91      0.91     12600\n",
      "\n"
     ]
    }
   ],
   "source": [
    "# clssification_report(실제정답, 예측값)\n",
    "print(classification_report(y_val, pre))"
   ]
  },
  {
   "cell_type": "code",
   "execution_count": null,
   "id": "6c8180fc",
   "metadata": {},
   "outputs": [],
   "source": []
  },
  {
   "cell_type": "code",
   "execution_count": null,
   "id": "fa96edd4",
   "metadata": {},
   "outputs": [],
   "source": []
  },
  {
   "cell_type": "code",
   "execution_count": null,
   "id": "63c0fbbd",
   "metadata": {},
   "outputs": [],
   "source": []
  },
  {
   "cell_type": "code",
   "execution_count": null,
   "id": "c474a0cc",
   "metadata": {},
   "outputs": [],
   "source": []
  },
  {
   "cell_type": "code",
   "execution_count": null,
   "id": "0112aa62",
   "metadata": {},
   "outputs": [],
   "source": []
  },
  {
   "cell_type": "code",
   "execution_count": null,
   "id": "9a0153b3",
   "metadata": {},
   "outputs": [],
   "source": []
  },
  {
   "cell_type": "code",
   "execution_count": null,
   "id": "c6579ae9",
   "metadata": {},
   "outputs": [],
   "source": []
  },
  {
   "cell_type": "code",
   "execution_count": null,
   "id": "e11ec303",
   "metadata": {},
   "outputs": [],
   "source": []
  },
  {
   "cell_type": "code",
   "execution_count": null,
   "id": "822b3435",
   "metadata": {},
   "outputs": [],
   "source": []
  },
  {
   "cell_type": "code",
   "execution_count": null,
   "id": "15765a6d",
   "metadata": {},
   "outputs": [],
   "source": []
  },
  {
   "cell_type": "code",
   "execution_count": null,
   "id": "db385a98",
   "metadata": {},
   "outputs": [],
   "source": []
  },
  {
   "cell_type": "code",
   "execution_count": null,
   "id": "e3599eb9",
   "metadata": {},
   "outputs": [],
   "source": []
  },
  {
   "cell_type": "code",
   "execution_count": null,
   "id": "c5bba487",
   "metadata": {},
   "outputs": [],
   "source": []
  },
  {
   "cell_type": "code",
   "execution_count": null,
   "id": "83d153c9",
   "metadata": {},
   "outputs": [],
   "source": []
  }
 ],
 "metadata": {
  "kernelspec": {
   "display_name": "Python 3 (ipykernel)",
   "language": "python",
   "name": "python3"
  },
  "language_info": {
   "codemirror_mode": {
    "name": "ipython",
    "version": 3
   },
   "file_extension": ".py",
   "mimetype": "text/x-python",
   "name": "python",
   "nbconvert_exporter": "python",
   "pygments_lexer": "ipython3",
   "version": "3.9.12"
  },
  "toc": {
   "base_numbering": 1,
   "nav_menu": {},
   "number_sections": false,
   "sideBar": true,
   "skip_h1_title": false,
   "title_cell": "Table of Contents",
   "title_sidebar": "Contents",
   "toc_cell": false,
   "toc_position": {
    "height": "calc(100% - 180px)",
    "left": "10px",
    "top": "150px",
    "width": "307.2px"
   },
   "toc_section_display": true,
   "toc_window_display": true
  }
 },
 "nbformat": 4,
 "nbformat_minor": 5
}
