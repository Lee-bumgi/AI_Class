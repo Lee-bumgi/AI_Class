{
 "cells": [
  {
   "cell_type": "markdown",
   "id": "bd109402",
   "metadata": {},
   "source": [
    "## 요구사항 분석 및 문제 정의\n",
    "- 간단한 EDA와 관련된 함수를 학습\n",
    "- BMI 데이터를 확인해 보고 잘 분류가 될 수 있는지 시각화\n",
    "- KNN의 개념에 대해서 학습\n",
    "- KNN을 이용해서 학습\n",
    "- 머신러닝 프로세스에 대해 학습"
   ]
  },
  {
   "cell_type": "markdown",
   "id": "da77841c",
   "metadata": {},
   "source": [
    "## 데이터 수집"
   ]
  },
  {
   "cell_type": "code",
   "execution_count": 48,
   "id": "7c50fffe",
   "metadata": {
    "scrolled": true
   },
   "outputs": [],
   "source": [
    "import pandas as pd\n",
    "bmi = pd.read_csv(\"./data/bmi_500.csv\")\n"
   ]
  },
  {
   "cell_type": "markdown",
   "id": "b08bf5de",
   "metadata": {},
   "source": [
    "## EDA(탐색적 데이터 분석)"
   ]
  },
  {
   "cell_type": "code",
   "execution_count": 3,
   "id": "adf5f9a2",
   "metadata": {},
   "outputs": [
    {
     "data": {
      "text/html": [
       "<div>\n",
       "<style scoped>\n",
       "    .dataframe tbody tr th:only-of-type {\n",
       "        vertical-align: middle;\n",
       "    }\n",
       "\n",
       "    .dataframe tbody tr th {\n",
       "        vertical-align: top;\n",
       "    }\n",
       "\n",
       "    .dataframe thead th {\n",
       "        text-align: right;\n",
       "    }\n",
       "</style>\n",
       "<table border=\"1\" class=\"dataframe\">\n",
       "  <thead>\n",
       "    <tr style=\"text-align: right;\">\n",
       "      <th></th>\n",
       "      <th>Gender</th>\n",
       "      <th>Height</th>\n",
       "      <th>Weight</th>\n",
       "      <th>Label</th>\n",
       "    </tr>\n",
       "  </thead>\n",
       "  <tbody>\n",
       "    <tr>\n",
       "      <th>0</th>\n",
       "      <td>Male</td>\n",
       "      <td>174</td>\n",
       "      <td>96</td>\n",
       "      <td>Obesity</td>\n",
       "    </tr>\n",
       "    <tr>\n",
       "      <th>1</th>\n",
       "      <td>Male</td>\n",
       "      <td>189</td>\n",
       "      <td>87</td>\n",
       "      <td>Normal</td>\n",
       "    </tr>\n",
       "    <tr>\n",
       "      <th>2</th>\n",
       "      <td>Female</td>\n",
       "      <td>185</td>\n",
       "      <td>110</td>\n",
       "      <td>Obesity</td>\n",
       "    </tr>\n",
       "    <tr>\n",
       "      <th>3</th>\n",
       "      <td>Female</td>\n",
       "      <td>195</td>\n",
       "      <td>104</td>\n",
       "      <td>Overweight</td>\n",
       "    </tr>\n",
       "    <tr>\n",
       "      <th>4</th>\n",
       "      <td>Male</td>\n",
       "      <td>149</td>\n",
       "      <td>61</td>\n",
       "      <td>Overweight</td>\n",
       "    </tr>\n",
       "  </tbody>\n",
       "</table>\n",
       "</div>"
      ],
      "text/plain": [
       "   Gender  Height  Weight       Label\n",
       "0    Male     174      96     Obesity\n",
       "1    Male     189      87      Normal\n",
       "2  Female     185     110     Obesity\n",
       "3  Female     195     104  Overweight\n",
       "4    Male     149      61  Overweight"
      ]
     },
     "execution_count": 3,
     "metadata": {},
     "output_type": "execute_result"
    }
   ],
   "source": [
    "bmi.head()"
   ]
  },
  {
   "cell_type": "code",
   "execution_count": 4,
   "id": "ff8545c0",
   "metadata": {},
   "outputs": [
    {
     "name": "stdout",
     "output_type": "stream",
     "text": [
      "<class 'pandas.core.frame.DataFrame'>\n",
      "RangeIndex: 500 entries, 0 to 499\n",
      "Data columns (total 4 columns):\n",
      " #   Column  Non-Null Count  Dtype \n",
      "---  ------  --------------  ----- \n",
      " 0   Gender  500 non-null    object\n",
      " 1   Height  500 non-null    int64 \n",
      " 2   Weight  500 non-null    int64 \n",
      " 3   Label   500 non-null    object\n",
      "dtypes: int64(2), object(2)\n",
      "memory usage: 15.8+ KB\n"
     ]
    }
   ],
   "source": [
    "# 데이터의 정보를 출력하는 함수\n",
    "# 데이터의 수, 칼럼의 수, 칼럼의 특성- 결측치 확인\n",
    "# Dtype : object(범주형), int / float (수치형)\n",
    "bmi.info()"
   ]
  },
  {
   "cell_type": "code",
   "execution_count": 5,
   "id": "f3fdaa82",
   "metadata": {},
   "outputs": [
    {
     "name": "stdout",
     "output_type": "stream",
     "text": [
      "['Male' 'Female']\n"
     ]
    }
   ],
   "source": [
    "# 범주형 칼럼의 클래스의 목록을 출력하는 함수\n",
    "print(bmi[\"Gender\"].unique())"
   ]
  },
  {
   "cell_type": "code",
   "execution_count": 6,
   "id": "cbb8537b",
   "metadata": {},
   "outputs": [
    {
     "name": "stdout",
     "output_type": "stream",
     "text": [
      "Female    255\n",
      "Male      245\n",
      "Name: Gender, dtype: int64\n"
     ]
    }
   ],
   "source": [
    "# 범주형 칼럼의 클래스별 개수를 확인\n",
    "# 데이터가 한쪽으로 치우쳐 있는지 확인\n",
    "print(bmi[\"Gender\"].value_counts())"
   ]
  },
  {
   "cell_type": "code",
   "execution_count": 7,
   "id": "cabad299",
   "metadata": {},
   "outputs": [
    {
     "name": "stdout",
     "output_type": "stream",
     "text": [
      "-0.12191368980139153\n",
      "-0.037692236922098034\n"
     ]
    }
   ],
   "source": [
    "# 수치형 데이터의 편향을 확인하는 함수\n",
    "# 0에 가까우면 중앙인 것\n",
    "# 0이면 정규분포\n",
    "# 양수이면 왼쪽으로 치우친 데이터, 음수이면 오른쪽으로 치우친 데이터\n",
    "print(bmi[\"Height\"].skew())\n",
    "print(bmi[\"Weight\"].skew())"
   ]
  },
  {
   "cell_type": "code",
   "execution_count": 8,
   "id": "6607c294",
   "metadata": {},
   "outputs": [
    {
     "data": {
      "text/html": [
       "<div>\n",
       "<style scoped>\n",
       "    .dataframe tbody tr th:only-of-type {\n",
       "        vertical-align: middle;\n",
       "    }\n",
       "\n",
       "    .dataframe tbody tr th {\n",
       "        vertical-align: top;\n",
       "    }\n",
       "\n",
       "    .dataframe thead th {\n",
       "        text-align: right;\n",
       "    }\n",
       "</style>\n",
       "<table border=\"1\" class=\"dataframe\">\n",
       "  <thead>\n",
       "    <tr style=\"text-align: right;\">\n",
       "      <th></th>\n",
       "      <th>Height</th>\n",
       "      <th>Weight</th>\n",
       "    </tr>\n",
       "  </thead>\n",
       "  <tbody>\n",
       "    <tr>\n",
       "      <th>count</th>\n",
       "      <td>500.000000</td>\n",
       "      <td>500.000000</td>\n",
       "    </tr>\n",
       "    <tr>\n",
       "      <th>mean</th>\n",
       "      <td>169.944000</td>\n",
       "      <td>106.000000</td>\n",
       "    </tr>\n",
       "    <tr>\n",
       "      <th>std</th>\n",
       "      <td>16.375261</td>\n",
       "      <td>32.382607</td>\n",
       "    </tr>\n",
       "    <tr>\n",
       "      <th>min</th>\n",
       "      <td>140.000000</td>\n",
       "      <td>50.000000</td>\n",
       "    </tr>\n",
       "    <tr>\n",
       "      <th>25%</th>\n",
       "      <td>156.000000</td>\n",
       "      <td>80.000000</td>\n",
       "    </tr>\n",
       "    <tr>\n",
       "      <th>50%</th>\n",
       "      <td>170.500000</td>\n",
       "      <td>106.000000</td>\n",
       "    </tr>\n",
       "    <tr>\n",
       "      <th>75%</th>\n",
       "      <td>184.000000</td>\n",
       "      <td>136.000000</td>\n",
       "    </tr>\n",
       "    <tr>\n",
       "      <th>max</th>\n",
       "      <td>199.000000</td>\n",
       "      <td>160.000000</td>\n",
       "    </tr>\n",
       "  </tbody>\n",
       "</table>\n",
       "</div>"
      ],
      "text/plain": [
       "           Height      Weight\n",
       "count  500.000000  500.000000\n",
       "mean   169.944000  106.000000\n",
       "std     16.375261   32.382607\n",
       "min    140.000000   50.000000\n",
       "25%    156.000000   80.000000\n",
       "50%    170.500000  106.000000\n",
       "75%    184.000000  136.000000\n",
       "max    199.000000  160.000000"
      ]
     },
     "execution_count": 8,
     "metadata": {},
     "output_type": "execute_result"
    }
   ],
   "source": [
    "# 데이터의 간단한 기술통계를 보여주는 함수\n",
    "# 데이터 개수, 평균, 표준편차, 최소/25/중간값/75%/최대값\n",
    "# 결측치, 이상치, 편향 들을 알 수 있다.\n",
    "bmi.describe()"
   ]
  },
  {
   "cell_type": "markdown",
   "id": "13668fcb",
   "metadata": {},
   "source": [
    "### BMI 데이터가 분류가 될 수 있는 데이터인지 확인"
   ]
  },
  {
   "cell_type": "code",
   "execution_count": 9,
   "id": "80dbf8fb",
   "metadata": {},
   "outputs": [],
   "source": [
    "# matplotlib : 파이썬 그래프 시각화 도구\n",
    "# seaborn: matplotlib에 고급 시각화 도구를 제공\n",
    "import matplotlib.pyplot as plt\n",
    "\n",
    "# scatter : 산포도를 그리는 함수 (2차원 좌표에 점을 찍는 함수)\n",
    "# x좌표 : Weight, y좌표 : Height\n",
    "def myScatter(label, color):\n",
    "    # 파라미터로 넘어온 라벨의 해당 값들을 저장 - 불리언 인덱싱\n",
    "    tmp = bmi[bmi[\"Label\"]== label]\n",
    "    # 입력한 라벨값만 산포도를 그림\n",
    "    # scatter(x좌표, y좌표, 색상, 라벨)\n",
    "    plt.scatter(tmp[\"Weight\"],tmp[\"Height\"], c= color, label = label)"
   ]
  },
  {
   "cell_type": "code",
   "execution_count": 10,
   "id": "57d6d661",
   "metadata": {},
   "outputs": [
    {
     "data": {
      "text/plain": [
       "array(['Obesity', 'Normal', 'Overweight', 'Extreme Obesity', 'Weak',\n",
       "       'Extremely Weak'], dtype=object)"
      ]
     },
     "execution_count": 10,
     "metadata": {},
     "output_type": "execute_result"
    }
   ],
   "source": [
    "bmi[\"Label\"].unique()"
   ]
  },
  {
   "cell_type": "code",
   "execution_count": 11,
   "id": "5a22ab80",
   "metadata": {},
   "outputs": [
    {
     "data": {
      "image/png": "[encoded data removed]",
      "text/plain": [
       "<Figure size 720x720 with 1 Axes>"
      ]
     },
     "metadata": {
      "needs_background": "light"
     },
     "output_type": "display_data"
    }
   ],
   "source": [
    "# 그래프 크기 설정\n",
    "plt.figure(figsize = (10,10))\n",
    "\n",
    "myScatter(\"Obesity\",'black')\n",
    "myScatter(\"Normal\",'magenta')\n",
    "myScatter(\"Overweight\",'yellow')\n",
    "myScatter(\"Extreme Obesity\",'red')\n",
    "myScatter(\"Weak\",'green')\n",
    "myScatter(\"Extremely Weak\",'blue')\n",
    "\n",
    "# 범례 추가\n",
    "plt.legend(loc= \"upper right\")\n",
    "# X 축 라벨 표시(기본적으로 한글은 지원하지 않음)\n",
    "plt.xlabel(\"Weight\")\n",
    "# x축 눈금의 범위\n",
    "plt.xlim(0,200)\n",
    "plt.ylim(0,250)\n",
    "plt.ylabel('Height')\n",
    "# 제목 표시\n",
    "plt.title(\"BMI data\")\n",
    "# 격자 표시\n",
    "plt.grid()"
   ]
  },
  {
   "cell_type": "markdown",
   "id": "89ecabb6",
   "metadata": {},
   "source": [
    "### 학습 데이터로 변환"
   ]
  },
  {
   "cell_type": "markdown",
   "id": "0e90a52b",
   "metadata": {},
   "source": [
    "- 특성데이터와 라벨데이터로 분리\n",
    "- 훈련데이터와 테스트데이터로 분리"
   ]
  },
  {
   "cell_type": "code",
   "execution_count": 12,
   "id": "40fa4817",
   "metadata": {
    "scrolled": true
   },
   "outputs": [
    {
     "data": {
      "text/html": [
       "<div>\n",
       "<style scoped>\n",
       "    .dataframe tbody tr th:only-of-type {\n",
       "        vertical-align: middle;\n",
       "    }\n",
       "\n",
       "    .dataframe tbody tr th {\n",
       "        vertical-align: top;\n",
       "    }\n",
       "\n",
       "    .dataframe thead th {\n",
       "        text-align: right;\n",
       "    }\n",
       "</style>\n",
       "<table border=\"1\" class=\"dataframe\">\n",
       "  <thead>\n",
       "    <tr style=\"text-align: right;\">\n",
       "      <th></th>\n",
       "      <th>Gender</th>\n",
       "      <th>Height</th>\n",
       "      <th>Weight</th>\n",
       "      <th>Label</th>\n",
       "    </tr>\n",
       "  </thead>\n",
       "  <tbody>\n",
       "    <tr>\n",
       "      <th>0</th>\n",
       "      <td>Male</td>\n",
       "      <td>174</td>\n",
       "      <td>96</td>\n",
       "      <td>Obesity</td>\n",
       "    </tr>\n",
       "    <tr>\n",
       "      <th>1</th>\n",
       "      <td>Male</td>\n",
       "      <td>189</td>\n",
       "      <td>87</td>\n",
       "      <td>Normal</td>\n",
       "    </tr>\n",
       "    <tr>\n",
       "      <th>2</th>\n",
       "      <td>Female</td>\n",
       "      <td>185</td>\n",
       "      <td>110</td>\n",
       "      <td>Obesity</td>\n",
       "    </tr>\n",
       "    <tr>\n",
       "      <th>3</th>\n",
       "      <td>Female</td>\n",
       "      <td>195</td>\n",
       "      <td>104</td>\n",
       "      <td>Overweight</td>\n",
       "    </tr>\n",
       "    <tr>\n",
       "      <th>4</th>\n",
       "      <td>Male</td>\n",
       "      <td>149</td>\n",
       "      <td>61</td>\n",
       "      <td>Overweight</td>\n",
       "    </tr>\n",
       "  </tbody>\n",
       "</table>\n",
       "</div>"
      ],
      "text/plain": [
       "   Gender  Height  Weight       Label\n",
       "0    Male     174      96     Obesity\n",
       "1    Male     189      87      Normal\n",
       "2  Female     185     110     Obesity\n",
       "3  Female     195     104  Overweight\n",
       "4    Male     149      61  Overweight"
      ]
     },
     "execution_count": 12,
     "metadata": {},
     "output_type": "execute_result"
    }
   ],
   "source": [
    "bmi.head()"
   ]
  },
  {
   "cell_type": "code",
   "execution_count": 13,
   "id": "51d1961d",
   "metadata": {},
   "outputs": [
    {
     "data": {
      "text/plain": [
       "((500, 2), (500,))"
      ]
     },
     "execution_count": 13,
     "metadata": {},
     "output_type": "execute_result"
    }
   ],
   "source": [
    "bmi_X = bmi.iloc[:,1:3]\n",
    "bmi_y = bmi.iloc[:,3]\n",
    "bmi_X.shape, bmi_y.shape\n",
    "\n"
   ]
  },
  {
   "cell_type": "code",
   "execution_count": 19,
   "id": "7a575a0a",
   "metadata": {},
   "outputs": [
    {
     "data": {
      "text/html": [
       "<div>\n",
       "<style scoped>\n",
       "    .dataframe tbody tr th:only-of-type {\n",
       "        vertical-align: middle;\n",
       "    }\n",
       "\n",
       "    .dataframe tbody tr th {\n",
       "        vertical-align: top;\n",
       "    }\n",
       "\n",
       "    .dataframe thead th {\n",
       "        text-align: right;\n",
       "    }\n",
       "</style>\n",
       "<table border=\"1\" class=\"dataframe\">\n",
       "  <thead>\n",
       "    <tr style=\"text-align: right;\">\n",
       "      <th></th>\n",
       "      <th>Height</th>\n",
       "      <th>Weight</th>\n",
       "    </tr>\n",
       "  </thead>\n",
       "  <tbody>\n",
       "    <tr>\n",
       "      <th>0</th>\n",
       "      <td>174</td>\n",
       "      <td>96</td>\n",
       "    </tr>\n",
       "    <tr>\n",
       "      <th>1</th>\n",
       "      <td>189</td>\n",
       "      <td>87</td>\n",
       "    </tr>\n",
       "    <tr>\n",
       "      <th>2</th>\n",
       "      <td>185</td>\n",
       "      <td>110</td>\n",
       "    </tr>\n",
       "    <tr>\n",
       "      <th>3</th>\n",
       "      <td>195</td>\n",
       "      <td>104</td>\n",
       "    </tr>\n",
       "    <tr>\n",
       "      <th>4</th>\n",
       "      <td>149</td>\n",
       "      <td>61</td>\n",
       "    </tr>\n",
       "    <tr>\n",
       "      <th>...</th>\n",
       "      <td>...</td>\n",
       "      <td>...</td>\n",
       "    </tr>\n",
       "    <tr>\n",
       "      <th>345</th>\n",
       "      <td>184</td>\n",
       "      <td>106</td>\n",
       "    </tr>\n",
       "    <tr>\n",
       "      <th>346</th>\n",
       "      <td>191</td>\n",
       "      <td>68</td>\n",
       "    </tr>\n",
       "    <tr>\n",
       "      <th>347</th>\n",
       "      <td>162</td>\n",
       "      <td>58</td>\n",
       "    </tr>\n",
       "    <tr>\n",
       "      <th>348</th>\n",
       "      <td>178</td>\n",
       "      <td>138</td>\n",
       "    </tr>\n",
       "    <tr>\n",
       "      <th>349</th>\n",
       "      <td>157</td>\n",
       "      <td>60</td>\n",
       "    </tr>\n",
       "  </tbody>\n",
       "</table>\n",
       "<p>350 rows × 2 columns</p>\n",
       "</div>"
      ],
      "text/plain": [
       "     Height  Weight\n",
       "0       174      96\n",
       "1       189      87\n",
       "2       185     110\n",
       "3       195     104\n",
       "4       149      61\n",
       "..      ...     ...\n",
       "345     184     106\n",
       "346     191      68\n",
       "347     162      58\n",
       "348     178     138\n",
       "349     157      60\n",
       "\n",
       "[350 rows x 2 columns]"
      ]
     },
     "execution_count": 19,
     "metadata": {},
     "output_type": "execute_result"
    }
   ],
   "source": [
    "# 훈련 70 테스트 30으로 분리\n",
    "X_train = bmi_X.iloc[0:350,:]\n",
    "y_train = bmi_y.iloc[0:350]\n",
    "X_test = bmi_X.iloc[350:,:]\n",
    "y_test = bmi_y.iloc[350:]\n",
    "X_train"
   ]
  },
  {
   "cell_type": "code",
   "execution_count": 15,
   "id": "a2d09469",
   "metadata": {},
   "outputs": [
    {
     "data": {
      "text/plain": [
       "KNeighborsClassifier(n_neighbors=1)"
      ]
     },
     "execution_count": 15,
     "metadata": {},
     "output_type": "execute_result"
    }
   ],
   "source": [
    "# KNN 모델을 로드\n",
    "from sklearn.neighbors import KNeighborsClassifier as kn\n",
    "\n",
    "# 모델 선언\n",
    "# n_neighbors : 가까운 참고 데이터의 수\n",
    "knn_model = kn(n_neighbors=1)  # 가장 가까운 한개만 참고하겠다.\n",
    "\n",
    "\n",
    "# 특성데이터와 라벨데이터를 입력해서 훈련 - fit(특성데이터, 라벨데이터)\n",
    "knn_model.fit(X_train,y_train)"
   ]
  },
  {
   "cell_type": "code",
   "execution_count": 16,
   "id": "3f24e10e",
   "metadata": {},
   "outputs": [],
   "source": [
    "pred_y = knn_model.predict(X_test)"
   ]
  },
  {
   "cell_type": "code",
   "execution_count": 17,
   "id": "e0108dcc",
   "metadata": {},
   "outputs": [
    {
     "name": "stdout",
     "output_type": "stream",
     "text": [
      "0.5066666666666667\n",
      "0.5066666666666667\n"
     ]
    }
   ],
   "source": [
    "from sklearn.metrics import accuracy_score\n",
    "print(knn_model.score(X_test,y_test))\n",
    "print(accuracy_score(pred_y,y_test))"
   ]
  },
  {
   "cell_type": "code",
   "execution_count": null,
   "id": "52756abf",
   "metadata": {},
   "outputs": [],
   "source": []
  },
  {
   "cell_type": "code",
   "execution_count": null,
   "id": "d2b8afd2",
   "metadata": {},
   "outputs": [],
   "source": []
  },
  {
   "cell_type": "code",
   "execution_count": 20,
   "id": "2dd37c85",
   "metadata": {},
   "outputs": [
    {
     "data": {
      "text/plain": [
       "KNeighborsClassifier(n_neighbors=3)"
      ]
     },
     "execution_count": 20,
     "metadata": {},
     "output_type": "execute_result"
    }
   ],
   "source": [
    "from sklearn.neighbors import KNeighborsClassifier\n",
    "# Hyper Parameter Turning : 적당한 이웃의 수를 결정하는 것\n",
    "knn_model = KNeighborsClassifier(n_neighbors=3)\n",
    "# 훈련은 훈련데이터로\n",
    "knn_model.fit(X_train, y_train)"
   ]
  },
  {
   "cell_type": "code",
   "execution_count": 21,
   "id": "59c23d91",
   "metadata": {},
   "outputs": [
    {
     "name": "stdout",
     "output_type": "stream",
     "text": [
      "훈련 정확도 :  0.9342857142857143\n",
      "테스트 정확도 :  0.9\n"
     ]
    }
   ],
   "source": [
    "# 정확도 계산\n",
    "# 훈련정확도와 테스트정확도가 모두 낮으면 -> 과소적합\n",
    "# 훈련정확도보다 테스트 정확도가 높으면 -> 과소 적합\n",
    "# 훈련정확도와 테스트 정확도가 크게 차이나면 -> 과대적합\n",
    "# 일반화 모델 : 훈련정확도가 테스트정확도보다 약간 높은 모델\n",
    "print(\"훈련 정확도 : \", knn_model.score(X_train, y_train))\n",
    "print(\"테스트 정확도 : \", knn_model.score(X_test,y_test))"
   ]
  },
  {
   "cell_type": "code",
   "execution_count": 23,
   "id": "2f2a5b10",
   "metadata": {},
   "outputs": [
    {
     "name": "stdout",
     "output_type": "stream",
     "text": [
      "훈련 정확도 :  1.0\n",
      "테스트 정확도 :  0.8933333333333333\n"
     ]
    }
   ],
   "source": [
    "knn_model2 = KNeighborsClassifier(n_neighbors=1)\n",
    "knn_model2.fit(X_train,y_train)\n",
    "print(\"훈련 정확도 : \", knn_model2.score(X_train, y_train))\n",
    "print(\"테스트 정확도 : \", knn_model2.score(X_test,y_test))"
   ]
  },
  {
   "cell_type": "code",
   "execution_count": 27,
   "id": "78c319ef",
   "metadata": {},
   "outputs": [
    {
     "name": "stdout",
     "output_type": "stream",
     "text": [
      "훈련 정확도 :  0.9085714285714286\n",
      "테스트 정확도 :  0.94\n"
     ]
    }
   ],
   "source": [
    "knn_model3 = KNeighborsClassifier(n_neighbors=10)\n",
    "knn_model3.fit(X_train,y_train)\n",
    "print(\"훈련 정확도 : \", knn_model3.score(X_train, y_train))\n",
    "print(\"테스트 정확도 : \", knn_model3.score(X_test,y_test))"
   ]
  },
  {
   "cell_type": "markdown",
   "id": "e34db809",
   "metadata": {},
   "source": [
    "- 일반화된 모델을 찾아보자 - 하이퍼 파라미터 튜닝"
   ]
  },
  {
   "cell_type": "code",
   "execution_count": 30,
   "id": "6549ea1e",
   "metadata": {},
   "outputs": [],
   "source": [
    "import pandas as pd"
   ]
  },
  {
   "cell_type": "code",
   "execution_count": 29,
   "id": "e6b77ad9",
   "metadata": {},
   "outputs": [
    {
     "name": "stdout",
     "output_type": "stream",
     "text": [
      "[1.0, 0.9485714285714286, 0.9342857142857143, 0.9514285714285714, 0.9257142857142857, 0.9085714285714286, 0.9028571428571428, 0.9057142857142857, 0.9057142857142857, 0.9085714285714286, 0.9085714285714286, 0.9114285714285715, 0.9114285714285715, 0.9, 0.8942857142857142, 0.8971428571428571, 0.9, 0.88, 0.8857142857142857]\n",
      "[0.8933333333333333, 0.8933333333333333, 0.9, 0.8933333333333333, 0.9066666666666666, 0.9133333333333333, 0.9, 0.9133333333333333, 0.9133333333333333, 0.94, 0.8866666666666667, 0.9133333333333333, 0.9133333333333333, 0.8866666666666667, 0.8933333333333333, 0.9, 0.8933333333333333, 0.8933333333333333, 0.86]\n"
     ]
    }
   ],
   "source": [
    "train_acc =[]\n",
    "test_acc = []\n",
    "\n",
    "neighbor = range(1,20)\n",
    "\n",
    "for i in neighbor:\n",
    "    knn_model = KNeighborsClassifier(n_neighbors=i)\n",
    "    knn_model.fit(X_train,y_train)\n",
    "    \n",
    "    train_acc.append(knn_model.score(X_train,y_train))\n",
    "    test_acc.append(knn_model.score(X_test,y_test))\n",
    "print(train_acc)\n",
    "print(test_acc)\n"
   ]
  },
  {
   "cell_type": "code",
   "execution_count": 47,
   "id": "ae62fc27",
   "metadata": {
    "scrolled": true
   },
   "outputs": [
    {
     "data": {
      "text/plain": [
       "0      1\n",
       "1      1\n",
       "2      0\n",
       "3      0\n",
       "4      1\n",
       "      ..\n",
       "495    0\n",
       "496    0\n",
       "497    0\n",
       "498    1\n",
       "499    1\n",
       "Name: Gender, Length: 500, dtype: int64"
      ]
     },
     "execution_count": 47,
     "metadata": {},
     "output_type": "execute_result"
    }
   ],
   "source": [
    "bmi"
   ]
  },
  {
   "cell_type": "markdown",
   "id": "5cf42ef4",
   "metadata": {},
   "source": [
    "# gender특성 추가"
   ]
  },
  {
   "cell_type": "code",
   "execution_count": 52,
   "id": "27d920e9",
   "metadata": {},
   "outputs": [],
   "source": [
    "import pandas as pd\n",
    "bmi = pd.read_csv(\"./data/bmi_500.csv\")\n"
   ]
  },
  {
   "cell_type": "code",
   "execution_count": 53,
   "id": "c6285807",
   "metadata": {},
   "outputs": [
    {
     "data": {
      "text/html": [
       "<div>\n",
       "<style scoped>\n",
       "    .dataframe tbody tr th:only-of-type {\n",
       "        vertical-align: middle;\n",
       "    }\n",
       "\n",
       "    .dataframe tbody tr th {\n",
       "        vertical-align: top;\n",
       "    }\n",
       "\n",
       "    .dataframe thead th {\n",
       "        text-align: right;\n",
       "    }\n",
       "</style>\n",
       "<table border=\"1\" class=\"dataframe\">\n",
       "  <thead>\n",
       "    <tr style=\"text-align: right;\">\n",
       "      <th></th>\n",
       "      <th>Gender</th>\n",
       "      <th>Height</th>\n",
       "      <th>Weight</th>\n",
       "      <th>Label</th>\n",
       "    </tr>\n",
       "  </thead>\n",
       "  <tbody>\n",
       "    <tr>\n",
       "      <th>0</th>\n",
       "      <td>0</td>\n",
       "      <td>174</td>\n",
       "      <td>96</td>\n",
       "      <td>Obesity</td>\n",
       "    </tr>\n",
       "    <tr>\n",
       "      <th>1</th>\n",
       "      <td>0</td>\n",
       "      <td>189</td>\n",
       "      <td>87</td>\n",
       "      <td>Normal</td>\n",
       "    </tr>\n",
       "    <tr>\n",
       "      <th>2</th>\n",
       "      <td>1</td>\n",
       "      <td>185</td>\n",
       "      <td>110</td>\n",
       "      <td>Obesity</td>\n",
       "    </tr>\n",
       "    <tr>\n",
       "      <th>3</th>\n",
       "      <td>1</td>\n",
       "      <td>195</td>\n",
       "      <td>104</td>\n",
       "      <td>Overweight</td>\n",
       "    </tr>\n",
       "    <tr>\n",
       "      <th>4</th>\n",
       "      <td>0</td>\n",
       "      <td>149</td>\n",
       "      <td>61</td>\n",
       "      <td>Overweight</td>\n",
       "    </tr>\n",
       "    <tr>\n",
       "      <th>...</th>\n",
       "      <td>...</td>\n",
       "      <td>...</td>\n",
       "      <td>...</td>\n",
       "      <td>...</td>\n",
       "    </tr>\n",
       "    <tr>\n",
       "      <th>495</th>\n",
       "      <td>1</td>\n",
       "      <td>150</td>\n",
       "      <td>153</td>\n",
       "      <td>Extreme Obesity</td>\n",
       "    </tr>\n",
       "    <tr>\n",
       "      <th>496</th>\n",
       "      <td>1</td>\n",
       "      <td>184</td>\n",
       "      <td>121</td>\n",
       "      <td>Obesity</td>\n",
       "    </tr>\n",
       "    <tr>\n",
       "      <th>497</th>\n",
       "      <td>1</td>\n",
       "      <td>141</td>\n",
       "      <td>136</td>\n",
       "      <td>Extreme Obesity</td>\n",
       "    </tr>\n",
       "    <tr>\n",
       "      <th>498</th>\n",
       "      <td>0</td>\n",
       "      <td>150</td>\n",
       "      <td>95</td>\n",
       "      <td>Extreme Obesity</td>\n",
       "    </tr>\n",
       "    <tr>\n",
       "      <th>499</th>\n",
       "      <td>0</td>\n",
       "      <td>173</td>\n",
       "      <td>131</td>\n",
       "      <td>Extreme Obesity</td>\n",
       "    </tr>\n",
       "  </tbody>\n",
       "</table>\n",
       "<p>500 rows × 4 columns</p>\n",
       "</div>"
      ],
      "text/plain": [
       "     Gender  Height  Weight            Label\n",
       "0         0     174      96          Obesity\n",
       "1         0     189      87           Normal\n",
       "2         1     185     110          Obesity\n",
       "3         1     195     104       Overweight\n",
       "4         0     149      61       Overweight\n",
       "..      ...     ...     ...              ...\n",
       "495       1     150     153  Extreme Obesity\n",
       "496       1     184     121          Obesity\n",
       "497       1     141     136  Extreme Obesity\n",
       "498       0     150      95  Extreme Obesity\n",
       "499       0     173     131  Extreme Obesity\n",
       "\n",
       "[500 rows x 4 columns]"
      ]
     },
     "execution_count": 53,
     "metadata": {},
     "output_type": "execute_result"
    }
   ],
   "source": [
    "# Gender 컬럼에서 Male => 0 으로 Female -> 1로 변경\n",
    "\n",
    "#bmi1=bmi['Gender'].replace(['Male','Female'],[0,1])\n",
    "bmi[\"Gender\"] = bmi[\"Gender\"].map({\"Male\":0,\"Female\":1})\n",
    "#bmi = bmi['Gender'].replace(\"Male\",1).replace(\"Female\",0)\n",
    "bmi"
   ]
  },
  {
   "cell_type": "code",
   "execution_count": 55,
   "id": "4c437402",
   "metadata": {},
   "outputs": [
    {
     "data": {
      "text/plain": [
       "((500, 3), (500,))"
      ]
     },
     "execution_count": 55,
     "metadata": {},
     "output_type": "execute_result"
    }
   ],
   "source": [
    "bmi_X = bmi.iloc[:,:3]\n",
    "bmi_y = bmi.iloc[:,3]\n",
    "bmi_X.shape, bmi_y.shape\n",
    "\n"
   ]
  },
  {
   "cell_type": "code",
   "execution_count": 56,
   "id": "8b3e0f88",
   "metadata": {},
   "outputs": [
    {
     "data": {
      "text/html": [
       "<div>\n",
       "<style scoped>\n",
       "    .dataframe tbody tr th:only-of-type {\n",
       "        vertical-align: middle;\n",
       "    }\n",
       "\n",
       "    .dataframe tbody tr th {\n",
       "        vertical-align: top;\n",
       "    }\n",
       "\n",
       "    .dataframe thead th {\n",
       "        text-align: right;\n",
       "    }\n",
       "</style>\n",
       "<table border=\"1\" class=\"dataframe\">\n",
       "  <thead>\n",
       "    <tr style=\"text-align: right;\">\n",
       "      <th></th>\n",
       "      <th>Gender</th>\n",
       "      <th>Height</th>\n",
       "      <th>Weight</th>\n",
       "    </tr>\n",
       "  </thead>\n",
       "  <tbody>\n",
       "    <tr>\n",
       "      <th>0</th>\n",
       "      <td>0</td>\n",
       "      <td>174</td>\n",
       "      <td>96</td>\n",
       "    </tr>\n",
       "    <tr>\n",
       "      <th>1</th>\n",
       "      <td>0</td>\n",
       "      <td>189</td>\n",
       "      <td>87</td>\n",
       "    </tr>\n",
       "    <tr>\n",
       "      <th>2</th>\n",
       "      <td>1</td>\n",
       "      <td>185</td>\n",
       "      <td>110</td>\n",
       "    </tr>\n",
       "    <tr>\n",
       "      <th>3</th>\n",
       "      <td>1</td>\n",
       "      <td>195</td>\n",
       "      <td>104</td>\n",
       "    </tr>\n",
       "    <tr>\n",
       "      <th>4</th>\n",
       "      <td>0</td>\n",
       "      <td>149</td>\n",
       "      <td>61</td>\n",
       "    </tr>\n",
       "    <tr>\n",
       "      <th>...</th>\n",
       "      <td>...</td>\n",
       "      <td>...</td>\n",
       "      <td>...</td>\n",
       "    </tr>\n",
       "    <tr>\n",
       "      <th>345</th>\n",
       "      <td>1</td>\n",
       "      <td>184</td>\n",
       "      <td>106</td>\n",
       "    </tr>\n",
       "    <tr>\n",
       "      <th>346</th>\n",
       "      <td>1</td>\n",
       "      <td>191</td>\n",
       "      <td>68</td>\n",
       "    </tr>\n",
       "    <tr>\n",
       "      <th>347</th>\n",
       "      <td>0</td>\n",
       "      <td>162</td>\n",
       "      <td>58</td>\n",
       "    </tr>\n",
       "    <tr>\n",
       "      <th>348</th>\n",
       "      <td>0</td>\n",
       "      <td>178</td>\n",
       "      <td>138</td>\n",
       "    </tr>\n",
       "    <tr>\n",
       "      <th>349</th>\n",
       "      <td>1</td>\n",
       "      <td>157</td>\n",
       "      <td>60</td>\n",
       "    </tr>\n",
       "  </tbody>\n",
       "</table>\n",
       "<p>350 rows × 3 columns</p>\n",
       "</div>"
      ],
      "text/plain": [
       "     Gender  Height  Weight\n",
       "0         0     174      96\n",
       "1         0     189      87\n",
       "2         1     185     110\n",
       "3         1     195     104\n",
       "4         0     149      61\n",
       "..      ...     ...     ...\n",
       "345       1     184     106\n",
       "346       1     191      68\n",
       "347       0     162      58\n",
       "348       0     178     138\n",
       "349       1     157      60\n",
       "\n",
       "[350 rows x 3 columns]"
      ]
     },
     "execution_count": 56,
     "metadata": {},
     "output_type": "execute_result"
    }
   ],
   "source": [
    "X_train = bmi_X.iloc[0:350,:]\n",
    "y_train = bmi_y.iloc[0:350]\n",
    "X_test = bmi_X.iloc[350:,:]\n",
    "y_test = bmi_y.iloc[350:]\n",
    "X_train"
   ]
  },
  {
   "cell_type": "code",
   "execution_count": null,
   "id": "d900b63d",
   "metadata": {},
   "outputs": [],
   "source": []
  },
  {
   "cell_type": "code",
   "execution_count": 57,
   "id": "c180f1ad",
   "metadata": {},
   "outputs": [
    {
     "name": "stdout",
     "output_type": "stream",
     "text": [
      "[1.0, 0.9457142857142857, 0.9371428571428572, 0.9514285714285714, 0.9257142857142857, 0.9085714285714286, 0.9057142857142857, 0.9057142857142857, 0.9057142857142857, 0.9085714285714286, 0.9085714285714286, 0.9114285714285715, 0.9114285714285715, 0.9, 0.8914285714285715, 0.8971428571428571, 0.9028571428571428, 0.88, 0.8857142857142857]\n",
      "[0.9, 0.8933333333333333, 0.8933333333333333, 0.8933333333333333, 0.9066666666666666, 0.9133333333333333, 0.9, 0.9066666666666666, 0.92, 0.9266666666666666, 0.8866666666666667, 0.9133333333333333, 0.9066666666666666, 0.8866666666666667, 0.8866666666666667, 0.8866666666666667, 0.8933333333333333, 0.8933333333333333, 0.86]\n"
     ]
    }
   ],
   "source": [
    "train_acc =[]\n",
    "test_acc = []\n",
    "\n",
    "neighbor = range(1,20)\n",
    "\n",
    "for i in neighbor:\n",
    "    knn_model = KNeighborsClassifier(n_neighbors=i)\n",
    "    knn_model.fit(X_train,y_train)\n",
    "    \n",
    "    train_acc.append(knn_model.score(X_train,y_train))\n",
    "    test_acc.append(knn_model.score(X_test,y_test))\n",
    "print(train_acc)\n",
    "print(test_acc)\n"
   ]
  },
  {
   "cell_type": "markdown",
   "id": "3d49ce5e",
   "metadata": {},
   "source": [
    "# 특성끼리 곱해서 새로운 특성추가"
   ]
  },
  {
   "cell_type": "code",
   "execution_count": 59,
   "id": "d4b6e756",
   "metadata": {},
   "outputs": [
    {
     "data": {
      "text/html": [
       "<div>\n",
       "<style scoped>\n",
       "    .dataframe tbody tr th:only-of-type {\n",
       "        vertical-align: middle;\n",
       "    }\n",
       "\n",
       "    .dataframe tbody tr th {\n",
       "        vertical-align: top;\n",
       "    }\n",
       "\n",
       "    .dataframe thead th {\n",
       "        text-align: right;\n",
       "    }\n",
       "</style>\n",
       "<table border=\"1\" class=\"dataframe\">\n",
       "  <thead>\n",
       "    <tr style=\"text-align: right;\">\n",
       "      <th></th>\n",
       "      <th>Gender</th>\n",
       "      <th>Height</th>\n",
       "      <th>Weight</th>\n",
       "      <th>GenderxGender</th>\n",
       "      <th>GenderxHeight</th>\n",
       "      <th>GenderxWeight</th>\n",
       "      <th>HeightxHeight</th>\n",
       "      <th>HeightxWeight</th>\n",
       "      <th>WeightxWeight</th>\n",
       "    </tr>\n",
       "  </thead>\n",
       "  <tbody>\n",
       "    <tr>\n",
       "      <th>0</th>\n",
       "      <td>0</td>\n",
       "      <td>174</td>\n",
       "      <td>96</td>\n",
       "      <td>0</td>\n",
       "      <td>0</td>\n",
       "      <td>0</td>\n",
       "      <td>30276</td>\n",
       "      <td>16704</td>\n",
       "      <td>9216</td>\n",
       "    </tr>\n",
       "    <tr>\n",
       "      <th>1</th>\n",
       "      <td>0</td>\n",
       "      <td>189</td>\n",
       "      <td>87</td>\n",
       "      <td>0</td>\n",
       "      <td>0</td>\n",
       "      <td>0</td>\n",
       "      <td>35721</td>\n",
       "      <td>16443</td>\n",
       "      <td>7569</td>\n",
       "    </tr>\n",
       "    <tr>\n",
       "      <th>2</th>\n",
       "      <td>1</td>\n",
       "      <td>185</td>\n",
       "      <td>110</td>\n",
       "      <td>1</td>\n",
       "      <td>185</td>\n",
       "      <td>110</td>\n",
       "      <td>34225</td>\n",
       "      <td>20350</td>\n",
       "      <td>12100</td>\n",
       "    </tr>\n",
       "    <tr>\n",
       "      <th>3</th>\n",
       "      <td>1</td>\n",
       "      <td>195</td>\n",
       "      <td>104</td>\n",
       "      <td>1</td>\n",
       "      <td>195</td>\n",
       "      <td>104</td>\n",
       "      <td>38025</td>\n",
       "      <td>20280</td>\n",
       "      <td>10816</td>\n",
       "    </tr>\n",
       "    <tr>\n",
       "      <th>4</th>\n",
       "      <td>0</td>\n",
       "      <td>149</td>\n",
       "      <td>61</td>\n",
       "      <td>0</td>\n",
       "      <td>0</td>\n",
       "      <td>0</td>\n",
       "      <td>22201</td>\n",
       "      <td>9089</td>\n",
       "      <td>3721</td>\n",
       "    </tr>\n",
       "  </tbody>\n",
       "</table>\n",
       "</div>"
      ],
      "text/plain": [
       "   Gender  Height  Weight  GenderxGender  GenderxHeight  GenderxWeight  \\\n",
       "0       0     174      96              0              0              0   \n",
       "1       0     189      87              0              0              0   \n",
       "2       1     185     110              1            185            110   \n",
       "3       1     195     104              1            195            104   \n",
       "4       0     149      61              0              0              0   \n",
       "\n",
       "   HeightxHeight  HeightxWeight  WeightxWeight  \n",
       "0          30276          16704           9216  \n",
       "1          35721          16443           7569  \n",
       "2          34225          20350          12100  \n",
       "3          38025          20280          10816  \n",
       "4          22201           9089           3721  "
      ]
     },
     "execution_count": 59,
     "metadata": {},
     "output_type": "execute_result"
    }
   ],
   "source": [
    "X_train2 = X_train.copy()\n",
    "\n",
    "col =X_train2.columns\n",
    "\n",
    "for i in range(col.size):\n",
    "    for j in range(i, col.size):\n",
    "        X_train2[col[i]+ \"x\" + col[j]] = X_train2[col[i]] * X_train2[col[j]]\n",
    "X_train2.head()"
   ]
  },
  {
   "cell_type": "code",
   "execution_count": 61,
   "id": "c0ce2b23",
   "metadata": {},
   "outputs": [
    {
     "data": {
      "text/plain": [
       "<matplotlib.legend.Legend at 0x2493dc6fbe0>"
      ]
     },
     "execution_count": 61,
     "metadata": {},
     "output_type": "execute_result"
    },
    {
     "data": {
      "image/png": "[encoded data removed]",
      "text/plain": [
       "<Figure size 432x288 with 1 Axes>"
      ]
     },
     "metadata": {
      "needs_background": "light"
     },
     "output_type": "display_data"
    }
   ],
   "source": [
    "X_train2 = X_train.copy()\n",
    "\n",
    "col =X_train2.columns\n",
    "\n",
    "for i in range(col.size):\n",
    "    for j in range(i, col.size):\n",
    "        X_train2[col[i]+ \"x\" + col[j]] = X_train2[col[i]] * X_train2[col[j]]\n",
    "        \n",
    "X_test2 = X_test.copy()\n",
    "\n",
    "col =X_test2.columns\n",
    "\n",
    "for i in range(col.size):\n",
    "    for j in range(i, col.size):\n",
    "        X_test2[col[i]+ \"x\" + col[j]] = X_test2[col[i]] * X_test2[col[j]]\n",
    "\n",
    "train_acc =[]\n",
    "test_acc = []\n",
    "\n",
    "neighbor = range(1,20)\n",
    "\n",
    "for i in neighbor:\n",
    "    knn_model = KNeighborsClassifier(n_neighbors=i)\n",
    "    knn_model.fit(X_train2,y_train)\n",
    "    \n",
    "    train_acc.append(knn_model.score(X_train2,y_train))\n",
    "    test_acc.append(knn_model.score(X_test2,y_test))\n",
    "    \n",
    "plt.plot(neighbor, train_acc, label=\"Train\")\n",
    "plt.plot(neighbor, test_acc, label=\"Test\")\n",
    "plt.legend()"
   ]
  },
  {
   "cell_type": "code",
   "execution_count": null,
   "id": "af7a3347",
   "metadata": {},
   "outputs": [],
   "source": []
  },
  {
   "cell_type": "code",
   "execution_count": 32,
   "id": "07aeb1b9",
   "metadata": {
    "scrolled": true
   },
   "outputs": [
    {
     "data": {
      "image/png": "[encoded data removed]",
      "text/plain": [
       "<Figure size 720x720 with 1 Axes>"
      ]
     },
     "metadata": {
      "needs_background": "light"
     },
     "output_type": "display_data"
    }
   ],
   "source": [
    "import matplotlib.pyplot as mlt\n",
    "# 그래프 크기 설정\n",
    "\n",
    "plt.figure(figsize = (10,10))\n",
    "plt.plot(neighbor, train_acc, label = \"Train\")\n",
    "plt.plot(neighbor, test_acc, label = \"Test\")\n",
    "plt.legend()\n",
    "plt.show()"
   ]
  }
 ],
 "metadata": {
  "kernelspec": {
   "display_name": "Python 3 (ipykernel)",
   "language": "python",
   "name": "python3"
  },
  "language_info": {
   "codemirror_mode": {
    "name": "ipython",
    "version": 3
   },
   "file_extension": ".py",
   "mimetype": "text/x-python",
   "name": "python",
   "nbconvert_exporter": "python",
   "pygments_lexer": "ipython3",
   "version": "3.9.12"
  },
  "toc": {
   "base_numbering": 1,
   "nav_menu": {},
   "number_sections": true,
   "sideBar": true,
   "skip_h1_title": false,
   "title_cell": "Table of Contents",
   "title_sidebar": "Contents",
   "toc_cell": false,
   "toc_position": {},
   "toc_section_display": true,
   "toc_window_display": true
  }
 },
 "nbformat": 4,
 "nbformat_minor": 5
}
