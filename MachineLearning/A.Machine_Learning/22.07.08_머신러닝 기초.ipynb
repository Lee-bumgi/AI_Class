{
 "cells": [
  {
   "cell_type": "markdown",
   "id": "82190909",
   "metadata": {},
   "source": [
    "### 머신러닝 학습 방법\n",
    "- 거리 기반 학습\n",
    "- 수식 기반 학습\n",
    "- 논리 기반 학습\n",
    "- 확률 기반 학습(나이브베이즈)"
   ]
  },
  {
   "cell_type": "markdown",
   "id": "e14c20f5",
   "metadata": {},
   "source": [
    "#### 거리 기반 학습으로 AND 논리를 학습하는 모델을 만들어보자\n",
    "- 모델 종류 : KNN, SVM"
   ]
  },
  {
   "cell_type": "code",
   "execution_count": 31,
   "id": "e6513abc",
   "metadata": {},
   "outputs": [
    {
     "data": {
      "text/plain": [
       "[[0, 0, 0], [0, 1, 0], [1, 0, 0], [1, 1, 1]]"
      ]
     },
     "execution_count": 31,
     "metadata": {},
     "output_type": "execute_result"
    }
   ],
   "source": [
    "# And 논리 선언\n",
    "data =[[0,0,0],\n",
    "       [0,1,0],\n",
    "       [1,0,0],\n",
    "       [1,1,1]]\n",
    "data"
   ]
  },
  {
   "cell_type": "code",
   "execution_count": 37,
   "id": "e78850b1",
   "metadata": {},
   "outputs": [
    {
     "name": "stdout",
     "output_type": "stream",
     "text": [
      "0\n",
      "0\n",
      "0\n",
      "1\n"
     ]
    }
   ],
   "source": [
    "# 입력된 데이터(x1,x2)에서 가장 가까운 데이터의 라벨을 출력\n",
    "def distanceML(x1,x2):\n",
    "    #최종 결과값\n",
    "    result = 0\n",
    "    #최소 거리를 비교하기 위한 값\n",
    "    minDis = 99\n",
    "    \n",
    "    # 특성 데이터와 라벨 데이터를 분리\n",
    "    for row in data:\n",
    "        X= row[0:2]\n",
    "        Y= row[2]\n",
    "        # print(X,Y)\n",
    "        # 입력된 데이터 (x1,x2)와 각 특성 데이터간의 거리 계산\n",
    "        dis = abs(x1-X[0]) + abs(x2 -X[1])\n",
    "        \n",
    "        # 거리가 최소인 데이터를 찾아서 라벨 값을 반환\n",
    "        if minDis > dis:\n",
    "            minDis = dis\n",
    "            result = Y\n",
    "    #거리가 가장 작은 데이터의 라벨값을 반환        \n",
    "    return result\n",
    "        \n",
    "print(distanceML(0,0))\n",
    "print(distanceML(0,1))\n",
    "print(distanceML(1,0))\n",
    "print(distanceML(1,1))\n"
   ]
  },
  {
   "cell_type": "markdown",
   "id": "f9efac6c",
   "metadata": {},
   "source": [
    "#### 수식 기반 학습으로 AND논리를 학습하는 모델을 만들자\n",
    "- Linear Regression(선형 회귀), Ridge, Lasso\n",
    "- Logistic Regression"
   ]
  },
  {
   "cell_type": "code",
   "execution_count": 38,
   "id": "4ad640fc",
   "metadata": {},
   "outputs": [
    {
     "data": {
      "text/plain": [
       "[[0, 0, 0], [0, 1, 0], [1, 0, 0], [1, 1, 1]]"
      ]
     },
     "execution_count": 38,
     "metadata": {},
     "output_type": "execute_result"
    }
   ],
   "source": [
    "# And 논리 선언\n",
    "data =[[0,0,0],\n",
    "       [0,1,0],\n",
    "       [1,0,0],\n",
    "       [1,1,1]]\n",
    "data"
   ]
  },
  {
   "cell_type": "code",
   "execution_count": null,
   "id": "68340986",
   "metadata": {},
   "outputs": [],
   "source": [
    "#바이어스 - (0,0)부터 시작하지 않고 기본값을 잡아주고 시작해서 계산시간을 절약하는 법"
   ]
  },
  {
   "cell_type": "code",
   "execution_count": 55,
   "id": "e017eb22",
   "metadata": {},
   "outputs": [
    {
     "name": "stdout",
     "output_type": "stream",
     "text": [
      "1\n",
      "1\n",
      "1\n",
      "1\n"
     ]
    }
   ],
   "source": [
    "def andML(x1,x2):\n",
    "    w1,w2,b = 0,0,0.6  # 내가 직접 맞춰야하는 부분~ (-1.0 ~1.0) 사이값\n",
    "    # and 논리를 만드는 수식\n",
    "    temp = w1 * x1 + w2 * x2 + b\n",
    "    if temp <= 0.5:\n",
    "        return 0\n",
    "    else:\n",
    "        return 1\n",
    "    \n",
    "print(andML(0,0))\n",
    "print(andML(0,1))\n",
    "print(andML(1,0))\n",
    "print(andML(1,1))"
   ]
  },
  {
   "cell_type": "markdown",
   "id": "c288f721",
   "metadata": {},
   "source": [
    "#### 논리 기반 학습으로 and 논리를 학습하는 모델을 만들자\n",
    "- Decision Tree(의사 결정)"
   ]
  },
  {
   "cell_type": "code",
   "execution_count": 52,
   "id": "790d57e9",
   "metadata": {},
   "outputs": [
    {
     "name": "stdout",
     "output_type": "stream",
     "text": [
      "0\n",
      "0\n",
      "0\n",
      "1\n"
     ]
    }
   ],
   "source": [
    "def logicalML(x1,x2):\n",
    "    if x1==0 and x2 ==0:\n",
    "        return 0\n",
    "    elif x1==0 and x2==1:\n",
    "        return 0\n",
    "    elif x1==1 and x2==0:\n",
    "        return 0\n",
    "    elif x1==1 and x2==1:\n",
    "        return 1   \n",
    "    \n",
    "print(logicalML(0,0))\n",
    "print(logicalML(0,1))\n",
    "print(logicalML(1,0))\n",
    "print(logicalML(1,1))"
   ]
  },
  {
   "cell_type": "markdown",
   "id": "6db0c31a",
   "metadata": {},
   "source": [
    "#### 앙상블(Ensemble)\n",
    "- Random Forest, Adaboost, GBM, Xgboost, LightGBM 등등\n",
    "- 여러개의 모델을 사용해서 투표나 확률을 계산하는 방식 - voting, stackig\n",
    "- 데이터를 쪼개서 사용하는 적용하는 방식 - bagging, boosting"
   ]
  },
  {
   "cell_type": "code",
   "execution_count": null,
   "id": "2352f958",
   "metadata": {},
   "outputs": [],
   "source": []
  }
 ],
 "metadata": {
  "kernelspec": {
   "display_name": "Python 3 (ipykernel)",
   "language": "python",
   "name": "python3"
  },
  "language_info": {
   "codemirror_mode": {
    "name": "ipython",
    "version": 3
   },
   "file_extension": ".py",
   "mimetype": "text/x-python",
   "name": "python",
   "nbconvert_exporter": "python",
   "pygments_lexer": "ipython3",
   "version": "3.9.12"
  },
  "toc": {
   "base_numbering": 1,
   "nav_menu": {},
   "number_sections": true,
   "sideBar": true,
   "skip_h1_title": false,
   "title_cell": "Table of Contents",
   "title_sidebar": "Contents",
   "toc_cell": false,
   "toc_position": {},
   "toc_section_display": true,
   "toc_window_display": true
  }
 },
 "nbformat": 4,
 "nbformat_minor": 5
}
