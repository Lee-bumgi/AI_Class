{
 "cells": [
  {
   "cell_type": "code",
   "execution_count": 1,
   "id": "09fd512d",
   "metadata": {},
   "outputs": [
    {
     "name": "stdout",
     "output_type": "stream",
     "text": [
      "[1, 2, 3, 4, 5, 6, 7, 8, 9, 10, 11, 12, 13, 14, 15, 16, 17, 18, 19, 20, 21, 22, 23, 24, 25, 26, 27, 28, 29, 30]\n"
     ]
    },
    {
     "data": {
      "text/plain": [
       "int"
      ]
     },
     "execution_count": 1,
     "metadata": {},
     "output_type": "execute_result"
    }
   ],
   "source": [
    "a=[]\n",
    "for i in range(1,31):\n",
    "    a.append(i)\n",
    "print(a)\n",
    "type(a[2])"
   ]
  },
  {
   "cell_type": "code",
   "execution_count": 2,
   "id": "884b8bb0",
   "metadata": {},
   "outputs": [
    {
     "name": "stdout",
     "output_type": "stream",
     "text": [
      "player2 승리!\n"
     ]
    }
   ],
   "source": [
    "def num_fight(player1, player2):\n",
    "    # 문제의 조건들에 맞추어 코딩하세요.\n",
    "    player1po = 0\n",
    "    player2po = 0\n",
    "    for i in player1:\n",
    "        if i not in [1,2,3,4,5,6]:\n",
    "            return \"동작그만 밑장빼기냐?\"\n",
    "            break\n",
    "        elif len(player1)!=len(set(player1)):\n",
    "            return \"동작그만 밑장빼기냐?\"\n",
    "            break            \n",
    "    for i in player2:\n",
    "        if i not in [1,2,3,4,5,6]:\n",
    "            return \"동작그만 밑장빼기냐?\"\n",
    "            break\n",
    "\n",
    "        elif len(player2)!=len(set(player2)):\n",
    "            return \"동작그만 밑장빼기냐?\"\n",
    "            break\n",
    "\n",
    "    if player1[i]>player2[i]:\n",
    "        player1po+=1\n",
    "\n",
    "    elif player1[i]<player2[i]:\n",
    "        player2po+=1\n",
    "\n",
    "\n",
    "    if player1po > player2po:\n",
    "        return \"player1 승리!\"\n",
    "    elif player1po < player2po:\n",
    "        return \"player2 승리!\"\n",
    "    elif player1po == player2po:\n",
    "        return \"서로 비겼습니다\"\n",
    "\n",
    "\n",
    "    \n",
    "\n",
    "print(num_fight([1,2,3,4,5,6], [1,3,6,4,5,2]))"
   ]
  },
  {
   "cell_type": "code",
   "execution_count": null,
   "id": "d0126205",
   "metadata": {},
   "outputs": [],
   "source": []
  }
 ],
 "metadata": {
  "kernelspec": {
   "display_name": "Python 3 (ipykernel)",
   "language": "python",
   "name": "python3"
  },
  "language_info": {
   "codemirror_mode": {
    "name": "ipython",
    "version": 3
   },
   "file_extension": ".py",
   "mimetype": "text/x-python",
   "name": "python",
   "nbconvert_exporter": "python",
   "pygments_lexer": "ipython3",
   "version": "3.9.12"
  },
  "toc": {
   "base_numbering": 1,
   "nav_menu": {},
   "number_sections": true,
   "sideBar": true,
   "skip_h1_title": false,
   "title_cell": "Table of Contents",
   "title_sidebar": "Contents",
   "toc_cell": false,
   "toc_position": {},
   "toc_section_display": true,
   "toc_window_display": false
  }
 },
 "nbformat": 4,
 "nbformat_minor": 5
}
