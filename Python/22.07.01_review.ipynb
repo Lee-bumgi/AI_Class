{
 "cells": [
  {
   "cell_type": "code",
   "execution_count": null,
   "id": "9ee2df1a",
   "metadata": {},
   "outputs": [],
   "source": [
    "# 'list' object has no attribute 'replace'"
   ]
  },
  {
   "cell_type": "code",
   "execution_count": 2,
   "id": "ac705c14",
   "metadata": {},
   "outputs": [
    {
     "ename": "AttributeError",
     "evalue": "'list' object has no attribute 'replace'",
     "output_type": "error",
     "traceback": [
      "\u001b[1;31m---------------------------------------------------------------------------\u001b[0m",
      "\u001b[1;31mAttributeError\u001b[0m                            Traceback (most recent call last)",
      "Input \u001b[1;32mIn [2]\u001b[0m, in \u001b[0;36m<cell line: 9>\u001b[1;34m()\u001b[0m\n\u001b[0;32m      6\u001b[0m \u001b[38;5;28;01mdef\u001b[39;00m \u001b[38;5;21mdel_lol\u001b[39m(s):\n\u001b[0;32m      7\u001b[0m     \u001b[38;5;28;01mreturn\u001b[39;00m s\u001b[38;5;241m.\u001b[39mreplace(\u001b[38;5;124m\"\u001b[39m\u001b[38;5;124mㅋ\u001b[39m\u001b[38;5;124m\"\u001b[39m,\u001b[38;5;124m\"\u001b[39m\u001b[38;5;124m\"\u001b[39m)\n\u001b[1;32m----> 9\u001b[0m \u001b[43mdel_lol\u001b[49m\u001b[43m(\u001b[49m\u001b[43mreview_naver\u001b[49m\u001b[43m)\u001b[49m\n",
      "Input \u001b[1;32mIn [2]\u001b[0m, in \u001b[0;36mdel_lol\u001b[1;34m(s)\u001b[0m\n\u001b[0;32m      6\u001b[0m \u001b[38;5;28;01mdef\u001b[39;00m \u001b[38;5;21mdel_lol\u001b[39m(s):\n\u001b[1;32m----> 7\u001b[0m     \u001b[38;5;28;01mreturn\u001b[39;00m \u001b[43ms\u001b[49m\u001b[38;5;241;43m.\u001b[39;49m\u001b[43mreplace\u001b[49m(\u001b[38;5;124m\"\u001b[39m\u001b[38;5;124mㅋ\u001b[39m\u001b[38;5;124m\"\u001b[39m,\u001b[38;5;124m\"\u001b[39m\u001b[38;5;124m\"\u001b[39m)\n",
      "\u001b[1;31mAttributeError\u001b[0m: 'list' object has no attribute 'replace'"
     ]
    }
   ],
   "source": [
    "review_naver=[\"윌 스미스 하드캐리ㅋㅋㅋ\",\n",
    "             \"자스민 너무 멋지고 팬 엄청 생길듯ㅋ?\"]\n",
    "review_ggole=[\"색감도 노래도 너무 화려하고 재밌었어요 ㅋㅋㅋㅋㅋ\",\n",
    "             \"오늘부터 디즈니 팬입니다ㅋㅋㅋ\"]\n",
    "\n",
    "def del_lol(s):\n",
    "    return s.replace(\"ㅋ\",\"\")\n",
    "\n",
    "del_lol(review_naver)"
   ]
  },
  {
   "cell_type": "code",
   "execution_count": 7,
   "id": "16ef4d3a",
   "metadata": {},
   "outputs": [
    {
     "name": "stdout",
     "output_type": "stream",
     "text": [
      "윌 스미스 하드캐리\n",
      "자스민 너무 멋지고 팬 엄청 생길듯?\n",
      "색감도 노래도 너무 화려하고 재밌었어요 \n",
      "오늘부터 디즈니 팬입니다\n"
     ]
    }
   ],
   "source": [
    "review_naver=[\"윌 스미스 하드캐리ㅋㅋㅋ\",\n",
    "             \"자스민 너무 멋지고 팬 엄청 생길듯ㅋ?\"]\n",
    "review_google=[\"색감도 노래도 너무 화려하고 재밌었어요 ㅋㅋㅋㅋㅋ\",\n",
    "             \"오늘부터 디즈니 팬입니다ㅋㅋㅋ\"]\n",
    "\n",
    "def del_lol(s):\n",
    "    for i in s:\n",
    "        print(i.replace(\"ㅋ\",\"\"))\n",
    "\n",
    "del_lol(review_naver)\n",
    "del_lol(review_google)"
   ]
  },
  {
   "cell_type": "code",
   "execution_count": null,
   "id": "db3cbe06",
   "metadata": {},
   "outputs": [],
   "source": []
  }
 ],
 "metadata": {
  "kernelspec": {
   "display_name": "Python 3 (ipykernel)",
   "language": "python",
   "name": "python3"
  },
  "language_info": {
   "codemirror_mode": {
    "name": "ipython",
    "version": 3
   },
   "file_extension": ".py",
   "mimetype": "text/x-python",
   "name": "python",
   "nbconvert_exporter": "python",
   "pygments_lexer": "ipython3",
   "version": "3.9.12"
  }
 },
 "nbformat": 4,
 "nbformat_minor": 5
}
