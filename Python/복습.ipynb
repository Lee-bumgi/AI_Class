{
 "cells": [
  {
   "cell_type": "code",
   "execution_count": null,
   "id": "7b61f43a",
   "metadata": {},
   "outputs": [],
   "source": []
  },
  {
   "cell_type": "code",
   "execution_count": 1,
   "id": "30aa5967",
   "metadata": {},
   "outputs": [
    {
     "name": "stdout",
     "output_type": "stream",
     "text": [
      "99\n"
     ]
    }
   ],
   "source": [
    "# 최대값 찾기\n",
    "list2 = [4,5,2,1,99,15,2,7,27]\n",
    "max_num = list2[0]\n",
    "for i in list2:\n",
    "    if i > max_num:\n",
    "        max_num = i\n",
    "print(max_num)"
   ]
  },
  {
   "cell_type": "code",
   "execution_count": null,
   "id": "69e8baae",
   "metadata": {},
   "outputs": [],
   "source": [
    "#num 값을 설정해주자\n",
    "python_score = [57,86,63,92,35,79]\n",
    "num = 0\n",
    "\n",
    "for i in python_score:\n",
    "    if i >=80:\n",
    "        grade = \"A\"\n",
    "    elif i >=60:\n",
    "        grade = \"B\"\n",
    "    else:\n",
    "        grade = \"C\"\n",
    "    num+=1\n",
    "    print(f\"{num}번은 {i}점이며, {grade}등급입니다.\")"
   ]
  },
  {
   "cell_type": "code",
   "execution_count": 2,
   "id": "1d81ecb7",
   "metadata": {},
   "outputs": [
    {
     "name": "stdout",
     "output_type": "stream",
     "text": [
      "Life is too short, You need python."
     ]
    }
   ],
   "source": [
    "s = \".nohtyp deen uoY ,trohs oot si efiL\"\n",
    "for i in range(len(s)-1,-1,-1):\n",
    "    print(s[i],end = \"\")"
   ]
  },
  {
   "cell_type": "code",
   "execution_count": 3,
   "id": "22513c54",
   "metadata": {},
   "outputs": [
    {
     "name": "stdout",
     "output_type": "stream",
     "text": [
      "0\n",
      "1\n",
      "2\n",
      "3\n"
     ]
    }
   ],
   "source": [
    "list1 = [5,9,6,4]\n",
    "for i in range(len(list1)):\n",
    "    print(i)"
   ]
  },
  {
   "cell_type": "code",
   "execution_count": null,
   "id": "954b161a",
   "metadata": {},
   "outputs": [],
   "source": [
    "# 리뷰 최대값 / 내용 출력\n",
    "max_len = len(my[0][0]) # 첫 번째 리뷰 길이\n",
    "max_content = \"\"        # 가장 길이가 긴 리뷰가 들어갈 변수\n",
    "\n",
    "for i in my:\n",
    "    review_len = len(i[0])\n",
    "    if max_len < review_len:\n",
    "        max_len = review_len\n",
    "        max_content = i[0]\n",
    "print(f\"리뷰 최대길이는 '{max_len}'입니다.\")\n",
    "print(max_content)"
   ]
  }
 ],
 "metadata": {
  "kernelspec": {
   "display_name": "Python 3 (ipykernel)",
   "language": "python",
   "name": "python3"
  },
  "language_info": {
   "codemirror_mode": {
    "name": "ipython",
    "version": 3
   },
   "file_extension": ".py",
   "mimetype": "text/x-python",
   "name": "python",
   "nbconvert_exporter": "python",
   "pygments_lexer": "ipython3",
   "version": "3.9.12"
  },
  "toc": {
   "base_numbering": 1,
   "nav_menu": {},
   "number_sections": true,
   "sideBar": true,
   "skip_h1_title": false,
   "title_cell": "Table of Contents",
   "title_sidebar": "Contents",
   "toc_cell": false,
   "toc_position": {},
   "toc_section_display": true,
   "toc_window_display": false
  }
 },
 "nbformat": 4,
 "nbformat_minor": 5
}
