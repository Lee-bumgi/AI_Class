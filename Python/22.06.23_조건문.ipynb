{
 "cells": [
  {
   "cell_type": "markdown",
   "id": "d3962fab",
   "metadata": {},
   "source": [
    "# 조건문"
   ]
  },
  {
   "cell_type": "code",
   "execution_count": null,
   "id": "96bdc85f",
   "metadata": {},
   "outputs": [],
   "source": [
    "if 조건식:\n",
    "        실행문장\n",
    "        실행문장"
   ]
  },
  {
   "cell_type": "code",
   "execution_count": null,
   "id": "e9fa5674",
   "metadata": {},
   "outputs": [],
   "source": [
    "a = int(input())\n",
    "if a>10:\n",
    "    print(a)"
   ]
  },
  {
   "cell_type": "code",
   "execution_count": null,
   "id": "1c644909",
   "metadata": {},
   "outputs": [],
   "source": [
    "if True:\n",
    "    print(\"실행문장 실행\")"
   ]
  },
  {
   "cell_type": "code",
   "execution_count": null,
   "id": "43556ba4",
   "metadata": {},
   "outputs": [],
   "source": [
    "if False:\n",
    "    print(\"실행문장 실행\")"
   ]
  },
  {
   "cell_type": "code",
   "execution_count": null,
   "id": "d4f79b94",
   "metadata": {},
   "outputs": [],
   "source": [
    "if True:\n",
    "    print(\"실행문장 실행\")\n",
    "print(\"실행문장 실행\")"
   ]
  },
  {
   "cell_type": "code",
   "execution_count": null,
   "id": "8b721856",
   "metadata": {},
   "outputs": [],
   "source": [
    "if False:\n",
    "    print(\"실행문장 실행\")\n",
    "print(\"if문 밖에 있는 실행\")"
   ]
  },
  {
   "cell_type": "code",
   "execution_count": null,
   "id": "cb84b7e3",
   "metadata": {},
   "outputs": [],
   "source": [
    "money = int(input())\n",
    "if money >= 10000:\n",
    "    print(\"택시를 탄다\")\n"
   ]
  },
  {
   "cell_type": "code",
   "execution_count": null,
   "id": "5b06867e",
   "metadata": {},
   "outputs": [],
   "source": [
    "money = int(input(\"how much money do you have?\"))\n",
    "if money >= 10000:\n",
    "    print(\"Take taxi\")\n",
    "else:\n",
    "    print(\"Take bus\")"
   ]
  },
  {
   "cell_type": "code",
   "execution_count": null,
   "id": "2fd85721",
   "metadata": {},
   "outputs": [],
   "source": [
    "money = 11000\n",
    "if money >= 10000:\n",
    "    print(\"택시\")\n",
    "else :\n",
    "    print(\"버스\")"
   ]
  },
  {
   "cell_type": "code",
   "execution_count": null,
   "id": "bcd5d179",
   "metadata": {},
   "outputs": [],
   "source": [
    "print(\"택시를 탄다\") if money >= 10000 else print(\"버스를 탄다\")"
   ]
  },
  {
   "cell_type": "code",
   "execution_count": null,
   "id": "5877c26e",
   "metadata": {},
   "outputs": [],
   "source": [
    "num = int(input())\n",
    "\n",
    "if num%3==0 and num%5 ==0:\n",
    "    print(\"3과 5의 배수입니다\")\n",
    "else:\n",
    "    print(\"3과 5의 배수가 아닙니다\")"
   ]
  },
  {
   "cell_type": "code",
   "execution_count": null,
   "id": "5609ada3",
   "metadata": {},
   "outputs": [],
   "source": [
    "num = input(\"주민번호를 입력하세요 >> \")\n",
    "if num[0]==\"1\":\n",
    "    print(\"당신은 남자입니다\")\n",
    "elif num[0] == \"2\":\n",
    "    print(\"당신은 여자입니다\")\n",
    "else:\n",
    "    print(\"꼬맹입니다.\")\n"
   ]
  },
  {
   "cell_type": "code",
   "execution_count": null,
   "id": "1b8fa376",
   "metadata": {},
   "outputs": [],
   "source": [
    "number = int(input(\"주민번호를 입력해주세요\"))\n",
    "\n",
    "if number//1000000 ==1 or number//1000000 ==3:\n",
    "    print(\"남자입니다\")\n",
    "else:\n",
    "    print(\"여자입니다\")"
   ]
  },
  {
   "cell_type": "code",
   "execution_count": null,
   "id": "26c68d08",
   "metadata": {},
   "outputs": [],
   "source": [
    "name = input(\"이름 입력 >> \")\n",
    "age = int(input(\"나이 입력 >> \"))\n",
    "card = input(\"카드 소지 여부(소지,미소지)>> \")\n",
    "fee = 35000\n",
    "\n",
    "if age >= 19 and card ==\"소지\":\n",
    "    fee = int(fee*0.7)    \n",
    "elif age >=19 and card == \"미소지\":\n",
    "    fee = int(fee)\n",
    "elif age < 19 and card == \"소지\":\n",
    "    fee = int(fee*0.45)  \n",
    "else:\n",
    "    fee = int(fee/2)   \n",
    "print(f\"{name}님은 입장료 {fee}원에 예약되셨습니다.\")"
   ]
  },
  {
   "cell_type": "code",
   "execution_count": null,
   "id": "9ca35f04",
   "metadata": {},
   "outputs": [],
   "source": [
    "name = input(\"이름 입력 >> \")\n",
    "age = int(input(\"나이 입력 >> \"))\n",
    "card = input(\"카드 소지 여부(소지,미소지)>> \")\n",
    "fee = 35000\n",
    "\n",
    "if age >=19:\n",
    "    if card == \"소지\":\n",
    "        fee = int(fee*0.7) \n",
    "    else:\n",
    "        fee= int(fee)\n",
    "else:\n",
    "    if card == \"소지\":\n",
    "        fee = int(fee*0.45)        \n",
    "    else:\n",
    "        fee = int(fee/2)         \n",
    "print(f\"{name}님은 입장료 {fee}원에 예약되셨습니다.\")"
   ]
  },
  {
   "cell_type": "code",
   "execution_count": null,
   "id": "0e47ca95",
   "metadata": {},
   "outputs": [],
   "source": [
    "countOfMask = int(input(\"마스크 개수 입력 >> \"))\n",
    "mask8bag = countOfMask//8\n",
    "mask5bag = (countOfMask%8)//5\n",
    "mask5 = (countOfMask%8)%5\n",
    "\n",
    "if mask5 >=1:\n",
    "    mask5bag += 1\n",
    "    \n",
    "print(\"8개들이 포장지 개수 : {}\".format(mask8bag))\n",
    "print(\"5개들이 포장지 개수 : {}\".format(mask5bag))\n"
   ]
  },
  {
   "cell_type": "code",
   "execution_count": null,
   "id": "1f671e68",
   "metadata": {},
   "outputs": [],
   "source": [
    "num1= int(input(\"첫 번째 정수입력 >> \"))\n",
    "num2 = int(input(\"두 번째 정수입력 >> \"))\n",
    "if num1>num2:\n",
    "    print(\"첫 번째 정수가 더 큽니다.\")\n",
    "elif num1== num2:\n",
    "    print(\"두 수가 같습니다\")\n",
    "else:\n",
    "    print(\"두 번째 정수가 더 큽니다.\")"
   ]
  },
  {
   "cell_type": "code",
   "execution_count": null,
   "id": "30713a89",
   "metadata": {},
   "outputs": [],
   "source": [
    "score = int(input(\"점수 입력 >> \"))\n",
    "if score >=90 and score <= 100:\n",
    "    print(f\"{score}는 A학점 입니다.\")\n",
    "elif score >=80 and score < 90:\n",
    "    print(f\"{score}는 B학점 입니다.\")\n",
    "elif score >=70 and score < 80:\n",
    "    print(f\"{score}는 C학점 입니다.\")\n",
    "elif score >=60 and score < 70:\n",
    "    print(f\"{score}는 D학점 입니다.\")\n",
    "else:\n",
    "    print(f\"{score}는 F학점 입니다.\")"
   ]
  },
  {
   "cell_type": "code",
   "execution_count": null,
   "id": "3ab393e9",
   "metadata": {},
   "outputs": [],
   "source": [
    "x = int(input(\"x값을 입력하세요 : \"))\n",
    "y = int(input(\"y값을 입력하세요 : \"))\n",
    "space = 0\n",
    "if x >0:\n",
    "    if y>0:\n",
    "        space += 1\n",
    "    else:\n",
    "        space += 4\n",
    "else:\n",
    "    if y>0:\n",
    "        space += 2\n",
    "    else:\n",
    "        space +=3\n",
    "print(f\"좌표({x},{y})는 {space}사분면 입니다\")"
   ]
  },
  {
   "cell_type": "code",
   "execution_count": null,
   "id": "50dfb8f5",
   "metadata": {},
   "outputs": [],
   "source": [
    "age = int(input(\"나이 입력 >> \"))\n",
    "busfee = 1500\n",
    "if age<5:\n",
    "    busfee= int(busfee/2)\n",
    "elif age<20:\n",
    "    busfee = int(busfee*3/4)\n",
    "elif age>65:\n",
    "    busfee= int(busfee/4)\n",
    "print(\"요금은 {}원 입니다.\".format(busfee))"
   ]
  },
  {
   "cell_type": "code",
   "execution_count": null,
   "id": "0bef2475",
   "metadata": {},
   "outputs": [],
   "source": [
    "print('''\n",
    "=====================================================\n",
    "================------자판기------===================\n",
    "==  1.콜라 ==  2.사이다 ==  3.물 =====insert=========\n",
    "==-------------------------------=====   0원=========\n",
    "=====================================================\n",
    "==+++++++++++++++++++++++++++++++++++++++++++++++++==\n",
    "==+++++++++++++++++++++++++++++++++++++++++++++++++==\n",
    "==+++++++++++++++++++++++++++++++++++++++++++++++++==\n",
    "==++++++++++++++++              +++++++++++++++++++==\n",
    "==++++++++++++++++     SMHRD    +++++++++++++++++++==\n",
    "==++++++++++++++++              +++++++++++++++++++==\n",
    "==+++++++++++++++++++++++++++++++++++++++++++++++++==\n",
    "==+++++++++++++++++++++++++++++++++++++++++++++++++==\n",
    "=====================================================\n",
    "=====================================================\n",
    "  ===                                           ===\n",
    "  ===                                           ===\n",
    "''')\n",
    "money = int(input(\"insert coin >> \"))\n",
    "menu = int(input(\"메뉴 선택 >> \"))\n",
    "change = money\n",
    "\n",
    "if menu ==1:\n",
    "    if money < 600:\n",
    "        print(\"잔액 부족\")\n",
    "    else:\n",
    "        change = money-600\n",
    "        thou = change//1000\n",
    "        hun5 = (change%1000)//500\n",
    "        hun = (change%1000)%500\n",
    "        print(f\"잔돈 >> 1000원 {thou}개, 500원 {hun5}개, 100원 {hun}개\")\n",
    "elif menu == 2:\n",
    "    if money < 600:\n",
    "    print(\"잔액 부족\")\n",
    "    else:\n",
    "        change = money-800\n",
    "        thou = change//1000\n",
    "        hun5 = (change%1000)//500\n",
    "        hun = (change%1000)%500\n",
    "        print(f\"잔돈 >> 1000원 {thou}개, 500원 {hun5}개, 100원 {hun}개\")\n",
    "elif menu == 3:\n",
    "    if money < 600:\n",
    "    print(\"잔액 부족\")\n",
    "    else:\n",
    "        change = money-1000\n",
    "        thou = change//1000\n",
    "        hun5 = (change%1000)//500\n",
    "        hun = (change%1000)%500\n",
    "        print(f\"잔돈 >> 1000원 {thou}개, 500원 {hun5}개, 100원 {hun}개\")\n",
    "else:\n",
    "    print(\"잘못된 메뉴\")\n",
    "    \n"
   ]
  },
  {
   "cell_type": "code",
   "execution_count": null,
   "id": "ee932b95",
   "metadata": {},
   "outputs": [
    {
     "name": "stdout",
     "output_type": "stream",
     "text": [
      "\n",
      "=====================================================\n",
      "================------자판기------===================\n",
      "==  1.콜라 ==  2.사이다 ==  3.물 =======insert=======\n",
      "==---600원-------800원------1000원-=====   0원=======\n",
      "=====================================================\n",
      "==+++++++++++++++++++++++++++++++++++++++++++++++++==\n",
      "==+++++++++++++++++++++++++++++++++++++++++++++++++==\n",
      "==+++++++++++++++++++++++++++++++++++++++++++++++++==\n",
      "==++++++++++++++++              +++++++++++++++++++==\n",
      "==++++++++++++++++     SMHRD    +++++++++++++++++++==\n",
      "==++++++++++++++++              +++++++++++++++++++==\n",
      "==+++++++++++++++++++++++++++++++++++++++++++++++++==\n",
      "==+++++++++++++++++++++++++++++++++++++++++++++++++==\n",
      "=====================================================\n",
      "=====================================================\n",
      "  ===                                           ===\n",
      "  ===                                           ===\n",
      "\n"
     ]
    }
   ],
   "source": [
    "print('''\n",
    "=====================================================\n",
    "================------자판기------===================\n",
    "==  1.콜라 ==  2.사이다 ==  3.물 =======insert=======\n",
    "==---600원-------800원------1000원-=====   0원=======\n",
    "=====================================================\n",
    "==+++++++++++++++++++++++++++++++++++++++++++++++++==\n",
    "==+++++++++++++++++++++++++++++++++++++++++++++++++==\n",
    "==+++++++++++++++++++++++++++++++++++++++++++++++++==\n",
    "==++++++++++++++++              +++++++++++++++++++==\n",
    "==++++++++++++++++     SMHRD    +++++++++++++++++++==\n",
    "==++++++++++++++++              +++++++++++++++++++==\n",
    "==+++++++++++++++++++++++++++++++++++++++++++++++++==\n",
    "==+++++++++++++++++++++++++++++++++++++++++++++++++==\n",
    "=====================================================\n",
    "=====================================================\n",
    "  ===                                           ===\n",
    "  ===                                           ===\n",
    "''')\n",
    "\n",
    "money = int(input(\"insert coin >> \"))\n",
    "menu = int(input(\"메뉴 선택 >> \"))\n",
    "change = money\n",
    "\n",
    "if menu ==1:\n",
    "    if money < 600:\n",
    "        print(\"잔액 부족\")\n",
    "    else:\n",
    "        change = money-600\n",
    "        thou = change//1000\n",
    "        hun5 = (change%1000)//500\n",
    "        hun = (change%1000)%500\n",
    "        print(f\"잔돈 >> 1000원 {thou}개, 500원 {hun5}개, 100원 {hun}개\")\n",
    "elif menu ==2:\n",
    "    if money < 800:\n",
    "        print(\"잔액 부족\")\n",
    "    else:\n",
    "        change = money-800\n",
    "        thou = change//1000\n",
    "        hun5 = (change%1000)//500\n",
    "        hun = (change%1000)%500\n",
    "        print(f\"잔돈 >> 1000원 {thou}개, 500원 {hun5}개, 100원 {hun}개\")\n",
    "elif menu ==3:\n",
    "    if money < 1000:\n",
    "        print(\"잔액 부족\")\n",
    "    else:\n",
    "        change = money-1000\n",
    "        thou = change//1000\n",
    "        hun5 = (change%1000)//500\n",
    "        hun = (change%1000)%500\n",
    "        print(f\"잔돈 >> 1000원 {thou}개, 500원 {hun5}개, 100원 {hun}개\")\n",
    "else:\n",
    "    print(\"잘못된 메뉴\")"
   ]
  },
  {
   "cell_type": "code",
   "execution_count": 2,
   "id": "7a968ae6",
   "metadata": {},
   "outputs": [
    {
     "name": "stdout",
     "output_type": "stream",
     "text": [
      "insert coin >> 5600\n",
      "메뉴 선택 >> 3\n",
      "잔돈 >> 천원 4개, 오백원 1개, 백원 1개\n"
     ]
    }
   ],
   "source": [
    "money = int(input(\"insert coin >> \"))\n",
    "menu = int(input(\"메뉴 선택 >> \"))\n",
    "\n",
    "if money >= 600:\n",
    "    if menu ==1:\n",
    "        money -= 600\n",
    "    elif menu ==2:\n",
    "        money -=800\n",
    "    elif menu ==3:\n",
    "        money -=1000\n",
    "    else:\n",
    "        print(\"잘못된 메뉴입니다\")\n",
    "#잔돈 계산\n",
    "    cash_1000, cash_500, cash_100 = 0,0,0\n",
    "    \n",
    "    if money >= 1000:\n",
    "        cash_1000 = money//1000\n",
    "        cash_500 = (money%1000)//500\n",
    "        cash_100 = (money%1000)%500//100\n",
    "    elif money >= 500:\n",
    "        cash_500 = money//500\n",
    "        cash_100 = money%500//100\n",
    "    else:\n",
    "        cash_100 = money//100\n",
    "    print(f\"잔돈 >> 천원 {cash_1000}개, 오백원 {cash_500}개, 백원 {cash_100}개\")\n",
    "else:\n",
    "    print(\"돈을 더 넣어주세여\")\n",
    "\n"
   ]
  },
  {
   "cell_type": "code",
   "execution_count": null,
   "id": "7067bf46",
   "metadata": {},
   "outputs": [],
   "source": []
  }
 ],
 "metadata": {
  "kernelspec": {
   "display_name": "Python 3 (ipykernel)",
   "language": "python",
   "name": "python3"
  },
  "language_info": {
   "codemirror_mode": {
    "name": "ipython",
    "version": 3
   },
   "file_extension": ".py",
   "mimetype": "text/x-python",
   "name": "python",
   "nbconvert_exporter": "python",
   "pygments_lexer": "ipython3",
   "version": "3.9.12"
  },
  "toc": {
   "base_numbering": 1,
   "nav_menu": {},
   "number_sections": true,
   "sideBar": true,
   "skip_h1_title": false,
   "title_cell": "Table of Contents",
   "title_sidebar": "Contents",
   "toc_cell": false,
   "toc_position": {},
   "toc_section_display": true,
   "toc_window_display": false
  }
 },
 "nbformat": 4,
 "nbformat_minor": 5
}
