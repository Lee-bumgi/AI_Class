{
 "cells": [
  {
   "cell_type": "markdown",
   "id": "a02286e4",
   "metadata": {},
   "source": [
    "# 문제정의\n",
    "\n",
    "- 데이터 전처리 및 시각화 방법에 대해 학습"
   ]
  },
  {
   "cell_type": "markdown",
   "id": "a9151e4c",
   "metadata": {},
   "source": [
    "# 데이터 수집"
   ]
  },
  {
   "cell_type": "code",
   "execution_count": 64,
   "id": "a644d396",
   "metadata": {},
   "outputs": [],
   "source": [
    "import pandas as pd\n",
    "\n",
    "# index_col : 인덱스 컬럼을 설정\n",
    "train = pd.read_csv(\"./data/titanic_train-Copy1.csv\", index_col=\"PassengerId\")\n",
    "test = pd.read_csv(\"./data/titanic_test-Copy1.csv\", index_col=\"PassengerId\")"
   ]
  },
  {
   "cell_type": "markdown",
   "id": "28e00cae",
   "metadata": {},
   "source": [
    "# 탐색적 데이터 분석 및 전처리"
   ]
  },
  {
   "cell_type": "code",
   "execution_count": 65,
   "id": "115cb777",
   "metadata": {},
   "outputs": [
    {
     "name": "stdout",
     "output_type": "stream",
     "text": [
      "(891, 11)\n",
      "(418, 10)\n"
     ]
    }
   ],
   "source": [
    "print(train.shape)\n",
    "print(test.shape)"
   ]
  },
  {
   "cell_type": "markdown",
   "id": "068ade70",
   "metadata": {},
   "source": [
    "- 분석 feature : Pclass, Age, Name, SibSp, Parch, Fare, Ticket, Cabin, Embarked\n",
    "- 예측 target label : Survived\n",
    "\n",
    "- feature \n",
    "\n",
    "<table border=0 align=left width=700>\n",
    "  <tr><th>feature<th width=200>의미<th width=300>설명<th> 타입\n",
    "  <tr><td>Survivied<td>생존여부<td>target 라벨 (0 : 사망, 1 : 생존)<td>integer\n",
    "  <tr><td>Pclass<td>티켓의 클래스<td>1 = 1등석, 2 = 2등석, 3 = 3등석<td>integer\n",
    "  <tr><td>Name<td>이름<td>호칭과 이름으로 구성<td>string   \n",
    "  <tr><td>Sex<td>성별<td>male, female로 구분<td>string    \n",
    "  <tr><td>Age<td>나이<td>0-80세<td>integer\n",
    "  <tr><td>SibSp<td>함께 탑승한 형제와 배우자의 수<td><td>integer\n",
    "  <tr><td>Parch<td>함께 탑승한 부모, 아이의 수<td><td>integer\n",
    "  <tr><td>Ticket<td>티켓 번호<td>alphabat + integer<td>string \n",
    "  <tr><td>Fare<td>탑승료<td><td>float\n",
    "  <tr><td>Cabin<td>객실 번호<td>alphabat + integer<td>string\n",
    "  <tr><td>Embarked<td>탑승 항구<td>C = Cherbourg, Q = Queenstown, S = Southampton<td>string\n",
    "</table>      "
   ]
  },
  {
   "cell_type": "markdown",
   "id": "65f06cab",
   "metadata": {},
   "source": [
    "## 탐색적 데이터 분석\n",
    "\n",
    "- 데이터 이해를 이해하자\n",
    "- 결측치 (컬럼에 값이 었는 데이터), 이상치 (다른 값들과 차이가 큰 값), 오류가 있는 확인\n",
    "- 기술통계\n",
    "- 상관관계\n",
    "- 시각화"
   ]
  },
  {
   "cell_type": "markdown",
   "id": "eb361294",
   "metadata": {},
   "source": [
    "## 결측치 확인\n",
    "\n",
    "- info(), describe(), isnull()과 sum() 함수 등을 이용"
   ]
  },
  {
   "cell_type": "code",
   "execution_count": 66,
   "id": "da6098f0",
   "metadata": {},
   "outputs": [
    {
     "name": "stdout",
     "output_type": "stream",
     "text": [
      "<class 'pandas.core.frame.DataFrame'>\n",
      "Int64Index: 891 entries, 1 to 891\n",
      "Data columns (total 11 columns):\n",
      " #   Column    Non-Null Count  Dtype  \n",
      "---  ------    --------------  -----  \n",
      " 0   Survived  891 non-null    int64  \n",
      " 1   Pclass    891 non-null    int64  \n",
      " 2   Name      891 non-null    object \n",
      " 3   Sex       891 non-null    object \n",
      " 4   Age       714 non-null    float64\n",
      " 5   SibSp     891 non-null    int64  \n",
      " 6   Parch     891 non-null    int64  \n",
      " 7   Ticket    891 non-null    object \n",
      " 8   Fare      891 non-null    float64\n",
      " 9   Cabin     204 non-null    object \n",
      " 10  Embarked  889 non-null    object \n",
      "dtypes: float64(2), int64(4), object(5)\n",
      "memory usage: 83.5+ KB\n"
     ]
    }
   ],
   "source": [
    "# 훈련 데이터의 결측치\n",
    "train.info()\n",
    "\n",
    "# Age, Cabin, Embarked에 결측치가 존재"
   ]
  },
  {
   "cell_type": "code",
   "execution_count": 67,
   "id": "5a09f765",
   "metadata": {},
   "outputs": [
    {
     "name": "stdout",
     "output_type": "stream",
     "text": [
      "<class 'pandas.core.frame.DataFrame'>\n",
      "Int64Index: 418 entries, 892 to 1309\n",
      "Data columns (total 10 columns):\n",
      " #   Column    Non-Null Count  Dtype  \n",
      "---  ------    --------------  -----  \n",
      " 0   Pclass    418 non-null    int64  \n",
      " 1   Name      418 non-null    object \n",
      " 2   Sex       418 non-null    object \n",
      " 3   Age       332 non-null    float64\n",
      " 4   SibSp     418 non-null    int64  \n",
      " 5   Parch     418 non-null    int64  \n",
      " 6   Ticket    418 non-null    object \n",
      " 7   Fare      417 non-null    float64\n",
      " 8   Cabin     91 non-null     object \n",
      " 9   Embarked  418 non-null    object \n",
      "dtypes: float64(2), int64(3), object(5)\n",
      "memory usage: 35.9+ KB\n"
     ]
    }
   ],
   "source": [
    "# 테스트 데이터의 결측치 확인\n",
    "test.info()\n",
    "\n",
    "# Age, Fare, Cabin에 결측치가 존재"
   ]
  },
  {
   "cell_type": "markdown",
   "id": "a684d06c",
   "metadata": {},
   "source": [
    "- 결측치 채우는 방법\n",
    "  - 수치형인 경우\n",
    "    - 기술통계 (평균, 중간값)\n",
    "    - 결측치가 적은 경우 : 전체 평균이나 중간값을 대입\n",
    "    - 결측치가 많은 경우 : 결측치가 있는 데이터의 다른 컬럼과 같은 값을 갖는 데이터의 결측치 통계를 사용\n",
    "  \n",
    "  - 범주형인 경우\n",
    "    - 결측치가 적은 경우 : 데이터수가 가장 많은 클래스로 할당 -> 기존 데이터가 결측치가 있는 데이터에 의해 영향을 덜 받기 때문에)\n",
    "    - 결측치가 많은 경우 : 데이터수가 가장 많은 클래스로 할당 -> 편향이 됨 -> 기존 데이터의 개수 비율만큼 랜덤으로 할당"
   ]
  },
  {
   "cell_type": "code",
   "execution_count": 68,
   "id": "1a157fab",
   "metadata": {},
   "outputs": [
    {
     "data": {
      "text/plain": [
       "Survived      0\n",
       "Pclass        0\n",
       "Name          0\n",
       "Sex           0\n",
       "Age         177\n",
       "SibSp         0\n",
       "Parch         0\n",
       "Ticket        0\n",
       "Fare          0\n",
       "Cabin       687\n",
       "Embarked      2\n",
       "dtype: int64"
      ]
     },
     "execution_count": 68,
     "metadata": {},
     "output_type": "execute_result"
    }
   ],
   "source": [
    "# 결측치 개수 확인\n",
    "train.isnull().sum()"
   ]
  },
  {
   "cell_type": "code",
   "execution_count": 69,
   "id": "5130c001",
   "metadata": {},
   "outputs": [
    {
     "data": {
      "text/plain": [
       "Pclass        0\n",
       "Name          0\n",
       "Sex           0\n",
       "Age          86\n",
       "SibSp         0\n",
       "Parch         0\n",
       "Ticket        0\n",
       "Fare          1\n",
       "Cabin       327\n",
       "Embarked      0\n",
       "dtype: int64"
      ]
     },
     "execution_count": 69,
     "metadata": {},
     "output_type": "execute_result"
    }
   ],
   "source": [
    "test.isnull().sum()"
   ]
  },
  {
   "cell_type": "code",
   "execution_count": 70,
   "id": "33b32d4d",
   "metadata": {},
   "outputs": [
    {
     "data": {
      "text/html": [
       "<div>\n",
       "<style scoped>\n",
       "    .dataframe tbody tr th:only-of-type {\n",
       "        vertical-align: middle;\n",
       "    }\n",
       "\n",
       "    .dataframe tbody tr th {\n",
       "        vertical-align: top;\n",
       "    }\n",
       "\n",
       "    .dataframe thead th {\n",
       "        text-align: right;\n",
       "    }\n",
       "</style>\n",
       "<table border=\"1\" class=\"dataframe\">\n",
       "  <thead>\n",
       "    <tr style=\"text-align: right;\">\n",
       "      <th></th>\n",
       "      <th>Survived</th>\n",
       "      <th>Pclass</th>\n",
       "      <th>Age</th>\n",
       "      <th>SibSp</th>\n",
       "      <th>Parch</th>\n",
       "      <th>Fare</th>\n",
       "    </tr>\n",
       "  </thead>\n",
       "  <tbody>\n",
       "    <tr>\n",
       "      <th>count</th>\n",
       "      <td>891.000000</td>\n",
       "      <td>891.000000</td>\n",
       "      <td>714.000000</td>\n",
       "      <td>891.000000</td>\n",
       "      <td>891.000000</td>\n",
       "      <td>891.000000</td>\n",
       "    </tr>\n",
       "    <tr>\n",
       "      <th>mean</th>\n",
       "      <td>0.383838</td>\n",
       "      <td>2.308642</td>\n",
       "      <td>29.699118</td>\n",
       "      <td>0.523008</td>\n",
       "      <td>0.381594</td>\n",
       "      <td>32.204208</td>\n",
       "    </tr>\n",
       "    <tr>\n",
       "      <th>std</th>\n",
       "      <td>0.486592</td>\n",
       "      <td>0.836071</td>\n",
       "      <td>14.526497</td>\n",
       "      <td>1.102743</td>\n",
       "      <td>0.806057</td>\n",
       "      <td>49.693429</td>\n",
       "    </tr>\n",
       "    <tr>\n",
       "      <th>min</th>\n",
       "      <td>0.000000</td>\n",
       "      <td>1.000000</td>\n",
       "      <td>0.420000</td>\n",
       "      <td>0.000000</td>\n",
       "      <td>0.000000</td>\n",
       "      <td>0.000000</td>\n",
       "    </tr>\n",
       "    <tr>\n",
       "      <th>25%</th>\n",
       "      <td>0.000000</td>\n",
       "      <td>2.000000</td>\n",
       "      <td>20.125000</td>\n",
       "      <td>0.000000</td>\n",
       "      <td>0.000000</td>\n",
       "      <td>7.910400</td>\n",
       "    </tr>\n",
       "    <tr>\n",
       "      <th>50%</th>\n",
       "      <td>0.000000</td>\n",
       "      <td>3.000000</td>\n",
       "      <td>28.000000</td>\n",
       "      <td>0.000000</td>\n",
       "      <td>0.000000</td>\n",
       "      <td>14.454200</td>\n",
       "    </tr>\n",
       "    <tr>\n",
       "      <th>75%</th>\n",
       "      <td>1.000000</td>\n",
       "      <td>3.000000</td>\n",
       "      <td>38.000000</td>\n",
       "      <td>1.000000</td>\n",
       "      <td>0.000000</td>\n",
       "      <td>31.000000</td>\n",
       "    </tr>\n",
       "    <tr>\n",
       "      <th>max</th>\n",
       "      <td>1.000000</td>\n",
       "      <td>3.000000</td>\n",
       "      <td>80.000000</td>\n",
       "      <td>8.000000</td>\n",
       "      <td>6.000000</td>\n",
       "      <td>512.329200</td>\n",
       "    </tr>\n",
       "  </tbody>\n",
       "</table>\n",
       "</div>"
      ],
      "text/plain": [
       "         Survived      Pclass         Age       SibSp       Parch        Fare\n",
       "count  891.000000  891.000000  714.000000  891.000000  891.000000  891.000000\n",
       "mean     0.383838    2.308642   29.699118    0.523008    0.381594   32.204208\n",
       "std      0.486592    0.836071   14.526497    1.102743    0.806057   49.693429\n",
       "min      0.000000    1.000000    0.420000    0.000000    0.000000    0.000000\n",
       "25%      0.000000    2.000000   20.125000    0.000000    0.000000    7.910400\n",
       "50%      0.000000    3.000000   28.000000    0.000000    0.000000   14.454200\n",
       "75%      1.000000    3.000000   38.000000    1.000000    0.000000   31.000000\n",
       "max      1.000000    3.000000   80.000000    8.000000    6.000000  512.329200"
      ]
     },
     "execution_count": 70,
     "metadata": {},
     "output_type": "execute_result"
    }
   ],
   "source": [
    "train.describe()"
   ]
  },
  {
   "cell_type": "code",
   "execution_count": 71,
   "id": "acd4f816",
   "metadata": {},
   "outputs": [
    {
     "data": {
      "text/html": [
       "<div>\n",
       "<style scoped>\n",
       "    .dataframe tbody tr th:only-of-type {\n",
       "        vertical-align: middle;\n",
       "    }\n",
       "\n",
       "    .dataframe tbody tr th {\n",
       "        vertical-align: top;\n",
       "    }\n",
       "\n",
       "    .dataframe thead th {\n",
       "        text-align: right;\n",
       "    }\n",
       "</style>\n",
       "<table border=\"1\" class=\"dataframe\">\n",
       "  <thead>\n",
       "    <tr style=\"text-align: right;\">\n",
       "      <th></th>\n",
       "      <th>Pclass</th>\n",
       "      <th>Age</th>\n",
       "      <th>SibSp</th>\n",
       "      <th>Parch</th>\n",
       "      <th>Fare</th>\n",
       "    </tr>\n",
       "  </thead>\n",
       "  <tbody>\n",
       "    <tr>\n",
       "      <th>count</th>\n",
       "      <td>418.000000</td>\n",
       "      <td>332.000000</td>\n",
       "      <td>418.000000</td>\n",
       "      <td>418.000000</td>\n",
       "      <td>417.000000</td>\n",
       "    </tr>\n",
       "    <tr>\n",
       "      <th>mean</th>\n",
       "      <td>2.265550</td>\n",
       "      <td>30.272590</td>\n",
       "      <td>0.447368</td>\n",
       "      <td>0.392344</td>\n",
       "      <td>35.627188</td>\n",
       "    </tr>\n",
       "    <tr>\n",
       "      <th>std</th>\n",
       "      <td>0.841838</td>\n",
       "      <td>14.181209</td>\n",
       "      <td>0.896760</td>\n",
       "      <td>0.981429</td>\n",
       "      <td>55.907576</td>\n",
       "    </tr>\n",
       "    <tr>\n",
       "      <th>min</th>\n",
       "      <td>1.000000</td>\n",
       "      <td>0.170000</td>\n",
       "      <td>0.000000</td>\n",
       "      <td>0.000000</td>\n",
       "      <td>0.000000</td>\n",
       "    </tr>\n",
       "    <tr>\n",
       "      <th>25%</th>\n",
       "      <td>1.000000</td>\n",
       "      <td>21.000000</td>\n",
       "      <td>0.000000</td>\n",
       "      <td>0.000000</td>\n",
       "      <td>7.895800</td>\n",
       "    </tr>\n",
       "    <tr>\n",
       "      <th>50%</th>\n",
       "      <td>3.000000</td>\n",
       "      <td>27.000000</td>\n",
       "      <td>0.000000</td>\n",
       "      <td>0.000000</td>\n",
       "      <td>14.454200</td>\n",
       "    </tr>\n",
       "    <tr>\n",
       "      <th>75%</th>\n",
       "      <td>3.000000</td>\n",
       "      <td>39.000000</td>\n",
       "      <td>1.000000</td>\n",
       "      <td>0.000000</td>\n",
       "      <td>31.500000</td>\n",
       "    </tr>\n",
       "    <tr>\n",
       "      <th>max</th>\n",
       "      <td>3.000000</td>\n",
       "      <td>76.000000</td>\n",
       "      <td>8.000000</td>\n",
       "      <td>9.000000</td>\n",
       "      <td>512.329200</td>\n",
       "    </tr>\n",
       "  </tbody>\n",
       "</table>\n",
       "</div>"
      ],
      "text/plain": [
       "           Pclass         Age       SibSp       Parch        Fare\n",
       "count  418.000000  332.000000  418.000000  418.000000  417.000000\n",
       "mean     2.265550   30.272590    0.447368    0.392344   35.627188\n",
       "std      0.841838   14.181209    0.896760    0.981429   55.907576\n",
       "min      1.000000    0.170000    0.000000    0.000000    0.000000\n",
       "25%      1.000000   21.000000    0.000000    0.000000    7.895800\n",
       "50%      3.000000   27.000000    0.000000    0.000000   14.454200\n",
       "75%      3.000000   39.000000    1.000000    0.000000   31.500000\n",
       "max      3.000000   76.000000    8.000000    9.000000  512.329200"
      ]
     },
     "execution_count": 71,
     "metadata": {},
     "output_type": "execute_result"
    }
   ],
   "source": [
    "test.describe()"
   ]
  },
  {
   "cell_type": "code",
   "execution_count": 72,
   "id": "e18d7183",
   "metadata": {},
   "outputs": [
    {
     "data": {
      "text/html": [
       "<div>\n",
       "<style scoped>\n",
       "    .dataframe tbody tr th:only-of-type {\n",
       "        vertical-align: middle;\n",
       "    }\n",
       "\n",
       "    .dataframe tbody tr th {\n",
       "        vertical-align: top;\n",
       "    }\n",
       "\n",
       "    .dataframe thead th {\n",
       "        text-align: right;\n",
       "    }\n",
       "</style>\n",
       "<table border=\"1\" class=\"dataframe\">\n",
       "  <thead>\n",
       "    <tr style=\"text-align: right;\">\n",
       "      <th></th>\n",
       "      <th>Survived</th>\n",
       "      <th>Age</th>\n",
       "      <th>SibSp</th>\n",
       "      <th>Parch</th>\n",
       "      <th>Fare</th>\n",
       "    </tr>\n",
       "    <tr>\n",
       "      <th>Pclass</th>\n",
       "      <th></th>\n",
       "      <th></th>\n",
       "      <th></th>\n",
       "      <th></th>\n",
       "      <th></th>\n",
       "    </tr>\n",
       "  </thead>\n",
       "  <tbody>\n",
       "    <tr>\n",
       "      <th>1</th>\n",
       "      <td>0.629630</td>\n",
       "      <td>38.233441</td>\n",
       "      <td>0.416667</td>\n",
       "      <td>0.356481</td>\n",
       "      <td>84.154687</td>\n",
       "    </tr>\n",
       "    <tr>\n",
       "      <th>2</th>\n",
       "      <td>0.472826</td>\n",
       "      <td>29.877630</td>\n",
       "      <td>0.402174</td>\n",
       "      <td>0.380435</td>\n",
       "      <td>20.662183</td>\n",
       "    </tr>\n",
       "    <tr>\n",
       "      <th>3</th>\n",
       "      <td>0.242363</td>\n",
       "      <td>25.140620</td>\n",
       "      <td>0.615071</td>\n",
       "      <td>0.393075</td>\n",
       "      <td>13.675550</td>\n",
       "    </tr>\n",
       "  </tbody>\n",
       "</table>\n",
       "</div>"
      ],
      "text/plain": [
       "        Survived        Age     SibSp     Parch       Fare\n",
       "Pclass                                                    \n",
       "1       0.629630  38.233441  0.416667  0.356481  84.154687\n",
       "2       0.472826  29.877630  0.402174  0.380435  20.662183\n",
       "3       0.242363  25.140620  0.615071  0.393075  13.675550"
      ]
     },
     "execution_count": 72,
     "metadata": {},
     "output_type": "execute_result"
    }
   ],
   "source": [
    "# 등급별(Pclass) 통계 (평균)\n",
    "# groupby() : 원하는 컬럼을 중심으로 그룹핑해주는 함수\n",
    "# Pclass 컬럼의 클래스별로 각 컬럼의 평균을 계산\n",
    "train.groupby(\"Pclass\").mean()"
   ]
  },
  {
   "cell_type": "markdown",
   "id": "45eb09c6",
   "metadata": {},
   "source": [
    "- 1등실 생존율이 높았다\n",
    "- 나이를 보면 3등실에 나이가 적은 승객이 많았다\n",
    "- 1등실일수록 가족수가 적었다, 3등실일수록 가족수가 많았다"
   ]
  },
  {
   "cell_type": "code",
   "execution_count": 73,
   "id": "050b3e0a",
   "metadata": {},
   "outputs": [
    {
     "data": {
      "text/html": [
       "<div>\n",
       "<style scoped>\n",
       "    .dataframe tbody tr th:only-of-type {\n",
       "        vertical-align: middle;\n",
       "    }\n",
       "\n",
       "    .dataframe tbody tr th {\n",
       "        vertical-align: top;\n",
       "    }\n",
       "\n",
       "    .dataframe thead th {\n",
       "        text-align: right;\n",
       "    }\n",
       "</style>\n",
       "<table border=\"1\" class=\"dataframe\">\n",
       "  <thead>\n",
       "    <tr style=\"text-align: right;\">\n",
       "      <th></th>\n",
       "      <th></th>\n",
       "      <th>Age</th>\n",
       "      <th>SibSp</th>\n",
       "      <th>Parch</th>\n",
       "      <th>Fare</th>\n",
       "    </tr>\n",
       "    <tr>\n",
       "      <th>Pclass</th>\n",
       "      <th>Survived</th>\n",
       "      <th></th>\n",
       "      <th></th>\n",
       "      <th></th>\n",
       "      <th></th>\n",
       "    </tr>\n",
       "  </thead>\n",
       "  <tbody>\n",
       "    <tr>\n",
       "      <th rowspan=\"2\" valign=\"top\">1</th>\n",
       "      <th>0</th>\n",
       "      <td>43.695312</td>\n",
       "      <td>0.287500</td>\n",
       "      <td>0.300000</td>\n",
       "      <td>64.684007</td>\n",
       "    </tr>\n",
       "    <tr>\n",
       "      <th>1</th>\n",
       "      <td>35.368197</td>\n",
       "      <td>0.492647</td>\n",
       "      <td>0.389706</td>\n",
       "      <td>95.608029</td>\n",
       "    </tr>\n",
       "    <tr>\n",
       "      <th rowspan=\"2\" valign=\"top\">2</th>\n",
       "      <th>0</th>\n",
       "      <td>33.544444</td>\n",
       "      <td>0.319588</td>\n",
       "      <td>0.144330</td>\n",
       "      <td>19.412328</td>\n",
       "    </tr>\n",
       "    <tr>\n",
       "      <th>1</th>\n",
       "      <td>25.901566</td>\n",
       "      <td>0.494253</td>\n",
       "      <td>0.643678</td>\n",
       "      <td>22.055700</td>\n",
       "    </tr>\n",
       "    <tr>\n",
       "      <th rowspan=\"2\" valign=\"top\">3</th>\n",
       "      <th>0</th>\n",
       "      <td>26.555556</td>\n",
       "      <td>0.672043</td>\n",
       "      <td>0.384409</td>\n",
       "      <td>13.669364</td>\n",
       "    </tr>\n",
       "    <tr>\n",
       "      <th>1</th>\n",
       "      <td>20.646118</td>\n",
       "      <td>0.436975</td>\n",
       "      <td>0.420168</td>\n",
       "      <td>13.694887</td>\n",
       "    </tr>\n",
       "  </tbody>\n",
       "</table>\n",
       "</div>"
      ],
      "text/plain": [
       "                       Age     SibSp     Parch       Fare\n",
       "Pclass Survived                                          \n",
       "1      0         43.695312  0.287500  0.300000  64.684007\n",
       "       1         35.368197  0.492647  0.389706  95.608029\n",
       "2      0         33.544444  0.319588  0.144330  19.412328\n",
       "       1         25.901566  0.494253  0.643678  22.055700\n",
       "3      0         26.555556  0.672043  0.384409  13.669364\n",
       "       1         20.646118  0.436975  0.420168  13.694887"
      ]
     },
     "execution_count": 73,
     "metadata": {},
     "output_type": "execute_result"
    }
   ],
   "source": [
    "train.groupby([\"Pclass\", \"Survived\"]).mean()"
   ]
  },
  {
   "cell_type": "markdown",
   "id": "fe38d98d",
   "metadata": {},
   "source": [
    "- 3등실 승객의 사망/생존자의 요금은 비슷하다\n",
    "- 1등실 승객의 사망/생존자의 요금은 생존자의 요금이 더 비쌌다\n",
    "- 같은 클래스에서는 나이가 어릴수록 생존이 높았다"
   ]
  },
  {
   "cell_type": "markdown",
   "id": "438c511c",
   "metadata": {},
   "source": [
    "## Age 결측치 채우기\n",
    "\n",
    "- 결측치가 있는 데이터의 다른 컬럼의 값과 같은 데이터의 평균값을 사용해서 결측치를 채움\n",
    "\n",
    "- 그럼 어떤 컬럼을 참조할까요 ?\n",
    "  - 결측치가 있는 컬럼(Age)과 상관관계가 높은 컬럼 선택 (범주형)\n",
    "  \n",
    "- 피벗 테이블을 활용   \n",
    "\n",
    "- apply()을 이용하여 전체 데이터에 결측치를 채움\n",
    "  - 데이터프레임의 데이터를 분리해서 원하는 처리를 수행한 후 다시 병합하는 함수 - 재구조화 함수 (reconstruct function)"
   ]
  },
  {
   "cell_type": "code",
   "execution_count": 74,
   "id": "f10c738d",
   "metadata": {},
   "outputs": [
    {
     "data": {
      "text/html": [
       "<div>\n",
       "<style scoped>\n",
       "    .dataframe tbody tr th:only-of-type {\n",
       "        vertical-align: middle;\n",
       "    }\n",
       "\n",
       "    .dataframe tbody tr th {\n",
       "        vertical-align: top;\n",
       "    }\n",
       "\n",
       "    .dataframe thead th {\n",
       "        text-align: right;\n",
       "    }\n",
       "</style>\n",
       "<table border=\"1\" class=\"dataframe\">\n",
       "  <thead>\n",
       "    <tr style=\"text-align: right;\">\n",
       "      <th></th>\n",
       "      <th>Survived</th>\n",
       "      <th>Pclass</th>\n",
       "      <th>Age</th>\n",
       "      <th>SibSp</th>\n",
       "      <th>Parch</th>\n",
       "      <th>Fare</th>\n",
       "    </tr>\n",
       "  </thead>\n",
       "  <tbody>\n",
       "    <tr>\n",
       "      <th>Survived</th>\n",
       "      <td>1.000000</td>\n",
       "      <td>-0.338481</td>\n",
       "      <td>-0.077221</td>\n",
       "      <td>-0.035322</td>\n",
       "      <td>0.081629</td>\n",
       "      <td>0.257307</td>\n",
       "    </tr>\n",
       "    <tr>\n",
       "      <th>Pclass</th>\n",
       "      <td>-0.338481</td>\n",
       "      <td>1.000000</td>\n",
       "      <td>-0.369226</td>\n",
       "      <td>0.083081</td>\n",
       "      <td>0.018443</td>\n",
       "      <td>-0.549500</td>\n",
       "    </tr>\n",
       "    <tr>\n",
       "      <th>Age</th>\n",
       "      <td>-0.077221</td>\n",
       "      <td>-0.369226</td>\n",
       "      <td>1.000000</td>\n",
       "      <td>-0.308247</td>\n",
       "      <td>-0.189119</td>\n",
       "      <td>0.096067</td>\n",
       "    </tr>\n",
       "    <tr>\n",
       "      <th>SibSp</th>\n",
       "      <td>-0.035322</td>\n",
       "      <td>0.083081</td>\n",
       "      <td>-0.308247</td>\n",
       "      <td>1.000000</td>\n",
       "      <td>0.414838</td>\n",
       "      <td>0.159651</td>\n",
       "    </tr>\n",
       "    <tr>\n",
       "      <th>Parch</th>\n",
       "      <td>0.081629</td>\n",
       "      <td>0.018443</td>\n",
       "      <td>-0.189119</td>\n",
       "      <td>0.414838</td>\n",
       "      <td>1.000000</td>\n",
       "      <td>0.216225</td>\n",
       "    </tr>\n",
       "    <tr>\n",
       "      <th>Fare</th>\n",
       "      <td>0.257307</td>\n",
       "      <td>-0.549500</td>\n",
       "      <td>0.096067</td>\n",
       "      <td>0.159651</td>\n",
       "      <td>0.216225</td>\n",
       "      <td>1.000000</td>\n",
       "    </tr>\n",
       "  </tbody>\n",
       "</table>\n",
       "</div>"
      ],
      "text/plain": [
       "          Survived    Pclass       Age     SibSp     Parch      Fare\n",
       "Survived  1.000000 -0.338481 -0.077221 -0.035322  0.081629  0.257307\n",
       "Pclass   -0.338481  1.000000 -0.369226  0.083081  0.018443 -0.549500\n",
       "Age      -0.077221 -0.369226  1.000000 -0.308247 -0.189119  0.096067\n",
       "SibSp    -0.035322  0.083081 -0.308247  1.000000  0.414838  0.159651\n",
       "Parch     0.081629  0.018443 -0.189119  0.414838  1.000000  0.216225\n",
       "Fare      0.257307 -0.549500  0.096067  0.159651  0.216225  1.000000"
      ]
     },
     "execution_count": 74,
     "metadata": {},
     "output_type": "execute_result"
    }
   ],
   "source": [
    "# Age 컬럼과 상관관계가 높은 컬럼 찾기\n",
    "train.corr()"
   ]
  },
  {
   "cell_type": "code",
   "execution_count": 75,
   "id": "7ba8c443",
   "metadata": {},
   "outputs": [
    {
     "data": {
      "text/html": [
       "<div>\n",
       "<style scoped>\n",
       "    .dataframe tbody tr th:only-of-type {\n",
       "        vertical-align: middle;\n",
       "    }\n",
       "\n",
       "    .dataframe tbody tr th {\n",
       "        vertical-align: top;\n",
       "    }\n",
       "\n",
       "    .dataframe thead th {\n",
       "        text-align: right;\n",
       "    }\n",
       "</style>\n",
       "<table border=\"1\" class=\"dataframe\">\n",
       "  <thead>\n",
       "    <tr style=\"text-align: right;\">\n",
       "      <th></th>\n",
       "      <th></th>\n",
       "      <th>Age</th>\n",
       "    </tr>\n",
       "    <tr>\n",
       "      <th>Pclass</th>\n",
       "      <th>Sex</th>\n",
       "      <th></th>\n",
       "    </tr>\n",
       "  </thead>\n",
       "  <tbody>\n",
       "    <tr>\n",
       "      <th rowspan=\"2\" valign=\"top\">1</th>\n",
       "      <th>female</th>\n",
       "      <td>34.611765</td>\n",
       "    </tr>\n",
       "    <tr>\n",
       "      <th>male</th>\n",
       "      <td>41.281386</td>\n",
       "    </tr>\n",
       "    <tr>\n",
       "      <th rowspan=\"2\" valign=\"top\">2</th>\n",
       "      <th>female</th>\n",
       "      <td>28.722973</td>\n",
       "    </tr>\n",
       "    <tr>\n",
       "      <th>male</th>\n",
       "      <td>30.740707</td>\n",
       "    </tr>\n",
       "    <tr>\n",
       "      <th rowspan=\"2\" valign=\"top\">3</th>\n",
       "      <th>female</th>\n",
       "      <td>21.750000</td>\n",
       "    </tr>\n",
       "    <tr>\n",
       "      <th>male</th>\n",
       "      <td>26.507589</td>\n",
       "    </tr>\n",
       "  </tbody>\n",
       "</table>\n",
       "</div>"
      ],
      "text/plain": [
       "                     Age\n",
       "Pclass Sex              \n",
       "1      female  34.611765\n",
       "       male    41.281386\n",
       "2      female  28.722973\n",
       "       male    30.740707\n",
       "3      female  21.750000\n",
       "       male    26.507589"
      ]
     },
     "execution_count": 75,
     "metadata": {},
     "output_type": "execute_result"
    }
   ],
   "source": [
    "# 피벗 테이블 생성\n",
    "# values : 결측치를 채울 컬럼\n",
    "# index : 참고할 컬럼 목록 리스트\n",
    "# aggfunc : 사용할 수학 도구 (평균, 중간값)\n",
    "pt1 = train.pivot_table(values = \"Age\",\n",
    "                        index = [\"Pclass\", \"Sex\"],\n",
    "                        aggfunc = \"mean\")\n",
    "\n",
    "pt1"
   ]
  },
  {
   "cell_type": "code",
   "execution_count": 76,
   "id": "35485f60",
   "metadata": {},
   "outputs": [
    {
     "data": {
      "text/plain": [
       "Age    41.281386\n",
       "Name: (1, male), dtype: float64"
      ]
     },
     "execution_count": 76,
     "metadata": {},
     "output_type": "execute_result"
    }
   ],
   "source": [
    "# 피벗 테이블에 접근하는 방법\n",
    "pt1.loc[1, \"male\"]"
   ]
  },
  {
   "cell_type": "code",
   "execution_count": 77,
   "id": "f4996e16",
   "metadata": {},
   "outputs": [],
   "source": [
    "import numpy as np\n",
    "\n",
    "# Age 컬럼의 결측치를 채우는 함수\n",
    "def fill_age(row) :\n",
    "    # 한 줄 데이터에서 Age 컬럼이 결측치라면\n",
    "    if np.isnan(row[\"Age\"]) :\n",
    "        # 피벗 테이블을 참조 (같은 Pclass와 Sex인 값을 반환)\n",
    "        return pt1.loc[row[\"Pclass\"], row[\"Sex\"]]\n",
    "    # 결측치가 아닌 경우\n",
    "    else :\n",
    "        return row[\"Age\"]        "
   ]
  },
  {
   "cell_type": "code",
   "execution_count": 78,
   "id": "70f108d4",
   "metadata": {},
   "outputs": [],
   "source": [
    "# axis=1 : 한 줄씩 넘긴다\n",
    "# astype(\"int64\") : 나이는 실수가 없으니 정수로 변환\n",
    "train[\"Age\"] = train.apply(fill_age, axis=1).astype(\"int64\")\n",
    "test[\"Age\"] = test.apply(fill_age, axis=1).astype(\"int64\")"
   ]
  },
  {
   "cell_type": "code",
   "execution_count": 79,
   "id": "69c2cca6",
   "metadata": {},
   "outputs": [
    {
     "name": "stdout",
     "output_type": "stream",
     "text": [
      "<class 'pandas.core.frame.DataFrame'>\n",
      "Int64Index: 891 entries, 1 to 891\n",
      "Data columns (total 11 columns):\n",
      " #   Column    Non-Null Count  Dtype  \n",
      "---  ------    --------------  -----  \n",
      " 0   Survived  891 non-null    int64  \n",
      " 1   Pclass    891 non-null    int64  \n",
      " 2   Name      891 non-null    object \n",
      " 3   Sex       891 non-null    object \n",
      " 4   Age       891 non-null    int64  \n",
      " 5   SibSp     891 non-null    int64  \n",
      " 6   Parch     891 non-null    int64  \n",
      " 7   Ticket    891 non-null    object \n",
      " 8   Fare      891 non-null    float64\n",
      " 9   Cabin     204 non-null    object \n",
      " 10  Embarked  889 non-null    object \n",
      "dtypes: float64(1), int64(5), object(5)\n",
      "memory usage: 83.5+ KB\n"
     ]
    }
   ],
   "source": [
    "train.info()"
   ]
  },
  {
   "cell_type": "code",
   "execution_count": 80,
   "id": "620e0e6f",
   "metadata": {},
   "outputs": [
    {
     "name": "stdout",
     "output_type": "stream",
     "text": [
      "<class 'pandas.core.frame.DataFrame'>\n",
      "Int64Index: 418 entries, 892 to 1309\n",
      "Data columns (total 10 columns):\n",
      " #   Column    Non-Null Count  Dtype  \n",
      "---  ------    --------------  -----  \n",
      " 0   Pclass    418 non-null    int64  \n",
      " 1   Name      418 non-null    object \n",
      " 2   Sex       418 non-null    object \n",
      " 3   Age       418 non-null    int64  \n",
      " 4   SibSp     418 non-null    int64  \n",
      " 5   Parch     418 non-null    int64  \n",
      " 6   Ticket    418 non-null    object \n",
      " 7   Fare      417 non-null    float64\n",
      " 8   Cabin     91 non-null     object \n",
      " 9   Embarked  418 non-null    object \n",
      "dtypes: float64(1), int64(4), object(5)\n",
      "memory usage: 35.9+ KB\n"
     ]
    }
   ],
   "source": [
    "test.info()"
   ]
  },
  {
   "cell_type": "markdown",
   "id": "abe70a77",
   "metadata": {},
   "source": [
    "## train 데이터의 Embarked 결측치 채우기"
   ]
  },
  {
   "cell_type": "code",
   "execution_count": 81,
   "id": "a863ed78",
   "metadata": {},
   "outputs": [
    {
     "data": {
      "text/plain": [
       "S    644\n",
       "C    168\n",
       "Q     77\n",
       "Name: Embarked, dtype: int64"
      ]
     },
     "execution_count": 81,
     "metadata": {},
     "output_type": "execute_result"
    }
   ],
   "source": [
    "# 가장 많은 데이터수를 갖는 클래스(S)로 결측치를 할당\n",
    "train[\"Embarked\"].value_counts()"
   ]
  },
  {
   "cell_type": "code",
   "execution_count": 82,
   "id": "7d70c7fd",
   "metadata": {},
   "outputs": [],
   "source": [
    "# Embarked 컬럼이 결측치인 값을 S로 채운다\n",
    "train[\"Embarked\"] = train[\"Embarked\"].fillna(\"S\")"
   ]
  },
  {
   "cell_type": "code",
   "execution_count": 83,
   "id": "7ee75cae",
   "metadata": {},
   "outputs": [
    {
     "name": "stdout",
     "output_type": "stream",
     "text": [
      "<class 'pandas.core.frame.DataFrame'>\n",
      "Int64Index: 891 entries, 1 to 891\n",
      "Data columns (total 11 columns):\n",
      " #   Column    Non-Null Count  Dtype  \n",
      "---  ------    --------------  -----  \n",
      " 0   Survived  891 non-null    int64  \n",
      " 1   Pclass    891 non-null    int64  \n",
      " 2   Name      891 non-null    object \n",
      " 3   Sex       891 non-null    object \n",
      " 4   Age       891 non-null    int64  \n",
      " 5   SibSp     891 non-null    int64  \n",
      " 6   Parch     891 non-null    int64  \n",
      " 7   Ticket    891 non-null    object \n",
      " 8   Fare      891 non-null    float64\n",
      " 9   Cabin     204 non-null    object \n",
      " 10  Embarked  891 non-null    object \n",
      "dtypes: float64(1), int64(5), object(5)\n",
      "memory usage: 83.5+ KB\n"
     ]
    }
   ],
   "source": [
    "train.info()"
   ]
  },
  {
   "cell_type": "markdown",
   "id": "430e5140",
   "metadata": {},
   "source": [
    "## test 데이터의 Fare 결측치 채우기"
   ]
  },
  {
   "cell_type": "code",
   "execution_count": 84,
   "id": "dd4b0ff3",
   "metadata": {},
   "outputs": [
    {
     "name": "stdout",
     "output_type": "stream",
     "text": [
      "<class 'pandas.core.frame.DataFrame'>\n",
      "Int64Index: 418 entries, 892 to 1309\n",
      "Data columns (total 10 columns):\n",
      " #   Column    Non-Null Count  Dtype  \n",
      "---  ------    --------------  -----  \n",
      " 0   Pclass    418 non-null    int64  \n",
      " 1   Name      418 non-null    object \n",
      " 2   Sex       418 non-null    object \n",
      " 3   Age       418 non-null    int64  \n",
      " 4   SibSp     418 non-null    int64  \n",
      " 5   Parch     418 non-null    int64  \n",
      " 6   Ticket    418 non-null    object \n",
      " 7   Fare      417 non-null    float64\n",
      " 8   Cabin     91 non-null     object \n",
      " 9   Embarked  418 non-null    object \n",
      "dtypes: float64(1), int64(4), object(5)\n",
      "memory usage: 35.9+ KB\n"
     ]
    }
   ],
   "source": [
    "test.info()"
   ]
  },
  {
   "cell_type": "code",
   "execution_count": 85,
   "id": "4054dd27",
   "metadata": {},
   "outputs": [
    {
     "data": {
      "text/html": [
       "<div>\n",
       "<style scoped>\n",
       "    .dataframe tbody tr th:only-of-type {\n",
       "        vertical-align: middle;\n",
       "    }\n",
       "\n",
       "    .dataframe tbody tr th {\n",
       "        vertical-align: top;\n",
       "    }\n",
       "\n",
       "    .dataframe thead th {\n",
       "        text-align: right;\n",
       "    }\n",
       "</style>\n",
       "<table border=\"1\" class=\"dataframe\">\n",
       "  <thead>\n",
       "    <tr style=\"text-align: right;\">\n",
       "      <th></th>\n",
       "      <th>Pclass</th>\n",
       "      <th>Name</th>\n",
       "      <th>Sex</th>\n",
       "      <th>Age</th>\n",
       "      <th>SibSp</th>\n",
       "      <th>Parch</th>\n",
       "      <th>Ticket</th>\n",
       "      <th>Fare</th>\n",
       "      <th>Cabin</th>\n",
       "      <th>Embarked</th>\n",
       "    </tr>\n",
       "    <tr>\n",
       "      <th>PassengerId</th>\n",
       "      <th></th>\n",
       "      <th></th>\n",
       "      <th></th>\n",
       "      <th></th>\n",
       "      <th></th>\n",
       "      <th></th>\n",
       "      <th></th>\n",
       "      <th></th>\n",
       "      <th></th>\n",
       "      <th></th>\n",
       "    </tr>\n",
       "  </thead>\n",
       "  <tbody>\n",
       "    <tr>\n",
       "      <th>1044</th>\n",
       "      <td>3</td>\n",
       "      <td>Storey, Mr. Thomas</td>\n",
       "      <td>male</td>\n",
       "      <td>60</td>\n",
       "      <td>0</td>\n",
       "      <td>0</td>\n",
       "      <td>3701</td>\n",
       "      <td>NaN</td>\n",
       "      <td>NaN</td>\n",
       "      <td>S</td>\n",
       "    </tr>\n",
       "  </tbody>\n",
       "</table>\n",
       "</div>"
      ],
      "text/plain": [
       "             Pclass                Name   Sex  Age  SibSp  Parch Ticket  Fare  \\\n",
       "PassengerId                                                                     \n",
       "1044              3  Storey, Mr. Thomas  male   60      0      0   3701   NaN   \n",
       "\n",
       "            Cabin Embarked  \n",
       "PassengerId                 \n",
       "1044          NaN        S  "
      ]
     },
     "execution_count": 85,
     "metadata": {},
     "output_type": "execute_result"
    }
   ],
   "source": [
    "# 결측치가 있는 데이터를 확인\n",
    "test[test[\"Fare\"].isnull()]"
   ]
  },
  {
   "cell_type": "code",
   "execution_count": 86,
   "id": "8e8b7541",
   "metadata": {},
   "outputs": [
    {
     "data": {
      "text/html": [
       "<div>\n",
       "<style scoped>\n",
       "    .dataframe tbody tr th:only-of-type {\n",
       "        vertical-align: middle;\n",
       "    }\n",
       "\n",
       "    .dataframe tbody tr th {\n",
       "        vertical-align: top;\n",
       "    }\n",
       "\n",
       "    .dataframe thead th {\n",
       "        text-align: right;\n",
       "    }\n",
       "</style>\n",
       "<table border=\"1\" class=\"dataframe\">\n",
       "  <thead>\n",
       "    <tr style=\"text-align: right;\">\n",
       "      <th></th>\n",
       "      <th></th>\n",
       "      <th>Fare</th>\n",
       "    </tr>\n",
       "    <tr>\n",
       "      <th>Pclass</th>\n",
       "      <th>Embarked</th>\n",
       "      <th></th>\n",
       "    </tr>\n",
       "  </thead>\n",
       "  <tbody>\n",
       "    <tr>\n",
       "      <th rowspan=\"3\" valign=\"top\">1</th>\n",
       "      <th>C</th>\n",
       "      <td>110.073511</td>\n",
       "    </tr>\n",
       "    <tr>\n",
       "      <th>Q</th>\n",
       "      <td>90.000000</td>\n",
       "    </tr>\n",
       "    <tr>\n",
       "      <th>S</th>\n",
       "      <td>76.677504</td>\n",
       "    </tr>\n",
       "    <tr>\n",
       "      <th rowspan=\"3\" valign=\"top\">2</th>\n",
       "      <th>C</th>\n",
       "      <td>20.120445</td>\n",
       "    </tr>\n",
       "    <tr>\n",
       "      <th>Q</th>\n",
       "      <td>11.273950</td>\n",
       "    </tr>\n",
       "    <tr>\n",
       "      <th>S</th>\n",
       "      <td>23.056090</td>\n",
       "    </tr>\n",
       "    <tr>\n",
       "      <th rowspan=\"3\" valign=\"top\">3</th>\n",
       "      <th>C</th>\n",
       "      <td>10.658700</td>\n",
       "    </tr>\n",
       "    <tr>\n",
       "      <th>Q</th>\n",
       "      <td>8.998985</td>\n",
       "    </tr>\n",
       "    <tr>\n",
       "      <th>S</th>\n",
       "      <td>13.913030</td>\n",
       "    </tr>\n",
       "  </tbody>\n",
       "</table>\n",
       "</div>"
      ],
      "text/plain": [
       "                       Fare\n",
       "Pclass Embarked            \n",
       "1      C         110.073511\n",
       "       Q          90.000000\n",
       "       S          76.677504\n",
       "2      C          20.120445\n",
       "       Q          11.273950\n",
       "       S          23.056090\n",
       "3      C          10.658700\n",
       "       Q           8.998985\n",
       "       S          13.913030"
      ]
     },
     "execution_count": 86,
     "metadata": {},
     "output_type": "execute_result"
    }
   ],
   "source": [
    "pt2 = test.pivot_table(values = \"Fare\",\n",
    "                        index = [\"Pclass\", \"Embarked\"],\n",
    "                        aggfunc = \"mean\")\n",
    "\n",
    "pt2"
   ]
  },
  {
   "cell_type": "code",
   "execution_count": 87,
   "id": "8d8cb20c",
   "metadata": {},
   "outputs": [
    {
     "data": {
      "text/html": [
       "<div>\n",
       "<style scoped>\n",
       "    .dataframe tbody tr th:only-of-type {\n",
       "        vertical-align: middle;\n",
       "    }\n",
       "\n",
       "    .dataframe tbody tr th {\n",
       "        vertical-align: top;\n",
       "    }\n",
       "\n",
       "    .dataframe thead th {\n",
       "        text-align: right;\n",
       "    }\n",
       "</style>\n",
       "<table border=\"1\" class=\"dataframe\">\n",
       "  <thead>\n",
       "    <tr style=\"text-align: right;\">\n",
       "      <th></th>\n",
       "      <th>Pclass</th>\n",
       "      <th>Name</th>\n",
       "      <th>Sex</th>\n",
       "      <th>Age</th>\n",
       "      <th>SibSp</th>\n",
       "      <th>Parch</th>\n",
       "      <th>Ticket</th>\n",
       "      <th>Fare</th>\n",
       "      <th>Cabin</th>\n",
       "      <th>Embarked</th>\n",
       "    </tr>\n",
       "    <tr>\n",
       "      <th>PassengerId</th>\n",
       "      <th></th>\n",
       "      <th></th>\n",
       "      <th></th>\n",
       "      <th></th>\n",
       "      <th></th>\n",
       "      <th></th>\n",
       "      <th></th>\n",
       "      <th></th>\n",
       "      <th></th>\n",
       "      <th></th>\n",
       "    </tr>\n",
       "  </thead>\n",
       "  <tbody>\n",
       "    <tr>\n",
       "      <th>1044</th>\n",
       "      <td>3</td>\n",
       "      <td>Storey, Mr. Thomas</td>\n",
       "      <td>male</td>\n",
       "      <td>60</td>\n",
       "      <td>0</td>\n",
       "      <td>0</td>\n",
       "      <td>3701</td>\n",
       "      <td>NaN</td>\n",
       "      <td>NaN</td>\n",
       "      <td>S</td>\n",
       "    </tr>\n",
       "  </tbody>\n",
       "</table>\n",
       "</div>"
      ],
      "text/plain": [
       "             Pclass                Name   Sex  Age  SibSp  Parch Ticket  Fare  \\\n",
       "PassengerId                                                                     \n",
       "1044              3  Storey, Mr. Thomas  male   60      0      0   3701   NaN   \n",
       "\n",
       "            Cabin Embarked  \n",
       "PassengerId                 \n",
       "1044          NaN        S  "
      ]
     },
     "execution_count": 87,
     "metadata": {},
     "output_type": "execute_result"
    }
   ],
   "source": [
    "test[test[\"Fare\"].isnull()]"
   ]
  },
  {
   "cell_type": "code",
   "execution_count": 88,
   "id": "a5519ba2",
   "metadata": {},
   "outputs": [],
   "source": [
    "test[\"Fare\"] = test[\"Fare\"].fillna(float(pt2.loc[3, \"S\"]))"
   ]
  },
  {
   "cell_type": "code",
   "execution_count": 89,
   "id": "c0ca2dd8",
   "metadata": {},
   "outputs": [
    {
     "name": "stdout",
     "output_type": "stream",
     "text": [
      "<class 'pandas.core.frame.DataFrame'>\n",
      "Int64Index: 418 entries, 892 to 1309\n",
      "Data columns (total 10 columns):\n",
      " #   Column    Non-Null Count  Dtype  \n",
      "---  ------    --------------  -----  \n",
      " 0   Pclass    418 non-null    int64  \n",
      " 1   Name      418 non-null    object \n",
      " 2   Sex       418 non-null    object \n",
      " 3   Age       418 non-null    int64  \n",
      " 4   SibSp     418 non-null    int64  \n",
      " 5   Parch     418 non-null    int64  \n",
      " 6   Ticket    418 non-null    object \n",
      " 7   Fare      418 non-null    float64\n",
      " 8   Cabin     91 non-null     object \n",
      " 9   Embarked  418 non-null    object \n",
      "dtypes: float64(1), int64(4), object(5)\n",
      "memory usage: 35.9+ KB\n"
     ]
    }
   ],
   "source": [
    "test.info()"
   ]
  },
  {
   "cell_type": "markdown",
   "id": "9be1de48",
   "metadata": {},
   "source": [
    "## Cabin 결측치 채우기\n",
    "- 결측치가 실제 객실이 없는 승객이었을 가능성이 있으므로 원래값에 중복되지 않는 영문자 채움\n",
    "- 원래 객실번호의 첫번째 영문자 추출"
   ]
  },
  {
   "cell_type": "code",
   "execution_count": 90,
   "id": "e1b6dd83",
   "metadata": {},
   "outputs": [
    {
     "data": {
      "text/plain": [
       "array([nan, 'C85', 'C123', 'E46', 'G6', 'C103', 'D56', 'A6',\n",
       "       'C23 C25 C27', 'B78', 'D33', 'B30', 'C52', 'B28', 'C83', 'F33',\n",
       "       'F G73', 'E31', 'A5', 'D10 D12', 'D26', 'C110', 'B58 B60', 'E101',\n",
       "       'F E69', 'D47', 'B86', 'F2', 'C2', 'E33', 'B19', 'A7', 'C49', 'F4',\n",
       "       'A32', 'B4', 'B80', 'A31', 'D36', 'D15', 'C93', 'C78', 'D35',\n",
       "       'C87', 'B77', 'E67', 'B94', 'C125', 'C99', 'C118', 'D7', 'A19',\n",
       "       'B49', 'D', 'C22 C26', 'C106', 'C65', 'E36', 'C54',\n",
       "       'B57 B59 B63 B66', 'C7', 'E34', 'C32', 'B18', 'C124', 'C91', 'E40',\n",
       "       'T', 'C128', 'D37', 'B35', 'E50', 'C82', 'B96 B98', 'E10', 'E44',\n",
       "       'A34', 'C104', 'C111', 'C92', 'E38', 'D21', 'E12', 'E63', 'A14',\n",
       "       'B37', 'C30', 'D20', 'B79', 'E25', 'D46', 'B73', 'C95', 'B38',\n",
       "       'B39', 'B22', 'C86', 'C70', 'A16', 'C101', 'C68', 'A10', 'E68',\n",
       "       'B41', 'A20', 'D19', 'D50', 'D9', 'A23', 'B50', 'A26', 'D48',\n",
       "       'E58', 'C126', 'B71', 'B51 B53 B55', 'D49', 'B5', 'B20', 'F G63',\n",
       "       'C62 C64', 'E24', 'C90', 'C45', 'E8', 'B101', 'D45', 'C46', 'D30',\n",
       "       'E121', 'D11', 'E77', 'F38', 'B3', 'D6', 'B82 B84', 'D17', 'A36',\n",
       "       'B102', 'B69', 'E49', 'C47', 'D28', 'E17', 'A24', 'C50', 'B42',\n",
       "       'C148'], dtype=object)"
      ]
     },
     "execution_count": 90,
     "metadata": {},
     "output_type": "execute_result"
    }
   ],
   "source": [
    "train[\"Cabin\"].unique()"
   ]
  },
  {
   "cell_type": "code",
   "execution_count": 91,
   "id": "59da6650",
   "metadata": {},
   "outputs": [],
   "source": [
    "# 결측치를 M으로 채움\n",
    "train[\"Cabin\"] = train[\"Cabin\"].fillna(\"M\")\n",
    "test[\"Cabin\"] = test[\"Cabin\"].fillna(\"M\")"
   ]
  },
  {
   "cell_type": "code",
   "execution_count": 92,
   "id": "3bad763f",
   "metadata": {},
   "outputs": [
    {
     "name": "stdout",
     "output_type": "stream",
     "text": [
      "<class 'pandas.core.frame.DataFrame'>\n",
      "Int64Index: 891 entries, 1 to 891\n",
      "Data columns (total 11 columns):\n",
      " #   Column    Non-Null Count  Dtype  \n",
      "---  ------    --------------  -----  \n",
      " 0   Survived  891 non-null    int64  \n",
      " 1   Pclass    891 non-null    int64  \n",
      " 2   Name      891 non-null    object \n",
      " 3   Sex       891 non-null    object \n",
      " 4   Age       891 non-null    int64  \n",
      " 5   SibSp     891 non-null    int64  \n",
      " 6   Parch     891 non-null    int64  \n",
      " 7   Ticket    891 non-null    object \n",
      " 8   Fare      891 non-null    float64\n",
      " 9   Cabin     891 non-null    object \n",
      " 10  Embarked  891 non-null    object \n",
      "dtypes: float64(1), int64(5), object(5)\n",
      "memory usage: 83.5+ KB\n"
     ]
    }
   ],
   "source": [
    "train.info()"
   ]
  },
  {
   "cell_type": "code",
   "execution_count": 93,
   "id": "5aac5c46",
   "metadata": {},
   "outputs": [
    {
     "name": "stdout",
     "output_type": "stream",
     "text": [
      "<class 'pandas.core.frame.DataFrame'>\n",
      "Int64Index: 418 entries, 892 to 1309\n",
      "Data columns (total 10 columns):\n",
      " #   Column    Non-Null Count  Dtype  \n",
      "---  ------    --------------  -----  \n",
      " 0   Pclass    418 non-null    int64  \n",
      " 1   Name      418 non-null    object \n",
      " 2   Sex       418 non-null    object \n",
      " 3   Age       418 non-null    int64  \n",
      " 4   SibSp     418 non-null    int64  \n",
      " 5   Parch     418 non-null    int64  \n",
      " 6   Ticket    418 non-null    object \n",
      " 7   Fare      418 non-null    float64\n",
      " 8   Cabin     418 non-null    object \n",
      " 9   Embarked  418 non-null    object \n",
      "dtypes: float64(1), int64(4), object(5)\n",
      "memory usage: 35.9+ KB\n"
     ]
    }
   ],
   "source": [
    "test.info()"
   ]
  },
  {
   "cell_type": "code",
   "execution_count": 94,
   "id": "03ca8a8b",
   "metadata": {},
   "outputs": [],
   "source": [
    "# 원래 객실번호의 첫번째 영문자 추출\n",
    "train[\"Cabin\"] = train[\"Cabin\"].str[0]\n",
    "test[\"Cabin\"] = test[\"Cabin\"].str[0]"
   ]
  },
  {
   "cell_type": "code",
   "execution_count": 95,
   "id": "10c9f0d4",
   "metadata": {},
   "outputs": [
    {
     "data": {
      "text/plain": [
       "array(['M', 'C', 'E', 'G', 'D', 'A', 'B', 'F', 'T'], dtype=object)"
      ]
     },
     "execution_count": 95,
     "metadata": {},
     "output_type": "execute_result"
    }
   ],
   "source": [
    "train[\"Cabin\"].unique()"
   ]
  },
  {
   "cell_type": "markdown",
   "id": "445417d6",
   "metadata": {},
   "source": [
    "## 데이터 시각화 하기 ^^\n",
    "- test데이터를 활용하지 않고 train데이터를 이용해서 시각화/탐색하는게 좋다."
   ]
  },
  {
   "cell_type": "markdown",
   "id": "479838e3",
   "metadata": {},
   "source": [
    "### 범주형 데이터 시각화\n",
    "- 빈도기반의 bar chart를 많이 활용"
   ]
  },
  {
   "cell_type": "code",
   "execution_count": 96,
   "id": "4e89c5a4",
   "metadata": {},
   "outputs": [],
   "source": [
    "# matplotlib기반의 데이터 시각화 라이브러리\n",
    "import seaborn as sns"
   ]
  },
  {
   "cell_type": "markdown",
   "id": "b2986a1f",
   "metadata": {},
   "source": [
    "#### Cabin 시각화"
   ]
  },
  {
   "cell_type": "code",
   "execution_count": 97,
   "id": "60908b92",
   "metadata": {},
   "outputs": [
    {
     "data": {
      "text/plain": [
       "<AxesSubplot:xlabel='Cabin', ylabel='count'>"
      ]
     },
     "execution_count": 97,
     "metadata": {},
     "output_type": "execute_result"
    },
    {
     "data": {
      "image/png": "[encoded data removed]",
      "text/plain": [
       "<Figure size 432x288 with 1 Axes>"
      ]
     },
     "metadata": {
      "needs_background": "light"
     },
     "output_type": "display_data"
    }
   ],
   "source": [
    "sns.countplot(data=train, # 사용할 데이터 지정\n",
    "              x = 'Cabin', # x축에서 범주로 사용할 컬럼 지정\n",
    "             hue = 'Survived') # 각 범주를 분리할 컬럼 지정"
   ]
  },
  {
   "cell_type": "markdown",
   "id": "0b96370e",
   "metadata": {},
   "source": [
    "- B,D 같은 경우는 살아남기에 괜찮은 객실일 수 있다.\n",
    "- M 같은 경우는 죽은사람들의 비율이 엄청 높다."
   ]
  },
  {
   "cell_type": "markdown",
   "id": "67d9c6da",
   "metadata": {},
   "source": [
    "#### Pclass 시각화"
   ]
  },
  {
   "cell_type": "code",
   "execution_count": 98,
   "id": "0b735aa1",
   "metadata": {},
   "outputs": [
    {
     "data": {
      "text/plain": [
       "<AxesSubplot:xlabel='Pclass', ylabel='count'>"
      ]
     },
     "execution_count": 98,
     "metadata": {},
     "output_type": "execute_result"
    },
    {
     "data": {
      "image/png": "[encoded data removed]",
      "text/plain": [
       "<Figure size 432x288 with 1 Axes>"
      ]
     },
     "metadata": {
      "needs_background": "light"
     },
     "output_type": "display_data"
    }
   ],
   "source": [
    "sns.countplot(data=train, # 사용할 데이터 지정\n",
    "              x = 'Pclass', # x축에서 범주로 사용할 컬럼 지정\n",
    "             hue = 'Survived') # 각 범주를 분리할 컬럼 지정"
   ]
  },
  {
   "cell_type": "markdown",
   "id": "64f3ac5b",
   "metadata": {},
   "source": [
    "- 1등급은 산사람의 비율이 좀 더 높고, 3등급은 죽은사람의 비율이 좀 더 높다."
   ]
  },
  {
   "cell_type": "markdown",
   "id": "a633669f",
   "metadata": {},
   "source": [
    "#### Cabin & Pclass 시각화"
   ]
  },
  {
   "cell_type": "code",
   "execution_count": 99,
   "id": "1becdddc",
   "metadata": {},
   "outputs": [
    {
     "data": {
      "text/plain": [
       "<AxesSubplot:xlabel='Cabin', ylabel='count'>"
      ]
     },
     "execution_count": 99,
     "metadata": {},
     "output_type": "execute_result"
    },
    {
     "data": {
      "image/png": "[encoded data removed]",
      "text/plain": [
       "<Figure size 432x288 with 1 Axes>"
      ]
     },
     "metadata": {
      "needs_background": "light"
     },
     "output_type": "display_data"
    }
   ],
   "source": [
    "sns.countplot(data=train, # 사용할 데이터 지정\n",
    "              x = 'Cabin', # x축에서 범주로 사용할 컬럼 지정\n",
    "             hue = 'Pclass') # 각 범주를 분리할 컬럼 지정"
   ]
  },
  {
   "cell_type": "markdown",
   "id": "307510ae",
   "metadata": {},
   "source": [
    "- M에는 3등급이 많이 있어서 죽은사람의 비율이 높아보인거 같다.\n",
    "- M이 생존여부 판단에는 도움이 덜 될 수 있겠다."
   ]
  },
  {
   "cell_type": "markdown",
   "id": "472ef3ff",
   "metadata": {},
   "source": [
    "### 수치형 데이터 시각화\n",
    "- 구간을 나눠서 종합하는 히스토그램\n",
    "- 커널밀도 추정 그래프"
   ]
  },
  {
   "cell_type": "markdown",
   "id": "d55f2f50",
   "metadata": {},
   "source": [
    "#### matplotlib hist 함수"
   ]
  },
  {
   "cell_type": "code",
   "execution_count": 100,
   "id": "e46aa9bb",
   "metadata": {},
   "outputs": [],
   "source": [
    "import matplotlib.pyplot as plt"
   ]
  },
  {
   "cell_type": "code",
   "execution_count": 101,
   "id": "52ec4190",
   "metadata": {},
   "outputs": [
    {
     "data": {
      "image/png": "[encoded data removed]",
      "text/plain": [
       "<Figure size 432x288 with 1 Axes>"
      ]
     },
     "metadata": {
      "needs_background": "light"
     },
     "output_type": "display_data"
    }
   ],
   "source": [
    "plt.hist(train['Age'], bins= 10)\n",
    "plt.show()"
   ]
  },
  {
   "cell_type": "markdown",
   "id": "5a44d481",
   "metadata": {},
   "source": [
    "#### seaborn histplot 함수"
   ]
  },
  {
   "cell_type": "code",
   "execution_count": 102,
   "id": "86dad87f",
   "metadata": {},
   "outputs": [
    {
     "data": {
      "text/plain": [
       "<AxesSubplot:xlabel='Age', ylabel='Count'>"
      ]
     },
     "execution_count": 102,
     "metadata": {},
     "output_type": "execute_result"
    },
    {
     "data": {
      "image/png": "[encoded data removed]",
      "text/plain": [
       "<Figure size 432x288 with 1 Axes>"
      ]
     },
     "metadata": {
      "needs_background": "light"
     },
     "output_type": "display_data"
    }
   ],
   "source": [
    "sns.histplot(data=train, x=train['Age'], bins=20, hue='Survived')"
   ]
  },
  {
   "cell_type": "markdown",
   "id": "5226c55c",
   "metadata": {},
   "source": [
    "- 20대 중~후반의 사람들이 죽은 비율이 높다.\n",
    "- 10살 미만의 사람들이 산 비율이 약간 높다."
   ]
  },
  {
   "cell_type": "markdown",
   "id": "a84e3feb",
   "metadata": {},
   "source": [
    "#### 커널밀도추정 그래프 시각화"
   ]
  },
  {
   "cell_type": "code",
   "execution_count": 103,
   "id": "3377a1af",
   "metadata": {},
   "outputs": [
    {
     "data": {
      "text/plain": [
       "<AxesSubplot:xlabel='Fare', ylabel='Density'>"
      ]
     },
     "execution_count": 103,
     "metadata": {},
     "output_type": "execute_result"
    },
    {
     "data": {
      "image/png": "[encoded data removed]",
      "text/plain": [
       "<Figure size 432x288 with 1 Axes>"
      ]
     },
     "metadata": {
      "needs_background": "light"
     },
     "output_type": "display_data"
    }
   ],
   "source": [
    "# 요금 데이터 시각화\n",
    "sns.kdeplot(data=train, x=train['Fare'], hue='Survived')"
   ]
  },
  {
   "cell_type": "markdown",
   "id": "e34fa084",
   "metadata": {},
   "source": [
    "- 0~40달러 사이의 사람은 죽은 사람의 밀도가 높다.\n",
    "- 200달러 이상의 사람은 산 사람의 밀도가 아주 살짝 높다."
   ]
  },
  {
   "cell_type": "markdown",
   "id": "7986e581",
   "metadata": {},
   "source": [
    "#### 바이올린플롯 그래프 시각화\n",
    "- 박스 + KDE 그래프"
   ]
  },
  {
   "cell_type": "code",
   "execution_count": 104,
   "id": "913e5dc3",
   "metadata": {},
   "outputs": [
    {
     "data": {
      "text/plain": [
       "<AxesSubplot:xlabel='Sex', ylabel='Age'>"
      ]
     },
     "execution_count": 104,
     "metadata": {},
     "output_type": "execute_result"
    },
    {
     "data": {
      "image/png": "[encoded data removed]",
      "text/plain": [
       "<Figure size 1080x360 with 1 Axes>"
      ]
     },
     "metadata": {
      "needs_background": "light"
     },
     "output_type": "display_data"
    }
   ],
   "source": [
    "plt.figure(figsize=(15,5)) # 그림의 가로,세로 크기 설정\n",
    "sns.violinplot(data=train, # 사용할 데이터\n",
    "              x ='Sex',\n",
    "              y ='Age',\n",
    "              hue='Survived',\n",
    "              split=True)"
   ]
  },
  {
   "cell_type": "markdown",
   "id": "7967dab2",
   "metadata": {},
   "source": [
    "### 텍스트 데이터\n",
    "- 비정형 데이터는 단어중심 시각화\n",
    "- wordcloud\n",
    "- 빈도기반의 시각화 활용가능"
   ]
  },
  {
   "cell_type": "markdown",
   "id": "fad19121",
   "metadata": {},
   "source": [
    "# 특성공학\n",
    "- feature에서 유의미한 컬럼을 추출하거나 병합하는 행위"
   ]
  },
  {
   "cell_type": "code",
   "execution_count": 105,
   "id": "d959ac90",
   "metadata": {},
   "outputs": [
    {
     "data": {
      "text/plain": [
       "Index(['Survived', 'Pclass', 'Name', 'Sex', 'Age', 'SibSp', 'Parch', 'Ticket',\n",
       "       'Fare', 'Cabin', 'Embarked'],\n",
       "      dtype='object')"
      ]
     },
     "execution_count": 105,
     "metadata": {},
     "output_type": "execute_result"
    }
   ],
   "source": [
    "train.columns"
   ]
  },
  {
   "cell_type": "markdown",
   "id": "7a107367",
   "metadata": {},
   "source": [
    "## 가족 컬럼을 만들보자.\n",
    "- SibSp와 Parch를 병합하자"
   ]
  },
  {
   "cell_type": "code",
   "execution_count": 106,
   "id": "2407c497",
   "metadata": {},
   "outputs": [
    {
     "data": {
      "text/plain": [
       "<AxesSubplot:xlabel='SibSp', ylabel='count'>"
      ]
     },
     "execution_count": 106,
     "metadata": {},
     "output_type": "execute_result"
    },
    {
     "data": {
      "image/png": "[encoded data removed]",
      "text/plain": [
       "<Figure size 432x288 with 1 Axes>"
      ]
     },
     "metadata": {
      "needs_background": "light"
     },
     "output_type": "display_data"
    }
   ],
   "source": [
    "sns.countplot(data=train,\n",
    "             x='SibSp',\n",
    "             hue='Survived')"
   ]
  },
  {
   "cell_type": "code",
   "execution_count": 107,
   "id": "4e3f05a2",
   "metadata": {},
   "outputs": [
    {
     "data": {
      "text/plain": [
       "<AxesSubplot:xlabel='Parch', ylabel='count'>"
      ]
     },
     "execution_count": 107,
     "metadata": {},
     "output_type": "execute_result"
    },
    {
     "data": {
      "image/png": "[encoded data removed]",
      "text/plain": [
       "<Figure size 432x288 with 1 Axes>"
      ]
     },
     "metadata": {
      "needs_background": "light"
     },
     "output_type": "display_data"
    }
   ],
   "source": [
    "sns.countplot(data=train,\n",
    "             x='Parch',\n",
    "             hue='Survived')"
   ]
  },
  {
   "cell_type": "code",
   "execution_count": 108,
   "id": "3de4e279",
   "metadata": {},
   "outputs": [],
   "source": [
    "# 형제,배우자,부모,자식을 모두 합쳐 가족이라는 새로운 컬럼생성\n",
    "train['Family'] = train['SibSp'] + train['Parch']"
   ]
  },
  {
   "cell_type": "code",
   "execution_count": 109,
   "id": "d95c6cee",
   "metadata": {
    "scrolled": true
   },
   "outputs": [
    {
     "data": {
      "text/plain": [
       "<AxesSubplot:xlabel='Family', ylabel='count'>"
      ]
     },
     "execution_count": 109,
     "metadata": {},
     "output_type": "execute_result"
    },
    {
     "data": {
      "image/png": "[encoded data removed]",
      "text/plain": [
       "<Figure size 432x288 with 1 Axes>"
      ]
     },
     "metadata": {
      "needs_background": "light"
     },
     "output_type": "display_data"
    }
   ],
   "source": [
    "sns.countplot(data=train,\n",
    "             x='Family',\n",
    "             hue='Survived')"
   ]
  },
  {
   "cell_type": "markdown",
   "id": "4659f730",
   "metadata": {},
   "source": [
    "### Cut함수를 이용한 Binning(수치 -> 범주)\n",
    "- 사소한 관찰 오류를 줄여줄 수 있다.(모델의 단순화를 유도)"
   ]
  },
  {
   "cell_type": "code",
   "execution_count": 110,
   "id": "4daf31fd",
   "metadata": {},
   "outputs": [],
   "source": [
    "bins = [-1,0,3,20] # 데이터를 잘라낼 구간정보 설정\n",
    "labels = ['Alone','Small','Large'] #구간별 범주 이름\n",
    "cut_result = pd.cut(x=train['Family'], # 구간화할 데이터 설정\n",
    "                   bins=bins, # 잘라낼 구간정보 설정\n",
    "                   labels=labels) # 구간별 범주 이름 설정"
   ]
  },
  {
   "cell_type": "code",
   "execution_count": 111,
   "id": "0a296cd5",
   "metadata": {},
   "outputs": [
    {
     "data": {
      "text/plain": [
       "PassengerId\n",
       "1      Small\n",
       "2      Small\n",
       "3      Alone\n",
       "4      Small\n",
       "5      Alone\n",
       "       ...  \n",
       "887    Alone\n",
       "888    Alone\n",
       "889    Small\n",
       "890    Alone\n",
       "891    Alone\n",
       "Name: Family, Length: 891, dtype: category\n",
       "Categories (3, object): ['Alone' < 'Small' < 'Large']"
      ]
     },
     "execution_count": 111,
     "metadata": {},
     "output_type": "execute_result"
    }
   ],
   "source": [
    "cut_result"
   ]
  },
  {
   "cell_type": "code",
   "execution_count": 112,
   "id": "01367931",
   "metadata": {},
   "outputs": [],
   "source": [
    "train['Family_cat'] = cut_result"
   ]
  },
  {
   "cell_type": "code",
   "execution_count": 113,
   "id": "0d08aff1",
   "metadata": {},
   "outputs": [
    {
     "data": {
      "text/plain": [
       "<AxesSubplot:xlabel='Family_cat', ylabel='count'>"
      ]
     },
     "execution_count": 113,
     "metadata": {},
     "output_type": "execute_result"
    },
    {
     "data": {
      "image/png": "[encoded data removed]",
      "text/plain": [
       "<Figure size 432x288 with 1 Axes>"
      ]
     },
     "metadata": {
      "needs_background": "light"
     },
     "output_type": "display_data"
    }
   ],
   "source": [
    "sns.countplot(data=train,\n",
    "             x='Family_cat',\n",
    "             hue='Survived')"
   ]
  },
  {
   "cell_type": "code",
   "execution_count": 114,
   "id": "0c2ab29e",
   "metadata": {},
   "outputs": [],
   "source": [
    "test['Family'] = test['SibSp'] + test['Parch']\n",
    "bins = [-1,0,3,20] # 데이터를 잘라낼 구간정보 설정\n",
    "labels = ['Alone','Small','Large'] #구간별 범주 이름\n",
    "cut_result = pd.cut(x=test['Family'], # 구간화할 데이터 설정\n",
    "                   bins=bins, # 잘라낼 구간정보 설정\n",
    "                   labels=labels) # 구간별 범주 이름 설정"
   ]
  },
  {
   "cell_type": "code",
   "execution_count": 115,
   "id": "52485725",
   "metadata": {},
   "outputs": [],
   "source": [
    "test['Family_cat'] =  cut_result"
   ]
  },
  {
   "cell_type": "markdown",
   "id": "36544290",
   "metadata": {},
   "source": [
    "## 비정형 데이터 다루기(Name)\n",
    "- 이름 중간에 호칭을 추출해서 사용해보자."
   ]
  },
  {
   "cell_type": "code",
   "execution_count": 116,
   "id": "5df35a92",
   "metadata": {},
   "outputs": [
    {
     "data": {
      "text/plain": [
       "PassengerId\n",
       "1                                Braund, Mr. Owen Harris\n",
       "2      Cumings, Mrs. John Bradley (Florence Briggs Th...\n",
       "3                                 Heikkinen, Miss. Laina\n",
       "4           Futrelle, Mrs. Jacques Heath (Lily May Peel)\n",
       "5                               Allen, Mr. William Henry\n",
       "                             ...                        \n",
       "887                                Montvila, Rev. Juozas\n",
       "888                         Graham, Miss. Margaret Edith\n",
       "889             Johnston, Miss. Catherine Helen \"Carrie\"\n",
       "890                                Behr, Mr. Karl Howell\n",
       "891                                  Dooley, Mr. Patrick\n",
       "Name: Name, Length: 891, dtype: object"
      ]
     },
     "execution_count": 116,
     "metadata": {},
     "output_type": "execute_result"
    }
   ],
   "source": [
    "train['Name']"
   ]
  },
  {
   "cell_type": "code",
   "execution_count": 117,
   "id": "a028dc7a",
   "metadata": {},
   "outputs": [],
   "source": [
    "def split_title(row):\n",
    "    return row.split(\",\")[1].split(\".\")[0].strip()"
   ]
  },
  {
   "cell_type": "code",
   "execution_count": 118,
   "id": "ea4e4e5d",
   "metadata": {},
   "outputs": [],
   "source": [
    "train['Title'] = train['Name'].apply(split_title)\n",
    "test['Title'] = test['Name'].apply(split_title)"
   ]
  },
  {
   "cell_type": "markdown",
   "id": "91d02a13",
   "metadata": {},
   "source": [
    "### countplot 시각화"
   ]
  },
  {
   "cell_type": "code",
   "execution_count": 119,
   "id": "9a46fd3a",
   "metadata": {},
   "outputs": [
    {
     "data": {
      "text/plain": [
       "<AxesSubplot:xlabel='Title', ylabel='count'>"
      ]
     },
     "execution_count": 119,
     "metadata": {},
     "output_type": "execute_result"
    },
    {
     "data": {
      "image/png": "[encoded data removed]",
      "text/plain": [
       "<Figure size 1080x360 with 1 Axes>"
      ]
     },
     "metadata": {
      "needs_background": "light"
     },
     "output_type": "display_data"
    }
   ],
   "source": [
    "plt.figure(figsize=(15,5)) # 그림판의 가로,세로 크기 조정\n",
    "sns.countplot(data=train,\n",
    "             x='Title',\n",
    "             hue='Survived')"
   ]
  },
  {
   "cell_type": "code",
   "execution_count": 120,
   "id": "8cb23c92",
   "metadata": {},
   "outputs": [],
   "source": [
    "# 일부 수치가 적은 호칭을 Other로 통일하자.\n",
    "# Mr, Mrs, Miss, Master, Rev, Other"
   ]
  },
  {
   "cell_type": "code",
   "execution_count": 121,
   "id": "4bff8d58",
   "metadata": {},
   "outputs": [],
   "source": [
    "# map 함수 이용하기(데이터 치환시 사용)\n",
    "title_dic = {\n",
    "    \"Mr\" : \"Mr\",\n",
    "    \"Mrs\" : \"Mrs\",\n",
    "    \"Miss\" : \"Miss\",\n",
    "    \"Master\" : \"Master\",\n",
    "    \"Rev\" : \"Rev\"\n",
    "}"
   ]
  },
  {
   "cell_type": "code",
   "execution_count": 122,
   "id": "3e6ec95e",
   "metadata": {},
   "outputs": [
    {
     "data": {
      "text/plain": [
       "PassengerId\n",
       "31     NaN\n",
       "246    NaN\n",
       "318    NaN\n",
       "370    NaN\n",
       "399    NaN\n",
       "444    NaN\n",
       "450    NaN\n",
       "537    NaN\n",
       "557    NaN\n",
       "600    NaN\n",
       "633    NaN\n",
       "642    NaN\n",
       "648    NaN\n",
       "661    NaN\n",
       "695    NaN\n",
       "711    NaN\n",
       "746    NaN\n",
       "760    NaN\n",
       "767    NaN\n",
       "797    NaN\n",
       "823    NaN\n",
       "Name: Title, dtype: object"
      ]
     },
     "execution_count": 122,
     "metadata": {},
     "output_type": "execute_result"
    }
   ],
   "source": [
    "title_mapping = train['Title'].map(title_dic)\n",
    "title_mapping[title_mapping.isnull()]"
   ]
  },
  {
   "cell_type": "code",
   "execution_count": 123,
   "id": "9a0e0120",
   "metadata": {},
   "outputs": [],
   "source": [
    "train['Title'] = title_mapping.fillna(\"Other\")"
   ]
  },
  {
   "cell_type": "code",
   "execution_count": 124,
   "id": "7bc12edc",
   "metadata": {},
   "outputs": [],
   "source": [
    "# test 적용\n",
    "title_mapping = test['Title'].map(title_dic)\n",
    "test['Title'] = title_mapping.fillna(\"Other\")"
   ]
  },
  {
   "cell_type": "code",
   "execution_count": 125,
   "id": "d7ae0de1",
   "metadata": {
    "scrolled": true
   },
   "outputs": [
    {
     "name": "stdout",
     "output_type": "stream",
     "text": [
      "['Mr' 'Mrs' 'Miss' 'Master' 'Other' 'Rev']\n",
      "['Mr' 'Mrs' 'Miss' 'Master' 'Other' 'Rev']\n"
     ]
    }
   ],
   "source": [
    "print(train['Title'].unique())\n",
    "print(test['Title'].unique())"
   ]
  },
  {
   "cell_type": "markdown",
   "id": "358f6ba8",
   "metadata": {},
   "source": [
    "### 사용하지 않을 컬럼 정리"
   ]
  },
  {
   "cell_type": "code",
   "execution_count": 126,
   "id": "2f5c4859",
   "metadata": {},
   "outputs": [
    {
     "data": {
      "text/plain": [
       "Index(['Survived', 'Pclass', 'Name', 'Sex', 'Age', 'SibSp', 'Parch', 'Ticket',\n",
       "       'Fare', 'Cabin', 'Embarked', 'Family', 'Family_cat', 'Title'],\n",
       "      dtype='object')"
      ]
     },
     "execution_count": 126,
     "metadata": {},
     "output_type": "execute_result"
    }
   ],
   "source": [
    "train.columns"
   ]
  },
  {
   "cell_type": "code",
   "execution_count": 127,
   "id": "c783134c",
   "metadata": {},
   "outputs": [
    {
     "data": {
      "text/plain": [
       "Index(['Pclass', 'Name', 'Sex', 'Age', 'SibSp', 'Parch', 'Ticket', 'Fare',\n",
       "       'Cabin', 'Embarked', 'Family', 'Family_cat', 'Title'],\n",
       "      dtype='object')"
      ]
     },
     "execution_count": 127,
     "metadata": {},
     "output_type": "execute_result"
    }
   ],
   "source": [
    "test.columns"
   ]
  },
  {
   "cell_type": "code",
   "execution_count": 128,
   "id": "f99342ea",
   "metadata": {},
   "outputs": [],
   "source": [
    "train.drop(['Name','SibSp','Parch','Ticket'], axis=1, inplace=True)"
   ]
  },
  {
   "cell_type": "code",
   "execution_count": 129,
   "id": "8cab6d8a",
   "metadata": {},
   "outputs": [],
   "source": [
    "test.drop(['Name','SibSp','Parch','Ticket'], axis=1, inplace=True)"
   ]
  },
  {
   "cell_type": "code",
   "execution_count": 130,
   "id": "6b208a6d",
   "metadata": {},
   "outputs": [
    {
     "name": "stdout",
     "output_type": "stream",
     "text": [
      "train columns :  Index(['Survived', 'Pclass', 'Sex', 'Age', 'Fare', 'Cabin', 'Embarked',\n",
      "       'Family', 'Family_cat', 'Title'],\n",
      "      dtype='object')\n",
      "test columns :  Index(['Pclass', 'Sex', 'Age', 'Fare', 'Cabin', 'Embarked', 'Family',\n",
      "       'Family_cat', 'Title'],\n",
      "      dtype='object')\n"
     ]
    }
   ],
   "source": [
    "print(\"train columns : \",train.columns)\n",
    "print(\"test columns : \",test.columns)"
   ]
  },
  {
   "cell_type": "markdown",
   "id": "10ec8929",
   "metadata": {},
   "source": [
    "# 모델링\n",
    "- 인코딩(문자형태의 데이터를 숫자형태로 변환)\n",
    "    1. label encoding (순서가 있는 경우 주로 사용)\n",
    "    2. one-hot encoding \n",
    "- 특성선택(feature selection)\n",
    "- 모델선택 및 하이퍼파라미터 튜닝\n",
    "- 모델학습 및 평가"
   ]
  },
  {
   "cell_type": "markdown",
   "id": "b1213506",
   "metadata": {},
   "source": [
    "## 인코딩"
   ]
  },
  {
   "cell_type": "code",
   "execution_count": 131,
   "id": "0baecb5e",
   "metadata": {},
   "outputs": [
    {
     "data": {
      "text/plain": [
       "Index(['Survived', 'Pclass', 'Sex', 'Age', 'Fare', 'Cabin', 'Embarked',\n",
       "       'Family', 'Family_cat', 'Title'],\n",
       "      dtype='object')"
      ]
     },
     "execution_count": 131,
     "metadata": {},
     "output_type": "execute_result"
    }
   ],
   "source": [
    "train.columns"
   ]
  },
  {
   "cell_type": "code",
   "execution_count": 132,
   "id": "63c39e04",
   "metadata": {},
   "outputs": [],
   "source": [
    "# 인코딩할 컬럼명만 선택\n",
    "categorical_features = ['Sex','Cabin','Embarked','Family_cat','Title']"
   ]
  },
  {
   "cell_type": "code",
   "execution_count": 133,
   "id": "26d1d5e5",
   "metadata": {},
   "outputs": [
    {
     "data": {
      "text/html": [
       "<div>\n",
       "<style scoped>\n",
       "    .dataframe tbody tr th:only-of-type {\n",
       "        vertical-align: middle;\n",
       "    }\n",
       "\n",
       "    .dataframe tbody tr th {\n",
       "        vertical-align: top;\n",
       "    }\n",
       "\n",
       "    .dataframe thead th {\n",
       "        text-align: right;\n",
       "    }\n",
       "</style>\n",
       "<table border=\"1\" class=\"dataframe\">\n",
       "  <thead>\n",
       "    <tr style=\"text-align: right;\">\n",
       "      <th></th>\n",
       "      <th>female</th>\n",
       "      <th>male</th>\n",
       "    </tr>\n",
       "    <tr>\n",
       "      <th>PassengerId</th>\n",
       "      <th></th>\n",
       "      <th></th>\n",
       "    </tr>\n",
       "  </thead>\n",
       "  <tbody>\n",
       "    <tr>\n",
       "      <th>1</th>\n",
       "      <td>0</td>\n",
       "      <td>1</td>\n",
       "    </tr>\n",
       "    <tr>\n",
       "      <th>2</th>\n",
       "      <td>1</td>\n",
       "      <td>0</td>\n",
       "    </tr>\n",
       "    <tr>\n",
       "      <th>3</th>\n",
       "      <td>1</td>\n",
       "      <td>0</td>\n",
       "    </tr>\n",
       "    <tr>\n",
       "      <th>4</th>\n",
       "      <td>1</td>\n",
       "      <td>0</td>\n",
       "    </tr>\n",
       "    <tr>\n",
       "      <th>5</th>\n",
       "      <td>0</td>\n",
       "      <td>1</td>\n",
       "    </tr>\n",
       "    <tr>\n",
       "      <th>...</th>\n",
       "      <td>...</td>\n",
       "      <td>...</td>\n",
       "    </tr>\n",
       "    <tr>\n",
       "      <th>887</th>\n",
       "      <td>0</td>\n",
       "      <td>1</td>\n",
       "    </tr>\n",
       "    <tr>\n",
       "      <th>888</th>\n",
       "      <td>1</td>\n",
       "      <td>0</td>\n",
       "    </tr>\n",
       "    <tr>\n",
       "      <th>889</th>\n",
       "      <td>1</td>\n",
       "      <td>0</td>\n",
       "    </tr>\n",
       "    <tr>\n",
       "      <th>890</th>\n",
       "      <td>0</td>\n",
       "      <td>1</td>\n",
       "    </tr>\n",
       "    <tr>\n",
       "      <th>891</th>\n",
       "      <td>0</td>\n",
       "      <td>1</td>\n",
       "    </tr>\n",
       "  </tbody>\n",
       "</table>\n",
       "<p>891 rows × 2 columns</p>\n",
       "</div>"
      ],
      "text/plain": [
       "             female  male\n",
       "PassengerId              \n",
       "1                 0     1\n",
       "2                 1     0\n",
       "3                 1     0\n",
       "4                 1     0\n",
       "5                 0     1\n",
       "...             ...   ...\n",
       "887               0     1\n",
       "888               1     0\n",
       "889               1     0\n",
       "890               0     1\n",
       "891               0     1\n",
       "\n",
       "[891 rows x 2 columns]"
      ]
     },
     "execution_count": 133,
     "metadata": {},
     "output_type": "execute_result"
    }
   ],
   "source": [
    "pd.get_dummies(train['Sex'])"
   ]
  },
  {
   "cell_type": "code",
   "execution_count": 134,
   "id": "913c0f47",
   "metadata": {},
   "outputs": [],
   "source": [
    "# 반복문으로 인코딩하기\n",
    "for feature_name in categorical_features:\n",
    "    one_hot = pd.get_dummies(train[feature_name], prefix = feature_name)\n",
    "    train = pd.concat([train, one_hot], axis = 1) # 기존 데이터 끝에 one_hot을 붙임\n",
    "    train.drop(feature_name, axis = 1, inplace = True) # 기존 글자 컬럼을 삭제"
   ]
  },
  {
   "cell_type": "code",
   "execution_count": 135,
   "id": "f0cfaf17",
   "metadata": {},
   "outputs": [
    {
     "data": {
      "text/html": [
       "<div>\n",
       "<style scoped>\n",
       "    .dataframe tbody tr th:only-of-type {\n",
       "        vertical-align: middle;\n",
       "    }\n",
       "\n",
       "    .dataframe tbody tr th {\n",
       "        vertical-align: top;\n",
       "    }\n",
       "\n",
       "    .dataframe thead th {\n",
       "        text-align: right;\n",
       "    }\n",
       "</style>\n",
       "<table border=\"1\" class=\"dataframe\">\n",
       "  <thead>\n",
       "    <tr style=\"text-align: right;\">\n",
       "      <th></th>\n",
       "      <th>Survived</th>\n",
       "      <th>Pclass</th>\n",
       "      <th>Age</th>\n",
       "      <th>Fare</th>\n",
       "      <th>Family</th>\n",
       "      <th>Sex_female</th>\n",
       "      <th>Sex_male</th>\n",
       "      <th>Cabin_A</th>\n",
       "      <th>Cabin_B</th>\n",
       "      <th>Cabin_C</th>\n",
       "      <th>...</th>\n",
       "      <th>Embarked_S</th>\n",
       "      <th>Family_cat_Alone</th>\n",
       "      <th>Family_cat_Small</th>\n",
       "      <th>Family_cat_Large</th>\n",
       "      <th>Title_Master</th>\n",
       "      <th>Title_Miss</th>\n",
       "      <th>Title_Mr</th>\n",
       "      <th>Title_Mrs</th>\n",
       "      <th>Title_Other</th>\n",
       "      <th>Title_Rev</th>\n",
       "    </tr>\n",
       "    <tr>\n",
       "      <th>PassengerId</th>\n",
       "      <th></th>\n",
       "      <th></th>\n",
       "      <th></th>\n",
       "      <th></th>\n",
       "      <th></th>\n",
       "      <th></th>\n",
       "      <th></th>\n",
       "      <th></th>\n",
       "      <th></th>\n",
       "      <th></th>\n",
       "      <th></th>\n",
       "      <th></th>\n",
       "      <th></th>\n",
       "      <th></th>\n",
       "      <th></th>\n",
       "      <th></th>\n",
       "      <th></th>\n",
       "      <th></th>\n",
       "      <th></th>\n",
       "      <th></th>\n",
       "      <th></th>\n",
       "    </tr>\n",
       "  </thead>\n",
       "  <tbody>\n",
       "    <tr>\n",
       "      <th>1</th>\n",
       "      <td>0</td>\n",
       "      <td>3</td>\n",
       "      <td>22</td>\n",
       "      <td>7.2500</td>\n",
       "      <td>1</td>\n",
       "      <td>0</td>\n",
       "      <td>1</td>\n",
       "      <td>0</td>\n",
       "      <td>0</td>\n",
       "      <td>0</td>\n",
       "      <td>...</td>\n",
       "      <td>1</td>\n",
       "      <td>0</td>\n",
       "      <td>1</td>\n",
       "      <td>0</td>\n",
       "      <td>0</td>\n",
       "      <td>0</td>\n",
       "      <td>1</td>\n",
       "      <td>0</td>\n",
       "      <td>0</td>\n",
       "      <td>0</td>\n",
       "    </tr>\n",
       "    <tr>\n",
       "      <th>2</th>\n",
       "      <td>1</td>\n",
       "      <td>1</td>\n",
       "      <td>38</td>\n",
       "      <td>71.2833</td>\n",
       "      <td>1</td>\n",
       "      <td>1</td>\n",
       "      <td>0</td>\n",
       "      <td>0</td>\n",
       "      <td>0</td>\n",
       "      <td>1</td>\n",
       "      <td>...</td>\n",
       "      <td>0</td>\n",
       "      <td>0</td>\n",
       "      <td>1</td>\n",
       "      <td>0</td>\n",
       "      <td>0</td>\n",
       "      <td>0</td>\n",
       "      <td>0</td>\n",
       "      <td>1</td>\n",
       "      <td>0</td>\n",
       "      <td>0</td>\n",
       "    </tr>\n",
       "    <tr>\n",
       "      <th>3</th>\n",
       "      <td>1</td>\n",
       "      <td>3</td>\n",
       "      <td>26</td>\n",
       "      <td>7.9250</td>\n",
       "      <td>0</td>\n",
       "      <td>1</td>\n",
       "      <td>0</td>\n",
       "      <td>0</td>\n",
       "      <td>0</td>\n",
       "      <td>0</td>\n",
       "      <td>...</td>\n",
       "      <td>1</td>\n",
       "      <td>1</td>\n",
       "      <td>0</td>\n",
       "      <td>0</td>\n",
       "      <td>0</td>\n",
       "      <td>1</td>\n",
       "      <td>0</td>\n",
       "      <td>0</td>\n",
       "      <td>0</td>\n",
       "      <td>0</td>\n",
       "    </tr>\n",
       "    <tr>\n",
       "      <th>4</th>\n",
       "      <td>1</td>\n",
       "      <td>1</td>\n",
       "      <td>35</td>\n",
       "      <td>53.1000</td>\n",
       "      <td>1</td>\n",
       "      <td>1</td>\n",
       "      <td>0</td>\n",
       "      <td>0</td>\n",
       "      <td>0</td>\n",
       "      <td>1</td>\n",
       "      <td>...</td>\n",
       "      <td>1</td>\n",
       "      <td>0</td>\n",
       "      <td>1</td>\n",
       "      <td>0</td>\n",
       "      <td>0</td>\n",
       "      <td>0</td>\n",
       "      <td>0</td>\n",
       "      <td>1</td>\n",
       "      <td>0</td>\n",
       "      <td>0</td>\n",
       "    </tr>\n",
       "    <tr>\n",
       "      <th>5</th>\n",
       "      <td>0</td>\n",
       "      <td>3</td>\n",
       "      <td>35</td>\n",
       "      <td>8.0500</td>\n",
       "      <td>0</td>\n",
       "      <td>0</td>\n",
       "      <td>1</td>\n",
       "      <td>0</td>\n",
       "      <td>0</td>\n",
       "      <td>0</td>\n",
       "      <td>...</td>\n",
       "      <td>1</td>\n",
       "      <td>1</td>\n",
       "      <td>0</td>\n",
       "      <td>0</td>\n",
       "      <td>0</td>\n",
       "      <td>0</td>\n",
       "      <td>1</td>\n",
       "      <td>0</td>\n",
       "      <td>0</td>\n",
       "      <td>0</td>\n",
       "    </tr>\n",
       "  </tbody>\n",
       "</table>\n",
       "<p>5 rows × 28 columns</p>\n",
       "</div>"
      ],
      "text/plain": [
       "             Survived  Pclass  Age     Fare  Family  Sex_female  Sex_male  \\\n",
       "PassengerId                                                                 \n",
       "1                   0       3   22   7.2500       1           0         1   \n",
       "2                   1       1   38  71.2833       1           1         0   \n",
       "3                   1       3   26   7.9250       0           1         0   \n",
       "4                   1       1   35  53.1000       1           1         0   \n",
       "5                   0       3   35   8.0500       0           0         1   \n",
       "\n",
       "             Cabin_A  Cabin_B  Cabin_C  ...  Embarked_S  Family_cat_Alone  \\\n",
       "PassengerId                             ...                                 \n",
       "1                  0        0        0  ...           1                 0   \n",
       "2                  0        0        1  ...           0                 0   \n",
       "3                  0        0        0  ...           1                 1   \n",
       "4                  0        0        1  ...           1                 0   \n",
       "5                  0        0        0  ...           1                 1   \n",
       "\n",
       "             Family_cat_Small  Family_cat_Large  Title_Master  Title_Miss  \\\n",
       "PassengerId                                                                 \n",
       "1                           1                 0             0           0   \n",
       "2                           1                 0             0           0   \n",
       "3                           0                 0             0           1   \n",
       "4                           1                 0             0           0   \n",
       "5                           0                 0             0           0   \n",
       "\n",
       "             Title_Mr  Title_Mrs  Title_Other  Title_Rev  \n",
       "PassengerId                                               \n",
       "1                   1          0            0          0  \n",
       "2                   0          1            0          0  \n",
       "3                   0          0            0          0  \n",
       "4                   0          1            0          0  \n",
       "5                   1          0            0          0  \n",
       "\n",
       "[5 rows x 28 columns]"
      ]
     },
     "execution_count": 135,
     "metadata": {},
     "output_type": "execute_result"
    }
   ],
   "source": [
    "train.head()"
   ]
  },
  {
   "cell_type": "code",
   "execution_count": 136,
   "id": "1556d2b3",
   "metadata": {},
   "outputs": [],
   "source": [
    "# 반복문으로 인코딩하기\n",
    "for feature_name in categorical_features:\n",
    "    one_hot = pd.get_dummies(test[feature_name], prefix = feature_name)\n",
    "    test = pd.concat([test, one_hot], axis = 1) # 기존 데이터 끝에 one_hot을 붙임\n",
    "    test.drop(feature_name, axis = 1, inplace = True) # 기존 글자 컬럼을 삭제"
   ]
  },
  {
   "cell_type": "code",
   "execution_count": 137,
   "id": "96a72848",
   "metadata": {},
   "outputs": [
    {
     "data": {
      "text/html": [
       "<div>\n",
       "<style scoped>\n",
       "    .dataframe tbody tr th:only-of-type {\n",
       "        vertical-align: middle;\n",
       "    }\n",
       "\n",
       "    .dataframe tbody tr th {\n",
       "        vertical-align: top;\n",
       "    }\n",
       "\n",
       "    .dataframe thead th {\n",
       "        text-align: right;\n",
       "    }\n",
       "</style>\n",
       "<table border=\"1\" class=\"dataframe\">\n",
       "  <thead>\n",
       "    <tr style=\"text-align: right;\">\n",
       "      <th></th>\n",
       "      <th>Pclass</th>\n",
       "      <th>Age</th>\n",
       "      <th>Fare</th>\n",
       "      <th>Family</th>\n",
       "      <th>Sex_female</th>\n",
       "      <th>Sex_male</th>\n",
       "      <th>Cabin_A</th>\n",
       "      <th>Cabin_B</th>\n",
       "      <th>Cabin_C</th>\n",
       "      <th>Cabin_D</th>\n",
       "      <th>...</th>\n",
       "      <th>Embarked_S</th>\n",
       "      <th>Family_cat_Alone</th>\n",
       "      <th>Family_cat_Small</th>\n",
       "      <th>Family_cat_Large</th>\n",
       "      <th>Title_Master</th>\n",
       "      <th>Title_Miss</th>\n",
       "      <th>Title_Mr</th>\n",
       "      <th>Title_Mrs</th>\n",
       "      <th>Title_Other</th>\n",
       "      <th>Title_Rev</th>\n",
       "    </tr>\n",
       "    <tr>\n",
       "      <th>PassengerId</th>\n",
       "      <th></th>\n",
       "      <th></th>\n",
       "      <th></th>\n",
       "      <th></th>\n",
       "      <th></th>\n",
       "      <th></th>\n",
       "      <th></th>\n",
       "      <th></th>\n",
       "      <th></th>\n",
       "      <th></th>\n",
       "      <th></th>\n",
       "      <th></th>\n",
       "      <th></th>\n",
       "      <th></th>\n",
       "      <th></th>\n",
       "      <th></th>\n",
       "      <th></th>\n",
       "      <th></th>\n",
       "      <th></th>\n",
       "      <th></th>\n",
       "      <th></th>\n",
       "    </tr>\n",
       "  </thead>\n",
       "  <tbody>\n",
       "    <tr>\n",
       "      <th>892</th>\n",
       "      <td>3</td>\n",
       "      <td>34</td>\n",
       "      <td>7.8292</td>\n",
       "      <td>0</td>\n",
       "      <td>0</td>\n",
       "      <td>1</td>\n",
       "      <td>0</td>\n",
       "      <td>0</td>\n",
       "      <td>0</td>\n",
       "      <td>0</td>\n",
       "      <td>...</td>\n",
       "      <td>0</td>\n",
       "      <td>1</td>\n",
       "      <td>0</td>\n",
       "      <td>0</td>\n",
       "      <td>0</td>\n",
       "      <td>0</td>\n",
       "      <td>1</td>\n",
       "      <td>0</td>\n",
       "      <td>0</td>\n",
       "      <td>0</td>\n",
       "    </tr>\n",
       "    <tr>\n",
       "      <th>893</th>\n",
       "      <td>3</td>\n",
       "      <td>47</td>\n",
       "      <td>7.0000</td>\n",
       "      <td>1</td>\n",
       "      <td>1</td>\n",
       "      <td>0</td>\n",
       "      <td>0</td>\n",
       "      <td>0</td>\n",
       "      <td>0</td>\n",
       "      <td>0</td>\n",
       "      <td>...</td>\n",
       "      <td>1</td>\n",
       "      <td>0</td>\n",
       "      <td>1</td>\n",
       "      <td>0</td>\n",
       "      <td>0</td>\n",
       "      <td>0</td>\n",
       "      <td>0</td>\n",
       "      <td>1</td>\n",
       "      <td>0</td>\n",
       "      <td>0</td>\n",
       "    </tr>\n",
       "    <tr>\n",
       "      <th>894</th>\n",
       "      <td>2</td>\n",
       "      <td>62</td>\n",
       "      <td>9.6875</td>\n",
       "      <td>0</td>\n",
       "      <td>0</td>\n",
       "      <td>1</td>\n",
       "      <td>0</td>\n",
       "      <td>0</td>\n",
       "      <td>0</td>\n",
       "      <td>0</td>\n",
       "      <td>...</td>\n",
       "      <td>0</td>\n",
       "      <td>1</td>\n",
       "      <td>0</td>\n",
       "      <td>0</td>\n",
       "      <td>0</td>\n",
       "      <td>0</td>\n",
       "      <td>1</td>\n",
       "      <td>0</td>\n",
       "      <td>0</td>\n",
       "      <td>0</td>\n",
       "    </tr>\n",
       "    <tr>\n",
       "      <th>895</th>\n",
       "      <td>3</td>\n",
       "      <td>27</td>\n",
       "      <td>8.6625</td>\n",
       "      <td>0</td>\n",
       "      <td>0</td>\n",
       "      <td>1</td>\n",
       "      <td>0</td>\n",
       "      <td>0</td>\n",
       "      <td>0</td>\n",
       "      <td>0</td>\n",
       "      <td>...</td>\n",
       "      <td>1</td>\n",
       "      <td>1</td>\n",
       "      <td>0</td>\n",
       "      <td>0</td>\n",
       "      <td>0</td>\n",
       "      <td>0</td>\n",
       "      <td>1</td>\n",
       "      <td>0</td>\n",
       "      <td>0</td>\n",
       "      <td>0</td>\n",
       "    </tr>\n",
       "    <tr>\n",
       "      <th>896</th>\n",
       "      <td>3</td>\n",
       "      <td>22</td>\n",
       "      <td>12.2875</td>\n",
       "      <td>2</td>\n",
       "      <td>1</td>\n",
       "      <td>0</td>\n",
       "      <td>0</td>\n",
       "      <td>0</td>\n",
       "      <td>0</td>\n",
       "      <td>0</td>\n",
       "      <td>...</td>\n",
       "      <td>1</td>\n",
       "      <td>0</td>\n",
       "      <td>1</td>\n",
       "      <td>0</td>\n",
       "      <td>0</td>\n",
       "      <td>0</td>\n",
       "      <td>0</td>\n",
       "      <td>1</td>\n",
       "      <td>0</td>\n",
       "      <td>0</td>\n",
       "    </tr>\n",
       "  </tbody>\n",
       "</table>\n",
       "<p>5 rows × 26 columns</p>\n",
       "</div>"
      ],
      "text/plain": [
       "             Pclass  Age     Fare  Family  Sex_female  Sex_male  Cabin_A  \\\n",
       "PassengerId                                                                \n",
       "892               3   34   7.8292       0           0         1        0   \n",
       "893               3   47   7.0000       1           1         0        0   \n",
       "894               2   62   9.6875       0           0         1        0   \n",
       "895               3   27   8.6625       0           0         1        0   \n",
       "896               3   22  12.2875       2           1         0        0   \n",
       "\n",
       "             Cabin_B  Cabin_C  Cabin_D  ...  Embarked_S  Family_cat_Alone  \\\n",
       "PassengerId                             ...                                 \n",
       "892                0        0        0  ...           0                 1   \n",
       "893                0        0        0  ...           1                 0   \n",
       "894                0        0        0  ...           0                 1   \n",
       "895                0        0        0  ...           1                 1   \n",
       "896                0        0        0  ...           1                 0   \n",
       "\n",
       "             Family_cat_Small  Family_cat_Large  Title_Master  Title_Miss  \\\n",
       "PassengerId                                                                 \n",
       "892                         0                 0             0           0   \n",
       "893                         1                 0             0           0   \n",
       "894                         0                 0             0           0   \n",
       "895                         0                 0             0           0   \n",
       "896                         1                 0             0           0   \n",
       "\n",
       "             Title_Mr  Title_Mrs  Title_Other  Title_Rev  \n",
       "PassengerId                                               \n",
       "892                 1          0            0          0  \n",
       "893                 0          1            0          0  \n",
       "894                 1          0            0          0  \n",
       "895                 1          0            0          0  \n",
       "896                 0          1            0          0  \n",
       "\n",
       "[5 rows x 26 columns]"
      ]
     },
     "execution_count": 137,
     "metadata": {},
     "output_type": "execute_result"
    }
   ],
   "source": [
    "test.head()"
   ]
  },
  {
   "cell_type": "code",
   "execution_count": 138,
   "id": "b563144c",
   "metadata": {},
   "outputs": [
    {
     "data": {
      "text/plain": [
       "((891, 28), (418, 26))"
      ]
     },
     "execution_count": 138,
     "metadata": {},
     "output_type": "execute_result"
    }
   ],
   "source": [
    "train.shape, test.shape"
   ]
  },
  {
   "cell_type": "code",
   "execution_count": 139,
   "id": "b57d497b",
   "metadata": {},
   "outputs": [],
   "source": [
    "# 컬럼 갯수가 1개가 아니라 2개가 차이나는가?\n",
    "# 차집합 연산으로 어떤 것이 다른지 계산해보자!"
   ]
  },
  {
   "cell_type": "code",
   "execution_count": 140,
   "id": "d6829832",
   "metadata": {},
   "outputs": [
    {
     "data": {
      "text/plain": [
       "{'Cabin_T', 'Survived'}"
      ]
     },
     "execution_count": 140,
     "metadata": {},
     "output_type": "execute_result"
    }
   ],
   "source": [
    "set(train.columns)-set(test.columns)"
   ]
  },
  {
   "cell_type": "code",
   "execution_count": 141,
   "id": "e00188a4",
   "metadata": {},
   "outputs": [],
   "source": [
    "# test 데이터 맨 끝에 Cabin_T 컬럼을 추가시켜주자.\n",
    "test['Cabin_T'] = 0"
   ]
  },
  {
   "cell_type": "code",
   "execution_count": 142,
   "id": "231aac1f",
   "metadata": {},
   "outputs": [
    {
     "data": {
      "text/html": [
       "<div>\n",
       "<style scoped>\n",
       "    .dataframe tbody tr th:only-of-type {\n",
       "        vertical-align: middle;\n",
       "    }\n",
       "\n",
       "    .dataframe tbody tr th {\n",
       "        vertical-align: top;\n",
       "    }\n",
       "\n",
       "    .dataframe thead th {\n",
       "        text-align: right;\n",
       "    }\n",
       "</style>\n",
       "<table border=\"1\" class=\"dataframe\">\n",
       "  <thead>\n",
       "    <tr style=\"text-align: right;\">\n",
       "      <th></th>\n",
       "      <th>Pclass</th>\n",
       "      <th>Age</th>\n",
       "      <th>Fare</th>\n",
       "      <th>Family</th>\n",
       "      <th>Sex_female</th>\n",
       "      <th>Sex_male</th>\n",
       "      <th>Cabin_A</th>\n",
       "      <th>Cabin_B</th>\n",
       "      <th>Cabin_C</th>\n",
       "      <th>Cabin_D</th>\n",
       "      <th>...</th>\n",
       "      <th>Family_cat_Alone</th>\n",
       "      <th>Family_cat_Small</th>\n",
       "      <th>Family_cat_Large</th>\n",
       "      <th>Title_Master</th>\n",
       "      <th>Title_Miss</th>\n",
       "      <th>Title_Mr</th>\n",
       "      <th>Title_Mrs</th>\n",
       "      <th>Title_Other</th>\n",
       "      <th>Title_Rev</th>\n",
       "      <th>Cabin_T</th>\n",
       "    </tr>\n",
       "    <tr>\n",
       "      <th>PassengerId</th>\n",
       "      <th></th>\n",
       "      <th></th>\n",
       "      <th></th>\n",
       "      <th></th>\n",
       "      <th></th>\n",
       "      <th></th>\n",
       "      <th></th>\n",
       "      <th></th>\n",
       "      <th></th>\n",
       "      <th></th>\n",
       "      <th></th>\n",
       "      <th></th>\n",
       "      <th></th>\n",
       "      <th></th>\n",
       "      <th></th>\n",
       "      <th></th>\n",
       "      <th></th>\n",
       "      <th></th>\n",
       "      <th></th>\n",
       "      <th></th>\n",
       "      <th></th>\n",
       "    </tr>\n",
       "  </thead>\n",
       "  <tbody>\n",
       "    <tr>\n",
       "      <th>892</th>\n",
       "      <td>3</td>\n",
       "      <td>34</td>\n",
       "      <td>7.8292</td>\n",
       "      <td>0</td>\n",
       "      <td>0</td>\n",
       "      <td>1</td>\n",
       "      <td>0</td>\n",
       "      <td>0</td>\n",
       "      <td>0</td>\n",
       "      <td>0</td>\n",
       "      <td>...</td>\n",
       "      <td>1</td>\n",
       "      <td>0</td>\n",
       "      <td>0</td>\n",
       "      <td>0</td>\n",
       "      <td>0</td>\n",
       "      <td>1</td>\n",
       "      <td>0</td>\n",
       "      <td>0</td>\n",
       "      <td>0</td>\n",
       "      <td>0</td>\n",
       "    </tr>\n",
       "    <tr>\n",
       "      <th>893</th>\n",
       "      <td>3</td>\n",
       "      <td>47</td>\n",
       "      <td>7.0000</td>\n",
       "      <td>1</td>\n",
       "      <td>1</td>\n",
       "      <td>0</td>\n",
       "      <td>0</td>\n",
       "      <td>0</td>\n",
       "      <td>0</td>\n",
       "      <td>0</td>\n",
       "      <td>...</td>\n",
       "      <td>0</td>\n",
       "      <td>1</td>\n",
       "      <td>0</td>\n",
       "      <td>0</td>\n",
       "      <td>0</td>\n",
       "      <td>0</td>\n",
       "      <td>1</td>\n",
       "      <td>0</td>\n",
       "      <td>0</td>\n",
       "      <td>0</td>\n",
       "    </tr>\n",
       "    <tr>\n",
       "      <th>894</th>\n",
       "      <td>2</td>\n",
       "      <td>62</td>\n",
       "      <td>9.6875</td>\n",
       "      <td>0</td>\n",
       "      <td>0</td>\n",
       "      <td>1</td>\n",
       "      <td>0</td>\n",
       "      <td>0</td>\n",
       "      <td>0</td>\n",
       "      <td>0</td>\n",
       "      <td>...</td>\n",
       "      <td>1</td>\n",
       "      <td>0</td>\n",
       "      <td>0</td>\n",
       "      <td>0</td>\n",
       "      <td>0</td>\n",
       "      <td>1</td>\n",
       "      <td>0</td>\n",
       "      <td>0</td>\n",
       "      <td>0</td>\n",
       "      <td>0</td>\n",
       "    </tr>\n",
       "    <tr>\n",
       "      <th>895</th>\n",
       "      <td>3</td>\n",
       "      <td>27</td>\n",
       "      <td>8.6625</td>\n",
       "      <td>0</td>\n",
       "      <td>0</td>\n",
       "      <td>1</td>\n",
       "      <td>0</td>\n",
       "      <td>0</td>\n",
       "      <td>0</td>\n",
       "      <td>0</td>\n",
       "      <td>...</td>\n",
       "      <td>1</td>\n",
       "      <td>0</td>\n",
       "      <td>0</td>\n",
       "      <td>0</td>\n",
       "      <td>0</td>\n",
       "      <td>1</td>\n",
       "      <td>0</td>\n",
       "      <td>0</td>\n",
       "      <td>0</td>\n",
       "      <td>0</td>\n",
       "    </tr>\n",
       "    <tr>\n",
       "      <th>896</th>\n",
       "      <td>3</td>\n",
       "      <td>22</td>\n",
       "      <td>12.2875</td>\n",
       "      <td>2</td>\n",
       "      <td>1</td>\n",
       "      <td>0</td>\n",
       "      <td>0</td>\n",
       "      <td>0</td>\n",
       "      <td>0</td>\n",
       "      <td>0</td>\n",
       "      <td>...</td>\n",
       "      <td>0</td>\n",
       "      <td>1</td>\n",
       "      <td>0</td>\n",
       "      <td>0</td>\n",
       "      <td>0</td>\n",
       "      <td>0</td>\n",
       "      <td>1</td>\n",
       "      <td>0</td>\n",
       "      <td>0</td>\n",
       "      <td>0</td>\n",
       "    </tr>\n",
       "  </tbody>\n",
       "</table>\n",
       "<p>5 rows × 27 columns</p>\n",
       "</div>"
      ],
      "text/plain": [
       "             Pclass  Age     Fare  Family  Sex_female  Sex_male  Cabin_A  \\\n",
       "PassengerId                                                                \n",
       "892               3   34   7.8292       0           0         1        0   \n",
       "893               3   47   7.0000       1           1         0        0   \n",
       "894               2   62   9.6875       0           0         1        0   \n",
       "895               3   27   8.6625       0           0         1        0   \n",
       "896               3   22  12.2875       2           1         0        0   \n",
       "\n",
       "             Cabin_B  Cabin_C  Cabin_D  ...  Family_cat_Alone  \\\n",
       "PassengerId                             ...                     \n",
       "892                0        0        0  ...                 1   \n",
       "893                0        0        0  ...                 0   \n",
       "894                0        0        0  ...                 1   \n",
       "895                0        0        0  ...                 1   \n",
       "896                0        0        0  ...                 0   \n",
       "\n",
       "             Family_cat_Small  Family_cat_Large  Title_Master  Title_Miss  \\\n",
       "PassengerId                                                                 \n",
       "892                         0                 0             0           0   \n",
       "893                         1                 0             0           0   \n",
       "894                         0                 0             0           0   \n",
       "895                         0                 0             0           0   \n",
       "896                         1                 0             0           0   \n",
       "\n",
       "             Title_Mr  Title_Mrs  Title_Other  Title_Rev  Cabin_T  \n",
       "PassengerId                                                        \n",
       "892                 1          0            0          0        0  \n",
       "893                 0          1            0          0        0  \n",
       "894                 1          0            0          0        0  \n",
       "895                 1          0            0          0        0  \n",
       "896                 0          1            0          0        0  \n",
       "\n",
       "[5 rows x 27 columns]"
      ]
     },
     "execution_count": 142,
     "metadata": {},
     "output_type": "execute_result"
    }
   ],
   "source": [
    "test.head()"
   ]
  },
  {
   "cell_type": "code",
   "execution_count": 143,
   "id": "245f5245",
   "metadata": {},
   "outputs": [],
   "source": [
    "# 컬럼의 위치가 다르기 때문에 sort작업을 둘다 해줘야한다.\n",
    "train.sort_index(axis = 1, inplace=True)\n",
    "test.sort_index(axis = 1, inplace=True)"
   ]
  },
  {
   "cell_type": "code",
   "execution_count": 144,
   "id": "d765ae57",
   "metadata": {},
   "outputs": [
    {
     "data": {
      "text/plain": [
       "Index(['Age', 'Cabin_A', 'Cabin_B', 'Cabin_C', 'Cabin_D', 'Cabin_E', 'Cabin_F',\n",
       "       'Cabin_G', 'Cabin_M', 'Cabin_T', 'Embarked_C', 'Embarked_Q',\n",
       "       'Embarked_S', 'Family', 'Family_cat_Alone', 'Family_cat_Large',\n",
       "       'Family_cat_Small', 'Fare', 'Pclass', 'Sex_female', 'Sex_male',\n",
       "       'Survived', 'Title_Master', 'Title_Miss', 'Title_Mr', 'Title_Mrs',\n",
       "       'Title_Other', 'Title_Rev'],\n",
       "      dtype='object')"
      ]
     },
     "execution_count": 144,
     "metadata": {},
     "output_type": "execute_result"
    }
   ],
   "source": [
    "train.columns"
   ]
  },
  {
   "cell_type": "code",
   "execution_count": 145,
   "id": "73277141",
   "metadata": {},
   "outputs": [
    {
     "data": {
      "text/plain": [
       "Index(['Age', 'Cabin_A', 'Cabin_B', 'Cabin_C', 'Cabin_D', 'Cabin_E', 'Cabin_F',\n",
       "       'Cabin_G', 'Cabin_M', 'Cabin_T', 'Embarked_C', 'Embarked_Q',\n",
       "       'Embarked_S', 'Family', 'Family_cat_Alone', 'Family_cat_Large',\n",
       "       'Family_cat_Small', 'Fare', 'Pclass', 'Sex_female', 'Sex_male',\n",
       "       'Title_Master', 'Title_Miss', 'Title_Mr', 'Title_Mrs', 'Title_Other',\n",
       "       'Title_Rev'],\n",
       "      dtype='object')"
      ]
     },
     "execution_count": 145,
     "metadata": {},
     "output_type": "execute_result"
    }
   ],
   "source": [
    "test.columns"
   ]
  },
  {
   "cell_type": "markdown",
   "id": "c90950b5",
   "metadata": {},
   "source": [
    "## 특성선택\n",
    " - 예측 결과에 영향을 줄 특성들을 골라본다.\n",
    " - Family와 Family_cat이 비슷한 특성이기 때문에 둘 중 하나만 고른다.\n",
    " "
   ]
  },
  {
   "cell_type": "markdown",
   "id": "30684c91",
   "metadata": {},
   "source": [
    "### 문제와 답 만들기"
   ]
  },
  {
   "cell_type": "code",
   "execution_count": 146,
   "id": "7939afee",
   "metadata": {},
   "outputs": [],
   "source": [
    "X_train = train.drop(['Survived','Family'],axis = 1)\n",
    "y_train = train.Survived\n",
    "X_test = test.drop(\"Family\",axis = 1)"
   ]
  },
  {
   "cell_type": "code",
   "execution_count": 147,
   "id": "f695e079",
   "metadata": {},
   "outputs": [
    {
     "data": {
      "text/plain": [
       "((891, 26), (891,))"
      ]
     },
     "execution_count": 147,
     "metadata": {},
     "output_type": "execute_result"
    }
   ],
   "source": [
    "X_train.shape, y_train.shape"
   ]
  },
  {
   "cell_type": "code",
   "execution_count": 148,
   "id": "a2931edd",
   "metadata": {},
   "outputs": [
    {
     "data": {
      "text/plain": [
       "(418, 26)"
      ]
     },
     "execution_count": 148,
     "metadata": {},
     "output_type": "execute_result"
    }
   ],
   "source": [
    "X_test.shape"
   ]
  },
  {
   "cell_type": "markdown",
   "id": "cd457765",
   "metadata": {},
   "source": [
    "## 학습"
   ]
  },
  {
   "cell_type": "code",
   "execution_count": 149,
   "id": "78460f16",
   "metadata": {},
   "outputs": [],
   "source": [
    "from sklearn.neighbors import KNeighborsClassifier # 살았냐 죽었냐 분류모델이기 때문. 수치형은 회귀모델을 쓴다\n",
    "from sklearn.tree import DecisionTreeClassifier"
   ]
  },
  {
   "cell_type": "code",
   "execution_count": 150,
   "id": "4eb7c3ec",
   "metadata": {},
   "outputs": [],
   "source": [
    "knn_model = KNeighborsClassifier()\n",
    "tree_model = DecisionTreeClassifier()"
   ]
  },
  {
   "cell_type": "code",
   "execution_count": 151,
   "id": "8c768873",
   "metadata": {},
   "outputs": [
    {
     "data": {
      "text/plain": [
       "DecisionTreeClassifier()"
      ]
     },
     "execution_count": 151,
     "metadata": {},
     "output_type": "execute_result"
    }
   ],
   "source": [
    "knn_model.fit(X_train, y_train)\n",
    "tree_model.fit(X_train, y_train)"
   ]
  },
  {
   "cell_type": "code",
   "execution_count": 152,
   "id": "bb8cef00",
   "metadata": {},
   "outputs": [],
   "source": [
    "# 모델 예측\n",
    "knn_pre = knn_model.predict(X_test)\n",
    "tree_pre = tree_model.predict(X_test)"
   ]
  },
  {
   "cell_type": "code",
   "execution_count": 153,
   "id": "6d012e5c",
   "metadata": {},
   "outputs": [],
   "source": [
    "gender_submission = pd.read_csv(\"./data/gender_submission.csv\")"
   ]
  },
  {
   "cell_type": "code",
   "execution_count": 154,
   "id": "55475e86",
   "metadata": {},
   "outputs": [
    {
     "data": {
      "text/html": [
       "<div>\n",
       "<style scoped>\n",
       "    .dataframe tbody tr th:only-of-type {\n",
       "        vertical-align: middle;\n",
       "    }\n",
       "\n",
       "    .dataframe tbody tr th {\n",
       "        vertical-align: top;\n",
       "    }\n",
       "\n",
       "    .dataframe thead th {\n",
       "        text-align: right;\n",
       "    }\n",
       "</style>\n",
       "<table border=\"1\" class=\"dataframe\">\n",
       "  <thead>\n",
       "    <tr style=\"text-align: right;\">\n",
       "      <th></th>\n",
       "      <th>PassengerId</th>\n",
       "      <th>Survived</th>\n",
       "    </tr>\n",
       "  </thead>\n",
       "  <tbody>\n",
       "    <tr>\n",
       "      <th>0</th>\n",
       "      <td>892</td>\n",
       "      <td>0</td>\n",
       "    </tr>\n",
       "    <tr>\n",
       "      <th>1</th>\n",
       "      <td>893</td>\n",
       "      <td>1</td>\n",
       "    </tr>\n",
       "    <tr>\n",
       "      <th>2</th>\n",
       "      <td>894</td>\n",
       "      <td>0</td>\n",
       "    </tr>\n",
       "    <tr>\n",
       "      <th>3</th>\n",
       "      <td>895</td>\n",
       "      <td>0</td>\n",
       "    </tr>\n",
       "    <tr>\n",
       "      <th>4</th>\n",
       "      <td>896</td>\n",
       "      <td>1</td>\n",
       "    </tr>\n",
       "    <tr>\n",
       "      <th>...</th>\n",
       "      <td>...</td>\n",
       "      <td>...</td>\n",
       "    </tr>\n",
       "    <tr>\n",
       "      <th>413</th>\n",
       "      <td>1305</td>\n",
       "      <td>0</td>\n",
       "    </tr>\n",
       "    <tr>\n",
       "      <th>414</th>\n",
       "      <td>1306</td>\n",
       "      <td>1</td>\n",
       "    </tr>\n",
       "    <tr>\n",
       "      <th>415</th>\n",
       "      <td>1307</td>\n",
       "      <td>0</td>\n",
       "    </tr>\n",
       "    <tr>\n",
       "      <th>416</th>\n",
       "      <td>1308</td>\n",
       "      <td>0</td>\n",
       "    </tr>\n",
       "    <tr>\n",
       "      <th>417</th>\n",
       "      <td>1309</td>\n",
       "      <td>0</td>\n",
       "    </tr>\n",
       "  </tbody>\n",
       "</table>\n",
       "<p>418 rows × 2 columns</p>\n",
       "</div>"
      ],
      "text/plain": [
       "     PassengerId  Survived\n",
       "0            892         0\n",
       "1            893         1\n",
       "2            894         0\n",
       "3            895         0\n",
       "4            896         1\n",
       "..           ...       ...\n",
       "413         1305         0\n",
       "414         1306         1\n",
       "415         1307         0\n",
       "416         1308         0\n",
       "417         1309         0\n",
       "\n",
       "[418 rows x 2 columns]"
      ]
     },
     "execution_count": 154,
     "metadata": {},
     "output_type": "execute_result"
    }
   ],
   "source": [
    "# 정답파일 만들기\n",
    "gender_submission"
   ]
  },
  {
   "cell_type": "code",
   "execution_count": 155,
   "id": "afa37158",
   "metadata": {},
   "outputs": [],
   "source": [
    "gender_submission['Survived'] = knn_pre"
   ]
  },
  {
   "cell_type": "code",
   "execution_count": 156,
   "id": "7da91dce",
   "metadata": {},
   "outputs": [],
   "source": [
    "gender_submission.to_csv(\"./data/knn_pre.csv\", index = False)"
   ]
  },
  {
   "cell_type": "code",
   "execution_count": 157,
   "id": "a9f5864f",
   "metadata": {},
   "outputs": [
    {
     "data": {
      "text/html": [
       "<div>\n",
       "<style scoped>\n",
       "    .dataframe tbody tr th:only-of-type {\n",
       "        vertical-align: middle;\n",
       "    }\n",
       "\n",
       "    .dataframe tbody tr th {\n",
       "        vertical-align: top;\n",
       "    }\n",
       "\n",
       "    .dataframe thead th {\n",
       "        text-align: right;\n",
       "    }\n",
       "</style>\n",
       "<table border=\"1\" class=\"dataframe\">\n",
       "  <thead>\n",
       "    <tr style=\"text-align: right;\">\n",
       "      <th></th>\n",
       "      <th>PassengerId</th>\n",
       "      <th>Survived</th>\n",
       "    </tr>\n",
       "  </thead>\n",
       "  <tbody>\n",
       "    <tr>\n",
       "      <th>0</th>\n",
       "      <td>892</td>\n",
       "      <td>0</td>\n",
       "    </tr>\n",
       "    <tr>\n",
       "      <th>1</th>\n",
       "      <td>893</td>\n",
       "      <td>0</td>\n",
       "    </tr>\n",
       "    <tr>\n",
       "      <th>2</th>\n",
       "      <td>894</td>\n",
       "      <td>1</td>\n",
       "    </tr>\n",
       "    <tr>\n",
       "      <th>3</th>\n",
       "      <td>895</td>\n",
       "      <td>1</td>\n",
       "    </tr>\n",
       "    <tr>\n",
       "      <th>4</th>\n",
       "      <td>896</td>\n",
       "      <td>1</td>\n",
       "    </tr>\n",
       "    <tr>\n",
       "      <th>...</th>\n",
       "      <td>...</td>\n",
       "      <td>...</td>\n",
       "    </tr>\n",
       "    <tr>\n",
       "      <th>413</th>\n",
       "      <td>1305</td>\n",
       "      <td>0</td>\n",
       "    </tr>\n",
       "    <tr>\n",
       "      <th>414</th>\n",
       "      <td>1306</td>\n",
       "      <td>1</td>\n",
       "    </tr>\n",
       "    <tr>\n",
       "      <th>415</th>\n",
       "      <td>1307</td>\n",
       "      <td>0</td>\n",
       "    </tr>\n",
       "    <tr>\n",
       "      <th>416</th>\n",
       "      <td>1308</td>\n",
       "      <td>0</td>\n",
       "    </tr>\n",
       "    <tr>\n",
       "      <th>417</th>\n",
       "      <td>1309</td>\n",
       "      <td>1</td>\n",
       "    </tr>\n",
       "  </tbody>\n",
       "</table>\n",
       "<p>418 rows × 2 columns</p>\n",
       "</div>"
      ],
      "text/plain": [
       "     PassengerId  Survived\n",
       "0            892         0\n",
       "1            893         0\n",
       "2            894         1\n",
       "3            895         1\n",
       "4            896         1\n",
       "..           ...       ...\n",
       "413         1305         0\n",
       "414         1306         1\n",
       "415         1307         0\n",
       "416         1308         0\n",
       "417         1309         1\n",
       "\n",
       "[418 rows x 2 columns]"
      ]
     },
     "execution_count": 157,
     "metadata": {},
     "output_type": "execute_result"
    }
   ],
   "source": [
    "gender_submission['Survived'] = tree_pre\n",
    "gender_submission.to_csv(\"./data/tree_pre.csv\", index = False)\n",
    "gender_submission"
   ]
  },
  {
   "cell_type": "markdown",
   "id": "c730b7ee",
   "metadata": {},
   "source": [
    "#### 데이터 스케일링\n",
    "- 각 feature의 스케일이 다르면 예측결과가 안좋은 경우가 있다.\n",
    "- KNN, SVM, 신경망모델, Clustering 모델 등"
   ]
  },
  {
   "cell_type": "code",
   "execution_count": 158,
   "id": "135c8033",
   "metadata": {},
   "outputs": [],
   "source": [
    "from sklearn.preprocessing import StandardScaler"
   ]
  },
  {
   "cell_type": "code",
   "execution_count": 159,
   "id": "b1dc91a6",
   "metadata": {},
   "outputs": [],
   "source": [
    "# 스케일러 생성 (평균과 표준편차)\n",
    "std_scaler = StandardScaler()"
   ]
  },
  {
   "cell_type": "code",
   "execution_count": 160,
   "id": "4550a230",
   "metadata": {},
   "outputs": [
    {
     "data": {
      "text/plain": [
       "StandardScaler()"
      ]
     },
     "execution_count": 160,
     "metadata": {},
     "output_type": "execute_result"
    }
   ],
   "source": [
    "std_scaler.fit(X_train[['Fare']])"
   ]
  },
  {
   "cell_type": "code",
   "execution_count": 161,
   "id": "86ba6969",
   "metadata": {},
   "outputs": [],
   "source": [
    "# 데이터 변형\n",
    "scaled_fare = std_scaler.transform(X_train[['Fare']])"
   ]
  },
  {
   "cell_type": "code",
   "execution_count": 162,
   "id": "acb69ee6",
   "metadata": {},
   "outputs": [
    {
     "data": {
      "text/plain": [
       "<AxesSubplot:xlabel='Fare', ylabel='Density'>"
      ]
     },
     "execution_count": 162,
     "metadata": {},
     "output_type": "execute_result"
    },
    {
     "data": {
      "image/png": "[encoded data removed]",
      "text/plain": [
       "<Figure size 432x288 with 1 Axes>"
      ]
     },
     "metadata": {
      "needs_background": "light"
     },
     "output_type": "display_data"
    }
   ],
   "source": [
    "X_train['Fare'] = scaled_fare\n",
    "sns.kdeplot(data = X_train, x = 'Fare')"
   ]
  },
  {
   "cell_type": "code",
   "execution_count": 163,
   "id": "5df00f29",
   "metadata": {},
   "outputs": [
    {
     "data": {
      "text/plain": [
       "<AxesSubplot:xlabel='Fare', ylabel='Density'>"
      ]
     },
     "execution_count": 163,
     "metadata": {},
     "output_type": "execute_result"
    },
    {
     "data": {
      "image/png": "[encoded data removed]",
      "text/plain": [
       "<Figure size 432x288 with 1 Axes>"
      ]
     },
     "metadata": {
      "needs_background": "light"
     },
     "output_type": "display_data"
    }
   ],
   "source": [
    "scaled_fare = std_scaler.transform(X_test[['Fare']])\n",
    "X_test['Fare'] = scaled_fare\n",
    "sns.kdeplot(data = X_test, x = 'Fare')"
   ]
  },
  {
   "cell_type": "code",
   "execution_count": 164,
   "id": "c6bec317",
   "metadata": {},
   "outputs": [],
   "source": [
    "knn_model.fit(X_train, y_train)\n",
    "knn_pre = knn_model.predict(X_test)\n",
    "gender_submission['Survived'] = knn_pre\n",
    "gender_submission.to_csv(\"./data/knn_pre_fare.csv\", index = False)"
   ]
  },
  {
   "cell_type": "markdown",
   "id": "c552d135",
   "metadata": {},
   "source": [
    "## 하이퍼 파라미터 튜닝\n",
    "- KNN모델과 DecisionTree 모델을 최적화해보자.\n",
    "- KNN : 이웃숫자\n",
    "- Tree : 나무의 깊이, 리프노드 갯수, 한 리프노드에 들어갈 샘플 수 등"
   ]
  },
  {
   "cell_type": "markdown",
   "id": "250b4487",
   "metadata": {},
   "source": [
    "### 모델 최적화를 위해 검증 데이터셋을 만들자"
   ]
  },
  {
   "cell_type": "code",
   "execution_count": 165,
   "id": "c07cf112",
   "metadata": {},
   "outputs": [],
   "source": [
    "from sklearn.model_selection import train_test_split"
   ]
  },
  {
   "cell_type": "code",
   "execution_count": 166,
   "id": "5db22860",
   "metadata": {},
   "outputs": [],
   "source": [
    "X_train2,X_val,y_train2,y_val = train_test_split(X_train,y_train, test_size = 0.3, random_state=719)"
   ]
  },
  {
   "cell_type": "code",
   "execution_count": 167,
   "id": "baedf82f",
   "metadata": {},
   "outputs": [
    {
     "data": {
      "text/plain": [
       "((623, 26), (268,))"
      ]
     },
     "execution_count": 167,
     "metadata": {},
     "output_type": "execute_result"
    }
   ],
   "source": [
    "X_train2.shape, y_val.shape"
   ]
  },
  {
   "cell_type": "code",
   "execution_count": 168,
   "id": "77b2d9c4",
   "metadata": {},
   "outputs": [
    {
     "data": {
      "text/plain": [
       "((268, 26), (268,))"
      ]
     },
     "execution_count": 168,
     "metadata": {},
     "output_type": "execute_result"
    }
   ],
   "source": [
    "X_val.shape, y_val.shape"
   ]
  },
  {
   "cell_type": "code",
   "execution_count": 169,
   "id": "eb5e82f3",
   "metadata": {},
   "outputs": [
    {
     "name": "stdout",
     "output_type": "stream",
     "text": [
      "[0.985553772070626, 0.8635634028892456, 0.8651685393258427, 0.8346709470304976, 0.8571428571428571, 0.8282504012841091, 0.8314606741573034, 0.8170144462279294, 0.8218298555377207, 0.7913322632423756, 0.8057784911717496, 0.7817014446227929, 0.7913322632423756, 0.7817014446227929, 0.7849117174959872, 0.7688603531300161, 0.7720706260032103, 0.7656500802568218, 0.7688603531300161]\n",
      "[0.7574626865671642, 0.7798507462686567, 0.7761194029850746, 0.7686567164179104, 0.7947761194029851, 0.8134328358208955, 0.8246268656716418, 0.8208955223880597, 0.8208955223880597, 0.8059701492537313, 0.8134328358208955, 0.7835820895522388, 0.7686567164179104, 0.7835820895522388, 0.7835820895522388, 0.7686567164179104, 0.7873134328358209, 0.7574626865671642, 0.7723880597014925]\n"
     ]
    }
   ],
   "source": [
    "train_acc =[]\n",
    "test_acc = []\n",
    "\n",
    "neighbor = range(1,20)\n",
    "\n",
    "for i in neighbor:\n",
    "    knn_model = KNeighborsClassifier(n_neighbors=i)\n",
    "    knn_model.fit(X_train2,y_train2)\n",
    "    \n",
    "    train_acc.append(knn_model.score(X_train2,y_train2))\n",
    "    test_acc.append(knn_model.score(X_val,y_val))\n",
    "print(train_acc)\n",
    "print(test_acc)"
   ]
  },
  {
   "cell_type": "code",
   "execution_count": 170,
   "id": "f636d2da",
   "metadata": {},
   "outputs": [
    {
     "data": {
      "text/plain": [
       "0.985553772070626"
      ]
     },
     "execution_count": 170,
     "metadata": {},
     "output_type": "execute_result"
    }
   ],
   "source": [
    "max(train_acc) # 1번째"
   ]
  },
  {
   "cell_type": "code",
   "execution_count": 171,
   "id": "3e46eed7",
   "metadata": {},
   "outputs": [
    {
     "data": {
      "text/plain": [
       "0.8246268656716418"
      ]
     },
     "execution_count": 171,
     "metadata": {},
     "output_type": "execute_result"
    }
   ],
   "source": [
    "max(test_acc) # 7번째"
   ]
  },
  {
   "cell_type": "code",
   "execution_count": 172,
   "id": "83d4617d",
   "metadata": {},
   "outputs": [],
   "source": [
    "knn_model = KNeighborsClassifier(n_neighbors=7)\n",
    "knn_model.fit(X_train,y_train)\n",
    "knn_pre = knn_model.predict(X_test)\n",
    "gender_submission['Survived'] = knn_pre\n",
    "gender_submission.to_csv(\"./data/knn_pre_neighbor7.csv\", index = False)"
   ]
  },
  {
   "cell_type": "code",
   "execution_count": 173,
   "id": "2b2ca7f9",
   "metadata": {},
   "outputs": [
    {
     "name": "stdout",
     "output_type": "stream",
     "text": [
      "훈련정확도 :  0.7704654895666132\n",
      "테스트정확도 :  0.8097014925373134\n",
      "훈련정확도 :  0.7817014446227929\n",
      "테스트정확도 :  0.8059701492537313\n",
      "훈련정확도 :  0.8154093097913323\n",
      "테스트정확도 :  0.7761194029850746\n",
      "훈련정확도 :  0.8394863563402889\n",
      "테스트정확도 :  0.835820895522388\n",
      "훈련정확도 :  0.8587479935794543\n",
      "테스트정확도 :  0.835820895522388\n",
      "훈련정확도 :  0.8860353130016051\n",
      "테스트정확도 :  0.8283582089552238\n",
      "훈련정확도 :  0.9020866773675762\n",
      "테스트정확도 :  0.8171641791044776\n",
      "훈련정확도 :  0.9229534510433387\n",
      "테스트정확도 :  0.8134328358208955\n",
      "훈련정확도 :  0.9550561797752809\n",
      "테스트정확도 :  0.7985074626865671\n"
     ]
    }
   ],
   "source": [
    "from sklearn.tree import DecisionTreeClassifier\n",
    "for i in range(1,10):\n",
    "    model_dt2 =DecisionTreeClassifier(max_depth=i)\n",
    "    model_dt2.fit(X_train2,y_train2)\n",
    "    print(\"훈련정확도 : \", model_dt2.score(X_train2,y_train2))\n",
    "    print(\"테스트정확도 : \", model_dt2.score(X_val,y_val))"
   ]
  },
  {
   "cell_type": "code",
   "execution_count": 174,
   "id": "aca59dff",
   "metadata": {},
   "outputs": [],
   "source": [
    "model_dt2 = DecisionTreeClassifier(max_depth=5)\n",
    "model_dt2.fit(X_train, y_train)\n",
    "pre = model_dt2.predict(X_test)\n",
    "gender_submission['Survived'] = pre\n",
    "gender_submission.to_csv(\"./data/tree_depth5.csv\", index = False)"
   ]
  },
  {
   "cell_type": "markdown",
   "id": "1be30831",
   "metadata": {},
   "source": [
    "#### KNN 튜닝"
   ]
  },
  {
   "cell_type": "code",
   "execution_count": 175,
   "id": "6d72da96",
   "metadata": {},
   "outputs": [],
   "source": [
    "train_score = [] # 훈련데이터의 점수가 들어갈 리스트\n",
    "test_score = [] # 검증데이터의 점수가 들어갈 리스트\n",
    "\n",
    "for i in range(1,20):\n",
    "    # 이웃이 1 ~ 19 까지\n",
    "    model = KNeighborsClassifier(n_neighbors= i )\n",
    "    # 모델 학습\n",
    "    model.fit(X_train2, y_train2)\n",
    "    # 훈련데이터에 대한 점수 누적\n",
    "    train_score.append(model.score(X_train2,y_train2))\n",
    "    # 검증데이터에 대한 점수 누적\n",
    "    test_score.append(model.score(X_val, y_val))"
   ]
  },
  {
   "cell_type": "code",
   "execution_count": 176,
   "id": "fae04094",
   "metadata": {},
   "outputs": [
    {
     "data": {
      "image/png": "[encoded data removed]",
      "text/plain": [
       "<Figure size 1080x360 with 1 Axes>"
      ]
     },
     "metadata": {
      "needs_background": "light"
     },
     "output_type": "display_data"
    }
   ],
   "source": [
    "plt.figure(figsize=(15,5))\n",
    "plt.plot(range(1,20),train_score, label = ['train'])\n",
    "plt.plot(range(1,20),test_score, label = ['test'])\n",
    "plt.legend()\n",
    "plt.grid()\n",
    "plt.xticks(range(1,20))\n",
    "plt.ylabel('accuracy')\n",
    "plt.xlabel('n_neighbors')\n",
    "plt.show()"
   ]
  },
  {
   "cell_type": "markdown",
   "id": "ab8f614c",
   "metadata": {},
   "source": [
    "#### DecisionTree 튜닝"
   ]
  },
  {
   "cell_type": "code",
   "execution_count": 177,
   "id": "0b65a8d3",
   "metadata": {},
   "outputs": [],
   "source": [
    "# 교차검증 함수\n",
    "from sklearn.model_selection import cross_val_score"
   ]
  },
  {
   "cell_type": "code",
   "execution_count": 178,
   "id": "a291e53c",
   "metadata": {},
   "outputs": [],
   "source": [
    "\n",
    "test_score = []\n",
    "for d in range(1,30):\n",
    "    model = DecisionTreeClassifier(max_depth=d, random_state=720) # random_state\n",
    "    result = cross_val_score(model, X_train, y_train, cv=5)\n",
    "    test_score.append(result.mean())"
   ]
  },
  {
   "cell_type": "code",
   "execution_count": 179,
   "id": "39e8b862",
   "metadata": {},
   "outputs": [
    {
     "data": {
      "image/png": "[encoded data removed]",
      "text/plain": [
       "<Figure size 1080x360 with 1 Axes>"
      ]
     },
     "metadata": {
      "needs_background": "light"
     },
     "output_type": "display_data"
    }
   ],
   "source": [
    "plt.figure(figsize=(15,5))\n",
    "\n",
    "plt.plot(range(1,30),test_score, label = ['test'])\n",
    "plt.legend()\n",
    "plt.grid()\n",
    "plt.xticks(range(1,20))\n",
    "plt.ylabel('accuracy')\n",
    "plt.xlabel('max_depth')\n",
    "plt.show()"
   ]
  },
  {
   "cell_type": "markdown",
   "id": "4ce246a0",
   "metadata": {},
   "source": [
    "## 모델 평가\n",
    "- KNN 이웃 수 : 7\n",
    "- DecistionTree : 4"
   ]
  },
  {
   "cell_type": "code",
   "execution_count": 180,
   "id": "c2204ee4",
   "metadata": {},
   "outputs": [],
   "source": [
    "final_knn = KNeighborsClassifier(n_neighbors=7)\n",
    "final_tree = DecisionTreeClassifier(max_depth=4, random_state=720)"
   ]
  },
  {
   "cell_type": "code",
   "execution_count": 181,
   "id": "e26e6d82",
   "metadata": {},
   "outputs": [
    {
     "data": {
      "text/plain": [
       "DecisionTreeClassifier(max_depth=4, random_state=720)"
      ]
     },
     "execution_count": 181,
     "metadata": {},
     "output_type": "execute_result"
    }
   ],
   "source": [
    "final_knn.fit(X_train, y_train)\n",
    "final_tree.fit(X_train, y_train)"
   ]
  },
  {
   "cell_type": "code",
   "execution_count": 182,
   "id": "f392b700",
   "metadata": {},
   "outputs": [],
   "source": [
    "knn_pred = final_knn.predict(X_test)\n",
    "tree_pred = final_tree.predict(X_test)"
   ]
  },
  {
   "cell_type": "markdown",
   "id": "b68dc83a",
   "metadata": {},
   "source": [
    "### 성능개선을 위해 고려해볼 사항\n",
    "1. 특성선택\n",
    "2. 데이터 확보\n",
    "3. 전처리 작업 변경(결측치 처리방법, 특성공학, 스케일링 등)\n",
    "4. 모델변경 - 앙상블"
   ]
  },
  {
   "cell_type": "markdown",
   "id": "3c3d0eba",
   "metadata": {},
   "source": [
    "# 앙상블\n",
    "1. 보팅(voting)\n",
    " - 서로 다른 알고리즘의 모델 여러개를 이용해서 투표로 예측결과를 만들어 낸다.\n",
    " - 하드보팅 : 모델의 최종 예측결과로 투표\n",
    " - 소프트보팅 : 모델의 확률결과로 투표\n",
    "2. 배깅(bagging) \n",
    " - 같은 알고리즘 모델 여러개를 이용해서 투표를 진행\n",
    " - 여러개의 모델들이 학습할 때 다른 의견이 나올 수 있도록 부트스트래핑 작업을 한다.\n",
    " - 랜덤하게 데이터를 추출하되, 중복된 추출을 허용한다.\n",
    " - 랜덤 포레스트 : DecisionTree의 배깅 모델\n",
    "3. 부스팅(boosting)\n",
    " - 같은 알고리즘 모델 여러개를 이용해서 투표를 진행\n",
    " - 이전 모델이 잘 못 학습한 결과를 다음모델이 반영해서 학습하도록 하는 것\n",
    " - 학습 진행이 순차적으로 일어나기 때문에 상대적으로 속도가 느리다."
   ]
  },
  {
   "cell_type": "markdown",
   "id": "ee0addec",
   "metadata": {},
   "source": [
    "# Random Forest (랜덤 포레스트)"
   ]
  },
  {
   "cell_type": "code",
   "execution_count": 183,
   "id": "d7e9129c",
   "metadata": {},
   "outputs": [],
   "source": [
    "from sklearn.ensemble import RandomForestClassifier"
   ]
  },
  {
   "cell_type": "code",
   "execution_count": 184,
   "id": "b4b15dc4",
   "metadata": {},
   "outputs": [],
   "source": [
    "rf_model= RandomForestClassifier(n_estimators= 100, #배깅할 모델 개수\n",
    "                                 max_features= 0.5, # 랜덤하게 몇 퍼센트나 뽑아다가 쓸지 \n",
    "                                 max_depth= 8,\n",
    "                                 min_samples_leaf=10,\n",
    "                                 random_state = 721\n",
    "                                )"
   ]
  },
  {
   "cell_type": "code",
   "execution_count": 185,
   "id": "1e0fced0",
   "metadata": {},
   "outputs": [
    {
     "data": {
      "text/plain": [
       "array([0.82122905, 0.81460674, 0.83707865, 0.79775281, 0.85393258])"
      ]
     },
     "execution_count": 185,
     "metadata": {},
     "output_type": "execute_result"
    }
   ],
   "source": [
    "rf_rs = cross_val_score(rf_model,X_train,y_train,cv=5)\n",
    "rf_rs"
   ]
  },
  {
   "cell_type": "markdown",
   "id": "c3e858c7",
   "metadata": {},
   "source": [
    "### 그리드서치\n",
    "- 앙상블 모델의 경우 하이퍼파라미터 수가 엄청 많다.\n",
    "- 각 파라미터를 독립적으로 튜닝하는건 불가능하다.\n",
    "- 많은 양의 파라미터를 동시에 튜닝하기 위한 함수로 그리드서치를 지원한다."
   ]
  },
  {
   "cell_type": "code",
   "execution_count": 186,
   "id": "092f7dfe",
   "metadata": {},
   "outputs": [],
   "source": [
    "from sklearn.model_selection import GridSearchCV"
   ]
  },
  {
   "cell_type": "code",
   "execution_count": null,
   "id": "1264fd0e",
   "metadata": {},
   "outputs": [],
   "source": [
    "# 탐색하고 싶은 하이퍼파라미터 조합을 딕셔너리로 생성\n",
    "param_grid= {}"
   ]
  },
  {
   "cell_type": "code",
   "execution_count": null,
   "id": "ff64f3ea",
   "metadata": {},
   "outputs": [],
   "source": []
  },
  {
   "cell_type": "code",
   "execution_count": null,
   "id": "85f33d29",
   "metadata": {},
   "outputs": [],
   "source": []
  },
  {
   "cell_type": "code",
   "execution_count": null,
   "id": "8afedd7f",
   "metadata": {},
   "outputs": [],
   "source": []
  },
  {
   "cell_type": "code",
   "execution_count": null,
   "id": "3e257725",
   "metadata": {},
   "outputs": [],
   "source": []
  },
  {
   "cell_type": "code",
   "execution_count": null,
   "id": "50a91c74",
   "metadata": {},
   "outputs": [],
   "source": []
  },
  {
   "cell_type": "code",
   "execution_count": null,
   "id": "24ef7f5a",
   "metadata": {},
   "outputs": [],
   "source": []
  },
  {
   "cell_type": "code",
   "execution_count": null,
   "id": "4f81179c",
   "metadata": {},
   "outputs": [],
   "source": []
  },
  {
   "cell_type": "code",
   "execution_count": null,
   "id": "d4a93573",
   "metadata": {},
   "outputs": [],
   "source": []
  }
 ],
 "metadata": {
  "kernelspec": {
   "display_name": "Python 3 (ipykernel)",
   "language": "python",
   "name": "python3"
  },
  "language_info": {
   "codemirror_mode": {
    "name": "ipython",
    "version": 3
   },
   "file_extension": ".py",
   "mimetype": "text/x-python",
   "name": "python",
   "nbconvert_exporter": "python",
   "pygments_lexer": "ipython3",
   "version": "3.9.12"
  },
  "toc": {
   "base_numbering": 1,
   "nav_menu": {},
   "number_sections": true,
   "sideBar": true,
   "skip_h1_title": false,
   "title_cell": "Table of Contents",
   "title_sidebar": "Contents",
   "toc_cell": false,
   "toc_position": {
    "height": "588.8px",
    "left": "1228.8px",
    "top": "135.125px",
    "width": "307.2px"
   },
   "toc_section_display": true,
   "toc_window_display": true
  }
 },
 "nbformat": 4,
 "nbformat_minor": 5
}
