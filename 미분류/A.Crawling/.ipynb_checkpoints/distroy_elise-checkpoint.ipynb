{
 "cells": [
  {
   "cell_type": "code",
   "execution_count": 1,
   "id": "2151b364",
   "metadata": {},
   "outputs": [],
   "source": [
    "user_ID = \"bumgiv@naver.comw\"\n",
    "user_PASSWORD = \"the808bg486\"\n"
   ]
  },
  {
   "cell_type": "markdown",
   "id": "5549bf2f",
   "metadata": {},
   "source": [
    "# 코드 실행"
   ]
  },
  {
   "cell_type": "code",
   "execution_count": 2,
   "id": "99ba1ba7",
   "metadata": {},
   "outputs": [],
   "source": [
    "from selenium import webdriver as wb\n",
    "from selenium.webdriver.common.keys import Keys\n",
    "from selenium.webdriver.common.by import By\n",
    "from tqdm import tqdm_notebook as tq\n",
    "import time"
   ]
  },
  {
   "cell_type": "code",
   "execution_count": 3,
   "id": "c90d23ba",
   "metadata": {},
   "outputs": [],
   "source": [
    "timeDelay_short = 4\n",
    "timeDelay_medium = 5\n",
    "timeDelay_long = 5"
   ]
  },
  {
   "cell_type": "code",
   "execution_count": 42,
   "id": "9b5eacab",
   "metadata": {},
   "outputs": [],
   "source": [
    "# 브라우저 윈도우 사이즈 - 필요없는 듯?\n",
    "#options = wb.ChromeOptions()\n",
    "#options.add_argument('window-size=1920x1080')"
   ]
  },
  {
   "cell_type": "code",
   "execution_count": 17,
   "id": "2ba8fef6",
   "metadata": {},
   "outputs": [],
   "source": [
    "driver = wb.Chrome()\n",
    "driver.get(\"https://elice.io/\")\n",
    "driver.maximize_window()\n",
    "time.sleep(timeDelay_short)\n",
    "driver.find_element(By.CLASS_NAME,\"Button__StyledButton-sc-sgmtm1-0.kheXXG\").click()\n",
    "time.sleep(timeDelay_short)\n",
    "driver.find_element(By.CLASS_NAME,\"w2s5uu-0.blcwjU.eb-input\").send_keys(user_ID)\n",
    "time.sleep(timeDelay_short)\n",
    "driver.find_elements(By.CLASS_NAME,\"w2s5uu-0.blcwjU.eb-input\")[1].send_keys(user_PASSWORD)\n",
    "time.sleep(timeDelay_short)\n",
    "driver.find_element(By.CLASS_NAME,\"eb-button.eb-button--role-primary.eb-button--size-default.eb-button--block\").click()\n",
    "time.sleep(timeDelay_short)\n",
    "driver.find_element(By.CLASS_NAME,\"Button__StyledButton-sc-sgmtm1-0.ilcWzw\").click()\n",
    "time.sleep(timeDelay_medium)\n",
    "driver.switch_to.window(driver.window_handles[-1])\n",
    "time.sleep(timeDelay_short)\n",
    "driver.find_elements(By.CLASS_NAME,\"eb-header--nav-item\")[1].click()"
   ]
  },
  {
   "cell_type": "code",
   "execution_count": null,
   "id": "c54409c4",
   "metadata": {},
   "outputs": [],
   "source": []
  },
  {
   "cell_type": "code",
   "execution_count": null,
   "id": "c9ce3390",
   "metadata": {},
   "outputs": [],
   "source": []
  },
  {
   "cell_type": "markdown",
   "id": "065649fc",
   "metadata": {},
   "source": [
    "# 완성용"
   ]
  },
  {
   "cell_type": "code",
   "execution_count": 7,
   "id": "5f66a9be",
   "metadata": {},
   "outputs": [
    {
     "ename": "IndexError",
     "evalue": "list index out of range",
     "output_type": "error",
     "traceback": [
      "\u001b[1;31m---------------------------------------------------------------------------\u001b[0m",
      "\u001b[1;31mIndexError\u001b[0m                                Traceback (most recent call last)",
      "Input \u001b[1;32mIn [7]\u001b[0m, in \u001b[0;36m<cell line: 2>\u001b[1;34m()\u001b[0m\n\u001b[0;32m     16\u001b[0m lessonList[i]\u001b[38;5;241m.\u001b[39mclick()\n\u001b[0;32m     17\u001b[0m time\u001b[38;5;241m.\u001b[39msleep(timeDelay_medium)\n\u001b[1;32m---> 18\u001b[0m nextBtn \u001b[38;5;241m=\u001b[39m \u001b[43mdriver\u001b[49m\u001b[38;5;241;43m.\u001b[39;49m\u001b[43mfind_elements\u001b[49m\u001b[43m(\u001b[49m\u001b[43mBy\u001b[49m\u001b[38;5;241;43m.\u001b[39;49m\u001b[43mCLASS_NAME\u001b[49m\u001b[43m,\u001b[49m\u001b[38;5;124;43m\"\u001b[39;49m\u001b[38;5;124;43meb-button__label\u001b[39;49m\u001b[38;5;124;43m\"\u001b[39;49m\u001b[43m)\u001b[49m\u001b[43m[\u001b[49m\u001b[38;5;241;43m1\u001b[39;49m\u001b[43m]\u001b[49m\n\u001b[0;32m     19\u001b[0m time\u001b[38;5;241m.\u001b[39msleep(timeDelay_short)\n\u001b[0;32m     20\u001b[0m \u001b[38;5;28;01mwhile\u001b[39;00m nextBtn\u001b[38;5;241m.\u001b[39mtext\u001b[38;5;241m==\u001b[39m\u001b[38;5;124m'\u001b[39m\u001b[38;5;124m다음\u001b[39m\u001b[38;5;124m'\u001b[39m:\n\u001b[0;32m     21\u001b[0m     \u001b[38;5;66;03m#강의가 있는지 여부\u001b[39;00m\n",
      "\u001b[1;31mIndexError\u001b[0m: list index out of range"
     ]
    }
   ],
   "source": [
    "# 현재 트랙화면\n",
    "for i in range(0,4):\n",
    "    \n",
    "    track = driver.find_elements(By.CLASS_NAME,\"sc-24768g-4.emtygC\")\n",
    "    track[i].click()\n",
    "    # 커리큘럼 화면\n",
    "    time.sleep(timeDelay_medium)\n",
    "    curriculum = driver.find_elements(By.CLASS_NAME,\"sc-16vg2yq-0.bbMWWg\")\n",
    "    for i in range(1,len(curriculum)):  \n",
    "        curriculum[i].click()\n",
    "        # 수업목록 -시작하기 버튼을 찾아 공부하기 시작\n",
    "        time.sleep(timeDelay_medium)\n",
    "        lessonList = driver.find_elements(By.CLASS_NAME,\"sc-16vg2yq-0.fXWXxi.eb-button__inner\")\n",
    "        time.sleep(timeDelay_short)\n",
    "        for i in range(3,len(lessonList)):\n",
    "            lessonList[i].click()\n",
    "            time.sleep(timeDelay_medium)\n",
    "            nextBtn = driver.find_elements(By.CLASS_NAME,\"eb-button__label\")[1]\n",
    "            time.sleep(timeDelay_short)\n",
    "            while nextBtn.text=='다음':\n",
    "                #강의가 있는지 여부\n",
    "                lecture = len(driver.find_elements(By.CLASS_NAME,\"sc-1a1otok-0.iooXzx.em-material-video-file\"))\n",
    "                time.sleep(timeDelay_short)\n",
    "                if lecture==1:\n",
    "                    time.sleep(timeDelay_long)\n",
    "                    nextBtn = driver.find_elements(By.CLASS_NAME,\"eb-button__label\")[1]\n",
    "                    time.sleep(timeDelay_medium)\n",
    "                    nextBtn.click()\n",
    "                    time.sleep(timeDelay_medium)\n",
    "                    if len(nextBtn)==2: \n",
    "                        time.sleep(timeDelay_short)\n",
    "                        nextBtn = driver.find_elements(By.CLASS_NAME,\"eb-button__label\")[1]\n",
    "                        time.sleep(timeDelay_medium)\n",
    "                    else:\n",
    "                        nextBtn = driver.find_elements(By.CLASS_NAME,\"eb-button__label\")[0]\n",
    "                        time.sleep(timeDelay_medium)\n",
    "                else:                    \n",
    "                    nextBtn = driver.find_elements(By.CLASS_NAME,\"eb-button__label\")[1]\n",
    "                    time.sleep(timeDelay_short)\n",
    "                    nextBtn.click()\n",
    "                    time.sleep(timeDelay_medium)\n",
    "                    nextBtn = driver.find_elements(By.CLASS_NAME,\"eb-button__label\")\n",
    "                    time.sleep(timeDelay_short)\n",
    "                    if len(nextBtn)==2:                        \n",
    "                        nextBtn = driver.find_elements(By.CLASS_NAME,\"eb-button__label\")[1]\n",
    "                        time.sleep(timeDelay_short)\n",
    "                    else:\n",
    "                        nextBtn = driver.find_elements(By.CLASS_NAME,\"eb-button__label\")[0]\n",
    "                        time.sleep(timeDelay_short)\n",
    "            # 왼쪽 최하단 방나가게 버튼            \n",
    "            toListBtn = driver.find_element(By.CLASS_NAME,\"eb-button.sc-1fcl7e0-0.djjuXy.eb-icon-button.eb-button--role-navy3.eb-button--size-tiny\")\n",
    "            time.sleep(timeDelay_short)\n",
    "            toListBtn.click()\n",
    "            time.sleep(timeDelay_medium)\n",
    "            #왼쪽 학습공간 수업목록 보기\n",
    "            driver.find_element(By.CLASS_NAME,\"sc-17nu1f1-0.dOTWi.eb-side-nav-drawer__item\").click()\n",
    "            time.sleep(timeDelay_medium)\n",
    "            lessonList = driver.find_elements(By.CLASS_NAME,\"sc-16vg2yq-0.fXWXxi.eb-button__inner\")\n",
    "            time.sleep(timeDelay_short)\n",
    "        #왼쪽 상단 (과목위_마크)\n",
    "        driver.find_element(By.CLASS_NAME,\"sc-101dz3v-0.cjigYt\").click()\n",
    "        time.sleep(timeDelay_medium)\n",
    "        driver.find_element(By.CLASS_NAME,\"eb-text.eb-text--role-primary.eb-text--size-small.eb-text--bold\").click()\n",
    "        time.sleep(timeDelay_medium)\n",
    "        curriculum = driver.find_elements(By.CLASS_NAME,\"sc-16vg2yq-0.bbMWWg\")\n",
    "        time.sleep(timeDelay_short)\n",
    "    #최상단 내학습 탭\n",
    "    driver.find_elements(By.CLASS_NAME,\"eb-header--nav-item\")[1].click()\n",
    "    time.sleep(timeDelay_medium)\n"
   ]
  },
  {
   "cell_type": "markdown",
   "id": "18349c57",
   "metadata": {},
   "source": [
    "# 연습용"
   ]
  },
  {
   "cell_type": "code",
   "execution_count": null,
   "id": "8bfd33f4",
   "metadata": {},
   "outputs": [],
   "source": []
  },
  {
   "cell_type": "code",
   "execution_count": 56,
   "id": "cfb941a5",
   "metadata": {},
   "outputs": [
    {
     "data": {
      "text/plain": [
       "[<selenium.webdriver.remote.webelement.WebElement (session=\"a1289bf8a57f192f9fa90f76611897ed\", element=\"6c4723e6-40d2-49c2-9fcc-4aed1b3a063b\")>,\n",
       " <selenium.webdriver.remote.webelement.WebElement (session=\"a1289bf8a57f192f9fa90f76611897ed\", element=\"a395904a-5ffb-42b8-8f9f-cacbcf21c0cb\")>]"
      ]
     },
     "execution_count": 56,
     "metadata": {},
     "output_type": "execute_result"
    }
   ],
   "source": [
    "nextBtn = driver.find_elements(By.CLASS_NAME,\"eb-button__label\")\n",
    "nextBtn"
   ]
  },
  {
   "cell_type": "code",
   "execution_count": 51,
   "id": "9a112513",
   "metadata": {},
   "outputs": [
    {
     "data": {
      "text/plain": [
       "1"
      ]
     },
     "execution_count": 51,
     "metadata": {},
     "output_type": "execute_result"
    }
   ],
   "source": [
    "lecture = len(driver.find_elements(By.CLASS_NAME,\"sc-1a1otok-0.iooXzx.em-material-video-file\"))\n",
    "lecture"
   ]
  },
  {
   "cell_type": "code",
   "execution_count": 20,
   "id": "891aeaf7",
   "metadata": {},
   "outputs": [
    {
     "ename": "TypeError",
     "evalue": "'WebElement' object is not subscriptable",
     "output_type": "error",
     "traceback": [
      "\u001b[1;31m---------------------------------------------------------------------------\u001b[0m",
      "\u001b[1;31mIndexError\u001b[0m                                Traceback (most recent call last)",
      "Input \u001b[1;32mIn [20]\u001b[0m, in \u001b[0;36m<cell line: 2>\u001b[1;34m()\u001b[0m\n\u001b[0;32m     18\u001b[0m \u001b[38;5;28;01mtry\u001b[39;00m:\n\u001b[1;32m---> 19\u001b[0m     nextBtn \u001b[38;5;241m=\u001b[39m \u001b[43mdriver\u001b[49m\u001b[38;5;241;43m.\u001b[39;49m\u001b[43mfind_elements\u001b[49m\u001b[43m(\u001b[49m\u001b[43mBy\u001b[49m\u001b[38;5;241;43m.\u001b[39;49m\u001b[43mCLASS_NAME\u001b[49m\u001b[43m,\u001b[49m\u001b[38;5;124;43m\"\u001b[39;49m\u001b[38;5;124;43meb-button__label\u001b[39;49m\u001b[38;5;124;43m\"\u001b[39;49m\u001b[43m)\u001b[49m\u001b[43m[\u001b[49m\u001b[38;5;241;43m1\u001b[39;49m\u001b[43m]\u001b[49m\n\u001b[0;32m     20\u001b[0m     time\u001b[38;5;241m.\u001b[39msleep(timeDelay_short)\n",
      "\u001b[1;31mIndexError\u001b[0m: list index out of range",
      "\nDuring handling of the above exception, another exception occurred:\n",
      "\u001b[1;31mTypeError\u001b[0m                                 Traceback (most recent call last)",
      "Input \u001b[1;32mIn [20]\u001b[0m, in \u001b[0;36m<cell line: 2>\u001b[1;34m()\u001b[0m\n\u001b[0;32m     61\u001b[0m nextBtn \u001b[38;5;241m=\u001b[39m driver\u001b[38;5;241m.\u001b[39mfind_element(By\u001b[38;5;241m.\u001b[39mCLASS_NAME,\u001b[38;5;124m\"\u001b[39m\u001b[38;5;124meb-button__label\u001b[39m\u001b[38;5;124m\"\u001b[39m)\n\u001b[0;32m     62\u001b[0m time\u001b[38;5;241m.\u001b[39msleep(timeDelay_short)\n\u001b[1;32m---> 63\u001b[0m \u001b[38;5;28;01mif\u001b[39;00m \u001b[43mnextBtn\u001b[49m\u001b[43m[\u001b[49m\u001b[38;5;241;43m0\u001b[39;49m\u001b[43m]\u001b[49m\u001b[38;5;241m==\u001b[39m\u001b[38;5;124m'\u001b[39m\u001b[38;5;124m다음\u001b[39m\u001b[38;5;124m'\u001b[39m:\n\u001b[0;32m     64\u001b[0m     nextBtn\u001b[38;5;241m.\u001b[39mclick()\n\u001b[0;32m     65\u001b[0m \u001b[38;5;28;01melse\u001b[39;00m:\n",
      "\u001b[1;31mTypeError\u001b[0m: 'WebElement' object is not subscriptable"
     ]
    }
   ],
   "source": [
    "# 현재 트랙화면\n",
    "for i in range(2,4):\n",
    "    track = driver.find_elements(By.CLASS_NAME,\"sc-24768g-4.emtygC\")\n",
    "    time.sleep(timeDelay_short)\n",
    "    track[i].click()\n",
    "    # 커리큘럼 화면\n",
    "    time.sleep(timeDelay_medium)\n",
    "    curriculum = driver.find_elements(By.CLASS_NAME,\"sc-16vg2yq-0.bbMWWg\")\n",
    "    for i in range(1,len(curriculum)):  \n",
    "        curriculum[i].click()\n",
    "        # 수업목록 -시작하기 버튼을 찾아 공부하기 시작\n",
    "        time.sleep(timeDelay_medium)\n",
    "        lessonList = driver.find_elements(By.CLASS_NAME,\"sc-16vg2yq-0.fXWXxi.eb-button__inner\")\n",
    "        time.sleep(timeDelay_short)\n",
    "        for i in range(3,len(lessonList)):\n",
    "            lessonList[i].click()\n",
    "            time.sleep(timeDelay_medium)\n",
    "            try:\n",
    "                nextBtn = driver.find_elements(By.CLASS_NAME,\"eb-button__label\")[1]\n",
    "                time.sleep(timeDelay_short)\n",
    "                while nextBtn.text=='다음':\n",
    "                    #강의가 있는지 여부\n",
    "                    lecture = len(driver.find_elements(By.CLASS_NAME,\"sc-1a1otok-0.iooXzx.em-material-video-file\"))\n",
    "                    time.sleep(timeDelay_short)\n",
    "                    if lecture==1:\n",
    "                        time.sleep(timeDelay_long)\n",
    "                        nextBtn = driver.find_elements(By.CLASS_NAME,\"eb-button__label\")[1]\n",
    "                        time.sleep(timeDelay_short)\n",
    "                        nextBtn.click()\n",
    "                        time.sleep(timeDelay_medium)\n",
    "                        if len(nextBtn)==2:                        \n",
    "                            nextBtn = driver.find_elements(By.CLASS_NAME,\"eb-button__label\")[1]\n",
    "                            time.sleep(timeDelay_medium)\n",
    "                        else:\n",
    "                            nextBtn = driver.find_elements(By.CLASS_NAME,\"eb-button__label\")[0]\n",
    "                            time.sleep(timeDelay_medium)\n",
    "                    else:                    \n",
    "                        nextBtn = driver.find_elements(By.CLASS_NAME,\"eb-button__label\")[1]\n",
    "                        time.sleep(timeDelay_short)\n",
    "                        nextBtn.click()\n",
    "                        time.sleep(timeDelay_medium)\n",
    "                        nextBtn = driver.find_elements(By.CLASS_NAME,\"eb-button__label\")\n",
    "                        time.sleep(timeDelay_short)\n",
    "                        if len(nextBtn)==2:                        \n",
    "                            nextBtn = driver.find_elements(By.CLASS_NAME,\"eb-button__label\")[1]\n",
    "                            time.sleep(timeDelay_short)\n",
    "                        else:\n",
    "                            nextBtn = driver.find_elements(By.CLASS_NAME,\"eb-button__label\")[0]\n",
    "                            time.sleep(timeDelay_short)\n",
    "                # 왼쪽 최하단 방나가게 버튼            \n",
    "                toListBtn = driver.find_element(By.CLASS_NAME,\"eb-button.sc-1fcl7e0-0.djjuXy.eb-icon-button.eb-button--role-navy3.eb-button--size-tiny\")\n",
    "                time.sleep(timeDelay_short)\n",
    "                toListBtn.click()\n",
    "                time.sleep(timeDelay_medium)\n",
    "                #왼쪽 학습공간 수업목록 보기\n",
    "                driver.find_element(By.CLASS_NAME,\"sc-17nu1f1-0.dOTWi.eb-side-nav-drawer__item\").click()\n",
    "                time.sleep(timeDelay_medium)\n",
    "                lessonList = driver.find_elements(By.CLASS_NAME,\"sc-16vg2yq-0.fXWXxi.eb-button__inner\")\n",
    "                time.sleep(timeDelay_short)\n",
    "            except:\n",
    "                nextBtn = driver.find_element(By.CLASS_NAME,\"eb-button__label\")\n",
    "                time.sleep(timeDelay_short)\n",
    "                if nextBtn[0]=='다음':\n",
    "                    nextBtn.click()\n",
    "                else:\n",
    "                    toListBtn = driver.find_element(By.CLASS_NAME,\"eb-button.sc-1fcl7e0-0.djjuXy.eb-icon-button.eb-button--role-navy3.eb-button--size-tiny\")\n",
    "                    time.sleep(timeDelay_short)\n",
    "                    toListBtn.click()\n",
    "                    time.sleep(timeDelay_medium)\n",
    "        #왼쪽 상단 (과목위_마크)\n",
    "        driver.find_element(By.CLASS_NAME,\"sc-101dz3v-0.cjigYt\").click()\n",
    "        time.sleep(timeDelay_medium)\n",
    "        backToCur = driver.find_element(By.CLASS_NAME,\"sc-16vg2yq-0.iWWqBo\")\n",
    "        time.sleep(timeDelay_medium)\n",
    "        backToCur.click()\n",
    "        time.sleep(timeDelay_medium)\n",
    "        curriculum = driver.find_elements(By.CLASS_NAME,\"sc-16vg2yq-0.bbMWWg\")\n",
    "        time.sleep(timeDelay_short)\n",
    "    #최상단 내학습 탭\n",
    "    driver.find_elements(By.CLASS_NAME,\"eb-header--nav-item\")[1].click()\n",
    "    time.sleep(timeDelay_medium)\n"
   ]
  },
  {
   "cell_type": "code",
   "execution_count": 19,
   "id": "8e294c07",
   "metadata": {},
   "outputs": [],
   "source": [
    "driver.find_element(By.CLASS_NAME,\"sc-16vg2yq-0.iWWqBo\").click()"
   ]
  },
  {
   "cell_type": "code",
   "execution_count": null,
   "id": "e2036967",
   "metadata": {},
   "outputs": [],
   "source": []
  },
  {
   "cell_type": "code",
   "execution_count": null,
   "id": "459dd583",
   "metadata": {},
   "outputs": [],
   "source": []
  },
  {
   "cell_type": "code",
   "execution_count": 38,
   "id": "cf197100",
   "metadata": {},
   "outputs": [
    {
     "ename": "IndexError",
     "evalue": "list index out of range",
     "output_type": "error",
     "traceback": [
      "\u001b[1;31m---------------------------------------------------------------------------\u001b[0m",
      "\u001b[1;31mIndexError\u001b[0m                                Traceback (most recent call last)",
      "\u001b[1;32m<ipython-input-38-b26f08c2f959>\u001b[0m in \u001b[0;36m<module>\u001b[1;34m\u001b[0m\n\u001b[0;32m      9\u001b[0m     \u001b[1;32mfor\u001b[0m \u001b[0mi\u001b[0m \u001b[1;32min\u001b[0m \u001b[0mrange\u001b[0m\u001b[1;33m(\u001b[0m\u001b[1;36m1\u001b[0m\u001b[1;33m,\u001b[0m\u001b[0mlen\u001b[0m\u001b[1;33m(\u001b[0m\u001b[0mcurriculum\u001b[0m\u001b[1;33m)\u001b[0m\u001b[1;33m)\u001b[0m\u001b[1;33m:\u001b[0m\u001b[1;33m\u001b[0m\u001b[1;33m\u001b[0m\u001b[0m\n\u001b[0;32m     10\u001b[0m         \u001b[0mcurriculum\u001b[0m \u001b[1;33m=\u001b[0m \u001b[0mdriver\u001b[0m\u001b[1;33m.\u001b[0m\u001b[0mfind_elements\u001b[0m\u001b[1;33m(\u001b[0m\u001b[0mBy\u001b[0m\u001b[1;33m.\u001b[0m\u001b[0mCLASS_NAME\u001b[0m\u001b[1;33m,\u001b[0m\u001b[1;34m\"sc-16vg2yq-0.bbMWWg\"\u001b[0m\u001b[1;33m)\u001b[0m\u001b[1;33m\u001b[0m\u001b[1;33m\u001b[0m\u001b[0m\n\u001b[1;32m---> 11\u001b[1;33m         \u001b[0mcurriculum\u001b[0m\u001b[1;33m[\u001b[0m\u001b[0mi\u001b[0m\u001b[1;33m]\u001b[0m\u001b[1;33m.\u001b[0m\u001b[0mclick\u001b[0m\u001b[1;33m(\u001b[0m\u001b[1;33m)\u001b[0m\u001b[1;33m\u001b[0m\u001b[1;33m\u001b[0m\u001b[0m\n\u001b[0m\u001b[0;32m     12\u001b[0m         \u001b[0mtime\u001b[0m\u001b[1;33m.\u001b[0m\u001b[0msleep\u001b[0m\u001b[1;33m(\u001b[0m\u001b[0mtimeDelay_medium\u001b[0m\u001b[1;33m)\u001b[0m\u001b[1;33m\u001b[0m\u001b[1;33m\u001b[0m\u001b[0m\n\u001b[0;32m     13\u001b[0m         \u001b[1;32mtry\u001b[0m\u001b[1;33m:\u001b[0m\u001b[1;33m\u001b[0m\u001b[1;33m\u001b[0m\u001b[0m\n",
      "\u001b[1;31mIndexError\u001b[0m: list index out of range"
     ]
    }
   ],
   "source": [
    "# 현재 트랙화면\n",
    "for i in range(2,4):\n",
    "    track = driver.find_elements(By.CLASS_NAME,\"sc-24768g-4.emtygC\")\n",
    "    track[i].click()\n",
    "    # 커리큘럼 화면\n",
    "    time.sleep(timeDelay_medium)\n",
    "    curriculum = driver.find_elements(By.CLASS_NAME,\"sc-16vg2yq-0.bbMWWg\")\n",
    "    time.sleep(timeDelay_short)\n",
    "    for i in range(1,len(curriculum)):  \n",
    "        curriculum = driver.find_elements(By.CLASS_NAME,\"sc-16vg2yq-0.bbMWWg\")\n",
    "        curriculum[i].click()\n",
    "        time.sleep(timeDelay_medium)\n",
    "        try: \n",
    "            # 수업목록 -시작하기 버튼을 찾아 공부하기 시작\n",
    "            lessonList = driver.find_elements(By.CLASS_NAME,\"sc-16vg2yq-0.fXWXxi.eb-button__inner\")\n",
    "            time.sleep(timeDelay_short)\n",
    "            for i in range(3,len(lessonList)):\n",
    "                lessonList[i].click()\n",
    "                time.sleep(timeDelay_medium)\n",
    "                nextBtn = driver.find_elements(By.CLASS_NAME,\"eb-button__label\")[1]\n",
    "                time.sleep(timeDelay_short)\n",
    "                while nextBtn.text=='다음':\n",
    "                    #강의가 있는지 여부\n",
    "                    lecture = len(driver.find_elements(By.CLASS_NAME,\"sc-1a1otok-0.iooXzx.em-material-video-file\"))\n",
    "                    time.sleep(timeDelay_short)\n",
    "                    if lecture==1:\n",
    "                        time.sleep(timeDelay_long)\n",
    "                        nextBtn = driver.find_elements(By.CLASS_NAME,\"eb-button__label\")[1]\n",
    "                        time.sleep(timeDelay_medium)\n",
    "                        nextBtn.click()\n",
    "                        time.sleep(timeDelay_medium)\n",
    "                        if len(nextBtn)==2:                        \n",
    "                            nextBtn = driver.find_elements(By.CLASS_NAME,\"eb-button__label\")[1]\n",
    "                            time.sleep(timeDelay_medium)\n",
    "                        else:\n",
    "                            nextBtn = driver.find_elements(By.CLASS_NAME,\"eb-button__label\")[0]\n",
    "                            time.sleep(timeDelay_medium)\n",
    "                    else:                    \n",
    "                        nextBtn = driver.find_elements(By.CLASS_NAME,\"eb-button__label\")[1]\n",
    "                        time.sleep(timeDelay_short)\n",
    "                        nextBtn.click()\n",
    "                        time.sleep(timeDelay_medium)\n",
    "                        nextBtn = driver.find_elements(By.CLASS_NAME,\"eb-button__label\")\n",
    "                        time.sleep(timeDelay_short)\n",
    "                        if len(nextBtn)==2:                        \n",
    "                            nextBtn = driver.find_elements(By.CLASS_NAME,\"eb-button__label\")[1]\n",
    "                            time.sleep(timeDelay_short)\n",
    "                        else:\n",
    "                            nextBtn = driver.find_elements(By.CLASS_NAME,\"eb-button__label\")[0]\n",
    "                            time.sleep(timeDelay_short)    \n",
    "                toListBtn = driver.find_element(By.CLASS_NAME,\"eb-button.sc-1fcl7e0-0.djjuXy.eb-icon-button.eb-button--role-navy3.eb-button--size-tiny\")\n",
    "                time.sleep(timeDelay_short)\n",
    "                toListBtn.click()\n",
    "                time.sleep(timeDelay_medium)\n",
    "                #왼쪽 학습공간 수업목록 보기\n",
    "                driver.find_element(By.CLASS_NAME,\"sc-17nu1f1-0.dOTWi.eb-side-nav-drawer__item\").click()\n",
    "                time.sleep(timeDelay_medium)\n",
    "                lessonList = driver.find_elements(By.CLASS_NAME,\"sc-16vg2yq-0.fXWXxi.eb-button__inner\")\n",
    "                time.sleep(timeDelay_short)\n",
    "            #왼쪽 상단 (과목위_마크)\n",
    "            driver.find_element(By.CLASS_NAME,\"sc-101dz3v-0.cjigYt\").click()\n",
    "            time.sleep(timeDelay_medium)\n",
    "            driver.find_element(By.CLASS_NAME,\"eb-text.eb-text--role-primary.eb-text--size-small.eb-text--bold\").click()\n",
    "            curriculum = driver.find_elements(By.CLASS_NAME,\"sc-16vg2yq-0.bbMWWg\")\n",
    "            time.sleep(timeDelay_short)\n",
    "        except:\n",
    "            driver.back()\n",
    "            time.sleep(timeDelay_short)\n",
    "            curriculum = driver.find_elements(By.CLASS_NAME,\"sc-16vg2yq-0.bbMWWg\")\n",
    "            time.sleep(timeDelay_short)\n",
    "            \n",
    "    #최상단 내학습 탭\n",
    "    driver.find_elements(By.CLASS_NAME,\"eb-header--nav-item\")[1].click()\n",
    "    time.sleep(timeDelay_medium)\n"
   ]
  },
  {
   "cell_type": "code",
   "execution_count": null,
   "id": "e0de24f3",
   "metadata": {},
   "outputs": [],
   "source": []
  },
  {
   "cell_type": "code",
   "execution_count": 33,
   "id": "10db3ecc",
   "metadata": {},
   "outputs": [
    {
     "data": {
      "text/plain": [
       "[<selenium.webdriver.remote.webelement.WebElement (session=\"64b97bb956cbd9281e56b167c8ac9431\", element=\"9e914229-18e9-430e-93e7-4907131483f1\")>,\n",
       " <selenium.webdriver.remote.webelement.WebElement (session=\"64b97bb956cbd9281e56b167c8ac9431\", element=\"d2dbc342-0e59-484a-9fc8-87c96011aa3e\")>,\n",
       " <selenium.webdriver.remote.webelement.WebElement (session=\"64b97bb956cbd9281e56b167c8ac9431\", element=\"c304b3cf-06fa-4da4-b7e8-87f6f436ffa9\")>,\n",
       " <selenium.webdriver.remote.webelement.WebElement (session=\"64b97bb956cbd9281e56b167c8ac9431\", element=\"4c3ffcb7-ac2d-4f0a-99c5-8738b89d66a7\")>,\n",
       " <selenium.webdriver.remote.webelement.WebElement (session=\"64b97bb956cbd9281e56b167c8ac9431\", element=\"95314304-16e3-48d5-bbdb-3139e6c38549\")>]"
      ]
     },
     "execution_count": 33,
     "metadata": {},
     "output_type": "execute_result"
    }
   ],
   "source": [
    "curriculum = driver.find_elements(By.CLASS_NAME,\"sc-16vg2yq-0.bbMWWg\")\n",
    "curriculum"
   ]
  },
  {
   "cell_type": "code",
   "execution_count": null,
   "id": "b12c83f4",
   "metadata": {},
   "outputs": [],
   "source": []
  },
  {
   "cell_type": "code",
   "execution_count": null,
   "id": "5187acd6",
   "metadata": {},
   "outputs": [],
   "source": []
  },
  {
   "cell_type": "code",
   "execution_count": null,
   "id": "ef39a5ea",
   "metadata": {},
   "outputs": [],
   "source": []
  },
  {
   "cell_type": "code",
   "execution_count": null,
   "id": "21e3b579",
   "metadata": {},
   "outputs": [],
   "source": []
  },
  {
   "cell_type": "code",
   "execution_count": null,
   "id": "4f0ea3cd",
   "metadata": {},
   "outputs": [],
   "source": []
  },
  {
   "cell_type": "code",
   "execution_count": null,
   "id": "1519f3cb",
   "metadata": {
    "scrolled": false
   },
   "outputs": [],
   "source": []
  },
  {
   "cell_type": "code",
   "execution_count": null,
   "id": "05271f51",
   "metadata": {},
   "outputs": [],
   "source": []
  },
  {
   "cell_type": "code",
   "execution_count": null,
   "id": "27879c0d",
   "metadata": {},
   "outputs": [],
   "source": []
  }
 ],
 "metadata": {
  "kernelspec": {
   "display_name": "Python 3 (ipykernel)",
   "language": "python",
   "name": "python3"
  },
  "language_info": {
   "codemirror_mode": {
    "name": "ipython",
    "version": 3
   },
   "file_extension": ".py",
   "mimetype": "text/x-python",
   "name": "python",
   "nbconvert_exporter": "python",
   "pygments_lexer": "ipython3",
   "version": "3.9.12"
  },
  "toc": {
   "base_numbering": 1,
   "nav_menu": {},
   "number_sections": true,
   "sideBar": true,
   "skip_h1_title": false,
   "title_cell": "Table of Contents",
   "title_sidebar": "Contents",
   "toc_cell": false,
   "toc_position": {},
   "toc_section_display": true,
   "toc_window_display": false
  }
 },
 "nbformat": 4,
 "nbformat_minor": 5
}
