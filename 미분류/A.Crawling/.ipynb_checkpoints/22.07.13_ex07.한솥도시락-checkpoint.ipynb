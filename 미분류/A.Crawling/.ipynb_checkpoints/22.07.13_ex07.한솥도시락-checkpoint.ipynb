{
 "cells": [
  {
   "cell_type": "code",
   "execution_count": null,
   "id": "c91d1b03",
   "metadata": {},
   "outputs": [],
   "source": [
    "from selenium import webdriver as wb\n",
    "from selenium.webdriver.common.keys import Keys\n",
    "from selenium.webdriver.common.by import By\n",
    "import time\n",
    "import pandas as pd"
   ]
  },
  {
   "cell_type": "code",
   "execution_count": null,
   "id": "02c289fd",
   "metadata": {},
   "outputs": [],
   "source": [
    "# 1. 크롬브라우저 실행\n",
    "# 1.1 한솥 메뉴사이트로 이동"
   ]
  },
  {
   "cell_type": "code",
   "execution_count": null,
   "id": "5668a6a3",
   "metadata": {},
   "outputs": [],
   "source": [
    "driver = wb.Chrome()\n",
    "driver.get(\"https://www.hsd.co.kr/menu/menu_list\")"
   ]
  },
  {
   "cell_type": "code",
   "execution_count": null,
   "id": "c9fb8c69",
   "metadata": {},
   "outputs": [],
   "source": [
    "name = []\n",
    "price = []\n",
    "nameList = driver.find_elements(By.CLASS_NAME,\"h.fz_03\")\n",
    "priceList = driver.find_elements(By.CLASS_NAME,\"item-price\")\n",
    "for i in nameList:\n",
    "    name.append(i.text)\n",
    "\n",
    "for i in priceList:\n",
    "    price.append(i.text)\n"
   ]
  },
  {
   "cell_type": "code",
   "execution_count": null,
   "id": "3fa1969f",
   "metadata": {},
   "outputs": [],
   "source": [
    "len(name)"
   ]
  },
  {
   "cell_type": "code",
   "execution_count": null,
   "id": "b323b706",
   "metadata": {},
   "outputs": [],
   "source": [
    "len(price)"
   ]
  },
  {
   "cell_type": "code",
   "execution_count": null,
   "id": "7fb89175",
   "metadata": {},
   "outputs": [],
   "source": [
    "data = {\"상품명\":name,\"가격\":price}"
   ]
  },
  {
   "cell_type": "code",
   "execution_count": null,
   "id": "e5530ea9",
   "metadata": {},
   "outputs": [],
   "source": [
    "pd.DataFrame(data)"
   ]
  },
  {
   "cell_type": "code",
   "execution_count": null,
   "id": "d18cf8fb",
   "metadata": {},
   "outputs": [],
   "source": [
    "# By.CSS_SELECTOR = 선택자를 직접 명시할 때 사용\n",
    "# 주의점! 아이디는 #, 클래스 ., 키워드를 항상 명시해야 한다!\n",
    "\n",
    "priceList = driver.find_elements(By.CSS_SELECTOR,\".item-price > strong\")\n",
    "for i in priceList:\n",
    "    print(i.text)"
   ]
  },
  {
   "cell_type": "code",
   "execution_count": null,
   "id": "dc9f7502",
   "metadata": {},
   "outputs": [],
   "source": [
    "# 더보기 버튼을 끝까지 누루는 로직\n",
    "more = driver.find_elements(By.CLASS_NAME,\"btn_wrap.btn_more\")\n",
    "if "
   ]
  },
  {
   "cell_type": "code",
   "execution_count": null,
   "id": "78cdfe0d",
   "metadata": {},
   "outputs": [],
   "source": [
    "#btn_more > span > a"
   ]
  },
  {
   "cell_type": "code",
   "execution_count": null,
   "id": "ae5866f3",
   "metadata": {},
   "outputs": [],
   "source": [
    "btn = driver.find_element(By.CSS_SELECTOR,\"#btn_more > span > a\")"
   ]
  },
  {
   "cell_type": "code",
   "execution_count": null,
   "id": "2a5575ff",
   "metadata": {},
   "outputs": [],
   "source": [
    "while True:\n",
    "    btn = driver.find_element(By.CSS_SELECTOR,\"#btn_more > span > a\")\n",
    "    btn.click()\n",
    "    time.sleep(1)"
   ]
  },
  {
   "cell_type": "code",
   "execution_count": null,
   "id": "c9bdb446",
   "metadata": {},
   "outputs": [],
   "source": [
    "try :\n",
    "    while True :\n",
    "        btn = driver.find_element(By.CSS_SELECTOR,\"#btn_more > span > a\")\n",
    "        btn.click()\n",
    "        time.sleep(1)\n",
    "except :\n",
    "    print(\"더보기 완료!\")"
   ]
  },
  {
   "cell_type": "markdown",
   "id": "68c6d47b",
   "metadata": {},
   "source": [
    "# 한셀에 완벽한 크롤링 코드 짜기"
   ]
  },
  {
   "cell_type": "code",
   "execution_count": null,
   "id": "ed601aa9",
   "metadata": {},
   "outputs": [],
   "source": [
    "# 1. 크롬창 실행 후 > 한솥메뉴사이트 요청\n",
    "# 2. 더보기를 끝까지 누르는 로지크\n",
    "# 3. 가격정보,메뉴명을 수집\n",
    "# 4. 순수한 텍스트 정보만 추출 - 비어있는 리스트에 append작업\n",
    "# 5. 데이터 프레임 제작\n",
    "# 6. 판다스\n",
    "# 7. 한글이 깨지지 않고 csv파일을 제작하는 것이 목표!"
   ]
  },
  {
   "cell_type": "code",
   "execution_count": 16,
   "id": "6c75686e",
   "metadata": {
    "scrolled": true
   },
   "outputs": [],
   "source": [
    "from selenium import webdriver as wb\n",
    "from selenium.webdriver.common.by import By\n",
    "from selenium.webdriver.common.keys import Keys\n",
    "import time\n",
    "import pandas as pd\n",
    "\n",
    "driver = wb.Chrome()\n",
    "driver.get(\"https://www.hsd.co.kr/menu/menu_list\")\n",
    "time.sleep(1)\n",
    "driver.maximize_window()\n",
    "try:\n",
    "    while True:\n",
    "        btn= driver.find_element(By.CSS_SELECTOR,\"#btn_more > span > a\")\n",
    "        btn.click()\n",
    "        time.sleep(1)\n",
    "except:\n",
    "    pass\n",
    "\n",
    "\n",
    "name = driver.find_elements(By.CLASS_NAME,\"h.fz_03\")\n",
    "price = driver.find_elements(By.CSS_SELECTOR,\"div.item-text > div > strong\")\n",
    "\n",
    "nameList = []\n",
    "priceList = []\n",
    "\n",
    "for i in name:\n",
    "    nameList.append(i.text)\n",
    "for i in price:\n",
    "    priceList.append(i.text)\n",
    "    \n",
    "data = {\"메뉴명\":nameList,\"가격\":priceList}    \n",
    "hansot = pd.DataFrame(data)\n",
    "\n",
    "hansot.to_csv(\"한솥.csv\",encoding='euc-kr')\n",
    "\n"
   ]
  },
  {
   "cell_type": "markdown",
   "id": "81298a67",
   "metadata": {},
   "source": [
    "# 선택자 한번에 복사해오는 방법\n",
    "- F12개발자 도구에서 원하는 요소 찾기\n",
    "- 마우스 우클릭 > copy > copy selector\n",
    "- [주의점]\n",
    "- copy selector를 사용시 무조건 선택한 하나만 가지고옴\n",
    "- 복수개를 요청할때는 선택자의 수정이 필요함\n",
    "- ex) li:nth-child(3) > a 는 하나만 요청 / 복수개로 변경시에는 li > a 로 수정!"
   ]
  },
  {
   "cell_type": "code",
   "execution_count": null,
   "id": "417e534a",
   "metadata": {},
   "outputs": [],
   "source": []
  },
  {
   "cell_type": "code",
   "execution_count": null,
   "id": "b0db1bf3",
   "metadata": {},
   "outputs": [],
   "source": []
  },
  {
   "cell_type": "code",
   "execution_count": null,
   "id": "ec24231f",
   "metadata": {},
   "outputs": [],
   "source": []
  },
  {
   "cell_type": "code",
   "execution_count": null,
   "id": "e9d3042d",
   "metadata": {},
   "outputs": [],
   "source": []
  },
  {
   "cell_type": "code",
   "execution_count": null,
   "id": "4adcb169",
   "metadata": {},
   "outputs": [],
   "source": []
  }
 ],
 "metadata": {
  "kernelspec": {
   "display_name": "Python 3 (ipykernel)",
   "language": "python",
   "name": "python3"
  },
  "language_info": {
   "codemirror_mode": {
    "name": "ipython",
    "version": 3
   },
   "file_extension": ".py",
   "mimetype": "text/x-python",
   "name": "python",
   "nbconvert_exporter": "python",
   "pygments_lexer": "ipython3",
   "version": "3.9.12"
  },
  "toc": {
   "base_numbering": 1,
   "nav_menu": {},
   "number_sections": true,
   "sideBar": true,
   "skip_h1_title": false,
   "title_cell": "Table of Contents",
   "title_sidebar": "Contents",
   "toc_cell": false,
   "toc_position": {},
   "toc_section_display": true,
   "toc_window_display": false
  }
 },
 "nbformat": 4,
 "nbformat_minor": 5
}
