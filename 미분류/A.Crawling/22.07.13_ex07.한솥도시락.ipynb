{
 "cells": [
  {
   "cell_type": "code",
   "execution_count": 1,
   "id": "f8dcee31",
   "metadata": {},
   "outputs": [],
   "source": [
    "from selenium import webdriver as wb\n",
    "from selenium.webdriver.common.keys import Keys\n",
    "from selenium.webdriver.common.by import By\n",
    "import time\n",
    "import pandas as pd"
   ]
  },
  {
   "cell_type": "code",
   "execution_count": null,
   "id": "2dfb0879",
   "metadata": {},
   "outputs": [],
   "source": [
    "# 1. 크롬브라우저 실행\n",
    "# 1.1 한솥 메뉴사이트로 이동"
   ]
  },
  {
   "cell_type": "code",
   "execution_count": null,
   "id": "96f33394",
   "metadata": {},
   "outputs": [],
   "source": [
    "driver = wb.Chrome()\n",
    "driver.get(\"https://www.hsd.co.kr/menu/menu_list\")"
   ]
  },
  {
   "cell_type": "code",
   "execution_count": null,
   "id": "25982210",
   "metadata": {},
   "outputs": [],
   "source": [
    "name = []\n",
    "price = []\n",
    "nameList = driver.find_elements(By.CLASS_NAME,\"h.fz_03\")\n",
    "priceList = driver.find_elements(By.CLASS_NAME,\"item-price\")\n",
    "for i in nameList:\n",
    "    name.append(i.text)\n",
    "\n",
    "for i in priceList:\n",
    "    price.append(i.text)\n"
   ]
  },
  {
   "cell_type": "code",
   "execution_count": null,
   "id": "35faa381",
   "metadata": {},
   "outputs": [],
   "source": [
    "len(name)"
   ]
  },
  {
   "cell_type": "code",
   "execution_count": null,
   "id": "10570d07",
   "metadata": {},
   "outputs": [],
   "source": [
    "len(price)"
   ]
  },
  {
   "cell_type": "code",
   "execution_count": null,
   "id": "b419421e",
   "metadata": {},
   "outputs": [],
   "source": [
    "data = {\"상품명\":name,\"가격\":price}"
   ]
  },
  {
   "cell_type": "code",
   "execution_count": null,
   "id": "064f3a0f",
   "metadata": {},
   "outputs": [],
   "source": [
    "pd.DataFrame(data)"
   ]
  },
  {
   "cell_type": "code",
   "execution_count": null,
   "id": "72af9e1a",
   "metadata": {},
   "outputs": [],
   "source": [
    "# By.CSS_SELECTOR = 선택자를 직접 명시할 때 사용\n",
    "# 주의점! 아이디는 #, 클래스 ., 키워드를 항상 명시해야 한다!\n",
    "\n",
    "priceList = driver.find_elements(By.CSS_SELECTOR,\".item-price > strong\")\n",
    "for i in priceList:\n",
    "    print(i.text)"
   ]
  },
  {
   "cell_type": "code",
   "execution_count": null,
   "id": "ae220459",
   "metadata": {},
   "outputs": [],
   "source": [
    "# 더보기 버튼을 끝까지 누루는 로직\n",
    "more = driver.find_elements(By.CLASS_NAME,\"btn_wrap.btn_more\")\n",
    "if "
   ]
  },
  {
   "cell_type": "code",
   "execution_count": null,
   "id": "dcf188c0",
   "metadata": {},
   "outputs": [],
   "source": [
    "#btn_more > span > a"
   ]
  },
  {
   "cell_type": "code",
   "execution_count": null,
   "id": "dc3df933",
   "metadata": {},
   "outputs": [],
   "source": [
    "btn = driver.find_element(By.CSS_SELECTOR,\"#btn_more > span > a\")"
   ]
  },
  {
   "cell_type": "code",
   "execution_count": null,
   "id": "dcba3640",
   "metadata": {},
   "outputs": [],
   "source": [
    "while True:\n",
    "    btn = driver.find_element(By.CSS_SELECTOR,\"#btn_more > span > a\")\n",
    "    btn.click()\n",
    "    time.sleep(1)"
   ]
  },
  {
   "cell_type": "code",
   "execution_count": null,
   "id": "6de1d273",
   "metadata": {},
   "outputs": [],
   "source": [
    "try :\n",
    "    while True :\n",
    "        btn = driver.find_element(By.CSS_SELECTOR,\"#btn_more > span > a\")\n",
    "        btn.click()\n",
    "        time.sleep(1)\n",
    "except :\n",
    "    print(\"더보기 완료!\")"
   ]
  },
  {
   "cell_type": "markdown",
   "id": "757281d6",
   "metadata": {},
   "source": [
    "# 한셀에 완벽한 크롤링 코드 짜기"
   ]
  },
  {
   "cell_type": "code",
   "execution_count": null,
   "id": "14f323d1",
   "metadata": {},
   "outputs": [],
   "source": [
    "# 1. 크롬창 실행 후 > 한솥메뉴사이트 요청\n",
    "# 2. 더보기를 끝까지 누르는 로지크\n",
    "# 3. 가격정보,메뉴명을 수집\n",
    "# 4. 순수한 텍스트 정보만 추출 - 비어있는 리스트에 append작업\n",
    "# 5. 데이터 프레임 제작\n",
    "# 6. 판다스\n",
    "# 7. 한글이 깨지지 않고 csv파일을 제작하는 것이 목표!"
   ]
  },
  {
   "cell_type": "code",
   "execution_count": 16,
   "id": "400b332d",
   "metadata": {
    "scrolled": true
   },
   "outputs": [],
   "source": [
    "from selenium import webdriver as wb\n",
    "from selenium.webdriver.common.by import By\n",
    "from selenium.webdriver.common.keys import Keys\n",
    "import time\n",
    "import pandas as pd\n",
    "\n",
    "driver = wb.Chrome()\n",
    "driver.get(\"https://www.hsd.co.kr/menu/menu_list\")\n",
    "time.sleep(1)\n",
    "driver.maximize_window()\n",
    "try:\n",
    "    while True:\n",
    "        btn= driver.find_element(By.CSS_SELECTOR,\"#btn_more > span > a\")\n",
    "        btn.click()\n",
    "        time.sleep(1)\n",
    "except:\n",
    "    pass\n",
    "\n",
    "\n",
    "name = driver.find_elements(By.CLASS_NAME,\"h.fz_03\")\n",
    "price = driver.find_elements(By.CSS_SELECTOR,\"div.item-text > div > strong\")\n",
    "\n",
    "nameList = []\n",
    "priceList = []\n",
    "\n",
    "for i in name:\n",
    "    nameList.append(i.text)\n",
    "for i in price:\n",
    "    priceList.append(i.text)\n",
    "    \n",
    "data = {\"메뉴명\":nameList,\"가격\":priceList}    \n",
    "hansot = pd.DataFrame(data)\n",
    "\n",
    "hansot.to_csv(\"한솥.csv\",encoding='euc-kr')\n",
    "\n",
    "driver.close()"
   ]
  },
  {
   "cell_type": "markdown",
   "id": "59eb668e",
   "metadata": {},
   "source": [
    "# 선택자 한번에 복사해오는 방법\n",
    "- F12개발자 도구에서 원하는 요소 찾기\n",
    "- 마우스 우클릭 > copy > copy selector\n",
    "- [주의점]\n",
    "- copy selector를 사용시 무조건 선택한 하나만 가지고옴\n",
    "- 복수개를 요청할때는 선택자의 수정이 필요함\n",
    "- ex) li:nth-child(3) > a 는 하나만 요청 / 복수개로 변경시에는 li > a 로 수정!"
   ]
  },
  {
   "cell_type": "markdown",
   "id": "f451cba8",
   "metadata": {},
   "source": [
    "# ActionChain"
   ]
  },
  {
   "cell_type": "code",
   "execution_count": 17,
   "id": "a04688a2",
   "metadata": {},
   "outputs": [],
   "source": [
    "# 이벤트를 묶어서 실행하는 라이브러리\n",
    "from selenium.webdriver import ActionChains"
   ]
  },
  {
   "cell_type": "code",
   "execution_count": 18,
   "id": "19763ba5",
   "metadata": {},
   "outputs": [],
   "source": [
    "driver = wb.Chrome()\n",
    "driver.get(\"https://www.hsd.co.kr/\")\n",
    "driver.maximize_window()\n",
    "# 1. 메뉴탭에 마우스를 올리기!\n",
    "# 2. 올린 상태에서 전체 메뉴를 클릭\n",
    "menu = driver.find_element(By.CSS_SELECTOR,\"#gnb > div.gnb_menu > ul > li:nth-child(3) > p > a\")\n",
    "allList = driver.find_element(By.CSS_SELECTOR,\"#gnb > div.gnb_menu > ul > li:nth-child(3) > div > ul > li:nth-child(1) > a\")\n",
    "ActionChains(driver).move_to_element(menu).click(allList).perform"
   ]
  },
  {
   "cell_type": "markdown",
   "id": "d08b58b3",
   "metadata": {},
   "source": [
    "## 화면에 크롬창이 안보이게 실행(백그라운드)\n",
    "- 크롬 옵션을 설정\n",
    "- 크롬드라이버의 경로를 반드시 명시!"
   ]
  },
  {
   "cell_type": "code",
   "execution_count": 5,
   "id": "41cb67f1",
   "metadata": {},
   "outputs": [
    {
     "name": "stderr",
     "output_type": "stream",
     "text": [
      "C:\\Users\\AI\\AppData\\Local\\Temp\\ipykernel_8692\\3568581872.py:10: DeprecationWarning: executable_path has been deprecated, please pass in a Service object\n",
      "  driver = wb.Chrome(executable_path=\"C:/Users/AI/A.Crawling/chromedriver.exe\",chrome_options= options)\n",
      "C:\\Users\\AI\\AppData\\Local\\Temp\\ipykernel_8692\\3568581872.py:10: DeprecationWarning: use options instead of chrome_options\n",
      "  driver = wb.Chrome(executable_path=\"C:/Users/AI/A.Crawling/chromedriver.exe\",chrome_options= options)\n"
     ]
    },
    {
     "name": "stdout",
     "output_type": "stream",
     "text": [
      "               메뉴명     가격\n",
      "0       오븐구이 오리도시락  6,900\n",
      "1     열무 감초고추장 비빔밥  4,500\n",
      "2     열무 두부강된장 비빔밥  4,900\n",
      "3      핫 치즈 닭갈비 덮밥  5,900\n",
      "4   오리지널 치즈 닭갈비 덮밥  5,900\n",
      "..             ...    ...\n",
      "88         무말랭이 무침    300\n",
      "89             한솥밥  1,000\n",
      "90             현미밥  1,700\n",
      "91      리얼 티라미수 찰떡  1,500\n",
      "92        리얼꿀 미니호떡  2,200\n",
      "\n",
      "[93 rows x 2 columns]\n"
     ]
    }
   ],
   "source": [
    "from selenium import webdriver as wb\n",
    "from selenium.webdriver.common.by import By\n",
    "from selenium.webdriver.common.keys import Keys\n",
    "import time\n",
    "import pandas as pd\n",
    "#---------------------------------\n",
    "options = wb.ChromeOptions()\n",
    "options.add_argument(\"headless\")\n",
    "#---------------------------------\n",
    "driver = wb.Chrome(executable_path=\"C:/Users/AI/A.Crawling/chromedriver.exe\",chrome_options= options)\n",
    "driver.get(\"https://www.hsd.co.kr/menu/menu_list\")\n",
    "time.sleep(1)\n",
    "driver.maximize_window()\n",
    "try:\n",
    "    while True:\n",
    "        btn= driver.find_element(By.CSS_SELECTOR,\"#btn_more > span > a\")\n",
    "        btn.click()\n",
    "        time.sleep(1)\n",
    "except:\n",
    "    pass\n",
    "name = driver.find_elements(By.CLASS_NAME,\"h.fz_03\")\n",
    "price = driver.find_elements(By.CSS_SELECTOR,\"div.item-text > div > strong\")\n",
    "nameList = []\n",
    "priceList = []\n",
    "for i in name:\n",
    "    nameList.append(i.text)\n",
    "for i in price:\n",
    "    priceList.append(i.text)    \n",
    "data = {\"메뉴명\":nameList,\"가격\":priceList}    \n",
    "hansot = pd.DataFrame(data)\n",
    "print(hansot)\n",
    "driver.close()"
   ]
  },
  {
   "cell_type": "code",
   "execution_count": null,
   "id": "fcd4b781",
   "metadata": {},
   "outputs": [],
   "source": []
  }
 ],
 "metadata": {
  "kernelspec": {
   "display_name": "Python 3 (ipykernel)",
   "language": "python",
   "name": "python3"
  },
  "language_info": {
   "codemirror_mode": {
    "name": "ipython",
    "version": 3
   },
   "file_extension": ".py",
   "mimetype": "text/x-python",
   "name": "python",
   "nbconvert_exporter": "python",
   "pygments_lexer": "ipython3",
   "version": "3.9.12"
  },
  "toc": {
   "base_numbering": 1,
   "nav_menu": {},
   "number_sections": true,
   "sideBar": true,
   "skip_h1_title": false,
   "title_cell": "Table of Contents",
   "title_sidebar": "Contents",
   "toc_cell": false,
   "toc_position": {},
   "toc_section_display": true,
   "toc_window_display": false
  }
 },
 "nbformat": 4,
 "nbformat_minor": 5
}
