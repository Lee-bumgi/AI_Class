{
 "cells": [
  {
   "cell_type": "code",
   "execution_count": 1,
   "id": "16a10720",
   "metadata": {},
   "outputs": [],
   "source": [
    "from selenium import webdriver as wb\n",
    "from selenium.webdriver.common.by import By\n",
    "import time"
   ]
  },
  {
   "cell_type": "code",
   "execution_count": 33,
   "id": "f6ca9ff3",
   "metadata": {},
   "outputs": [],
   "source": [
    "driver = wb.Chrome()\n",
    "driver.get(\"http://corners.gmarket.co.kr/Bestsellers\")"
   ]
  },
  {
   "cell_type": "code",
   "execution_count": 32,
   "id": "f4e18112",
   "metadata": {},
   "outputs": [],
   "source": [
    "#1. 첫번째 상품 클릭\n",
    "img = driver.find_elements(By.CLASS_NAME,\"lazy\")\n",
    "img[5].click()"
   ]
  },
  {
   "cell_type": "code",
   "execution_count": null,
   "id": "3f1a861d",
   "metadata": {},
   "outputs": [],
   "source": [
    "# 상품명, 상품가격정보를 수집"
   ]
  },
  {
   "cell_type": "code",
   "execution_count": 27,
   "id": "a6fbd8fc",
   "metadata": {},
   "outputs": [
    {
     "data": {
      "text/plain": [
       "'제스프리 제스프리 썬골드키위 특대과 3.2kg(23~25과 개당 130g~140g내외)+스푼3개'"
      ]
     },
     "execution_count": 27,
     "metadata": {},
     "output_type": "execute_result"
    }
   ],
   "source": [
    "title = driver.find_element(By.CLASS_NAME,\"itemtit\")\n",
    "title.text"
   ]
  },
  {
   "cell_type": "code",
   "execution_count": 28,
   "id": "e119961d",
   "metadata": {},
   "outputs": [
    {
     "data": {
      "text/plain": [
       "'27,740원'"
      ]
     },
     "execution_count": 28,
     "metadata": {},
     "output_type": "execute_result"
    }
   ],
   "source": [
    "price = driver.find_element(By.CLASS_NAME,\"price_real\")\n",
    "price.text"
   ]
  },
  {
   "cell_type": "code",
   "execution_count": 29,
   "id": "6e1d79b0",
   "metadata": {},
   "outputs": [],
   "source": [
    "# 페이지 뒤로가기\n",
    "driver.back()"
   ]
  },
  {
   "cell_type": "code",
   "execution_count": 35,
   "id": "19b70a15",
   "metadata": {
    "collapsed": true
   },
   "outputs": [
    {
     "ename": "WebDriverException",
     "evalue": "Message: unknown error: cannot determine loading status\nfrom unknown error: unexpected command response\n  (Session info: chrome=103.0.5060.114)\nStacktrace:\nBacktrace:\n\tOrdinal0 [0x002E6463+2188387]\n\tOrdinal0 [0x0027E461+1762401]\n\tOrdinal0 [0x00193D78+802168]\n\tOrdinal0 [0x00187210+750096]\n\tOrdinal0 [0x0018675A+747354]\n\tOrdinal0 [0x00185D3F+744767]\n\tOrdinal0 [0x00184C28+740392]\n\tOrdinal0 [0x00185228+741928]\n\tOrdinal0 [0x0018F153+782675]\n\tOrdinal0 [0x00199FBB+827323]\n\tOrdinal0 [0x0019D310+840464]\n\tOrdinal0 [0x001854F6+742646]\n\tOrdinal0 [0x00199BF3+826355]\n\tOrdinal0 [0x001ECF6D+1167213]\n\tOrdinal0 [0x001DC5F6+1099254]\n\tOrdinal0 [0x001B6BE0+945120]\n\tOrdinal0 [0x001B7AD6+948950]\n\tGetHandleVerifier [0x005871F2+2712546]\n\tGetHandleVerifier [0x0057886D+2652765]\n\tGetHandleVerifier [0x0037002A+520730]\n\tGetHandleVerifier [0x0036EE06+516086]\n\tOrdinal0 [0x0028468B+1787531]\n\tOrdinal0 [0x00288E88+1805960]\n\tOrdinal0 [0x00288F75+1806197]\n\tOrdinal0 [0x00291DF1+1842673]\n\tBaseThreadInitThunk [0x76DE6739+25]\n\tRtlGetFullPathName_UEx [0x776C8FEF+1215]\n\tRtlGetFullPathName_UEx [0x776C8FBD+1165]\n\t(No symbol) [0x00000000]\n",
     "output_type": "error",
     "traceback": [
      "\u001b[1;31m---------------------------------------------------------------------------\u001b[0m",
      "\u001b[1;31mWebDriverException\u001b[0m                        Traceback (most recent call last)",
      "Input \u001b[1;32mIn [35]\u001b[0m, in \u001b[0;36m<cell line: 4>\u001b[1;34m()\u001b[0m\n\u001b[0;32m      5\u001b[0m time\u001b[38;5;241m.\u001b[39msleep(\u001b[38;5;241m1\u001b[39m)\n\u001b[0;32m      6\u001b[0m img \u001b[38;5;241m=\u001b[39m driver\u001b[38;5;241m.\u001b[39mfind_elements(By\u001b[38;5;241m.\u001b[39mCLASS_NAME,\u001b[38;5;124m\"\u001b[39m\u001b[38;5;124mlazy\u001b[39m\u001b[38;5;124m\"\u001b[39m)\n\u001b[1;32m----> 7\u001b[0m \u001b[43mimg\u001b[49m\u001b[43m[\u001b[49m\u001b[43mi\u001b[49m\u001b[43m]\u001b[49m\u001b[38;5;241;43m.\u001b[39;49m\u001b[43mclick\u001b[49m\u001b[43m(\u001b[49m\u001b[43m)\u001b[49m\n\u001b[0;32m      8\u001b[0m time\u001b[38;5;241m.\u001b[39msleep(\u001b[38;5;241m1\u001b[39m)\n\u001b[0;32m      9\u001b[0m title \u001b[38;5;241m=\u001b[39m driver\u001b[38;5;241m.\u001b[39mfind_element(By\u001b[38;5;241m.\u001b[39mCLASS_NAME,\u001b[38;5;124m\"\u001b[39m\u001b[38;5;124mitemtit\u001b[39m\u001b[38;5;124m\"\u001b[39m)\n",
      "File \u001b[1;32m~\\anaconda3\\lib\\site-packages\\selenium\\webdriver\\remote\\webelement.py:88\u001b[0m, in \u001b[0;36mWebElement.click\u001b[1;34m(self)\u001b[0m\n\u001b[0;32m     86\u001b[0m \u001b[38;5;28;01mdef\u001b[39;00m \u001b[38;5;21mclick\u001b[39m(\u001b[38;5;28mself\u001b[39m) \u001b[38;5;241m-\u001b[39m\u001b[38;5;241m>\u001b[39m \u001b[38;5;28;01mNone\u001b[39;00m:\n\u001b[0;32m     87\u001b[0m     \u001b[38;5;124;03m\"\"\"Clicks the element.\"\"\"\u001b[39;00m\n\u001b[1;32m---> 88\u001b[0m     \u001b[38;5;28;43mself\u001b[39;49m\u001b[38;5;241;43m.\u001b[39;49m\u001b[43m_execute\u001b[49m\u001b[43m(\u001b[49m\u001b[43mCommand\u001b[49m\u001b[38;5;241;43m.\u001b[39;49m\u001b[43mCLICK_ELEMENT\u001b[49m\u001b[43m)\u001b[49m\n",
      "File \u001b[1;32m~\\anaconda3\\lib\\site-packages\\selenium\\webdriver\\remote\\webelement.py:396\u001b[0m, in \u001b[0;36mWebElement._execute\u001b[1;34m(self, command, params)\u001b[0m\n\u001b[0;32m    394\u001b[0m     params \u001b[38;5;241m=\u001b[39m {}\n\u001b[0;32m    395\u001b[0m params[\u001b[38;5;124m'\u001b[39m\u001b[38;5;124mid\u001b[39m\u001b[38;5;124m'\u001b[39m] \u001b[38;5;241m=\u001b[39m \u001b[38;5;28mself\u001b[39m\u001b[38;5;241m.\u001b[39m_id\n\u001b[1;32m--> 396\u001b[0m \u001b[38;5;28;01mreturn\u001b[39;00m \u001b[38;5;28;43mself\u001b[39;49m\u001b[38;5;241;43m.\u001b[39;49m\u001b[43m_parent\u001b[49m\u001b[38;5;241;43m.\u001b[39;49m\u001b[43mexecute\u001b[49m\u001b[43m(\u001b[49m\u001b[43mcommand\u001b[49m\u001b[43m,\u001b[49m\u001b[43m \u001b[49m\u001b[43mparams\u001b[49m\u001b[43m)\u001b[49m\n",
      "File \u001b[1;32m~\\anaconda3\\lib\\site-packages\\selenium\\webdriver\\remote\\webdriver.py:435\u001b[0m, in \u001b[0;36mWebDriver.execute\u001b[1;34m(self, driver_command, params)\u001b[0m\n\u001b[0;32m    433\u001b[0m response \u001b[38;5;241m=\u001b[39m \u001b[38;5;28mself\u001b[39m\u001b[38;5;241m.\u001b[39mcommand_executor\u001b[38;5;241m.\u001b[39mexecute(driver_command, params)\n\u001b[0;32m    434\u001b[0m \u001b[38;5;28;01mif\u001b[39;00m response:\n\u001b[1;32m--> 435\u001b[0m     \u001b[38;5;28;43mself\u001b[39;49m\u001b[38;5;241;43m.\u001b[39;49m\u001b[43merror_handler\u001b[49m\u001b[38;5;241;43m.\u001b[39;49m\u001b[43mcheck_response\u001b[49m\u001b[43m(\u001b[49m\u001b[43mresponse\u001b[49m\u001b[43m)\u001b[49m\n\u001b[0;32m    436\u001b[0m     response[\u001b[38;5;124m'\u001b[39m\u001b[38;5;124mvalue\u001b[39m\u001b[38;5;124m'\u001b[39m] \u001b[38;5;241m=\u001b[39m \u001b[38;5;28mself\u001b[39m\u001b[38;5;241m.\u001b[39m_unwrap_value(\n\u001b[0;32m    437\u001b[0m         response\u001b[38;5;241m.\u001b[39mget(\u001b[38;5;124m'\u001b[39m\u001b[38;5;124mvalue\u001b[39m\u001b[38;5;124m'\u001b[39m, \u001b[38;5;28;01mNone\u001b[39;00m))\n\u001b[0;32m    438\u001b[0m     \u001b[38;5;28;01mreturn\u001b[39;00m response\n",
      "File \u001b[1;32m~\\anaconda3\\lib\\site-packages\\selenium\\webdriver\\remote\\errorhandler.py:247\u001b[0m, in \u001b[0;36mErrorHandler.check_response\u001b[1;34m(self, response)\u001b[0m\n\u001b[0;32m    245\u001b[0m         alert_text \u001b[38;5;241m=\u001b[39m value[\u001b[38;5;124m'\u001b[39m\u001b[38;5;124malert\u001b[39m\u001b[38;5;124m'\u001b[39m]\u001b[38;5;241m.\u001b[39mget(\u001b[38;5;124m'\u001b[39m\u001b[38;5;124mtext\u001b[39m\u001b[38;5;124m'\u001b[39m)\n\u001b[0;32m    246\u001b[0m     \u001b[38;5;28;01mraise\u001b[39;00m exception_class(message, screen, stacktrace, alert_text)  \u001b[38;5;66;03m# type: ignore[call-arg]  # mypy is not smart enough here\u001b[39;00m\n\u001b[1;32m--> 247\u001b[0m \u001b[38;5;28;01mraise\u001b[39;00m exception_class(message, screen, stacktrace)\n",
      "\u001b[1;31mWebDriverException\u001b[0m: Message: unknown error: cannot determine loading status\nfrom unknown error: unexpected command response\n  (Session info: chrome=103.0.5060.114)\nStacktrace:\nBacktrace:\n\tOrdinal0 [0x002E6463+2188387]\n\tOrdinal0 [0x0027E461+1762401]\n\tOrdinal0 [0x00193D78+802168]\n\tOrdinal0 [0x00187210+750096]\n\tOrdinal0 [0x0018675A+747354]\n\tOrdinal0 [0x00185D3F+744767]\n\tOrdinal0 [0x00184C28+740392]\n\tOrdinal0 [0x00185228+741928]\n\tOrdinal0 [0x0018F153+782675]\n\tOrdinal0 [0x00199FBB+827323]\n\tOrdinal0 [0x0019D310+840464]\n\tOrdinal0 [0x001854F6+742646]\n\tOrdinal0 [0x00199BF3+826355]\n\tOrdinal0 [0x001ECF6D+1167213]\n\tOrdinal0 [0x001DC5F6+1099254]\n\tOrdinal0 [0x001B6BE0+945120]\n\tOrdinal0 [0x001B7AD6+948950]\n\tGetHandleVerifier [0x005871F2+2712546]\n\tGetHandleVerifier [0x0057886D+2652765]\n\tGetHandleVerifier [0x0037002A+520730]\n\tGetHandleVerifier [0x0036EE06+516086]\n\tOrdinal0 [0x0028468B+1787531]\n\tOrdinal0 [0x00288E88+1805960]\n\tOrdinal0 [0x00288F75+1806197]\n\tOrdinal0 [0x00291DF1+1842673]\n\tBaseThreadInitThunk [0x76DE6739+25]\n\tRtlGetFullPathName_UEx [0x776C8FEF+1215]\n\tRtlGetFullPathName_UEx [0x776C8FBD+1165]\n\t(No symbol) [0x00000000]\n"
     ]
    }
   ],
   "source": [
    "# 상품 10개를 수집!\n",
    "titleList = []\n",
    "priceList = []\n",
    "for i in range(10) :\n",
    "    img = driver.find_elements(By.CLASS_NAME,\"lazy\")\n",
    "    img[i].click()\n",
    "    # 중간중간 코드에 쉬는 시간을 부여\n",
    "    # 서버에게 부담을 주지 않기 위해서\n",
    "    # 화면에 전환이 있었을 때(클라와 서버가 통신)\n",
    "    # time.sleep() = 무조건 정해진 시간만큼 멈춤\n",
    "    time.sleep(10)\n",
    "    # implicitly_wait(10) = 최대 10초\n",
    "    # html파일을 다 받아오면 그 중간에 멈추고 뒤코드를 실행\n",
    "    driver.implicitly_wait(10)                          \n",
    "    title = driver.find_element(By.CLASS_NAME,\"itemtit\")\n",
    "    titleList.append(title.text)\n",
    "    price = driver.find_element(By.CLASS_NAME,\"price_real\")\n",
    "    priceList.append(price.text)\n",
    "    driver.back()\n",
    "    time.sleep(3)"
   ]
  }
 ],
 "metadata": {
  "kernelspec": {
   "display_name": "Python 3 (ipykernel)",
   "language": "python",
   "name": "python3"
  },
  "language_info": {
   "codemirror_mode": {
    "name": "ipython",
    "version": 3
   },
   "file_extension": ".py",
   "mimetype": "text/x-python",
   "name": "python",
   "nbconvert_exporter": "python",
   "pygments_lexer": "ipython3",
   "version": "3.9.12"
  },
  "toc": {
   "base_numbering": 1,
   "nav_menu": {},
   "number_sections": true,
   "sideBar": true,
   "skip_h1_title": false,
   "title_cell": "Table of Contents",
   "title_sidebar": "Contents",
   "toc_cell": false,
   "toc_position": {},
   "toc_section_display": true,
   "toc_window_display": false
  }
 },
 "nbformat": 4,
 "nbformat_minor": 5
}
