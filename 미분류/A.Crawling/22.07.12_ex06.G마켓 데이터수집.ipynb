{
 "cells": [
  {
   "cell_type": "code",
   "execution_count": 50,
   "id": "2a947f13",
   "metadata": {},
   "outputs": [],
   "source": [
    "from selenium import webdriver as wb\n",
    "from selenium.webdriver.common.by import By\n",
    "import time\n",
    "from tqdm import tqdm_notebook as tq"
   ]
  },
  {
   "cell_type": "code",
   "execution_count": 51,
   "id": "60650894",
   "metadata": {},
   "outputs": [],
   "source": [
    "driver = wb.Chrome()\n",
    "driver.get(\"http://corners.gmarket.co.kr/Bestsellers\")"
   ]
  },
  {
   "cell_type": "code",
   "execution_count": 52,
   "id": "ff9f48e1",
   "metadata": {},
   "outputs": [],
   "source": [
    "# 1. 첫번째 상품 클릭\n",
    "# img = driver.find_elements(By.CLASS_NAME,'lazy')\n",
    "# img[0].click()"
   ]
  },
  {
   "cell_type": "code",
   "execution_count": 53,
   "id": "ad7f4d46",
   "metadata": {},
   "outputs": [
    {
     "name": "stderr",
     "output_type": "stream",
     "text": [
      "C:\\Users\\AI\\AppData\\Local\\Temp\\ipykernel_15644\\2856802394.py:4: TqdmDeprecationWarning: This function will be removed in tqdm==5.0.0\n",
      "Please use `tqdm.notebook.tqdm` instead of `tqdm.tqdm_notebook`\n",
      "  for i in tq(range(0,10)):\n"
     ]
    },
    {
     "data": {
      "application/vnd.jupyter.widget-view+json": {
       "model_id": "9165e84309a9499caa6f5f5bc6e7643e",
       "version_major": 2,
       "version_minor": 0
      },
      "text/plain": [
       "  0%|          | 0/10 [00:00<?, ?it/s]"
      ]
     },
     "metadata": {},
     "output_type": "display_data"
    },
    {
     "name": "stdout",
     "output_type": "stream",
     "text": [
      "['진짜진짜 촉촉한 올리브 토너 2개 + 로션 1개/+사은품', '제스프리 제스프리 썬골드키위 특대과 3.2kg(23~25과 개당 130g~140g내외)+스푼3개', '도드람한돈 생 삼겹살 500g 구이용', '완도 전복 쿠폰가 26340 초복 선물용 횟감용 14-16미 1KG 더큰 전복 국내산', '소문난오부자 재래도시락김5g 72봉 최근생산', '올반 볶음밥 3종 10봉(새우4+김치4+우삼겹2)', '소울키친 빅마마 이혜정의 시크릿코인 205개', '올반 아삭김치 볶음밥 220g X 10팩 (팩 당 1인분)', '포스트 단백질바 500gX2개+사은품: 13660원 쿠폰가~', '(추가할인+사은품) 책과함께 떠나는 북캉스 추천도서 188종 선택/무료배송']\n",
      "['10,500원', '27,740원', '11,900원', '30,000원', '18,900원', '15,700원', '55,640원', '15,700원', '16,500원', '3,900원']\n"
     ]
    }
   ],
   "source": [
    "# 상품명, 상품가격정보를 수집\n",
    "prod=[]\n",
    "price =[]\n",
    "for i in tq(range(0,10)):\n",
    "    img = driver.find_elements(By.CLASS_NAME,'lazy')\n",
    "    img[i].click()\n",
    "    time.sleep(1.2)\n",
    "    # 최대 10초 기다려줌.\n",
    "    # html파일을 다 받아오면 그 중간에 멈추고 뒤 코드를 실행\n",
    "    # js나 css 파일을 받아와야 한다면 좋지 않을 수 있다.\n",
    "    # driver.implicitly_wait(10)\n",
    "    product = driver.find_element(By.CLASS_NAME,'itemtit')\n",
    "    prod.append(product.text)\n",
    "    real_price = driver.find_element(By.CLASS_NAME,'price_real')\n",
    "    price.append(real_price.text)\n",
    "    driver.back()\n",
    "    time.sleep(1.2)\n",
    "print(prod)\n",
    "print(price)"
   ]
  },
  {
   "cell_type": "code",
   "execution_count": 43,
   "id": "f17f3a61",
   "metadata": {},
   "outputs": [],
   "source": [
    "import pandas as pd"
   ]
  },
  {
   "cell_type": "code",
   "execution_count": 56,
   "id": "92b99e31",
   "metadata": {},
   "outputs": [
    {
     "data": {
      "text/html": [
       "<div>\n",
       "<style scoped>\n",
       "    .dataframe tbody tr th:only-of-type {\n",
       "        vertical-align: middle;\n",
       "    }\n",
       "\n",
       "    .dataframe tbody tr th {\n",
       "        vertical-align: top;\n",
       "    }\n",
       "\n",
       "    .dataframe thead th {\n",
       "        text-align: right;\n",
       "    }\n",
       "</style>\n",
       "<table border=\"1\" class=\"dataframe\">\n",
       "  <thead>\n",
       "    <tr style=\"text-align: right;\">\n",
       "      <th></th>\n",
       "      <th>제목</th>\n",
       "      <th>가격</th>\n",
       "    </tr>\n",
       "  </thead>\n",
       "  <tbody>\n",
       "    <tr>\n",
       "      <th>0</th>\n",
       "      <td>진짜진짜 촉촉한 올리브 토너 2개 + 로션 1개/+사은품</td>\n",
       "      <td>10,500원</td>\n",
       "    </tr>\n",
       "    <tr>\n",
       "      <th>1</th>\n",
       "      <td>제스프리 제스프리 썬골드키위 특대과 3.2kg(23~25과 개당 130g~140g내...</td>\n",
       "      <td>27,740원</td>\n",
       "    </tr>\n",
       "    <tr>\n",
       "      <th>2</th>\n",
       "      <td>도드람한돈 생 삼겹살 500g 구이용</td>\n",
       "      <td>11,900원</td>\n",
       "    </tr>\n",
       "    <tr>\n",
       "      <th>3</th>\n",
       "      <td>완도 전복 쿠폰가 26340 초복 선물용 횟감용 14-16미 1KG 더큰 전복 국내산</td>\n",
       "      <td>30,000원</td>\n",
       "    </tr>\n",
       "    <tr>\n",
       "      <th>4</th>\n",
       "      <td>소문난오부자 재래도시락김5g 72봉 최근생산</td>\n",
       "      <td>18,900원</td>\n",
       "    </tr>\n",
       "    <tr>\n",
       "      <th>5</th>\n",
       "      <td>올반 볶음밥 3종 10봉(새우4+김치4+우삼겹2)</td>\n",
       "      <td>15,700원</td>\n",
       "    </tr>\n",
       "    <tr>\n",
       "      <th>6</th>\n",
       "      <td>소울키친 빅마마 이혜정의 시크릿코인 205개</td>\n",
       "      <td>55,640원</td>\n",
       "    </tr>\n",
       "    <tr>\n",
       "      <th>7</th>\n",
       "      <td>올반 아삭김치 볶음밥 220g X 10팩 (팩 당 1인분)</td>\n",
       "      <td>15,700원</td>\n",
       "    </tr>\n",
       "    <tr>\n",
       "      <th>8</th>\n",
       "      <td>포스트 단백질바 500gX2개+사은품: 13660원 쿠폰가~</td>\n",
       "      <td>16,500원</td>\n",
       "    </tr>\n",
       "    <tr>\n",
       "      <th>9</th>\n",
       "      <td>(추가할인+사은품) 책과함께 떠나는 북캉스 추천도서 188종 선택/무료배송</td>\n",
       "      <td>3,900원</td>\n",
       "    </tr>\n",
       "  </tbody>\n",
       "</table>\n",
       "</div>"
      ],
      "text/plain": [
       "                                                  제목       가격\n",
       "0                    진짜진짜 촉촉한 올리브 토너 2개 + 로션 1개/+사은품  10,500원\n",
       "1  제스프리 제스프리 썬골드키위 특대과 3.2kg(23~25과 개당 130g~140g내...  27,740원\n",
       "2                               도드람한돈 생 삼겹살 500g 구이용  11,900원\n",
       "3    완도 전복 쿠폰가 26340 초복 선물용 횟감용 14-16미 1KG 더큰 전복 국내산  30,000원\n",
       "4                           소문난오부자 재래도시락김5g 72봉 최근생산  18,900원\n",
       "5                        올반 볶음밥 3종 10봉(새우4+김치4+우삼겹2)  15,700원\n",
       "6                           소울키친 빅마마 이혜정의 시크릿코인 205개  55,640원\n",
       "7                   올반 아삭김치 볶음밥 220g X 10팩 (팩 당 1인분)  15,700원\n",
       "8                  포스트 단백질바 500gX2개+사은품: 13660원 쿠폰가~  16,500원\n",
       "9          (추가할인+사은품) 책과함께 떠나는 북캉스 추천도서 188종 선택/무료배송   3,900원"
      ]
     },
     "execution_count": 56,
     "metadata": {},
     "output_type": "execute_result"
    }
   ],
   "source": [
    "dic = {\"제목\": prod, \"가격\" : price}\n",
    "pd.DataFrame(dic)"
   ]
  },
  {
   "cell_type": "code",
   "execution_count": null,
   "id": "67db95d9",
   "metadata": {},
   "outputs": [],
   "source": []
  },
  {
   "cell_type": "code",
   "execution_count": null,
   "id": "cf6e5aaf",
   "metadata": {},
   "outputs": [],
   "source": []
  },
  {
   "cell_type": "code",
   "execution_count": null,
   "id": "adcca78a",
   "metadata": {},
   "outputs": [],
   "source": []
  },
  {
   "cell_type": "code",
   "execution_count": null,
   "id": "51014de2",
   "metadata": {},
   "outputs": [],
   "source": []
  },
  {
   "cell_type": "code",
   "execution_count": null,
   "id": "81f4a3e7",
   "metadata": {},
   "outputs": [],
   "source": []
  }
 ],
 "metadata": {
  "kernelspec": {
   "display_name": "Python 3 (ipykernel)",
   "language": "python",
   "name": "python3"
  },
  "language_info": {
   "codemirror_mode": {
    "name": "ipython",
    "version": 3
   },
   "file_extension": ".py",
   "mimetype": "text/x-python",
   "name": "python",
   "nbconvert_exporter": "python",
   "pygments_lexer": "ipython3",
   "version": "3.9.12"
  },
  "toc": {
   "base_numbering": 1,
   "nav_menu": {},
   "number_sections": true,
   "sideBar": true,
   "skip_h1_title": false,
   "title_cell": "Table of Contents",
   "title_sidebar": "Contents",
   "toc_cell": false,
   "toc_position": {},
   "toc_section_display": true,
   "toc_window_display": false
  }
 },
 "nbformat": 4,
 "nbformat_minor": 5
}
