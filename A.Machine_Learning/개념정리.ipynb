{
 "cells": [
  {
   "cell_type": "code",
   "execution_count": null,
   "id": "bc992579",
   "metadata": {},
   "outputs": [],
   "source": []
  },
  {
   "cell_type": "markdown",
   "id": "bde75fde",
   "metadata": {},
   "source": [
    "빅데이터\n",
    "\n",
    "수집, 저장 \n",
    "시각화\n",
    "데이터 전처리\n",
    "데이터 분석\n",
    "\n",
    "\n",
    "입력 ---출력 사이의\n",
    "수식, 조건문으로 증명하는 과정이 있다\n",
    "\n",
    "학습 모델 추론\n"
   ]
  },
  {
   "cell_type": "code",
   "execution_count": null,
   "id": "50d5090a",
   "metadata": {},
   "outputs": [],
   "source": []
  },
  {
   "cell_type": "markdown",
   "id": "5a5ea1ef",
   "metadata": {},
   "source": [
    "특성데이터와 라벨데이터 사이의 관계를 찾아내는 작업\n",
    "\n",
    "지도학습:\n",
    "데이터에 대한 라벨값, 특성값을 다 넣어주고 학습시키는것\n",
    "분류와  회귀로 나뉜다.\n",
    "\n",
    "분류 =범주형 데이터중에 어떤 클래스에 속하는지 찾아내는것\n",
    "\n",
    "회귀 = 결과값이 수치로 나온다.매출액, 성적 등\n",
    "\n",
    "\n",
    "분류는 정확도\n",
    "회귀의 평가도구는 오차\n",
    "를 사용한다.\n",
    "\n",
    "비지도학습:\n",
    "라벨링 작업을 해주는것\n",
    "\n",
    "비지도학습이유:\n",
    "1.현실데이터는 라벨이 없다.\n",
    "2.사람의 주관이 개입되서 데이터가 달라질수 있다.- 딜러처럼 항상 상태유지,객관성 확보"
   ]
  },
  {
   "cell_type": "code",
   "execution_count": null,
   "id": "97393f09",
   "metadata": {},
   "outputs": [],
   "source": []
  },
  {
   "cell_type": "markdown",
   "id": "b008a9bd",
   "metadata": {},
   "source": [
    "크기를 갖는 숫자형 데이터 : 수치형 데이터\n",
    "\n",
    "나머지 숫자형 데이터 : 범주형 데이터 \n",
    "연산의 의미가 없다.\n",
    "\n",
    "범주형 데이터에 클래스가 존재한다.\n",
    "\n",
    "수치로 되어있다면 일정한 크기로 바꾸어주어야 정확한 데이터 분석이 가능하다.\n",
    "\n",
    "범주형 데이터의 클래스 수를 줄여줘야 정확도가 높아진다.\n",
    "\n",
    "범주형 데이터의 클래스 수는 비슷해야한다.\n",
    "남자의 수 = 여자의 수"
   ]
  },
  {
   "cell_type": "code",
   "execution_count": null,
   "id": "5c2c0403",
   "metadata": {},
   "outputs": [],
   "source": []
  },
  {
   "cell_type": "markdown",
   "id": "e29a2b35",
   "metadata": {},
   "source": [
    "주성분 분석 : 같은 파라미터를 두고 차이를 분석하는 것 \n",
    "독립성 분석 : 각 개별의 특성만 뽑아내서 구분. 목소리(주성- 모든사람들의 목소리를 두고 한사람을 구분,독립) 다 가능하지만 주로 독립 이용"
   ]
  },
  {
   "cell_type": "code",
   "execution_count": null,
   "id": "86d5ea3f",
   "metadata": {},
   "outputs": [],
   "source": []
  }
 ],
 "metadata": {
  "kernelspec": {
   "display_name": "Python 3 (ipykernel)",
   "language": "python",
   "name": "python3"
  },
  "language_info": {
   "codemirror_mode": {
    "name": "ipython",
    "version": 3
   },
   "file_extension": ".py",
   "mimetype": "text/x-python",
   "name": "python",
   "nbconvert_exporter": "python",
   "pygments_lexer": "ipython3",
   "version": "3.9.12"
  },
  "toc": {
   "base_numbering": 1,
   "nav_menu": {},
   "number_sections": true,
   "sideBar": true,
   "skip_h1_title": false,
   "title_cell": "Table of Contents",
   "title_sidebar": "Contents",
   "toc_cell": false,
   "toc_position": {},
   "toc_section_display": true,
   "toc_window_display": false
  }
 },
 "nbformat": 4,
 "nbformat_minor": 5
}
